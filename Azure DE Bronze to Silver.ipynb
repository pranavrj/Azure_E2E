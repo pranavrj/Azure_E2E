{
 "cells": [
  {
   "cell_type": "code",
   "execution_count": 0,
   "metadata": {
    "application/vnd.databricks.v1+cell": {
     "cellMetadata": {
      "byteLimit": 2048000,
      "rowLimit": 10000
     },
     "inputWidgets": {},
     "nuid": "f686ad62-3971-45ad-a49c-dc7d6dbecf7e",
     "showTitle": false,
     "title": ""
    }
   },
   "outputs": [
    {
     "output_type": "stream",
     "name": "stdout",
     "output_type": "stream",
     "text": [
      "Out[1]: True"
     ]
    }
   ],
   "source": [
    "configs = {\"fs.azure.account.auth.type\": \"CustomAccessToken\",\n",
    "          \"fs.azure.account.custom.token.provider.class\": spark.conf.get(\"spark.databricks.passthrough.adls.gen2.tokenProviderClassName\")\n",
    "}\n",
    "# Optionally, you can add <directory-name> to the source URI of your mount point.\n",
    "dbutils.fs.mount(\n",
    "    source = \"abfss://bronze@azuredataengineering96.dfs.core.windows.net\",\n",
    "    mount_point = \"/mnt/bronze\",\n",
    "    extra_configs = configs)"
   ]
  },
  {
   "cell_type": "code",
   "execution_count": 0,
   "metadata": {
    "application/vnd.databricks.v1+cell": {
     "cellMetadata": {
      "byteLimit": 2048000,
      "rowLimit": 10000
     },
     "inputWidgets": {},
     "nuid": "9a25b61f-0363-4932-8a20-06a0499fe9fe",
     "showTitle": false,
     "title": ""
    }
   },
   "outputs": [
    {
     "output_type": "display_data",
     "data": {
      "text/html": [
       "<style scoped>\n",
       "  .table-result-container {\n",
       "    max-height: 300px;\n",
       "    overflow: auto;\n",
       "  }\n",
       "  table, th, td {\n",
       "    border: 1px solid black;\n",
       "    border-collapse: collapse;\n",
       "  }\n",
       "  th, td {\n",
       "    padding: 5px;\n",
       "  }\n",
       "  th {\n",
       "    text-align: left;\n",
       "  }\n",
       "</style><div class='table-result-container'><table class='table-result'><thead style='background-color: white'><tr><th>path</th><th>name</th><th>size</th><th>modificationTime</th></tr></thead><tbody><tr><td>dbfs:/mnt/bronze/Sales/CountryRegionCurrency/</td><td>CountryRegionCurrency/</td><td>0</td><td>1693606925000</td></tr><tr><td>dbfs:/mnt/bronze/Sales/CreditCard/</td><td>CreditCard/</td><td>0</td><td>1693606898000</td></tr><tr><td>dbfs:/mnt/bronze/Sales/Currency/</td><td>Currency/</td><td>0</td><td>1693606899000</td></tr><tr><td>dbfs:/mnt/bronze/Sales/CurrencyRate/</td><td>CurrencyRate/</td><td>0</td><td>1693606903000</td></tr><tr><td>dbfs:/mnt/bronze/Sales/Customer/</td><td>Customer/</td><td>0</td><td>1693606900000</td></tr><tr><td>dbfs:/mnt/bronze/Sales/PersonCreditCard/</td><td>PersonCreditCard/</td><td>0</td><td>1693606925000</td></tr><tr><td>dbfs:/mnt/bronze/Sales/SalesOrderDetail/</td><td>SalesOrderDetail/</td><td>0</td><td>1693606903000</td></tr><tr><td>dbfs:/mnt/bronze/Sales/SalesOrderHeader/</td><td>SalesOrderHeader/</td><td>0</td><td>1693606927000</td></tr><tr><td>dbfs:/mnt/bronze/Sales/SalesOrderHeaderSalesReason/</td><td>SalesOrderHeaderSalesReason/</td><td>0</td><td>1693606920000</td></tr><tr><td>dbfs:/mnt/bronze/Sales/SalesPerson/</td><td>SalesPerson/</td><td>0</td><td>1693606903000</td></tr><tr><td>dbfs:/mnt/bronze/Sales/SalesPersonQuotaHistory/</td><td>SalesPersonQuotaHistory/</td><td>0</td><td>1693606898000</td></tr><tr><td>dbfs:/mnt/bronze/Sales/SalesReason/</td><td>SalesReason/</td><td>0</td><td>1693606925000</td></tr><tr><td>dbfs:/mnt/bronze/Sales/SalesTaxRate/</td><td>SalesTaxRate/</td><td>0</td><td>1693606895000</td></tr><tr><td>dbfs:/mnt/bronze/Sales/SalesTerritory/</td><td>SalesTerritory/</td><td>0</td><td>1693606901000</td></tr><tr><td>dbfs:/mnt/bronze/Sales/SalesTerritoryHistory/</td><td>SalesTerritoryHistory/</td><td>0</td><td>1693606898000</td></tr><tr><td>dbfs:/mnt/bronze/Sales/ShoppingCartItem/</td><td>ShoppingCartItem/</td><td>0</td><td>1693606896000</td></tr><tr><td>dbfs:/mnt/bronze/Sales/SpecialOffer/</td><td>SpecialOffer/</td><td>0</td><td>1693606903000</td></tr><tr><td>dbfs:/mnt/bronze/Sales/SpecialOfferProduct/</td><td>SpecialOfferProduct/</td><td>0</td><td>1693606926000</td></tr><tr><td>dbfs:/mnt/bronze/Sales/Store/</td><td>Store/</td><td>0</td><td>1693606915000</td></tr></tbody></table></div>"
      ]
     },
     "metadata": {
      "application/vnd.databricks.v1+output": {
       "addedWidgets": {},
       "aggData": [],
       "aggError": "",
       "aggOverflow": false,
       "aggSchema": [],
       "aggSeriesLimitReached": false,
       "aggType": "",
       "arguments": {},
       "columnCustomDisplayInfos": {},
       "data": [
        [
         "dbfs:/mnt/bronze/Sales/CountryRegionCurrency/",
         "CountryRegionCurrency/",
         0,
         1693606925000
        ],
        [
         "dbfs:/mnt/bronze/Sales/CreditCard/",
         "CreditCard/",
         0,
         1693606898000
        ],
        [
         "dbfs:/mnt/bronze/Sales/Currency/",
         "Currency/",
         0,
         1693606899000
        ],
        [
         "dbfs:/mnt/bronze/Sales/CurrencyRate/",
         "CurrencyRate/",
         0,
         1693606903000
        ],
        [
         "dbfs:/mnt/bronze/Sales/Customer/",
         "Customer/",
         0,
         1693606900000
        ],
        [
         "dbfs:/mnt/bronze/Sales/PersonCreditCard/",
         "PersonCreditCard/",
         0,
         1693606925000
        ],
        [
         "dbfs:/mnt/bronze/Sales/SalesOrderDetail/",
         "SalesOrderDetail/",
         0,
         1693606903000
        ],
        [
         "dbfs:/mnt/bronze/Sales/SalesOrderHeader/",
         "SalesOrderHeader/",
         0,
         1693606927000
        ],
        [
         "dbfs:/mnt/bronze/Sales/SalesOrderHeaderSalesReason/",
         "SalesOrderHeaderSalesReason/",
         0,
         1693606920000
        ],
        [
         "dbfs:/mnt/bronze/Sales/SalesPerson/",
         "SalesPerson/",
         0,
         1693606903000
        ],
        [
         "dbfs:/mnt/bronze/Sales/SalesPersonQuotaHistory/",
         "SalesPersonQuotaHistory/",
         0,
         1693606898000
        ],
        [
         "dbfs:/mnt/bronze/Sales/SalesReason/",
         "SalesReason/",
         0,
         1693606925000
        ],
        [
         "dbfs:/mnt/bronze/Sales/SalesTaxRate/",
         "SalesTaxRate/",
         0,
         1693606895000
        ],
        [
         "dbfs:/mnt/bronze/Sales/SalesTerritory/",
         "SalesTerritory/",
         0,
         1693606901000
        ],
        [
         "dbfs:/mnt/bronze/Sales/SalesTerritoryHistory/",
         "SalesTerritoryHistory/",
         0,
         1693606898000
        ],
        [
         "dbfs:/mnt/bronze/Sales/ShoppingCartItem/",
         "ShoppingCartItem/",
         0,
         1693606896000
        ],
        [
         "dbfs:/mnt/bronze/Sales/SpecialOffer/",
         "SpecialOffer/",
         0,
         1693606903000
        ],
        [
         "dbfs:/mnt/bronze/Sales/SpecialOfferProduct/",
         "SpecialOfferProduct/",
         0,
         1693606926000
        ],
        [
         "dbfs:/mnt/bronze/Sales/Store/",
         "Store/",
         0,
         1693606915000
        ]
       ],
       "datasetInfos": [],
       "dbfsResultPath": null,
       "isJsonSchema": true,
       "metadata": {
        "isDbfsCommandResult": false
       },
       "overflow": false,
       "plotOptions": {
        "customPlotOptions": {},
        "displayType": "table",
        "pivotAggregation": null,
        "pivotColumns": null,
        "xColumns": null,
        "yColumns": null
       },
       "removedWidgets": [],
       "schema": [
        {
         "metadata": "{}",
         "name": "path",
         "type": "\"string\""
        },
        {
         "metadata": "{}",
         "name": "name",
         "type": "\"string\""
        },
        {
         "metadata": "{}",
         "name": "size",
         "type": "\"long\""
        },
        {
         "metadata": "{}",
         "name": "modificationTime",
         "type": "\"long\""
        }
       ],
       "type": "table"
      }
     },
     "output_type": "display_data"
    }
   ],
   "source": [
    "%fs\n",
    "ls \"/mnt/bronze/Sales\""
   ]
  },
  {
   "cell_type": "code",
   "execution_count": 0,
   "metadata": {
    "application/vnd.databricks.v1+cell": {
     "cellMetadata": {
      "byteLimit": 2048000,
      "rowLimit": 10000
     },
     "inputWidgets": {},
     "nuid": "7097bfb1-ebee-432b-9dd0-b33afa7566fd",
     "showTitle": false,
     "title": ""
    }
   },
   "outputs": [
    {
     "output_type": "stream",
     "name": "stdout",
     "output_type": "stream",
     "text": [
      "Out[2]: True"
     ]
    }
   ],
   "source": [
    "configs = {\"fs.azure.account.auth.type\": \"CustomAccessToken\",\n",
    "          \"fs.azure.account.custom.token.provider.class\": spark.conf.get(\"spark.databricks.passthrough.adls.gen2.tokenProviderClassName\")\n",
    "}\n",
    "# Optionally, you can add <directory-name> to the source URI of your mount point.\n",
    "dbutils.fs.mount(\n",
    "    source = \"abfss://silver@azuredataengineering96.dfs.core.windows.net\",\n",
    "    mount_point = \"/mnt/silver\",\n",
    "    extra_configs = configs)"
   ]
  },
  {
   "cell_type": "code",
   "execution_count": 0,
   "metadata": {
    "application/vnd.databricks.v1+cell": {
     "cellMetadata": {
      "byteLimit": 2048000,
      "rowLimit": 10000
     },
     "inputWidgets": {},
     "nuid": "32160839-bbe1-4416-bcea-5533f14e2b4f",
     "showTitle": false,
     "title": ""
    }
   },
   "outputs": [
    {
     "output_type": "stream",
     "name": "stdout",
     "output_type": "stream",
     "text": [
      "Out[3]: True"
     ]
    }
   ],
   "source": [
    "configs = {\"fs.azure.account.auth.type\": \"CustomAccessToken\",\n",
    "          \"fs.azure.account.custom.token.provider.class\": spark.conf.get(\"spark.databricks.passthrough.adls.gen2.tokenProviderClassName\")\n",
    "}\n",
    "# Optionally, you can add <directory-name> to the source URI of your mount point.\n",
    "dbutils.fs.mount(\n",
    "    source = \"abfss://gold@azuredataengineering96.dfs.core.windows.net\",\n",
    "    mount_point = \"/mnt/gold\",\n",
    "    extra_configs = configs)"
   ]
  },
  {
   "cell_type": "code",
   "execution_count": 0,
   "metadata": {
    "application/vnd.databricks.v1+cell": {
     "cellMetadata": {
      "byteLimit": 2048000,
      "rowLimit": 10000
     },
     "inputWidgets": {},
     "nuid": "81f291d5-e985-4164-9216-c0fd25358a7c",
     "showTitle": false,
     "title": ""
    }
   },
   "outputs": [],
   "source": [
    "inputpath1='/mnt/bronze/Sales/SalesTaxRate'"
   ]
  },
  {
   "cell_type": "code",
   "execution_count": 0,
   "metadata": {
    "application/vnd.databricks.v1+cell": {
     "cellMetadata": {
      "byteLimit": 2048000,
      "rowLimit": 10000
     },
     "inputWidgets": {},
     "nuid": "fa2cd64f-bd81-4f2e-af38-ba653383bf02",
     "showTitle": false,
     "title": ""
    }
   },
   "outputs": [],
   "source": [
    "from pyspark.sql.functions import * \n",
    "from pyspark.sql.types import *"
   ]
  },
  {
   "cell_type": "code",
   "execution_count": 0,
   "metadata": {
    "application/vnd.databricks.v1+cell": {
     "cellMetadata": {
      "byteLimit": 2048000,
      "rowLimit": 10000
     },
     "inputWidgets": {},
     "nuid": "6bc89c73-e9b3-4972-8722-1be21eaae82e",
     "showTitle": false,
     "title": ""
    }
   },
   "outputs": [
    {
     "output_type": "display_data",
     "data": {
      "text/html": [
       "<style scoped>\n",
       "  .table-result-container {\n",
       "    max-height: 300px;\n",
       "    overflow: auto;\n",
       "  }\n",
       "  table, th, td {\n",
       "    border: 1px solid black;\n",
       "    border-collapse: collapse;\n",
       "  }\n",
       "  th, td {\n",
       "    padding: 5px;\n",
       "  }\n",
       "  th {\n",
       "    text-align: left;\n",
       "  }\n",
       "</style><div class='table-result-container'><table class='table-result'><thead style='background-color: white'><tr><th>SalesTaxRateID</th><th>StateProvinceID</th><th>TaxType</th><th>TaxRate</th><th>Name</th><th>rowguid</th><th>ModifiedDate</th></tr></thead><tbody><tr><td>1</td><td>1</td><td>1</td><td>14.0000</td><td>Canadian GST + Alberta Provincial Tax</td><td>683de5dd-521a-47d4-a573-06a3cdb1bc5d</td><td>2008-04-30T00:00:00.000+0000</td></tr><tr><td>2</td><td>57</td><td>1</td><td>14.2500</td><td>Canadian GST + Ontario Provincial Tax</td><td>05c4ffdb-4f84-4cdf-abe5-fdf3216ea74e</td><td>2008-04-30T00:00:00.000+0000</td></tr><tr><td>3</td><td>63</td><td>1</td><td>14.2500</td><td>Canadian GST + Quebec Provincial Tax</td><td>d4edb557-56d7-403c-b538-4df5e7302588</td><td>2008-04-30T00:00:00.000+0000</td></tr><tr><td>4</td><td>1</td><td>2</td><td>7.0000</td><td>Canadian GST</td><td>f0d76907-b433-453f-b95e-16fce73b807a</td><td>2008-04-30T00:00:00.000+0000</td></tr><tr><td>5</td><td>57</td><td>2</td><td>7.0000</td><td>Canadian GST</td><td>7e0e97a2-878b-476f-a648-05a3dd4450ed</td><td>2008-04-30T00:00:00.000+0000</td></tr><tr><td>6</td><td>63</td><td>2</td><td>7.0000</td><td>Canadian GST</td><td>1e285d2c-8af7-47aa-b06a-762cf4d93acd</td><td>2008-04-30T00:00:00.000+0000</td></tr><tr><td>7</td><td>7</td><td>3</td><td>7.0000</td><td>Canadian GST</td><td>590ccb14-cb20-49bf-8fee-e0c3abc4c2b1</td><td>2008-04-30T00:00:00.000+0000</td></tr><tr><td>8</td><td>29</td><td>3</td><td>7.0000</td><td>Canadian GST</td><td>a8365f30-78b7-4dbe-8985-f8260560126b</td><td>2008-04-30T00:00:00.000+0000</td></tr><tr><td>9</td><td>31</td><td>3</td><td>7.0000</td><td>Canadian GST</td><td>f4fde24b-7a53-4340-9d10-173e9424864a</td><td>2008-04-30T00:00:00.000+0000</td></tr><tr><td>10</td><td>41</td><td>3</td><td>7.0000</td><td>Canadian GST</td><td>383d465b-e1d1-492a-83f3-ab3e9cbf3282</td><td>2008-04-30T00:00:00.000+0000</td></tr><tr><td>11</td><td>45</td><td>3</td><td>7.0000</td><td>Canadian GST</td><td>8451909f-8a8d-4789-9f87-16a335d28053</td><td>2008-04-30T00:00:00.000+0000</td></tr><tr><td>12</td><td>49</td><td>3</td><td>7.0000</td><td>Canadian GST</td><td>fb7607ee-8f12-41ea-b461-10885c6f1533</td><td>2008-04-30T00:00:00.000+0000</td></tr><tr><td>13</td><td>51</td><td>3</td><td>7.0000</td><td>Canadian GST</td><td>06df529d-eb11-446f-9570-9ee97b8ea1bf</td><td>2008-04-30T00:00:00.000+0000</td></tr><tr><td>16</td><td>69</td><td>3</td><td>7.0000</td><td>Canadian GST</td><td>89d447a8-239a-4f31-a529-478821e8f714</td><td>2008-04-30T00:00:00.000+0000</td></tr><tr><td>17</td><td>83</td><td>3</td><td>7.0000</td><td>Canadian GST</td><td>3847b431-f939-4e89-83fc-864912e3cfd2</td><td>2008-04-30T00:00:00.000+0000</td></tr><tr><td>18</td><td>6</td><td>1</td><td>7.7500</td><td>Arizona State Sales Tax</td><td>89dd0e3a-c018-449e-a86b-885adf684c5c</td><td>2008-04-30T00:00:00.000+0000</td></tr><tr><td>19</td><td>9</td><td>1</td><td>8.7500</td><td>California State Sales Tax</td><td>90e3090e-df71-407a-8059-04c3104523af</td><td>2008-04-30T00:00:00.000+0000</td></tr><tr><td>20</td><td>15</td><td>1</td><td>8.0000</td><td>Florida State Sales Tax</td><td>630ae36f-6e76-4a1f-ab25-6342159c80d2</td><td>2008-04-30T00:00:00.000+0000</td></tr><tr><td>21</td><td>30</td><td>1</td><td>7.0000</td><td>Massachusetts State Sales Tax</td><td>207c7024-85fe-42cb-bf74-9fe88e2f4e1b</td><td>2008-04-30T00:00:00.000+0000</td></tr><tr><td>22</td><td>35</td><td>1</td><td>7.2500</td><td>Michigan State Sales Tax</td><td>f9d1a85d-6474-43b5-a7ea-bed59e00439a</td><td>2008-04-30T00:00:00.000+0000</td></tr><tr><td>23</td><td>36</td><td>1</td><td>6.7500</td><td>Minnesota State Sales Tax</td><td>1753d75f-8357-4497-bc92-543f17bbf514</td><td>2008-04-30T00:00:00.000+0000</td></tr><tr><td>24</td><td>72</td><td>1</td><td>7.2500</td><td>Tennessese State Sales Tax</td><td>ecba1bab-a7a6-4cc2-8d0f-c094a38e5c0e</td><td>2008-04-30T00:00:00.000+0000</td></tr><tr><td>25</td><td>73</td><td>1</td><td>7.5000</td><td>Texas State Sales Tax</td><td>d50102e1-0150-43f3-93ad-12ab6c1deb06</td><td>2008-04-30T00:00:00.000+0000</td></tr><tr><td>26</td><td>74</td><td>1</td><td>5.0000</td><td>Utah State Sales Tax</td><td>5e6d8621-36af-40ce-972b-61aaef0556d8</td><td>2008-04-30T00:00:00.000+0000</td></tr><tr><td>27</td><td>79</td><td>1</td><td>8.8000</td><td>Washington State Sales Tax</td><td>9c84c0af-41cd-4670-98bc-5026e188541f</td><td>2008-04-30T00:00:00.000+0000</td></tr><tr><td>28</td><td>77</td><td>3</td><td>10.0000</td><td>Taxable Supply</td><td>f53b6a7e-7da4-49e8-ac09-d57fefac64d3</td><td>2008-04-30T00:00:00.000+0000</td></tr><tr><td>29</td><td>20</td><td>3</td><td>16.0000</td><td>Germany Output Tax</td><td>78c8a559-4d0f-45b6-b7a3-e11ff9a702f4</td><td>2008-04-30T00:00:00.000+0000</td></tr><tr><td>30</td><td>84</td><td>3</td><td>19.6000</td><td>France Output Tax</td><td>5446ea04-fa7c-4b02-a157-a05f44bf47b6</td><td>2008-04-30T00:00:00.000+0000</td></tr><tr><td>31</td><td>14</td><td>3</td><td>17.5000</td><td>United Kingdom Output Tax</td><td>abd185a9-5367-44e1-8a6e-71d083943f3c</td><td>2008-04-30T00:00:00.000+0000</td></tr></tbody></table></div>"
      ]
     },
     "metadata": {
      "application/vnd.databricks.v1+output": {
       "addedWidgets": {},
       "aggData": [],
       "aggError": "",
       "aggOverflow": false,
       "aggSchema": [],
       "aggSeriesLimitReached": false,
       "aggType": "",
       "arguments": {},
       "columnCustomDisplayInfos": {},
       "data": [
        [
         1,
         1,
         1,
         "14.0000",
         "Canadian GST + Alberta Provincial Tax",
         "683de5dd-521a-47d4-a573-06a3cdb1bc5d",
         "2008-04-30T00:00:00.000+0000"
        ],
        [
         2,
         57,
         1,
         "14.2500",
         "Canadian GST + Ontario Provincial Tax",
         "05c4ffdb-4f84-4cdf-abe5-fdf3216ea74e",
         "2008-04-30T00:00:00.000+0000"
        ],
        [
         3,
         63,
         1,
         "14.2500",
         "Canadian GST + Quebec Provincial Tax",
         "d4edb557-56d7-403c-b538-4df5e7302588",
         "2008-04-30T00:00:00.000+0000"
        ],
        [
         4,
         1,
         2,
         "7.0000",
         "Canadian GST",
         "f0d76907-b433-453f-b95e-16fce73b807a",
         "2008-04-30T00:00:00.000+0000"
        ],
        [
         5,
         57,
         2,
         "7.0000",
         "Canadian GST",
         "7e0e97a2-878b-476f-a648-05a3dd4450ed",
         "2008-04-30T00:00:00.000+0000"
        ],
        [
         6,
         63,
         2,
         "7.0000",
         "Canadian GST",
         "1e285d2c-8af7-47aa-b06a-762cf4d93acd",
         "2008-04-30T00:00:00.000+0000"
        ],
        [
         7,
         7,
         3,
         "7.0000",
         "Canadian GST",
         "590ccb14-cb20-49bf-8fee-e0c3abc4c2b1",
         "2008-04-30T00:00:00.000+0000"
        ],
        [
         8,
         29,
         3,
         "7.0000",
         "Canadian GST",
         "a8365f30-78b7-4dbe-8985-f8260560126b",
         "2008-04-30T00:00:00.000+0000"
        ],
        [
         9,
         31,
         3,
         "7.0000",
         "Canadian GST",
         "f4fde24b-7a53-4340-9d10-173e9424864a",
         "2008-04-30T00:00:00.000+0000"
        ],
        [
         10,
         41,
         3,
         "7.0000",
         "Canadian GST",
         "383d465b-e1d1-492a-83f3-ab3e9cbf3282",
         "2008-04-30T00:00:00.000+0000"
        ],
        [
         11,
         45,
         3,
         "7.0000",
         "Canadian GST",
         "8451909f-8a8d-4789-9f87-16a335d28053",
         "2008-04-30T00:00:00.000+0000"
        ],
        [
         12,
         49,
         3,
         "7.0000",
         "Canadian GST",
         "fb7607ee-8f12-41ea-b461-10885c6f1533",
         "2008-04-30T00:00:00.000+0000"
        ],
        [
         13,
         51,
         3,
         "7.0000",
         "Canadian GST",
         "06df529d-eb11-446f-9570-9ee97b8ea1bf",
         "2008-04-30T00:00:00.000+0000"
        ],
        [
         16,
         69,
         3,
         "7.0000",
         "Canadian GST",
         "89d447a8-239a-4f31-a529-478821e8f714",
         "2008-04-30T00:00:00.000+0000"
        ],
        [
         17,
         83,
         3,
         "7.0000",
         "Canadian GST",
         "3847b431-f939-4e89-83fc-864912e3cfd2",
         "2008-04-30T00:00:00.000+0000"
        ],
        [
         18,
         6,
         1,
         "7.7500",
         "Arizona State Sales Tax",
         "89dd0e3a-c018-449e-a86b-885adf684c5c",
         "2008-04-30T00:00:00.000+0000"
        ],
        [
         19,
         9,
         1,
         "8.7500",
         "California State Sales Tax",
         "90e3090e-df71-407a-8059-04c3104523af",
         "2008-04-30T00:00:00.000+0000"
        ],
        [
         20,
         15,
         1,
         "8.0000",
         "Florida State Sales Tax",
         "630ae36f-6e76-4a1f-ab25-6342159c80d2",
         "2008-04-30T00:00:00.000+0000"
        ],
        [
         21,
         30,
         1,
         "7.0000",
         "Massachusetts State Sales Tax",
         "207c7024-85fe-42cb-bf74-9fe88e2f4e1b",
         "2008-04-30T00:00:00.000+0000"
        ],
        [
         22,
         35,
         1,
         "7.2500",
         "Michigan State Sales Tax",
         "f9d1a85d-6474-43b5-a7ea-bed59e00439a",
         "2008-04-30T00:00:00.000+0000"
        ],
        [
         23,
         36,
         1,
         "6.7500",
         "Minnesota State Sales Tax",
         "1753d75f-8357-4497-bc92-543f17bbf514",
         "2008-04-30T00:00:00.000+0000"
        ],
        [
         24,
         72,
         1,
         "7.2500",
         "Tennessese State Sales Tax",
         "ecba1bab-a7a6-4cc2-8d0f-c094a38e5c0e",
         "2008-04-30T00:00:00.000+0000"
        ],
        [
         25,
         73,
         1,
         "7.5000",
         "Texas State Sales Tax",
         "d50102e1-0150-43f3-93ad-12ab6c1deb06",
         "2008-04-30T00:00:00.000+0000"
        ],
        [
         26,
         74,
         1,
         "5.0000",
         "Utah State Sales Tax",
         "5e6d8621-36af-40ce-972b-61aaef0556d8",
         "2008-04-30T00:00:00.000+0000"
        ],
        [
         27,
         79,
         1,
         "8.8000",
         "Washington State Sales Tax",
         "9c84c0af-41cd-4670-98bc-5026e188541f",
         "2008-04-30T00:00:00.000+0000"
        ],
        [
         28,
         77,
         3,
         "10.0000",
         "Taxable Supply",
         "f53b6a7e-7da4-49e8-ac09-d57fefac64d3",
         "2008-04-30T00:00:00.000+0000"
        ],
        [
         29,
         20,
         3,
         "16.0000",
         "Germany Output Tax",
         "78c8a559-4d0f-45b6-b7a3-e11ff9a702f4",
         "2008-04-30T00:00:00.000+0000"
        ],
        [
         30,
         84,
         3,
         "19.6000",
         "France Output Tax",
         "5446ea04-fa7c-4b02-a157-a05f44bf47b6",
         "2008-04-30T00:00:00.000+0000"
        ],
        [
         31,
         14,
         3,
         "17.5000",
         "United Kingdom Output Tax",
         "abd185a9-5367-44e1-8a6e-71d083943f3c",
         "2008-04-30T00:00:00.000+0000"
        ]
       ],
       "datasetInfos": [],
       "dbfsResultPath": null,
       "isJsonSchema": true,
       "metadata": {},
       "overflow": false,
       "plotOptions": {
        "customPlotOptions": {},
        "displayType": "table",
        "pivotAggregation": null,
        "pivotColumns": null,
        "xColumns": null,
        "yColumns": null
       },
       "removedWidgets": [],
       "schema": [
        {
         "metadata": "{}",
         "name": "SalesTaxRateID",
         "type": "\"integer\""
        },
        {
         "metadata": "{}",
         "name": "StateProvinceID",
         "type": "\"integer\""
        },
        {
         "metadata": "{}",
         "name": "TaxType",
         "type": "\"integer\""
        },
        {
         "metadata": "{}",
         "name": "TaxRate",
         "type": "\"decimal(10,4)\""
        },
        {
         "metadata": "{}",
         "name": "Name",
         "type": "\"string\""
        },
        {
         "metadata": "{}",
         "name": "rowguid",
         "type": "\"string\""
        },
        {
         "metadata": "{}",
         "name": "ModifiedDate",
         "type": "\"timestamp\""
        }
       ],
       "type": "table"
      }
     },
     "output_type": "display_data"
    }
   ],
   "source": [
    "df_111=spark.read.format('parquet').load(inputpath1)\n",
    "#df_11.na.drop()\n",
    "display(df_111)"
   ]
  },
  {
   "cell_type": "code",
   "execution_count": 0,
   "metadata": {
    "application/vnd.databricks.v1+cell": {
     "cellMetadata": {
      "byteLimit": 2048000,
      "rowLimit": 10000
     },
     "inputWidgets": {},
     "nuid": "ed28bc78-63a7-42c2-9e29-9b8b0226249b",
     "showTitle": false,
     "title": ""
    }
   },
   "outputs": [
    {
     "output_type": "stream",
     "name": "stdout",
     "output_type": "stream",
     "text": [
      "Out[63]: <bound method DataFrame.printSchema of DataFrame[SalesTaxRateID: int, StateProvinceID: int, TaxType: int, TaxRate: decimal(10,4), Name: string, rowguid: string, ModifiedDate: timestamp]>"
     ]
    }
   ],
   "source": [
    "df_11.printSchema"
   ]
  },
  {
   "cell_type": "code",
   "execution_count": 0,
   "metadata": {
    "application/vnd.databricks.v1+cell": {
     "cellMetadata": {
      "byteLimit": 2048000,
      "rowLimit": 10000
     },
     "inputWidgets": {},
     "nuid": "ea820277-0482-4f23-b08d-170821a7f64e",
     "showTitle": false,
     "title": ""
    }
   },
   "outputs": [
    {
     "output_type": "display_data",
     "data": {
      "text/html": [
       "<style scoped>\n",
       "  .table-result-container {\n",
       "    max-height: 300px;\n",
       "    overflow: auto;\n",
       "  }\n",
       "  table, th, td {\n",
       "    border: 1px solid black;\n",
       "    border-collapse: collapse;\n",
       "  }\n",
       "  th, td {\n",
       "    padding: 5px;\n",
       "  }\n",
       "  th {\n",
       "    text-align: left;\n",
       "  }\n",
       "</style><div class='table-result-container'><table class='table-result'><thead style='background-color: white'><tr><th>SalesTaxRateID</th><th>StateProvinceID</th><th>TaxType</th><th>TaxRate</th><th>Name</th><th>rowguid</th><th>ModifiedDate</th></tr></thead><tbody><tr><td>1</td><td>1</td><td>1</td><td>14.0000</td><td>Canadian GST + Alberta Provincial Tax</td><td>683de5dd-521a-47d4-a573-06a3cdb1bc5d</td><td>2008-04-30</td></tr><tr><td>2</td><td>57</td><td>1</td><td>14.2500</td><td>Canadian GST + Ontario Provincial Tax</td><td>05c4ffdb-4f84-4cdf-abe5-fdf3216ea74e</td><td>2008-04-30</td></tr><tr><td>3</td><td>63</td><td>1</td><td>14.2500</td><td>Canadian GST + Quebec Provincial Tax</td><td>d4edb557-56d7-403c-b538-4df5e7302588</td><td>2008-04-30</td></tr><tr><td>4</td><td>1</td><td>2</td><td>7.0000</td><td>Canadian GST</td><td>f0d76907-b433-453f-b95e-16fce73b807a</td><td>2008-04-30</td></tr><tr><td>5</td><td>57</td><td>2</td><td>7.0000</td><td>Canadian GST</td><td>7e0e97a2-878b-476f-a648-05a3dd4450ed</td><td>2008-04-30</td></tr><tr><td>6</td><td>63</td><td>2</td><td>7.0000</td><td>Canadian GST</td><td>1e285d2c-8af7-47aa-b06a-762cf4d93acd</td><td>2008-04-30</td></tr><tr><td>7</td><td>7</td><td>3</td><td>7.0000</td><td>Canadian GST</td><td>590ccb14-cb20-49bf-8fee-e0c3abc4c2b1</td><td>2008-04-30</td></tr><tr><td>8</td><td>29</td><td>3</td><td>7.0000</td><td>Canadian GST</td><td>a8365f30-78b7-4dbe-8985-f8260560126b</td><td>2008-04-30</td></tr><tr><td>9</td><td>31</td><td>3</td><td>7.0000</td><td>Canadian GST</td><td>f4fde24b-7a53-4340-9d10-173e9424864a</td><td>2008-04-30</td></tr><tr><td>10</td><td>41</td><td>3</td><td>7.0000</td><td>Canadian GST</td><td>383d465b-e1d1-492a-83f3-ab3e9cbf3282</td><td>2008-04-30</td></tr><tr><td>11</td><td>45</td><td>3</td><td>7.0000</td><td>Canadian GST</td><td>8451909f-8a8d-4789-9f87-16a335d28053</td><td>2008-04-30</td></tr><tr><td>12</td><td>49</td><td>3</td><td>7.0000</td><td>Canadian GST</td><td>fb7607ee-8f12-41ea-b461-10885c6f1533</td><td>2008-04-30</td></tr><tr><td>13</td><td>51</td><td>3</td><td>7.0000</td><td>Canadian GST</td><td>06df529d-eb11-446f-9570-9ee97b8ea1bf</td><td>2008-04-30</td></tr><tr><td>16</td><td>69</td><td>3</td><td>7.0000</td><td>Canadian GST</td><td>89d447a8-239a-4f31-a529-478821e8f714</td><td>2008-04-30</td></tr><tr><td>17</td><td>83</td><td>3</td><td>7.0000</td><td>Canadian GST</td><td>3847b431-f939-4e89-83fc-864912e3cfd2</td><td>2008-04-30</td></tr><tr><td>18</td><td>6</td><td>1</td><td>7.7500</td><td>Arizona State Sales Tax</td><td>89dd0e3a-c018-449e-a86b-885adf684c5c</td><td>2008-04-30</td></tr><tr><td>19</td><td>9</td><td>1</td><td>8.7500</td><td>California State Sales Tax</td><td>90e3090e-df71-407a-8059-04c3104523af</td><td>2008-04-30</td></tr><tr><td>20</td><td>15</td><td>1</td><td>8.0000</td><td>Florida State Sales Tax</td><td>630ae36f-6e76-4a1f-ab25-6342159c80d2</td><td>2008-04-30</td></tr><tr><td>21</td><td>30</td><td>1</td><td>7.0000</td><td>Massachusetts State Sales Tax</td><td>207c7024-85fe-42cb-bf74-9fe88e2f4e1b</td><td>2008-04-30</td></tr><tr><td>22</td><td>35</td><td>1</td><td>7.2500</td><td>Michigan State Sales Tax</td><td>f9d1a85d-6474-43b5-a7ea-bed59e00439a</td><td>2008-04-30</td></tr><tr><td>23</td><td>36</td><td>1</td><td>6.7500</td><td>Minnesota State Sales Tax</td><td>1753d75f-8357-4497-bc92-543f17bbf514</td><td>2008-04-30</td></tr><tr><td>24</td><td>72</td><td>1</td><td>7.2500</td><td>Tennessese State Sales Tax</td><td>ecba1bab-a7a6-4cc2-8d0f-c094a38e5c0e</td><td>2008-04-30</td></tr><tr><td>25</td><td>73</td><td>1</td><td>7.5000</td><td>Texas State Sales Tax</td><td>d50102e1-0150-43f3-93ad-12ab6c1deb06</td><td>2008-04-30</td></tr><tr><td>26</td><td>74</td><td>1</td><td>5.0000</td><td>Utah State Sales Tax</td><td>5e6d8621-36af-40ce-972b-61aaef0556d8</td><td>2008-04-30</td></tr><tr><td>27</td><td>79</td><td>1</td><td>8.8000</td><td>Washington State Sales Tax</td><td>9c84c0af-41cd-4670-98bc-5026e188541f</td><td>2008-04-30</td></tr><tr><td>28</td><td>77</td><td>3</td><td>10.0000</td><td>Taxable Supply</td><td>f53b6a7e-7da4-49e8-ac09-d57fefac64d3</td><td>2008-04-30</td></tr><tr><td>29</td><td>20</td><td>3</td><td>16.0000</td><td>Germany Output Tax</td><td>78c8a559-4d0f-45b6-b7a3-e11ff9a702f4</td><td>2008-04-30</td></tr><tr><td>30</td><td>84</td><td>3</td><td>19.6000</td><td>France Output Tax</td><td>5446ea04-fa7c-4b02-a157-a05f44bf47b6</td><td>2008-04-30</td></tr><tr><td>31</td><td>14</td><td>3</td><td>17.5000</td><td>United Kingdom Output Tax</td><td>abd185a9-5367-44e1-8a6e-71d083943f3c</td><td>2008-04-30</td></tr></tbody></table></div>"
      ]
     },
     "metadata": {
      "application/vnd.databricks.v1+output": {
       "addedWidgets": {},
       "aggData": [],
       "aggError": "",
       "aggOverflow": false,
       "aggSchema": [],
       "aggSeriesLimitReached": false,
       "aggType": "",
       "arguments": {},
       "columnCustomDisplayInfos": {},
       "data": [
        [
         1,
         1,
         1,
         "14.0000",
         "Canadian GST + Alberta Provincial Tax",
         "683de5dd-521a-47d4-a573-06a3cdb1bc5d",
         "2008-04-30"
        ],
        [
         2,
         57,
         1,
         "14.2500",
         "Canadian GST + Ontario Provincial Tax",
         "05c4ffdb-4f84-4cdf-abe5-fdf3216ea74e",
         "2008-04-30"
        ],
        [
         3,
         63,
         1,
         "14.2500",
         "Canadian GST + Quebec Provincial Tax",
         "d4edb557-56d7-403c-b538-4df5e7302588",
         "2008-04-30"
        ],
        [
         4,
         1,
         2,
         "7.0000",
         "Canadian GST",
         "f0d76907-b433-453f-b95e-16fce73b807a",
         "2008-04-30"
        ],
        [
         5,
         57,
         2,
         "7.0000",
         "Canadian GST",
         "7e0e97a2-878b-476f-a648-05a3dd4450ed",
         "2008-04-30"
        ],
        [
         6,
         63,
         2,
         "7.0000",
         "Canadian GST",
         "1e285d2c-8af7-47aa-b06a-762cf4d93acd",
         "2008-04-30"
        ],
        [
         7,
         7,
         3,
         "7.0000",
         "Canadian GST",
         "590ccb14-cb20-49bf-8fee-e0c3abc4c2b1",
         "2008-04-30"
        ],
        [
         8,
         29,
         3,
         "7.0000",
         "Canadian GST",
         "a8365f30-78b7-4dbe-8985-f8260560126b",
         "2008-04-30"
        ],
        [
         9,
         31,
         3,
         "7.0000",
         "Canadian GST",
         "f4fde24b-7a53-4340-9d10-173e9424864a",
         "2008-04-30"
        ],
        [
         10,
         41,
         3,
         "7.0000",
         "Canadian GST",
         "383d465b-e1d1-492a-83f3-ab3e9cbf3282",
         "2008-04-30"
        ],
        [
         11,
         45,
         3,
         "7.0000",
         "Canadian GST",
         "8451909f-8a8d-4789-9f87-16a335d28053",
         "2008-04-30"
        ],
        [
         12,
         49,
         3,
         "7.0000",
         "Canadian GST",
         "fb7607ee-8f12-41ea-b461-10885c6f1533",
         "2008-04-30"
        ],
        [
         13,
         51,
         3,
         "7.0000",
         "Canadian GST",
         "06df529d-eb11-446f-9570-9ee97b8ea1bf",
         "2008-04-30"
        ],
        [
         16,
         69,
         3,
         "7.0000",
         "Canadian GST",
         "89d447a8-239a-4f31-a529-478821e8f714",
         "2008-04-30"
        ],
        [
         17,
         83,
         3,
         "7.0000",
         "Canadian GST",
         "3847b431-f939-4e89-83fc-864912e3cfd2",
         "2008-04-30"
        ],
        [
         18,
         6,
         1,
         "7.7500",
         "Arizona State Sales Tax",
         "89dd0e3a-c018-449e-a86b-885adf684c5c",
         "2008-04-30"
        ],
        [
         19,
         9,
         1,
         "8.7500",
         "California State Sales Tax",
         "90e3090e-df71-407a-8059-04c3104523af",
         "2008-04-30"
        ],
        [
         20,
         15,
         1,
         "8.0000",
         "Florida State Sales Tax",
         "630ae36f-6e76-4a1f-ab25-6342159c80d2",
         "2008-04-30"
        ],
        [
         21,
         30,
         1,
         "7.0000",
         "Massachusetts State Sales Tax",
         "207c7024-85fe-42cb-bf74-9fe88e2f4e1b",
         "2008-04-30"
        ],
        [
         22,
         35,
         1,
         "7.2500",
         "Michigan State Sales Tax",
         "f9d1a85d-6474-43b5-a7ea-bed59e00439a",
         "2008-04-30"
        ],
        [
         23,
         36,
         1,
         "6.7500",
         "Minnesota State Sales Tax",
         "1753d75f-8357-4497-bc92-543f17bbf514",
         "2008-04-30"
        ],
        [
         24,
         72,
         1,
         "7.2500",
         "Tennessese State Sales Tax",
         "ecba1bab-a7a6-4cc2-8d0f-c094a38e5c0e",
         "2008-04-30"
        ],
        [
         25,
         73,
         1,
         "7.5000",
         "Texas State Sales Tax",
         "d50102e1-0150-43f3-93ad-12ab6c1deb06",
         "2008-04-30"
        ],
        [
         26,
         74,
         1,
         "5.0000",
         "Utah State Sales Tax",
         "5e6d8621-36af-40ce-972b-61aaef0556d8",
         "2008-04-30"
        ],
        [
         27,
         79,
         1,
         "8.8000",
         "Washington State Sales Tax",
         "9c84c0af-41cd-4670-98bc-5026e188541f",
         "2008-04-30"
        ],
        [
         28,
         77,
         3,
         "10.0000",
         "Taxable Supply",
         "f53b6a7e-7da4-49e8-ac09-d57fefac64d3",
         "2008-04-30"
        ],
        [
         29,
         20,
         3,
         "16.0000",
         "Germany Output Tax",
         "78c8a559-4d0f-45b6-b7a3-e11ff9a702f4",
         "2008-04-30"
        ],
        [
         30,
         84,
         3,
         "19.6000",
         "France Output Tax",
         "5446ea04-fa7c-4b02-a157-a05f44bf47b6",
         "2008-04-30"
        ],
        [
         31,
         14,
         3,
         "17.5000",
         "United Kingdom Output Tax",
         "abd185a9-5367-44e1-8a6e-71d083943f3c",
         "2008-04-30"
        ]
       ],
       "datasetInfos": [],
       "dbfsResultPath": null,
       "isJsonSchema": true,
       "metadata": {},
       "overflow": false,
       "plotOptions": {
        "customPlotOptions": {},
        "displayType": "table",
        "pivotAggregation": null,
        "pivotColumns": null,
        "xColumns": null,
        "yColumns": null
       },
       "removedWidgets": [],
       "schema": [
        {
         "metadata": "{}",
         "name": "SalesTaxRateID",
         "type": "\"integer\""
        },
        {
         "metadata": "{}",
         "name": "StateProvinceID",
         "type": "\"integer\""
        },
        {
         "metadata": "{}",
         "name": "TaxType",
         "type": "\"integer\""
        },
        {
         "metadata": "{}",
         "name": "TaxRate",
         "type": "\"decimal(10,4)\""
        },
        {
         "metadata": "{}",
         "name": "Name",
         "type": "\"string\""
        },
        {
         "metadata": "{}",
         "name": "rowguid",
         "type": "\"string\""
        },
        {
         "metadata": "{}",
         "name": "ModifiedDate",
         "type": "\"string\""
        }
       ],
       "type": "table"
      }
     },
     "output_type": "display_data"
    }
   ],
   "source": [
    "df_11=df_11.withColumn(\"ModifiedDate\",date_format(from_utc_timestamp(df_11[\"ModifiedDate\"].cast(TimestampType()),\"UTC\"),\"yyyy-MM-dd\"))\n",
    "display(df_11)"
   ]
  },
  {
   "cell_type": "code",
   "execution_count": 0,
   "metadata": {
    "application/vnd.databricks.v1+cell": {
     "cellMetadata": {
      "byteLimit": 2048000,
      "rowLimit": 10000
     },
     "inputWidgets": {},
     "nuid": "e53d0888-43ad-4d65-a7ba-07c5f95aab61",
     "showTitle": false,
     "title": ""
    }
   },
   "outputs": [
    {
     "output_type": "stream",
     "name": "stdout",
     "output_type": "stream",
     "text": [
      "['CountryRegionCurrency', 'CreditCard', 'Currency', 'CurrencyRate', 'Customer', 'PersonCreditCard', 'SalesOrderDetail', 'SalesOrderHeader', 'SalesOrderHeaderSalesReason', 'SalesPerson', 'SalesPersonQuotaHistory', 'SalesReason', 'SalesTaxRate', 'SalesTerritory', 'SalesTerritoryHistory', 'ShoppingCartItem', 'SpecialOffer', 'SpecialOfferProduct', 'Store']\n"
     ]
    }
   ],
   "source": [
    "inputpath='/mnt/bronze/Sales/'\n",
    "table_names=[]\n",
    "for i in dbutils.fs.ls(inputpath):\n",
    "    table_names.append(i.name.split('/')[0])\n",
    "print(table_names)"
   ]
  },
  {
   "cell_type": "markdown",
   "metadata": {
    "application/vnd.databricks.v1+cell": {
     "cellMetadata": {},
     "inputWidgets": {},
     "nuid": "3cccee5a-15a9-4bc9-8b8c-ad75eb8a3ff6",
     "showTitle": false,
     "title": ""
    }
   },
   "source": [
    "#### Dropping rows with nulls and updating datetime columns to date"
   ]
  },
  {
   "cell_type": "code",
   "execution_count": 0,
   "metadata": {
    "application/vnd.databricks.v1+cell": {
     "cellMetadata": {
      "byteLimit": 2048000,
      "rowLimit": 10000
     },
     "inputWidgets": {},
     "nuid": "3624b71e-0a84-4981-96f4-e18027a743fe",
     "showTitle": false,
     "title": ""
    }
   },
   "outputs": [
    {
     "output_type": "display_data",
     "data": {
      "text/plain": [
       "\u001B[0;31m---------------------------------------------------------------------------\u001B[0m\n",
       "\u001B[0;31mAnalysisException\u001B[0m                         Traceback (most recent call last)\n",
       "File \u001B[0;32m<command-1588408467061922>:10\u001B[0m\n",
       "\u001B[1;32m      8\u001B[0m         df\u001B[38;5;241m=\u001B[39mdf\u001B[38;5;241m.\u001B[39mwithColumn(col,date_format(from_utc_timestamp(df[col]\u001B[38;5;241m.\u001B[39mcast(TimestampType()),\u001B[38;5;124m\"\u001B[39m\u001B[38;5;124mUTC\u001B[39m\u001B[38;5;124m\"\u001B[39m),\u001B[38;5;124m\"\u001B[39m\u001B[38;5;124myyyy-MM-dd\u001B[39m\u001B[38;5;124m\"\u001B[39m))\n",
       "\u001B[1;32m      9\u001B[0m output_path\u001B[38;5;241m=\u001B[39m\u001B[38;5;124m'\u001B[39m\u001B[38;5;124m/mnt/silver/Sales/\u001B[39m\u001B[38;5;124m'\u001B[39m\u001B[38;5;241m+\u001B[39mi\u001B[38;5;241m+\u001B[39m\u001B[38;5;124m'\u001B[39m\u001B[38;5;124m/\u001B[39m\u001B[38;5;124m'\u001B[39m\n",
       "\u001B[0;32m---> 10\u001B[0m \u001B[43mdf\u001B[49m\u001B[38;5;241;43m.\u001B[39;49m\u001B[43mwrite\u001B[49m\u001B[38;5;241;43m.\u001B[39;49m\u001B[43mformat\u001B[49m\u001B[43m(\u001B[49m\u001B[38;5;124;43m'\u001B[39;49m\u001B[38;5;124;43mdelta\u001B[39;49m\u001B[38;5;124;43m'\u001B[39;49m\u001B[43m)\u001B[49m\u001B[38;5;241;43m.\u001B[39;49m\u001B[43mmode\u001B[49m\u001B[43m(\u001B[49m\u001B[38;5;124;43m'\u001B[39;49m\u001B[38;5;124;43moverwrite\u001B[39;49m\u001B[38;5;124;43m'\u001B[39;49m\u001B[43m)\u001B[49m\u001B[38;5;241;43m.\u001B[39;49m\u001B[43msave\u001B[49m\u001B[43m(\u001B[49m\u001B[43moutput_path\u001B[49m\u001B[43m)\u001B[49m\n",
       "\n",
       "File \u001B[0;32m/databricks/spark/python/pyspark/instrumentation_utils.py:48\u001B[0m, in \u001B[0;36m_wrap_function.<locals>.wrapper\u001B[0;34m(*args, **kwargs)\u001B[0m\n",
       "\u001B[1;32m     46\u001B[0m start \u001B[38;5;241m=\u001B[39m time\u001B[38;5;241m.\u001B[39mperf_counter()\n",
       "\u001B[1;32m     47\u001B[0m \u001B[38;5;28;01mtry\u001B[39;00m:\n",
       "\u001B[0;32m---> 48\u001B[0m     res \u001B[38;5;241m=\u001B[39m \u001B[43mfunc\u001B[49m\u001B[43m(\u001B[49m\u001B[38;5;241;43m*\u001B[39;49m\u001B[43margs\u001B[49m\u001B[43m,\u001B[49m\u001B[43m \u001B[49m\u001B[38;5;241;43m*\u001B[39;49m\u001B[38;5;241;43m*\u001B[39;49m\u001B[43mkwargs\u001B[49m\u001B[43m)\u001B[49m\n",
       "\u001B[1;32m     49\u001B[0m     logger\u001B[38;5;241m.\u001B[39mlog_success(\n",
       "\u001B[1;32m     50\u001B[0m         module_name, class_name, function_name, time\u001B[38;5;241m.\u001B[39mperf_counter() \u001B[38;5;241m-\u001B[39m start, signature\n",
       "\u001B[1;32m     51\u001B[0m     )\n",
       "\u001B[1;32m     52\u001B[0m     \u001B[38;5;28;01mreturn\u001B[39;00m res\n",
       "\n",
       "File \u001B[0;32m/databricks/spark/python/pyspark/sql/readwriter.py:1397\u001B[0m, in \u001B[0;36mDataFrameWriter.save\u001B[0;34m(self, path, format, mode, partitionBy, **options)\u001B[0m\n",
       "\u001B[1;32m   1395\u001B[0m     \u001B[38;5;28mself\u001B[39m\u001B[38;5;241m.\u001B[39m_jwrite\u001B[38;5;241m.\u001B[39msave()\n",
       "\u001B[1;32m   1396\u001B[0m \u001B[38;5;28;01melse\u001B[39;00m:\n",
       "\u001B[0;32m-> 1397\u001B[0m     \u001B[38;5;28;43mself\u001B[39;49m\u001B[38;5;241;43m.\u001B[39;49m\u001B[43m_jwrite\u001B[49m\u001B[38;5;241;43m.\u001B[39;49m\u001B[43msave\u001B[49m\u001B[43m(\u001B[49m\u001B[43mpath\u001B[49m\u001B[43m)\u001B[49m\n",
       "\n",
       "File \u001B[0;32m/databricks/spark/python/lib/py4j-0.10.9.5-src.zip/py4j/java_gateway.py:1321\u001B[0m, in \u001B[0;36mJavaMember.__call__\u001B[0;34m(self, *args)\u001B[0m\n",
       "\u001B[1;32m   1315\u001B[0m command \u001B[38;5;241m=\u001B[39m proto\u001B[38;5;241m.\u001B[39mCALL_COMMAND_NAME \u001B[38;5;241m+\u001B[39m\\\n",
       "\u001B[1;32m   1316\u001B[0m     \u001B[38;5;28mself\u001B[39m\u001B[38;5;241m.\u001B[39mcommand_header \u001B[38;5;241m+\u001B[39m\\\n",
       "\u001B[1;32m   1317\u001B[0m     args_command \u001B[38;5;241m+\u001B[39m\\\n",
       "\u001B[1;32m   1318\u001B[0m     proto\u001B[38;5;241m.\u001B[39mEND_COMMAND_PART\n",
       "\u001B[1;32m   1320\u001B[0m answer \u001B[38;5;241m=\u001B[39m \u001B[38;5;28mself\u001B[39m\u001B[38;5;241m.\u001B[39mgateway_client\u001B[38;5;241m.\u001B[39msend_command(command)\n",
       "\u001B[0;32m-> 1321\u001B[0m return_value \u001B[38;5;241m=\u001B[39m \u001B[43mget_return_value\u001B[49m\u001B[43m(\u001B[49m\n",
       "\u001B[1;32m   1322\u001B[0m \u001B[43m    \u001B[49m\u001B[43manswer\u001B[49m\u001B[43m,\u001B[49m\u001B[43m \u001B[49m\u001B[38;5;28;43mself\u001B[39;49m\u001B[38;5;241;43m.\u001B[39;49m\u001B[43mgateway_client\u001B[49m\u001B[43m,\u001B[49m\u001B[43m \u001B[49m\u001B[38;5;28;43mself\u001B[39;49m\u001B[38;5;241;43m.\u001B[39;49m\u001B[43mtarget_id\u001B[49m\u001B[43m,\u001B[49m\u001B[43m \u001B[49m\u001B[38;5;28;43mself\u001B[39;49m\u001B[38;5;241;43m.\u001B[39;49m\u001B[43mname\u001B[49m\u001B[43m)\u001B[49m\n",
       "\u001B[1;32m   1324\u001B[0m \u001B[38;5;28;01mfor\u001B[39;00m temp_arg \u001B[38;5;129;01min\u001B[39;00m temp_args:\n",
       "\u001B[1;32m   1325\u001B[0m     temp_arg\u001B[38;5;241m.\u001B[39m_detach()\n",
       "\n",
       "File \u001B[0;32m/databricks/spark/python/pyspark/errors/exceptions.py:234\u001B[0m, in \u001B[0;36mcapture_sql_exception.<locals>.deco\u001B[0;34m(*a, **kw)\u001B[0m\n",
       "\u001B[1;32m    230\u001B[0m converted \u001B[38;5;241m=\u001B[39m convert_exception(e\u001B[38;5;241m.\u001B[39mjava_exception)\n",
       "\u001B[1;32m    231\u001B[0m \u001B[38;5;28;01mif\u001B[39;00m \u001B[38;5;129;01mnot\u001B[39;00m \u001B[38;5;28misinstance\u001B[39m(converted, UnknownException):\n",
       "\u001B[1;32m    232\u001B[0m     \u001B[38;5;66;03m# Hide where the exception came from that shows a non-Pythonic\u001B[39;00m\n",
       "\u001B[1;32m    233\u001B[0m     \u001B[38;5;66;03m# JVM exception message.\u001B[39;00m\n",
       "\u001B[0;32m--> 234\u001B[0m     \u001B[38;5;28;01mraise\u001B[39;00m converted \u001B[38;5;28;01mfrom\u001B[39;00m \u001B[38;5;28mNone\u001B[39m\n",
       "\u001B[1;32m    235\u001B[0m \u001B[38;5;28;01melse\u001B[39;00m:\n",
       "\u001B[1;32m    236\u001B[0m     \u001B[38;5;28;01mraise\u001B[39;00m\n",
       "\n",
       "\u001B[0;31mAnalysisException\u001B[0m: Incompatible format detected.\n",
       "\n",
       "You are trying to write to `/mnt/silver/Sales/CountryRegionCurrency/` using Delta, but there is no\n",
       "transaction log present. Check the upstream job to make sure that it is writing\n",
       "using format(\"delta\") and that you are trying to write to the table base path.\n",
       "\n",
       "To disable this check, SET spark.databricks.delta.formatCheck.enabled=false\n",
       "To learn more about Delta, see https://docs.microsoft.com/azure/databricks/delta/index"
      ]
     },
     "metadata": {
      "application/vnd.databricks.v1+output": {
       "arguments": {},
       "data": "\u001B[0;31m---------------------------------------------------------------------------\u001B[0m\n\u001B[0;31mAnalysisException\u001B[0m                         Traceback (most recent call last)\nFile \u001B[0;32m<command-1588408467061922>:10\u001B[0m\n\u001B[1;32m      8\u001B[0m         df\u001B[38;5;241m=\u001B[39mdf\u001B[38;5;241m.\u001B[39mwithColumn(col,date_format(from_utc_timestamp(df[col]\u001B[38;5;241m.\u001B[39mcast(TimestampType()),\u001B[38;5;124m\"\u001B[39m\u001B[38;5;124mUTC\u001B[39m\u001B[38;5;124m\"\u001B[39m),\u001B[38;5;124m\"\u001B[39m\u001B[38;5;124myyyy-MM-dd\u001B[39m\u001B[38;5;124m\"\u001B[39m))\n\u001B[1;32m      9\u001B[0m output_path\u001B[38;5;241m=\u001B[39m\u001B[38;5;124m'\u001B[39m\u001B[38;5;124m/mnt/silver/Sales/\u001B[39m\u001B[38;5;124m'\u001B[39m\u001B[38;5;241m+\u001B[39mi\u001B[38;5;241m+\u001B[39m\u001B[38;5;124m'\u001B[39m\u001B[38;5;124m/\u001B[39m\u001B[38;5;124m'\u001B[39m\n\u001B[0;32m---> 10\u001B[0m \u001B[43mdf\u001B[49m\u001B[38;5;241;43m.\u001B[39;49m\u001B[43mwrite\u001B[49m\u001B[38;5;241;43m.\u001B[39;49m\u001B[43mformat\u001B[49m\u001B[43m(\u001B[49m\u001B[38;5;124;43m'\u001B[39;49m\u001B[38;5;124;43mdelta\u001B[39;49m\u001B[38;5;124;43m'\u001B[39;49m\u001B[43m)\u001B[49m\u001B[38;5;241;43m.\u001B[39;49m\u001B[43mmode\u001B[49m\u001B[43m(\u001B[49m\u001B[38;5;124;43m'\u001B[39;49m\u001B[38;5;124;43moverwrite\u001B[39;49m\u001B[38;5;124;43m'\u001B[39;49m\u001B[43m)\u001B[49m\u001B[38;5;241;43m.\u001B[39;49m\u001B[43msave\u001B[49m\u001B[43m(\u001B[49m\u001B[43moutput_path\u001B[49m\u001B[43m)\u001B[49m\n\nFile \u001B[0;32m/databricks/spark/python/pyspark/instrumentation_utils.py:48\u001B[0m, in \u001B[0;36m_wrap_function.<locals>.wrapper\u001B[0;34m(*args, **kwargs)\u001B[0m\n\u001B[1;32m     46\u001B[0m start \u001B[38;5;241m=\u001B[39m time\u001B[38;5;241m.\u001B[39mperf_counter()\n\u001B[1;32m     47\u001B[0m \u001B[38;5;28;01mtry\u001B[39;00m:\n\u001B[0;32m---> 48\u001B[0m     res \u001B[38;5;241m=\u001B[39m \u001B[43mfunc\u001B[49m\u001B[43m(\u001B[49m\u001B[38;5;241;43m*\u001B[39;49m\u001B[43margs\u001B[49m\u001B[43m,\u001B[49m\u001B[43m \u001B[49m\u001B[38;5;241;43m*\u001B[39;49m\u001B[38;5;241;43m*\u001B[39;49m\u001B[43mkwargs\u001B[49m\u001B[43m)\u001B[49m\n\u001B[1;32m     49\u001B[0m     logger\u001B[38;5;241m.\u001B[39mlog_success(\n\u001B[1;32m     50\u001B[0m         module_name, class_name, function_name, time\u001B[38;5;241m.\u001B[39mperf_counter() \u001B[38;5;241m-\u001B[39m start, signature\n\u001B[1;32m     51\u001B[0m     )\n\u001B[1;32m     52\u001B[0m     \u001B[38;5;28;01mreturn\u001B[39;00m res\n\nFile \u001B[0;32m/databricks/spark/python/pyspark/sql/readwriter.py:1397\u001B[0m, in \u001B[0;36mDataFrameWriter.save\u001B[0;34m(self, path, format, mode, partitionBy, **options)\u001B[0m\n\u001B[1;32m   1395\u001B[0m     \u001B[38;5;28mself\u001B[39m\u001B[38;5;241m.\u001B[39m_jwrite\u001B[38;5;241m.\u001B[39msave()\n\u001B[1;32m   1396\u001B[0m \u001B[38;5;28;01melse\u001B[39;00m:\n\u001B[0;32m-> 1397\u001B[0m     \u001B[38;5;28;43mself\u001B[39;49m\u001B[38;5;241;43m.\u001B[39;49m\u001B[43m_jwrite\u001B[49m\u001B[38;5;241;43m.\u001B[39;49m\u001B[43msave\u001B[49m\u001B[43m(\u001B[49m\u001B[43mpath\u001B[49m\u001B[43m)\u001B[49m\n\nFile \u001B[0;32m/databricks/spark/python/lib/py4j-0.10.9.5-src.zip/py4j/java_gateway.py:1321\u001B[0m, in \u001B[0;36mJavaMember.__call__\u001B[0;34m(self, *args)\u001B[0m\n\u001B[1;32m   1315\u001B[0m command \u001B[38;5;241m=\u001B[39m proto\u001B[38;5;241m.\u001B[39mCALL_COMMAND_NAME \u001B[38;5;241m+\u001B[39m\\\n\u001B[1;32m   1316\u001B[0m     \u001B[38;5;28mself\u001B[39m\u001B[38;5;241m.\u001B[39mcommand_header \u001B[38;5;241m+\u001B[39m\\\n\u001B[1;32m   1317\u001B[0m     args_command \u001B[38;5;241m+\u001B[39m\\\n\u001B[1;32m   1318\u001B[0m     proto\u001B[38;5;241m.\u001B[39mEND_COMMAND_PART\n\u001B[1;32m   1320\u001B[0m answer \u001B[38;5;241m=\u001B[39m \u001B[38;5;28mself\u001B[39m\u001B[38;5;241m.\u001B[39mgateway_client\u001B[38;5;241m.\u001B[39msend_command(command)\n\u001B[0;32m-> 1321\u001B[0m return_value \u001B[38;5;241m=\u001B[39m \u001B[43mget_return_value\u001B[49m\u001B[43m(\u001B[49m\n\u001B[1;32m   1322\u001B[0m \u001B[43m    \u001B[49m\u001B[43manswer\u001B[49m\u001B[43m,\u001B[49m\u001B[43m \u001B[49m\u001B[38;5;28;43mself\u001B[39;49m\u001B[38;5;241;43m.\u001B[39;49m\u001B[43mgateway_client\u001B[49m\u001B[43m,\u001B[49m\u001B[43m \u001B[49m\u001B[38;5;28;43mself\u001B[39;49m\u001B[38;5;241;43m.\u001B[39;49m\u001B[43mtarget_id\u001B[49m\u001B[43m,\u001B[49m\u001B[43m \u001B[49m\u001B[38;5;28;43mself\u001B[39;49m\u001B[38;5;241;43m.\u001B[39;49m\u001B[43mname\u001B[49m\u001B[43m)\u001B[49m\n\u001B[1;32m   1324\u001B[0m \u001B[38;5;28;01mfor\u001B[39;00m temp_arg \u001B[38;5;129;01min\u001B[39;00m temp_args:\n\u001B[1;32m   1325\u001B[0m     temp_arg\u001B[38;5;241m.\u001B[39m_detach()\n\nFile \u001B[0;32m/databricks/spark/python/pyspark/errors/exceptions.py:234\u001B[0m, in \u001B[0;36mcapture_sql_exception.<locals>.deco\u001B[0;34m(*a, **kw)\u001B[0m\n\u001B[1;32m    230\u001B[0m converted \u001B[38;5;241m=\u001B[39m convert_exception(e\u001B[38;5;241m.\u001B[39mjava_exception)\n\u001B[1;32m    231\u001B[0m \u001B[38;5;28;01mif\u001B[39;00m \u001B[38;5;129;01mnot\u001B[39;00m \u001B[38;5;28misinstance\u001B[39m(converted, UnknownException):\n\u001B[1;32m    232\u001B[0m     \u001B[38;5;66;03m# Hide where the exception came from that shows a non-Pythonic\u001B[39;00m\n\u001B[1;32m    233\u001B[0m     \u001B[38;5;66;03m# JVM exception message.\u001B[39;00m\n\u001B[0;32m--> 234\u001B[0m     \u001B[38;5;28;01mraise\u001B[39;00m converted \u001B[38;5;28;01mfrom\u001B[39;00m \u001B[38;5;28mNone\u001B[39m\n\u001B[1;32m    235\u001B[0m \u001B[38;5;28;01melse\u001B[39;00m:\n\u001B[1;32m    236\u001B[0m     \u001B[38;5;28;01mraise\u001B[39;00m\n\n\u001B[0;31mAnalysisException\u001B[0m: Incompatible format detected.\n\nYou are trying to write to `/mnt/silver/Sales/CountryRegionCurrency/` using Delta, but there is no\ntransaction log present. Check the upstream job to make sure that it is writing\nusing format(\"delta\") and that you are trying to write to the table base path.\n\nTo disable this check, SET spark.databricks.delta.formatCheck.enabled=false\nTo learn more about Delta, see https://docs.microsoft.com/azure/databricks/delta/index",
       "errorSummary": "<span class='ansi-red-fg'>AnalysisException</span>: Incompatible format detected.\n\nYou are trying to write to `/mnt/silver/Sales/CountryRegionCurrency/` using Delta, but there is no\ntransaction log present. Check the upstream job to make sure that it is writing\nusing format(\"delta\") and that you are trying to write to the table base path.\n\nTo disable this check, SET spark.databricks.delta.formatCheck.enabled=false\nTo learn more about Delta, see https://docs.microsoft.com/azure/databricks/delta/index",
       "errorTraceType": "ansi",
       "metadata": {},
       "type": "ipynbError"
      }
     },
     "output_type": "display_data"
    }
   ],
   "source": [
    "for i in table_names:\n",
    "    path='/mnt/bronze/Sales/'+i+'/'+i+'.parquet'\n",
    "    df=spark.read.format('parquet').load(path)\n",
    "    df.na.drop()\n",
    "    column=df.columns\n",
    "    for col in column:\n",
    "        if \"Date\" in col or \"date\" in col:\n",
    "            df=df.withColumn(col,date_format(from_utc_timestamp(df[col].cast(TimestampType()),\"UTC\"),\"yyyy-MM-dd\"))\n",
    "    output_path='/mnt/silver/Sales/'+i+'/'+i+'.parquet'\n",
    "    df.write.format('delta').mode('overwrite').save(output_path)\n",
    "    "
   ]
  },
  {
   "cell_type": "code",
   "execution_count": 0,
   "metadata": {
    "application/vnd.databricks.v1+cell": {
     "cellMetadata": {
      "byteLimit": 2048000,
      "rowLimit": 10000
     },
     "inputWidgets": {},
     "nuid": "795f3a28-4ba5-42cc-b3a2-b6fc52e07bfa",
     "showTitle": false,
     "title": ""
    }
   },
   "outputs": [],
   "source": [
    "    "
   ]
  },
  {
   "cell_type": "code",
   "execution_count": 0,
   "metadata": {
    "application/vnd.databricks.v1+cell": {
     "cellMetadata": {},
     "inputWidgets": {},
     "nuid": "2add9de0-a952-45f9-a359-bc42d118f200",
     "showTitle": false,
     "title": ""
    }
   },
   "outputs": [],
   "source": []
  },
  {
   "cell_type": "code",
   "execution_count": 0,
   "metadata": {
    "application/vnd.databricks.v1+cell": {
     "cellMetadata": {
      "byteLimit": 2048000,
      "rowLimit": 10000
     },
     "inputWidgets": {},
     "nuid": "0b591ac1-d8ea-4ed1-8182-ad180c46407d",
     "showTitle": false,
     "title": ""
    }
   },
   "outputs": [
    {
     "output_type": "display_data",
     "data": {
      "text/html": [
       "<style scoped>\n",
       "  .table-result-container {\n",
       "    max-height: 300px;\n",
       "    overflow: auto;\n",
       "  }\n",
       "  table, th, td {\n",
       "    border: 1px solid black;\n",
       "    border-collapse: collapse;\n",
       "  }\n",
       "  th, td {\n",
       "    padding: 5px;\n",
       "  }\n",
       "  th {\n",
       "    text-align: left;\n",
       "  }\n",
       "</style><div class='table-result-container'><table class='table-result'><thead style='background-color: white'><tr><th>BusinessEntityID</th><th>Name</th><th>SalesPersonID</th><th>Demographics</th><th>rowguid</th><th>ModifiedDate</th></tr></thead><tbody><tr><td>292</td><td>Next-Door Bike Store</td><td>279</td><td><StoreSurvey xmlns=\"http://schemas.microsoft.com/sqlserver/2004/07/adventure-works/StoreSurvey\"><AnnualSales>800000</AnnualSales><AnnualRevenue>80000</AnnualRevenue><BankName>United Security</BankName><BusinessType>BM</BusinessType><YearOpened>1996</YearOpened><Specialty>Mountain</Specialty><SquareFeet>21000</SquareFeet><Brands>2</Brands><Internet>ISDN</Internet><NumberEmployees>13</NumberEmployees></StoreSurvey></td><td>a22517e3-848d-4ebe-b9d9-7437f3432304</td><td>2014-09-12</td></tr><tr><td>294</td><td>Professional Sales and Service</td><td>276</td><td><StoreSurvey xmlns=\"http://schemas.microsoft.com/sqlserver/2004/07/adventure-works/StoreSurvey\"><AnnualSales>800000</AnnualSales><AnnualRevenue>80000</AnnualRevenue><BankName>International Bank</BankName><BusinessType>BM</BusinessType><YearOpened>1991</YearOpened><Specialty>Touring</Specialty><SquareFeet>18000</SquareFeet><Brands>4+</Brands><Internet>T1</Internet><NumberEmployees>14</NumberEmployees></StoreSurvey></td><td>b50ca50b-c601-4a13-b07e-2c63862d71b4</td><td>2014-09-12</td></tr><tr><td>296</td><td>Riders Company</td><td>277</td><td><StoreSurvey xmlns=\"http://schemas.microsoft.com/sqlserver/2004/07/adventure-works/StoreSurvey\"><AnnualSales>800000</AnnualSales><AnnualRevenue>80000</AnnualRevenue><BankName>Primary Bank &amp; Reserve</BankName><BusinessType>BM</BusinessType><YearOpened>1999</YearOpened><Specialty>Road</Specialty><SquareFeet>21000</SquareFeet><Brands>2</Brands><Internet>DSL</Internet><NumberEmployees>15</NumberEmployees></StoreSurvey></td><td>337c3688-1339-4e1a-a08a-b54b23566e49</td><td>2014-09-12</td></tr><tr><td>298</td><td>The Bike Mechanics</td><td>275</td><td><StoreSurvey xmlns=\"http://schemas.microsoft.com/sqlserver/2004/07/adventure-works/StoreSurvey\"><AnnualSales>800000</AnnualSales><AnnualRevenue>80000</AnnualRevenue><BankName>International Security</BankName><BusinessType>BM</BusinessType><YearOpened>1994</YearOpened><Specialty>Mountain</Specialty><SquareFeet>18000</SquareFeet><Brands>2</Brands><Internet>DSL</Internet><NumberEmployees>16</NumberEmployees></StoreSurvey></td><td>7894f278-f0c8-4d16-bd75-213fdbf13023</td><td>2014-09-12</td></tr><tr><td>300</td><td>Nationwide Supply</td><td>286</td><td><StoreSurvey xmlns=\"http://schemas.microsoft.com/sqlserver/2004/07/adventure-works/StoreSurvey\"><AnnualSales>800000</AnnualSales><AnnualRevenue>80000</AnnualRevenue><BankName>Guardian Bank</BankName><BusinessType>BM</BusinessType><YearOpened>1987</YearOpened><Specialty>Touring</Specialty><SquareFeet>21000</SquareFeet><Brands>4+</Brands><Internet>DSL</Internet><NumberEmployees>17</NumberEmployees></StoreSurvey></td><td>c3fc9705-a8c4-4f3a-9550-eb2fa4b7b64d</td><td>2014-09-12</td></tr><tr><td>302</td><td>Area Bike Accessories</td><td>281</td><td><StoreSurvey xmlns=\"http://schemas.microsoft.com/sqlserver/2004/07/adventure-works/StoreSurvey\"><AnnualSales>300000</AnnualSales><AnnualRevenue>30000</AnnualRevenue><BankName>International Bank</BankName><BusinessType>BM</BusinessType><YearOpened>1982</YearOpened><Specialty>Road</Specialty><SquareFeet>9000</SquareFeet><Brands>AW</Brands><Internet>T2</Internet><NumberEmployees>8</NumberEmployees></StoreSurvey></td><td>368be6dd-30e5-49bb-9a86-71fd49c58f4e</td><td>2014-09-12</td></tr><tr><td>304</td><td>Bicycle Accessories and Kits</td><td>283</td><td><StoreSurvey xmlns=\"http://schemas.microsoft.com/sqlserver/2004/07/adventure-works/StoreSurvey\"><AnnualSales>300000</AnnualSales><AnnualRevenue>30000</AnnualRevenue><BankName>Primary Bank &amp; Reserve</BankName><BusinessType>BM</BusinessType><YearOpened>1990</YearOpened><Specialty>Mountain</Specialty><SquareFeet>7000</SquareFeet><Brands>AW</Brands><Internet>T1</Internet><NumberEmployees>9</NumberEmployees></StoreSurvey></td><td>35f40636-5105-49d5-869e-27e231189150</td><td>2014-09-12</td></tr><tr><td>306</td><td>Clamps & Brackets Co.</td><td>275</td><td><StoreSurvey xmlns=\"http://schemas.microsoft.com/sqlserver/2004/07/adventure-works/StoreSurvey\"><AnnualSales>800000</AnnualSales><AnnualRevenue>80000</AnnualRevenue><BankName>International Security</BankName><BusinessType>BM</BusinessType><YearOpened>1985</YearOpened><Specialty>Mountain</Specialty><SquareFeet>17000</SquareFeet><Brands>4+</Brands><Internet>DSL</Internet><NumberEmployees>10</NumberEmployees></StoreSurvey></td><td>64d06bfc-d060-405c-8c60-c067fe7c67df</td><td>2014-09-12</td></tr><tr><td>308</td><td>Valley Bicycle Specialists</td><td>277</td><td><StoreSurvey xmlns=\"http://schemas.microsoft.com/sqlserver/2004/07/adventure-works/StoreSurvey\"><AnnualSales>3000000</AnnualSales><AnnualRevenue>300000</AnnualRevenue><BankName>Primary Bank &amp; Reserve</BankName><BusinessType>OS</BusinessType><YearOpened>1979</YearOpened><Specialty>Mountain</Specialty><SquareFeet>72000</SquareFeet><Brands>4+</Brands><Internet>DSL</Internet><NumberEmployees>66</NumberEmployees></StoreSurvey></td><td>59386b0c-652e-4668-b44b-4e1711793330</td><td>2014-09-12</td></tr><tr><td>310</td><td>New Bikes Company</td><td>279</td><td><StoreSurvey xmlns=\"http://schemas.microsoft.com/sqlserver/2004/07/adventure-works/StoreSurvey\"><AnnualSales>1500000</AnnualSales><AnnualRevenue>150000</AnnualRevenue><BankName>International Security</BankName><BusinessType>OS</BusinessType><YearOpened>1974</YearOpened><Specialty>Road</Specialty><SquareFeet>39000</SquareFeet><Brands>4+</Brands><Internet>T1</Internet><NumberEmployees>40</NumberEmployees></StoreSurvey></td><td>47e4b6bd-5cd1-45a3-a231-79d930381c56</td><td>2014-09-12</td></tr><tr><td>312</td><td>Vinyl and Plastic Goods Corporation</td><td>282</td><td><StoreSurvey xmlns=\"http://schemas.microsoft.com/sqlserver/2004/07/adventure-works/StoreSurvey\"><AnnualSales>1500000</AnnualSales><AnnualRevenue>150000</AnnualRevenue><BankName>Primary Bank &amp; Reserve</BankName><BusinessType>OS</BusinessType><YearOpened>1980</YearOpened><Specialty>Mountain</Specialty><SquareFeet>41000</SquareFeet><Brands>4+</Brands><Internet>DSL</Internet><NumberEmployees>43</NumberEmployees></StoreSurvey></td><td>dc610525-e373-49b1-b786-ea040ec25c06</td><td>2014-09-12</td></tr><tr><td>314</td><td>Top of the Line Bikes</td><td>288</td><td><StoreSurvey xmlns=\"http://schemas.microsoft.com/sqlserver/2004/07/adventure-works/StoreSurvey\"><AnnualSales>1500000</AnnualSales><AnnualRevenue>150000</AnnualRevenue><BankName>International Bank</BankName><BusinessType>OS</BusinessType><YearOpened>1986</YearOpened><Specialty>Touring</Specialty><SquareFeet>40000</SquareFeet><Brands>4+</Brands><Internet>DSL</Internet><NumberEmployees>46</NumberEmployees></StoreSurvey></td><td>e290e93f-a980-4ba3-86c3-9858f15c8a6d</td><td>2014-09-12</td></tr><tr><td>316</td><td>Fun Toys and Bikes</td><td>281</td><td><StoreSurvey xmlns=\"http://schemas.microsoft.com/sqlserver/2004/07/adventure-works/StoreSurvey\"><AnnualSales>300000</AnnualSales><AnnualRevenue>30000</AnnualRevenue><BankName>Primary Bank &amp; Reserve</BankName><BusinessType>BM</BusinessType><YearOpened>1973</YearOpened><Specialty>Touring</Specialty><SquareFeet>6000</SquareFeet><Brands>2</Brands><Internet>DSL</Internet><NumberEmployees>2</NumberEmployees></StoreSurvey></td><td>6cdcf941-4192-49c7-994a-5adba534e095</td><td>2014-09-12</td></tr><tr><td>318</td><td>Great Bikes </td><td>283</td><td><StoreSurvey xmlns=\"http://schemas.microsoft.com/sqlserver/2004/07/adventure-works/StoreSurvey\"><AnnualSales>300000</AnnualSales><AnnualRevenue>30000</AnnualRevenue><BankName>International Security</BankName><BusinessType>BM</BusinessType><YearOpened>1981</YearOpened><Specialty>Mountain</Specialty><SquareFeet>10000</SquareFeet><Brands>4+</Brands><Internet>T3</Internet><NumberEmployees>3</NumberEmployees></StoreSurvey></td><td>956fbc35-5e0d-4175-8045-e0be380ba340</td><td>2014-09-12</td></tr><tr><td>320</td><td>Metropolitan Sales and Rental</td><td>275</td><td><StoreSurvey xmlns=\"http://schemas.microsoft.com/sqlserver/2004/07/adventure-works/StoreSurvey\"><AnnualSales>300000</AnnualSales><AnnualRevenue>30000</AnnualRevenue><BankName>Guardian Bank</BankName><BusinessType>BM</BusinessType><YearOpened>1976</YearOpened><Specialty>Road</Specialty><SquareFeet>6000</SquareFeet><Brands>AW</Brands><Internet>T1</Internet><NumberEmployees>4</NumberEmployees></StoreSurvey></td><td>0cb4fef2-5047-40f7-8848-b59f7a3f3eec</td><td>2014-09-12</td></tr><tr><td>322</td><td>Irregulars Outlet</td><td>288</td><td><StoreSurvey xmlns=\"http://schemas.microsoft.com/sqlserver/2004/07/adventure-works/StoreSurvey\"><AnnualSales>300000</AnnualSales><AnnualRevenue>30000</AnnualRevenue><BankName>Primary International</BankName><BusinessType>BM</BusinessType><YearOpened>1984</YearOpened><Specialty>Mountain</Specialty><SquareFeet>7000</SquareFeet><Brands>AW</Brands><Internet>DSL</Internet><NumberEmployees>5</NumberEmployees></StoreSurvey></td><td>cde66279-83d8-4340-a83c-e86e15514ac4</td><td>2014-09-12</td></tr><tr><td>324</td><td>Valley Toy Store</td><td>282</td><td><StoreSurvey xmlns=\"http://schemas.microsoft.com/sqlserver/2004/07/adventure-works/StoreSurvey\"><AnnualSales>300000</AnnualSales><AnnualRevenue>30000</AnnualRevenue><BankName>Reserve Security</BankName><BusinessType>BM</BusinessType><YearOpened>1979</YearOpened><Specialty>Mountain</Specialty><SquareFeet>9000</SquareFeet><Brands>2</Brands><Internet>T1</Internet><NumberEmployees>6</NumberEmployees></StoreSurvey></td><td>6a1bea56-dcb7-45cf-8c92-3705e12eb2aa</td><td>2014-09-12</td></tr><tr><td>326</td><td>Worthwhile Activity Store</td><td>279</td><td><StoreSurvey xmlns=\"http://schemas.microsoft.com/sqlserver/2004/07/adventure-works/StoreSurvey\"><AnnualSales>300000</AnnualSales><AnnualRevenue>30000</AnnualRevenue><BankName>United Security</BankName><BusinessType>BM</BusinessType><YearOpened>1987</YearOpened><Specialty>Mountain</Specialty><SquareFeet>8000</SquareFeet><Brands>2</Brands><Internet>DSL</Internet><NumberEmployees>7</NumberEmployees></StoreSurvey></td><td>bad63717-99bd-4581-8160-0f1723be42cb</td><td>2014-09-12</td></tr><tr><td>328</td><td>Purchase Mart</td><td>275</td><td><StoreSurvey xmlns=\"http://schemas.microsoft.com/sqlserver/2004/07/adventure-works/StoreSurvey\"><AnnualSales>1500000</AnnualSales><AnnualRevenue>150000</AnnualRevenue><BankName>United Security</BankName><BusinessType>OS</BusinessType><YearOpened>1992</YearOpened><Specialty>Touring</Specialty><SquareFeet>38000</SquareFeet><Brands>3</Brands><Internet>ISDN</Internet><NumberEmployees>49</NumberEmployees></StoreSurvey></td><td>a3140349-57a3-46aa-bf32-d7f4753a06d6</td><td>2014-09-12</td></tr><tr><td>330</td><td>Major Sport Suppliers</td><td>283</td><td><StoreSurvey xmlns=\"http://schemas.microsoft.com/sqlserver/2004/07/adventure-works/StoreSurvey\"><AnnualSales>3000000</AnnualSales><AnnualRevenue>300000</AnnualRevenue><BankName>Reserve Security</BankName><BusinessType>OS</BusinessType><YearOpened>1998</YearOpened><Specialty>Mountain</Specialty><SquareFeet>68000</SquareFeet><Brands>3</Brands><Internet>DSL</Internet><NumberEmployees>52</NumberEmployees></StoreSurvey></td><td>3b5f8572-43b0-42f5-86ff-e379d0769f28</td><td>2014-09-12</td></tr><tr><td>332</td><td>Family's Favorite Bike Shop</td><td>278</td><td><StoreSurvey xmlns=\"http://schemas.microsoft.com/sqlserver/2004/07/adventure-works/StoreSurvey\"><AnnualSales>800000</AnnualSales><AnnualRevenue>80000</AnnualRevenue><BankName>Primary International</BankName><BusinessType>BM</BusinessType><YearOpened>1997</YearOpened><Specialty>Mountain</Specialty><SquareFeet>21000</SquareFeet><Brands>3</Brands><Internet>ISDN</Internet><NumberEmployees>18</NumberEmployees></StoreSurvey></td><td>712df7b6-a6e4-4059-a1b8-6d39a80ab712</td><td>2014-09-12</td></tr><tr><td>334</td><td>Global Plaza</td><td>279</td><td><StoreSurvey xmlns=\"http://schemas.microsoft.com/sqlserver/2004/07/adventure-works/StoreSurvey\"><AnnualSales>800000</AnnualSales><AnnualRevenue>80000</AnnualRevenue><BankName>Reserve Security</BankName><BusinessType>BM</BusinessType><YearOpened>1975</YearOpened><Specialty>Mountain</Specialty><SquareFeet>19000</SquareFeet><Brands>3</Brands><Internet>DSL</Internet><NumberEmployees>19</NumberEmployees></StoreSurvey></td><td>9a1e91d8-509b-4d96-bd77-7427c7f0c47b</td><td>2014-09-12</td></tr><tr><td>336</td><td>Imported and Domestic Cycles</td><td>276</td><td><StoreSurvey xmlns=\"http://schemas.microsoft.com/sqlserver/2004/07/adventure-works/StoreSurvey\"><AnnualSales>1000000</AnnualSales><AnnualRevenue>100000</AnnualRevenue><BankName>United Security</BankName><BusinessType>BM</BusinessType><YearOpened>2000</YearOpened><Specialty>Road</Specialty><SquareFeet>24000</SquareFeet><Brands>2</Brands><Internet>T1</Internet><NumberEmployees>20</NumberEmployees></StoreSurvey></td><td>25c229c0-4e7a-42d2-acb1-a2118361b2f1</td><td>2014-09-12</td></tr><tr><td>338</td><td>Systematic Sales</td><td>281</td><td><StoreSurvey xmlns=\"http://schemas.microsoft.com/sqlserver/2004/07/adventure-works/StoreSurvey\"><AnnualSales>3000000</AnnualSales><AnnualRevenue>300000</AnnualRevenue><BankName>Primary International</BankName><BusinessType>OS</BusinessType><YearOpened>1999</YearOpened><Specialty>Touring</Specialty><SquareFeet>73000</SquareFeet><Brands>4+</Brands><Internet>DSL</Internet><NumberEmployees>55</NumberEmployees></StoreSurvey></td><td>df9126a5-9c95-44a2-a31f-f759ea33eea7</td><td>2014-09-12</td></tr><tr><td>340</td><td>eCommerce Bikes</td><td>279</td><td><StoreSurvey xmlns=\"http://schemas.microsoft.com/sqlserver/2004/07/adventure-works/StoreSurvey\"><AnnualSales>3000000</AnnualSales><AnnualRevenue>300000</AnnualRevenue><BankName>Guardian Bank</BankName><BusinessType>OS</BusinessType><YearOpened>1999</YearOpened><Specialty>Mountain</Specialty><SquareFeet>69000</SquareFeet><Brands>2</Brands><Internet>DSL</Internet><NumberEmployees>58</NumberEmployees></StoreSurvey></td><td>1ec47823-4b39-4609-aaec-6ee68cc74f81</td><td>2014-09-12</td></tr><tr><td>342</td><td>Mountain Toy Store</td><td>277</td><td><StoreSurvey xmlns=\"http://schemas.microsoft.com/sqlserver/2004/07/adventure-works/StoreSurvey\"><AnnualSales>800000</AnnualSales><AnnualRevenue>80000</AnnualRevenue><BankName>International Bank</BankName><BusinessType>BM</BusinessType><YearOpened>2000</YearOpened><Specialty>Road</Specialty><SquareFeet>18000</SquareFeet><Brands>4+</Brands><Internet>DSL</Internet><NumberEmployees>17</NumberEmployees></StoreSurvey></td><td>52efc841-97c5-4ac1-b707-fa3717b0bc48</td><td>2014-09-12</td></tr><tr><td>344</td><td>Retail Sales and Service</td><td>275</td><td><StoreSurvey xmlns=\"http://schemas.microsoft.com/sqlserver/2004/07/adventure-works/StoreSurvey\"><AnnualSales>800000</AnnualSales><AnnualRevenue>80000</AnnualRevenue><BankName>Primary Bank &amp; Reserve</BankName><BusinessType>BM</BusinessType><YearOpened>1994</YearOpened><Specialty>Road</Specialty><SquareFeet>18000</SquareFeet><Brands>2</Brands><Internet>DSL</Internet><NumberEmployees>14</NumberEmployees></StoreSurvey></td><td>38f9be1b-9137-4e4e-985d-06f6c5e02330</td><td>2014-09-12</td></tr><tr><td>346</td><td>Designated Distributors</td><td>282</td><td><StoreSurvey xmlns=\"http://schemas.microsoft.com/sqlserver/2004/07/adventure-works/StoreSurvey\"><AnnualSales>3000000</AnnualSales><AnnualRevenue>300000</AnnualRevenue><BankName>International Security</BankName><BusinessType>OS</BusinessType><YearOpened>1979</YearOpened><Specialty>Road</Specialty><SquareFeet>72000</SquareFeet><Brands>4+</Brands><Internet>T2</Internet><NumberEmployees>61</NumberEmployees></StoreSurvey></td><td>5dc17a1c-f618-4b6e-bea2-bff96ca6ba8b</td><td>2014-09-12</td></tr><tr><td>348</td><td>Bold Bike Accessories</td><td>276</td><td><StoreSurvey xmlns=\"http://schemas.microsoft.com/sqlserver/2004/07/adventure-works/StoreSurvey\"><AnnualSales>3000000</AnnualSales><AnnualRevenue>300000</AnnualRevenue><BankName>Primary Bank &amp; Reserve</BankName><BusinessType>OS</BusinessType><YearOpened>1999</YearOpened><Specialty>Mountain</Specialty><SquareFeet>72000</SquareFeet><Brands>4+</Brands><Internet>DSL</Internet><NumberEmployees>58</NumberEmployees></StoreSurvey></td><td>ac7a83f1-196b-4bbf-a6e0-3165d4c84454</td><td>2014-09-12</td></tr><tr><td>350</td><td>Twin Cycles</td><td>286</td><td><StoreSurvey xmlns=\"http://schemas.microsoft.com/sqlserver/2004/07/adventure-works/StoreSurvey\"><AnnualSales>800000</AnnualSales><AnnualRevenue>80000</AnnualRevenue><BankName>International Security</BankName><BusinessType>BM</BusinessType><YearOpened>1988</YearOpened><Specialty>Touring</Specialty><SquareFeet>21000</SquareFeet><Brands>AW</Brands><Internet>T1</Internet><NumberEmployees>11</NumberEmployees></StoreSurvey></td><td>4e917578-1942-4bab-8e63-932052fdacec</td><td>2014-09-12</td></tr><tr><td>352</td><td>Tiny Bike Boutique</td><td>279</td><td><StoreSurvey xmlns=\"http://schemas.microsoft.com/sqlserver/2004/07/adventure-works/StoreSurvey\"><AnnualSales>300000</AnnualSales><AnnualRevenue>30000</AnnualRevenue><BankName>International Bank</BankName><BusinessType>BM</BusinessType><YearOpened>1978</YearOpened><Specialty>Road</Specialty><SquareFeet>6000</SquareFeet><Brands>4+</Brands><Internet>DSL</Internet><NumberEmployees>4</NumberEmployees></StoreSurvey></td><td>1d65dd5a-a7c8-4ac1-a2b6-76ad4a5946bd</td><td>2014-09-12</td></tr><tr><td>354</td><td>Acclaimed Bicycle Company</td><td>279</td><td><StoreSurvey xmlns=\"http://schemas.microsoft.com/sqlserver/2004/07/adventure-works/StoreSurvey\"><AnnualSales>3000000</AnnualSales><AnnualRevenue>300000</AnnualRevenue><BankName>International Bank</BankName><BusinessType>OS</BusinessType><YearOpened>1979</YearOpened><Specialty>Touring</Specialty><SquareFeet>73000</SquareFeet><Brands>3</Brands><Internet>DSL</Internet><NumberEmployees>61</NumberEmployees></StoreSurvey></td><td>e71ac59c-b228-49f2-acc2-077aa5dfc9db</td><td>2014-09-12</td></tr><tr><td>356</td><td>Serious Cycles</td><td>278</td><td><StoreSurvey xmlns=\"http://schemas.microsoft.com/sqlserver/2004/07/adventure-works/StoreSurvey\"><AnnualSales>3000000</AnnualSales><AnnualRevenue>300000</AnnualRevenue><BankName>United Security</BankName><BusinessType>OS</BusinessType><YearOpened>1996</YearOpened><Specialty>Mountain</Specialty><SquareFeet>71000</SquareFeet><Brands>4+</Brands><Internet>ISDN</Internet><NumberEmployees>64</NumberEmployees></StoreSurvey></td><td>8036d3b1-1c8d-43bf-b913-d17ee0d755af</td><td>2014-09-12</td></tr><tr><td>358</td><td>Quality Bike Sales</td><td>286</td><td><StoreSurvey xmlns=\"http://schemas.microsoft.com/sqlserver/2004/07/adventure-works/StoreSurvey\"><AnnualSales>3000000</AnnualSales><AnnualRevenue>300000</AnnualRevenue><BankName>Reserve Security</BankName><BusinessType>OS</BusinessType><YearOpened>1991</YearOpened><Specialty>Touring</Specialty><SquareFeet>74000</SquareFeet><Brands>3</Brands><Internet>DSL</Internet><NumberEmployees>67</NumberEmployees></StoreSurvey></td><td>55ec3545-a751-4a37-944e-b5df36219e11</td><td>2014-09-12</td></tr><tr><td>360</td><td>Novelty Bikes</td><td>275</td><td><StoreSurvey xmlns=\"http://schemas.microsoft.com/sqlserver/2004/07/adventure-works/StoreSurvey\"><AnnualSales>3000000</AnnualSales><AnnualRevenue>300000</AnnualRevenue><BankName>Primary International</BankName><BusinessType>OS</BusinessType><YearOpened>1993</YearOpened><Specialty>Touring</Specialty><SquareFeet>74000</SquareFeet><Brands>4+</Brands><Internet>ISDN</Internet><NumberEmployees>70</NumberEmployees></StoreSurvey></td><td>cd239474-966c-4474-97a9-25d52289ed52</td><td>2014-09-12</td></tr><tr><td>362</td><td>Distinctive Cycles Sales & Service</td><td>279</td><td><StoreSurvey xmlns=\"http://schemas.microsoft.com/sqlserver/2004/07/adventure-works/StoreSurvey\"><AnnualSales>3000000</AnnualSales><AnnualRevenue>300000</AnnualRevenue><BankName>Primary Bank &amp; Reserve</BankName><BusinessType>OS</BusinessType><YearOpened>1995</YearOpened><Specialty>Mountain</Specialty><SquareFeet>75000</SquareFeet><Brands>3</Brands><Internet>DSL</Internet><NumberEmployees>79</NumberEmployees></StoreSurvey></td><td>7e5da4c4-23b4-4bd2-8037-b2be46e41c83</td><td>2014-09-12</td></tr><tr><td>364</td><td>Leading Bike Distributors</td><td>279</td><td><StoreSurvey xmlns=\"http://schemas.microsoft.com/sqlserver/2004/07/adventure-works/StoreSurvey\"><AnnualSales>800000</AnnualSales><AnnualRevenue>80000</AnnualRevenue><BankName>Reserve Security</BankName><BusinessType>BS</BusinessType><YearOpened>1978</YearOpened><Specialty>Road</Specialty><SquareFeet>18000</SquareFeet><Brands>3</Brands><Internet>T1</Internet><NumberEmployees>13</NumberEmployees></StoreSurvey></td><td>0c0b95fd-1934-4dd9-bc1c-8c1e2bf07ebc</td><td>2014-09-12</td></tr><tr><td>366</td><td>Activity Center</td><td>279</td><td><StoreSurvey xmlns=\"http://schemas.microsoft.com/sqlserver/2004/07/adventure-works/StoreSurvey\"><AnnualSales>1500000</AnnualSales><AnnualRevenue>150000</AnnualRevenue><BankName>Primary Bank &amp; Reserve</BankName><BusinessType>BS</BusinessType><YearOpened>1971</YearOpened><Specialty>Road</Specialty><SquareFeet>37000</SquareFeet><Brands>3</Brands><Internet>DSL</Internet><NumberEmployees>37</NumberEmployees></StoreSurvey></td><td>f579e604-b602-4d67-ab88-130df07753f0</td><td>2014-09-12</td></tr><tr><td>368</td><td>Brightwork Company</td><td>281</td><td><StoreSurvey xmlns=\"http://schemas.microsoft.com/sqlserver/2004/07/adventure-works/StoreSurvey\"><AnnualSales>1500000</AnnualSales><AnnualRevenue>150000</AnnualRevenue><BankName>International Security</BankName><BusinessType>BS</BusinessType><YearOpened>1979</YearOpened><Specialty>Mountain</Specialty><SquareFeet>36000</SquareFeet><Brands>4+</Brands><Internet>ISDN</Internet><NumberEmployees>38</NumberEmployees></StoreSurvey></td><td>6f4273ae-583c-4219-9e0b-2f3cd44a4000</td><td>2014-09-12</td></tr><tr><td>370</td><td>Resale Services</td><td>276</td><td><StoreSurvey xmlns=\"http://schemas.microsoft.com/sqlserver/2004/07/adventure-works/StoreSurvey\"><AnnualSales>800000</AnnualSales><AnnualRevenue>80000</AnnualRevenue><BankName>United Security</BankName><BusinessType>BM</BusinessType><YearOpened>1988</YearOpened><Specialty>Mountain</Specialty><SquareFeet>21000</SquareFeet><Brands>2</Brands><Internet>DSL</Internet><NumberEmployees>16</NumberEmployees></StoreSurvey></td><td>7c7076c8-2ab9-4810-bbca-b126fc811e32</td><td>2014-09-12</td></tr><tr><td>372</td><td>The Gear Store</td><td>277</td><td><StoreSurvey xmlns=\"http://schemas.microsoft.com/sqlserver/2004/07/adventure-works/StoreSurvey\"><AnnualSales>800000</AnnualSales><AnnualRevenue>80000</AnnualRevenue><BankName>International Bank</BankName><BusinessType>BM</BusinessType><YearOpened>1982</YearOpened><Specialty>Mountain</Specialty><SquareFeet>21000</SquareFeet><Brands>2</Brands><Internet>DSL</Internet><NumberEmployees>14</NumberEmployees></StoreSurvey></td><td>03e77d8a-62b6-41ee-b081-7ec3e60c9a3e</td><td>2014-09-12</td></tr><tr><td>374</td><td>Immense Manufacturing Company</td><td>277</td><td><StoreSurvey xmlns=\"http://schemas.microsoft.com/sqlserver/2004/07/adventure-works/StoreSurvey\"><AnnualSales>3000000</AnnualSales><AnnualRevenue>300000</AnnualRevenue><BankName>Guardian Bank</BankName><BusinessType>OS</BusinessType><YearOpened>1998</YearOpened><Specialty>Touring</Specialty><SquareFeet>76000</SquareFeet><Brands>4+</Brands><Internet>DSL</Internet><NumberEmployees>73</NumberEmployees></StoreSurvey></td><td>f948f121-09c9-46d4-a783-63ead859a044</td><td>2014-09-12</td></tr><tr><td>376</td><td>Extended Bike Sales</td><td>276</td><td><StoreSurvey xmlns=\"http://schemas.microsoft.com/sqlserver/2004/07/adventure-works/StoreSurvey\"><AnnualSales>3000000</AnnualSales><AnnualRevenue>300000</AnnualRevenue><BankName>International Security</BankName><BusinessType>OS</BusinessType><YearOpened>1990</YearOpened><Specialty>Mountain</Specialty><SquareFeet>73000</SquareFeet><Brands>4+</Brands><Internet>DSL</Internet><NumberEmployees>76</NumberEmployees></StoreSurvey></td><td>9e550241-b6cb-4e95-96a2-f3bef46016df</td><td>2014-09-12</td></tr><tr><td>378</td><td>Pedaling Components</td><td>288</td><td><StoreSurvey xmlns=\"http://schemas.microsoft.com/sqlserver/2004/07/adventure-works/StoreSurvey\"><AnnualSales>1500000</AnnualSales><AnnualRevenue>150000</AnnualRevenue><BankName>United Security</BankName><BusinessType>BS</BusinessType><YearOpened>1988</YearOpened><Specialty>Touring</Specialty><SquareFeet>36000</SquareFeet><Brands>4+</Brands><Internet>DSL</Internet><NumberEmployees>35</NumberEmployees></StoreSurvey></td><td>24dd7af1-d347-44cb-96fa-14b9ce5c83a8</td><td>2014-09-12</td></tr><tr><td>380</td><td>Workout Emporium</td><td>282</td><td><StoreSurvey xmlns=\"http://schemas.microsoft.com/sqlserver/2004/07/adventure-works/StoreSurvey\"><AnnualSales>1500000</AnnualSales><AnnualRevenue>150000</AnnualRevenue><BankName>International Bank</BankName><BusinessType>BS</BusinessType><YearOpened>1976</YearOpened><Specialty>Touring</Specialty><SquareFeet>39000</SquareFeet><Brands>4+</Brands><Internet>T1</Internet><NumberEmployees>36</NumberEmployees></StoreSurvey></td><td>649db09e-3aa4-4275-880c-7853b3395e51</td><td>2014-09-12</td></tr><tr><td>382</td><td>Work and Play Association</td><td>275</td><td><StoreSurvey xmlns=\"http://schemas.microsoft.com/sqlserver/2004/07/adventure-works/StoreSurvey\"><AnnualSales>800000</AnnualSales><AnnualRevenue>80000</AnnualRevenue><BankName>Primary Bank &amp; Reserve</BankName><BusinessType>BM</BusinessType><YearOpened>1976</YearOpened><Specialty>Road</Specialty><SquareFeet>22000</SquareFeet><Brands>4+</Brands><Internet>DSL</Internet><NumberEmployees>12</NumberEmployees></StoreSurvey></td><td>e5353da7-cb02-4c26-acd3-1c42050d4bb9</td><td>2014-09-12</td></tr><tr><td>384</td><td>Seaside Bike Works</td><td>286</td><td><StoreSurvey xmlns=\"http://schemas.microsoft.com/sqlserver/2004/07/adventure-works/StoreSurvey\"><AnnualSales>800000</AnnualSales><AnnualRevenue>80000</AnnualRevenue><BankName>International Security</BankName><BusinessType>BM</BusinessType><YearOpened>1970</YearOpened><Specialty>Touring</Specialty><SquareFeet>19000</SquareFeet><Brands>3</Brands><Internet>T1</Internet><NumberEmployees>10</NumberEmployees></StoreSurvey></td><td>4c85c347-c9c0-4e6d-b290-19970f0adea0</td><td>2014-09-12</td></tr><tr><td>386</td><td>Nice Bikes</td><td>278</td><td><StoreSurvey xmlns=\"http://schemas.microsoft.com/sqlserver/2004/07/adventure-works/StoreSurvey\"><AnnualSales>300000</AnnualSales><AnnualRevenue>30000</AnnualRevenue><BankName>Guardian Bank</BankName><BusinessType>BM</BusinessType><YearOpened>1975</YearOpened><Specialty>Road</Specialty><SquareFeet>9000</SquareFeet><Brands>4+</Brands><Internet>DSL</Internet><NumberEmployees>8</NumberEmployees></StoreSurvey></td><td>9fa1609c-9a36-4282-bc80-a562332def1b</td><td>2014-09-12</td></tr><tr><td>388</td><td>Remarkable Bike Store</td><td>276</td><td><StoreSurvey xmlns=\"http://schemas.microsoft.com/sqlserver/2004/07/adventure-works/StoreSurvey\"><AnnualSales>800000</AnnualSales><AnnualRevenue>80000</AnnualRevenue><BankName>United Security</BankName><BusinessType>BS</BusinessType><YearOpened>1972</YearOpened><Specialty>Road</Specialty><SquareFeet>17000</SquareFeet><Brands>3</Brands><Internet>T2</Internet><NumberEmployees>10</NumberEmployees></StoreSurvey></td><td>f2dcd314-506d-47f1-8cd0-6017c40c96ab</td><td>2014-09-12</td></tr><tr><td>390</td><td>Road-Way Mart</td><td>283</td><td><StoreSurvey xmlns=\"http://schemas.microsoft.com/sqlserver/2004/07/adventure-works/StoreSurvey\"><AnnualSales>1000000</AnnualSales><AnnualRevenue>100000</AnnualRevenue><BankName>Reserve Security</BankName><BusinessType>BS</BusinessType><YearOpened>1998</YearOpened><Specialty>Mountain</Specialty><SquareFeet>26000</SquareFeet><Brands>3</Brands><Internet>DSL</Internet><NumberEmployees>27</NumberEmployees></StoreSurvey></td><td>b0a08902-2c39-4a50-86e5-86e98c7b2597</td><td>2014-09-12</td></tr><tr><td>392</td><td>Small Cycle Store</td><td>275</td><td><StoreSurvey xmlns=\"http://schemas.microsoft.com/sqlserver/2004/07/adventure-works/StoreSurvey\"><AnnualSales>1000000</AnnualSales><AnnualRevenue>100000</AnnualRevenue><BankName>United Security</BankName><BusinessType>BS</BusinessType><YearOpened>1971</YearOpened><Specialty>Road</Specialty><SquareFeet>25000</SquareFeet><Brands>3</Brands><Internet>T1</Internet><NumberEmployees>28</NumberEmployees></StoreSurvey></td><td>c1cdcf27-3fa6-4bf9-a5ca-baeefc8fb8e0</td><td>2014-09-12</td></tr><tr><td>394</td><td>Blue-Ribbon Bike Company</td><td>279</td><td><StoreSurvey xmlns=\"http://schemas.microsoft.com/sqlserver/2004/07/adventure-works/StoreSurvey\"><AnnualSales>300000</AnnualSales><AnnualRevenue>30000</AnnualRevenue><BankName>Primary International</BankName><BusinessType>BM</BusinessType><YearOpened>1970</YearOpened><Specialty>Touring</Specialty><SquareFeet>9000</SquareFeet><Brands>AW</Brands><Internet>T1</Internet><NumberEmployees>6</NumberEmployees></StoreSurvey></td><td>096b2c5d-14e5-4bda-94e1-3e5c01d906c4</td><td>2014-09-12</td></tr><tr><td>396</td><td>Flawless Bike Shop</td><td>276</td><td><StoreSurvey xmlns=\"http://schemas.microsoft.com/sqlserver/2004/07/adventure-works/StoreSurvey\"><AnnualSales>300000</AnnualSales><AnnualRevenue>30000</AnnualRevenue><BankName>Reserve Security</BankName><BusinessType>BM</BusinessType><YearOpened>1978</YearOpened><Specialty>Road</Specialty><SquareFeet>10000</SquareFeet><Brands>3</Brands><Internet>T2</Internet><NumberEmployees>4</NumberEmployees></StoreSurvey></td><td>71aea07e-95c4-4c44-a919-01b5008639d3</td><td>2014-09-12</td></tr><tr><td>398</td><td>Grand Bicycle Stores</td><td>277</td><td><StoreSurvey xmlns=\"http://schemas.microsoft.com/sqlserver/2004/07/adventure-works/StoreSurvey\"><AnnualSales>300000</AnnualSales><AnnualRevenue>30000</AnnualRevenue><BankName>United Security</BankName><BusinessType>BM</BusinessType><YearOpened>1973</YearOpened><Specialty>Mountain</Specialty><SquareFeet>10000</SquareFeet><Brands>AW</Brands><Internet>ISDN</Internet><NumberEmployees>2</NumberEmployees></StoreSurvey></td><td>6def5808-13ca-4784-9f4e-1a1ffb1905d9</td><td>2014-09-12</td></tr><tr><td>400</td><td>Exertion Activities Club</td><td>281</td><td><StoreSurvey xmlns=\"http://schemas.microsoft.com/sqlserver/2004/07/adventure-works/StoreSurvey\"><AnnualSales>1500000</AnnualSales><AnnualRevenue>150000</AnnualRevenue><BankName>Guardian Bank</BankName><BusinessType>BS</BusinessType><YearOpened>1984</YearOpened><Specialty>Touring</Specialty><SquareFeet>38000</SquareFeet><Brands>4+</Brands><Internet>T1</Internet><NumberEmployees>32</NumberEmployees></StoreSurvey></td><td>ac060b37-154b-4f3f-a06e-918b7ea75bb1</td><td>2014-09-12</td></tr><tr><td>402</td><td>Impromptu Trips</td><td>283</td><td><StoreSurvey xmlns=\"http://schemas.microsoft.com/sqlserver/2004/07/adventure-works/StoreSurvey\"><AnnualSales>1500000</AnnualSales><AnnualRevenue>150000</AnnualRevenue><BankName>Primary International</BankName><BusinessType>BS</BusinessType><YearOpened>1978</YearOpened><Specialty>Mountain</Specialty><SquareFeet>37000</SquareFeet><Brands>4+</Brands><Internet>ISDN</Internet><NumberEmployees>33</NumberEmployees></StoreSurvey></td><td>16255726-8647-401a-9de9-ab524a839804</td><td>2014-09-12</td></tr><tr><td>404</td><td>Margie's Travel</td><td>275</td><td><StoreSurvey xmlns=\"http://schemas.microsoft.com/sqlserver/2004/07/adventure-works/StoreSurvey\"><AnnualSales>1500000</AnnualSales><AnnualRevenue>150000</AnnualRevenue><BankName>Reserve Security</BankName><BusinessType>BS</BusinessType><YearOpened>1972</YearOpened><Specialty>Mountain</Specialty><SquareFeet>35000</SquareFeet><Brands>2</Brands><Internet>T1</Internet><NumberEmployees>34</NumberEmployees></StoreSurvey></td><td>9d71ff30-1bc5-4f0b-bd7b-3618b58634e9</td><td>2014-09-12</td></tr><tr><td>406</td><td>Kickstand Sellers</td><td>275</td><td><StoreSurvey xmlns=\"http://schemas.microsoft.com/sqlserver/2004/07/adventure-works/StoreSurvey\"><AnnualSales>300000</AnnualSales><AnnualRevenue>30000</AnnualRevenue><BankName>International Bank</BankName><BusinessType>BM</BusinessType><YearOpened>1981</YearOpened><Specialty>Mountain</Specialty><SquareFeet>8000</SquareFeet><Brands>4+</Brands><Internet>T1</Internet><NumberEmployees>3</NumberEmployees></StoreSurvey></td><td>f6f76f14-09d5-4b11-bad6-e3bff76ac761</td><td>2014-09-12</td></tr><tr><td>408</td><td>Nearest Bike Store</td><td>286</td><td><StoreSurvey xmlns=\"http://schemas.microsoft.com/sqlserver/2004/07/adventure-works/StoreSurvey\"><AnnualSales>300000</AnnualSales><AnnualRevenue>30000</AnnualRevenue><BankName>Primary Bank &amp; Reserve</BankName><BusinessType>BM</BusinessType><YearOpened>1976</YearOpened><Specialty>Touring</Specialty><SquareFeet>8000</SquareFeet><Brands>4+</Brands><Internet>T1</Internet><NumberEmployees>4</NumberEmployees></StoreSurvey></td><td>aac48ead-3e12-4431-89c4-964406a7a94d</td><td>2014-09-12</td></tr><tr><td>410</td><td>Fast Bike Works</td><td>286</td><td><StoreSurvey xmlns=\"http://schemas.microsoft.com/sqlserver/2004/07/adventure-works/StoreSurvey\"><AnnualSales>1000000</AnnualSales><AnnualRevenue>100000</AnnualRevenue><BankName>Primary International</BankName><BusinessType>BS</BusinessType><YearOpened>1971</YearOpened><Specialty>Touring</Specialty><SquareFeet>25000</SquareFeet><Brands>4+</Brands><Internet>DSL</Internet><NumberEmployees>28</NumberEmployees></StoreSurvey></td><td>d09c875e-114a-4d24-a68b-aed21ee23494</td><td>2014-09-12</td></tr><tr><td>412</td><td>Gasless Cycle Shop</td><td>278</td><td><StoreSurvey xmlns=\"http://schemas.microsoft.com/sqlserver/2004/07/adventure-works/StoreSurvey\"><AnnualSales>1000000</AnnualSales><AnnualRevenue>100000</AnnualRevenue><BankName>Reserve Security</BankName><BusinessType>BS</BusinessType><YearOpened>2001</YearOpened><Specialty>Road</Specialty><SquareFeet>24000</SquareFeet><Brands>3</Brands><Internet>DSL</Internet><NumberEmployees>29</NumberEmployees></StoreSurvey></td><td>824b931b-5f27-407c-81ad-00ff7bc886f1</td><td>2014-09-12</td></tr><tr><td>414</td><td>Lubricant and Grease Suppliers</td><td>279</td><td><StoreSurvey xmlns=\"http://schemas.microsoft.com/sqlserver/2004/07/adventure-works/StoreSurvey\"><AnnualSales>1500000</AnnualSales><AnnualRevenue>150000</AnnualRevenue><BankName>United Security</BankName><BusinessType>BS</BusinessType><YearOpened>1996</YearOpened><Specialty>Mountain</Specialty><SquareFeet>37000</SquareFeet><Brands>4+</Brands><Internet>DSL</Internet><NumberEmployees>30</NumberEmployees></StoreSurvey></td><td>4047a571-c602-4433-956c-c6af7366bf22</td><td>2014-09-12</td></tr><tr><td>416</td><td>Teen Discount Store</td><td>288</td><td><StoreSurvey xmlns=\"http://schemas.microsoft.com/sqlserver/2004/07/adventure-works/StoreSurvey\"><AnnualSales>800000</AnnualSales><AnnualRevenue>80000</AnnualRevenue><BankName>Reserve Security</BankName><BusinessType>BM</BusinessType><YearOpened>1994</YearOpened><Specialty>Mountain</Specialty><SquareFeet>18000</SquareFeet><Brands>3</Brands><Internet>DSL</Internet><NumberEmployees>16</NumberEmployees></StoreSurvey></td><td>a22c02a3-37c8-402a-932f-bc8dd75bea87</td><td>2014-09-12</td></tr><tr><td>418</td><td>Transportation Options</td><td>282</td><td><StoreSurvey xmlns=\"http://schemas.microsoft.com/sqlserver/2004/07/adventure-works/StoreSurvey\"><AnnualSales>800000</AnnualSales><AnnualRevenue>80000</AnnualRevenue><BankName>United Security</BankName><BusinessType>BM</BusinessType><YearOpened>1987</YearOpened><Specialty>Mountain</Specialty><SquareFeet>20000</SquareFeet><Brands>3</Brands><Internet>DSL</Internet><NumberEmployees>17</NumberEmployees></StoreSurvey></td><td>7cbea615-beca-44c6-8c74-cb1541faefa6</td><td>2014-09-12</td></tr><tr><td>420</td><td>Capital Riding Supplies</td><td>288</td><td><StoreSurvey xmlns=\"http://schemas.microsoft.com/sqlserver/2004/07/adventure-works/StoreSurvey\"><AnnualSales>1500000</AnnualSales><AnnualRevenue>150000</AnnualRevenue><BankName>Primary Bank &amp; Reserve</BankName><BusinessType>OS</BusinessType><YearOpened>1986</YearOpened><Specialty>Mountain</Specialty><SquareFeet>39000</SquareFeet><Brands>2</Brands><Internet>DSL</Internet><NumberEmployees>46</NumberEmployees></StoreSurvey></td><td>7ea9a2a5-753c-4df2-93f6-ab81f5a4c135</td><td>2014-09-12</td></tr><tr><td>422</td><td>Bike Boutique</td><td>275</td><td><StoreSurvey xmlns=\"http://schemas.microsoft.com/sqlserver/2004/07/adventure-works/StoreSurvey\"><AnnualSales>1500000</AnnualSales><AnnualRevenue>150000</AnnualRevenue><BankName>International Bank</BankName><BusinessType>OS</BusinessType><YearOpened>1992</YearOpened><Specialty>Road</Specialty><SquareFeet>41000</SquareFeet><Brands>4+</Brands><Internet>ISDN</Internet><NumberEmployees>49</NumberEmployees></StoreSurvey></td><td>81eda8db-5162-424f-ba36-6cb6770cd064</td><td>2014-09-12</td></tr><tr><td>424</td><td>Bikes Anyone?</td><td>275</td><td><StoreSurvey xmlns=\"http://schemas.microsoft.com/sqlserver/2004/07/adventure-works/StoreSurvey\"><AnnualSales>1000000</AnnualSales><AnnualRevenue>100000</AnnualRevenue><BankName>International Security</BankName><BusinessType>BS</BusinessType><YearOpened>1996</YearOpened><Specialty>Touring</Specialty><SquareFeet>27000</SquareFeet><Brands>3</Brands><Internet>DSL</Internet><NumberEmployees>22</NumberEmployees></StoreSurvey></td><td>6368f18b-afcf-4008-9611-99458c02c985</td><td>2014-09-12</td></tr><tr><td>426</td><td>Cross-town Parts Shop</td><td>286</td><td><StoreSurvey xmlns=\"http://schemas.microsoft.com/sqlserver/2004/07/adventure-works/StoreSurvey\"><AnnualSales>800000</AnnualSales><AnnualRevenue>80000</AnnualRevenue><BankName>Guardian Bank</BankName><BusinessType>BS</BusinessType><YearOpened>1990</YearOpened><Specialty>Road</Specialty><SquareFeet>23000</SquareFeet><Brands>2</Brands><Internet>T1</Internet><NumberEmployees>19</NumberEmployees></StoreSurvey></td><td>dfed9777-d43c-497d-86d4-14407e43c535</td><td>2014-09-12</td></tr><tr><td>428</td><td>Finer Cycle Shop</td><td>278</td><td><StoreSurvey xmlns=\"http://schemas.microsoft.com/sqlserver/2004/07/adventure-works/StoreSurvey\"><AnnualSales>800000</AnnualSales><AnnualRevenue>80000</AnnualRevenue><BankName>Primary International</BankName><BusinessType>BS</BusinessType><YearOpened>1984</YearOpened><Specialty>Mountain</Specialty><SquareFeet>20000</SquareFeet><Brands>4+</Brands><Internet>ISDN</Internet><NumberEmployees>16</NumberEmployees></StoreSurvey></td><td>52b4d514-b45e-4bf6-821b-f972b738d732</td><td>2014-09-12</td></tr><tr><td>430</td><td>Center Cycle Shop</td><td>280</td><td><StoreSurvey xmlns=\"http://schemas.microsoft.com/sqlserver/2004/07/adventure-works/StoreSurvey\"><AnnualSales>1000000</AnnualSales><AnnualRevenue>100000</AnnualRevenue><BankName>Primary Bank &amp; Reserve</BankName><BusinessType>BM</BusinessType><YearOpened>2000</YearOpened><Specialty>Road</Specialty><SquareFeet>25000</SquareFeet><Brands>4+</Brands><Internet>T1</Internet><NumberEmployees>20</NumberEmployees></StoreSurvey></td><td>8e153f0c-275c-42ca-98df-adefb90ab587</td><td>2014-09-12</td></tr><tr><td>432</td><td>Bulk Discount Store</td><td>289</td><td><StoreSurvey xmlns=\"http://schemas.microsoft.com/sqlserver/2004/07/adventure-works/StoreSurvey\"><AnnualSales>800000</AnnualSales><AnnualRevenue>80000</AnnualRevenue><BankName>International Security</BankName><BusinessType>BM</BusinessType><YearOpened>2000</YearOpened><Specialty>Road</Specialty><SquareFeet>21000</SquareFeet><Brands>3</Brands><Internet>DSL</Internet><NumberEmployees>17</NumberEmployees></StoreSurvey></td><td>e26b0754-871a-49ad-a21b-5e58d7e804ed</td><td>2014-09-12</td></tr><tr><td>434</td><td>Country Parts Shop</td><td>290</td><td><StoreSurvey xmlns=\"http://schemas.microsoft.com/sqlserver/2004/07/adventure-works/StoreSurvey\"><AnnualSales>800000</AnnualSales><AnnualRevenue>80000</AnnualRevenue><BankName>Guardian Bank</BankName><BusinessType>BM</BusinessType><YearOpened>1994</YearOpened><Specialty>Road</Specialty><SquareFeet>21000</SquareFeet><Brands>4+</Brands><Internet>DSL</Internet><NumberEmployees>14</NumberEmployees></StoreSurvey></td><td>9b88e8ed-c244-484d-8c4f-89f59570ebea</td><td>2014-09-12</td></tr><tr><td>436</td><td>Second Bike Shop</td><td>286</td><td><StoreSurvey xmlns=\"http://schemas.microsoft.com/sqlserver/2004/07/adventure-works/StoreSurvey\"><AnnualSales>800000</AnnualSales><AnnualRevenue>80000</AnnualRevenue><BankName>Guardian Bank</BankName><BusinessType>BM</BusinessType><YearOpened>2000</YearOpened><Specialty>Road</Specialty><SquareFeet>21000</SquareFeet><Brands>4+</Brands><Internet>T1</Internet><NumberEmployees>19</NumberEmployees></StoreSurvey></td><td>20838797-ec33-4328-bdc0-99190729be4a</td><td>2014-09-12</td></tr><tr><td>438</td><td>First-Rate Outlet</td><td>278</td><td><StoreSurvey xmlns=\"http://schemas.microsoft.com/sqlserver/2004/07/adventure-works/StoreSurvey\"><AnnualSales>1000000</AnnualSales><AnnualRevenue>100000</AnnualRevenue><BankName>Primary International</BankName><BusinessType>BM</BusinessType><YearOpened>2000</YearOpened><Specialty>Road</Specialty><SquareFeet>26000</SquareFeet><Brands>3</Brands><Internet>T1</Internet><NumberEmployees>20</NumberEmployees></StoreSurvey></td><td>7642e78c-f447-4f9d-b8cb-e6bb467db663</td><td>2014-09-12</td></tr><tr><td>440</td><td>Juvenile Sports Equipment</td><td>279</td><td><StoreSurvey xmlns=\"http://schemas.microsoft.com/sqlserver/2004/07/adventure-works/StoreSurvey\"><AnnualSales>800000</AnnualSales><AnnualRevenue>80000</AnnualRevenue><BankName>Reserve Security</BankName><BusinessType>BM</BusinessType><YearOpened>1994</YearOpened><Specialty>Mountain</Specialty><SquareFeet>20000</SquareFeet><Brands>2</Brands><Internet>DSL</Internet><NumberEmployees>18</NumberEmployees></StoreSurvey></td><td>74b38bf4-113c-42ec-8e72-7e4b35e5bc55</td><td>2014-09-12</td></tr><tr><td>442</td><td>Another Bicycle Company</td><td>283</td><td><StoreSurvey xmlns=\"http://schemas.microsoft.com/sqlserver/2004/07/adventure-works/StoreSurvey\"><AnnualSales>300000</AnnualSales><AnnualRevenue>30000</AnnualRevenue><BankName>Reserve Security</BankName><BusinessType>BM</BusinessType><YearOpened>1973</YearOpened><Specialty>Touring</Specialty><SquareFeet>6000</SquareFeet><Brands>AW</Brands><Internet>DSL</Internet><NumberEmployees>2</NumberEmployees></StoreSurvey></td><td>4280c0d5-6765-4add-a679-f341d27c0ecf</td><td>2014-09-12</td></tr><tr><td>444</td><td>Fourth Bike Store</td><td>275</td><td><StoreSurvey xmlns=\"http://schemas.microsoft.com/sqlserver/2004/07/adventure-works/StoreSurvey\"><AnnualSales>300000</AnnualSales><AnnualRevenue>30000</AnnualRevenue><BankName>United Security</BankName><BusinessType>BM</BusinessType><YearOpened>1981</YearOpened><Specialty>Touring</Specialty><SquareFeet>9000</SquareFeet><Brands>AW</Brands><Internet>T1</Internet><NumberEmployees>3</NumberEmployees></StoreSurvey></td><td>e8623c2d-ccbf-497a-8147-6574abe11b19</td><td>2014-09-12</td></tr><tr><td>446</td><td>Rodeway Bike Store</td><td>288</td><td><StoreSurvey xmlns=\"http://schemas.microsoft.com/sqlserver/2004/07/adventure-works/StoreSurvey\"><AnnualSales>300000</AnnualSales><AnnualRevenue>30000</AnnualRevenue><BankName>International Bank</BankName><BusinessType>BM</BusinessType><YearOpened>1976</YearOpened><Specialty>Mountain</Specialty><SquareFeet>7000</SquareFeet><Brands>4+</Brands><Internet>DSL</Internet><NumberEmployees>4</NumberEmployees></StoreSurvey></td><td>4f971590-8c1f-4b22-808e-5917b6fab7ec</td><td>2014-09-12</td></tr><tr><td>448</td><td>Traction Tire Company</td><td>276</td><td><StoreSurvey xmlns=\"http://schemas.microsoft.com/sqlserver/2004/07/adventure-works/StoreSurvey\"><AnnualSales>1500000</AnnualSales><AnnualRevenue>150000</AnnualRevenue><BankName>International Bank</BankName><BusinessType>BS</BusinessType><YearOpened>1990</YearOpened><Specialty>Mountain</Specialty><SquareFeet>39000</SquareFeet><Brands>2</Brands><Internet>DSL</Internet><NumberEmployees>31</NumberEmployees></StoreSurvey></td><td>6324fad5-6bc4-4715-85bc-a86c49e527f8</td><td>2014-09-12</td></tr><tr><td>450</td><td>Unsurpassed Bikes</td><td>277</td><td><StoreSurvey xmlns=\"http://schemas.microsoft.com/sqlserver/2004/07/adventure-works/StoreSurvey\"><AnnualSales>1500000</AnnualSales><AnnualRevenue>150000</AnnualRevenue><BankName>Primary Bank &amp; Reserve</BankName><BusinessType>BS</BusinessType><YearOpened>1984</YearOpened><Specialty>Touring</Specialty><SquareFeet>39000</SquareFeet><Brands>3</Brands><Internet>DSL</Internet><NumberEmployees>32</NumberEmployees></StoreSurvey></td><td>9bc34c8e-3856-4197-8013-f5e6c7aedb48</td><td>2014-09-12</td></tr><tr><td>452</td><td>Field Trip Inc</td><td>275</td><td><StoreSurvey xmlns=\"http://schemas.microsoft.com/sqlserver/2004/07/adventure-works/StoreSurvey\"><AnnualSales>1500000</AnnualSales><AnnualRevenue>150000</AnnualRevenue><BankName>International Security</BankName><BusinessType>BS</BusinessType><YearOpened>1978</YearOpened><Specialty>Road</Specialty><SquareFeet>35000</SquareFeet><Brands>4+</Brands><Internet>DSL</Internet><NumberEmployees>33</NumberEmployees></StoreSurvey></td><td>5276b793-128a-49f0-b822-d338c6b92fdc</td><td>2014-09-12</td></tr><tr><td>454</td><td>Tire Company</td><td>275</td><td><StoreSurvey xmlns=\"http://schemas.microsoft.com/sqlserver/2004/07/adventure-works/StoreSurvey\"><AnnualSales>1500000</AnnualSales><AnnualRevenue>150000</AnnualRevenue><BankName>International Bank</BankName><BusinessType>BS</BusinessType><YearOpened>1983</YearOpened><Specialty>Road</Specialty><SquareFeet>37000</SquareFeet><Brands>2</Brands><Internet>DSL</Internet><NumberEmployees>45</NumberEmployees></StoreSurvey></td><td>f875272b-6629-4832-9e45-f3e8e6dd8963</td><td>2014-09-12</td></tr><tr><td>456</td><td>Uncompromising Quality Co</td><td>286</td><td><StoreSurvey xmlns=\"http://schemas.microsoft.com/sqlserver/2004/07/adventure-works/StoreSurvey\"><AnnualSales>1500000</AnnualSales><AnnualRevenue>150000</AnnualRevenue><BankName>Primary Bank &amp; Reserve</BankName><BusinessType>BS</BusinessType><YearOpened>1991</YearOpened><Specialty>Touring</Specialty><SquareFeet>39000</SquareFeet><Brands>4+</Brands><Internet>DSL</Internet><NumberEmployees>46</NumberEmployees></StoreSurvey></td><td>058f1615-0267-4b7c-8e53-96101059cade</td><td>2014-09-12</td></tr><tr><td>458</td><td>Metallic Paint and Overcoat Co</td><td>281</td><td><StoreSurvey xmlns=\"http://schemas.microsoft.com/sqlserver/2004/07/adventure-works/StoreSurvey\"><AnnualSales>1000000</AnnualSales><AnnualRevenue>100000</AnnualRevenue><BankName>Primary Bank &amp; Reserve</BankName><BusinessType>BS</BusinessType><YearOpened>1971</YearOpened><Specialty>Road</Specialty><SquareFeet>26000</SquareFeet><Brands>3</Brands><Internet>DSL</Internet><NumberEmployees>28</NumberEmployees></StoreSurvey></td><td>e06866f7-c659-4952-a1ec-d2b42f80613a</td><td>2014-09-12</td></tr><tr><td>460</td><td>Pro Sporting Goods</td><td>276</td><td><StoreSurvey xmlns=\"http://schemas.microsoft.com/sqlserver/2004/07/adventure-works/StoreSurvey\"><AnnualSales>3000000</AnnualSales><AnnualRevenue>300000</AnnualRevenue><BankName>Primary International</BankName><BusinessType>OS</BusinessType><YearOpened>1972</YearOpened><Specialty>Mountain</Specialty><SquareFeet>79000</SquareFeet><Brands>4+</Brands><Internet>DSL</Internet><NumberEmployees>90</NumberEmployees></StoreSurvey></td><td>5a1ee7a6-2fd6-45c8-9b0d-41991049cdea</td><td>2014-09-12</td></tr><tr><td>462</td><td>Sporting Goods and Bicycle Shop</td><td>279</td><td><StoreSurvey xmlns=\"http://schemas.microsoft.com/sqlserver/2004/07/adventure-works/StoreSurvey\"><AnnualSales>3000000</AnnualSales><AnnualRevenue>300000</AnnualRevenue><BankName>Guardian Bank</BankName><BusinessType>OS</BusinessType><YearOpened>1977</YearOpened><Specialty>Road</Specialty><SquareFeet>78000</SquareFeet><Brands>3</Brands><Internet>DSL</Internet><NumberEmployees>91</NumberEmployees></StoreSurvey></td><td>93d4a3a7-d111-4113-859e-5b253dd9d943</td><td>2014-09-12</td></tr><tr><td>464</td><td>Odometers and Accessories Company</td><td>278</td><td><StoreSurvey xmlns=\"http://schemas.microsoft.com/sqlserver/2004/07/adventure-works/StoreSurvey\"><AnnualSales>3000000</AnnualSales><AnnualRevenue>300000</AnnualRevenue><BankName>International Security</BankName><BusinessType>OS</BusinessType><YearOpened>1987</YearOpened><Specialty>Touring</Specialty><SquareFeet>76000</SquareFeet><Brands>4+</Brands><Internet>DSL</Internet><NumberEmployees>92</NumberEmployees></StoreSurvey></td><td>47e77224-11e5-4ab9-bc23-cd122f9c281d</td><td>2014-09-12</td></tr><tr><td>466</td><td>Scratch-Resistant Finishes Company</td><td>282</td><td><StoreSurvey xmlns=\"http://schemas.microsoft.com/sqlserver/2004/07/adventure-works/StoreSurvey\"><AnnualSales>800000</AnnualSales><AnnualRevenue>80000</AnnualRevenue><BankName>Guardian Bank</BankName><BusinessType>BS</BusinessType><YearOpened>1984</YearOpened><Specialty>Mountain</Specialty><SquareFeet>21000</SquareFeet><Brands>4+</Brands><Internet>DSL</Internet><NumberEmployees>16</NumberEmployees></StoreSurvey></td><td>5f85023b-d708-4d44-b1a2-927a21c4cbbb</td><td>2014-09-12</td></tr><tr><td>468</td><td>Topnotch Bikes</td><td>279</td><td><StoreSurvey xmlns=\"http://schemas.microsoft.com/sqlserver/2004/07/adventure-works/StoreSurvey\"><AnnualSales>800000</AnnualSales><AnnualRevenue>80000</AnnualRevenue><BankName>Primary International</BankName><BusinessType>BS</BusinessType><YearOpened>1978</YearOpened><Specialty>Mountain</Specialty><SquareFeet>22000</SquareFeet><Brands>2</Brands><Internet>T3</Internet><NumberEmployees>13</NumberEmployees></StoreSurvey></td><td>69a76a96-12fc-4b67-9655-c578e6b02933</td><td>2014-09-12</td></tr><tr><td>470</td><td>Unicycles, Bicycles, and Tricycles</td><td>281</td><td><StoreSurvey xmlns=\"http://schemas.microsoft.com/sqlserver/2004/07/adventure-works/StoreSurvey\"><AnnualSales>800000</AnnualSales><AnnualRevenue>80000</AnnualRevenue><BankName>Reserve Security</BankName><BusinessType>BS</BusinessType><YearOpened>1972</YearOpened><Specialty>Touring</Specialty><SquareFeet>17000</SquareFeet><Brands>4+</Brands><Internet>T1</Internet><NumberEmployees>10</NumberEmployees></StoreSurvey></td><td>58f17106-c637-44ce-b352-164e1ad7c41d</td><td>2014-09-12</td></tr><tr><td>472</td><td>Safe Cycles Shop</td><td>283</td><td><StoreSurvey xmlns=\"http://schemas.microsoft.com/sqlserver/2004/07/adventure-works/StoreSurvey\"><AnnualSales>3000000</AnnualSales><AnnualRevenue>300000</AnnualRevenue><BankName>International Security</BankName><BusinessType>OS</BusinessType><YearOpened>1998</YearOpened><Specialty>Mountain</Specialty><SquareFeet>72000</SquareFeet><Brands>4+</Brands><Internet>DSL</Internet><NumberEmployees>73</NumberEmployees></StoreSurvey></td><td>828d8f6d-95c6-4fdc-9888-45672fec0e11</td><td>2014-09-12</td></tr><tr><td>474</td><td>Number 1 Supply</td><td>281</td><td><StoreSurvey xmlns=\"http://schemas.microsoft.com/sqlserver/2004/07/adventure-works/StoreSurvey\"><AnnualSales>3000000</AnnualSales><AnnualRevenue>300000</AnnualRevenue><BankName>Primary Bank &amp; Reserve</BankName><BusinessType>OS</BusinessType><YearOpened>1990</YearOpened><Specialty>Road</Specialty><SquareFeet>75000</SquareFeet><Brands>4+</Brands><Internet>ISDN</Internet><NumberEmployees>76</NumberEmployees></StoreSurvey></td><td>a4d7720a-57dd-4084-bfc6-b49cd3367ffe</td><td>2014-09-12</td></tr><tr><td>476</td><td>Industrial Supplies</td><td>279</td><td><StoreSurvey xmlns=\"http://schemas.microsoft.com/sqlserver/2004/07/adventure-works/StoreSurvey\"><AnnualSales>3000000</AnnualSales><AnnualRevenue>300000</AnnualRevenue><BankName>International Bank</BankName><BusinessType>OS</BusinessType><YearOpened>1995</YearOpened><Specialty>Touring</Specialty><SquareFeet>73000</SquareFeet><Brands>3</Brands><Internet>DSL</Internet><NumberEmployees>79</NumberEmployees></StoreSurvey></td><td>706a4161-4e67-41e1-a31b-2be9fbf864f3</td><td>2014-09-12</td></tr><tr><td>478</td><td>Golf and Cycle Store</td><td>281</td><td><StoreSurvey xmlns=\"http://schemas.microsoft.com/sqlserver/2004/07/adventure-works/StoreSurvey\"><AnnualSales>3000000</AnnualSales><AnnualRevenue>300000</AnnualRevenue><BankName>Guardian Bank</BankName><BusinessType>OS</BusinessType><YearOpened>1978</YearOpened><Specialty>Mountain</Specialty><SquareFeet>75000</SquareFeet><Brands>2</Brands><Internet>DSL</Internet><NumberEmployees>86</NumberEmployees></StoreSurvey></td><td>68c1f86e-f581-4aea-afa4-b0c03eaf1f13</td><td>2014-09-12</td></tr><tr><td>480</td><td>Front Runner Bikes</td><td>279</td><td><StoreSurvey xmlns=\"http://schemas.microsoft.com/sqlserver/2004/07/adventure-works/StoreSurvey\"><AnnualSales>3000000</AnnualSales><AnnualRevenue>300000</AnnualRevenue><BankName>International Security</BankName><BusinessType>OS</BusinessType><YearOpened>1983</YearOpened><Specialty>Touring</Specialty><SquareFeet>77000</SquareFeet><Brands>4+</Brands><Internet>DSL</Internet><NumberEmployees>87</NumberEmployees></StoreSurvey></td><td>0e549387-9dc1-4f37-89af-34faaeb7cfaf</td><td>2014-09-12</td></tr><tr><td>482</td><td>Favorite Toy Distributor</td><td>290</td><td><StoreSurvey xmlns=\"http://schemas.microsoft.com/sqlserver/2004/07/adventure-works/StoreSurvey\"><AnnualSales>3000000</AnnualSales><AnnualRevenue>300000</AnnualRevenue><BankName>Primary Bank &amp; Reserve</BankName><BusinessType>OS</BusinessType><YearOpened>1975</YearOpened><Specialty>Touring</Specialty><SquareFeet>77000</SquareFeet><Brands>4+</Brands><Internet>DSL</Internet><NumberEmployees>88</NumberEmployees></StoreSurvey></td><td>d4352e50-aa19-434c-a515-694e42b3c4bf</td><td>2014-09-12</td></tr><tr><td>484</td><td>World Bike Discount Store</td><td>276</td><td><StoreSurvey xmlns=\"http://schemas.microsoft.com/sqlserver/2004/07/adventure-works/StoreSurvey\"><AnnualSales>1500000</AnnualSales><AnnualRevenue>150000</AnnualRevenue><BankName>Guardian Bank</BankName><BusinessType>BS</BusinessType><YearOpened>1979</YearOpened><Specialty>Road</Specialty><SquareFeet>39000</SquareFeet><Brands>4+</Brands><Internet>DSL</Internet><NumberEmployees>38</NumberEmployees></StoreSurvey></td><td>e73e6b44-3824-4c98-a7b1-796f1f1e0de8</td><td>2014-09-12</td></tr><tr><td>486</td><td>Global Sporting Goods</td><td>277</td><td><StoreSurvey xmlns=\"http://schemas.microsoft.com/sqlserver/2004/07/adventure-works/StoreSurvey\"><AnnualSales>1500000</AnnualSales><AnnualRevenue>150000</AnnualRevenue><BankName>Primary International</BankName><BusinessType>BS</BusinessType><YearOpened>1974</YearOpened><Specialty>Road</Specialty><SquareFeet>36000</SquareFeet><Brands>3</Brands><Internet>DSL</Internet><NumberEmployees>39</NumberEmployees></StoreSurvey></td><td>df54deb4-58d4-4d01-9288-3f4a14f346b5</td><td>2014-09-12</td></tr><tr><td>488</td><td>Historic Bicycle Sales</td><td>275</td><td><StoreSurvey xmlns=\"http://schemas.microsoft.com/sqlserver/2004/07/adventure-works/StoreSurvey\"><AnnualSales>1500000</AnnualSales><AnnualRevenue>150000</AnnualRevenue><BankName>Reserve Security</BankName><BusinessType>BS</BusinessType><YearOpened>1982</YearOpened><Specialty>Mountain</Specialty><SquareFeet>38000</SquareFeet><Brands>2</Brands><Internet>T1</Internet><NumberEmployees>40</NumberEmployees></StoreSurvey></td><td>ef4de775-b406-45c4-a6dd-9b0b4815fdbf</td><td>2014-09-12</td></tr><tr><td>490</td><td>Commuter Bicycle Store</td><td>282</td><td><StoreSurvey xmlns=\"http://schemas.microsoft.com/sqlserver/2004/07/adventure-works/StoreSurvey\"><AnnualSales>800000</AnnualSales><AnnualRevenue>80000</AnnualRevenue><BankName>Reserve Security</BankName><BusinessType>BM</BusinessType><YearOpened>1987</YearOpened><Specialty>Touring</Specialty><SquareFeet>22000</SquareFeet><Brands>4+</Brands><Internet>T1</Internet><NumberEmployees>17</NumberEmployees></StoreSurvey></td><td>326d145a-2c37-4f02-aa83-350132148316</td><td>2014-09-12</td></tr><tr><td>492</td><td>Coalition Bike Company</td><td>281</td><td><StoreSurvey xmlns=\"http://schemas.microsoft.com/sqlserver/2004/07/adventure-works/StoreSurvey\"><AnnualSales>800000</AnnualSales><AnnualRevenue>80000</AnnualRevenue><BankName>United Security</BankName><BusinessType>BM</BusinessType><YearOpened>1997</YearOpened><Specialty>Mountain</Specialty><SquareFeet>23000</SquareFeet><Brands>2</Brands><Internet>DSL</Internet><NumberEmployees>18</NumberEmployees></StoreSurvey></td><td>137fea4b-320d-4676-a548-8efcf1f6b36b</td><td>2014-09-12</td></tr><tr><td>494</td><td>Travel Systems</td><td>277</td><td><StoreSurvey xmlns=\"http://schemas.microsoft.com/sqlserver/2004/07/adventure-works/StoreSurvey\"><AnnualSales>800000</AnnualSales><AnnualRevenue>80000</AnnualRevenue><BankName>International Bank</BankName><BusinessType>BM</BusinessType><YearOpened>1975</YearOpened><Specialty>Road</Specialty><SquareFeet>21000</SquareFeet><Brands>4+</Brands><Internet>T2</Internet><NumberEmployees>19</NumberEmployees></StoreSurvey></td><td>18203555-d7ae-4da4-a9fc-316d73435120</td><td>2014-09-12</td></tr><tr><td>496</td><td>Grease and Oil Products Company</td><td>277</td><td><StoreSurvey xmlns=\"http://schemas.microsoft.com/sqlserver/2004/07/adventure-works/StoreSurvey\"><AnnualSales>1500000</AnnualSales><AnnualRevenue>150000</AnnualRevenue><BankName>Primary Bank &amp; Reserve</BankName><BusinessType>BS</BusinessType><YearOpened>1979</YearOpened><Specialty>Road</Specialty><SquareFeet>36000</SquareFeet><Brands>4+</Brands><Internet>T2</Internet><NumberEmployees>38</NumberEmployees></StoreSurvey></td><td>458ad954-8f14-43b4-be03-b994cac60358</td><td>2014-09-12</td></tr><tr><td>498</td><td>Moderately-Priced Bikes Store</td><td>280</td><td><StoreSurvey xmlns=\"http://schemas.microsoft.com/sqlserver/2004/07/adventure-works/StoreSurvey\"><AnnualSales>1500000</AnnualSales><AnnualRevenue>150000</AnnualRevenue><BankName>International Security</BankName><BusinessType>BS</BusinessType><YearOpened>1974</YearOpened><Specialty>Mountain</Specialty><SquareFeet>39000</SquareFeet><Brands>2</Brands><Internet>DSL</Internet><NumberEmployees>39</NumberEmployees></StoreSurvey></td><td>05fd9119-a72e-4042-b2ce-cb512247db27</td><td>2014-09-12</td></tr><tr><td>500</td><td>Toy Manufacturing Inc</td><td>278</td><td><StoreSurvey xmlns=\"http://schemas.microsoft.com/sqlserver/2004/07/adventure-works/StoreSurvey\"><AnnualSales>1500000</AnnualSales><AnnualRevenue>150000</AnnualRevenue><BankName>Guardian Bank</BankName><BusinessType>BS</BusinessType><YearOpened>1977</YearOpened><Specialty>Road</Specialty><SquareFeet>40000</SquareFeet><Brands>4+</Brands><Internet>DSL</Internet><NumberEmployees>41</NumberEmployees></StoreSurvey></td><td>4984efd9-0788-450a-a4ac-019899744287</td><td>2014-09-12</td></tr><tr><td>502</td><td>Eighty Toy Stores</td><td>279</td><td><StoreSurvey xmlns=\"http://schemas.microsoft.com/sqlserver/2004/07/adventure-works/StoreSurvey\"><AnnualSales>1500000</AnnualSales><AnnualRevenue>150000</AnnualRevenue><BankName>Primary International</BankName><BusinessType>BS</BusinessType><YearOpened>1985</YearOpened><Specialty>Road</Specialty><SquareFeet>37000</SquareFeet><Brands>4+</Brands><Internet>T1</Internet><NumberEmployees>42</NumberEmployees></StoreSurvey></td><td>9664e5a8-7584-410b-b610-ad49368d670e</td><td>2014-09-12</td></tr><tr><td>504</td><td>Economy Bikes Company</td><td>276</td><td><StoreSurvey xmlns=\"http://schemas.microsoft.com/sqlserver/2004/07/adventure-works/StoreSurvey\"><AnnualSales>1500000</AnnualSales><AnnualRevenue>150000</AnnualRevenue><BankName>Reserve Security</BankName><BusinessType>BS</BusinessType><YearOpened>1980</YearOpened><Specialty>Mountain</Specialty><SquareFeet>41000</SquareFeet><Brands>4+</Brands><Internet>DSL</Internet><NumberEmployees>43</NumberEmployees></StoreSurvey></td><td>ab32ce06-f2af-4b8a-889a-cfc4db6b150a</td><td>2014-09-12</td></tr><tr><td>506</td><td>Third Bike Store</td><td>277</td><td><StoreSurvey xmlns=\"http://schemas.microsoft.com/sqlserver/2004/07/adventure-works/StoreSurvey\"><AnnualSales>1500000</AnnualSales><AnnualRevenue>150000</AnnualRevenue><BankName>United Security</BankName><BusinessType>BS</BusinessType><YearOpened>1988</YearOpened><Specialty>Road</Specialty><SquareFeet>37000</SquareFeet><Brands>4+</Brands><Internet>T1</Internet><NumberEmployees>44</NumberEmployees></StoreSurvey></td><td>a7048720-5bdd-4df4-8685-d14d868ae297</td><td>2014-09-12</td></tr><tr><td>508</td><td>Atypical Bike Company</td><td>290</td><td><StoreSurvey xmlns=\"http://schemas.microsoft.com/sqlserver/2004/07/adventure-works/StoreSurvey\"><AnnualSales>1000000</AnnualSales><AnnualRevenue>100000</AnnualRevenue><BankName>Reserve Security</BankName><BusinessType>BM</BusinessType><YearOpened>2000</YearOpened><Specialty>Road</Specialty><SquareFeet>25000</SquareFeet><Brands>3</Brands><Internet>DSL</Internet><NumberEmployees>20</NumberEmployees></StoreSurvey></td><td>fc920a3a-8bae-403d-99ce-542bf8923fbd</td><td>2014-09-12</td></tr><tr><td>510</td><td>Bikes for Two</td><td>282</td><td><StoreSurvey xmlns=\"http://schemas.microsoft.com/sqlserver/2004/07/adventure-works/StoreSurvey\"><AnnualSales>800000</AnnualSales><AnnualRevenue>80000</AnnualRevenue><BankName>United Security</BankName><BusinessType>BM</BusinessType><YearOpened>1994</YearOpened><Specialty>Mountain</Specialty><SquareFeet>22000</SquareFeet><Brands>3</Brands><Internet>T1</Internet><NumberEmployees>18</NumberEmployees></StoreSurvey></td><td>da5280d3-2e15-4359-a493-c036c0a84ec4</td><td>2014-09-12</td></tr><tr><td>512</td><td>Metal Processing Company</td><td>278</td><td><StoreSurvey xmlns=\"http://schemas.microsoft.com/sqlserver/2004/07/adventure-works/StoreSurvey\"><AnnualSales>1500000</AnnualSales><AnnualRevenue>150000</AnnualRevenue><BankName>International Security</BankName><BusinessType>BS</BusinessType><YearOpened>1986</YearOpened><Specialty>Road</Specialty><SquareFeet>39000</SquareFeet><Brands>4+</Brands><Internet>DSL</Internet><NumberEmployees>47</NumberEmployees></StoreSurvey></td><td>e71200e7-e3b5-4a40-bad9-88364de28030</td><td>2014-09-12</td></tr><tr><td>514</td><td>Widget Bicycle Specialists</td><td>279</td><td><StoreSurvey xmlns=\"http://schemas.microsoft.com/sqlserver/2004/07/adventure-works/StoreSurvey\"><AnnualSales>1500000</AnnualSales><AnnualRevenue>150000</AnnualRevenue><BankName>Guardian Bank</BankName><BusinessType>BS</BusinessType><YearOpened>1994</YearOpened><Specialty>Road</Specialty><SquareFeet>38000</SquareFeet><Brands>3</Brands><Internet>DSL</Internet><NumberEmployees>48</NumberEmployees></StoreSurvey></td><td>5a49a2fe-09cc-46a7-95f5-e81f346477bb</td><td>2014-09-12</td></tr><tr><td>516</td><td>Initial Bike Company</td><td>281</td><td><StoreSurvey xmlns=\"http://schemas.microsoft.com/sqlserver/2004/07/adventure-works/StoreSurvey\"><AnnualSales>800000</AnnualSales><AnnualRevenue>80000</AnnualRevenue><BankName>International Security</BankName><BusinessType>BM</BusinessType><YearOpened>1996</YearOpened><Specialty>Mountain</Specialty><SquareFeet>19000</SquareFeet><Brands>4+</Brands><Internet>DSL</Internet><NumberEmployees>13</NumberEmployees></StoreSurvey></td><td>0adcf413-2501-4dcb-bb86-01ce9f6d92be</td><td>2014-09-12</td></tr><tr><td>518</td><td>Latest Sports Equipment</td><td>283</td><td><StoreSurvey xmlns=\"http://schemas.microsoft.com/sqlserver/2004/07/adventure-works/StoreSurvey\"><AnnualSales>800000</AnnualSales><AnnualRevenue>80000</AnnualRevenue><BankName>Guardian Bank</BankName><BusinessType>BM</BusinessType><YearOpened>1991</YearOpened><Specialty>Mountain</Specialty><SquareFeet>18000</SquareFeet><Brands>4+</Brands><Internet>T1</Internet><NumberEmployees>14</NumberEmployees></StoreSurvey></td><td>afc82a28-1a27-4899-a413-1b4d32a2df11</td><td>2014-09-12</td></tr><tr><td>520</td><td>Modern Bike Store</td><td>275</td><td><StoreSurvey xmlns=\"http://schemas.microsoft.com/sqlserver/2004/07/adventure-works/StoreSurvey\"><AnnualSales>800000</AnnualSales><AnnualRevenue>80000</AnnualRevenue><BankName>Primary International</BankName><BusinessType>BM</BusinessType><YearOpened>1999</YearOpened><Specialty>Road</Specialty><SquareFeet>21000</SquareFeet><Brands>4+</Brands><Internet>T1</Internet><NumberEmployees>15</NumberEmployees></StoreSurvey></td><td>a7008459-efe5-459d-95d9-80f5e5b44132</td><td>2014-09-12</td></tr><tr><td>522</td><td>Raw Materials Inc</td><td>280</td><td><StoreSurvey xmlns=\"http://schemas.microsoft.com/sqlserver/2004/07/adventure-works/StoreSurvey\"><AnnualSales>3000000</AnnualSales><AnnualRevenue>300000</AnnualRevenue><BankName>Primary Bank &amp; Reserve</BankName><BusinessType>OS</BusinessType><YearOpened>1998</YearOpened><Specialty>Mountain</Specialty><SquareFeet>74000</SquareFeet><Brands>4+</Brands><Internet>ISDN</Internet><NumberEmployees>73</NumberEmployees></StoreSurvey></td><td>4575f698-2fa1-409c-866f-0d688251499a</td><td>2014-09-12</td></tr><tr><td>524</td><td>Lots of Bikes Storehouse</td><td>277</td><td><StoreSurvey xmlns=\"http://schemas.microsoft.com/sqlserver/2004/07/adventure-works/StoreSurvey\"><AnnualSales>3000000</AnnualSales><AnnualRevenue>300000</AnnualRevenue><BankName>International Bank</BankName><BusinessType>OS</BusinessType><YearOpened>1990</YearOpened><Specialty>Mountain</Specialty><SquareFeet>73000</SquareFeet><Brands>2</Brands><Internet>T1</Internet><NumberEmployees>76</NumberEmployees></StoreSurvey></td><td>91d541e3-6bc1-4921-bc6a-2c13eb3f7c02</td><td>2014-09-12</td></tr><tr><td>526</td><td>Futuristic Bikes</td><td>281</td><td><StoreSurvey xmlns=\"http://schemas.microsoft.com/sqlserver/2004/07/adventure-works/StoreSurvey\"><AnnualSales>3000000</AnnualSales><AnnualRevenue>300000</AnnualRevenue><BankName>United Security</BankName><BusinessType>OS</BusinessType><YearOpened>1995</YearOpened><Specialty>Mountain</Specialty><SquareFeet>77000</SquareFeet><Brands>2</Brands><Internet>DSL</Internet><NumberEmployees>79</NumberEmployees></StoreSurvey></td><td>41dfd0ba-e78e-4456-95ef-3595d32d7ca1</td><td>2014-09-12</td></tr><tr><td>528</td><td>Parcel Express Delivery Service</td><td>283</td><td><StoreSurvey xmlns=\"http://schemas.microsoft.com/sqlserver/2004/07/adventure-works/StoreSurvey\"><AnnualSales>1500000</AnnualSales><AnnualRevenue>150000</AnnualRevenue><BankName>United Security</BankName><BusinessType>BS</BusinessType><YearOpened>1979</YearOpened><Specialty>Road</Specialty><SquareFeet>36000</SquareFeet><Brands>4+</Brands><Internet>DSL</Internet><NumberEmployees>38</NumberEmployees></StoreSurvey></td><td>a4daaaf3-0d24-491d-bd6f-3d0413a38f2d</td><td>2014-09-12</td></tr><tr><td>530</td><td>Outdoor Distributors</td><td>275</td><td><StoreSurvey xmlns=\"http://schemas.microsoft.com/sqlserver/2004/07/adventure-works/StoreSurvey\"><AnnualSales>1500000</AnnualSales><AnnualRevenue>150000</AnnualRevenue><BankName>International Bank</BankName><BusinessType>BS</BusinessType><YearOpened>1974</YearOpened><Specialty>Mountain</Specialty><SquareFeet>36000</SquareFeet><Brands>3</Brands><Internet>DSL</Internet><NumberEmployees>39</NumberEmployees></StoreSurvey></td><td>b7004ace-63fa-4cab-8057-8456750c2dc0</td><td>2014-09-12</td></tr><tr><td>532</td><td>North Bike Company</td><td>288</td><td><StoreSurvey xmlns=\"http://schemas.microsoft.com/sqlserver/2004/07/adventure-works/StoreSurvey\"><AnnualSales>1500000</AnnualSales><AnnualRevenue>150000</AnnualRevenue><BankName>Primary Bank &amp; Reserve</BankName><BusinessType>BS</BusinessType><YearOpened>1982</YearOpened><Specialty>Road</Specialty><SquareFeet>37000</SquareFeet><Brands>4+</Brands><Internet>T1</Internet><NumberEmployees>40</NumberEmployees></StoreSurvey></td><td>dca8e739-f0fe-490f-990b-2b116d82c77d</td><td>2014-09-12</td></tr><tr><td>534</td><td>Prosperous Tours</td><td>289</td><td><StoreSurvey xmlns=\"http://schemas.microsoft.com/sqlserver/2004/07/adventure-works/StoreSurvey\"><AnnualSales>3000000</AnnualSales><AnnualRevenue>300000</AnnualRevenue><BankName>Guardian Bank</BankName><BusinessType>OS</BusinessType><YearOpened>1999</YearOpened><Specialty>Road</Specialty><SquareFeet>79000</SquareFeet><Brands>4+</Brands><Internet>T1</Internet><NumberEmployees>99</NumberEmployees></StoreSurvey></td><td>a0ee7b0a-7741-4f37-bdec-8d2206467fce</td><td>2014-09-12</td></tr><tr><td>536</td><td>Nonskid Tire Company</td><td>280</td><td><StoreSurvey xmlns=\"http://schemas.microsoft.com/sqlserver/2004/07/adventure-works/StoreSurvey\"><AnnualSales>3000000</AnnualSales><AnnualRevenue>300000</AnnualRevenue><BankName>International Security</BankName><BusinessType>OS</BusinessType><YearOpened>1999</YearOpened><Specialty>Mountain</Specialty><SquareFeet>80000</SquareFeet><Brands>3</Brands><Internet>T2</Internet><NumberEmployees>100</NumberEmployees></StoreSurvey></td><td>0e90c627-a250-4dba-b891-b259dbe2ca6b</td><td>2014-09-12</td></tr><tr><td>538</td><td>Amalgamated Parts Shop</td><td>288</td><td><StoreSurvey xmlns=\"http://schemas.microsoft.com/sqlserver/2004/07/adventure-works/StoreSurvey\"><AnnualSales>3000000</AnnualSales><AnnualRevenue>300000</AnnualRevenue><BankName>Primary Bank &amp; Reserve</BankName><BusinessType>OS</BusinessType><YearOpened>1999</YearOpened><Specialty>Touring</Specialty><SquareFeet>77000</SquareFeet><Brands>4+</Brands><Internet>T3</Internet><NumberEmployees>99</NumberEmployees></StoreSurvey></td><td>0ce11724-2b7f-4490-94a4-7175f97d6d7f</td><td>2014-09-12</td></tr><tr><td>540</td><td>Metro Bike Works</td><td>275</td><td><StoreSurvey xmlns=\"http://schemas.microsoft.com/sqlserver/2004/07/adventure-works/StoreSurvey\"><AnnualSales>3000000</AnnualSales><AnnualRevenue>300000</AnnualRevenue><BankName>International Bank</BankName><BusinessType>OS</BusinessType><YearOpened>1999</YearOpened><Specialty>Mountain</Specialty><SquareFeet>77000</SquareFeet><Brands>4+</Brands><Internet>DSL</Internet><NumberEmployees>100</NumberEmployees></StoreSurvey></td><td>b555436d-e4be-4352-8144-5064a4d62964</td><td>2014-09-12</td></tr><tr><td>542</td><td>Best o' Bikes</td><td>277</td><td><StoreSurvey xmlns=\"http://schemas.microsoft.com/sqlserver/2004/07/adventure-works/StoreSurvey\"><AnnualSales>800000</AnnualSales><AnnualRevenue>80000</AnnualRevenue><BankName>Primary International</BankName><BusinessType>BS</BusinessType><YearOpened>1972</YearOpened><Specialty>Touring</Specialty><SquareFeet>19000</SquareFeet><Brands>3</Brands><Internet>DSL</Internet><NumberEmployees>10</NumberEmployees></StoreSurvey></td><td>73dcb69b-0b2e-492a-a8ed-852969c26787</td><td>2014-09-12</td></tr><tr><td>544</td><td>Painters Bicycle Specialists</td><td>275</td><td><StoreSurvey xmlns=\"http://schemas.microsoft.com/sqlserver/2004/07/adventure-works/StoreSurvey\"><AnnualSales>1000000</AnnualSales><AnnualRevenue>100000</AnnualRevenue><BankName>Guardian Bank</BankName><BusinessType>BS</BusinessType><YearOpened>1998</YearOpened><Specialty>Road</Specialty><SquareFeet>24000</SquareFeet><Brands>3</Brands><Internet>DSL</Internet><NumberEmployees>27</NumberEmployees></StoreSurvey></td><td>88edc59c-1196-425a-8e7e-2286bf95a214</td><td>2014-09-12</td></tr><tr><td>546</td><td>Client Discount Store</td><td>277</td><td><StoreSurvey xmlns=\"http://schemas.microsoft.com/sqlserver/2004/07/adventure-works/StoreSurvey\"><AnnualSales>1000000</AnnualSales><AnnualRevenue>100000</AnnualRevenue><BankName>Guardian Bank</BankName><BusinessType>BM</BusinessType><YearOpened>2000</YearOpened><Specialty>Mountain</Specialty><SquareFeet>24000</SquareFeet><Brands>2</Brands><Internet>DSL</Internet><NumberEmployees>20</NumberEmployees></StoreSurvey></td><td>c7615b39-9562-48dd-a81b-107914a3dd1f</td><td>2014-09-12</td></tr><tr><td>548</td><td>Eastside Sporting Goods</td><td>275</td><td><StoreSurvey xmlns=\"http://schemas.microsoft.com/sqlserver/2004/07/adventure-works/StoreSurvey\"><AnnualSales>800000</AnnualSales><AnnualRevenue>80000</AnnualRevenue><BankName>Primary International</BankName><BusinessType>BM</BusinessType><YearOpened>2000</YearOpened><Specialty>Road</Specialty><SquareFeet>19000</SquareFeet><Brands>AW</Brands><Internet>T1</Internet><NumberEmployees>17</NumberEmployees></StoreSurvey></td><td>03189c8f-84cc-4207-92d4-4da26efdbb17</td><td>2014-09-12</td></tr><tr><td>550</td><td>Helmets and Cycles</td><td>286</td><td><StoreSurvey xmlns=\"http://schemas.microsoft.com/sqlserver/2004/07/adventure-works/StoreSurvey\"><AnnualSales>800000</AnnualSales><AnnualRevenue>80000</AnnualRevenue><BankName>Reserve Security</BankName><BusinessType>BM</BusinessType><YearOpened>1994</YearOpened><Specialty>Touring</Specialty><SquareFeet>21000</SquareFeet><Brands>4+</Brands><Internet>ISDN</Internet><NumberEmployees>14</NumberEmployees></StoreSurvey></td><td>0ea0a15a-a2cd-4f25-a833-b31cae39e783</td><td>2014-09-12</td></tr><tr><td>552</td><td>Requisite Part Supply</td><td>282</td><td><StoreSurvey xmlns=\"http://schemas.microsoft.com/sqlserver/2004/07/adventure-works/StoreSurvey\"><AnnualSales>1500000</AnnualSales><AnnualRevenue>150000</AnnualRevenue><BankName>Guardian Bank</BankName><BusinessType>BS</BusinessType><YearOpened>1988</YearOpened><Specialty>Road</Specialty><SquareFeet>39000</SquareFeet><Brands>3</Brands><Internet>DSL</Internet><NumberEmployees>35</NumberEmployees></StoreSurvey></td><td>10e20a63-73cf-4a80-a678-3d829c108d43</td><td>2014-09-12</td></tr><tr><td>554</td><td>Racks and Security Systems</td><td>279</td><td><StoreSurvey xmlns=\"http://schemas.microsoft.com/sqlserver/2004/07/adventure-works/StoreSurvey\"><AnnualSales>1500000</AnnualSales><AnnualRevenue>150000</AnnualRevenue><BankName>Primary International</BankName><BusinessType>BS</BusinessType><YearOpened>1976</YearOpened><Specialty>Touring</Specialty><SquareFeet>39000</SquareFeet><Brands>3</Brands><Internet>DSL</Internet><NumberEmployees>36</NumberEmployees></StoreSurvey></td><td>4a3c505a-c5ae-4061-b376-67415efcecbb</td><td>2014-09-12</td></tr><tr><td>556</td><td>Mechanical Products Ltd.</td><td>281</td><td><StoreSurvey xmlns=\"http://schemas.microsoft.com/sqlserver/2004/07/adventure-works/StoreSurvey\"><AnnualSales>1500000</AnnualSales><AnnualRevenue>150000</AnnualRevenue><BankName>Reserve Security</BankName><BusinessType>BS</BusinessType><YearOpened>1971</YearOpened><Specialty>Road</Specialty><SquareFeet>38000</SquareFeet><Brands>4+</Brands><Internet>DSL</Internet><NumberEmployees>37</NumberEmployees></StoreSurvey></td><td>caad1f0f-e7d6-47e6-a124-788b1a9426f7</td><td>2014-09-12</td></tr><tr><td>558</td><td>Commendable Bikes</td><td>283</td><td><StoreSurvey xmlns=\"http://schemas.microsoft.com/sqlserver/2004/07/adventure-works/StoreSurvey\"><AnnualSales>1500000</AnnualSales><AnnualRevenue>150000</AnnualRevenue><BankName>Guardian Bank</BankName><BusinessType>BS</BusinessType><YearOpened>1974</YearOpened><Specialty>Road</Specialty><SquareFeet>37000</SquareFeet><Brands>4+</Brands><Internet>DSL</Internet><NumberEmployees>39</NumberEmployees></StoreSurvey></td><td>eb847e4a-b183-4385-8de1-57c39d4d3304</td><td>2014-09-12</td></tr><tr><td>560</td><td>Online Bike Sellers</td><td>275</td><td><StoreSurvey xmlns=\"http://schemas.microsoft.com/sqlserver/2004/07/adventure-works/StoreSurvey\"><AnnualSales>1500000</AnnualSales><AnnualRevenue>150000</AnnualRevenue><BankName>Primary International</BankName><BusinessType>BS</BusinessType><YearOpened>1982</YearOpened><Specialty>Mountain</Specialty><SquareFeet>39000</SquareFeet><Brands>2</Brands><Internet>DSL</Internet><NumberEmployees>40</NumberEmployees></StoreSurvey></td><td>35ebf652-e9fc-490c-902d-304e4d112ed9</td><td>2014-09-12</td></tr><tr><td>562</td><td>Custom Accessories Company</td><td>278</td><td><StoreSurvey xmlns=\"http://schemas.microsoft.com/sqlserver/2004/07/adventure-works/StoreSurvey\"><AnnualSales>3000000</AnnualSales><AnnualRevenue>300000</AnnualRevenue><BankName>Guardian Bank</BankName><BusinessType>OS</BusinessType><YearOpened>1998</YearOpened><Specialty>Road</Specialty><SquareFeet>79000</SquareFeet><Brands>4+</Brands><Internet>DSL</Internet><NumberEmployees>98</NumberEmployees></StoreSurvey></td><td>77bbddb3-3fc7-4be6-9f90-18083f0ddaf8</td><td>2014-09-12</td></tr><tr><td>564</td><td>Unusual Bicycle Company</td><td>286</td><td><StoreSurvey xmlns=\"http://schemas.microsoft.com/sqlserver/2004/07/adventure-works/StoreSurvey\"><AnnualSales>3000000</AnnualSales><AnnualRevenue>300000</AnnualRevenue><BankName>International Security</BankName><BusinessType>OS</BusinessType><YearOpened>1999</YearOpened><Specialty>Touring</Specialty><SquareFeet>78000</SquareFeet><Brands>4+</Brands><Internet>DSL</Internet><NumberEmployees>99</NumberEmployees></StoreSurvey></td><td>c7b796a1-f605-4236-b784-1d1a2c3f2b7e</td><td>2014-09-12</td></tr><tr><td>566</td><td>Courteous Bicycle Specialists</td><td>282</td><td><StoreSurvey xmlns=\"http://schemas.microsoft.com/sqlserver/2004/07/adventure-works/StoreSurvey\"><AnnualSales>300000</AnnualSales><AnnualRevenue>30000</AnnualRevenue><BankName>International Security</BankName><BusinessType>BM</BusinessType><YearOpened>1982</YearOpened><Specialty>Touring</Specialty><SquareFeet>10000</SquareFeet><Brands>2</Brands><Internet>DSL</Internet><NumberEmployees>8</NumberEmployees></StoreSurvey></td><td>62032f02-08f9-4766-8fc2-9ead345aeec6</td><td>2014-09-12</td></tr><tr><td>568</td><td>Hobby Store</td><td>279</td><td><StoreSurvey xmlns=\"http://schemas.microsoft.com/sqlserver/2004/07/adventure-works/StoreSurvey\"><AnnualSales>300000</AnnualSales><AnnualRevenue>30000</AnnualRevenue><BankName>Guardian Bank</BankName><BusinessType>BM</BusinessType><YearOpened>1976</YearOpened><Specialty>Mountain</Specialty><SquareFeet>6000</SquareFeet><Brands>2</Brands><Internet>DSL</Internet><NumberEmployees>5</NumberEmployees></StoreSurvey></td><td>4d72976f-7a2f-499d-84ba-ea5fd79d0d14</td><td>2014-09-12</td></tr><tr><td>570</td><td>Professional Cycle Store</td><td>281</td><td><StoreSurvey xmlns=\"http://schemas.microsoft.com/sqlserver/2004/07/adventure-works/StoreSurvey\"><AnnualSales>300000</AnnualSales><AnnualRevenue>30000</AnnualRevenue><BankName>Primary International</BankName><BusinessType>BM</BusinessType><YearOpened>1970</YearOpened><Specialty>Mountain</Specialty><SquareFeet>10000</SquareFeet><Brands>2</Brands><Internet>T1</Internet><NumberEmployees>2</NumberEmployees></StoreSurvey></td><td>8c1f3e35-1a21-4ff8-8256-7433c6591d10</td><td>2014-09-12</td></tr><tr><td>572</td><td>Bike Universe</td><td>281</td><td><StoreSurvey xmlns=\"http://schemas.microsoft.com/sqlserver/2004/07/adventure-works/StoreSurvey\"><AnnualSales>1000000</AnnualSales><AnnualRevenue>100000</AnnualRevenue><BankName>United Security</BankName><BusinessType>BS</BusinessType><YearOpened>1971</YearOpened><Specialty>Mountain</Specialty><SquareFeet>28000</SquareFeet><Brands>4+</Brands><Internet>T2</Internet><NumberEmployees>28</NumberEmployees></StoreSurvey></td><td>5414845a-db08-45c9-8160-1762390db768</td><td>2014-09-12</td></tr><tr><td>574</td><td>Fifth Bike Store</td><td>283</td><td><StoreSurvey xmlns=\"http://schemas.microsoft.com/sqlserver/2004/07/adventure-works/StoreSurvey\"><AnnualSales>1000000</AnnualSales><AnnualRevenue>100000</AnnualRevenue><BankName>International Bank</BankName><BusinessType>BS</BusinessType><YearOpened>2001</YearOpened><Specialty>Road</Specialty><SquareFeet>26000</SquareFeet><Brands>4+</Brands><Internet>DSL</Internet><NumberEmployees>25</NumberEmployees></StoreSurvey></td><td>8db66e19-fc69-45b1-888b-63d253ed6a8f</td><td>2014-09-12</td></tr><tr><td>576</td><td>Independent Outlet</td><td>275</td><td><StoreSurvey xmlns=\"http://schemas.microsoft.com/sqlserver/2004/07/adventure-works/StoreSurvey\"><AnnualSales>1000000</AnnualSales><AnnualRevenue>100000</AnnualRevenue><BankName>Primary Bank &amp; Reserve</BankName><BusinessType>BS</BusinessType><YearOpened>1996</YearOpened><Specialty>Road</Specialty><SquareFeet>25000</SquareFeet><Brands>3</Brands><Internet>DSL</Internet><NumberEmployees>22</NumberEmployees></StoreSurvey></td><td>d888b41f-0f06-4e08-b871-b4fd6f9e22cf</td><td>2014-09-12</td></tr><tr><td>578</td><td>Rambling Tours</td><td>288</td><td><StoreSurvey xmlns=\"http://schemas.microsoft.com/sqlserver/2004/07/adventure-works/StoreSurvey\"><AnnualSales>800000</AnnualSales><AnnualRevenue>80000</AnnualRevenue><BankName>International Security</BankName><BusinessType>BS</BusinessType><YearOpened>1990</YearOpened><Specialty>Touring</Specialty><SquareFeet>19000</SquareFeet><Brands>3</Brands><Internet>T3</Internet><NumberEmployees>19</NumberEmployees></StoreSurvey></td><td>59763192-45a0-42f9-a4f2-8ecf595db261</td><td>2014-09-12</td></tr><tr><td>580</td><td>Farthest Bike Store</td><td>282</td><td><StoreSurvey xmlns=\"http://schemas.microsoft.com/sqlserver/2004/07/adventure-works/StoreSurvey\"><AnnualSales>3000000</AnnualSales><AnnualRevenue>300000</AnnualRevenue><BankName>United Security</BankName><BusinessType>OS</BusinessType><YearOpened>1987</YearOpened><Specialty>Touring</Specialty><SquareFeet>74000</SquareFeet><Brands>4+</Brands><Internet>DSL</Internet><NumberEmployees>80</NumberEmployees></StoreSurvey></td><td>0e3f4f5a-5dee-4b0a-a5a5-c524f74156ea</td><td>2014-09-12</td></tr><tr><td>582</td><td>Excellent Bikes</td><td>288</td><td><StoreSurvey xmlns=\"http://schemas.microsoft.com/sqlserver/2004/07/adventure-works/StoreSurvey\"><AnnualSales>3000000</AnnualSales><AnnualRevenue>300000</AnnualRevenue><BankName>Reserve Security</BankName><BusinessType>OS</BusinessType><YearOpened>1992</YearOpened><Specialty>Touring</Specialty><SquareFeet>75000</SquareFeet><Brands>2</Brands><Internet>DSL</Internet><NumberEmployees>81</NumberEmployees></StoreSurvey></td><td>cbc9be9e-5422-411c-b3ef-a301be4ae107</td><td>2014-09-12</td></tr><tr><td>584</td><td>Curbside Universe</td><td>275</td><td><StoreSurvey xmlns=\"http://schemas.microsoft.com/sqlserver/2004/07/adventure-works/StoreSurvey\"><AnnualSales>3000000</AnnualSales><AnnualRevenue>300000</AnnualRevenue><BankName>Primary International</BankName><BusinessType>OS</BusinessType><YearOpened>1984</YearOpened><Specialty>Road</Specialty><SquareFeet>73000</SquareFeet><Brands>4+</Brands><Internet>DSL</Internet><NumberEmployees>82</NumberEmployees></StoreSurvey></td><td>3c49dde5-c64c-4456-8b4a-aa9e1ecc9c2f</td><td>2014-09-12</td></tr><tr><td>586</td><td>Alternative Vehicles</td><td>280</td><td><StoreSurvey xmlns=\"http://schemas.microsoft.com/sqlserver/2004/07/adventure-works/StoreSurvey\"><AnnualSales>1500000</AnnualSales><AnnualRevenue>150000</AnnualRevenue><BankName>Primary Bank &amp; Reserve</BankName><BusinessType>BS</BusinessType><YearOpened>1983</YearOpened><Specialty>Road</Specialty><SquareFeet>41000</SquareFeet><Brands>4+</Brands><Internet>T1</Internet><NumberEmployees>45</NumberEmployees></StoreSurvey></td><td>a8c079a5-40cb-4707-b88d-25b0ffa42664</td><td>2014-09-12</td></tr><tr><td>588</td><td>Channel Outlet</td><td>289</td><td><StoreSurvey xmlns=\"http://schemas.microsoft.com/sqlserver/2004/07/adventure-works/StoreSurvey\"><AnnualSales>1500000</AnnualSales><AnnualRevenue>150000</AnnualRevenue><BankName>International Security</BankName><BusinessType>BS</BusinessType><YearOpened>1991</YearOpened><Specialty>Touring</Specialty><SquareFeet>40000</SquareFeet><Brands>4+</Brands><Internet>DSL</Internet><NumberEmployees>46</NumberEmployees></StoreSurvey></td><td>70703845-fb8a-40a5-974f-d54b46943647</td><td>2014-09-12</td></tr><tr><td>590</td><td>Full Sports Supply</td><td>290</td><td><StoreSurvey xmlns=\"http://schemas.microsoft.com/sqlserver/2004/07/adventure-works/StoreSurvey\"><AnnualSales>1500000</AnnualSales><AnnualRevenue>150000</AnnualRevenue><BankName>Guardian Bank</BankName><BusinessType>BS</BusinessType><YearOpened>1986</YearOpened><Specialty>Mountain</Specialty><SquareFeet>38000</SquareFeet><Brands>4+</Brands><Internet>DSL</Internet><NumberEmployees>47</NumberEmployees></StoreSurvey></td><td>8cff03dd-d8ec-4595-92c2-91b5e97957a3</td><td>2014-09-12</td></tr><tr><td>592</td><td>Retail Mall</td><td>282</td><td><StoreSurvey xmlns=\"http://schemas.microsoft.com/sqlserver/2004/07/adventure-works/StoreSurvey\"><AnnualSales>3000000</AnnualSales><AnnualRevenue>300000</AnnualRevenue><BankName>Primary International</BankName><BusinessType>OS</BusinessType><YearOpened>1977</YearOpened><Specialty>Road</Specialty><SquareFeet>79000</SquareFeet><Brands>4+</Brands><Internet>ISDN</Internet><NumberEmployees>91</NumberEmployees></StoreSurvey></td><td>7da72678-7f78-49f9-981d-29f073c024ce</td><td>2014-09-12</td></tr><tr><td>594</td><td>Racing Store</td><td>290</td><td><StoreSurvey xmlns=\"http://schemas.microsoft.com/sqlserver/2004/07/adventure-works/StoreSurvey\"><AnnualSales>3000000</AnnualSales><AnnualRevenue>300000</AnnualRevenue><BankName>Guardian Bank</BankName><BusinessType>OS</BusinessType><YearOpened>1987</YearOpened><Specialty>Road</Specialty><SquareFeet>78000</SquareFeet><Brands>4+</Brands><Internet>DSL</Internet><NumberEmployees>92</NumberEmployees></StoreSurvey></td><td>87eacf60-34f0-444a-8291-db255fe388d2</td><td>2014-09-12</td></tr><tr><td>596</td><td>Metro Metals Co.</td><td>289</td><td><StoreSurvey xmlns=\"http://schemas.microsoft.com/sqlserver/2004/07/adventure-works/StoreSurvey\"><AnnualSales>3000000</AnnualSales><AnnualRevenue>300000</AnnualRevenue><BankName>International Security</BankName><BusinessType>OS</BusinessType><YearOpened>1974</YearOpened><Specialty>Touring</Specialty><SquareFeet>77000</SquareFeet><Brands>4+</Brands><Internet>DSL</Internet><NumberEmployees>93</NumberEmployees></StoreSurvey></td><td>fa71e13b-b051-4f12-a280-f69ecd6af1db</td><td>2014-09-12</td></tr><tr><td>598</td><td>Sheet Metal Manufacturing</td><td>277</td><td><StoreSurvey xmlns=\"http://schemas.microsoft.com/sqlserver/2004/07/adventure-works/StoreSurvey\"><AnnualSales>800000</AnnualSales><AnnualRevenue>80000</AnnualRevenue><BankName>International Security</BankName><BusinessType>BM</BusinessType><YearOpened>1997</YearOpened><Specialty>Road</Specialty><SquareFeet>19000</SquareFeet><Brands>3</Brands><Internet>T1</Internet><NumberEmployees>17</NumberEmployees></StoreSurvey></td><td>a909c7ed-04a5-4138-ab83-c9e739aa28ae</td><td>2014-09-12</td></tr><tr><td>600</td><td>Thorough Parts and Repair Services</td><td>280</td><td><StoreSurvey xmlns=\"http://schemas.microsoft.com/sqlserver/2004/07/adventure-works/StoreSurvey\"><AnnualSales>800000</AnnualSales><AnnualRevenue>80000</AnnualRevenue><BankName>Guardian Bank</BankName><BusinessType>BM</BusinessType><YearOpened>1975</YearOpened><Specialty>Road</Specialty><SquareFeet>22000</SquareFeet><Brands>2</Brands><Internet>T1</Internet><NumberEmployees>18</NumberEmployees></StoreSurvey></td><td>6a32068c-6a79-43cf-a443-57841ed98990</td><td>2014-09-12</td></tr><tr><td>602</td><td>Uttermost Bike Shop</td><td>289</td><td><StoreSurvey xmlns=\"http://schemas.microsoft.com/sqlserver/2004/07/adventure-works/StoreSurvey\"><AnnualSales>800000</AnnualSales><AnnualRevenue>80000</AnnualRevenue><BankName>Primary International</BankName><BusinessType>BM</BusinessType><YearOpened>2000</YearOpened><Specialty>Road</Specialty><SquareFeet>20000</SquareFeet><Brands>4+</Brands><Internet>DSL</Internet><NumberEmployees>19</NumberEmployees></StoreSurvey></td><td>24f1c5f8-093a-426c-87ce-8fa9af9fac33</td><td>2014-09-12</td></tr><tr><td>604</td><td>Mechanical Sports Center</td><td>275</td><td><StoreSurvey xmlns=\"http://schemas.microsoft.com/sqlserver/2004/07/adventure-works/StoreSurvey\"><AnnualSales>1500000</AnnualSales><AnnualRevenue>150000</AnnualRevenue><BankName>International Security</BankName><BusinessType>BS</BusinessType><YearOpened>1995</YearOpened><Specialty>Road</Specialty><SquareFeet>40000</SquareFeet><Brands>3</Brands><Internet>DSL</Internet><NumberEmployees>40</NumberEmployees></StoreSurvey></td><td>739999fe-97eb-4f89-ba26-a34771d9af65</td><td>2014-09-12</td></tr><tr><td>606</td><td>Speedometer Sales</td><td>288</td><td><StoreSurvey xmlns=\"http://schemas.microsoft.com/sqlserver/2004/07/adventure-works/StoreSurvey\"><AnnualSales>1500000</AnnualSales><AnnualRevenue>150000</AnnualRevenue><BankName>Guardian Bank</BankName><BusinessType>BS</BusinessType><YearOpened>1995</YearOpened><Specialty>Road</Specialty><SquareFeet>39000</SquareFeet><Brands>3</Brands><Internet>DSL</Internet><NumberEmployees>37</NumberEmployees></StoreSurvey></td><td>56c01043-10b4-487e-8d55-48c1268bce1d</td><td>2014-09-12</td></tr><tr><td>608</td><td>Two-Wheeled Transit Company</td><td>282</td><td><StoreSurvey xmlns=\"http://schemas.microsoft.com/sqlserver/2004/07/adventure-works/StoreSurvey\"><AnnualSales>1500000</AnnualSales><AnnualRevenue>150000</AnnualRevenue><BankName>Primary International</BankName><BusinessType>BS</BusinessType><YearOpened>1983</YearOpened><Specialty>Mountain</Specialty><SquareFeet>38000</SquareFeet><Brands>4+</Brands><Internet>DSL</Internet><NumberEmployees>34</NumberEmployees></StoreSurvey></td><td>d03c1cea-5d48-4dd1-98d6-87d06c1f33a1</td><td>2014-09-12</td></tr><tr><td>610</td><td>Mountain Emporium</td><td>279</td><td><StoreSurvey xmlns=\"http://schemas.microsoft.com/sqlserver/2004/07/adventure-works/StoreSurvey\"><AnnualSales>1500000</AnnualSales><AnnualRevenue>150000</AnnualRevenue><BankName>Reserve Security</BankName><BusinessType>BS</BusinessType><YearOpened>1998</YearOpened><Specialty>Mountain</Specialty><SquareFeet>37000</SquareFeet><Brands>4+</Brands><Internet>T1</Internet><NumberEmployees>31</NumberEmployees></StoreSurvey></td><td>3b74778c-9e53-47d0-83ef-6438b9b77427</td><td>2014-09-12</td></tr><tr><td>612</td><td>Metro Cycle Shop</td><td>283</td><td><StoreSurvey xmlns=\"http://schemas.microsoft.com/sqlserver/2004/07/adventure-works/StoreSurvey\"><AnnualSales>3000000</AnnualSales><AnnualRevenue>300000</AnnualRevenue><BankName>Guardian Bank</BankName><BusinessType>OS</BusinessType><YearOpened>1989</YearOpened><Specialty>Mountain</Specialty><SquareFeet>74000</SquareFeet><Brands>3</Brands><Internet>T1</Internet><NumberEmployees>83</NumberEmployees></StoreSurvey></td><td>43be0e08-95b3-4cfe-b5fe-7c9a7270ffba</td><td>2014-09-12</td></tr><tr><td>614</td><td>Outdoor Sporting Goods</td><td>281</td><td><StoreSurvey xmlns=\"http://schemas.microsoft.com/sqlserver/2004/07/adventure-works/StoreSurvey\"><AnnualSales>3000000</AnnualSales><AnnualRevenue>300000</AnnualRevenue><BankName>International Security</BankName><BusinessType>OS</BusinessType><YearOpened>1981</YearOpened><Specialty>Touring</Specialty><SquareFeet>74000</SquareFeet><Brands>3</Brands><Internet>ISDN</Internet><NumberEmployees>84</NumberEmployees></StoreSurvey></td><td>689b5679-a37f-40c9-9f90-e4ce21785e20</td><td>2014-09-12</td></tr><tr><td>616</td><td>Tread Industries</td><td>279</td><td><StoreSurvey xmlns=\"http://schemas.microsoft.com/sqlserver/2004/07/adventure-works/StoreSurvey\"><AnnualSales>3000000</AnnualSales><AnnualRevenue>300000</AnnualRevenue><BankName>Primary Bank &amp; Reserve</BankName><BusinessType>OS</BusinessType><YearOpened>1986</YearOpened><Specialty>Mountain</Specialty><SquareFeet>77000</SquareFeet><Brands>4+</Brands><Internet>T1</Internet><NumberEmployees>85</NumberEmployees></StoreSurvey></td><td>3e476935-5369-472e-9a52-b58a8b985c34</td><td>2014-09-12</td></tr><tr><td>618</td><td>Petroleum Products Distributors</td><td>282</td><td><StoreSurvey xmlns=\"http://schemas.microsoft.com/sqlserver/2004/07/adventure-works/StoreSurvey\"><AnnualSales>3000000</AnnualSales><AnnualRevenue>300000</AnnualRevenue><BankName>International Bank</BankName><BusinessType>OS</BusinessType><YearOpened>1978</YearOpened><Specialty>Touring</Specialty><SquareFeet>78000</SquareFeet><Brands>4+</Brands><Internet>DSL</Internet><NumberEmployees>86</NumberEmployees></StoreSurvey></td><td>7d0c6ba8-2a0a-4663-b359-6b9606f5d652</td><td>2014-09-12</td></tr><tr><td>620</td><td>Tandem Bicycle Store</td><td>279</td><td><StoreSurvey xmlns=\"http://schemas.microsoft.com/sqlserver/2004/07/adventure-works/StoreSurvey\"><AnnualSales>1500000</AnnualSales><AnnualRevenue>150000</AnnualRevenue><BankName>International Security</BankName><BusinessType>OS</BusinessType><YearOpened>1986</YearOpened><Specialty>Mountain</Specialty><SquareFeet>37000</SquareFeet><Brands>4+</Brands><Internet>DSL</Internet><NumberEmployees>46</NumberEmployees></StoreSurvey></td><td>b6437d59-886a-4aa2-8463-62bbfb9e0c65</td><td>2014-09-12</td></tr><tr><td>622</td><td>Bikes and Motorbikes</td><td>278</td><td><StoreSurvey xmlns=\"http://schemas.microsoft.com/sqlserver/2004/07/adventure-works/StoreSurvey\"><AnnualSales>1500000</AnnualSales><AnnualRevenue>150000</AnnualRevenue><BankName>Primary Bank &amp; Reserve</BankName><BusinessType>OS</BusinessType><YearOpened>1992</YearOpened><Specialty>Road</Specialty><SquareFeet>40000</SquareFeet><Brands>2</Brands><Internet>DSL</Internet><NumberEmployees>49</NumberEmployees></StoreSurvey></td><td>bafcdf3f-29c8-43aa-8cf0-72943126c76c</td><td>2014-09-12</td></tr><tr><td>624</td><td>Budget Toy Store</td><td>286</td><td><StoreSurvey xmlns=\"http://schemas.microsoft.com/sqlserver/2004/07/adventure-works/StoreSurvey\"><AnnualSales>3000000</AnnualSales><AnnualRevenue>300000</AnnualRevenue><BankName>International Bank</BankName><BusinessType>OS</BusinessType><YearOpened>1998</YearOpened><Specialty>Mountain</Specialty><SquareFeet>71000</SquareFeet><Brands>4+</Brands><Internet>DSL</Internet><NumberEmployees>52</NumberEmployees></StoreSurvey></td><td>96e67a92-f1fc-4de6-9e7e-8745feb429bd</td><td>2014-09-12</td></tr><tr><td>626</td><td>Camping and Sports Store</td><td>282</td><td><StoreSurvey xmlns=\"http://schemas.microsoft.com/sqlserver/2004/07/adventure-works/StoreSurvey\"><AnnualSales>3000000</AnnualSales><AnnualRevenue>300000</AnnualRevenue><BankName>Reserve Security</BankName><BusinessType>OS</BusinessType><YearOpened>1987</YearOpened><Specialty>Touring</Specialty><SquareFeet>77000</SquareFeet><Brands>4+</Brands><Internet>DSL</Internet><NumberEmployees>80</NumberEmployees></StoreSurvey></td><td>50d6f597-0639-458f-8a28-7bf45551e116</td><td>2014-09-12</td></tr><tr><td>628</td><td>Ace Bicycle Supply</td><td>290</td><td><StoreSurvey xmlns=\"http://schemas.microsoft.com/sqlserver/2004/07/adventure-works/StoreSurvey\"><AnnualSales>3000000</AnnualSales><AnnualRevenue>300000</AnnualRevenue><BankName>Primary International</BankName><BusinessType>OS</BusinessType><YearOpened>1992</YearOpened><Specialty>Mountain</Specialty><SquareFeet>73000</SquareFeet><Brands>3</Brands><Internet>T1</Internet><NumberEmployees>81</NumberEmployees></StoreSurvey></td><td>25f54cc0-9d2a-4c75-a92d-c92290ea49c7</td><td>2014-09-12</td></tr><tr><td>630</td><td>Rural Department Store</td><td>281</td><td><StoreSurvey xmlns=\"http://schemas.microsoft.com/sqlserver/2004/07/adventure-works/StoreSurvey\"><AnnualSales>1500000</AnnualSales><AnnualRevenue>150000</AnnualRevenue><BankName>United Security</BankName><BusinessType>BS</BusinessType><YearOpened>1990</YearOpened><Specialty>Touring</Specialty><SquareFeet>35000</SquareFeet><Brands>3</Brands><Internet>T1</Internet><NumberEmployees>31</NumberEmployees></StoreSurvey></td><td>004ea91c-fcd4-4973-87ef-9059c6e20bb5</td><td>2014-09-12</td></tr><tr><td>632</td><td>Sports Commodities</td><td>283</td><td><StoreSurvey xmlns=\"http://schemas.microsoft.com/sqlserver/2004/07/adventure-works/StoreSurvey\"><AnnualSales>1500000</AnnualSales><AnnualRevenue>150000</AnnualRevenue><BankName>International Bank</BankName><BusinessType>BS</BusinessType><YearOpened>1984</YearOpened><Specialty>Mountain</Specialty><SquareFeet>37000</SquareFeet><Brands>2</Brands><Internet>T1</Internet><NumberEmployees>32</NumberEmployees></StoreSurvey></td><td>43106fac-7b87-4da1-9df8-cb286247f070</td><td>2014-09-12</td></tr><tr><td>634</td><td>Riverside Company</td><td>275</td><td><StoreSurvey xmlns=\"http://schemas.microsoft.com/sqlserver/2004/07/adventure-works/StoreSurvey\"><AnnualSales>1500000</AnnualSales><AnnualRevenue>150000</AnnualRevenue><BankName>Primary Bank &amp; Reserve</BankName><BusinessType>BS</BusinessType><YearOpened>1978</YearOpened><Specialty>Road</Specialty><SquareFeet>38000</SquareFeet><Brands>4+</Brands><Internet>DSL</Internet><NumberEmployees>33</NumberEmployees></StoreSurvey></td><td>c4db8c32-4f6d-426b-a9ac-e1221fbded9f</td><td>2014-09-12</td></tr><tr><td>636</td><td>Bicycle Exporters</td><td>288</td><td><StoreSurvey xmlns=\"http://schemas.microsoft.com/sqlserver/2004/07/adventure-works/StoreSurvey\"><AnnualSales>1500000</AnnualSales><AnnualRevenue>150000</AnnualRevenue><BankName>International Security</BankName><BusinessType>BS</BusinessType><YearOpened>1972</YearOpened><Specialty>Touring</Specialty><SquareFeet>39000</SquareFeet><Brands>2</Brands><Internet>T2</Internet><NumberEmployees>34</NumberEmployees></StoreSurvey></td><td>a6898ae5-ffa3-4b47-a0f7-f8bf151b72aa</td><td>2014-09-12</td></tr><tr><td>638</td><td>Responsible Bike Dealers</td><td>277</td><td><StoreSurvey xmlns=\"http://schemas.microsoft.com/sqlserver/2004/07/adventure-works/StoreSurvey\"><AnnualSales>1500000</AnnualSales><AnnualRevenue>150000</AnnualRevenue><BankName>International Security</BankName><BusinessType>BS</BusinessType><YearOpened>1989</YearOpened><Specialty>Mountain</Specialty><SquareFeet>40000</SquareFeet><Brands>2</Brands><Internet>T1</Internet><NumberEmployees>49</NumberEmployees></StoreSurvey></td><td>fe70ecfc-edbb-41ed-910d-8dd39c87e25d</td><td>2014-09-12</td></tr><tr><td>640</td><td>Western Bike Supplies</td><td>281</td><td><StoreSurvey xmlns=\"http://schemas.microsoft.com/sqlserver/2004/07/adventure-works/StoreSurvey\"><AnnualSales>1500000</AnnualSales><AnnualRevenue>150000</AnnualRevenue><BankName>Primary Bank &amp; Reserve</BankName><BusinessType>BS</BusinessType><YearOpened>1994</YearOpened><Specialty>Road</Specialty><SquareFeet>38000</SquareFeet><Brands>3</Brands><Internet>T1</Internet><NumberEmployees>48</NumberEmployees></StoreSurvey></td><td>4b1e8035-515e-4be1-84d9-a81ce67ee44f</td><td>2014-09-12</td></tr><tr><td>642</td><td>Advanced Bike Components</td><td>277</td><td><StoreSurvey xmlns=\"http://schemas.microsoft.com/sqlserver/2004/07/adventure-works/StoreSurvey\"><AnnualSales>1500000</AnnualSales><AnnualRevenue>150000</AnnualRevenue><BankName>Primary International</BankName><BusinessType>OS</BusinessType><YearOpened>1974</YearOpened><Specialty>Road</Specialty><SquareFeet>38000</SquareFeet><Brands>3</Brands><Internet>DSL</Internet><NumberEmployees>40</NumberEmployees></StoreSurvey></td><td>42bdf4b8-bff2-4a04-b0d3-ebb5896025ce</td><td>2014-09-12</td></tr><tr><td>644</td><td>Aerobic Exercise Company</td><td>276</td><td><StoreSurvey xmlns=\"http://schemas.microsoft.com/sqlserver/2004/07/adventure-works/StoreSurvey\"><AnnualSales>1500000</AnnualSales><AnnualRevenue>150000</AnnualRevenue><BankName>Guardian Bank</BankName><BusinessType>OS</BusinessType><YearOpened>1980</YearOpened><Specialty>Road</Specialty><SquareFeet>40000</SquareFeet><Brands>3</Brands><Internet>DSL</Internet><NumberEmployees>43</NumberEmployees></StoreSurvey></td><td>690b6d1f-f71e-4bb8-b87d-baeb505135ef</td><td>2014-09-12</td></tr><tr><td>646</td><td>Rural Sporting Goods</td><td>288</td><td><StoreSurvey xmlns=\"http://schemas.microsoft.com/sqlserver/2004/07/adventure-works/StoreSurvey\"><AnnualSales>800000</AnnualSales><AnnualRevenue>80000</AnnualRevenue><BankName>United Security</BankName><BusinessType>BM</BusinessType><YearOpened>1985</YearOpened><Specialty>Road</Specialty><SquareFeet>20000</SquareFeet><Brands>4+</Brands><Internet>T2</Internet><NumberEmployees>10</NumberEmployees></StoreSurvey></td><td>adb430fb-d23b-4a4c-9146-65193a80b9e0</td><td>2014-09-12</td></tr><tr><td>648</td><td>Corner Bicycle Supply</td><td>282</td><td><StoreSurvey xmlns=\"http://schemas.microsoft.com/sqlserver/2004/07/adventure-works/StoreSurvey\"><AnnualSales>800000</AnnualSales><AnnualRevenue>80000</AnnualRevenue><BankName>International Bank</BankName><BusinessType>BM</BusinessType><YearOpened>1993</YearOpened><Specialty>Road</Specialty><SquareFeet>17000</SquareFeet><Brands>4+</Brands><Internet>DSL</Internet><NumberEmployees>11</NumberEmployees></StoreSurvey></td><td>d899d5f5-48e6-4d2f-a13b-dbe0a43f251d</td><td>2014-09-12</td></tr><tr><td>650</td><td>Distance Bikes</td><td>279</td><td><StoreSurvey xmlns=\"http://schemas.microsoft.com/sqlserver/2004/07/adventure-works/StoreSurvey\"><AnnualSales>800000</AnnualSales><AnnualRevenue>80000</AnnualRevenue><BankName>Primary Bank &amp; Reserve</BankName><BusinessType>BM</BusinessType><YearOpened>1988</YearOpened><Specialty>Road</Specialty><SquareFeet>20000</SquareFeet><Brands>2</Brands><Internet>DSL</Internet><NumberEmployees>12</NumberEmployees></StoreSurvey></td><td>7a341a16-8c5b-4a18-84ab-9ef05241d721</td><td>2014-09-12</td></tr><tr><td>652</td><td>Westside Plaza</td><td>281</td><td><StoreSurvey xmlns=\"http://schemas.microsoft.com/sqlserver/2004/07/adventure-works/StoreSurvey\"><AnnualSales>3000000</AnnualSales><AnnualRevenue>300000</AnnualRevenue><BankName>United Security</BankName><BusinessType>OS</BusinessType><YearOpened>1989</YearOpened><Specialty>Touring</Specialty><SquareFeet>74000</SquareFeet><Brands>3</Brands><Internet>DSL</Internet><NumberEmployees>83</NumberEmployees></StoreSurvey></td><td>06abc249-ec49-45d1-b84e-98352ce995d7</td><td>2014-09-12</td></tr><tr><td>654</td><td>Ultimate Bike Shop</td><td>279</td><td><StoreSurvey xmlns=\"http://schemas.microsoft.com/sqlserver/2004/07/adventure-works/StoreSurvey\"><AnnualSales>3000000</AnnualSales><AnnualRevenue>300000</AnnualRevenue><BankName>Reserve Security</BankName><BusinessType>OS</BusinessType><YearOpened>1981</YearOpened><Specialty>Mountain</Specialty><SquareFeet>78000</SquareFeet><Brands>4+</Brands><Internet>DSL</Internet><NumberEmployees>84</NumberEmployees></StoreSurvey></td><td>d23b2b5f-d58a-4ade-a204-0082f50e32ba</td><td>2014-09-12</td></tr><tr><td>656</td><td>Outstanding Cycles</td><td>283</td><td><StoreSurvey xmlns=\"http://schemas.microsoft.com/sqlserver/2004/07/adventure-works/StoreSurvey\"><AnnualSales>3000000</AnnualSales><AnnualRevenue>300000</AnnualRevenue><BankName>Primary International</BankName><BusinessType>OS</BusinessType><YearOpened>1986</YearOpened><Specialty>Touring</Specialty><SquareFeet>78000</SquareFeet><Brands>4+</Brands><Internet>ISDN</Internet><NumberEmployees>85</NumberEmployees></StoreSurvey></td><td>039e021a-8084-4bf1-9e4f-51583ca75867</td><td>2014-09-12</td></tr><tr><td>658</td><td>Vigorous Sports Store</td><td>289</td><td><StoreSurvey xmlns=\"http://schemas.microsoft.com/sqlserver/2004/07/adventure-works/StoreSurvey\"><AnnualSales>3000000</AnnualSales><AnnualRevenue>300000</AnnualRevenue><BankName>Guardian Bank</BankName><BusinessType>OS</BusinessType><YearOpened>1984</YearOpened><Specialty>Road</Specialty><SquareFeet>73000</SquareFeet><Brands>4+</Brands><Internet>DSL</Internet><NumberEmployees>82</NumberEmployees></StoreSurvey></td><td>3fe5afd2-fe6a-4b66-8ba9-e7cc25e0e9c4</td><td>2014-09-12</td></tr><tr><td>660</td><td>Sports Merchandise</td><td>280</td><td><StoreSurvey xmlns=\"http://schemas.microsoft.com/sqlserver/2004/07/adventure-works/StoreSurvey\"><AnnualSales>3000000</AnnualSales><AnnualRevenue>300000</AnnualRevenue><BankName>International Security</BankName><BusinessType>OS</BusinessType><YearOpened>1989</YearOpened><Specialty>Touring</Specialty><SquareFeet>73000</SquareFeet><Brands>4+</Brands><Internet>DSL</Internet><NumberEmployees>83</NumberEmployees></StoreSurvey></td><td>3e12da24-cd4e-4552-aa4f-dc45bc432972</td><td>2014-09-12</td></tr><tr><td>662</td><td>Fitness Toy Store</td><td>277</td><td><StoreSurvey xmlns=\"http://schemas.microsoft.com/sqlserver/2004/07/adventure-works/StoreSurvey\"><AnnualSales>3000000</AnnualSales><AnnualRevenue>300000</AnnualRevenue><BankName>Primary Bank &amp; Reserve</BankName><BusinessType>OS</BusinessType><YearOpened>1981</YearOpened><Specialty>Road</Specialty><SquareFeet>75000</SquareFeet><Brands>3</Brands><Internet>DSL</Internet><NumberEmployees>84</NumberEmployees></StoreSurvey></td><td>fa2486e8-99b6-4832-9edf-1f86f1399cfc</td><td>2014-09-12</td></tr><tr><td>664</td><td>Casual Bicycle Store</td><td>275</td><td><StoreSurvey xmlns=\"http://schemas.microsoft.com/sqlserver/2004/07/adventure-works/StoreSurvey\"><AnnualSales>800000</AnnualSales><AnnualRevenue>80000</AnnualRevenue><BankName>Guardian Bank</BankName><BusinessType>BM</BusinessType><YearOpened>1985</YearOpened><Specialty>Mountain</Specialty><SquareFeet>18000</SquareFeet><Brands>2</Brands><Internet>T3</Internet><NumberEmployees>10</NumberEmployees></StoreSurvey></td><td>ef495883-01e1-46a0-aca4-f41dd60bcfc1</td><td>2014-09-12</td></tr><tr><td>666</td><td>Fitness Discount Store</td><td>286</td><td><StoreSurvey xmlns=\"http://schemas.microsoft.com/sqlserver/2004/07/adventure-works/StoreSurvey\"><AnnualSales>800000</AnnualSales><AnnualRevenue>80000</AnnualRevenue><BankName>Primary International</BankName><BusinessType>BM</BusinessType><YearOpened>1993</YearOpened><Specialty>Touring</Specialty><SquareFeet>19000</SquareFeet><Brands>AW</Brands><Internet>DSL</Internet><NumberEmployees>11</NumberEmployees></StoreSurvey></td><td>9ab6652a-8949-4ff5-aa99-2e7252bfd359</td><td>2014-09-12</td></tr><tr><td>668</td><td>General Cycle Storehouse</td><td>278</td><td><StoreSurvey xmlns=\"http://schemas.microsoft.com/sqlserver/2004/07/adventure-works/StoreSurvey\"><AnnualSales>800000</AnnualSales><AnnualRevenue>80000</AnnualRevenue><BankName>Reserve Security</BankName><BusinessType>BM</BusinessType><YearOpened>1988</YearOpened><Specialty>Mountain</Specialty><SquareFeet>20000</SquareFeet><Brands>4+</Brands><Internet>DSL</Internet><NumberEmployees>12</NumberEmployees></StoreSurvey></td><td>90cc4967-1a64-4f9c-b282-7917af63d9ad</td><td>2014-09-12</td></tr><tr><td>670</td><td>Fitness Cycling</td><td>281</td><td><StoreSurvey xmlns=\"http://schemas.microsoft.com/sqlserver/2004/07/adventure-works/StoreSurvey\"><AnnualSales>800000</AnnualSales><AnnualRevenue>80000</AnnualRevenue><BankName>International Bank</BankName><BusinessType>BM</BusinessType><YearOpened>1988</YearOpened><Specialty>Mountain</Specialty><SquareFeet>18000</SquareFeet><Brands>2</Brands><Internet>DSL</Internet><NumberEmployees>16</NumberEmployees></StoreSurvey></td><td>6f3ac326-f2fe-4bff-bf5a-ab67ad72a076</td><td>2014-09-12</td></tr><tr><td>672</td><td>Good Bike Shop</td><td>277</td><td><StoreSurvey xmlns=\"http://schemas.microsoft.com/sqlserver/2004/07/adventure-works/StoreSurvey\"><AnnualSales>800000</AnnualSales><AnnualRevenue>80000</AnnualRevenue><BankName>Primary Bank &amp; Reserve</BankName><BusinessType>BM</BusinessType><YearOpened>1982</YearOpened><Specialty>Road</Specialty><SquareFeet>19000</SquareFeet><Brands>4+</Brands><Internet>DSL</Internet><NumberEmployees>14</NumberEmployees></StoreSurvey></td><td>d39bc672-bb52-4eb7-939f-b3986ec7a5ca</td><td>2014-09-12</td></tr><tr><td>674</td><td>Imaginary Toys</td><td>280</td><td><StoreSurvey xmlns=\"http://schemas.microsoft.com/sqlserver/2004/07/adventure-works/StoreSurvey\"><AnnualSales>800000</AnnualSales><AnnualRevenue>80000</AnnualRevenue><BankName>International Security</BankName><BusinessType>BM</BusinessType><YearOpened>1976</YearOpened><Specialty>Touring</Specialty><SquareFeet>20000</SquareFeet><Brands>4+</Brands><Internet>DSL</Internet><NumberEmployees>12</NumberEmployees></StoreSurvey></td><td>4c6992a0-dc3e-4a96-9bbb-9239135c29df</td><td>2014-09-12</td></tr><tr><td>676</td><td>Inexpensive Parts Shop</td><td>286</td><td><StoreSurvey xmlns=\"http://schemas.microsoft.com/sqlserver/2004/07/adventure-works/StoreSurvey\"><AnnualSales>1500000</AnnualSales><AnnualRevenue>150000</AnnualRevenue><BankName>Guardian Bank</BankName><BusinessType>BS</BusinessType><YearOpened>1972</YearOpened><Specialty>Mountain</Specialty><SquareFeet>35000</SquareFeet><Brands>4+</Brands><Internet>T1</Internet><NumberEmployees>34</NumberEmployees></StoreSurvey></td><td>7d6588fc-efb7-4851-a9ce-f4c71e494709</td><td>2014-09-12</td></tr><tr><td>678</td><td>Nuts and Bolts Mfg.</td><td>278</td><td><StoreSurvey xmlns=\"http://schemas.microsoft.com/sqlserver/2004/07/adventure-works/StoreSurvey\"><AnnualSales>1500000</AnnualSales><AnnualRevenue>150000</AnnualRevenue><BankName>Primary International</BankName><BusinessType>BS</BusinessType><YearOpened>1988</YearOpened><Specialty>Mountain</Specialty><SquareFeet>37000</SquareFeet><Brands>4+</Brands><Internet>DSL</Internet><NumberEmployees>35</NumberEmployees></StoreSurvey></td><td>f5b50576-9c84-4125-af94-ebcc49d8be9e</td><td>2014-09-12</td></tr><tr><td>680</td><td>Principal Bicycle Supply</td><td>279</td><td><StoreSurvey xmlns=\"http://schemas.microsoft.com/sqlserver/2004/07/adventure-works/StoreSurvey\"><AnnualSales>1500000</AnnualSales><AnnualRevenue>150000</AnnualRevenue><BankName>Reserve Security</BankName><BusinessType>BS</BusinessType><YearOpened>1976</YearOpened><Specialty>Road</Specialty><SquareFeet>39000</SquareFeet><Brands>4+</Brands><Internet>DSL</Internet><NumberEmployees>36</NumberEmployees></StoreSurvey></td><td>b0bdbe3b-f9f2-4bdd-a74b-9423eca7a815</td><td>2014-09-12</td></tr><tr><td>682</td><td>Thrilling Bike Tours</td><td>276</td><td><StoreSurvey xmlns=\"http://schemas.microsoft.com/sqlserver/2004/07/adventure-works/StoreSurvey\"><AnnualSales>1500000</AnnualSales><AnnualRevenue>150000</AnnualRevenue><BankName>United Security</BankName><BusinessType>BS</BusinessType><YearOpened>1971</YearOpened><Specialty>Touring</Specialty><SquareFeet>37000</SquareFeet><Brands>4+</Brands><Internet>ISDN</Internet><NumberEmployees>37</NumberEmployees></StoreSurvey></td><td>b501d2ca-b083-47ec-a2a0-4341da752f4b</td><td>2014-09-12</td></tr><tr><td>684</td><td>This Area Sporting Goods</td><td>277</td><td><StoreSurvey xmlns=\"http://schemas.microsoft.com/sqlserver/2004/07/adventure-works/StoreSurvey\"><AnnualSales>1500000</AnnualSales><AnnualRevenue>150000</AnnualRevenue><BankName>International Bank</BankName><BusinessType>BS</BusinessType><YearOpened>1979</YearOpened><Specialty>Mountain</Specialty><SquareFeet>39000</SquareFeet><Brands>2</Brands><Internet>DSL</Internet><NumberEmployees>38</NumberEmployees></StoreSurvey></td><td>fb6331ea-0148-418a-884a-84d1da20ac3c</td><td>2014-09-12</td></tr><tr><td>686</td><td>Full-Service Bike Store</td><td>275</td><td><StoreSurvey xmlns=\"http://schemas.microsoft.com/sqlserver/2004/07/adventure-works/StoreSurvey\"><AnnualSales>1500000</AnnualSales><AnnualRevenue>150000</AnnualRevenue><BankName>Primary Bank &amp; Reserve</BankName><BusinessType>BS</BusinessType><YearOpened>1974</YearOpened><Specialty>Mountain</Specialty><SquareFeet>38000</SquareFeet><Brands>3</Brands><Internet>DSL</Internet><NumberEmployees>39</NumberEmployees></StoreSurvey></td><td>a167f30e-c0f1-49c3-96ce-4e8a2ca3c65c</td><td>2014-09-12</td></tr><tr><td>688</td><td>Plastic Products Manufacturers</td><td>286</td><td><StoreSurvey xmlns=\"http://schemas.microsoft.com/sqlserver/2004/07/adventure-works/StoreSurvey\"><AnnualSales>1500000</AnnualSales><AnnualRevenue>150000</AnnualRevenue><BankName>International Security</BankName><BusinessType>BS</BusinessType><YearOpened>1982</YearOpened><Specialty>Touring</Specialty><SquareFeet>37000</SquareFeet><Brands>3</Brands><Internet>DSL</Internet><NumberEmployees>40</NumberEmployees></StoreSurvey></td><td>035fc393-8bf1-4522-9dd7-f7cf3140740a</td><td>2014-09-12</td></tr><tr><td>690</td><td>Kids and Adults Cycle Shop</td><td>286</td><td><StoreSurvey xmlns=\"http://schemas.microsoft.com/sqlserver/2004/07/adventure-works/StoreSurvey\"><AnnualSales>3000000</AnnualSales><AnnualRevenue>300000</AnnualRevenue><BankName>Primary Bank &amp; Reserve</BankName><BusinessType>OS</BusinessType><YearOpened>1974</YearOpened><Specialty>Mountain</Specialty><SquareFeet>75000</SquareFeet><Brands>2</Brands><Internet>T1</Internet><NumberEmployees>93</NumberEmployees></StoreSurvey></td><td>7f00ee1c-91f3-46dc-8384-cb0317463e70</td><td>2014-09-12</td></tr><tr><td>692</td><td>Grand Discount Store</td><td>275</td><td><StoreSurvey xmlns=\"http://schemas.microsoft.com/sqlserver/2004/07/adventure-works/StoreSurvey\"><AnnualSales>3000000</AnnualSales><AnnualRevenue>300000</AnnualRevenue><BankName>International Bank</BankName><BusinessType>OS</BusinessType><YearOpened>1974</YearOpened><Specialty>Mountain</Specialty><SquareFeet>75000</SquareFeet><Brands>4+</Brands><Internet>DSL</Internet><NumberEmployees>94</NumberEmployees></StoreSurvey></td><td>20148536-7bf7-4a99-a184-2bdf1eb5eb40</td><td>2014-09-12</td></tr><tr><td>694</td><td>Genuine Bike Shop</td><td>277</td><td><StoreSurvey xmlns=\"http://schemas.microsoft.com/sqlserver/2004/07/adventure-works/StoreSurvey\"><AnnualSales>3000000</AnnualSales><AnnualRevenue>300000</AnnualRevenue><BankName>United Security</BankName><BusinessType>OS</BusinessType><YearOpened>1980</YearOpened><Specialty>Road</Specialty><SquareFeet>76000</SquareFeet><Brands>4+</Brands><Internet>DSL</Internet><NumberEmployees>95</NumberEmployees></StoreSurvey></td><td>ef74488b-1b77-4148-93ef-a4bc4638c921</td><td>2014-09-12</td></tr><tr><td>696</td><td>Extreme Riding Supplies</td><td>276</td><td><StoreSurvey xmlns=\"http://schemas.microsoft.com/sqlserver/2004/07/adventure-works/StoreSurvey\"><AnnualSales>3000000</AnnualSales><AnnualRevenue>300000</AnnualRevenue><BankName>Reserve Security</BankName><BusinessType>OS</BusinessType><YearOpened>1986</YearOpened><Specialty>Touring</Specialty><SquareFeet>79000</SquareFeet><Brands>3</Brands><Internet>T1</Internet><NumberEmployees>96</NumberEmployees></StoreSurvey></td><td>0c1ad971-9999-441a-9bf8-8d95c44489d2</td><td>2014-09-12</td></tr><tr><td>698</td><td>Bike Rims Company</td><td>279</td><td><StoreSurvey xmlns=\"http://schemas.microsoft.com/sqlserver/2004/07/adventure-works/StoreSurvey\"><AnnualSales>3000000</AnnualSales><AnnualRevenue>300000</AnnualRevenue><BankName>Primary International</BankName><BusinessType>OS</BusinessType><YearOpened>1992</YearOpened><Specialty>Road</Specialty><SquareFeet>80000</SquareFeet><Brands>4+</Brands><Internet>T2</Internet><NumberEmployees>97</NumberEmployees></StoreSurvey></td><td>d664a5cb-eb27-422e-8c7e-c81814508c73</td><td>2014-09-12</td></tr><tr><td>700</td><td>Fleet Bikes</td><td>276</td><td><StoreSurvey xmlns=\"http://schemas.microsoft.com/sqlserver/2004/07/adventure-works/StoreSurvey\"><AnnualSales>1500000</AnnualSales><AnnualRevenue>150000</AnnualRevenue><BankName>Primary International</BankName><BusinessType>BS</BusinessType><YearOpened>1989</YearOpened><Specialty>Mountain</Specialty><SquareFeet>40000</SquareFeet><Brands>3</Brands><Internet>DSL</Internet><NumberEmployees>49</NumberEmployees></StoreSurvey></td><td>cec2cc52-9fad-4328-a288-c01649dfe106</td><td>2014-09-12</td></tr><tr><td>702</td><td>Local Hardware Factory</td><td>277</td><td><StoreSurvey xmlns=\"http://schemas.microsoft.com/sqlserver/2004/07/adventure-works/StoreSurvey\"><AnnualSales>1500000</AnnualSales><AnnualRevenue>150000</AnnualRevenue><BankName>Reserve Security</BankName><BusinessType>BS</BusinessType><YearOpened>1997</YearOpened><Specialty>Road</Specialty><SquareFeet>41000</SquareFeet><Brands>3</Brands><Internet>DSL</Internet><NumberEmployees>46</NumberEmployees></StoreSurvey></td><td>16c76410-67e9-4082-bff4-172f287c1f7c</td><td>2014-09-12</td></tr><tr><td>704</td><td>Only Bikes and Accessories</td><td>275</td><td><StoreSurvey xmlns=\"http://schemas.microsoft.com/sqlserver/2004/07/adventure-works/StoreSurvey\"><AnnualSales>1500000</AnnualSales><AnnualRevenue>150000</AnnualRevenue><BankName>United Security</BankName><BusinessType>BS</BusinessType><YearOpened>1992</YearOpened><Specialty>Mountain</Specialty><SquareFeet>40000</SquareFeet><Brands>4+</Brands><Internet>T1</Internet><NumberEmployees>43</NumberEmployees></StoreSurvey></td><td>af3b1a6a-e60b-4e74-96ea-e55c89f0adf6</td><td>2014-09-12</td></tr><tr><td>706</td><td>Rental Gallery</td><td>286</td><td><StoreSurvey xmlns=\"http://schemas.microsoft.com/sqlserver/2004/07/adventure-works/StoreSurvey\"><AnnualSales>1500000</AnnualSales><AnnualRevenue>150000</AnnualRevenue><BankName>International Bank</BankName><BusinessType>BS</BusinessType><YearOpened>1995</YearOpened><Specialty>Mountain</Specialty><SquareFeet>37000</SquareFeet><Brands>4+</Brands><Internet>T2</Internet><NumberEmployees>40</NumberEmployees></StoreSurvey></td><td>71322a9a-9feb-4c12-947a-e3aeffbfa3e2</td><td>2014-09-12</td></tr><tr><td>708</td><td>South Bike Company</td><td>278</td><td><StoreSurvey xmlns=\"http://schemas.microsoft.com/sqlserver/2004/07/adventure-works/StoreSurvey\"><AnnualSales>1500000</AnnualSales><AnnualRevenue>150000</AnnualRevenue><BankName>Primary Bank &amp; Reserve</BankName><BusinessType>BS</BusinessType><YearOpened>1995</YearOpened><Specialty>Touring</Specialty><SquareFeet>40000</SquareFeet><Brands>4+</Brands><Internet>DSL</Internet><NumberEmployees>37</NumberEmployees></StoreSurvey></td><td>c3346ce3-ca88-4e5b-8a41-05e76abf4fcf</td><td>2014-09-12</td></tr><tr><td>710</td><td>Wonderful Bikes Inc.</td><td>279</td><td><StoreSurvey xmlns=\"http://schemas.microsoft.com/sqlserver/2004/07/adventure-works/StoreSurvey\"><AnnualSales>1500000</AnnualSales><AnnualRevenue>150000</AnnualRevenue><BankName>International Security</BankName><BusinessType>BS</BusinessType><YearOpened>1983</YearOpened><Specialty>Road</Specialty><SquareFeet>37000</SquareFeet><Brands>3</Brands><Internet>T1</Internet><NumberEmployees>34</NumberEmployees></StoreSurvey></td><td>0948efce-69ef-4866-b25e-19ac06159158</td><td>2014-09-12</td></tr><tr><td>712</td><td>Another Sporting Goods Company</td><td>276</td><td><StoreSurvey xmlns=\"http://schemas.microsoft.com/sqlserver/2004/07/adventure-works/StoreSurvey\"><AnnualSales>1500000</AnnualSales><AnnualRevenue>150000</AnnualRevenue><BankName>Guardian Bank</BankName><BusinessType>BS</BusinessType><YearOpened>1998</YearOpened><Specialty>Road</Specialty><SquareFeet>37000</SquareFeet><Brands>4+</Brands><Internet>T1</Internet><NumberEmployees>31</NumberEmployees></StoreSurvey></td><td>0945ecb3-8c14-4b65-90b9-9db474085ce8</td><td>2014-09-12</td></tr><tr><td>714</td><td>Discount Bicycle Specialists</td><td>277</td><td><StoreSurvey xmlns=\"http://schemas.microsoft.com/sqlserver/2004/07/adventure-works/StoreSurvey\"><AnnualSales>1000000</AnnualSales><AnnualRevenue>100000</AnnualRevenue><BankName>Primary International</BankName><BusinessType>BS</BusinessType><YearOpened>1971</YearOpened><Specialty>Road</Specialty><SquareFeet>28000</SquareFeet><Brands>4+</Brands><Internet>DSL</Internet><NumberEmployees>28</NumberEmployees></StoreSurvey></td><td>4833dbbd-77dd-4855-882d-b5bb392f8d83</td><td>2014-09-12</td></tr><tr><td>716</td><td>Famous Bike Sales and Service</td><td>275</td><td><StoreSurvey xmlns=\"http://schemas.microsoft.com/sqlserver/2004/07/adventure-works/StoreSurvey\"><AnnualSales>1000000</AnnualSales><AnnualRevenue>100000</AnnualRevenue><BankName>Reserve Security</BankName><BusinessType>BS</BusinessType><YearOpened>2001</YearOpened><Specialty>Road</Specialty><SquareFeet>26000</SquareFeet><Brands>4+</Brands><Internet>DSL</Internet><NumberEmployees>25</NumberEmployees></StoreSurvey></td><td>dcb36c79-b15c-4a9e-a169-1490449ea59f</td><td>2014-09-12</td></tr><tr><td>718</td><td>First Supplies</td><td>286</td><td><StoreSurvey xmlns=\"http://schemas.microsoft.com/sqlserver/2004/07/adventure-works/StoreSurvey\"><AnnualSales>1000000</AnnualSales><AnnualRevenue>100000</AnnualRevenue><BankName>United Security</BankName><BusinessType>BS</BusinessType><YearOpened>1996</YearOpened><Specialty>Touring</Specialty><SquareFeet>26000</SquareFeet><Brands>4+</Brands><Internet>T1</Internet><NumberEmployees>22</NumberEmployees></StoreSurvey></td><td>1b118fae-776a-4756-92b0-a7937f0edbae</td><td>2014-09-12</td></tr><tr><td>720</td><td>Machines & Cycles Store</td><td>278</td><td><StoreSurvey xmlns=\"http://schemas.microsoft.com/sqlserver/2004/07/adventure-works/StoreSurvey\"><AnnualSales>800000</AnnualSales><AnnualRevenue>80000</AnnualRevenue><BankName>International Bank</BankName><BusinessType>BS</BusinessType><YearOpened>1990</YearOpened><Specialty>Touring</Specialty><SquareFeet>22000</SquareFeet><Brands>2</Brands><Internet>T2</Internet><NumberEmployees>19</NumberEmployees></StoreSurvey></td><td>c5f81c18-5674-480b-8b7d-bc1608e21e8e</td><td>2014-09-12</td></tr><tr><td>722</td><td>Pedals Warehouse</td><td>279</td><td><StoreSurvey xmlns=\"http://schemas.microsoft.com/sqlserver/2004/07/adventure-works/StoreSurvey\"><AnnualSales>800000</AnnualSales><AnnualRevenue>80000</AnnualRevenue><BankName>Primary Bank &amp; Reserve</BankName><BusinessType>BS</BusinessType><YearOpened>1984</YearOpened><Specialty>Road</Specialty><SquareFeet>20000</SquareFeet><Brands>2</Brands><Internet>T1</Internet><NumberEmployees>16</NumberEmployees></StoreSurvey></td><td>d2dc2451-e8f2-449b-b94c-f6729dcf110c</td><td>2014-09-12</td></tr><tr><td>724</td><td>Two Wheels Cycle Store</td><td>276</td><td><StoreSurvey xmlns=\"http://schemas.microsoft.com/sqlserver/2004/07/adventure-works/StoreSurvey\"><AnnualSales>800000</AnnualSales><AnnualRevenue>80000</AnnualRevenue><BankName>International Security</BankName><BusinessType>BS</BusinessType><YearOpened>1978</YearOpened><Specialty>Road</Specialty><SquareFeet>22000</SquareFeet><Brands>2</Brands><Internet>T1</Internet><NumberEmployees>13</NumberEmployees></StoreSurvey></td><td>a04e78ff-c151-4a8f-921c-1043c85bd74c</td><td>2014-09-12</td></tr><tr><td>726</td><td>Westside Cycle Store</td><td>277</td><td><StoreSurvey xmlns=\"http://schemas.microsoft.com/sqlserver/2004/07/adventure-works/StoreSurvey\"><AnnualSales>800000</AnnualSales><AnnualRevenue>80000</AnnualRevenue><BankName>Guardian Bank</BankName><BusinessType>BS</BusinessType><YearOpened>1972</YearOpened><Specialty>Road</Specialty><SquareFeet>20000</SquareFeet><Brands>4+</Brands><Internet>T1</Internet><NumberEmployees>10</NumberEmployees></StoreSurvey></td><td>147f9060-dd41-4810-ab5b-2439c7816feb</td><td>2014-09-12</td></tr><tr><td>728</td><td>Wholesale Bikes</td><td>275</td><td><StoreSurvey xmlns=\"http://schemas.microsoft.com/sqlserver/2004/07/adventure-works/StoreSurvey\"><AnnualSales>1000000</AnnualSales><AnnualRevenue>100000</AnnualRevenue><BankName>International Security</BankName><BusinessType>BS</BusinessType><YearOpened>1998</YearOpened><Specialty>Road</Specialty><SquareFeet>27000</SquareFeet><Brands>3</Brands><Internet>DSL</Internet><NumberEmployees>27</NumberEmployees></StoreSurvey></td><td>57f096c7-5bc4-4f8c-9171-9e03246d5439</td><td>2014-09-12</td></tr><tr><td>730</td><td>Very Best Sports Supply</td><td>288</td><td><StoreSurvey xmlns=\"http://schemas.microsoft.com/sqlserver/2004/07/adventure-works/StoreSurvey\"><AnnualSales>1000000</AnnualSales><AnnualRevenue>100000</AnnualRevenue><BankName>Guardian Bank</BankName><BusinessType>BS</BusinessType><YearOpened>1971</YearOpened><Specialty>Road</Specialty><SquareFeet>28000</SquareFeet><Brands>4+</Brands><Internet>DSL</Internet><NumberEmployees>28</NumberEmployees></StoreSurvey></td><td>5a0f3b85-4258-4219-b825-31195034c5c3</td><td>2014-09-12</td></tr><tr><td>732</td><td>Urban Sports Emporium</td><td>282</td><td><StoreSurvey xmlns=\"http://schemas.microsoft.com/sqlserver/2004/07/adventure-works/StoreSurvey\"><AnnualSales>1000000</AnnualSales><AnnualRevenue>100000</AnnualRevenue><BankName>Primary International</BankName><BusinessType>BS</BusinessType><YearOpened>2001</YearOpened><Specialty>Road</Specialty><SquareFeet>24000</SquareFeet><Brands>4+</Brands><Internet>DSL</Internet><NumberEmployees>29</NumberEmployees></StoreSurvey></td><td>ac4ca540-5260-4333-818b-434f3ff000c5</td><td>2014-09-12</td></tr><tr><td>734</td><td>Superlative Bikes</td><td>279</td><td><StoreSurvey xmlns=\"http://schemas.microsoft.com/sqlserver/2004/07/adventure-works/StoreSurvey\"><AnnualSales>1500000</AnnualSales><AnnualRevenue>150000</AnnualRevenue><BankName>Reserve Security</BankName><BusinessType>BS</BusinessType><YearOpened>1996</YearOpened><Specialty>Mountain</Specialty><SquareFeet>36000</SquareFeet><Brands>4+</Brands><Internet>T1</Internet><NumberEmployees>30</NumberEmployees></StoreSurvey></td><td>e2efc4e8-5b3f-47e2-b0a6-be0701b34a05</td><td>2014-09-12</td></tr><tr><td>736</td><td>Primary Cycle Shop</td><td>288</td><td><StoreSurvey xmlns=\"http://schemas.microsoft.com/sqlserver/2004/07/adventure-works/StoreSurvey\"><AnnualSales>1500000</AnnualSales><AnnualRevenue>150000</AnnualRevenue><BankName>Reserve Security</BankName><BusinessType>BS</BusinessType><YearOpened>1977</YearOpened><Specialty>Road</Specialty><SquareFeet>37000</SquareFeet><Brands>4+</Brands><Internet>DSL</Internet><NumberEmployees>41</NumberEmployees></StoreSurvey></td><td>219adf36-cf78-4841-b348-26c2adfb518e</td><td>2014-09-12</td></tr><tr><td>738</td><td>Sixth Bike Store</td><td>282</td><td><StoreSurvey xmlns=\"http://schemas.microsoft.com/sqlserver/2004/07/adventure-works/StoreSurvey\"><AnnualSales>1500000</AnnualSales><AnnualRevenue>150000</AnnualRevenue><BankName>United Security</BankName><BusinessType>BS</BusinessType><YearOpened>1985</YearOpened><Specialty>Mountain</Specialty><SquareFeet>37000</SquareFeet><Brands>2</Brands><Internet>T1</Internet><NumberEmployees>42</NumberEmployees></StoreSurvey></td><td>587834de-cb5c-4c9f-870b-befe343b681b</td><td>2014-09-12</td></tr><tr><td>740</td><td>Touring Services</td><td>279</td><td><StoreSurvey xmlns=\"http://schemas.microsoft.com/sqlserver/2004/07/adventure-works/StoreSurvey\"><AnnualSales>1500000</AnnualSales><AnnualRevenue>150000</AnnualRevenue><BankName>International Bank</BankName><BusinessType>BS</BusinessType><YearOpened>1980</YearOpened><Specialty>Road</Specialty><SquareFeet>38000</SquareFeet><Brands>4+</Brands><Internet>DSL</Internet><NumberEmployees>43</NumberEmployees></StoreSurvey></td><td>1baa7f8a-c00a-441e-8d40-e06a4aec1c43</td><td>2014-09-12</td></tr><tr><td>742</td><td>Vehicle Shop</td><td>281</td><td><StoreSurvey xmlns=\"http://schemas.microsoft.com/sqlserver/2004/07/adventure-works/StoreSurvey\"><AnnualSales>1500000</AnnualSales><AnnualRevenue>150000</AnnualRevenue><BankName>Primary Bank &amp; Reserve</BankName><BusinessType>BS</BusinessType><YearOpened>1988</YearOpened><Specialty>Road</Specialty><SquareFeet>38000</SquareFeet><Brands>2</Brands><Internet>DSL</Internet><NumberEmployees>44</NumberEmployees></StoreSurvey></td><td>08cbc4a5-2bd2-46d5-b0e8-327387559092</td><td>2014-09-12</td></tr><tr><td>744</td><td>First Department Stores</td><td>283</td><td><StoreSurvey xmlns=\"http://schemas.microsoft.com/sqlserver/2004/07/adventure-works/StoreSurvey\"><AnnualSales>1500000</AnnualSales><AnnualRevenue>150000</AnnualRevenue><BankName>International Security</BankName><BusinessType>BS</BusinessType><YearOpened>1983</YearOpened><Specialty>Mountain</Specialty><SquareFeet>38000</SquareFeet><Brands>3</Brands><Internet>DSL</Internet><NumberEmployees>45</NumberEmployees></StoreSurvey></td><td>443e7b85-6e6e-440e-97c8-10075b6fbe4a</td><td>2014-09-12</td></tr><tr><td>746</td><td>Grand Sport Boutique</td><td>275</td><td><StoreSurvey xmlns=\"http://schemas.microsoft.com/sqlserver/2004/07/adventure-works/StoreSurvey\"><AnnualSales>1500000</AnnualSales><AnnualRevenue>150000</AnnualRevenue><BankName>Guardian Bank</BankName><BusinessType>BS</BusinessType><YearOpened>1991</YearOpened><Specialty>Road</Specialty><SquareFeet>39000</SquareFeet><Brands>4+</Brands><Internet>T1</Internet><NumberEmployees>46</NumberEmployees></StoreSurvey></td><td>96ba60f5-324c-467e-bf10-6259107dbd81</td><td>2014-09-12</td></tr><tr><td>748</td><td>Major Equipment Co</td><td>288</td><td><StoreSurvey xmlns=\"http://schemas.microsoft.com/sqlserver/2004/07/adventure-works/StoreSurvey\"><AnnualSales>1500000</AnnualSales><AnnualRevenue>150000</AnnualRevenue><BankName>Primary International</BankName><BusinessType>BS</BusinessType><YearOpened>1986</YearOpened><Specialty>Touring</Specialty><SquareFeet>37000</SquareFeet><Brands>2</Brands><Internet>DSL</Internet><NumberEmployees>47</NumberEmployees></StoreSurvey></td><td>7f68af6f-23e9-456a-8ea9-69d130fa09fd</td><td>2014-09-12</td></tr><tr><td>750</td><td>Custom Sales and Service</td><td>282</td><td><StoreSurvey xmlns=\"http://schemas.microsoft.com/sqlserver/2004/07/adventure-works/StoreSurvey\"><AnnualSales>1500000</AnnualSales><AnnualRevenue>150000</AnnualRevenue><BankName>Reserve Security</BankName><BusinessType>BS</BusinessType><YearOpened>1994</YearOpened><Specialty>Road</Specialty><SquareFeet>39000</SquareFeet><Brands>4+</Brands><Internet>DSL</Internet><NumberEmployees>48</NumberEmployees></StoreSurvey></td><td>f6618771-ca58-4681-9f85-9e91d7beac23</td><td>2014-09-12</td></tr><tr><td>752</td><td>Elemental Sporting Goods</td><td>279</td><td><StoreSurvey xmlns=\"http://schemas.microsoft.com/sqlserver/2004/07/adventure-works/StoreSurvey\"><AnnualSales>1500000</AnnualSales><AnnualRevenue>150000</AnnualRevenue><BankName>United Security</BankName><BusinessType>BS</BusinessType><YearOpened>1989</YearOpened><Specialty>Mountain</Specialty><SquareFeet>41000</SquareFeet><Brands>4+</Brands><Internet>T1</Internet><NumberEmployees>49</NumberEmployees></StoreSurvey></td><td>52581c1d-2510-48ae-9e09-5db1f7c96950</td><td>2014-09-12</td></tr><tr><td>754</td><td>Distinctive Store</td><td>281</td><td><StoreSurvey xmlns=\"http://schemas.microsoft.com/sqlserver/2004/07/adventure-works/StoreSurvey\"><AnnualSales>1500000</AnnualSales><AnnualRevenue>150000</AnnualRevenue><BankName>International Bank</BankName><BusinessType>BS</BusinessType><YearOpened>1997</YearOpened><Specialty>Road</Specialty><SquareFeet>37000</SquareFeet><Brands>4+</Brands><Internet>T1</Internet><NumberEmployees>46</NumberEmployees></StoreSurvey></td><td>019e92aa-628c-4914-acbc-d540e595e887</td><td>2014-09-12</td></tr><tr><td>756</td><td>Grand Cycle Store</td><td>283</td><td><StoreSurvey xmlns=\"http://schemas.microsoft.com/sqlserver/2004/07/adventure-works/StoreSurvey\"><AnnualSales>1500000</AnnualSales><AnnualRevenue>150000</AnnualRevenue><BankName>Primary Bank &amp; Reserve</BankName><BusinessType>BS</BusinessType><YearOpened>1992</YearOpened><Specialty>Road</Specialty><SquareFeet>41000</SquareFeet><Brands>2</Brands><Internet>DSL</Internet><NumberEmployees>43</NumberEmployees></StoreSurvey></td><td>1f40d1de-0b48-436c-bf9e-ad6f31629ff3</td><td>2014-09-12</td></tr><tr><td>758</td><td>Nearby Bike Mall</td><td>288</td><td><StoreSurvey xmlns=\"http://schemas.microsoft.com/sqlserver/2004/07/adventure-works/StoreSurvey\"><AnnualSales>3000000</AnnualSales><AnnualRevenue>300000</AnnualRevenue><BankName>United Security</BankName><BusinessType>OS</BusinessType><YearOpened>1983</YearOpened><Specialty>Road</Specialty><SquareFeet>74000</SquareFeet><Brands>2</Brands><Internet>DSL</Internet><NumberEmployees>87</NumberEmployees></StoreSurvey></td><td>d2df815b-b890-4a47-a396-d8ff91914356</td><td>2014-09-12</td></tr><tr><td>760</td><td>Handy Bike Services</td><td>275</td><td><StoreSurvey xmlns=\"http://schemas.microsoft.com/sqlserver/2004/07/adventure-works/StoreSurvey\"><AnnualSales>3000000</AnnualSales><AnnualRevenue>300000</AnnualRevenue><BankName>Reserve Security</BankName><BusinessType>OS</BusinessType><YearOpened>1975</YearOpened><Specialty>Mountain</Specialty><SquareFeet>76000</SquareFeet><Brands>4+</Brands><Internet>T1</Internet><NumberEmployees>88</NumberEmployees></StoreSurvey></td><td>f4ae5e4f-8702-419b-9e8e-f82489669453</td><td>2014-09-12</td></tr><tr><td>762</td><td>Friendly Bike Shop</td><td>283</td><td><StoreSurvey xmlns=\"http://schemas.microsoft.com/sqlserver/2004/07/adventure-works/StoreSurvey\"><AnnualSales>3000000</AnnualSales><AnnualRevenue>300000</AnnualRevenue><BankName>Primary International</BankName><BusinessType>OS</BusinessType><YearOpened>1980</YearOpened><Specialty>Road</Specialty><SquareFeet>75000</SquareFeet><Brands>2</Brands><Internet>DSL</Internet><NumberEmployees>89</NumberEmployees></StoreSurvey></td><td>ccba980d-ae01-49ac-aa30-8224225d900f</td><td>2014-09-12</td></tr><tr><td>764</td><td>Fashionable Bikes and Accessories</td><td>281</td><td><StoreSurvey xmlns=\"http://schemas.microsoft.com/sqlserver/2004/07/adventure-works/StoreSurvey\"><AnnualSales>3000000</AnnualSales><AnnualRevenue>300000</AnnualRevenue><BankName>Guardian Bank</BankName><BusinessType>OS</BusinessType><YearOpened>1972</YearOpened><Specialty>Mountain</Specialty><SquareFeet>76000</SquareFeet><Brands>3</Brands><Internet>T1</Internet><NumberEmployees>90</NumberEmployees></StoreSurvey></td><td>63427938-8dbb-470b-85d2-1b5cb62f9ed7</td><td>2014-09-12</td></tr><tr><td>766</td><td>Extreme Toy Store</td><td>279</td><td><StoreSurvey xmlns=\"http://schemas.microsoft.com/sqlserver/2004/07/adventure-works/StoreSurvey\"><AnnualSales>3000000</AnnualSales><AnnualRevenue>300000</AnnualRevenue><BankName>International Security</BankName><BusinessType>OS</BusinessType><YearOpened>1977</YearOpened><Specialty>Mountain</Specialty><SquareFeet>75000</SquareFeet><Brands>2</Brands><Internet>DSL</Internet><NumberEmployees>91</NumberEmployees></StoreSurvey></td><td>dbe4a587-bd26-485b-94c3-b04e944627c9</td><td>2014-09-12</td></tr><tr><td>768</td><td>Citywide Service and Repair</td><td>282</td><td><StoreSurvey xmlns=\"http://schemas.microsoft.com/sqlserver/2004/07/adventure-works/StoreSurvey\"><AnnualSales>3000000</AnnualSales><AnnualRevenue>300000</AnnualRevenue><BankName>Primary Bank &amp; Reserve</BankName><BusinessType>OS</BusinessType><YearOpened>1987</YearOpened><Specialty>Road</Specialty><SquareFeet>79000</SquareFeet><Brands>3</Brands><Internet>DSL</Internet><NumberEmployees>92</NumberEmployees></StoreSurvey></td><td>10069045-fe16-4eef-bdf8-2aa907c8924d</td><td>2014-09-12</td></tr><tr><td>770</td><td>Best Cycle Store</td><td>288</td><td><StoreSurvey xmlns=\"http://schemas.microsoft.com/sqlserver/2004/07/adventure-works/StoreSurvey\"><AnnualSales>3000000</AnnualSales><AnnualRevenue>300000</AnnualRevenue><BankName>International Bank</BankName><BusinessType>OS</BusinessType><YearOpened>1974</YearOpened><Specialty>Touring</Specialty><SquareFeet>78000</SquareFeet><Brands>4+</Brands><Internet>T1</Internet><NumberEmployees>93</NumberEmployees></StoreSurvey></td><td>6a2daf2a-19a5-42c5-8dc4-2038561c5ae3</td><td>2014-09-12</td></tr><tr><td>772</td><td>Professional Sporting Goods</td><td>275</td><td><StoreSurvey xmlns=\"http://schemas.microsoft.com/sqlserver/2004/07/adventure-works/StoreSurvey\"><AnnualSales>3000000</AnnualSales><AnnualRevenue>300000</AnnualRevenue><BankName>United Security</BankName><BusinessType>OS</BusinessType><YearOpened>1974</YearOpened><Specialty>Touring</Specialty><SquareFeet>78000</SquareFeet><Brands>2</Brands><Internet>DSL</Internet><NumberEmployees>94</NumberEmployees></StoreSurvey></td><td>e0453aaa-7d26-4f08-b5ab-4dc265330cf2</td><td>2014-09-12</td></tr><tr><td>774</td><td>Rugged Bikes</td><td>283</td><td><StoreSurvey xmlns=\"http://schemas.microsoft.com/sqlserver/2004/07/adventure-works/StoreSurvey\"><AnnualSales>3000000</AnnualSales><AnnualRevenue>300000</AnnualRevenue><BankName>Reserve Security</BankName><BusinessType>OS</BusinessType><YearOpened>1980</YearOpened><Specialty>Touring</Specialty><SquareFeet>77000</SquareFeet><Brands>2</Brands><Internet>DSL</Internet><NumberEmployees>95</NumberEmployees></StoreSurvey></td><td>623db28f-60da-49d6-b72d-1680aa5e6351</td><td>2014-09-12</td></tr><tr><td>776</td><td>Principal Bike Company</td><td>281</td><td><StoreSurvey xmlns=\"http://schemas.microsoft.com/sqlserver/2004/07/adventure-works/StoreSurvey\"><AnnualSales>3000000</AnnualSales><AnnualRevenue>300000</AnnualRevenue><BankName>Primary International</BankName><BusinessType>OS</BusinessType><YearOpened>1986</YearOpened><Specialty>Road</Specialty><SquareFeet>79000</SquareFeet><Brands>3</Brands><Internet>DSL</Internet><NumberEmployees>96</NumberEmployees></StoreSurvey></td><td>9bbe2c3d-be66-474e-bc4e-0ea19bf08dd5</td><td>2014-09-12</td></tr><tr><td>778</td><td>One-Piece Handle Bars</td><td>279</td><td><StoreSurvey xmlns=\"http://schemas.microsoft.com/sqlserver/2004/07/adventure-works/StoreSurvey\"><AnnualSales>3000000</AnnualSales><AnnualRevenue>300000</AnnualRevenue><BankName>Guardian Bank</BankName><BusinessType>OS</BusinessType><YearOpened>1992</YearOpened><Specialty>Mountain</Specialty><SquareFeet>80000</SquareFeet><Brands>3</Brands><Internet>T1</Internet><NumberEmployees>97</NumberEmployees></StoreSurvey></td><td>3159c810-9549-497f-8e2e-7e7dc7158751</td><td>2014-09-12</td></tr><tr><td>780</td><td>Finer Riding Supplies</td><td>282</td><td><StoreSurvey xmlns=\"http://schemas.microsoft.com/sqlserver/2004/07/adventure-works/StoreSurvey\"><AnnualSales>3000000</AnnualSales><AnnualRevenue>300000</AnnualRevenue><BankName>International Security</BankName><BusinessType>OS</BusinessType><YearOpened>1998</YearOpened><Specialty>Road</Specialty><SquareFeet>78000</SquareFeet><Brands>4+</Brands><Internet>DSL</Internet><NumberEmployees>98</NumberEmployees></StoreSurvey></td><td>943a2705-ce9c-47d6-8708-407bd239ed49</td><td>2014-09-12</td></tr><tr><td>782</td><td>Neighborhood Store</td><td>278</td><td><StoreSurvey xmlns=\"http://schemas.microsoft.com/sqlserver/2004/07/adventure-works/StoreSurvey\"><AnnualSales>3000000</AnnualSales><AnnualRevenue>300000</AnnualRevenue><BankName>Primary International</BankName><BusinessType>OS</BusinessType><YearOpened>1983</YearOpened><Specialty>Road</Specialty><SquareFeet>77000</SquareFeet><Brands>2</Brands><Internet>DSL</Internet><NumberEmployees>87</NumberEmployees></StoreSurvey></td><td>97a18a38-227d-4886-b711-7967af5ebb8e</td><td>2014-09-12</td></tr><tr><td>784</td><td>Online Bike Catalog</td><td>286</td><td><StoreSurvey xmlns=\"http://schemas.microsoft.com/sqlserver/2004/07/adventure-works/StoreSurvey\"><AnnualSales>3000000</AnnualSales><AnnualRevenue>300000</AnnualRevenue><BankName>Guardian Bank</BankName><BusinessType>OS</BusinessType><YearOpened>1975</YearOpened><Specialty>Touring</Specialty><SquareFeet>74000</SquareFeet><Brands>3</Brands><Internet>T2</Internet><NumberEmployees>88</NumberEmployees></StoreSurvey></td><td>df376bcf-680e-4b1e-aa70-23db54c6d129</td><td>2014-09-12</td></tr><tr><td>786</td><td>Outdoor Equipment Store</td><td>275</td><td><StoreSurvey xmlns=\"http://schemas.microsoft.com/sqlserver/2004/07/adventure-works/StoreSurvey\"><AnnualSales>3000000</AnnualSales><AnnualRevenue>300000</AnnualRevenue><BankName>International Security</BankName><BusinessType>OS</BusinessType><YearOpened>1980</YearOpened><Specialty>Road</Specialty><SquareFeet>76000</SquareFeet><Brands>4+</Brands><Internet>T2</Internet><NumberEmployees>89</NumberEmployees></StoreSurvey></td><td>4dcdf6f3-84a2-4407-973a-14ae73eb4e7f</td><td>2014-09-12</td></tr><tr><td>788</td><td>Paint Supply</td><td>277</td><td><StoreSurvey xmlns=\"http://schemas.microsoft.com/sqlserver/2004/07/adventure-works/StoreSurvey\"><AnnualSales>3000000</AnnualSales><AnnualRevenue>300000</AnnualRevenue><BankName>Primary Bank &amp; Reserve</BankName><BusinessType>OS</BusinessType><YearOpened>1972</YearOpened><Specialty>Mountain</Specialty><SquareFeet>78000</SquareFeet><Brands>4+</Brands><Internet>T1</Internet><NumberEmployees>90</NumberEmployees></StoreSurvey></td><td>1229501b-b60c-41a9-97e6-8b1d13c568de</td><td>2014-09-12</td></tr><tr><td>790</td><td>Preferred Bikes</td><td>276</td><td><StoreSurvey xmlns=\"http://schemas.microsoft.com/sqlserver/2004/07/adventure-works/StoreSurvey\"><AnnualSales>3000000</AnnualSales><AnnualRevenue>300000</AnnualRevenue><BankName>International Bank</BankName><BusinessType>OS</BusinessType><YearOpened>1977</YearOpened><Specialty>Road</Specialty><SquareFeet>77000</SquareFeet><Brands>4+</Brands><Internet>ISDN</Internet><NumberEmployees>91</NumberEmployees></StoreSurvey></td><td>6ab9d50f-4181-4704-9b51-e558b491d82b</td><td>2014-09-12</td></tr><tr><td>792</td><td>Rally Day Mall</td><td>279</td><td><StoreSurvey xmlns=\"http://schemas.microsoft.com/sqlserver/2004/07/adventure-works/StoreSurvey\"><AnnualSales>3000000</AnnualSales><AnnualRevenue>300000</AnnualRevenue><BankName>United Security</BankName><BusinessType>OS</BusinessType><YearOpened>1987</YearOpened><Specialty>Road</Specialty><SquareFeet>75000</SquareFeet><Brands>3</Brands><Internet>DSL</Internet><NumberEmployees>92</NumberEmployees></StoreSurvey></td><td>1d7c7ae9-7df4-4b89-9a80-b224a2dd6b41</td><td>2014-09-12</td></tr><tr><td>794</td><td>Rewarding Activities Company</td><td>278</td><td><StoreSurvey xmlns=\"http://schemas.microsoft.com/sqlserver/2004/07/adventure-works/StoreSurvey\"><AnnualSales>3000000</AnnualSales><AnnualRevenue>300000</AnnualRevenue><BankName>Reserve Security</BankName><BusinessType>OS</BusinessType><YearOpened>1974</YearOpened><Specialty>Road</Specialty><SquareFeet>76000</SquareFeet><Brands>4+</Brands><Internet>T1</Internet><NumberEmployees>93</NumberEmployees></StoreSurvey></td><td>b6d5b9ba-7304-4e4d-a78c-8fb8a66fbf4b</td><td>2014-09-12</td></tr><tr><td>796</td><td>Rich Department Store</td><td>286</td><td><StoreSurvey xmlns=\"http://schemas.microsoft.com/sqlserver/2004/07/adventure-works/StoreSurvey\"><AnnualSales>3000000</AnnualSales><AnnualRevenue>300000</AnnualRevenue><BankName>Primary International</BankName><BusinessType>OS</BusinessType><YearOpened>1974</YearOpened><Specialty>Touring</Specialty><SquareFeet>76000</SquareFeet><Brands>2</Brands><Internet>DSL</Internet><NumberEmployees>94</NumberEmployees></StoreSurvey></td><td>b227ca7d-70a5-48a6-b099-e71b35d543da</td><td>2014-09-12</td></tr><tr><td>798</td><td>Sales and Supply Company</td><td>275</td><td><StoreSurvey xmlns=\"http://schemas.microsoft.com/sqlserver/2004/07/adventure-works/StoreSurvey\"><AnnualSales>3000000</AnnualSales><AnnualRevenue>300000</AnnualRevenue><BankName>Guardian Bank</BankName><BusinessType>OS</BusinessType><YearOpened>1980</YearOpened><Specialty>Road</Specialty><SquareFeet>75000</SquareFeet><Brands>2</Brands><Internet>T2</Internet><NumberEmployees>95</NumberEmployees></StoreSurvey></td><td>40ef14b1-9714-4765-9284-951d01a65eb2</td><td>2014-09-12</td></tr><tr><td>800</td><td>Stationary Bikes and Stands</td><td>277</td><td><StoreSurvey xmlns=\"http://schemas.microsoft.com/sqlserver/2004/07/adventure-works/StoreSurvey\"><AnnualSales>3000000</AnnualSales><AnnualRevenue>300000</AnnualRevenue><BankName>International Security</BankName><BusinessType>OS</BusinessType><YearOpened>1986</YearOpened><Specialty>Road</Specialty><SquareFeet>76000</SquareFeet><Brands>4+</Brands><Internet>DSL</Internet><NumberEmployees>96</NumberEmployees></StoreSurvey></td><td>b2fedf01-27f1-4978-ac3d-0cf105185a33</td><td>2014-09-12</td></tr><tr><td>802</td><td>Successful Sales Company</td><td>280</td><td><StoreSurvey xmlns=\"http://schemas.microsoft.com/sqlserver/2004/07/adventure-works/StoreSurvey\"><AnnualSales>1500000</AnnualSales><AnnualRevenue>150000</AnnualRevenue><BankName>Guardian Bank</BankName><BusinessType>BS</BusinessType><YearOpened>1997</YearOpened><Specialty>Road</Specialty><SquareFeet>38000</SquareFeet><Brands>3</Brands><Internet>T1</Internet><NumberEmployees>46</NumberEmployees></StoreSurvey></td><td>a3d9586d-2eec-4e39-b311-2880fcdeb536</td><td>2014-09-12</td></tr><tr><td>804</td><td>Downtown Hotel</td><td>281</td><td><StoreSurvey xmlns=\"http://schemas.microsoft.com/sqlserver/2004/07/adventure-works/StoreSurvey\"><AnnualSales>3000000</AnnualSales><AnnualRevenue>300000</AnnualRevenue><BankName>International Bank</BankName><BusinessType>OS</BusinessType><YearOpened>1986</YearOpened><Specialty>Mountain</Specialty><SquareFeet>74000</SquareFeet><Brands>4+</Brands><Internet>DSL</Internet><NumberEmployees>85</NumberEmployees></StoreSurvey></td><td>19c5ccaf-6fde-4f34-b10c-2155533c51f6</td><td>2014-09-12</td></tr><tr><td>806</td><td>Certified Sports Supply</td><td>282</td><td><StoreSurvey xmlns=\"http://schemas.microsoft.com/sqlserver/2004/07/adventure-works/StoreSurvey\"><AnnualSales>3000000</AnnualSales><AnnualRevenue>300000</AnnualRevenue><BankName>United Security</BankName><BusinessType>OS</BusinessType><YearOpened>1978</YearOpened><Specialty>Mountain</Specialty><SquareFeet>78000</SquareFeet><Brands>4+</Brands><Internet>DSL</Internet><NumberEmployees>86</NumberEmployees></StoreSurvey></td><td>0f2c5152-8b95-41f8-b0a0-f6af76da98cb</td><td>2014-09-12</td></tr><tr><td>808</td><td>Registered Cycle Store</td><td>290</td><td><StoreSurvey xmlns=\"http://schemas.microsoft.com/sqlserver/2004/07/adventure-works/StoreSurvey\"><AnnualSales>3000000</AnnualSales><AnnualRevenue>300000</AnnualRevenue><BankName>Reserve Security</BankName><BusinessType>OS</BusinessType><YearOpened>1983</YearOpened><Specialty>Mountain</Specialty><SquareFeet>77000</SquareFeet><Brands>3</Brands><Internet>T1</Internet><NumberEmployees>87</NumberEmployees></StoreSurvey></td><td>dea4bef9-a886-41e7-be61-8d2618260863</td><td>2014-09-12</td></tr><tr><td>810</td><td>Rampart Amusement Company</td><td>289</td><td><StoreSurvey xmlns=\"http://schemas.microsoft.com/sqlserver/2004/07/adventure-works/StoreSurvey\"><AnnualSales>3000000</AnnualSales><AnnualRevenue>300000</AnnualRevenue><BankName>Primary International</BankName><BusinessType>OS</BusinessType><YearOpened>1975</YearOpened><Specialty>Touring</Specialty><SquareFeet>75000</SquareFeet><Brands>3</Brands><Internet>ISDN</Internet><NumberEmployees>88</NumberEmployees></StoreSurvey></td><td>4d64a5ff-671a-4c93-a494-9fb5dc7c76b4</td><td>2014-09-12</td></tr><tr><td>812</td><td>Sundry Sporting Goods</td><td>282</td><td><StoreSurvey xmlns=\"http://schemas.microsoft.com/sqlserver/2004/07/adventure-works/StoreSurvey\"><AnnualSales>300000</AnnualSales><AnnualRevenue>30000</AnnualRevenue><BankName>Primary Bank &amp; Reserve</BankName><BusinessType>BM</BusinessType><YearOpened>1984</YearOpened><Specialty>Road</Specialty><SquareFeet>7000</SquareFeet><Brands>4+</Brands><Internet>T2</Internet><NumberEmployees>5</NumberEmployees></StoreSurvey></td><td>89523b8a-763b-41da-bf56-9ed59c0a1cbb</td><td>2014-09-12</td></tr><tr><td>814</td><td>Excellent Riding Supplies</td><td>279</td><td><StoreSurvey xmlns=\"http://schemas.microsoft.com/sqlserver/2004/07/adventure-works/StoreSurvey\"><AnnualSales>300000</AnnualSales><AnnualRevenue>30000</AnnualRevenue><BankName>International Security</BankName><BusinessType>BM</BusinessType><YearOpened>1979</YearOpened><Specialty>Road</Specialty><SquareFeet>9000</SquareFeet><Brands>3</Brands><Internet>ISDN</Internet><NumberEmployees>6</NumberEmployees></StoreSurvey></td><td>c0d3f06b-dac6-42b6-b3a2-9f69ef2e27e7</td><td>2014-09-12</td></tr><tr><td>816</td><td>Farthermost Bike Shop</td><td>281</td><td><StoreSurvey xmlns=\"http://schemas.microsoft.com/sqlserver/2004/07/adventure-works/StoreSurvey\"><AnnualSales>300000</AnnualSales><AnnualRevenue>30000</AnnualRevenue><BankName>Guardian Bank</BankName><BusinessType>BM</BusinessType><YearOpened>1987</YearOpened><Specialty>Road</Specialty><SquareFeet>8000</SquareFeet><Brands>3</Brands><Internet>T1</Internet><NumberEmployees>7</NumberEmployees></StoreSurvey></td><td>91a84292-1e38-4ded-91ee-9bfaa1dd3dea</td><td>2014-09-12</td></tr><tr><td>818</td><td>Suburban Cycle Shop</td><td>283</td><td><StoreSurvey xmlns=\"http://schemas.microsoft.com/sqlserver/2004/07/adventure-works/StoreSurvey\"><AnnualSales>300000</AnnualSales><AnnualRevenue>30000</AnnualRevenue><BankName>Primary International</BankName><BusinessType>BM</BusinessType><YearOpened>1982</YearOpened><Specialty>Mountain</Specialty><SquareFeet>10000</SquareFeet><Brands>3</Brands><Internet>DSL</Internet><NumberEmployees>8</NumberEmployees></StoreSurvey></td><td>b3504bb0-308c-4d26-8e0a-ece43fe55a20</td><td>2014-09-12</td></tr><tr><td>820</td><td>Weekend Tours</td><td>275</td><td><StoreSurvey xmlns=\"http://schemas.microsoft.com/sqlserver/2004/07/adventure-works/StoreSurvey\"><AnnualSales>300000</AnnualSales><AnnualRevenue>30000</AnnualRevenue><BankName>Reserve Security</BankName><BusinessType>BM</BusinessType><YearOpened>1990</YearOpened><Specialty>Road</Specialty><SquareFeet>9000</SquareFeet><Brands>AW</Brands><Internet>DSL</Internet><NumberEmployees>9</NumberEmployees></StoreSurvey></td><td>4cfe3bd5-98f1-4e4a-90df-9decf1ce042b</td><td>2014-09-12</td></tr><tr><td>822</td><td>Racing Bike Outlet</td><td>283</td><td><StoreSurvey xmlns=\"http://schemas.microsoft.com/sqlserver/2004/07/adventure-works/StoreSurvey\"><AnnualSales>3000000</AnnualSales><AnnualRevenue>300000</AnnualRevenue><BankName>United Security</BankName><BusinessType>OS</BusinessType><YearOpened>1998</YearOpened><Specialty>Road</Specialty><SquareFeet>72000</SquareFeet><Brands>2</Brands><Internet>DSL</Internet><NumberEmployees>52</NumberEmployees></StoreSurvey></td><td>bf71f3bc-449f-418b-a0b3-c9f070365cf3</td><td>2014-09-12</td></tr><tr><td>824</td><td>Utilitarian Sporting Goods</td><td>281</td><td><StoreSurvey xmlns=\"http://schemas.microsoft.com/sqlserver/2004/07/adventure-works/StoreSurvey\"><AnnualSales>3000000</AnnualSales><AnnualRevenue>300000</AnnualRevenue><BankName>Reserve Security</BankName><BusinessType>OS</BusinessType><YearOpened>1999</YearOpened><Specialty>Touring</Specialty><SquareFeet>72000</SquareFeet><Brands>3</Brands><Internet>DSL</Internet><NumberEmployees>55</NumberEmployees></StoreSurvey></td><td>9f37eb77-80e4-4ffc-a5dc-3b1808d9af72</td><td>2014-09-12</td></tr><tr><td>826</td><td>Bike Goods </td><td>279</td><td><StoreSurvey xmlns=\"http://schemas.microsoft.com/sqlserver/2004/07/adventure-works/StoreSurvey\"><AnnualSales>3000000</AnnualSales><AnnualRevenue>300000</AnnualRevenue><BankName>Primary International</BankName><BusinessType>OS</BusinessType><YearOpened>1999</YearOpened><Specialty>Road</Specialty><SquareFeet>73000</SquareFeet><Brands>4+</Brands><Internet>T2</Internet><NumberEmployees>58</NumberEmployees></StoreSurvey></td><td>db843b5d-df3d-44ba-b4ef-81dcae29cb93</td><td>2014-09-12</td></tr><tr><td>828</td><td>Vigorous Exercise Company</td><td>282</td><td><StoreSurvey xmlns=\"http://schemas.microsoft.com/sqlserver/2004/07/adventure-works/StoreSurvey\"><AnnualSales>3000000</AnnualSales><AnnualRevenue>300000</AnnualRevenue><BankName>Guardian Bank</BankName><BusinessType>OS</BusinessType><YearOpened>1979</YearOpened><Specialty>Mountain</Specialty><SquareFeet>72000</SquareFeet><Brands>2</Brands><Internet>T1</Internet><NumberEmployees>61</NumberEmployees></StoreSurvey></td><td>9a4119a4-e158-4754-93a3-bab22274440f</td><td>2014-09-12</td></tr><tr><td>830</td><td>Showcase for Cycles</td><td>288</td><td><StoreSurvey xmlns=\"http://schemas.microsoft.com/sqlserver/2004/07/adventure-works/StoreSurvey\"><AnnualSales>3000000</AnnualSales><AnnualRevenue>300000</AnnualRevenue><BankName>International Security</BankName><BusinessType>OS</BusinessType><YearOpened>1996</YearOpened><Specialty>Road</Specialty><SquareFeet>71000</SquareFeet><Brands>2</Brands><Internet>T1</Internet><NumberEmployees>64</NumberEmployees></StoreSurvey></td><td>04dcaa69-ad7b-43c7-b149-e6fe2604d27e</td><td>2014-09-12</td></tr><tr><td>832</td><td>Lease-a-Bike Shop</td><td>275</td><td><StoreSurvey xmlns=\"http://schemas.microsoft.com/sqlserver/2004/07/adventure-works/StoreSurvey\"><AnnualSales>3000000</AnnualSales><AnnualRevenue>300000</AnnualRevenue><BankName>Primary Bank &amp; Reserve</BankName><BusinessType>OS</BusinessType><YearOpened>1991</YearOpened><Specialty>Road</Specialty><SquareFeet>71000</SquareFeet><Brands>3</Brands><Internet>ISDN</Internet><NumberEmployees>67</NumberEmployees></StoreSurvey></td><td>58c02eac-d3fd-4a79-b077-20c999b88a54</td><td>2014-09-12</td></tr><tr><td>834</td><td>Functional Store South</td><td>288</td><td><StoreSurvey xmlns=\"http://schemas.microsoft.com/sqlserver/2004/07/adventure-works/StoreSurvey\"><AnnualSales>3000000</AnnualSales><AnnualRevenue>300000</AnnualRevenue><BankName>International Bank</BankName><BusinessType>OS</BusinessType><YearOpened>1993</YearOpened><Specialty>Mountain</Specialty><SquareFeet>71000</SquareFeet><Brands>2</Brands><Internet>DSL</Internet><NumberEmployees>70</NumberEmployees></StoreSurvey></td><td>0d5c741d-a691-4732-93a3-d34ed0ed3716</td><td>2014-09-12</td></tr><tr><td>836</td><td>Active Cycling</td><td>275</td><td><StoreSurvey xmlns=\"http://schemas.microsoft.com/sqlserver/2004/07/adventure-works/StoreSurvey\"><AnnualSales>3000000</AnnualSales><AnnualRevenue>300000</AnnualRevenue><BankName>United Security</BankName><BusinessType>OS</BusinessType><YearOpened>1998</YearOpened><Specialty>Road</Specialty><SquareFeet>73000</SquareFeet><Brands>4+</Brands><Internet>DSL</Internet><NumberEmployees>73</NumberEmployees></StoreSurvey></td><td>1e3dff09-7e5c-49bd-b8b1-d0a2e1523bf6</td><td>2014-09-12</td></tr><tr><td>838</td><td>Stock Parts and Supplies</td><td>283</td><td><StoreSurvey xmlns=\"http://schemas.microsoft.com/sqlserver/2004/07/adventure-works/StoreSurvey\"><AnnualSales>3000000</AnnualSales><AnnualRevenue>300000</AnnualRevenue><BankName>Reserve Security</BankName><BusinessType>OS</BusinessType><YearOpened>1990</YearOpened><Specialty>Touring</Specialty><SquareFeet>76000</SquareFeet><Brands>2</Brands><Internet>DSL</Internet><NumberEmployees>76</NumberEmployees></StoreSurvey></td><td>ed67b7ec-a2a1-4f0b-9959-1bcd1c7e8b36</td><td>2014-09-12</td></tr><tr><td>840</td><td>Roadway Supplies</td><td>281</td><td><StoreSurvey xmlns=\"http://schemas.microsoft.com/sqlserver/2004/07/adventure-works/StoreSurvey\"><AnnualSales>3000000</AnnualSales><AnnualRevenue>300000</AnnualRevenue><BankName>Primary International</BankName><BusinessType>OS</BusinessType><YearOpened>1995</YearOpened><Specialty>Road</Specialty><SquareFeet>73000</SquareFeet><Brands>4+</Brands><Internet>DSL</Internet><NumberEmployees>79</NumberEmployees></StoreSurvey></td><td>dd1ceef8-3e77-4d8e-b420-48acba0a9651</td><td>2014-09-12</td></tr><tr><td>842</td><td>Sensational Discount Store</td><td>279</td><td><StoreSurvey xmlns=\"http://schemas.microsoft.com/sqlserver/2004/07/adventure-works/StoreSurvey\"><AnnualSales>3000000</AnnualSales><AnnualRevenue>300000</AnnualRevenue><BankName>Guardian Bank</BankName><BusinessType>OS</BusinessType><YearOpened>1987</YearOpened><Specialty>Road</Specialty><SquareFeet>73000</SquareFeet><Brands>2</Brands><Internet>T1</Internet><NumberEmployees>80</NumberEmployees></StoreSurvey></td><td>56795063-f8c7-4550-8a37-357d91cb7c96</td><td>2014-09-12</td></tr><tr><td>844</td><td>Future Bikes</td><td>282</td><td><StoreSurvey xmlns=\"http://schemas.microsoft.com/sqlserver/2004/07/adventure-works/StoreSurvey\"><AnnualSales>3000000</AnnualSales><AnnualRevenue>300000</AnnualRevenue><BankName>Guardian Bank</BankName><BusinessType>OS</BusinessType><YearOpened>1992</YearOpened><Specialty>Road</Specialty><SquareFeet>74000</SquareFeet><Brands>3</Brands><Internet>DSL</Internet><NumberEmployees>81</NumberEmployees></StoreSurvey></td><td>95a0e002-f4f0-4b42-ab6f-860c02405a6d</td><td>2014-09-12</td></tr><tr><td>846</td><td>Super Sports Store</td><td>275</td><td><StoreSurvey xmlns=\"http://schemas.microsoft.com/sqlserver/2004/07/adventure-works/StoreSurvey\"><AnnualSales>3000000</AnnualSales><AnnualRevenue>300000</AnnualRevenue><BankName>Primary Bank &amp; Reserve</BankName><BusinessType>OS</BusinessType><YearOpened>1999</YearOpened><Specialty>Road</Specialty><SquareFeet>78000</SquareFeet><Brands>2</Brands><Internet>DSL</Internet><NumberEmployees>100</NumberEmployees></StoreSurvey></td><td>a7b14c08-db02-4182-abbd-25daa3dba7f2</td><td>2014-09-12</td></tr><tr><td>848</td><td>Satin Finish Company</td><td>277</td><td><StoreSurvey xmlns=\"http://schemas.microsoft.com/sqlserver/2004/07/adventure-works/StoreSurvey\"><AnnualSales>3000000</AnnualSales><AnnualRevenue>300000</AnnualRevenue><BankName>International Bank</BankName><BusinessType>OS</BusinessType><YearOpened>1979</YearOpened><Specialty>Mountain</Specialty><SquareFeet>74000</SquareFeet><Brands>2</Brands><Internet>T1</Internet><NumberEmployees>66</NumberEmployees></StoreSurvey></td><td>24803781-0abd-47f6-a88c-c5fae0eaa3f7</td><td>2014-09-12</td></tr><tr><td>850</td><td>Regional Manufacturing</td><td>281</td><td><StoreSurvey xmlns=\"http://schemas.microsoft.com/sqlserver/2004/07/adventure-works/StoreSurvey\"><AnnualSales>1500000</AnnualSales><AnnualRevenue>150000</AnnualRevenue><BankName>Primary Bank &amp; Reserve</BankName><BusinessType>OS</BusinessType><YearOpened>1974</YearOpened><Specialty>Mountain</Specialty><SquareFeet>38000</SquareFeet><Brands>4+</Brands><Internet>DSL</Internet><NumberEmployees>40</NumberEmployees></StoreSurvey></td><td>164611b2-0b8a-4bcb-92ba-a7224089c518</td><td>2014-09-12</td></tr><tr><td>852</td><td>Original Bicycle Supply Company</td><td>282</td><td><StoreSurvey xmlns=\"http://schemas.microsoft.com/sqlserver/2004/07/adventure-works/StoreSurvey\"><AnnualSales>1500000</AnnualSales><AnnualRevenue>150000</AnnualRevenue><BankName>International Bank</BankName><BusinessType>OS</BusinessType><YearOpened>1980</YearOpened><Specialty>Mountain</Specialty><SquareFeet>38000</SquareFeet><Brands>4+</Brands><Internet>T1</Internet><NumberEmployees>43</NumberEmployees></StoreSurvey></td><td>093a9472-b613-4214-9c41-4d707cfc38c0</td><td>2014-09-12</td></tr><tr><td>854</td><td>First Center</td><td>290</td><td><StoreSurvey xmlns=\"http://schemas.microsoft.com/sqlserver/2004/07/adventure-works/StoreSurvey\"><AnnualSales>1500000</AnnualSales><AnnualRevenue>150000</AnnualRevenue><BankName>United Security</BankName><BusinessType>OS</BusinessType><YearOpened>1986</YearOpened><Specialty>Mountain</Specialty><SquareFeet>39000</SquareFeet><Brands>2</Brands><Internet>T2</Internet><NumberEmployees>46</NumberEmployees></StoreSurvey></td><td>2a96f5ea-199d-4b7b-b491-af05fa0edd2e</td><td>2014-09-12</td></tr><tr><td>856</td><td>Action Bicycle Specialists</td><td>289</td><td><StoreSurvey xmlns=\"http://schemas.microsoft.com/sqlserver/2004/07/adventure-works/StoreSurvey\"><AnnualSales>1500000</AnnualSales><AnnualRevenue>150000</AnnualRevenue><BankName>Reserve Security</BankName><BusinessType>OS</BusinessType><YearOpened>1992</YearOpened><Specialty>Touring</Specialty><SquareFeet>40000</SquareFeet><Brands>2</Brands><Internet>DSL</Internet><NumberEmployees>49</NumberEmployees></StoreSurvey></td><td>1d624dc8-9ebe-4acb-81c8-90f0b474b64f</td><td>2014-09-12</td></tr><tr><td>858</td><td>Roadway Bike Emporium</td><td>280</td><td><StoreSurvey xmlns=\"http://schemas.microsoft.com/sqlserver/2004/07/adventure-works/StoreSurvey\"><AnnualSales>3000000</AnnualSales><AnnualRevenue>300000</AnnualRevenue><BankName>Primary International</BankName><BusinessType>OS</BusinessType><YearOpened>1998</YearOpened><Specialty>Touring</Specialty><SquareFeet>68000</SquareFeet><Brands>3</Brands><Internet>T1</Internet><NumberEmployees>52</NumberEmployees></StoreSurvey></td><td>10f49b6a-8815-4b0c-aa31-f22972741d88</td><td>2014-09-12</td></tr><tr><td>860</td><td>Sleek Bikes </td><td>277</td><td><StoreSurvey xmlns=\"http://schemas.microsoft.com/sqlserver/2004/07/adventure-works/StoreSurvey\"><AnnualSales>3000000</AnnualSales><AnnualRevenue>300000</AnnualRevenue><BankName>Guardian Bank</BankName><BusinessType>OS</BusinessType><YearOpened>1999</YearOpened><Specialty>Touring</Specialty><SquareFeet>70000</SquareFeet><Brands>3</Brands><Internet>DSL</Internet><NumberEmployees>55</NumberEmployees></StoreSurvey></td><td>50684a79-632b-4a17-98f1-b09997e57ec2</td><td>2014-09-12</td></tr><tr><td>862</td><td>Retail Sporting Equipment</td><td>281</td><td><StoreSurvey xmlns=\"http://schemas.microsoft.com/sqlserver/2004/07/adventure-works/StoreSurvey\"><AnnualSales>3000000</AnnualSales><AnnualRevenue>300000</AnnualRevenue><BankName>International Security</BankName><BusinessType>OS</BusinessType><YearOpened>1999</YearOpened><Specialty>Mountain</Specialty><SquareFeet>72000</SquareFeet><Brands>4+</Brands><Internet>T1</Internet><NumberEmployees>58</NumberEmployees></StoreSurvey></td><td>7c69a372-2100-4d34-9c59-9645af5465f0</td><td>2014-09-12</td></tr><tr><td>864</td><td>Price-Cutter Discount Bikes</td><td>282</td><td><StoreSurvey xmlns=\"http://schemas.microsoft.com/sqlserver/2004/07/adventure-works/StoreSurvey\"><AnnualSales>3000000</AnnualSales><AnnualRevenue>300000</AnnualRevenue><BankName>Primary Bank &amp; Reserve</BankName><BusinessType>OS</BusinessType><YearOpened>1979</YearOpened><Specialty>Road</Specialty><SquareFeet>70000</SquareFeet><Brands>4+</Brands><Internet>DSL</Internet><NumberEmployees>61</NumberEmployees></StoreSurvey></td><td>5ef7f44b-42fc-4b7d-a1d3-fdf2f906aac1</td><td>2014-09-12</td></tr><tr><td>866</td><td>Brand New Bikes</td><td>290</td><td><StoreSurvey xmlns=\"http://schemas.microsoft.com/sqlserver/2004/07/adventure-works/StoreSurvey\"><AnnualSales>3000000</AnnualSales><AnnualRevenue>300000</AnnualRevenue><BankName>International Bank</BankName><BusinessType>OS</BusinessType><YearOpened>1996</YearOpened><Specialty>Road</Specialty><SquareFeet>73000</SquareFeet><Brands>4+</Brands><Internet>ISDN</Internet><NumberEmployees>64</NumberEmployees></StoreSurvey></td><td>43a5e3fd-0886-44e3-9640-772616d463b7</td><td>2014-09-12</td></tr><tr><td>868</td><td>Central Bicycle Specialists</td><td>289</td><td><StoreSurvey xmlns=\"http://schemas.microsoft.com/sqlserver/2004/07/adventure-works/StoreSurvey\"><AnnualSales>3000000</AnnualSales><AnnualRevenue>300000</AnnualRevenue><BankName>United Security</BankName><BusinessType>OS</BusinessType><YearOpened>1991</YearOpened><Specialty>Touring</Specialty><SquareFeet>71000</SquareFeet><Brands>2</Brands><Internet>DSL</Internet><NumberEmployees>67</NumberEmployees></StoreSurvey></td><td>c87accfe-02f1-4ecb-8759-d418e0df29ea</td><td>2014-09-12</td></tr><tr><td>870</td><td>Vast Bike Sales and Rental</td><td>280</td><td><StoreSurvey xmlns=\"http://schemas.microsoft.com/sqlserver/2004/07/adventure-works/StoreSurvey\"><AnnualSales>3000000</AnnualSales><AnnualRevenue>300000</AnnualRevenue><BankName>Reserve Security</BankName><BusinessType>OS</BusinessType><YearOpened>1993</YearOpened><Specialty>Mountain</Specialty><SquareFeet>73000</SquareFeet><Brands>4+</Brands><Internet>ISDN</Internet><NumberEmployees>70</NumberEmployees></StoreSurvey></td><td>c8c03798-fee6-49e1-a112-4f128f7f45b7</td><td>2014-09-12</td></tr><tr><td>872</td><td>Summer Sports Place</td><td>277</td><td><StoreSurvey xmlns=\"http://schemas.microsoft.com/sqlserver/2004/07/adventure-works/StoreSurvey\"><AnnualSales>3000000</AnnualSales><AnnualRevenue>300000</AnnualRevenue><BankName>Primary International</BankName><BusinessType>OS</BusinessType><YearOpened>1998</YearOpened><Specialty>Mountain</Specialty><SquareFeet>73000</SquareFeet><Brands>3</Brands><Internet>T2</Internet><NumberEmployees>73</NumberEmployees></StoreSurvey></td><td>4ff928f2-d314-455b-b00d-de870e399850</td><td>2014-09-12</td></tr><tr><td>874</td><td>Real Sporting Goods</td><td>281</td><td><StoreSurvey xmlns=\"http://schemas.microsoft.com/sqlserver/2004/07/adventure-works/StoreSurvey\"><AnnualSales>3000000</AnnualSales><AnnualRevenue>300000</AnnualRevenue><BankName>Guardian Bank</BankName><BusinessType>OS</BusinessType><YearOpened>1990</YearOpened><Specialty>Mountain</Specialty><SquareFeet>72000</SquareFeet><Brands>3</Brands><Internet>DSL</Internet><NumberEmployees>76</NumberEmployees></StoreSurvey></td><td>6cba3bfd-af5c-4eac-9f80-7b57dfe9fe5a</td><td>2014-09-12</td></tr><tr><td>876</td><td>Versatile Sporting Goods Company</td><td>288</td><td><StoreSurvey xmlns=\"http://schemas.microsoft.com/sqlserver/2004/07/adventure-works/StoreSurvey\"><AnnualSales>3000000</AnnualSales><AnnualRevenue>300000</AnnualRevenue><BankName>Primary Bank &amp; Reserve</BankName><BusinessType>OS</BusinessType><YearOpened>1996</YearOpened><Specialty>Road</Specialty><SquareFeet>74000</SquareFeet><Brands>2</Brands><Internet>DSL</Internet><NumberEmployees>64</NumberEmployees></StoreSurvey></td><td>d41ba195-3da6-42fb-8522-44a96dacb956</td><td>2014-09-12</td></tr><tr><td>878</td><td>Bicycle Outfitters</td><td>275</td><td><StoreSurvey xmlns=\"http://schemas.microsoft.com/sqlserver/2004/07/adventure-works/StoreSurvey\"><AnnualSales>3000000</AnnualSales><AnnualRevenue>300000</AnnualRevenue><BankName>International Bank</BankName><BusinessType>OS</BusinessType><YearOpened>1991</YearOpened><Specialty>Road</Specialty><SquareFeet>72000</SquareFeet><Brands>3</Brands><Internet>DSL</Internet><NumberEmployees>67</NumberEmployees></StoreSurvey></td><td>efdf9b24-7a68-42eb-949b-9aa87c7af9d9</td><td>2014-09-12</td></tr><tr><td>880</td><td>The Bike Shop</td><td>283</td><td><StoreSurvey xmlns=\"http://schemas.microsoft.com/sqlserver/2004/07/adventure-works/StoreSurvey\"><AnnualSales>3000000</AnnualSales><AnnualRevenue>300000</AnnualRevenue><BankName>United Security</BankName><BusinessType>OS</BusinessType><YearOpened>1993</YearOpened><Specialty>Mountain</Specialty><SquareFeet>73000</SquareFeet><Brands>3</Brands><Internet>T1</Internet><NumberEmployees>70</NumberEmployees></StoreSurvey></td><td>ea9810db-8f73-44e8-b65a-d148f62bf63a</td><td>2014-09-12</td></tr><tr><td>882</td><td>Safe Toys</td><td>281</td><td><StoreSurvey xmlns=\"http://schemas.microsoft.com/sqlserver/2004/07/adventure-works/StoreSurvey\"><AnnualSales>3000000</AnnualSales><AnnualRevenue>300000</AnnualRevenue><BankName>Reserve Security</BankName><BusinessType>OS</BusinessType><YearOpened>1998</YearOpened><Specialty>Mountain</Specialty><SquareFeet>74000</SquareFeet><Brands>2</Brands><Internet>T1</Internet><NumberEmployees>73</NumberEmployees></StoreSurvey></td><td>3b49ba13-2f39-4481-8153-ad709211834e</td><td>2014-09-12</td></tr><tr><td>884</td><td>Qualified Sales and Repair Services</td><td>279</td><td><StoreSurvey xmlns=\"http://schemas.microsoft.com/sqlserver/2004/07/adventure-works/StoreSurvey\"><AnnualSales>3000000</AnnualSales><AnnualRevenue>300000</AnnualRevenue><BankName>Primary International</BankName><BusinessType>OS</BusinessType><YearOpened>1990</YearOpened><Specialty>Road</Specialty><SquareFeet>75000</SquareFeet><Brands>4+</Brands><Internet>DSL</Internet><NumberEmployees>76</NumberEmployees></StoreSurvey></td><td>08a0eb56-a881-488f-a408-237a07ee87ad</td><td>2014-09-12</td></tr><tr><td>886</td><td>Our Sporting Goods Store</td><td>282</td><td><StoreSurvey xmlns=\"http://schemas.microsoft.com/sqlserver/2004/07/adventure-works/StoreSurvey\"><AnnualSales>3000000</AnnualSales><AnnualRevenue>300000</AnnualRevenue><BankName>Guardian Bank</BankName><BusinessType>OS</BusinessType><YearOpened>1995</YearOpened><Specialty>Road</Specialty><SquareFeet>76000</SquareFeet><Brands>4+</Brands><Internet>DSL</Internet><NumberEmployees>79</NumberEmployees></StoreSurvey></td><td>ae7b0459-93b0-401b-8128-6c0b3ee154fc</td><td>2014-09-12</td></tr><tr><td>888</td><td>Lustrous Paints and Components</td><td>288</td><td><StoreSurvey xmlns=\"http://schemas.microsoft.com/sqlserver/2004/07/adventure-works/StoreSurvey\"><AnnualSales>3000000</AnnualSales><AnnualRevenue>300000</AnnualRevenue><BankName>International Security</BankName><BusinessType>OS</BusinessType><YearOpened>1987</YearOpened><Specialty>Road</Specialty><SquareFeet>77000</SquareFeet><Brands>4+</Brands><Internet>T1</Internet><NumberEmployees>80</NumberEmployees></StoreSurvey></td><td>2e909f37-9d27-4090-b40f-148b648b0abf</td><td>2014-09-12</td></tr><tr><td>890</td><td>Expert Sports Store</td><td>275</td><td><StoreSurvey xmlns=\"http://schemas.microsoft.com/sqlserver/2004/07/adventure-works/StoreSurvey\"><AnnualSales>3000000</AnnualSales><AnnualRevenue>300000</AnnualRevenue><BankName>Primary Bank &amp; Reserve</BankName><BusinessType>OS</BusinessType><YearOpened>1992</YearOpened><Specialty>Mountain</Specialty><SquareFeet>77000</SquareFeet><Brands>3</Brands><Internet>T1</Internet><NumberEmployees>81</NumberEmployees></StoreSurvey></td><td>6f2a7d51-bff7-4d84-8066-642554a19d3a</td><td>2014-09-12</td></tr><tr><td>892</td><td>Coho Sports</td><td>283</td><td><StoreSurvey xmlns=\"http://schemas.microsoft.com/sqlserver/2004/07/adventure-works/StoreSurvey\"><AnnualSales>3000000</AnnualSales><AnnualRevenue>300000</AnnualRevenue><BankName>International Bank</BankName><BusinessType>OS</BusinessType><YearOpened>1984</YearOpened><Specialty>Mountain</Specialty><SquareFeet>75000</SquareFeet><Brands>3</Brands><Internet>T2</Internet><NumberEmployees>82</NumberEmployees></StoreSurvey></td><td>1ddbbf6f-bc85-45df-8798-acb47864bc13</td><td>2014-09-12</td></tr><tr><td>894</td><td>Jumbo Bikes</td><td>286</td><td><StoreSurvey xmlns=\"http://schemas.microsoft.com/sqlserver/2004/07/adventure-works/StoreSurvey\"><AnnualSales>1500000</AnnualSales><AnnualRevenue>150000</AnnualRevenue><BankName>United Security</BankName><BusinessType>BS</BusinessType><YearOpened>1977</YearOpened><Specialty>Touring</Specialty><SquareFeet>39000</SquareFeet><Brands>2</Brands><Internet>DSL</Internet><NumberEmployees>41</NumberEmployees></StoreSurvey></td><td>63b27f51-853d-44c5-87a7-1f798d0712c4</td><td>2014-09-12</td></tr><tr><td>896</td><td>Quick Delivery Service</td><td>278</td><td><StoreSurvey xmlns=\"http://schemas.microsoft.com/sqlserver/2004/07/adventure-works/StoreSurvey\"><AnnualSales>1500000</AnnualSales><AnnualRevenue>150000</AnnualRevenue><BankName>International Bank</BankName><BusinessType>BS</BusinessType><YearOpened>1985</YearOpened><Specialty>Mountain</Specialty><SquareFeet>37000</SquareFeet><Brands>4+</Brands><Internet>T3</Internet><NumberEmployees>42</NumberEmployees></StoreSurvey></td><td>5f287eda-9256-45d0-8c10-e8e73bf0af34</td><td>2014-09-12</td></tr><tr><td>898</td><td>Tough and Reliable Parts</td><td>279</td><td><StoreSurvey xmlns=\"http://schemas.microsoft.com/sqlserver/2004/07/adventure-works/StoreSurvey\"><AnnualSales>1500000</AnnualSales><AnnualRevenue>150000</AnnualRevenue><BankName>Primary Bank &amp; Reserve</BankName><BusinessType>BS</BusinessType><YearOpened>1980</YearOpened><Specialty>Road</Specialty><SquareFeet>40000</SquareFeet><Brands>3</Brands><Internet>DSL</Internet><NumberEmployees>43</NumberEmployees></StoreSurvey></td><td>5d8fdd67-754e-4233-a726-7c2273e72d9d</td><td>2014-09-12</td></tr><tr><td>900</td><td>Basic Sports Equipment</td><td>276</td><td><StoreSurvey xmlns=\"http://schemas.microsoft.com/sqlserver/2004/07/adventure-works/StoreSurvey\"><AnnualSales>1500000</AnnualSales><AnnualRevenue>150000</AnnualRevenue><BankName>International Security</BankName><BusinessType>BS</BusinessType><YearOpened>1988</YearOpened><Specialty>Mountain</Specialty><SquareFeet>38000</SquareFeet><Brands>3</Brands><Internet>DSL</Internet><NumberEmployees>44</NumberEmployees></StoreSurvey></td><td>f848fdfb-b867-4628-b5d9-1df6137103e1</td><td>2014-09-12</td></tr><tr><td>902</td><td>Cash & Carry Bikes</td><td>277</td><td><StoreSurvey xmlns=\"http://schemas.microsoft.com/sqlserver/2004/07/adventure-works/StoreSurvey\"><AnnualSales>1500000</AnnualSales><AnnualRevenue>150000</AnnualRevenue><BankName>Guardian Bank</BankName><BusinessType>BS</BusinessType><YearOpened>1983</YearOpened><Specialty>Mountain</Specialty><SquareFeet>39000</SquareFeet><Brands>2</Brands><Internet>DSL</Internet><NumberEmployees>45</NumberEmployees></StoreSurvey></td><td>2c9c648c-3dc1-47df-937d-ee53001ffc34</td><td>2014-09-12</td></tr><tr><td>904</td><td>Convenient Bike Shop</td><td>275</td><td><StoreSurvey xmlns=\"http://schemas.microsoft.com/sqlserver/2004/07/adventure-works/StoreSurvey\"><AnnualSales>1500000</AnnualSales><AnnualRevenue>150000</AnnualRevenue><BankName>Primary International</BankName><BusinessType>BS</BusinessType><YearOpened>1991</YearOpened><Specialty>Road</Specialty><SquareFeet>38000</SquareFeet><Brands>3</Brands><Internet>T2</Internet><NumberEmployees>46</NumberEmployees></StoreSurvey></td><td>060b2e02-67a3-493e-ac3a-c2a7851498fd</td><td>2014-09-12</td></tr><tr><td>906</td><td>Fitness Bike Accessories</td><td>286</td><td><StoreSurvey xmlns=\"http://schemas.microsoft.com/sqlserver/2004/07/adventure-works/StoreSurvey\"><AnnualSales>1500000</AnnualSales><AnnualRevenue>150000</AnnualRevenue><BankName>Reserve Security</BankName><BusinessType>BS</BusinessType><YearOpened>1986</YearOpened><Specialty>Touring</Specialty><SquareFeet>39000</SquareFeet><Brands>3</Brands><Internet>T1</Internet><NumberEmployees>47</NumberEmployees></StoreSurvey></td><td>132ef67c-f056-4245-8617-03da1b1da9b4</td><td>2014-09-12</td></tr><tr><td>908</td><td>General Bike Corporation</td><td>278</td><td><StoreSurvey xmlns=\"http://schemas.microsoft.com/sqlserver/2004/07/adventure-works/StoreSurvey\"><AnnualSales>1500000</AnnualSales><AnnualRevenue>150000</AnnualRevenue><BankName>United Security</BankName><BusinessType>BS</BusinessType><YearOpened>1994</YearOpened><Specialty>Road</Specialty><SquareFeet>38000</SquareFeet><Brands>4+</Brands><Internet>DSL</Internet><NumberEmployees>48</NumberEmployees></StoreSurvey></td><td>990c7fdd-84f7-4910-b140-7befc410dff2</td><td>2014-09-12</td></tr><tr><td>910</td><td>Quitting Business Distributors</td><td>279</td><td><StoreSurvey xmlns=\"http://schemas.microsoft.com/sqlserver/2004/07/adventure-works/StoreSurvey\"><AnnualSales>1500000</AnnualSales><AnnualRevenue>150000</AnnualRevenue><BankName>International Bank</BankName><BusinessType>BS</BusinessType><YearOpened>1989</YearOpened><Specialty>Touring</Specialty><SquareFeet>40000</SquareFeet><Brands>2</Brands><Internet>ISDN</Internet><NumberEmployees>49</NumberEmployees></StoreSurvey></td><td>f09339a6-110a-421e-9c64-06bc99a96fe9</td><td>2014-09-12</td></tr><tr><td>912</td><td>Retail Cycle Shop</td><td>276</td><td><StoreSurvey xmlns=\"http://schemas.microsoft.com/sqlserver/2004/07/adventure-works/StoreSurvey\"><AnnualSales>1500000</AnnualSales><AnnualRevenue>150000</AnnualRevenue><BankName>Primary Bank &amp; Reserve</BankName><BusinessType>BS</BusinessType><YearOpened>1997</YearOpened><Specialty>Mountain</Specialty><SquareFeet>38000</SquareFeet><Brands>3</Brands><Internet>T1</Internet><NumberEmployees>46</NumberEmployees></StoreSurvey></td><td>7e6cdd50-3ae0-442b-93ff-92e0d7561391</td><td>2014-09-12</td></tr><tr><td>914</td><td>Social Activities Club</td><td>277</td><td><StoreSurvey xmlns=\"http://schemas.microsoft.com/sqlserver/2004/07/adventure-works/StoreSurvey\"><AnnualSales>1500000</AnnualSales><AnnualRevenue>150000</AnnualRevenue><BankName>International Security</BankName><BusinessType>BS</BusinessType><YearOpened>1992</YearOpened><Specialty>Road</Specialty><SquareFeet>39000</SquareFeet><Brands>4+</Brands><Internet>T2</Internet><NumberEmployees>43</NumberEmployees></StoreSurvey></td><td>46fab6e6-5fb5-4131-b7cd-1da4d7ffd16f</td><td>2014-09-12</td></tr><tr><td>916</td><td>Blue Bicycle Company</td><td>275</td><td><StoreSurvey xmlns=\"http://schemas.microsoft.com/sqlserver/2004/07/adventure-works/StoreSurvey\"><AnnualSales>1500000</AnnualSales><AnnualRevenue>150000</AnnualRevenue><BankName>Guardian Bank</BankName><BusinessType>BS</BusinessType><YearOpened>1995</YearOpened><Specialty>Road</Specialty><SquareFeet>36000</SquareFeet><Brands>4+</Brands><Internet>DSL</Internet><NumberEmployees>40</NumberEmployees></StoreSurvey></td><td>edd3982f-5df1-4e35-8deb-cf85796257e4</td><td>2014-09-12</td></tr><tr><td>918</td><td>Expert Cycle Store</td><td>286</td><td><StoreSurvey xmlns=\"http://schemas.microsoft.com/sqlserver/2004/07/adventure-works/StoreSurvey\"><AnnualSales>1500000</AnnualSales><AnnualRevenue>150000</AnnualRevenue><BankName>Primary International</BankName><BusinessType>BS</BusinessType><YearOpened>1995</YearOpened><Specialty>Touring</Specialty><SquareFeet>38000</SquareFeet><Brands>4+</Brands><Internet>DSL</Internet><NumberEmployees>37</NumberEmployees></StoreSurvey></td><td>111a9af9-d7d1-4685-a091-d815dfabb800</td><td>2014-09-12</td></tr><tr><td>920</td><td>General Riding Supplies</td><td>278</td><td><StoreSurvey xmlns=\"http://schemas.microsoft.com/sqlserver/2004/07/adventure-works/StoreSurvey\"><AnnualSales>1500000</AnnualSales><AnnualRevenue>150000</AnnualRevenue><BankName>Reserve Security</BankName><BusinessType>BS</BusinessType><YearOpened>1983</YearOpened><Specialty>Mountain</Specialty><SquareFeet>36000</SquareFeet><Brands>3</Brands><Internet>DSL</Internet><NumberEmployees>34</NumberEmployees></StoreSurvey></td><td>b2340407-6a5b-4eca-891a-b59dbeec8049</td><td>2014-09-12</td></tr><tr><td>922</td><td>Parts Shop</td><td>279</td><td><StoreSurvey xmlns=\"http://schemas.microsoft.com/sqlserver/2004/07/adventure-works/StoreSurvey\"><AnnualSales>1500000</AnnualSales><AnnualRevenue>150000</AnnualRevenue><BankName>United Security</BankName><BusinessType>BS</BusinessType><YearOpened>1998</YearOpened><Specialty>Road</Specialty><SquareFeet>38000</SquareFeet><Brands>3</Brands><Internet>T3</Internet><NumberEmployees>31</NumberEmployees></StoreSurvey></td><td>42964898-0530-4811-9e7b-4da71ac9e21a</td><td>2014-09-12</td></tr><tr><td>924</td><td>Riding Excursions</td><td>276</td><td><StoreSurvey xmlns=\"http://schemas.microsoft.com/sqlserver/2004/07/adventure-works/StoreSurvey\"><AnnualSales>1000000</AnnualSales><AnnualRevenue>100000</AnnualRevenue><BankName>International Bank</BankName><BusinessType>BS</BusinessType><YearOpened>1971</YearOpened><Specialty>Road</Specialty><SquareFeet>27000</SquareFeet><Brands>4+</Brands><Internet>T1</Internet><NumberEmployees>28</NumberEmployees></StoreSurvey></td><td>642126c4-b893-460a-b8fd-0a041447ecc4</td><td>2014-09-12</td></tr><tr><td>926</td><td>Unique Bikes</td><td>277</td><td><StoreSurvey xmlns=\"http://schemas.microsoft.com/sqlserver/2004/07/adventure-works/StoreSurvey\"><AnnualSales>1000000</AnnualSales><AnnualRevenue>100000</AnnualRevenue><BankName>Primary Bank &amp; Reserve</BankName><BusinessType>BS</BusinessType><YearOpened>2001</YearOpened><Specialty>Mountain</Specialty><SquareFeet>27000</SquareFeet><Brands>3</Brands><Internet>DSL</Internet><NumberEmployees>25</NumberEmployees></StoreSurvey></td><td>424b0c7d-36b5-4d83-8b83-d346726bc960</td><td>2014-09-12</td></tr><tr><td>928</td><td>Rural Cycle Emporium</td><td>282</td><td><StoreSurvey xmlns=\"http://schemas.microsoft.com/sqlserver/2004/07/adventure-works/StoreSurvey\"><AnnualSales>800000</AnnualSales><AnnualRevenue>80000</AnnualRevenue><BankName>Primary International</BankName><BusinessType>BM</BusinessType><YearOpened>1988</YearOpened><Specialty>Mountain</Specialty><SquareFeet>21000</SquareFeet><Brands>4+</Brands><Internet>DSL</Internet><NumberEmployees>11</NumberEmployees></StoreSurvey></td><td>59deae0a-7b98-4b25-9431-1be36365167f</td><td>2014-09-12</td></tr><tr><td>930</td><td>Associated Bikes</td><td>281</td><td><StoreSurvey xmlns=\"http://schemas.microsoft.com/sqlserver/2004/07/adventure-works/StoreSurvey\"><AnnualSales>300000</AnnualSales><AnnualRevenue>30000</AnnualRevenue><BankName>Reserve Security</BankName><BusinessType>BM</BusinessType><YearOpened>1982</YearOpened><Specialty>Mountain</Specialty><SquareFeet>7000</SquareFeet><Brands>3</Brands><Internet>DSL</Internet><NumberEmployees>8</NumberEmployees></StoreSurvey></td><td>22e7c8dd-5feb-4b87-abf2-d87bc0aa4695</td><td>2014-09-12</td></tr><tr><td>932</td><td>Modular Cycle Systems</td><td>277</td><td><StoreSurvey xmlns=\"http://schemas.microsoft.com/sqlserver/2004/07/adventure-works/StoreSurvey\"><AnnualSales>300000</AnnualSales><AnnualRevenue>30000</AnnualRevenue><BankName>United Security</BankName><BusinessType>BM</BusinessType><YearOpened>1976</YearOpened><Specialty>Road</Specialty><SquareFeet>6000</SquareFeet><Brands>2</Brands><Internet>DSL</Internet><NumberEmployees>5</NumberEmployees></StoreSurvey></td><td>a232dae8-2411-4fdc-bbb2-6eb5f547986b</td><td>2014-09-12</td></tr><tr><td>934</td><td>A Bike Store</td><td>280</td><td><StoreSurvey xmlns=\"http://schemas.microsoft.com/sqlserver/2004/07/adventure-works/StoreSurvey\"><AnnualSales>300000</AnnualSales><AnnualRevenue>30000</AnnualRevenue><BankName>International Bank</BankName><BusinessType>BM</BusinessType><YearOpened>1970</YearOpened><Specialty>Road</Specialty><SquareFeet>7000</SquareFeet><Brands>AW</Brands><Internet>T1</Internet><NumberEmployees>2</NumberEmployees></StoreSurvey></td><td>80b15702-df20-4df9-876c-2cf1c3978d39</td><td>2014-09-12</td></tr><tr><td>936</td><td>Journey Sporting Goods</td><td>277</td><td><StoreSurvey xmlns=\"http://schemas.microsoft.com/sqlserver/2004/07/adventure-works/StoreSurvey\"><AnnualSales>800000</AnnualSales><AnnualRevenue>80000</AnnualRevenue><BankName>Primary Bank &amp; Reserve</BankName><BusinessType>BM</BusinessType><YearOpened>1996</YearOpened><Specialty>Mountain</Specialty><SquareFeet>21000</SquareFeet><Brands>3</Brands><Internet>DSL</Internet><NumberEmployees>13</NumberEmployees></StoreSurvey></td><td>f2ac714e-6e3e-4d55-ac9d-ea0ffa700bbb</td><td>2014-09-12</td></tr><tr><td>938</td><td>Two Bike Shops</td><td>280</td><td><StoreSurvey xmlns=\"http://schemas.microsoft.com/sqlserver/2004/07/adventure-works/StoreSurvey\"><AnnualSales>800000</AnnualSales><AnnualRevenue>80000</AnnualRevenue><BankName>International Security</BankName><BusinessType>BM</BusinessType><YearOpened>1991</YearOpened><Specialty>Road</Specialty><SquareFeet>20000</SquareFeet><Brands>3</Brands><Internet>T1</Internet><NumberEmployees>14</NumberEmployees></StoreSurvey></td><td>3f8d0676-b72e-4bfc-b90e-ceade5b51cde</td><td>2014-09-12</td></tr><tr><td>940</td><td>Cycles Wholesaler & Mfg.</td><td>289</td><td><StoreSurvey xmlns=\"http://schemas.microsoft.com/sqlserver/2004/07/adventure-works/StoreSurvey\"><AnnualSales>800000</AnnualSales><AnnualRevenue>80000</AnnualRevenue><BankName>Guardian Bank</BankName><BusinessType>BM</BusinessType><YearOpened>1999</YearOpened><Specialty>Touring</Specialty><SquareFeet>21000</SquareFeet><Brands>4+</Brands><Internet>T2</Internet><NumberEmployees>15</NumberEmployees></StoreSurvey></td><td>b634ae55-e758-4184-bd40-6f0eec1ee566</td><td>2014-09-12</td></tr><tr><td>942</td><td>Wheels Inc.</td><td>290</td><td><StoreSurvey xmlns=\"http://schemas.microsoft.com/sqlserver/2004/07/adventure-works/StoreSurvey\"><AnnualSales>800000</AnnualSales><AnnualRevenue>80000</AnnualRevenue><BankName>Primary International</BankName><BusinessType>BM</BusinessType><YearOpened>1994</YearOpened><Specialty>Road</Specialty><SquareFeet>19000</SquareFeet><Brands>4+</Brands><Internet>T1</Internet><NumberEmployees>16</NumberEmployees></StoreSurvey></td><td>7d98c7c7-c155-482e-a2b2-918964a02a05</td><td>2014-09-12</td></tr><tr><td>944</td><td>Number One Bike Co.</td><td>289</td><td><StoreSurvey xmlns=\"http://schemas.microsoft.com/sqlserver/2004/07/adventure-works/StoreSurvey\"><AnnualSales>1500000</AnnualSales><AnnualRevenue>150000</AnnualRevenue><BankName>Guardian Bank</BankName><BusinessType>BS</BusinessType><YearOpened>1982</YearOpened><Specialty>Road</Specialty><SquareFeet>40000</SquareFeet><Brands>4+</Brands><Internet>T1</Internet><NumberEmployees>40</NumberEmployees></StoreSurvey></td><td>6f9f5165-4e33-484e-8062-da66d67674b2</td><td>2014-09-12</td></tr><tr><td>946</td><td>Racing Supply Distributors</td><td>290</td><td><StoreSurvey xmlns=\"http://schemas.microsoft.com/sqlserver/2004/07/adventure-works/StoreSurvey\"><AnnualSales>1500000</AnnualSales><AnnualRevenue>150000</AnnualRevenue><BankName>Primary International</BankName><BusinessType>BS</BusinessType><YearOpened>1977</YearOpened><Specialty>Touring</Specialty><SquareFeet>38000</SquareFeet><Brands>3</Brands><Internet>DSL</Internet><NumberEmployees>41</NumberEmployees></StoreSurvey></td><td>1bcad975-f366-4870-9f27-67f8e0443bfc</td><td>2014-09-12</td></tr><tr><td>948</td><td>Standard Bikes</td><td>282</td><td><StoreSurvey xmlns=\"http://schemas.microsoft.com/sqlserver/2004/07/adventure-works/StoreSurvey\"><AnnualSales>1500000</AnnualSales><AnnualRevenue>150000</AnnualRevenue><BankName>Reserve Security</BankName><BusinessType>BS</BusinessType><YearOpened>1985</YearOpened><Specialty>Mountain</Specialty><SquareFeet>38000</SquareFeet><Brands>4+</Brands><Internet>DSL</Internet><NumberEmployees>42</NumberEmployees></StoreSurvey></td><td>5652e775-8192-4ed3-9da0-979a1fcb2071</td><td>2014-09-12</td></tr><tr><td>950</td><td>The Bicycle Accessories Company</td><td>281</td><td><StoreSurvey xmlns=\"http://schemas.microsoft.com/sqlserver/2004/07/adventure-works/StoreSurvey\"><AnnualSales>1500000</AnnualSales><AnnualRevenue>150000</AnnualRevenue><BankName>United Security</BankName><BusinessType>BS</BusinessType><YearOpened>1980</YearOpened><Specialty>Road</Specialty><SquareFeet>37000</SquareFeet><Brands>4+</Brands><Internet>T1</Internet><NumberEmployees>43</NumberEmployees></StoreSurvey></td><td>a91f242f-e7ae-4b00-abc6-037b9e740d9d</td><td>2014-09-12</td></tr><tr><td>952</td><td>Active Systems</td><td>277</td><td><StoreSurvey xmlns=\"http://schemas.microsoft.com/sqlserver/2004/07/adventure-works/StoreSurvey\"><AnnualSales>1500000</AnnualSales><AnnualRevenue>150000</AnnualRevenue><BankName>International Bank</BankName><BusinessType>BS</BusinessType><YearOpened>1988</YearOpened><Specialty>Road</Specialty><SquareFeet>39000</SquareFeet><Brands>4+</Brands><Internet>T1</Internet><NumberEmployees>44</NumberEmployees></StoreSurvey></td><td>dc414650-f329-4888-a3ea-ad5f4bb3c082</td><td>2014-09-12</td></tr><tr><td>954</td><td>Futuristic Sport Distributors</td><td>281</td><td><StoreSurvey xmlns=\"http://schemas.microsoft.com/sqlserver/2004/07/adventure-works/StoreSurvey\"><AnnualSales>3000000</AnnualSales><AnnualRevenue>300000</AnnualRevenue><BankName>Primary Bank &amp; Reserve</BankName><BusinessType>OS</BusinessType><YearOpened>1974</YearOpened><Specialty>Road</Specialty><SquareFeet>78000</SquareFeet><Brands>3</Brands><Internet>DSL</Internet><NumberEmployees>94</NumberEmployees></StoreSurvey></td><td>6da7b1d1-17b5-4382-a9d4-fbe204b9c8df</td><td>2014-09-12</td></tr><tr><td>956</td><td>Finer Sales and Service</td><td>282</td><td><StoreSurvey xmlns=\"http://schemas.microsoft.com/sqlserver/2004/07/adventure-works/StoreSurvey\"><AnnualSales>3000000</AnnualSales><AnnualRevenue>300000</AnnualRevenue><BankName>International Bank</BankName><BusinessType>OS</BusinessType><YearOpened>1980</YearOpened><Specialty>Road</Specialty><SquareFeet>77000</SquareFeet><Brands>4+</Brands><Internet>T2</Internet><NumberEmployees>95</NumberEmployees></StoreSurvey></td><td>00a7e190-d705-4791-aab5-ad218497dd06</td><td>2014-09-12</td></tr><tr><td>958</td><td>Big-Time Bike Store</td><td>281</td><td><StoreSurvey xmlns=\"http://schemas.microsoft.com/sqlserver/2004/07/adventure-works/StoreSurvey\"><AnnualSales>3000000</AnnualSales><AnnualRevenue>300000</AnnualRevenue><BankName>United Security</BankName><BusinessType>OS</BusinessType><YearOpened>1986</YearOpened><Specialty>Road</Specialty><SquareFeet>80000</SquareFeet><Brands>4+</Brands><Internet>DSL</Internet><NumberEmployees>96</NumberEmployees></StoreSurvey></td><td>059b53a3-3394-433b-b916-97265d5a95c5</td><td>2014-09-12</td></tr><tr><td>960</td><td>The Showroom</td><td>282</td><td><StoreSurvey xmlns=\"http://schemas.microsoft.com/sqlserver/2004/07/adventure-works/StoreSurvey\"><AnnualSales>3000000</AnnualSales><AnnualRevenue>300000</AnnualRevenue><BankName>Reserve Security</BankName><BusinessType>OS</BusinessType><YearOpened>1992</YearOpened><Specialty>Road</Specialty><SquareFeet>79000</SquareFeet><Brands>4+</Brands><Internet>DSL</Internet><NumberEmployees>97</NumberEmployees></StoreSurvey></td><td>af96a1ef-f280-411e-be2f-063a000dc162</td><td>2014-09-12</td></tr><tr><td>962</td><td>Spa and Exercise Outfitters</td><td>290</td><td><StoreSurvey xmlns=\"http://schemas.microsoft.com/sqlserver/2004/07/adventure-works/StoreSurvey\"><AnnualSales>3000000</AnnualSales><AnnualRevenue>300000</AnnualRevenue><BankName>Primary International</BankName><BusinessType>OS</BusinessType><YearOpened>1998</YearOpened><Specialty>Mountain</Specialty><SquareFeet>79000</SquareFeet><Brands>4+</Brands><Internet>T1</Internet><NumberEmployees>98</NumberEmployees></StoreSurvey></td><td>6fe30abe-390e-41bb-a85f-82279aa39245</td><td>2014-09-12</td></tr><tr><td>964</td><td>Year-Round Sports</td><td>283</td><td><StoreSurvey xmlns=\"http://schemas.microsoft.com/sqlserver/2004/07/adventure-works/StoreSurvey\"><AnnualSales>3000000</AnnualSales><AnnualRevenue>300000</AnnualRevenue><BankName>United Security</BankName><BusinessType>OS</BusinessType><YearOpened>1979</YearOpened><Specialty>Mountain</Specialty><SquareFeet>75000</SquareFeet><Brands>4+</Brands><Internet>DSL</Internet><NumberEmployees>66</NumberEmployees></StoreSurvey></td><td>fae5ed78-bcfc-44fb-9d14-1207978fd56d</td><td>2014-09-12</td></tr><tr><td>966</td><td>The New Bike Store</td><td>276</td><td><StoreSurvey xmlns=\"http://schemas.microsoft.com/sqlserver/2004/07/adventure-works/StoreSurvey\"><AnnualSales>1500000</AnnualSales><AnnualRevenue>150000</AnnualRevenue><BankName>International Bank</BankName><BusinessType>OS</BusinessType><YearOpened>1974</YearOpened><Specialty>Road</Specialty><SquareFeet>37000</SquareFeet><Brands>4+</Brands><Internet>DSL</Internet><NumberEmployees>40</NumberEmployees></StoreSurvey></td><td>6e52ef1b-0c2a-447d-b182-eff74a256e57</td><td>2014-09-12</td></tr><tr><td>968</td><td>Resident Cycle Shop</td><td>279</td><td><StoreSurvey xmlns=\"http://schemas.microsoft.com/sqlserver/2004/07/adventure-works/StoreSurvey\"><AnnualSales>1500000</AnnualSales><AnnualRevenue>150000</AnnualRevenue><BankName>United Security</BankName><BusinessType>OS</BusinessType><YearOpened>1980</YearOpened><Specialty>Mountain</Specialty><SquareFeet>38000</SquareFeet><Brands>4+</Brands><Internet>DSL</Internet><NumberEmployees>43</NumberEmployees></StoreSurvey></td><td>3d1fabe2-11ee-46eb-a6d2-0dfa11ef96ca</td><td>2014-09-12</td></tr><tr><td>970</td><td>Primary Bike Distributors</td><td>278</td><td><StoreSurvey xmlns=\"http://schemas.microsoft.com/sqlserver/2004/07/adventure-works/StoreSurvey\"><AnnualSales>1500000</AnnualSales><AnnualRevenue>150000</AnnualRevenue><BankName>Reserve Security</BankName><BusinessType>OS</BusinessType><YearOpened>1986</YearOpened><Specialty>Road</Specialty><SquareFeet>39000</SquareFeet><Brands>4+</Brands><Internet>T1</Internet><NumberEmployees>46</NumberEmployees></StoreSurvey></td><td>1b520861-7d47-4bb2-96ee-4acd2b54ed5e</td><td>2014-09-12</td></tr><tr><td>972</td><td>Major Bicycle Store</td><td>286</td><td><StoreSurvey xmlns=\"http://schemas.microsoft.com/sqlserver/2004/07/adventure-works/StoreSurvey\"><AnnualSales>1500000</AnnualSales><AnnualRevenue>150000</AnnualRevenue><BankName>Primary International</BankName><BusinessType>OS</BusinessType><YearOpened>1992</YearOpened><Specialty>Touring</Specialty><SquareFeet>41000</SquareFeet><Brands>4+</Brands><Internet>T1</Internet><NumberEmployees>49</NumberEmployees></StoreSurvey></td><td>1589e17f-1b07-411a-8938-6bcec7d3140f</td><td>2014-09-12</td></tr><tr><td>974</td><td>Leather and Vinyl Manufacturing</td><td>275</td><td><StoreSurvey xmlns=\"http://schemas.microsoft.com/sqlserver/2004/07/adventure-works/StoreSurvey\"><AnnualSales>3000000</AnnualSales><AnnualRevenue>300000</AnnualRevenue><BankName>Guardian Bank</BankName><BusinessType>OS</BusinessType><YearOpened>1998</YearOpened><Specialty>Road</Specialty><SquareFeet>68000</SquareFeet><Brands>2</Brands><Internet>DSL</Internet><NumberEmployees>52</NumberEmployees></StoreSurvey></td><td>5eff72c4-6ea5-4cdc-8d14-017265283388</td><td>2014-09-12</td></tr><tr><td>976</td><td>Genial Bike Associates</td><td>277</td><td><StoreSurvey xmlns=\"http://schemas.microsoft.com/sqlserver/2004/07/adventure-works/StoreSurvey\"><AnnualSales>3000000</AnnualSales><AnnualRevenue>300000</AnnualRevenue><BankName>International Security</BankName><BusinessType>OS</BusinessType><YearOpened>1999</YearOpened><Specialty>Mountain</Specialty><SquareFeet>70000</SquareFeet><Brands>4+</Brands><Internet>T1</Internet><NumberEmployees>55</NumberEmployees></StoreSurvey></td><td>8bc88e7c-8f45-4b76-83cf-2b3b4748de76</td><td>2014-09-12</td></tr><tr><td>978</td><td>Commercial Sporting Goods</td><td>281</td><td><StoreSurvey xmlns=\"http://schemas.microsoft.com/sqlserver/2004/07/adventure-works/StoreSurvey\"><AnnualSales>3000000</AnnualSales><AnnualRevenue>300000</AnnualRevenue><BankName>Reserve Security</BankName><BusinessType>OS</BusinessType><YearOpened>1979</YearOpened><Specialty>Mountain</Specialty><SquareFeet>74000</SquareFeet><Brands>3</Brands><Internet>DSL</Internet><NumberEmployees>61</NumberEmployees></StoreSurvey></td><td>835873e3-6c31-4f68-bde5-c9db54ada0f6</td><td>2014-09-12</td></tr><tr><td>980</td><td>Wholesale Parts</td><td>282</td><td><StoreSurvey xmlns=\"http://schemas.microsoft.com/sqlserver/2004/07/adventure-works/StoreSurvey\"><AnnualSales>3000000</AnnualSales><AnnualRevenue>300000</AnnualRevenue><BankName>Primary International</BankName><BusinessType>OS</BusinessType><YearOpened>1996</YearOpened><Specialty>Road</Specialty><SquareFeet>70000</SquareFeet><Brands>4+</Brands><Internet>DSL</Internet><NumberEmployees>64</NumberEmployees></StoreSurvey></td><td>d32d0b60-2a92-4f48-8b49-817466bd7dbd</td><td>2014-09-12</td></tr><tr><td>982</td><td>Steel Inc.</td><td>290</td><td><StoreSurvey xmlns=\"http://schemas.microsoft.com/sqlserver/2004/07/adventure-works/StoreSurvey\"><AnnualSales>3000000</AnnualSales><AnnualRevenue>300000</AnnualRevenue><BankName>Guardian Bank</BankName><BusinessType>OS</BusinessType><YearOpened>1991</YearOpened><Specialty>Road</Specialty><SquareFeet>74000</SquareFeet><Brands>4+</Brands><Internet>T1</Internet><NumberEmployees>67</NumberEmployees></StoreSurvey></td><td>5f9911f5-04fb-4288-801b-4af1e9ef19b0</td><td>2014-09-12</td></tr><tr><td>984</td><td>Riding Cycles</td><td>289</td><td><StoreSurvey xmlns=\"http://schemas.microsoft.com/sqlserver/2004/07/adventure-works/StoreSurvey\"><AnnualSales>3000000</AnnualSales><AnnualRevenue>300000</AnnualRevenue><BankName>International Security</BankName><BusinessType>OS</BusinessType><YearOpened>1993</YearOpened><Specialty>Road</Specialty><SquareFeet>74000</SquareFeet><Brands>3</Brands><Internet>ISDN</Internet><NumberEmployees>70</NumberEmployees></StoreSurvey></td><td>a631b7d3-4ada-4d5c-a985-6dff7a8066be</td><td>2014-09-12</td></tr><tr><td>986</td><td>Metro Manufacturing</td><td>282</td><td><StoreSurvey xmlns=\"http://schemas.microsoft.com/sqlserver/2004/07/adventure-works/StoreSurvey\"><AnnualSales>1500000</AnnualSales><AnnualRevenue>150000</AnnualRevenue><BankName>International Security</BankName><BusinessType>BS</BusinessType><YearOpened>1977</YearOpened><Specialty>Mountain</Specialty><SquareFeet>36000</SquareFeet><Brands>4+</Brands><Internet>DSL</Internet><NumberEmployees>41</NumberEmployees></StoreSurvey></td><td>682059c4-de55-43f6-8754-1a232df99fa4</td><td>2014-09-12</td></tr><tr><td>988</td><td>Manufacturers Inc</td><td>279</td><td><StoreSurvey xmlns=\"http://schemas.microsoft.com/sqlserver/2004/07/adventure-works/StoreSurvey\"><AnnualSales>1500000</AnnualSales><AnnualRevenue>150000</AnnualRevenue><BankName>Guardian Bank</BankName><BusinessType>BS</BusinessType><YearOpened>1985</YearOpened><Specialty>Road</Specialty><SquareFeet>39000</SquareFeet><Brands>3</Brands><Internet>DSL</Internet><NumberEmployees>42</NumberEmployees></StoreSurvey></td><td>349c5e18-0492-4ff2-b3b6-ce2c5277d948</td><td>2014-09-12</td></tr><tr><td>990</td><td>Locks Company</td><td>281</td><td><StoreSurvey xmlns=\"http://schemas.microsoft.com/sqlserver/2004/07/adventure-works/StoreSurvey\"><AnnualSales>1500000</AnnualSales><AnnualRevenue>150000</AnnualRevenue><BankName>Primary International</BankName><BusinessType>BS</BusinessType><YearOpened>1980</YearOpened><Specialty>Touring</Specialty><SquareFeet>40000</SquareFeet><Brands>4+</Brands><Internet>DSL</Internet><NumberEmployees>43</NumberEmployees></StoreSurvey></td><td>167623c3-b88e-4aee-a7d2-fe88d197e6cc</td><td>2014-09-12</td></tr><tr><td>992</td><td>Latest Accessories Sales</td><td>283</td><td><StoreSurvey xmlns=\"http://schemas.microsoft.com/sqlserver/2004/07/adventure-works/StoreSurvey\"><AnnualSales>1500000</AnnualSales><AnnualRevenue>150000</AnnualRevenue><BankName>Reserve Security</BankName><BusinessType>BS</BusinessType><YearOpened>1988</YearOpened><Specialty>Road</Specialty><SquareFeet>38000</SquareFeet><Brands>4+</Brands><Internet>T1</Internet><NumberEmployees>44</NumberEmployees></StoreSurvey></td><td>d9bf3762-b599-4d99-b065-6944631feba3</td><td>2014-09-12</td></tr><tr><td>994</td><td>Incomparable Bicycle Store</td><td>275</td><td><StoreSurvey xmlns=\"http://schemas.microsoft.com/sqlserver/2004/07/adventure-works/StoreSurvey\"><AnnualSales>1500000</AnnualSales><AnnualRevenue>150000</AnnualRevenue><BankName>United Security</BankName><BusinessType>BS</BusinessType><YearOpened>1983</YearOpened><Specialty>Touring</Specialty><SquareFeet>41000</SquareFeet><Brands>2</Brands><Internet>DSL</Internet><NumberEmployees>45</NumberEmployees></StoreSurvey></td><td>3385d478-6dc8-4126-b198-868a7ec06851</td><td>2014-09-12</td></tr><tr><td>996</td><td>Hometown Riding Supplies</td><td>288</td><td><StoreSurvey xmlns=\"http://schemas.microsoft.com/sqlserver/2004/07/adventure-works/StoreSurvey\"><AnnualSales>1500000</AnnualSales><AnnualRevenue>150000</AnnualRevenue><BankName>International Bank</BankName><BusinessType>BS</BusinessType><YearOpened>1991</YearOpened><Specialty>Mountain</Specialty><SquareFeet>38000</SquareFeet><Brands>4+</Brands><Internet>T1</Internet><NumberEmployees>46</NumberEmployees></StoreSurvey></td><td>bba21530-ca9c-498e-bda9-f5b62f8c8525</td><td>2014-09-12</td></tr><tr><td>998</td><td>Greater Bike Store</td><td>282</td><td><StoreSurvey xmlns=\"http://schemas.microsoft.com/sqlserver/2004/07/adventure-works/StoreSurvey\"><AnnualSales>1500000</AnnualSales><AnnualRevenue>150000</AnnualRevenue><BankName>Primary Bank &amp; Reserve</BankName><BusinessType>BS</BusinessType><YearOpened>1986</YearOpened><Specialty>Mountain</Specialty><SquareFeet>39000</SquareFeet><Brands>3</Brands><Internet>ISDN</Internet><NumberEmployees>47</NumberEmployees></StoreSurvey></td><td>aae55b33-b3db-4f4f-8647-1fa93573a847</td><td>2014-09-12</td></tr><tr><td>1000</td><td>Games and Sport Supply Company</td><td>279</td><td><StoreSurvey xmlns=\"http://schemas.microsoft.com/sqlserver/2004/07/adventure-works/StoreSurvey\"><AnnualSales>1500000</AnnualSales><AnnualRevenue>150000</AnnualRevenue><BankName>International Security</BankName><BusinessType>BS</BusinessType><YearOpened>1994</YearOpened><Specialty>Touring</Specialty><SquareFeet>42000</SquareFeet><Brands>4+</Brands><Internet>DSL</Internet><NumberEmployees>48</NumberEmployees></StoreSurvey></td><td>15a3600a-31ae-4603-ae82-2199ceead5eb</td><td>2014-09-12</td></tr><tr><td>1002</td><td>Distant Inn</td><td>281</td><td><StoreSurvey xmlns=\"http://schemas.microsoft.com/sqlserver/2004/07/adventure-works/StoreSurvey\"><AnnualSales>1500000</AnnualSales><AnnualRevenue>150000</AnnualRevenue><BankName>Guardian Bank</BankName><BusinessType>BS</BusinessType><YearOpened>1989</YearOpened><Specialty>Road</Specialty><SquareFeet>38000</SquareFeet><Brands>4+</Brands><Internet>DSL</Internet><NumberEmployees>49</NumberEmployees></StoreSurvey></td><td>4f48780d-71df-4523-9b4e-1c234ea699df</td><td>2014-09-12</td></tr><tr><td>1004</td><td>Finer Mart</td><td>283</td><td><StoreSurvey xmlns=\"http://schemas.microsoft.com/sqlserver/2004/07/adventure-works/StoreSurvey\"><AnnualSales>1500000</AnnualSales><AnnualRevenue>150000</AnnualRevenue><BankName>Primary International</BankName><BusinessType>BS</BusinessType><YearOpened>1997</YearOpened><Specialty>Touring</Specialty><SquareFeet>38000</SquareFeet><Brands>3</Brands><Internet>DSL</Internet><NumberEmployees>46</NumberEmployees></StoreSurvey></td><td>9de8d05e-04b5-4be1-ac7e-8ac22ec04329</td><td>2014-09-12</td></tr><tr><td>1006</td><td>Economic Parts Supply</td><td>275</td><td><StoreSurvey xmlns=\"http://schemas.microsoft.com/sqlserver/2004/07/adventure-works/StoreSurvey\"><AnnualSales>1500000</AnnualSales><AnnualRevenue>150000</AnnualRevenue><BankName>Reserve Security</BankName><BusinessType>BS</BusinessType><YearOpened>1992</YearOpened><Specialty>Road</Specialty><SquareFeet>40000</SquareFeet><Brands>4+</Brands><Internet>T1</Internet><NumberEmployees>43</NumberEmployees></StoreSurvey></td><td>66bc65df-a24e-4b78-ab1d-f680c4a75451</td><td>2014-09-12</td></tr><tr><td>1008</td><td>Precision Gears Inc.</td><td>288</td><td><StoreSurvey xmlns=\"http://schemas.microsoft.com/sqlserver/2004/07/adventure-works/StoreSurvey\"><AnnualSales>1500000</AnnualSales><AnnualRevenue>150000</AnnualRevenue><BankName>United Security</BankName><BusinessType>BS</BusinessType><YearOpened>1995</YearOpened><Specialty>Road</Specialty><SquareFeet>38000</SquareFeet><Brands>3</Brands><Internet>DSL</Internet><NumberEmployees>40</NumberEmployees></StoreSurvey></td><td>fb89ac44-0cf5-45d1-928e-1beeece05abf</td><td>2014-09-12</td></tr><tr><td>1010</td><td>Cross-Country Riding Supplies</td><td>282</td><td><StoreSurvey xmlns=\"http://schemas.microsoft.com/sqlserver/2004/07/adventure-works/StoreSurvey\"><AnnualSales>1500000</AnnualSales><AnnualRevenue>150000</AnnualRevenue><BankName>International Bank</BankName><BusinessType>BS</BusinessType><YearOpened>1995</YearOpened><Specialty>Mountain</Specialty><SquareFeet>36000</SquareFeet><Brands>3</Brands><Internet>T2</Internet><NumberEmployees>37</NumberEmployees></StoreSurvey></td><td>55b8ce76-1c6a-4181-83cf-786c60cee77f</td><td>2014-09-12</td></tr><tr><td>1012</td><td>Stylish Department Stores</td><td>279</td><td><StoreSurvey xmlns=\"http://schemas.microsoft.com/sqlserver/2004/07/adventure-works/StoreSurvey\"><AnnualSales>1500000</AnnualSales><AnnualRevenue>150000</AnnualRevenue><BankName>Primary Bank &amp; Reserve</BankName><BusinessType>BS</BusinessType><YearOpened>1983</YearOpened><Specialty>Road</Specialty><SquareFeet>39000</SquareFeet><Brands>3</Brands><Internet>T1</Internet><NumberEmployees>34</NumberEmployees></StoreSurvey></td><td>062a2eb8-9b1d-4fdf-a627-3e45f76d2096</td><td>2014-09-12</td></tr><tr><td>1014</td><td>Bike World</td><td>281</td><td><StoreSurvey xmlns=\"http://schemas.microsoft.com/sqlserver/2004/07/adventure-works/StoreSurvey\"><AnnualSales>1500000</AnnualSales><AnnualRevenue>150000</AnnualRevenue><BankName>International Security</BankName><BusinessType>BS</BusinessType><YearOpened>1998</YearOpened><Specialty>Mountain</Specialty><SquareFeet>35000</SquareFeet><Brands>4+</Brands><Internet>T1</Internet><NumberEmployees>31</NumberEmployees></StoreSurvey></td><td>17906b3f-7ea8-4b87-a60e-278df291a580</td><td>2014-09-12</td></tr><tr><td>1016</td><td>Central Discount Store</td><td>283</td><td><StoreSurvey xmlns=\"http://schemas.microsoft.com/sqlserver/2004/07/adventure-works/StoreSurvey\"><AnnualSales>1000000</AnnualSales><AnnualRevenue>100000</AnnualRevenue><BankName>Guardian Bank</BankName><BusinessType>BS</BusinessType><YearOpened>1971</YearOpened><Specialty>Mountain</Specialty><SquareFeet>25000</SquareFeet><Brands>4+</Brands><Internet>T1</Internet><NumberEmployees>28</NumberEmployees></StoreSurvey></td><td>58bf407a-5f67-4228-b4eb-b11c91c1c003</td><td>2014-09-12</td></tr><tr><td>1018</td><td>Trusted Catalog Store</td><td>275</td><td><StoreSurvey xmlns=\"http://schemas.microsoft.com/sqlserver/2004/07/adventure-works/StoreSurvey\"><AnnualSales>1000000</AnnualSales><AnnualRevenue>100000</AnnualRevenue><BankName>Primary International</BankName><BusinessType>BS</BusinessType><YearOpened>2001</YearOpened><Specialty>Mountain</Specialty><SquareFeet>25000</SquareFeet><Brands>4+</Brands><Internet>T1</Internet><NumberEmployees>25</NumberEmployees></StoreSurvey></td><td>3c3d1d16-defe-412f-b4bf-0935e366dff2</td><td>2014-09-12</td></tr><tr><td>1020</td><td>Bicycle Warehouse Inc.</td><td>288</td><td><StoreSurvey xmlns=\"http://schemas.microsoft.com/sqlserver/2004/07/adventure-works/StoreSurvey\"><AnnualSales>1000000</AnnualSales><AnnualRevenue>100000</AnnualRevenue><BankName>Reserve Security</BankName><BusinessType>BS</BusinessType><YearOpened>1996</YearOpened><Specialty>Mountain</Specialty><SquareFeet>26000</SquareFeet><Brands>4+</Brands><Internet>ISDN</Internet><NumberEmployees>22</NumberEmployees></StoreSurvey></td><td>adb7b98c-4e19-415d-aeca-d579b328e760</td><td>2014-09-12</td></tr><tr><td>1022</td><td>Sharp Bikes</td><td>282</td><td><StoreSurvey xmlns=\"http://schemas.microsoft.com/sqlserver/2004/07/adventure-works/StoreSurvey\"><AnnualSales>800000</AnnualSales><AnnualRevenue>80000</AnnualRevenue><BankName>United Security</BankName><BusinessType>BS</BusinessType><YearOpened>1990</YearOpened><Specialty>Mountain</Specialty><SquareFeet>19000</SquareFeet><Brands>AW</Brands><Internet>DSL</Internet><NumberEmployees>19</NumberEmployees></StoreSurvey></td><td>1f1ebdc9-2874-4a7e-be41-1127cbec7870</td><td>2014-09-12</td></tr><tr><td>1024</td><td>Exemplary Cycles</td><td>279</td><td><StoreSurvey xmlns=\"http://schemas.microsoft.com/sqlserver/2004/07/adventure-works/StoreSurvey\"><AnnualSales>800000</AnnualSales><AnnualRevenue>80000</AnnualRevenue><BankName>International Bank</BankName><BusinessType>BS</BusinessType><YearOpened>1984</YearOpened><Specialty>Touring</Specialty><SquareFeet>20000</SquareFeet><Brands>AW</Brands><Internet>ISDN</Internet><NumberEmployees>16</NumberEmployees></StoreSurvey></td><td>ab2ab66c-9002-4a91-96c9-2e9cb0881e96</td><td>2014-09-12</td></tr><tr><td>1026</td><td>Metropolitan Sports Supply</td><td>281</td><td><StoreSurvey xmlns=\"http://schemas.microsoft.com/sqlserver/2004/07/adventure-works/StoreSurvey\"><AnnualSales>800000</AnnualSales><AnnualRevenue>80000</AnnualRevenue><BankName>Primary Bank &amp; Reserve</BankName><BusinessType>BS</BusinessType><YearOpened>1978</YearOpened><Specialty>Road</Specialty><SquareFeet>21000</SquareFeet><Brands>4+</Brands><Internet>T2</Internet><NumberEmployees>13</NumberEmployees></StoreSurvey></td><td>058dea7c-58fd-42e5-a199-b19c669e985c</td><td>2014-09-12</td></tr><tr><td>1028</td><td>Progressive Sports</td><td>283</td><td><StoreSurvey xmlns=\"http://schemas.microsoft.com/sqlserver/2004/07/adventure-works/StoreSurvey\"><AnnualSales>800000</AnnualSales><AnnualRevenue>80000</AnnualRevenue><BankName>International Security</BankName><BusinessType>BS</BusinessType><YearOpened>1972</YearOpened><Specialty>Mountain</Specialty><SquareFeet>18000</SquareFeet><Brands>3</Brands><Internet>T1</Internet><NumberEmployees>10</NumberEmployees></StoreSurvey></td><td>e88b2a4c-72d3-4818-9f94-c59633d66ce8</td><td>2014-09-12</td></tr><tr><td>1030</td><td>Underglaze and Finish Company</td><td>279</td><td><StoreSurvey xmlns=\"http://schemas.microsoft.com/sqlserver/2004/07/adventure-works/StoreSurvey\"><AnnualSales>800000</AnnualSales><AnnualRevenue>80000</AnnualRevenue><BankName>Reserve Security</BankName><BusinessType>BM</BusinessType><YearOpened>1993</YearOpened><Specialty>Road</Specialty><SquareFeet>18000</SquareFeet><Brands>AW</Brands><Internet>T1</Internet><NumberEmployees>11</NumberEmployees></StoreSurvey></td><td>4008c49c-584e-432f-82e9-f224ab5772f1</td><td>2014-09-12</td></tr><tr><td>1032</td><td>Brakes and Gears</td><td>276</td><td><StoreSurvey xmlns=\"http://schemas.microsoft.com/sqlserver/2004/07/adventure-works/StoreSurvey\"><AnnualSales>800000</AnnualSales><AnnualRevenue>80000</AnnualRevenue><BankName>United Security</BankName><BusinessType>BM</BusinessType><YearOpened>1988</YearOpened><Specialty>Mountain</Specialty><SquareFeet>18000</SquareFeet><Brands>AW</Brands><Internet>DSL</Internet><NumberEmployees>12</NumberEmployees></StoreSurvey></td><td>5e3fd434-3d79-4ecd-ab34-af321ee2cfe7</td><td>2014-09-12</td></tr><tr><td>1034</td><td>The Accessories Store</td><td>277</td><td><StoreSurvey xmlns=\"http://schemas.microsoft.com/sqlserver/2004/07/adventure-works/StoreSurvey\"><AnnualSales>800000</AnnualSales><AnnualRevenue>80000</AnnualRevenue><BankName>International Bank</BankName><BusinessType>BM</BusinessType><YearOpened>1996</YearOpened><Specialty>Road</Specialty><SquareFeet>18000</SquareFeet><Brands>2</Brands><Internet>DSL</Internet><NumberEmployees>13</NumberEmployees></StoreSurvey></td><td>69deb656-1602-4d6e-ae60-d50a8b3afffd</td><td>2014-09-12</td></tr><tr><td>1036</td><td>Mountain Bike Store</td><td>275</td><td><StoreSurvey xmlns=\"http://schemas.microsoft.com/sqlserver/2004/07/adventure-works/StoreSurvey\"><AnnualSales>800000</AnnualSales><AnnualRevenue>80000</AnnualRevenue><BankName>Primary Bank &amp; Reserve</BankName><BusinessType>BM</BusinessType><YearOpened>1991</YearOpened><Specialty>Touring</Specialty><SquareFeet>22000</SquareFeet><Brands>4+</Brands><Internet>DSL</Internet><NumberEmployees>14</NumberEmployees></StoreSurvey></td><td>65b0d467-0550-4230-9eff-d931a786f5c2</td><td>2014-09-12</td></tr><tr><td>1038</td><td>Bike Part Wholesalers</td><td>286</td><td><StoreSurvey xmlns=\"http://schemas.microsoft.com/sqlserver/2004/07/adventure-works/StoreSurvey\"><AnnualSales>800000</AnnualSales><AnnualRevenue>80000</AnnualRevenue><BankName>International Security</BankName><BusinessType>BM</BusinessType><YearOpened>1999</YearOpened><Specialty>Touring</Specialty><SquareFeet>21000</SquareFeet><Brands>3</Brands><Internet>T2</Internet><NumberEmployees>15</NumberEmployees></StoreSurvey></td><td>2d5ce5ad-8cfd-41ee-87de-767e09312450</td><td>2014-09-12</td></tr><tr><td>1040</td><td>Family Cycle Store</td><td>278</td><td><StoreSurvey xmlns=\"http://schemas.microsoft.com/sqlserver/2004/07/adventure-works/StoreSurvey\"><AnnualSales>800000</AnnualSales><AnnualRevenue>80000</AnnualRevenue><BankName>Guardian Bank</BankName><BusinessType>BM</BusinessType><YearOpened>1994</YearOpened><Specialty>Mountain</Specialty><SquareFeet>18000</SquareFeet><Brands>4+</Brands><Internet>DSL</Internet><NumberEmployees>16</NumberEmployees></StoreSurvey></td><td>75a4c312-100c-4f7e-ae2e-cc57ea12f51d</td><td>2014-09-12</td></tr><tr><td>1042</td><td>Popular Bike Lines</td><td>286</td><td><StoreSurvey xmlns=\"http://schemas.microsoft.com/sqlserver/2004/07/adventure-works/StoreSurvey\"><AnnualSales>800000</AnnualSales><AnnualRevenue>80000</AnnualRevenue><BankName>Primary International</BankName><BusinessType>BM</BusinessType><YearOpened>1987</YearOpened><Specialty>Touring</Specialty><SquareFeet>20000</SquareFeet><Brands>4+</Brands><Internet>T1</Internet><NumberEmployees>17</NumberEmployees></StoreSurvey></td><td>ed883c76-170d-4fb9-a277-295d39d3eaf9</td><td>2014-09-12</td></tr><tr><td>1044</td><td>Superb Sales and Repair</td><td>278</td><td><StoreSurvey xmlns=\"http://schemas.microsoft.com/sqlserver/2004/07/adventure-works/StoreSurvey\"><AnnualSales>800000</AnnualSales><AnnualRevenue>80000</AnnualRevenue><BankName>Reserve Security</BankName><BusinessType>BM</BusinessType><YearOpened>1997</YearOpened><Specialty>Road</Specialty><SquareFeet>19000</SquareFeet><Brands>3</Brands><Internet>DSL</Internet><NumberEmployees>18</NumberEmployees></StoreSurvey></td><td>82aaf249-d8a7-427c-91e3-c7d2688a9d57</td><td>2014-09-12</td></tr><tr><td>1046</td><td>Better Bike Shop</td><td>279</td><td><StoreSurvey xmlns=\"http://schemas.microsoft.com/sqlserver/2004/07/adventure-works/StoreSurvey\"><AnnualSales>800000</AnnualSales><AnnualRevenue>80000</AnnualRevenue><BankName>United Security</BankName><BusinessType>BM</BusinessType><YearOpened>1975</YearOpened><Specialty>Mountain</Specialty><SquareFeet>19000</SquareFeet><Brands>4+</Brands><Internet>DSL</Internet><NumberEmployees>19</NumberEmployees></StoreSurvey></td><td>c5516152-8d15-438f-87f3-e29517e462d9</td><td>2014-09-12</td></tr><tr><td>1048</td><td>Countryside Company</td><td>276</td><td><StoreSurvey xmlns=\"http://schemas.microsoft.com/sqlserver/2004/07/adventure-works/StoreSurvey\"><AnnualSales>1000000</AnnualSales><AnnualRevenue>100000</AnnualRevenue><BankName>International Bank</BankName><BusinessType>BM</BusinessType><YearOpened>2000</YearOpened><Specialty>Mountain</Specialty><SquareFeet>26000</SquareFeet><Brands>2</Brands><Internet>ISDN</Internet><NumberEmployees>20</NumberEmployees></StoreSurvey></td><td>a7c471a1-1176-4335-bc85-7e89523939dd</td><td>2014-09-12</td></tr><tr><td>1050</td><td>First Bike Store</td><td>277</td><td><StoreSurvey xmlns=\"http://schemas.microsoft.com/sqlserver/2004/07/adventure-works/StoreSurvey\"><AnnualSales>800000</AnnualSales><AnnualRevenue>80000</AnnualRevenue><BankName>Primary Bank &amp; Reserve</BankName><BusinessType>BM</BusinessType><YearOpened>2000</YearOpened><Specialty>Road</Specialty><SquareFeet>21000</SquareFeet><Brands>3</Brands><Internet>DSL</Internet><NumberEmployees>17</NumberEmployees></StoreSurvey></td><td>8967ec04-4782-47a0-bc0c-5fdece06b1b5</td><td>2014-09-12</td></tr><tr><td>1052</td><td>Traditional Department Stores</td><td>275</td><td><StoreSurvey xmlns=\"http://schemas.microsoft.com/sqlserver/2004/07/adventure-works/StoreSurvey\"><AnnualSales>800000</AnnualSales><AnnualRevenue>80000</AnnualRevenue><BankName>International Security</BankName><BusinessType>BM</BusinessType><YearOpened>1994</YearOpened><Specialty>Mountain</Specialty><SquareFeet>18000</SquareFeet><Brands>2</Brands><Internet>T1</Internet><NumberEmployees>14</NumberEmployees></StoreSurvey></td><td>177c4cfc-f9df-44b9-b78c-dd01fadb28d8</td><td>2014-09-12</td></tr><tr><td>1054</td><td>Eastside Cycle Shop</td><td>286</td><td><StoreSurvey xmlns=\"http://schemas.microsoft.com/sqlserver/2004/07/adventure-works/StoreSurvey\"><AnnualSales>800000</AnnualSales><AnnualRevenue>80000</AnnualRevenue><BankName>Guardian Bank</BankName><BusinessType>BM</BusinessType><YearOpened>1988</YearOpened><Specialty>Touring</Specialty><SquareFeet>21000</SquareFeet><Brands>2</Brands><Internet>T1</Internet><NumberEmployees>11</NumberEmployees></StoreSurvey></td><td>fe68dff4-1d4e-429e-b384-9c1db41a605e</td><td>2014-09-12</td></tr><tr><td>1056</td><td>General Department Stores</td><td>278</td><td><StoreSurvey xmlns=\"http://schemas.microsoft.com/sqlserver/2004/07/adventure-works/StoreSurvey\"><AnnualSales>300000</AnnualSales><AnnualRevenue>30000</AnnualRevenue><BankName>Primary International</BankName><BusinessType>BM</BusinessType><YearOpened>1982</YearOpened><Specialty>Mountain</Specialty><SquareFeet>11000</SquareFeet><Brands>3</Brands><Internet>DSL</Internet><NumberEmployees>8</NumberEmployees></StoreSurvey></td><td>1c035fdb-8781-4e4c-9c4e-9cb3ae7b45a9</td><td>2014-09-12</td></tr><tr><td>1058</td><td>Mass Market Bikes</td><td>286</td><td><StoreSurvey xmlns=\"http://schemas.microsoft.com/sqlserver/2004/07/adventure-works/StoreSurvey\"><AnnualSales>300000</AnnualSales><AnnualRevenue>30000</AnnualRevenue><BankName>Reserve Security</BankName><BusinessType>BM</BusinessType><YearOpened>1976</YearOpened><Specialty>Touring</Specialty><SquareFeet>7000</SquareFeet><Brands>AW</Brands><Internet>DSL</Internet><NumberEmployees>5</NumberEmployees></StoreSurvey></td><td>19e26b49-51b1-4094-ac2f-b325616f2e02</td><td>2014-09-12</td></tr><tr><td>1060</td><td>Operational Manufacturing</td><td>278</td><td><StoreSurvey xmlns=\"http://schemas.microsoft.com/sqlserver/2004/07/adventure-works/StoreSurvey\"><AnnualSales>300000</AnnualSales><AnnualRevenue>30000</AnnualRevenue><BankName>United Security</BankName><BusinessType>BM</BusinessType><YearOpened>1970</YearOpened><Specialty>Mountain</Specialty><SquareFeet>8000</SquareFeet><Brands>3</Brands><Internet>DSL</Internet><NumberEmployees>2</NumberEmployees></StoreSurvey></td><td>43fce0d5-7a1b-4316-8c1c-58b9acc57fa2</td><td>2014-09-12</td></tr><tr><td>1062</td><td>Online Bike Warehouse</td><td>282</td><td><StoreSurvey xmlns=\"http://schemas.microsoft.com/sqlserver/2004/07/adventure-works/StoreSurvey\"><AnnualSales>800000</AnnualSales><AnnualRevenue>80000</AnnualRevenue><BankName>Primary International</BankName><BusinessType>BM</BusinessType><YearOpened>1997</YearOpened><Specialty>Road</Specialty><SquareFeet>21000</SquareFeet><Brands>4+</Brands><Internet>ISDN</Internet><NumberEmployees>17</NumberEmployees></StoreSurvey></td><td>4322afff-bfb8-430f-894a-c94b2d2d73fe</td><td>2014-09-12</td></tr><tr><td>1064</td><td>Retread Tire Company</td><td>279</td><td><StoreSurvey xmlns=\"http://schemas.microsoft.com/sqlserver/2004/07/adventure-works/StoreSurvey\"><AnnualSales>800000</AnnualSales><AnnualRevenue>80000</AnnualRevenue><BankName>Reserve Security</BankName><BusinessType>BM</BusinessType><YearOpened>1975</YearOpened><Specialty>Road</Specialty><SquareFeet>20000</SquareFeet><Brands>2</Brands><Internet>T1</Internet><NumberEmployees>18</NumberEmployees></StoreSurvey></td><td>a6aebd0a-7c1f-4792-bc55-d001fe04b4e1</td><td>2014-09-12</td></tr><tr><td>1066</td><td>Small Bike Shop</td><td>281</td><td><StoreSurvey xmlns=\"http://schemas.microsoft.com/sqlserver/2004/07/adventure-works/StoreSurvey\"><AnnualSales>800000</AnnualSales><AnnualRevenue>80000</AnnualRevenue><BankName>United Security</BankName><BusinessType>BM</BusinessType><YearOpened>2000</YearOpened><Specialty>Mountain</Specialty><SquareFeet>23000</SquareFeet><Brands>4+</Brands><Internet>T1</Internet><NumberEmployees>19</NumberEmployees></StoreSurvey></td><td>1b5c94c6-7689-4487-9929-ad16b7e19f75</td><td>2014-09-12</td></tr><tr><td>1068</td><td>Superior Hardware Distributors</td><td>283</td><td><StoreSurvey xmlns=\"http://schemas.microsoft.com/sqlserver/2004/07/adventure-works/StoreSurvey\"><AnnualSales>1000000</AnnualSales><AnnualRevenue>100000</AnnualRevenue><BankName>International Bank</BankName><BusinessType>BM</BusinessType><YearOpened>2000</YearOpened><Specialty>Mountain</Specialty><SquareFeet>25000</SquareFeet><Brands>2</Brands><Internet>T1</Internet><NumberEmployees>20</NumberEmployees></StoreSurvey></td><td>c8c746de-fc58-4c58-abc1-31e1375be48d</td><td>2014-09-12</td></tr><tr><td>1070</td><td>Fitness Sport Boutique</td><td>275</td><td><StoreSurvey xmlns=\"http://schemas.microsoft.com/sqlserver/2004/07/adventure-works/StoreSurvey\"><AnnualSales>800000</AnnualSales><AnnualRevenue>80000</AnnualRevenue><BankName>Primary Bank &amp; Reserve</BankName><BusinessType>BM</BusinessType><YearOpened>1994</YearOpened><Specialty>Mountain</Specialty><SquareFeet>23000</SquareFeet><Brands>2</Brands><Internet>DSL</Internet><NumberEmployees>18</NumberEmployees></StoreSurvey></td><td>954f80aa-5bd2-41a1-ab34-bb402aac37d9</td><td>2014-09-12</td></tr><tr><td>1072</td><td>Producer Goods Clearinghouse</td><td>288</td><td><StoreSurvey xmlns=\"http://schemas.microsoft.com/sqlserver/2004/07/adventure-works/StoreSurvey\"><AnnualSales>800000</AnnualSales><AnnualRevenue>80000</AnnualRevenue><BankName>International Security</BankName><BusinessType>BM</BusinessType><YearOpened>1988</YearOpened><Specialty>Road</Specialty><SquareFeet>22000</SquareFeet><Brands>4+</Brands><Internet>T1</Internet><NumberEmployees>16</NumberEmployees></StoreSurvey></td><td>9567e707-7fb8-40b2-a57a-332c6b2e8b1e</td><td>2014-09-12</td></tr><tr><td>1074</td><td>Recreation Systems</td><td>275</td><td><StoreSurvey xmlns=\"http://schemas.microsoft.com/sqlserver/2004/07/adventure-works/StoreSurvey\"><AnnualSales>800000</AnnualSales><AnnualRevenue>80000</AnnualRevenue><BankName>Guardian Bank</BankName><BusinessType>BM</BusinessType><YearOpened>1982</YearOpened><Specialty>Road</Specialty><SquareFeet>20000</SquareFeet><Brands>4+</Brands><Internet>DSL</Internet><NumberEmployees>14</NumberEmployees></StoreSurvey></td><td>cbd5d92a-3cff-40b0-9214-b0d337be2a75</td><td>2014-09-12</td></tr><tr><td>1076</td><td>Rustic Bike Store</td><td>288</td><td><StoreSurvey xmlns=\"http://schemas.microsoft.com/sqlserver/2004/07/adventure-works/StoreSurvey\"><AnnualSales>800000</AnnualSales><AnnualRevenue>80000</AnnualRevenue><BankName>Primary International</BankName><BusinessType>BM</BusinessType><YearOpened>1976</YearOpened><Specialty>Touring</Specialty><SquareFeet>19000</SquareFeet><Brands>4+</Brands><Internet>DSL</Internet><NumberEmployees>12</NumberEmployees></StoreSurvey></td><td>04ae6eb5-bea3-419f-96d6-71e6551d1993</td><td>2014-09-12</td></tr><tr><td>1078</td><td>Eastside Parts Shop</td><td>282</td><td><StoreSurvey xmlns=\"http://schemas.microsoft.com/sqlserver/2004/07/adventure-works/StoreSurvey\"><AnnualSales>800000</AnnualSales><AnnualRevenue>80000</AnnualRevenue><BankName>Reserve Security</BankName><BusinessType>BM</BusinessType><YearOpened>1970</YearOpened><Specialty>Touring</Specialty><SquareFeet>17000</SquareFeet><Brands>AW</Brands><Internet>DSL</Internet><NumberEmployees>10</NumberEmployees></StoreSurvey></td><td>3298c70d-bc74-430a-9549-d292191c3f16</td><td>2014-09-12</td></tr><tr><td>1080</td><td>Exchange Parts Inc.</td><td>279</td><td><StoreSurvey xmlns=\"http://schemas.microsoft.com/sqlserver/2004/07/adventure-works/StoreSurvey\"><AnnualSales>300000</AnnualSales><AnnualRevenue>30000</AnnualRevenue><BankName>United Security</BankName><BusinessType>BM</BusinessType><YearOpened>1975</YearOpened><Specialty>Touring</Specialty><SquareFeet>9000</SquareFeet><Brands>4+</Brands><Internet>T2</Internet><NumberEmployees>8</NumberEmployees></StoreSurvey></td><td>0d350025-a81c-4aec-a713-e536e2f66ac8</td><td>2014-09-12</td></tr><tr><td>1082</td><td>First Cycle Store</td><td>281</td><td><StoreSurvey xmlns=\"http://schemas.microsoft.com/sqlserver/2004/07/adventure-works/StoreSurvey\"><AnnualSales>300000</AnnualSales><AnnualRevenue>30000</AnnualRevenue><BankName>International Bank</BankName><BusinessType>BM</BusinessType><YearOpened>1970</YearOpened><Specialty>Road</Specialty><SquareFeet>9000</SquareFeet><Brands>AW</Brands><Internet>T2</Internet><NumberEmployees>6</NumberEmployees></StoreSurvey></td><td>4c5f9b1e-83e9-4067-a5f0-2888bdb08d29</td><td>2014-09-12</td></tr><tr><td>1084</td><td>Running and Cycling Gear</td><td>283</td><td><StoreSurvey xmlns=\"http://schemas.microsoft.com/sqlserver/2004/07/adventure-works/StoreSurvey\"><AnnualSales>300000</AnnualSales><AnnualRevenue>30000</AnnualRevenue><BankName>Primary Bank &amp; Reserve</BankName><BusinessType>BM</BusinessType><YearOpened>1978</YearOpened><Specialty>Touring</Specialty><SquareFeet>7000</SquareFeet><Brands>3</Brands><Internet>T2</Internet><NumberEmployees>4</NumberEmployees></StoreSurvey></td><td>40de80d3-d91f-43a0-b962-a2bd4fb0c795</td><td>2014-09-12</td></tr><tr><td>1086</td><td>Seventh Bike Store</td><td>275</td><td><StoreSurvey xmlns=\"http://schemas.microsoft.com/sqlserver/2004/07/adventure-works/StoreSurvey\"><AnnualSales>300000</AnnualSales><AnnualRevenue>30000</AnnualRevenue><BankName>International Security</BankName><BusinessType>BM</BusinessType><YearOpened>1973</YearOpened><Specialty>Road</Specialty><SquareFeet>10000</SquareFeet><Brands>AW</Brands><Internet>DSL</Internet><NumberEmployees>2</NumberEmployees></StoreSurvey></td><td>89522a3f-a2dd-4eae-9666-542b61e42324</td><td>2014-09-12</td></tr><tr><td>1088</td><td>Fast Services</td><td>288</td><td><StoreSurvey xmlns=\"http://schemas.microsoft.com/sqlserver/2004/07/adventure-works/StoreSurvey\"><AnnualSales>300000</AnnualSales><AnnualRevenue>30000</AnnualRevenue><BankName>Guardian Bank</BankName><BusinessType>BM</BusinessType><YearOpened>1981</YearOpened><Specialty>Road</Specialty><SquareFeet>9000</SquareFeet><Brands>3</Brands><Internet>DSL</Internet><NumberEmployees>3</NumberEmployees></StoreSurvey></td><td>cd687ad1-a0a3-4ccf-96b3-649b975417b0</td><td>2014-09-12</td></tr><tr><td>1090</td><td>General Associates</td><td>279</td><td><StoreSurvey xmlns=\"http://schemas.microsoft.com/sqlserver/2004/07/adventure-works/StoreSurvey\"><AnnualSales>300000</AnnualSales><AnnualRevenue>30000</AnnualRevenue><BankName>Primary International</BankName><BusinessType>BM</BusinessType><YearOpened>1976</YearOpened><Specialty>Road</Specialty><SquareFeet>9000</SquareFeet><Brands>2</Brands><Internet>T1</Internet><NumberEmployees>4</NumberEmployees></StoreSurvey></td><td>97137436-9322-45a0-9eba-19b7f5c4fe6c</td><td>2014-09-12</td></tr><tr><td>1092</td><td>Good Toys</td><td>276</td><td><StoreSurvey xmlns=\"http://schemas.microsoft.com/sqlserver/2004/07/adventure-works/StoreSurvey\"><AnnualSales>300000</AnnualSales><AnnualRevenue>30000</AnnualRevenue><BankName>Reserve Security</BankName><BusinessType>BM</BusinessType><YearOpened>1984</YearOpened><Specialty>Road</Specialty><SquareFeet>9000</SquareFeet><Brands>3</Brands><Internet>T1</Internet><NumberEmployees>5</NumberEmployees></StoreSurvey></td><td>045e0eb6-756c-48fe-b923-18e892dd964a</td><td>2014-09-12</td></tr><tr><td>1094</td><td>Little Bicycle Supply Shop</td><td>277</td><td><StoreSurvey xmlns=\"http://schemas.microsoft.com/sqlserver/2004/07/adventure-works/StoreSurvey\"><AnnualSales>300000</AnnualSales><AnnualRevenue>30000</AnnualRevenue><BankName>United Security</BankName><BusinessType>BM</BusinessType><YearOpened>1979</YearOpened><Specialty>Road</Specialty><SquareFeet>11000</SquareFeet><Brands>4+</Brands><Internet>DSL</Internet><NumberEmployees>6</NumberEmployees></StoreSurvey></td><td>35c9af15-98e7-4ccb-9edc-ef873ba38dc6</td><td>2014-09-12</td></tr><tr><td>1096</td><td>Retail Toy Store</td><td>279</td><td><StoreSurvey xmlns=\"http://schemas.microsoft.com/sqlserver/2004/07/adventure-works/StoreSurvey\"><AnnualSales>300000</AnnualSales><AnnualRevenue>30000</AnnualRevenue><BankName>International Bank</BankName><BusinessType>BM</BusinessType><YearOpened>1987</YearOpened><Specialty>Road</Specialty><SquareFeet>8000</SquareFeet><Brands>4+</Brands><Internet>T1</Internet><NumberEmployees>7</NumberEmployees></StoreSurvey></td><td>01351a38-0674-4191-918d-3c10b5932e8a</td><td>2014-09-12</td></tr><tr><td>1098</td><td>Strenuous Exercise Shop</td><td>276</td><td><StoreSurvey xmlns=\"http://schemas.microsoft.com/sqlserver/2004/07/adventure-works/StoreSurvey\"><AnnualSales>300000</AnnualSales><AnnualRevenue>30000</AnnualRevenue><BankName>Primary Bank &amp; Reserve</BankName><BusinessType>BM</BusinessType><YearOpened>1982</YearOpened><Specialty>Mountain</Specialty><SquareFeet>7000</SquareFeet><Brands>4+</Brands><Internet>T2</Internet><NumberEmployees>8</NumberEmployees></StoreSurvey></td><td>1489097d-7481-405d-bc93-4274cb5e6a82</td><td>2014-09-12</td></tr><tr><td>1100</td><td>All Seasons Sports Supply</td><td>277</td><td><StoreSurvey xmlns=\"http://schemas.microsoft.com/sqlserver/2004/07/adventure-works/StoreSurvey\"><AnnualSales>300000</AnnualSales><AnnualRevenue>30000</AnnualRevenue><BankName>International Security</BankName><BusinessType>BM</BusinessType><YearOpened>1990</YearOpened><Specialty>Touring</Specialty><SquareFeet>10000</SquareFeet><Brands>AW</Brands><Internet>DSL</Internet><NumberEmployees>9</NumberEmployees></StoreSurvey></td><td>1ce3c3b7-c33d-4196-95db-4e8fcfda715f</td><td>2014-09-12</td></tr><tr><td>1102</td><td>Leisure Clearing House</td><td>289</td><td><StoreSurvey xmlns=\"http://schemas.microsoft.com/sqlserver/2004/07/adventure-works/StoreSurvey\"><AnnualSales>800000</AnnualSales><AnnualRevenue>80000</AnnualRevenue><BankName>Guardian Bank</BankName><BusinessType>BM</BusinessType><YearOpened>1970</YearOpened><Specialty>Road</Specialty><SquareFeet>20000</SquareFeet><Brands>2</Brands><Internet>DSL</Internet><NumberEmployees>10</NumberEmployees></StoreSurvey></td><td>ced2ba1e-25a2-43b2-8bbb-c5cc4fb0b9fd</td><td>2014-09-12</td></tr><tr><td>1104</td><td>Outdoor Toy Store</td><td>290</td><td><StoreSurvey xmlns=\"http://schemas.microsoft.com/sqlserver/2004/07/adventure-works/StoreSurvey\"><AnnualSales>300000</AnnualSales><AnnualRevenue>30000</AnnualRevenue><BankName>Primary International</BankName><BusinessType>BM</BusinessType><YearOpened>1975</YearOpened><Specialty>Mountain</Specialty><SquareFeet>8000</SquareFeet><Brands>3</Brands><Internet>ISDN</Internet><NumberEmployees>8</NumberEmployees></StoreSurvey></td><td>5ed195d0-4019-4b98-a276-cea761d6e933</td><td>2014-09-12</td></tr><tr><td>1106</td><td>The Commissary</td><td>282</td><td><StoreSurvey xmlns=\"http://schemas.microsoft.com/sqlserver/2004/07/adventure-works/StoreSurvey\"><AnnualSales>300000</AnnualSales><AnnualRevenue>30000</AnnualRevenue><BankName>Reserve Security</BankName><BusinessType>BM</BusinessType><YearOpened>1970</YearOpened><Specialty>Road</Specialty><SquareFeet>9000</SquareFeet><Brands>3</Brands><Internet>DSL</Internet><NumberEmployees>6</NumberEmployees></StoreSurvey></td><td>85ba2ebe-8759-453c-9f7d-8f0b955577be</td><td>2014-09-12</td></tr><tr><td>1108</td><td>Affordable Sports Equipment</td><td>281</td><td><StoreSurvey xmlns=\"http://schemas.microsoft.com/sqlserver/2004/07/adventure-works/StoreSurvey\"><AnnualSales>300000</AnnualSales><AnnualRevenue>30000</AnnualRevenue><BankName>United Security</BankName><BusinessType>BM</BusinessType><YearOpened>1978</YearOpened><Specialty>Road</Specialty><SquareFeet>8000</SquareFeet><Brands>AW</Brands><Internet>DSL</Internet><NumberEmployees>4</NumberEmployees></StoreSurvey></td><td>09b525a2-191f-4431-b202-835c65ac0ea7</td><td>2014-09-12</td></tr><tr><td>1110</td><td>Local Sales and Rental</td><td>277</td><td><StoreSurvey xmlns=\"http://schemas.microsoft.com/sqlserver/2004/07/adventure-works/StoreSurvey\"><AnnualSales>300000</AnnualSales><AnnualRevenue>30000</AnnualRevenue><BankName>International Bank</BankName><BusinessType>BM</BusinessType><YearOpened>1973</YearOpened><Specialty>Touring</Specialty><SquareFeet>10000</SquareFeet><Brands>2</Brands><Internet>DSL</Internet><NumberEmployees>2</NumberEmployees></StoreSurvey></td><td>07833647-ba03-4d2a-ae63-92fd82fc6526</td><td>2014-09-12</td></tr><tr><td>1112</td><td>Economy Center</td><td>282</td><td><StoreSurvey xmlns=\"http://schemas.microsoft.com/sqlserver/2004/07/adventure-works/StoreSurvey\"><AnnualSales>1500000</AnnualSales><AnnualRevenue>150000</AnnualRevenue><BankName>International Bank</BankName><BusinessType>BS</BusinessType><YearOpened>1998</YearOpened><Specialty>Mountain</Specialty><SquareFeet>35000</SquareFeet><Brands>4+</Brands><Internet>T2</Internet><NumberEmployees>31</NumberEmployees></StoreSurvey></td><td>def1343e-ca6a-4577-ace2-3f644e2881ba</td><td>2014-09-12</td></tr><tr><td>1114</td><td>Community Department Stores</td><td>290</td><td><StoreSurvey xmlns=\"http://schemas.microsoft.com/sqlserver/2004/07/adventure-works/StoreSurvey\"><AnnualSales>1500000</AnnualSales><AnnualRevenue>150000</AnnualRevenue><BankName>United Security</BankName><BusinessType>BS</BusinessType><YearOpened>1983</YearOpened><Specialty>Mountain</Specialty><SquareFeet>36000</SquareFeet><Brands>3</Brands><Internet>T2</Internet><NumberEmployees>34</NumberEmployees></StoreSurvey></td><td>c242eab7-79f4-4e3c-a7db-48ef7f66753e</td><td>2014-09-12</td></tr><tr><td>1116</td><td>Area Sheet Metal Supply</td><td>289</td><td><StoreSurvey xmlns=\"http://schemas.microsoft.com/sqlserver/2004/07/adventure-works/StoreSurvey\"><AnnualSales>1500000</AnnualSales><AnnualRevenue>150000</AnnualRevenue><BankName>Reserve Security</BankName><BusinessType>BS</BusinessType><YearOpened>1995</YearOpened><Specialty>Road</Specialty><SquareFeet>36000</SquareFeet><Brands>4+</Brands><Internet>T2</Internet><NumberEmployees>37</NumberEmployees></StoreSurvey></td><td>0feca845-86db-4048-911a-1c97ee5e3e2a</td><td>2014-09-12</td></tr><tr><td>1118</td><td>Synthetic Materials Manufacturing</td><td>280</td><td><StoreSurvey xmlns=\"http://schemas.microsoft.com/sqlserver/2004/07/adventure-works/StoreSurvey\"><AnnualSales>1500000</AnnualSales><AnnualRevenue>150000</AnnualRevenue><BankName>Primary International</BankName><BusinessType>BS</BusinessType><YearOpened>1995</YearOpened><Specialty>Road</Specialty><SquareFeet>39000</SquareFeet><Brands>2</Brands><Internet>DSL</Internet><NumberEmployees>40</NumberEmployees></StoreSurvey></td><td>634a228b-5268-4789-a687-182151058d39</td><td>2014-09-12</td></tr><tr><td>1120</td><td>Rural Sales and Service</td><td>277</td><td><StoreSurvey xmlns=\"http://schemas.microsoft.com/sqlserver/2004/07/adventure-works/StoreSurvey\"><AnnualSales>1500000</AnnualSales><AnnualRevenue>150000</AnnualRevenue><BankName>Guardian Bank</BankName><BusinessType>BS</BusinessType><YearOpened>1992</YearOpened><Specialty>Road</Specialty><SquareFeet>37000</SquareFeet><Brands>3</Brands><Internet>DSL</Internet><NumberEmployees>43</NumberEmployees></StoreSurvey></td><td>3874be34-898f-424c-babb-e6929d6db0f8</td><td>2014-09-12</td></tr><tr><td>1122</td><td>Tubeless Tire Company</td><td>289</td><td><StoreSurvey xmlns=\"http://schemas.microsoft.com/sqlserver/2004/07/adventure-works/StoreSurvey\"><AnnualSales>3000000</AnnualSales><AnnualRevenue>300000</AnnualRevenue><BankName>International Bank</BankName><BusinessType>OS</BusinessType><YearOpened>1980</YearOpened><Specialty>Touring</Specialty><SquareFeet>75000</SquareFeet><Brands>4+</Brands><Internet>DSL</Internet><NumberEmployees>89</NumberEmployees></StoreSurvey></td><td>c4183bac-64c2-49cf-a308-fda09f500eef</td><td>2014-09-12</td></tr><tr><td>1124</td><td>Tires and Tubes</td><td>280</td><td><StoreSurvey xmlns=\"http://schemas.microsoft.com/sqlserver/2004/07/adventure-works/StoreSurvey\"><AnnualSales>3000000</AnnualSales><AnnualRevenue>300000</AnnualRevenue><BankName>United Security</BankName><BusinessType>OS</BusinessType><YearOpened>1972</YearOpened><Specialty>Mountain</Specialty><SquareFeet>79000</SquareFeet><Brands>4+</Brands><Internet>T2</Internet><NumberEmployees>90</NumberEmployees></StoreSurvey></td><td>88ceecee-7ad3-42e7-9f75-0f5a397083ae</td><td>2014-09-12</td></tr><tr><td>1126</td><td>Hardware Components</td><td>277</td><td><StoreSurvey xmlns=\"http://schemas.microsoft.com/sqlserver/2004/07/adventure-works/StoreSurvey\"><AnnualSales>3000000</AnnualSales><AnnualRevenue>300000</AnnualRevenue><BankName>Reserve Security</BankName><BusinessType>OS</BusinessType><YearOpened>1977</YearOpened><Specialty>Mountain</Specialty><SquareFeet>75000</SquareFeet><Brands>2</Brands><Internet>T1</Internet><NumberEmployees>91</NumberEmployees></StoreSurvey></td><td>f1587a33-543d-4cba-950b-e97e0bfe90df</td><td>2014-09-12</td></tr><tr><td>1128</td><td>Retail Sporting Goods</td><td>281</td><td><StoreSurvey xmlns=\"http://schemas.microsoft.com/sqlserver/2004/07/adventure-works/StoreSurvey\"><AnnualSales>3000000</AnnualSales><AnnualRevenue>300000</AnnualRevenue><BankName>Primary International</BankName><BusinessType>OS</BusinessType><YearOpened>1987</YearOpened><Specialty>Road</Specialty><SquareFeet>78000</SquareFeet><Brands>4+</Brands><Internet>DSL</Internet><NumberEmployees>92</NumberEmployees></StoreSurvey></td><td>09a0d120-26d6-45ff-87a7-d5d5cf9a0b71</td><td>2014-09-12</td></tr><tr><td>1130</td><td>Efficient Cycling</td><td>282</td><td><StoreSurvey xmlns=\"http://schemas.microsoft.com/sqlserver/2004/07/adventure-works/StoreSurvey\"><AnnualSales>3000000</AnnualSales><AnnualRevenue>300000</AnnualRevenue><BankName>Guardian Bank</BankName><BusinessType>OS</BusinessType><YearOpened>1974</YearOpened><Specialty>Touring</Specialty><SquareFeet>77000</SquareFeet><Brands>3</Brands><Internet>DSL</Internet><NumberEmployees>93</NumberEmployees></StoreSurvey></td><td>de0aa7ae-3063-40f5-b0c1-9112b1707a99</td><td>2014-09-12</td></tr><tr><td>1132</td><td>General Industries</td><td>282</td><td><StoreSurvey xmlns=\"http://schemas.microsoft.com/sqlserver/2004/07/adventure-works/StoreSurvey\"><AnnualSales>1500000</AnnualSales><AnnualRevenue>150000</AnnualRevenue><BankName>Primary International</BankName><BusinessType>BS</BusinessType><YearOpened>1994</YearOpened><Specialty>Road</Specialty><SquareFeet>42000</SquareFeet><Brands>4+</Brands><Internet>T1</Internet><NumberEmployees>48</NumberEmployees></StoreSurvey></td><td>b51ee310-8aad-4df2-a5cb-5c452b68bbfe</td><td>2014-09-12</td></tr><tr><td>1134</td><td>Highway Bike Shop</td><td>281</td><td><StoreSurvey xmlns=\"http://schemas.microsoft.com/sqlserver/2004/07/adventure-works/StoreSurvey\"><AnnualSales>1500000</AnnualSales><AnnualRevenue>150000</AnnualRevenue><BankName>Reserve Security</BankName><BusinessType>BS</BusinessType><YearOpened>1989</YearOpened><Specialty>Road</Specialty><SquareFeet>40000</SquareFeet><Brands>2</Brands><Internet>DSL</Internet><NumberEmployees>49</NumberEmployees></StoreSurvey></td><td>c4e0ba14-3a94-4de8-bfa6-cc77754ebee3</td><td>2014-09-12</td></tr><tr><td>1136</td><td>Rental Bikes</td><td>277</td><td><StoreSurvey xmlns=\"http://schemas.microsoft.com/sqlserver/2004/07/adventure-works/StoreSurvey\"><AnnualSales>1500000</AnnualSales><AnnualRevenue>150000</AnnualRevenue><BankName>United Security</BankName><BusinessType>BS</BusinessType><YearOpened>1997</YearOpened><Specialty>Road</Specialty><SquareFeet>40000</SquareFeet><Brands>4+</Brands><Internet>T1</Internet><NumberEmployees>46</NumberEmployees></StoreSurvey></td><td>995a09e7-7e7f-4b24-b493-fb70d5b83828</td><td>2014-09-12</td></tr><tr><td>1138</td><td>Roving Sports</td><td>280</td><td><StoreSurvey xmlns=\"http://schemas.microsoft.com/sqlserver/2004/07/adventure-works/StoreSurvey\"><AnnualSales>1500000</AnnualSales><AnnualRevenue>150000</AnnualRevenue><BankName>International Bank</BankName><BusinessType>BS</BusinessType><YearOpened>1992</YearOpened><Specialty>Road</Specialty><SquareFeet>41000</SquareFeet><Brands>3</Brands><Internet>ISDN</Internet><NumberEmployees>43</NumberEmployees></StoreSurvey></td><td>0e845a5c-66b0-4979-b65c-5887a58614a6</td><td>2014-09-12</td></tr><tr><td>1140</td><td>Express Bike Services</td><td>289</td><td><StoreSurvey xmlns=\"http://schemas.microsoft.com/sqlserver/2004/07/adventure-works/StoreSurvey\"><AnnualSales>1500000</AnnualSales><AnnualRevenue>150000</AnnualRevenue><BankName>Primary Bank &amp; Reserve</BankName><BusinessType>BS</BusinessType><YearOpened>1995</YearOpened><Specialty>Mountain</Specialty><SquareFeet>38000</SquareFeet><Brands>4+</Brands><Internet>DSL</Internet><NumberEmployees>40</NumberEmployees></StoreSurvey></td><td>eb0f662c-8d87-454e-abad-0cbbb847c171</td><td>2014-09-12</td></tr><tr><td>1142</td><td>Major Amusement Company</td><td>290</td><td><StoreSurvey xmlns=\"http://schemas.microsoft.com/sqlserver/2004/07/adventure-works/StoreSurvey\"><AnnualSales>1500000</AnnualSales><AnnualRevenue>150000</AnnualRevenue><BankName>International Security</BankName><BusinessType>BS</BusinessType><YearOpened>1995</YearOpened><Specialty>Mountain</Specialty><SquareFeet>36000</SquareFeet><Brands>4+</Brands><Internet>DSL</Internet><NumberEmployees>37</NumberEmployees></StoreSurvey></td><td>a37f70d2-4aa8-4c29-a3f4-00d238dd9628</td><td>2014-09-12</td></tr><tr><td>1144</td><td>Retail Discount Store</td><td>282</td><td><StoreSurvey xmlns=\"http://schemas.microsoft.com/sqlserver/2004/07/adventure-works/StoreSurvey\"><AnnualSales>1500000</AnnualSales><AnnualRevenue>150000</AnnualRevenue><BankName>Guardian Bank</BankName><BusinessType>BS</BusinessType><YearOpened>1983</YearOpened><Specialty>Road</Specialty><SquareFeet>37000</SquareFeet><Brands>3</Brands><Internet>T1</Internet><NumberEmployees>34</NumberEmployees></StoreSurvey></td><td>841949ed-fe89-4fc6-9e24-605adf88b9cd</td><td>2014-09-12</td></tr><tr><td>1146</td><td>Vale Riding Supplies</td><td>281</td><td><StoreSurvey xmlns=\"http://schemas.microsoft.com/sqlserver/2004/07/adventure-works/StoreSurvey\"><AnnualSales>1500000</AnnualSales><AnnualRevenue>150000</AnnualRevenue><BankName>Primary International</BankName><BusinessType>BS</BusinessType><YearOpened>1998</YearOpened><Specialty>Touring</Specialty><SquareFeet>37000</SquareFeet><Brands>4+</Brands><Internet>T2</Internet><NumberEmployees>31</NumberEmployees></StoreSurvey></td><td>8b93dba7-7742-42ab-81c1-91ffc3b713cb</td><td>2014-09-12</td></tr><tr><td>1148</td><td>A Great Bicycle Company</td><td>277</td><td><StoreSurvey xmlns=\"http://schemas.microsoft.com/sqlserver/2004/07/adventure-works/StoreSurvey\"><AnnualSales>1000000</AnnualSales><AnnualRevenue>100000</AnnualRevenue><BankName>Reserve Security</BankName><BusinessType>BS</BusinessType><YearOpened>1971</YearOpened><Specialty>Road</Specialty><SquareFeet>28000</SquareFeet><Brands>3</Brands><Internet>T2</Internet><NumberEmployees>28</NumberEmployees></StoreSurvey></td><td>68fc27ad-2ed1-4f61-a068-0aa3debd9931</td><td>2014-09-12</td></tr><tr><td>1150</td><td>Certified Bicycle Supply</td><td>280</td><td><StoreSurvey xmlns=\"http://schemas.microsoft.com/sqlserver/2004/07/adventure-works/StoreSurvey\"><AnnualSales>1000000</AnnualSales><AnnualRevenue>100000</AnnualRevenue><BankName>United Security</BankName><BusinessType>BS</BusinessType><YearOpened>2001</YearOpened><Specialty>Road</Specialty><SquareFeet>24000</SquareFeet><Brands>2</Brands><Internet>ISDN</Internet><NumberEmployees>25</NumberEmployees></StoreSurvey></td><td>2656a532-5879-4092-91eb-e7a2d2cd2ee6</td><td>2014-09-12</td></tr><tr><td>1152</td><td>Exceptional Cycle Services</td><td>289</td><td><StoreSurvey xmlns=\"http://schemas.microsoft.com/sqlserver/2004/07/adventure-works/StoreSurvey\"><AnnualSales>1000000</AnnualSales><AnnualRevenue>100000</AnnualRevenue><BankName>International Bank</BankName><BusinessType>BS</BusinessType><YearOpened>1996</YearOpened><Specialty>Touring</Specialty><SquareFeet>27000</SquareFeet><Brands>4+</Brands><Internet>DSL</Internet><NumberEmployees>22</NumberEmployees></StoreSurvey></td><td>4ccc7825-4c14-4649-b91f-8b5656c708f0</td><td>2014-09-12</td></tr><tr><td>1154</td><td>Instant Cycle Store</td><td>290</td><td><StoreSurvey xmlns=\"http://schemas.microsoft.com/sqlserver/2004/07/adventure-works/StoreSurvey\"><AnnualSales>800000</AnnualSales><AnnualRevenue>80000</AnnualRevenue><BankName>Primary Bank &amp; Reserve</BankName><BusinessType>BS</BusinessType><YearOpened>1990</YearOpened><Specialty>Road</Specialty><SquareFeet>23000</SquareFeet><Brands>4+</Brands><Internet>T1</Internet><NumberEmployees>19</NumberEmployees></StoreSurvey></td><td>b54785a0-100d-4912-86e8-847f736a6ba5</td><td>2014-09-12</td></tr><tr><td>1156</td><td>Leisure Activities</td><td>282</td><td><StoreSurvey xmlns=\"http://schemas.microsoft.com/sqlserver/2004/07/adventure-works/StoreSurvey\"><AnnualSales>800000</AnnualSales><AnnualRevenue>80000</AnnualRevenue><BankName>International Security</BankName><BusinessType>BS</BusinessType><YearOpened>1984</YearOpened><Specialty>Mountain</Specialty><SquareFeet>22000</SquareFeet><Brands>4+</Brands><Internet>DSL</Internet><NumberEmployees>16</NumberEmployees></StoreSurvey></td><td>5500dc18-da7b-4107-a9c0-0dd8cc47faad</td><td>2014-09-12</td></tr><tr><td>1158</td><td>Paints and Solvents Company</td><td>281</td><td><StoreSurvey xmlns=\"http://schemas.microsoft.com/sqlserver/2004/07/adventure-works/StoreSurvey\"><AnnualSales>800000</AnnualSales><AnnualRevenue>80000</AnnualRevenue><BankName>Guardian Bank</BankName><BusinessType>BS</BusinessType><YearOpened>1978</YearOpened><Specialty>Touring</Specialty><SquareFeet>18000</SquareFeet><Brands>3</Brands><Internet>T1</Internet><NumberEmployees>13</NumberEmployees></StoreSurvey></td><td>ad164fae-f4f6-4c0f-852e-889ee6280b41</td><td>2014-09-12</td></tr><tr><td>1160</td><td>West Wind Distributors</td><td>288</td><td><StoreSurvey xmlns=\"http://schemas.microsoft.com/sqlserver/2004/07/adventure-works/StoreSurvey\"><AnnualSales>1000000</AnnualSales><AnnualRevenue>100000</AnnualRevenue><BankName>International Bank</BankName><BusinessType>BS</BusinessType><YearOpened>2001</YearOpened><Specialty>Touring</Specialty><SquareFeet>27000</SquareFeet><Brands>3</Brands><Internet>T1</Internet><NumberEmployees>29</NumberEmployees></StoreSurvey></td><td>4fe6e559-7339-4043-92d9-635f2f3c00b0</td><td>2014-09-12</td></tr><tr><td>1162</td><td>Bikes for Kids and Adults</td><td>282</td><td><StoreSurvey xmlns=\"http://schemas.microsoft.com/sqlserver/2004/07/adventure-works/StoreSurvey\"><AnnualSales>1500000</AnnualSales><AnnualRevenue>150000</AnnualRevenue><BankName>Primary Bank &amp; Reserve</BankName><BusinessType>BS</BusinessType><YearOpened>1996</YearOpened><Specialty>Mountain</Specialty><SquareFeet>36000</SquareFeet><Brands>4+</Brands><Internet>DSL</Internet><NumberEmployees>30</NumberEmployees></StoreSurvey></td><td>dc41a5cf-fe94-47a2-8402-c3072a55f1e8</td><td>2014-09-12</td></tr><tr><td>1164</td><td>Consolidated Sales</td><td>279</td><td><StoreSurvey xmlns=\"http://schemas.microsoft.com/sqlserver/2004/07/adventure-works/StoreSurvey\"><AnnualSales>1500000</AnnualSales><AnnualRevenue>150000</AnnualRevenue><BankName>International Security</BankName><BusinessType>BS</BusinessType><YearOpened>1990</YearOpened><Specialty>Mountain</Specialty><SquareFeet>38000</SquareFeet><Brands>3</Brands><Internet>DSL</Internet><NumberEmployees>31</NumberEmployees></StoreSurvey></td><td>740d720c-e93a-47bd-922b-b6db87ba5452</td><td>2014-09-12</td></tr><tr><td>1166</td><td>Home Town Bike Store</td><td>278</td><td><StoreSurvey xmlns=\"http://schemas.microsoft.com/sqlserver/2004/07/adventure-works/StoreSurvey\"><AnnualSales>800000</AnnualSales><AnnualRevenue>80000</AnnualRevenue><BankName>United Security</BankName><BusinessType>BM</BusinessType><YearOpened>1988</YearOpened><Specialty>Touring</Specialty><SquareFeet>20000</SquareFeet><Brands>3</Brands><Internet>T2</Internet><NumberEmployees>11</NumberEmployees></StoreSurvey></td><td>af4ac9e0-fabe-4624-89ff-ea136723359a</td><td>2014-09-12</td></tr><tr><td>1168</td><td>Optimal Bikes</td><td>279</td><td><StoreSurvey xmlns=\"http://schemas.microsoft.com/sqlserver/2004/07/adventure-works/StoreSurvey\"><AnnualSales>300000</AnnualSales><AnnualRevenue>30000</AnnualRevenue><BankName>International Bank</BankName><BusinessType>BM</BusinessType><YearOpened>1982</YearOpened><Specialty>Road</Specialty><SquareFeet>10000</SquareFeet><Brands>2</Brands><Internet>T1</Internet><NumberEmployees>8</NumberEmployees></StoreSurvey></td><td>ee22cf36-5dc3-483e-885a-37ed28508a30</td><td>2014-09-12</td></tr><tr><td>1170</td><td>Sample Bike Store</td><td>276</td><td><StoreSurvey xmlns=\"http://schemas.microsoft.com/sqlserver/2004/07/adventure-works/StoreSurvey\"><AnnualSales>300000</AnnualSales><AnnualRevenue>30000</AnnualRevenue><BankName>Primary Bank &amp; Reserve</BankName><BusinessType>BM</BusinessType><YearOpened>1976</YearOpened><Specialty>Road</Specialty><SquareFeet>7000</SquareFeet><Brands>AW</Brands><Internet>DSL</Internet><NumberEmployees>5</NumberEmployees></StoreSurvey></td><td>b39bf496-3dd4-47af-9f26-5a7b44349127</td><td>2014-09-12</td></tr><tr><td>1172</td><td>Extras Sporting Goods</td><td>277</td><td><StoreSurvey xmlns=\"http://schemas.microsoft.com/sqlserver/2004/07/adventure-works/StoreSurvey\"><AnnualSales>300000</AnnualSales><AnnualRevenue>30000</AnnualRevenue><BankName>International Security</BankName><BusinessType>BM</BusinessType><YearOpened>1970</YearOpened><Specialty>Road</Specialty><SquareFeet>7000</SquareFeet><Brands>3</Brands><Internet>DSL</Internet><NumberEmployees>2</NumberEmployees></StoreSurvey></td><td>08c40323-b1c0-41de-978e-497b84513b5a</td><td>2014-09-12</td></tr><tr><td>1174</td><td>Sure & Reliable Sporting Goods</td><td>283</td><td><StoreSurvey xmlns=\"http://schemas.microsoft.com/sqlserver/2004/07/adventure-works/StoreSurvey\"><AnnualSales>800000</AnnualSales><AnnualRevenue>80000</AnnualRevenue><BankName>International Bank</BankName><BusinessType>BM</BusinessType><YearOpened>1997</YearOpened><Specialty>Road</Specialty><SquareFeet>22000</SquareFeet><Brands>4+</Brands><Internet>DSL</Internet><NumberEmployees>17</NumberEmployees></StoreSurvey></td><td>8a8e549d-0ba5-43d0-adf8-60f9b5fdec9d</td><td>2014-09-12</td></tr><tr><td>1176</td><td>Eleventh Bike Store</td><td>275</td><td><StoreSurvey xmlns=\"http://schemas.microsoft.com/sqlserver/2004/07/adventure-works/StoreSurvey\"><AnnualSales>800000</AnnualSales><AnnualRevenue>80000</AnnualRevenue><BankName>Primary Bank &amp; Reserve</BankName><BusinessType>BM</BusinessType><YearOpened>1975</YearOpened><Specialty>Road</Specialty><SquareFeet>22000</SquareFeet><Brands>4+</Brands><Internet>DSL</Internet><NumberEmployees>18</NumberEmployees></StoreSurvey></td><td>63164f1d-d845-487d-aecb-74e67a036563</td><td>2014-09-12</td></tr><tr><td>1178</td><td>Enterprise Center</td><td>288</td><td><StoreSurvey xmlns=\"http://schemas.microsoft.com/sqlserver/2004/07/adventure-works/StoreSurvey\"><AnnualSales>800000</AnnualSales><AnnualRevenue>80000</AnnualRevenue><BankName>International Security</BankName><BusinessType>BM</BusinessType><YearOpened>2000</YearOpened><Specialty>Touring</Specialty><SquareFeet>23000</SquareFeet><Brands>4+</Brands><Internet>T1</Internet><NumberEmployees>19</NumberEmployees></StoreSurvey></td><td>23df9965-0d48-4935-8af6-a3f21d37edfa</td><td>2014-09-12</td></tr><tr><td>1180</td><td>Purple Bicycle Company</td><td>282</td><td><StoreSurvey xmlns=\"http://schemas.microsoft.com/sqlserver/2004/07/adventure-works/StoreSurvey\"><AnnualSales>1000000</AnnualSales><AnnualRevenue>100000</AnnualRevenue><BankName>Guardian Bank</BankName><BusinessType>BM</BusinessType><YearOpened>2000</YearOpened><Specialty>Road</Specialty><SquareFeet>27000</SquareFeet><Brands>2</Brands><Internet>DSL</Internet><NumberEmployees>20</NumberEmployees></StoreSurvey></td><td>0d9b5235-d3c0-4bf0-a319-f122c2cc1a36</td><td>2014-09-12</td></tr><tr><td>1182</td><td>New and Used Bicycles</td><td>279</td><td><StoreSurvey xmlns=\"http://schemas.microsoft.com/sqlserver/2004/07/adventure-works/StoreSurvey\"><AnnualSales>800000</AnnualSales><AnnualRevenue>80000</AnnualRevenue><BankName>Primary International</BankName><BusinessType>BM</BusinessType><YearOpened>1994</YearOpened><Specialty>Road</Specialty><SquareFeet>20000</SquareFeet><Brands>AW</Brands><Internet>DSL</Internet><NumberEmployees>18</NumberEmployees></StoreSurvey></td><td>271474f4-52f9-4c6d-ad70-5a894111e739</td><td>2014-09-12</td></tr><tr><td>1184</td><td>Separate Parts Corporation</td><td>281</td><td><StoreSurvey xmlns=\"http://schemas.microsoft.com/sqlserver/2004/07/adventure-works/StoreSurvey\"><AnnualSales>800000</AnnualSales><AnnualRevenue>80000</AnnualRevenue><BankName>Reserve Security</BankName><BusinessType>BM</BusinessType><YearOpened>1988</YearOpened><Specialty>Road</Specialty><SquareFeet>21000</SquareFeet><Brands>3</Brands><Internet>DSL</Internet><NumberEmployees>16</NumberEmployees></StoreSurvey></td><td>4cf82063-b7cb-4772-9f0c-d3acb230f459</td><td>2014-09-12</td></tr><tr><td>1186</td><td>Basic Bike Company</td><td>283</td><td><StoreSurvey xmlns=\"http://schemas.microsoft.com/sqlserver/2004/07/adventure-works/StoreSurvey\"><AnnualSales>800000</AnnualSales><AnnualRevenue>80000</AnnualRevenue><BankName>United Security</BankName><BusinessType>BM</BusinessType><YearOpened>1982</YearOpened><Specialty>Road</Specialty><SquareFeet>20000</SquareFeet><Brands>2</Brands><Internet>DSL</Internet><NumberEmployees>14</NumberEmployees></StoreSurvey></td><td>f2c84903-19ed-4549-8b4e-9604c558eab6</td><td>2014-09-12</td></tr><tr><td>1188</td><td>Fabrikam Inc., West</td><td>275</td><td><StoreSurvey xmlns=\"http://schemas.microsoft.com/sqlserver/2004/07/adventure-works/StoreSurvey\"><AnnualSales>800000</AnnualSales><AnnualRevenue>80000</AnnualRevenue><BankName>International Bank</BankName><BusinessType>BM</BusinessType><YearOpened>1976</YearOpened><Specialty>Mountain</Specialty><SquareFeet>18000</SquareFeet><Brands>4+</Brands><Internet>DSL</Internet><NumberEmployees>12</NumberEmployees></StoreSurvey></td><td>9da146b6-2e9b-4039-83e1-427879f8471e</td><td>2014-09-12</td></tr><tr><td>1190</td><td>Mechanical Brake Manufacturers</td><td>288</td><td><StoreSurvey xmlns=\"http://schemas.microsoft.com/sqlserver/2004/07/adventure-works/StoreSurvey\"><AnnualSales>800000</AnnualSales><AnnualRevenue>80000</AnnualRevenue><BankName>Primary Bank &amp; Reserve</BankName><BusinessType>BM</BusinessType><YearOpened>1970</YearOpened><Specialty>Touring</Specialty><SquareFeet>21000</SquareFeet><Brands>3</Brands><Internet>T1</Internet><NumberEmployees>10</NumberEmployees></StoreSurvey></td><td>0e715ab8-2eb4-41e4-8b9d-63523c2e4b2d</td><td>2014-09-12</td></tr><tr><td>1192</td><td>Non-Slip Pedal Company</td><td>282</td><td><StoreSurvey xmlns=\"http://schemas.microsoft.com/sqlserver/2004/07/adventure-works/StoreSurvey\"><AnnualSales>300000</AnnualSales><AnnualRevenue>30000</AnnualRevenue><BankName>International Security</BankName><BusinessType>BM</BusinessType><YearOpened>1975</YearOpened><Specialty>Road</Specialty><SquareFeet>11000</SquareFeet><Brands>AW</Brands><Internet>DSL</Internet><NumberEmployees>8</NumberEmployees></StoreSurvey></td><td>c374851d-b5f0-46c6-bf7b-e3ead1124bd5</td><td>2014-09-12</td></tr><tr><td>1194</td><td>Variety Bike Outlet</td><td>279</td><td><StoreSurvey xmlns=\"http://schemas.microsoft.com/sqlserver/2004/07/adventure-works/StoreSurvey\"><AnnualSales>300000</AnnualSales><AnnualRevenue>30000</AnnualRevenue><BankName>Guardian Bank</BankName><BusinessType>BM</BusinessType><YearOpened>1970</YearOpened><Specialty>Mountain</Specialty><SquareFeet>9000</SquareFeet><Brands>AW</Brands><Internet>DSL</Internet><NumberEmployees>6</NumberEmployees></StoreSurvey></td><td>2211f0a3-5a94-486c-ac43-8b2a76f40db5</td><td>2014-09-12</td></tr><tr><td>1196</td><td>Weekend Bike Tours</td><td>281</td><td><StoreSurvey xmlns=\"http://schemas.microsoft.com/sqlserver/2004/07/adventure-works/StoreSurvey\"><AnnualSales>300000</AnnualSales><AnnualRevenue>30000</AnnualRevenue><BankName>Primary International</BankName><BusinessType>BM</BusinessType><YearOpened>1978</YearOpened><Specialty>Road</Specialty><SquareFeet>7000</SquareFeet><Brands>AW</Brands><Internet>DSL</Internet><NumberEmployees>4</NumberEmployees></StoreSurvey></td><td>6252826a-91a5-41e4-9348-ff0afc2b669e</td><td>2014-09-12</td></tr><tr><td>1198</td><td>Fabrikam Inc., East</td><td>288</td><td><StoreSurvey xmlns=\"http://schemas.microsoft.com/sqlserver/2004/07/adventure-works/StoreSurvey\"><AnnualSales>800000</AnnualSales><AnnualRevenue>80000</AnnualRevenue><BankName>Guardian Bank</BankName><BusinessType>BM</BusinessType><YearOpened>1993</YearOpened><Specialty>Road</Specialty><SquareFeet>20000</SquareFeet><Brands>AW</Brands><Internet>DSL</Internet><NumberEmployees>11</NumberEmployees></StoreSurvey></td><td>43d11293-c15a-4e15-acae-7a1eeab66096</td><td>2014-09-12</td></tr><tr><td>1200</td><td>General Supplies</td><td>282</td><td><StoreSurvey xmlns=\"http://schemas.microsoft.com/sqlserver/2004/07/adventure-works/StoreSurvey\"><AnnualSales>800000</AnnualSales><AnnualRevenue>80000</AnnualRevenue><BankName>Primary International</BankName><BusinessType>BM</BusinessType><YearOpened>1988</YearOpened><Specialty>Road</Specialty><SquareFeet>21000</SquareFeet><Brands>3</Brands><Internet>T2</Internet><NumberEmployees>12</NumberEmployees></StoreSurvey></td><td>2e8cc24d-2556-40b0-98c5-91cce9d75e1e</td><td>2014-09-12</td></tr><tr><td>1202</td><td>Noiseless Gear Company</td><td>279</td><td><StoreSurvey xmlns=\"http://schemas.microsoft.com/sqlserver/2004/07/adventure-works/StoreSurvey\"><AnnualSales>800000</AnnualSales><AnnualRevenue>80000</AnnualRevenue><BankName>Reserve Security</BankName><BusinessType>BM</BusinessType><YearOpened>1996</YearOpened><Specialty>Mountain</Specialty><SquareFeet>20000</SquareFeet><Brands>4+</Brands><Internet>DSL</Internet><NumberEmployees>13</NumberEmployees></StoreSurvey></td><td>6036acc8-a7e3-4d9f-8383-31d759b8d4bc</td><td>2014-09-12</td></tr><tr><td>1204</td><td>Racing Toys</td><td>281</td><td><StoreSurvey xmlns=\"http://schemas.microsoft.com/sqlserver/2004/07/adventure-works/StoreSurvey\"><AnnualSales>800000</AnnualSales><AnnualRevenue>80000</AnnualRevenue><BankName>United Security</BankName><BusinessType>BM</BusinessType><YearOpened>1991</YearOpened><Specialty>Road</Specialty><SquareFeet>18000</SquareFeet><Brands>2</Brands><Internet>DSL</Internet><NumberEmployees>14</NumberEmployees></StoreSurvey></td><td>243a84e3-1c70-4a25-a8dd-bb6c0b0c8072</td><td>2014-09-12</td></tr><tr><td>1206</td><td>Capable Sales and Service</td><td>280</td><td><StoreSurvey xmlns=\"http://schemas.microsoft.com/sqlserver/2004/07/adventure-works/StoreSurvey\"><AnnualSales>300000</AnnualSales><AnnualRevenue>30000</AnnualRevenue><BankName>Primary Bank &amp; Reserve</BankName><BusinessType>BM</BusinessType><YearOpened>1981</YearOpened><Specialty>Mountain</Specialty><SquareFeet>10000</SquareFeet><Brands>4+</Brands><Internet>DSL</Internet><NumberEmployees>3</NumberEmployees></StoreSurvey></td><td>88d825c6-a877-46cb-b874-3f933ded0920</td><td>2014-09-12</td></tr><tr><td>1208</td><td>Little Sports Center</td><td>289</td><td><StoreSurvey xmlns=\"http://schemas.microsoft.com/sqlserver/2004/07/adventure-works/StoreSurvey\"><AnnualSales>300000</AnnualSales><AnnualRevenue>30000</AnnualRevenue><BankName>International Security</BankName><BusinessType>BM</BusinessType><YearOpened>1976</YearOpened><Specialty>Touring</Specialty><SquareFeet>10000</SquareFeet><Brands>4+</Brands><Internet>DSL</Internet><NumberEmployees>4</NumberEmployees></StoreSurvey></td><td>de9e508e-4e51-4a6f-8c53-20be18c1dea1</td><td>2014-09-12</td></tr><tr><td>1210</td><td>Pretty Bikes and Toys</td><td>290</td><td><StoreSurvey xmlns=\"http://schemas.microsoft.com/sqlserver/2004/07/adventure-works/StoreSurvey\"><AnnualSales>300000</AnnualSales><AnnualRevenue>30000</AnnualRevenue><BankName>Guardian Bank</BankName><BusinessType>BM</BusinessType><YearOpened>1984</YearOpened><Specialty>Road</Specialty><SquareFeet>6000</SquareFeet><Brands>3</Brands><Internet>T2</Internet><NumberEmployees>5</NumberEmployees></StoreSurvey></td><td>f0e72f25-41ef-4c1d-ad51-5af894f852b0</td><td>2014-09-12</td></tr><tr><td>1212</td><td>Road Way Sales and Rental</td><td>282</td><td><StoreSurvey xmlns=\"http://schemas.microsoft.com/sqlserver/2004/07/adventure-works/StoreSurvey\"><AnnualSales>300000</AnnualSales><AnnualRevenue>30000</AnnualRevenue><BankName>Primary International</BankName><BusinessType>BM</BusinessType><YearOpened>1979</YearOpened><Specialty>Mountain</Specialty><SquareFeet>10000</SquareFeet><Brands>3</Brands><Internet>T1</Internet><NumberEmployees>6</NumberEmployees></StoreSurvey></td><td>89ad5863-0a77-448a-b52f-11dc514ce6f1</td><td>2014-09-12</td></tr><tr><td>1214</td><td>Sturdy Toys</td><td>281</td><td><StoreSurvey xmlns=\"http://schemas.microsoft.com/sqlserver/2004/07/adventure-works/StoreSurvey\"><AnnualSales>300000</AnnualSales><AnnualRevenue>30000</AnnualRevenue><BankName>Reserve Security</BankName><BusinessType>BM</BusinessType><YearOpened>1987</YearOpened><Specialty>Mountain</Specialty><SquareFeet>9000</SquareFeet><Brands>2</Brands><Internet>DSL</Internet><NumberEmployees>7</NumberEmployees></StoreSurvey></td><td>54897e0c-a386-46e8-8065-a9cc052075bd</td><td>2014-09-12</td></tr><tr><td>1216</td><td>Beneficial Exercises and Activities</td><td>277</td><td><StoreSurvey xmlns=\"http://schemas.microsoft.com/sqlserver/2004/07/adventure-works/StoreSurvey\"><AnnualSales>300000</AnnualSales><AnnualRevenue>30000</AnnualRevenue><BankName>United Security</BankName><BusinessType>BM</BusinessType><YearOpened>1982</YearOpened><Specialty>Road</Specialty><SquareFeet>9000</SquareFeet><Brands>2</Brands><Internet>T1</Internet><NumberEmployees>8</NumberEmployees></StoreSurvey></td><td>8c9fef87-a44e-4ee0-9051-39b7bdc8d552</td><td>2014-09-12</td></tr><tr><td>1218</td><td>Fad Outlet</td><td>280</td><td><StoreSurvey xmlns=\"http://schemas.microsoft.com/sqlserver/2004/07/adventure-works/StoreSurvey\"><AnnualSales>300000</AnnualSales><AnnualRevenue>30000</AnnualRevenue><BankName>International Bank</BankName><BusinessType>BM</BusinessType><YearOpened>1990</YearOpened><Specialty>Road</Specialty><SquareFeet>8000</SquareFeet><Brands>AW</Brands><Internet>DSL</Internet><NumberEmployees>9</NumberEmployees></StoreSurvey></td><td>fcafe412-052f-4f3e-b8a5-28f71c755019</td><td>2014-09-12</td></tr><tr><td>1220</td><td>Commerce Bicycle Specialists</td><td>289</td><td><StoreSurvey xmlns=\"http://schemas.microsoft.com/sqlserver/2004/07/adventure-works/StoreSurvey\"><AnnualSales>800000</AnnualSales><AnnualRevenue>80000</AnnualRevenue><BankName>Primary Bank &amp; Reserve</BankName><BusinessType>BM</BusinessType><YearOpened>1985</YearOpened><Specialty>Mountain</Specialty><SquareFeet>19000</SquareFeet><Brands>4+</Brands><Internet>ISDN</Internet><NumberEmployees>10</NumberEmployees></StoreSurvey></td><td>a9d77ea7-baec-46f1-b2dc-5a7ebfad788b</td><td>2014-09-12</td></tr><tr><td>1222</td><td>Township Inn</td><td>290</td><td><StoreSurvey xmlns=\"http://schemas.microsoft.com/sqlserver/2004/07/adventure-works/StoreSurvey\"><AnnualSales>800000</AnnualSales><AnnualRevenue>80000</AnnualRevenue><BankName>International Security</BankName><BusinessType>BM</BusinessType><YearOpened>1993</YearOpened><Specialty>Road</Specialty><SquareFeet>18000</SquareFeet><Brands>4+</Brands><Internet>ISDN</Internet><NumberEmployees>11</NumberEmployees></StoreSurvey></td><td>01cd6b0b-1c26-4490-bc7b-fa20c8adab95</td><td>2014-09-12</td></tr><tr><td>1224</td><td>Acceptable Sales & Service</td><td>282</td><td><StoreSurvey xmlns=\"http://schemas.microsoft.com/sqlserver/2004/07/adventure-works/StoreSurvey\"><AnnualSales>800000</AnnualSales><AnnualRevenue>80000</AnnualRevenue><BankName>Guardian Bank</BankName><BusinessType>BM</BusinessType><YearOpened>1988</YearOpened><Specialty>Road</Specialty><SquareFeet>21000</SquareFeet><Brands>AW</Brands><Internet>DSL</Internet><NumberEmployees>12</NumberEmployees></StoreSurvey></td><td>1b4d0a1b-5b60-46af-97b3-03cb5449dc87</td><td>2014-09-12</td></tr><tr><td>1226</td><td>Brown Bicycle Company</td><td>281</td><td><StoreSurvey xmlns=\"http://schemas.microsoft.com/sqlserver/2004/07/adventure-works/StoreSurvey\"><AnnualSales>800000</AnnualSales><AnnualRevenue>80000</AnnualRevenue><BankName>Primary International</BankName><BusinessType>BM</BusinessType><YearOpened>1996</YearOpened><Specialty>Road</Specialty><SquareFeet>19000</SquareFeet><Brands>2</Brands><Internet>DSL</Internet><NumberEmployees>13</NumberEmployees></StoreSurvey></td><td>a61b8d5f-ddda-4cde-9607-a6d4d446a5f3</td><td>2014-09-12</td></tr><tr><td>1228</td><td>District Mall</td><td>277</td><td><StoreSurvey xmlns=\"http://schemas.microsoft.com/sqlserver/2004/07/adventure-works/StoreSurvey\"><AnnualSales>800000</AnnualSales><AnnualRevenue>80000</AnnualRevenue><BankName>Reserve Security</BankName><BusinessType>BM</BusinessType><YearOpened>1991</YearOpened><Specialty>Road</Specialty><SquareFeet>19000</SquareFeet><Brands>4+</Brands><Internet>T1</Internet><NumberEmployees>14</NumberEmployees></StoreSurvey></td><td>2a26b47b-13a6-474e-83f9-a1022d05fce3</td><td>2014-09-12</td></tr><tr><td>1230</td><td>Fitness Supplies</td><td>280</td><td><StoreSurvey xmlns=\"http://schemas.microsoft.com/sqlserver/2004/07/adventure-works/StoreSurvey\"><AnnualSales>800000</AnnualSales><AnnualRevenue>80000</AnnualRevenue><BankName>United Security</BankName><BusinessType>BM</BusinessType><YearOpened>1999</YearOpened><Specialty>Touring</Specialty><SquareFeet>19000</SquareFeet><Brands>4+</Brands><Internet>T2</Internet><NumberEmployees>15</NumberEmployees></StoreSurvey></td><td>fc972e23-ab3e-48b2-8270-6defb1b8a796</td><td>2014-09-12</td></tr><tr><td>1232</td><td>Mail Market</td><td>289</td><td><StoreSurvey xmlns=\"http://schemas.microsoft.com/sqlserver/2004/07/adventure-works/StoreSurvey\"><AnnualSales>800000</AnnualSales><AnnualRevenue>80000</AnnualRevenue><BankName>International Bank</BankName><BusinessType>BM</BusinessType><YearOpened>1994</YearOpened><Specialty>Touring</Specialty><SquareFeet>19000</SquareFeet><Brands>AW</Brands><Internet>DSL</Internet><NumberEmployees>16</NumberEmployees></StoreSurvey></td><td>b60f9c7d-9e7f-41b0-9589-235dde103ae0</td><td>2014-09-12</td></tr><tr><td>1234</td><td>Spare Parts Co.</td><td>290</td><td><StoreSurvey xmlns=\"http://schemas.microsoft.com/sqlserver/2004/07/adventure-works/StoreSurvey\"><AnnualSales>800000</AnnualSales><AnnualRevenue>80000</AnnualRevenue><BankName>Primary Bank &amp; Reserve</BankName><BusinessType>BM</BusinessType><YearOpened>1987</YearOpened><Specialty>Mountain</Specialty><SquareFeet>19000</SquareFeet><Brands>4+</Brands><Internet>DSL</Internet><NumberEmployees>17</NumberEmployees></StoreSurvey></td><td>33679919-5665-4ce3-924f-b0df10ee7eb5</td><td>2014-09-12</td></tr><tr><td>1236</td><td>Twelfth Bike Store</td><td>282</td><td><StoreSurvey xmlns=\"http://schemas.microsoft.com/sqlserver/2004/07/adventure-works/StoreSurvey\"><AnnualSales>800000</AnnualSales><AnnualRevenue>80000</AnnualRevenue><BankName>International Security</BankName><BusinessType>BM</BusinessType><YearOpened>1997</YearOpened><Specialty>Mountain</Specialty><SquareFeet>21000</SquareFeet><Brands>4+</Brands><Internet>T1</Internet><NumberEmployees>18</NumberEmployees></StoreSurvey></td><td>7e41175a-1bbd-4b0e-b2ba-f66c90efa540</td><td>2014-09-12</td></tr><tr><td>1238</td><td>Consolidated Messenger</td><td>278</td><td><StoreSurvey xmlns=\"http://schemas.microsoft.com/sqlserver/2004/07/adventure-works/StoreSurvey\"><AnnualSales>300000</AnnualSales><AnnualRevenue>30000</AnnualRevenue><BankName>Guardian Bank</BankName><BusinessType>BM</BusinessType><YearOpened>1982</YearOpened><Specialty>Road</Specialty><SquareFeet>7000</SquareFeet><Brands>3</Brands><Internet>DSL</Internet><NumberEmployees>8</NumberEmployees></StoreSurvey></td><td>78b4a61e-0999-49b7-a104-9e2faaa8b92f</td><td>2014-09-12</td></tr><tr><td>1240</td><td>Daring Rides</td><td>279</td><td><StoreSurvey xmlns=\"http://schemas.microsoft.com/sqlserver/2004/07/adventure-works/StoreSurvey\"><AnnualSales>300000</AnnualSales><AnnualRevenue>30000</AnnualRevenue><BankName>Primary International</BankName><BusinessType>BM</BusinessType><YearOpened>1976</YearOpened><Specialty>Road</Specialty><SquareFeet>10000</SquareFeet><Brands>4+</Brands><Internet>T2</Internet><NumberEmployees>5</NumberEmployees></StoreSurvey></td><td>544095f1-f43c-44d5-b3e2-ecb0a5ecacd4</td><td>2014-09-12</td></tr><tr><td>1242</td><td>Field Trip Store</td><td>276</td><td><StoreSurvey xmlns=\"http://schemas.microsoft.com/sqlserver/2004/07/adventure-works/StoreSurvey\"><AnnualSales>300000</AnnualSales><AnnualRevenue>30000</AnnualRevenue><BankName>Reserve Security</BankName><BusinessType>BM</BusinessType><YearOpened>1970</YearOpened><Specialty>Mountain</Specialty><SquareFeet>8000</SquareFeet><Brands>3</Brands><Internet>T2</Internet><NumberEmployees>2</NumberEmployees></StoreSurvey></td><td>4dd9789c-dd7c-4c82-9bee-356e105fe143</td><td>2014-09-12</td></tr><tr><td>1244</td><td>Finish and Sealant Products</td><td>281</td><td><StoreSurvey xmlns=\"http://schemas.microsoft.com/sqlserver/2004/07/adventure-works/StoreSurvey\"><AnnualSales>800000</AnnualSales><AnnualRevenue>80000</AnnualRevenue><BankName>Guardian Bank</BankName><BusinessType>BM</BusinessType><YearOpened>1997</YearOpened><Specialty>Road</Specialty><SquareFeet>22000</SquareFeet><Brands>AW</Brands><Internet>DSL</Internet><NumberEmployees>17</NumberEmployees></StoreSurvey></td><td>e6398b3c-082f-4ca0-9dc8-2aec08797505</td><td>2014-09-12</td></tr><tr><td>1246</td><td>Finer Parts Shop</td><td>283</td><td><StoreSurvey xmlns=\"http://schemas.microsoft.com/sqlserver/2004/07/adventure-works/StoreSurvey\"><AnnualSales>800000</AnnualSales><AnnualRevenue>80000</AnnualRevenue><BankName>Primary International</BankName><BusinessType>BM</BusinessType><YearOpened>1975</YearOpened><Specialty>Mountain</Specialty><SquareFeet>19000</SquareFeet><Brands>2</Brands><Internet>DSL</Internet><NumberEmployees>18</NumberEmployees></StoreSurvey></td><td>57d0e838-dc59-449e-98a4-b86c6b507dbf</td><td>2014-09-12</td></tr><tr><td>1248</td><td>Glossy Bikes</td><td>275</td><td><StoreSurvey xmlns=\"http://schemas.microsoft.com/sqlserver/2004/07/adventure-works/StoreSurvey\"><AnnualSales>800000</AnnualSales><AnnualRevenue>80000</AnnualRevenue><BankName>Reserve Security</BankName><BusinessType>BM</BusinessType><YearOpened>2000</YearOpened><Specialty>Touring</Specialty><SquareFeet>22000</SquareFeet><Brands>2</Brands><Internet>DSL</Internet><NumberEmployees>19</NumberEmployees></StoreSurvey></td><td>9a4b9ccb-bb2f-4fad-88de-2e62d19f20c8</td><td>2014-09-12</td></tr><tr><td>1250</td><td>Next Door Cycles</td><td>288</td><td><StoreSurvey xmlns=\"http://schemas.microsoft.com/sqlserver/2004/07/adventure-works/StoreSurvey\"><AnnualSales>1000000</AnnualSales><AnnualRevenue>100000</AnnualRevenue><BankName>United Security</BankName><BusinessType>BM</BusinessType><YearOpened>2000</YearOpened><Specialty>Touring</Specialty><SquareFeet>27000</SquareFeet><Brands>3</Brands><Internet>T2</Internet><NumberEmployees>20</NumberEmployees></StoreSurvey></td><td>b83544ef-3eac-4e68-b36d-12ab33dcd6b3</td><td>2014-09-12</td></tr><tr><td>1252</td><td>Up-To-Date Sports</td><td>282</td><td><StoreSurvey xmlns=\"http://schemas.microsoft.com/sqlserver/2004/07/adventure-works/StoreSurvey\"><AnnualSales>1000000</AnnualSales><AnnualRevenue>100000</AnnualRevenue><BankName>International Security</BankName><BusinessType>BM</BusinessType><YearOpened>2000</YearOpened><Specialty>Mountain</Specialty><SquareFeet>26000</SquareFeet><Brands>4+</Brands><Internet>DSL</Internet><NumberEmployees>20</NumberEmployees></StoreSurvey></td><td>dd55a844-7fb1-4dff-a273-843e4a5753e0</td><td>2014-09-12</td></tr><tr><td>1254</td><td>Mountain Bike Center</td><td>281</td><td><StoreSurvey xmlns=\"http://schemas.microsoft.com/sqlserver/2004/07/adventure-works/StoreSurvey\"><AnnualSales>800000</AnnualSales><AnnualRevenue>80000</AnnualRevenue><BankName>Guardian Bank</BankName><BusinessType>BM</BusinessType><YearOpened>1994</YearOpened><Specialty>Road</Specialty><SquareFeet>20000</SquareFeet><Brands>4+</Brands><Internet>DSL</Internet><NumberEmployees>18</NumberEmployees></StoreSurvey></td><td>d937b41e-b8e0-4c46-91ae-352e6b37c1fc</td><td>2014-09-12</td></tr><tr><td>1256</td><td>Specialty Sports Store</td><td>277</td><td><StoreSurvey xmlns=\"http://schemas.microsoft.com/sqlserver/2004/07/adventure-works/StoreSurvey\"><AnnualSales>800000</AnnualSales><AnnualRevenue>80000</AnnualRevenue><BankName>Primary International</BankName><BusinessType>BM</BusinessType><YearOpened>1988</YearOpened><Specialty>Mountain</Specialty><SquareFeet>20000</SquareFeet><Brands>AW</Brands><Internet>T2</Internet><NumberEmployees>16</NumberEmployees></StoreSurvey></td><td>5b3d4ad5-0f11-4f5e-9ed4-4f0aa9472762</td><td>2014-09-12</td></tr><tr><td>1258</td><td>Scooters and Bikes Store</td><td>280</td><td><StoreSurvey xmlns=\"http://schemas.microsoft.com/sqlserver/2004/07/adventure-works/StoreSurvey\"><AnnualSales>800000</AnnualSales><AnnualRevenue>80000</AnnualRevenue><BankName>Reserve Security</BankName><BusinessType>BM</BusinessType><YearOpened>1982</YearOpened><Specialty>Road</Specialty><SquareFeet>21000</SquareFeet><Brands>2</Brands><Internet>DSL</Internet><NumberEmployees>14</NumberEmployees></StoreSurvey></td><td>9240a9e4-b7f9-40f2-9d2a-c01f78c45c3d</td><td>2014-09-12</td></tr><tr><td>1260</td><td>Closest Bicycle Store</td><td>289</td><td><StoreSurvey xmlns=\"http://schemas.microsoft.com/sqlserver/2004/07/adventure-works/StoreSurvey\"><AnnualSales>800000</AnnualSales><AnnualRevenue>80000</AnnualRevenue><BankName>United Security</BankName><BusinessType>BM</BusinessType><YearOpened>1976</YearOpened><Specialty>Mountain</Specialty><SquareFeet>22000</SquareFeet><Brands>3</Brands><Internet>T1</Internet><NumberEmployees>12</NumberEmployees></StoreSurvey></td><td>67dad033-715a-4a60-abcb-ee68e898dd6a</td><td>2014-09-12</td></tr><tr><td>1262</td><td>Roadway Bicycle Supply</td><td>290</td><td><StoreSurvey xmlns=\"http://schemas.microsoft.com/sqlserver/2004/07/adventure-works/StoreSurvey\"><AnnualSales>800000</AnnualSales><AnnualRevenue>80000</AnnualRevenue><BankName>International Bank</BankName><BusinessType>BM</BusinessType><YearOpened>1970</YearOpened><Specialty>Touring</Specialty><SquareFeet>19000</SquareFeet><Brands>4+</Brands><Internet>DSL</Internet><NumberEmployees>10</NumberEmployees></StoreSurvey></td><td>17fe3739-c3ab-4d95-ac2b-a55ff2ce3afe</td><td>2014-09-12</td></tr><tr><td>1264</td><td>Refined Department Stores</td><td>282</td><td><StoreSurvey xmlns=\"http://schemas.microsoft.com/sqlserver/2004/07/adventure-works/StoreSurvey\"><AnnualSales>300000</AnnualSales><AnnualRevenue>30000</AnnualRevenue><BankName>Primary Bank &amp; Reserve</BankName><BusinessType>BM</BusinessType><YearOpened>1975</YearOpened><Specialty>Road</Specialty><SquareFeet>7000</SquareFeet><Brands>3</Brands><Internet>T2</Internet><NumberEmployees>8</NumberEmployees></StoreSurvey></td><td>4ec6c861-04e8-479e-ba0d-17217795631d</td><td>2014-09-12</td></tr><tr><td>1266</td><td>Reasonable Bicycle Sales</td><td>281</td><td><StoreSurvey xmlns=\"http://schemas.microsoft.com/sqlserver/2004/07/adventure-works/StoreSurvey\"><AnnualSales>300000</AnnualSales><AnnualRevenue>30000</AnnualRevenue><BankName>International Security</BankName><BusinessType>BM</BusinessType><YearOpened>1970</YearOpened><Specialty>Road</Specialty><SquareFeet>10000</SquareFeet><Brands>3</Brands><Internet>DSL</Internet><NumberEmployees>6</NumberEmployees></StoreSurvey></td><td>baa74406-e6a4-430d-8d72-3bce10d8c088</td><td>2014-09-12</td></tr><tr><td>1268</td><td>Out-of-the-Way Hotels</td><td>277</td><td><StoreSurvey xmlns=\"http://schemas.microsoft.com/sqlserver/2004/07/adventure-works/StoreSurvey\"><AnnualSales>300000</AnnualSales><AnnualRevenue>30000</AnnualRevenue><BankName>Guardian Bank</BankName><BusinessType>BM</BusinessType><YearOpened>1978</YearOpened><Specialty>Mountain</Specialty><SquareFeet>8000</SquareFeet><Brands>3</Brands><Internet>DSL</Internet><NumberEmployees>4</NumberEmployees></StoreSurvey></td><td>4229e3be-ee6a-4692-9147-ac75a788f770</td><td>2014-09-12</td></tr><tr><td>1270</td><td>Outdoor Sports Supply</td><td>280</td><td><StoreSurvey xmlns=\"http://schemas.microsoft.com/sqlserver/2004/07/adventure-works/StoreSurvey\"><AnnualSales>300000</AnnualSales><AnnualRevenue>30000</AnnualRevenue><BankName>Primary International</BankName><BusinessType>BM</BusinessType><YearOpened>1973</YearOpened><Specialty>Mountain</Specialty><SquareFeet>9000</SquareFeet><Brands>AW</Brands><Internet>DSL</Internet><NumberEmployees>2</NumberEmployees></StoreSurvey></td><td>1a149464-a393-435e-ae32-6049a6ac1275</td><td>2014-09-12</td></tr><tr><td>1272</td><td>Outdoor Aerobic Systems Company</td><td>289</td><td><StoreSurvey xmlns=\"http://schemas.microsoft.com/sqlserver/2004/07/adventure-works/StoreSurvey\"><AnnualSales>300000</AnnualSales><AnnualRevenue>30000</AnnualRevenue><BankName>Reserve Security</BankName><BusinessType>BM</BusinessType><YearOpened>1981</YearOpened><Specialty>Road</Specialty><SquareFeet>8000</SquareFeet><Brands>AW</Brands><Internet>DSL</Internet><NumberEmployees>3</NumberEmployees></StoreSurvey></td><td>2c9d7f50-6431-4361-9843-0cf1601b23b9</td><td>2014-09-12</td></tr><tr><td>1274</td><td>Self-Contained Cycle Parts Company</td><td>290</td><td><StoreSurvey xmlns=\"http://schemas.microsoft.com/sqlserver/2004/07/adventure-works/StoreSurvey\"><AnnualSales>300000</AnnualSales><AnnualRevenue>30000</AnnualRevenue><BankName>United Security</BankName><BusinessType>BM</BusinessType><YearOpened>1976</YearOpened><Specialty>Road</Specialty><SquareFeet>7000</SquareFeet><Brands>3</Brands><Internet>DSL</Internet><NumberEmployees>4</NumberEmployees></StoreSurvey></td><td>8e256f9e-fecd-4695-96f0-ea82e830a79f</td><td>2014-09-12</td></tr><tr><td>1276</td><td>Metal Clearing House</td><td>282</td><td><StoreSurvey xmlns=\"http://schemas.microsoft.com/sqlserver/2004/07/adventure-works/StoreSurvey\"><AnnualSales>300000</AnnualSales><AnnualRevenue>30000</AnnualRevenue><BankName>International Bank</BankName><BusinessType>BM</BusinessType><YearOpened>1984</YearOpened><Specialty>Touring</Specialty><SquareFeet>9000</SquareFeet><Brands>3</Brands><Internet>T2</Internet><NumberEmployees>5</NumberEmployees></StoreSurvey></td><td>ca15bc7f-6499-41bc-9737-f8b289004af6</td><td>2014-09-12</td></tr><tr><td>1278</td><td>Many Bikes Store</td><td>281</td><td><StoreSurvey xmlns=\"http://schemas.microsoft.com/sqlserver/2004/07/adventure-works/StoreSurvey\"><AnnualSales>300000</AnnualSales><AnnualRevenue>30000</AnnualRevenue><BankName>Primary Bank &amp; Reserve</BankName><BusinessType>BM</BusinessType><YearOpened>1979</YearOpened><Specialty>Mountain</Specialty><SquareFeet>10000</SquareFeet><Brands>3</Brands><Internet>DSL</Internet><NumberEmployees>6</NumberEmployees></StoreSurvey></td><td>c9a6c2a1-c616-455d-b37b-1fc154f568c8</td><td>2014-09-12</td></tr><tr><td>1280</td><td>Largest Bike Store</td><td>277</td><td><StoreSurvey xmlns=\"http://schemas.microsoft.com/sqlserver/2004/07/adventure-works/StoreSurvey\"><AnnualSales>300000</AnnualSales><AnnualRevenue>30000</AnnualRevenue><BankName>International Security</BankName><BusinessType>BM</BusinessType><YearOpened>1987</YearOpened><Specialty>Road</Specialty><SquareFeet>7000</SquareFeet><Brands>AW</Brands><Internet>T1</Internet><NumberEmployees>7</NumberEmployees></StoreSurvey></td><td>12c44c5f-e2a2-4497-8e32-d2fea261c96b</td><td>2014-09-12</td></tr><tr><td>1282</td><td>Kickstands and Accessories Company</td><td>280</td><td><StoreSurvey xmlns=\"http://schemas.microsoft.com/sqlserver/2004/07/adventure-works/StoreSurvey\"><AnnualSales>300000</AnnualSales><AnnualRevenue>30000</AnnualRevenue><BankName>Guardian Bank</BankName><BusinessType>BM</BusinessType><YearOpened>1982</YearOpened><Specialty>Touring</Specialty><SquareFeet>10000</SquareFeet><Brands>2</Brands><Internet>T1</Internet><NumberEmployees>8</NumberEmployees></StoreSurvey></td><td>15cf6264-3356-4e35-ba49-de49ce8156db</td><td>2014-09-12</td></tr><tr><td>1284</td><td>Instruments and Parts Company</td><td>289</td><td><StoreSurvey xmlns=\"http://schemas.microsoft.com/sqlserver/2004/07/adventure-works/StoreSurvey\"><AnnualSales>300000</AnnualSales><AnnualRevenue>30000</AnnualRevenue><BankName>Primary International</BankName><BusinessType>BM</BusinessType><YearOpened>1990</YearOpened><Specialty>Touring</Specialty><SquareFeet>8000</SquareFeet><Brands>3</Brands><Internet>T1</Internet><NumberEmployees>9</NumberEmployees></StoreSurvey></td><td>3f04b809-5be1-4449-9e42-585eef390c2d</td><td>2014-09-12</td></tr><tr><td>1286</td><td>Neighborhood Bicycle Storehouse</td><td>290</td><td><StoreSurvey xmlns=\"http://schemas.microsoft.com/sqlserver/2004/07/adventure-works/StoreSurvey\"><AnnualSales>800000</AnnualSales><AnnualRevenue>80000</AnnualRevenue><BankName>Reserve Security</BankName><BusinessType>BM</BusinessType><YearOpened>1985</YearOpened><Specialty>Touring</Specialty><SquareFeet>17000</SquareFeet><Brands>3</Brands><Internet>T1</Internet><NumberEmployees>10</NumberEmployees></StoreSurvey></td><td>f4468b06-bc53-4c4d-9524-20ad28f1626e</td><td>2014-09-12</td></tr><tr><td>1288</td><td>Gear-Shift Bikes Limited</td><td>282</td><td><StoreSurvey xmlns=\"http://schemas.microsoft.com/sqlserver/2004/07/adventure-works/StoreSurvey\"><AnnualSales>800000</AnnualSales><AnnualRevenue>80000</AnnualRevenue><BankName>United Security</BankName><BusinessType>BM</BusinessType><YearOpened>1993</YearOpened><Specialty>Road</Specialty><SquareFeet>21000</SquareFeet><Brands>AW</Brands><Internet>T1</Internet><NumberEmployees>11</NumberEmployees></StoreSurvey></td><td>29188bcd-ed2a-4518-9a83-d36e20043fe7</td><td>2014-09-12</td></tr><tr><td>1290</td><td>Frugal Bike Shop</td><td>281</td><td><StoreSurvey xmlns=\"http://schemas.microsoft.com/sqlserver/2004/07/adventure-works/StoreSurvey\"><AnnualSales>800000</AnnualSales><AnnualRevenue>80000</AnnualRevenue><BankName>International Bank</BankName><BusinessType>BM</BusinessType><YearOpened>1988</YearOpened><Specialty>Mountain</Specialty><SquareFeet>21000</SquareFeet><Brands>2</Brands><Internet>T1</Internet><NumberEmployees>12</NumberEmployees></StoreSurvey></td><td>c479a10e-fb4d-4c85-b2a3-d12db41d2423</td><td>2014-09-12</td></tr><tr><td>1292</td><td>Family Entertainment Center</td><td>280</td><td><StoreSurvey xmlns=\"http://schemas.microsoft.com/sqlserver/2004/07/adventure-works/StoreSurvey\"><AnnualSales>3000000</AnnualSales><AnnualRevenue>300000</AnnualRevenue><BankName>Guardian Bank</BankName><BusinessType>OS</BusinessType><YearOpened>1980</YearOpened><Specialty>Touring</Specialty><SquareFeet>75000</SquareFeet><Brands>4+</Brands><Internet>DSL</Internet><NumberEmployees>89</NumberEmployees></StoreSurvey></td><td>785c93ca-4ad3-4427-a790-8437cbb3a3ee</td><td>2014-09-12</td></tr><tr><td>1294</td><td>Go-cart and Bike Specialists</td><td>277</td><td><StoreSurvey xmlns=\"http://schemas.microsoft.com/sqlserver/2004/07/adventure-works/StoreSurvey\"><AnnualSales>3000000</AnnualSales><AnnualRevenue>300000</AnnualRevenue><BankName>International Security</BankName><BusinessType>OS</BusinessType><YearOpened>1972</YearOpened><Specialty>Mountain</Specialty><SquareFeet>78000</SquareFeet><Brands>4+</Brands><Internet>DSL</Internet><NumberEmployees>90</NumberEmployees></StoreSurvey></td><td>d8a88a07-ac1c-4b24-9a78-75bb4ff04852</td><td>2014-09-12</td></tr><tr><td>1296</td><td>Trailblazing Sports</td><td>281</td><td><StoreSurvey xmlns=\"http://schemas.microsoft.com/sqlserver/2004/07/adventure-works/StoreSurvey\"><AnnualSales>3000000</AnnualSales><AnnualRevenue>300000</AnnualRevenue><BankName>Primary Bank &amp; Reserve</BankName><BusinessType>OS</BusinessType><YearOpened>1977</YearOpened><Specialty>Mountain</Specialty><SquareFeet>78000</SquareFeet><Brands>3</Brands><Internet>T1</Internet><NumberEmployees>91</NumberEmployees></StoreSurvey></td><td>276c70d2-c4d6-458e-9a49-0036b93bb544</td><td>2014-09-12</td></tr><tr><td>1298</td><td>Racing Partners</td><td>282</td><td><StoreSurvey xmlns=\"http://schemas.microsoft.com/sqlserver/2004/07/adventure-works/StoreSurvey\"><AnnualSales>3000000</AnnualSales><AnnualRevenue>300000</AnnualRevenue><BankName>International Bank</BankName><BusinessType>OS</BusinessType><YearOpened>1987</YearOpened><Specialty>Mountain</Specialty><SquareFeet>79000</SquareFeet><Brands>4+</Brands><Internet>DSL</Internet><NumberEmployees>92</NumberEmployees></StoreSurvey></td><td>e18d136c-7303-49ed-a534-e54680cace07</td><td>2014-09-12</td></tr><tr><td>1300</td><td>Perfect Toys</td><td>290</td><td><StoreSurvey xmlns=\"http://schemas.microsoft.com/sqlserver/2004/07/adventure-works/StoreSurvey\"><AnnualSales>3000000</AnnualSales><AnnualRevenue>300000</AnnualRevenue><BankName>United Security</BankName><BusinessType>OS</BusinessType><YearOpened>1974</YearOpened><Specialty>Touring</Specialty><SquareFeet>76000</SquareFeet><Brands>2</Brands><Internet>ISDN</Internet><NumberEmployees>93</NumberEmployees></StoreSurvey></td><td>06e14015-df3d-4a8d-9998-d6c752f05a02</td><td>2014-09-12</td></tr><tr><td>1302</td><td>Exhibition Showroom</td><td>289</td><td><StoreSurvey xmlns=\"http://schemas.microsoft.com/sqlserver/2004/07/adventure-works/StoreSurvey\"><AnnualSales>3000000</AnnualSales><AnnualRevenue>300000</AnnualRevenue><BankName>Reserve Security</BankName><BusinessType>OS</BusinessType><YearOpened>1974</YearOpened><Specialty>Mountain</Specialty><SquareFeet>77000</SquareFeet><Brands>2</Brands><Internet>DSL</Internet><NumberEmployees>94</NumberEmployees></StoreSurvey></td><td>a7788438-9873-4c7b-98e9-f8bbb6c8490e</td><td>2014-09-12</td></tr><tr><td>1304</td><td>Authorized Bike Sales and Rental</td><td>280</td><td><StoreSurvey xmlns=\"http://schemas.microsoft.com/sqlserver/2004/07/adventure-works/StoreSurvey\"><AnnualSales>3000000</AnnualSales><AnnualRevenue>300000</AnnualRevenue><BankName>Primary International</BankName><BusinessType>OS</BusinessType><YearOpened>1980</YearOpened><Specialty>Touring</Specialty><SquareFeet>75000</SquareFeet><Brands>3</Brands><Internet>T1</Internet><NumberEmployees>95</NumberEmployees></StoreSurvey></td><td>d1966056-3822-4f4d-a687-14eba601642c</td><td>2014-09-12</td></tr><tr><td>1306</td><td>Two-Seater Bikes</td><td>277</td><td><StoreSurvey xmlns=\"http://schemas.microsoft.com/sqlserver/2004/07/adventure-works/StoreSurvey\"><AnnualSales>3000000</AnnualSales><AnnualRevenue>300000</AnnualRevenue><BankName>Guardian Bank</BankName><BusinessType>OS</BusinessType><YearOpened>1986</YearOpened><Specialty>Touring</Specialty><SquareFeet>80000</SquareFeet><Brands>2</Brands><Internet>T1</Internet><NumberEmployees>96</NumberEmployees></StoreSurvey></td><td>2d7135a8-73a7-4efe-8b67-87fd720c4b86</td><td>2014-09-12</td></tr><tr><td>1308</td><td>More Bikes!</td><td>276</td><td><StoreSurvey xmlns=\"http://schemas.microsoft.com/sqlserver/2004/07/adventure-works/StoreSurvey\"><AnnualSales>3000000</AnnualSales><AnnualRevenue>300000</AnnualRevenue><BankName>Primary Bank &amp; Reserve</BankName><BusinessType>OS</BusinessType><YearOpened>1992</YearOpened><Specialty>Road</Specialty><SquareFeet>79000</SquareFeet><Brands>3</Brands><Internet>T2</Internet><NumberEmployees>97</NumberEmployees></StoreSurvey></td><td>f27b7f9d-045a-49b7-88d6-b11a2beda905</td><td>2014-09-12</td></tr><tr><td>1310</td><td>Unified Sports Company</td><td>279</td><td><StoreSurvey xmlns=\"http://schemas.microsoft.com/sqlserver/2004/07/adventure-works/StoreSurvey\"><AnnualSales>3000000</AnnualSales><AnnualRevenue>300000</AnnualRevenue><BankName>International Bank</BankName><BusinessType>OS</BusinessType><YearOpened>1998</YearOpened><Specialty>Mountain</Specialty><SquareFeet>80000</SquareFeet><Brands>4+</Brands><Internet>ISDN</Internet><NumberEmployees>98</NumberEmployees></StoreSurvey></td><td>5ce11163-c07a-4383-88ad-e0ef5bc0f040</td><td>2014-09-12</td></tr><tr><td>1312</td><td>National Manufacturing</td><td>278</td><td><StoreSurvey xmlns=\"http://schemas.microsoft.com/sqlserver/2004/07/adventure-works/StoreSurvey\"><AnnualSales>3000000</AnnualSales><AnnualRevenue>300000</AnnualRevenue><BankName>United Security</BankName><BusinessType>OS</BusinessType><YearOpened>1999</YearOpened><Specialty>Road</Specialty><SquareFeet>80000</SquareFeet><Brands>3</Brands><Internet>DSL</Internet><NumberEmployees>99</NumberEmployees></StoreSurvey></td><td>bbbe2820-9426-4cb9-a4ca-76fe78175e99</td><td>2014-09-12</td></tr><tr><td>1314</td><td>Volume Bike Sellers</td><td>286</td><td><StoreSurvey xmlns=\"http://schemas.microsoft.com/sqlserver/2004/07/adventure-works/StoreSurvey\"><AnnualSales>3000000</AnnualSales><AnnualRevenue>300000</AnnualRevenue><BankName>Reserve Security</BankName><BusinessType>OS</BusinessType><YearOpened>1999</YearOpened><Specialty>Mountain</Specialty><SquareFeet>78000</SquareFeet><Brands>4+</Brands><Internet>DSL</Internet><NumberEmployees>100</NumberEmployees></StoreSurvey></td><td>e7efaebc-d62c-4744-9613-57f093f71db6</td><td>2014-09-12</td></tr><tr><td>1316</td><td>Wheelsets Storehouse</td><td>275</td><td><StoreSurvey xmlns=\"http://schemas.microsoft.com/sqlserver/2004/07/adventure-works/StoreSurvey\"><AnnualSales>3000000</AnnualSales><AnnualRevenue>300000</AnnualRevenue><BankName>Primary International</BankName><BusinessType>OS</BusinessType><YearOpened>1979</YearOpened><Specialty>Road</Specialty><SquareFeet>73000</SquareFeet><Brands>2</Brands><Internet>T1</Internet><NumberEmployees>66</NumberEmployees></StoreSurvey></td><td>286465b6-93ec-4ee3-b33a-b5ba2c77bde1</td><td>2014-09-12</td></tr><tr><td>1318</td><td>Town Industries</td><td>277</td><td><StoreSurvey xmlns=\"http://schemas.microsoft.com/sqlserver/2004/07/adventure-works/StoreSurvey\"><AnnualSales>1500000</AnnualSales><AnnualRevenue>150000</AnnualRevenue><BankName>Reserve Security</BankName><BusinessType>OS</BusinessType><YearOpened>1974</YearOpened><Specialty>Touring</Specialty><SquareFeet>38000</SquareFeet><Brands>2</Brands><Internet>DSL</Internet><NumberEmployees>40</NumberEmployees></StoreSurvey></td><td>5642c175-e11f-490a-9590-8d5211692d60</td><td>2014-09-12</td></tr><tr><td>1320</td><td>Security Racks and Locks Wholesalers</td><td>281</td><td><StoreSurvey xmlns=\"http://schemas.microsoft.com/sqlserver/2004/07/adventure-works/StoreSurvey\"><AnnualSales>1500000</AnnualSales><AnnualRevenue>150000</AnnualRevenue><BankName>Primary International</BankName><BusinessType>OS</BusinessType><YearOpened>1980</YearOpened><Specialty>Mountain</Specialty><SquareFeet>41000</SquareFeet><Brands>4+</Brands><Internet>DSL</Internet><NumberEmployees>43</NumberEmployees></StoreSurvey></td><td>69a30a7b-7b6a-43e1-a2f2-438909377803</td><td>2014-09-12</td></tr><tr><td>1322</td><td>Rapid Bikes</td><td>282</td><td><StoreSurvey xmlns=\"http://schemas.microsoft.com/sqlserver/2004/07/adventure-works/StoreSurvey\"><AnnualSales>1500000</AnnualSales><AnnualRevenue>150000</AnnualRevenue><BankName>Guardian Bank</BankName><BusinessType>OS</BusinessType><YearOpened>1986</YearOpened><Specialty>Mountain</Specialty><SquareFeet>40000</SquareFeet><Brands>2</Brands><Internet>T2</Internet><NumberEmployees>46</NumberEmployees></StoreSurvey></td><td>476cdcad-c2c1-4036-b4d0-1469a7b29749</td><td>2014-09-12</td></tr><tr><td>1324</td><td>Metro Sports Equipment</td><td>290</td><td><StoreSurvey xmlns=\"http://schemas.microsoft.com/sqlserver/2004/07/adventure-works/StoreSurvey\"><AnnualSales>1500000</AnnualSales><AnnualRevenue>150000</AnnualRevenue><BankName>International Security</BankName><BusinessType>OS</BusinessType><YearOpened>1992</YearOpened><Specialty>Mountain</Specialty><SquareFeet>41000</SquareFeet><Brands>4+</Brands><Internet>T1</Internet><NumberEmployees>49</NumberEmployees></StoreSurvey></td><td>e522c053-ff26-41cf-8c15-d36b57eb863d</td><td>2014-09-12</td></tr><tr><td>1326</td><td>Nearby Sporting Goods</td><td>289</td><td><StoreSurvey xmlns=\"http://schemas.microsoft.com/sqlserver/2004/07/adventure-works/StoreSurvey\"><AnnualSales>3000000</AnnualSales><AnnualRevenue>300000</AnnualRevenue><BankName>Primary Bank &amp; Reserve</BankName><BusinessType>OS</BusinessType><YearOpened>1998</YearOpened><Specialty>Road</Specialty><SquareFeet>71000</SquareFeet><Brands>4+</Brands><Internet>DSL</Internet><NumberEmployees>52</NumberEmployees></StoreSurvey></td><td>5b2933ee-ec29-4e35-9b6a-bef23a42d046</td><td>2014-09-12</td></tr><tr><td>1328</td><td>Front Sporting Goods</td><td>280</td><td><StoreSurvey xmlns=\"http://schemas.microsoft.com/sqlserver/2004/07/adventure-works/StoreSurvey\"><AnnualSales>3000000</AnnualSales><AnnualRevenue>300000</AnnualRevenue><BankName>International Bank</BankName><BusinessType>OS</BusinessType><YearOpened>1999</YearOpened><Specialty>Mountain</Specialty><SquareFeet>70000</SquareFeet><Brands>2</Brands><Internet>DSL</Internet><NumberEmployees>55</NumberEmployees></StoreSurvey></td><td>5aed8117-0923-489c-864b-db7a601daf33</td><td>2014-09-12</td></tr><tr><td>1330</td><td>Elite Bikes</td><td>277</td><td><StoreSurvey xmlns=\"http://schemas.microsoft.com/sqlserver/2004/07/adventure-works/StoreSurvey\"><AnnualSales>3000000</AnnualSales><AnnualRevenue>300000</AnnualRevenue><BankName>United Security</BankName><BusinessType>OS</BusinessType><YearOpened>1999</YearOpened><Specialty>Road</Specialty><SquareFeet>69000</SquareFeet><Brands>2</Brands><Internet>DSL</Internet><NumberEmployees>58</NumberEmployees></StoreSurvey></td><td>4d2585ec-171b-4aae-a54b-09dedd3a5583</td><td>2014-09-12</td></tr><tr><td>1332</td><td>Catalog Store</td><td>275</td><td><StoreSurvey xmlns=\"http://schemas.microsoft.com/sqlserver/2004/07/adventure-works/StoreSurvey\"><AnnualSales>3000000</AnnualSales><AnnualRevenue>300000</AnnualRevenue><BankName>United Security</BankName><BusinessType>OS</BusinessType><YearOpened>1999</YearOpened><Specialty>Mountain</Specialty><SquareFeet>69000</SquareFeet><Brands>3</Brands><Internet>ISDN</Internet><NumberEmployees>55</NumberEmployees></StoreSurvey></td><td>7ebd2cb1-52cf-4658-ba05-41435ee1f2ba</td><td>2014-09-12</td></tr><tr><td>1334</td><td>Chic Department Stores</td><td>277</td><td><StoreSurvey xmlns=\"http://schemas.microsoft.com/sqlserver/2004/07/adventure-works/StoreSurvey\"><AnnualSales>3000000</AnnualSales><AnnualRevenue>300000</AnnualRevenue><BankName>Reserve Security</BankName><BusinessType>OS</BusinessType><YearOpened>1999</YearOpened><Specialty>Mountain</Specialty><SquareFeet>71000</SquareFeet><Brands>4+</Brands><Internet>T1</Internet><NumberEmployees>58</NumberEmployees></StoreSurvey></td><td>519d6c36-96bc-409d-a2bc-81f75b79e504</td><td>2014-09-12</td></tr><tr><td>1336</td><td>Eastside Department Store</td><td>276</td><td><StoreSurvey xmlns=\"http://schemas.microsoft.com/sqlserver/2004/07/adventure-works/StoreSurvey\"><AnnualSales>3000000</AnnualSales><AnnualRevenue>300000</AnnualRevenue><BankName>Primary International</BankName><BusinessType>OS</BusinessType><YearOpened>1979</YearOpened><Specialty>Road</Specialty><SquareFeet>70000</SquareFeet><Brands>3</Brands><Internet>DSL</Internet><NumberEmployees>61</NumberEmployees></StoreSurvey></td><td>6a400bd8-88a6-46e3-ae7a-c146ffcdc7fc</td><td>2014-09-12</td></tr><tr><td>1338</td><td>Sports Sales and Rental</td><td>279</td><td><StoreSurvey xmlns=\"http://schemas.microsoft.com/sqlserver/2004/07/adventure-works/StoreSurvey\"><AnnualSales>3000000</AnnualSales><AnnualRevenue>300000</AnnualRevenue><BankName>Guardian Bank</BankName><BusinessType>OS</BusinessType><YearOpened>1996</YearOpened><Specialty>Mountain</Specialty><SquareFeet>72000</SquareFeet><Brands>4+</Brands><Internet>T2</Internet><NumberEmployees>64</NumberEmployees></StoreSurvey></td><td>8718b588-0073-4706-824c-0bae6ac48a41</td><td>2014-09-12</td></tr><tr><td>1340</td><td>Cycle Merchants</td><td>278</td><td><StoreSurvey xmlns=\"http://schemas.microsoft.com/sqlserver/2004/07/adventure-works/StoreSurvey\"><AnnualSales>3000000</AnnualSales><AnnualRevenue>300000</AnnualRevenue><BankName>International Security</BankName><BusinessType>OS</BusinessType><YearOpened>1991</YearOpened><Specialty>Road</Specialty><SquareFeet>75000</SquareFeet><Brands>3</Brands><Internet>DSL</Internet><NumberEmployees>67</NumberEmployees></StoreSurvey></td><td>43121a65-0aa0-4cc7-b2c2-068777556d79</td><td>2014-09-12</td></tr><tr><td>1342</td><td>Global Sports Outlet</td><td>286</td><td><StoreSurvey xmlns=\"http://schemas.microsoft.com/sqlserver/2004/07/adventure-works/StoreSurvey\"><AnnualSales>3000000</AnnualSales><AnnualRevenue>300000</AnnualRevenue><BankName>Primary Bank &amp; Reserve</BankName><BusinessType>OS</BusinessType><YearOpened>1993</YearOpened><Specialty>Mountain</Specialty><SquareFeet>75000</SquareFeet><Brands>4+</Brands><Internet>DSL</Internet><NumberEmployees>70</NumberEmployees></StoreSurvey></td><td>c20c86a2-5d1a-4a9d-99da-d989bcd0f2fd</td><td>2014-09-12</td></tr><tr><td>1344</td><td>Exotic Bikes</td><td>275</td><td><StoreSurvey xmlns=\"http://schemas.microsoft.com/sqlserver/2004/07/adventure-works/StoreSurvey\"><AnnualSales>3000000</AnnualSales><AnnualRevenue>300000</AnnualRevenue><BankName>International Bank</BankName><BusinessType>OS</BusinessType><YearOpened>1998</YearOpened><Specialty>Road</Specialty><SquareFeet>75000</SquareFeet><Brands>4+</Brands><Internet>ISDN</Internet><NumberEmployees>73</NumberEmployees></StoreSurvey></td><td>4f33eed4-011c-4916-8eb3-52b9032eab97</td><td>2014-09-12</td></tr><tr><td>1346</td><td>Fitness Hotel</td><td>277</td><td><StoreSurvey xmlns=\"http://schemas.microsoft.com/sqlserver/2004/07/adventure-works/StoreSurvey\"><AnnualSales>3000000</AnnualSales><AnnualRevenue>300000</AnnualRevenue><BankName>United Security</BankName><BusinessType>OS</BusinessType><YearOpened>1990</YearOpened><Specialty>Road</Specialty><SquareFeet>75000</SquareFeet><Brands>2</Brands><Internet>T1</Internet><NumberEmployees>76</NumberEmployees></StoreSurvey></td><td>5b9242cc-550d-4105-9baa-886f20dd34f9</td><td>2014-09-12</td></tr><tr><td>1348</td><td>Healthy Activity Store</td><td>276</td><td><StoreSurvey xmlns=\"http://schemas.microsoft.com/sqlserver/2004/07/adventure-works/StoreSurvey\"><AnnualSales>3000000</AnnualSales><AnnualRevenue>300000</AnnualRevenue><BankName>Reserve Security</BankName><BusinessType>OS</BusinessType><YearOpened>1995</YearOpened><Specialty>Mountain</Specialty><SquareFeet>74000</SquareFeet><Brands>4+</Brands><Internet>ISDN</Internet><NumberEmployees>79</NumberEmployees></StoreSurvey></td><td>5988540b-f987-421f-a342-4eb1b809afa1</td><td>2014-09-12</td></tr><tr><td>1350</td><td>Every Bike Shop</td><td>279</td><td><StoreSurvey xmlns=\"http://schemas.microsoft.com/sqlserver/2004/07/adventure-works/StoreSurvey\"><AnnualSales>3000000</AnnualSales><AnnualRevenue>300000</AnnualRevenue><BankName>Primary International</BankName><BusinessType>OS</BusinessType><YearOpened>1987</YearOpened><Specialty>Road</Specialty><SquareFeet>76000</SquareFeet><Brands>2</Brands><Internet>T1</Internet><NumberEmployees>80</NumberEmployees></StoreSurvey></td><td>1e7c9c84-dab9-4164-8154-4f7b8893a542</td><td>2014-09-12</td></tr><tr><td>1352</td><td>Grand Industries</td><td>278</td><td><StoreSurvey xmlns=\"http://schemas.microsoft.com/sqlserver/2004/07/adventure-works/StoreSurvey\"><AnnualSales>3000000</AnnualSales><AnnualRevenue>300000</AnnualRevenue><BankName>Guardian Bank</BankName><BusinessType>OS</BusinessType><YearOpened>1992</YearOpened><Specialty>Touring</Specialty><SquareFeet>77000</SquareFeet><Brands>2</Brands><Internet>T1</Internet><NumberEmployees>81</NumberEmployees></StoreSurvey></td><td>72cfcc42-64dc-4283-98c7-a64a2d112451</td><td>2014-09-12</td></tr><tr><td>1354</td><td>Ideal Components</td><td>286</td><td><StoreSurvey xmlns=\"http://schemas.microsoft.com/sqlserver/2004/07/adventure-works/StoreSurvey\"><AnnualSales>3000000</AnnualSales><AnnualRevenue>300000</AnnualRevenue><BankName>International Security</BankName><BusinessType>OS</BusinessType><YearOpened>1984</YearOpened><Specialty>Touring</Specialty><SquareFeet>76000</SquareFeet><Brands>3</Brands><Internet>DSL</Internet><NumberEmployees>82</NumberEmployees></StoreSurvey></td><td>254d461c-3410-4a91-b496-f4b43c1f406e</td><td>2014-09-12</td></tr><tr><td>1356</td><td>Larger Cycle Shop</td><td>275</td><td><StoreSurvey xmlns=\"http://schemas.microsoft.com/sqlserver/2004/07/adventure-works/StoreSurvey\"><AnnualSales>3000000</AnnualSales><AnnualRevenue>300000</AnnualRevenue><BankName>Primary Bank &amp; Reserve</BankName><BusinessType>OS</BusinessType><YearOpened>1989</YearOpened><Specialty>Road</Specialty><SquareFeet>77000</SquareFeet><Brands>4+</Brands><Internet>T1</Internet><NumberEmployees>83</NumberEmployees></StoreSurvey></td><td>ac717a14-7677-402e-8b8a-3b9e17ca3664</td><td>2014-09-12</td></tr><tr><td>1358</td><td>Leading Sales & Repair</td><td>277</td><td><StoreSurvey xmlns=\"http://schemas.microsoft.com/sqlserver/2004/07/adventure-works/StoreSurvey\"><AnnualSales>3000000</AnnualSales><AnnualRevenue>300000</AnnualRevenue><BankName>International Bank</BankName><BusinessType>OS</BusinessType><YearOpened>1981</YearOpened><Specialty>Road</Specialty><SquareFeet>75000</SquareFeet><Brands>4+</Brands><Internet>T1</Internet><NumberEmployees>84</NumberEmployees></StoreSurvey></td><td>2a953c4e-a056-456a-86fc-21e0dcd7e432</td><td>2014-09-12</td></tr><tr><td>1360</td><td>Main Bicycle Services</td><td>276</td><td><StoreSurvey xmlns=\"http://schemas.microsoft.com/sqlserver/2004/07/adventure-works/StoreSurvey\"><AnnualSales>3000000</AnnualSales><AnnualRevenue>300000</AnnualRevenue><BankName>United Security</BankName><BusinessType>OS</BusinessType><YearOpened>1986</YearOpened><Specialty>Road</Specialty><SquareFeet>75000</SquareFeet><Brands>3</Brands><Internet>T2</Internet><NumberEmployees>85</NumberEmployees></StoreSurvey></td><td>4ebcd19d-6dab-4f99-83c0-c439a13969d3</td><td>2014-09-12</td></tr><tr><td>1362</td><td>Metro Bike Mart</td><td>279</td><td><StoreSurvey xmlns=\"http://schemas.microsoft.com/sqlserver/2004/07/adventure-works/StoreSurvey\"><AnnualSales>3000000</AnnualSales><AnnualRevenue>300000</AnnualRevenue><BankName>Reserve Security</BankName><BusinessType>OS</BusinessType><YearOpened>1978</YearOpened><Specialty>Mountain</Specialty><SquareFeet>76000</SquareFeet><Brands>3</Brands><Internet>DSL</Internet><NumberEmployees>86</NumberEmployees></StoreSurvey></td><td>662ce427-c733-44b5-a35c-891589d210b8</td><td>2014-09-12</td></tr><tr><td>1364</td><td>Tandem Sales and Service</td><td>278</td><td><StoreSurvey xmlns=\"http://schemas.microsoft.com/sqlserver/2004/07/adventure-works/StoreSurvey\"><AnnualSales>1500000</AnnualSales><AnnualRevenue>150000</AnnualRevenue><BankName>International Bank</BankName><BusinessType>BS</BusinessType><YearOpened>1972</YearOpened><Specialty>Road</Specialty><SquareFeet>38000</SquareFeet><Brands>4+</Brands><Internet>DSL</Internet><NumberEmployees>34</NumberEmployees></StoreSurvey></td><td>4372d419-1d5a-4a3d-8803-cb94a930e5d9</td><td>2014-09-12</td></tr><tr><td>1366</td><td>Sensible Sports</td><td>286</td><td><StoreSurvey xmlns=\"http://schemas.microsoft.com/sqlserver/2004/07/adventure-works/StoreSurvey\"><AnnualSales>1500000</AnnualSales><AnnualRevenue>150000</AnnualRevenue><BankName>United Security</BankName><BusinessType>BS</BusinessType><YearOpened>1978</YearOpened><Specialty>Touring</Specialty><SquareFeet>37000</SquareFeet><Brands>2</Brands><Internet>DSL</Internet><NumberEmployees>33</NumberEmployees></StoreSurvey></td><td>c32f634b-50be-48bb-a1e4-f39800b04407</td><td>2014-09-12</td></tr><tr><td>1368</td><td>Reliable Retail Center</td><td>278</td><td><StoreSurvey xmlns=\"http://schemas.microsoft.com/sqlserver/2004/07/adventure-works/StoreSurvey\"><AnnualSales>1500000</AnnualSales><AnnualRevenue>150000</AnnualRevenue><BankName>Reserve Security</BankName><BusinessType>BS</BusinessType><YearOpened>1984</YearOpened><Specialty>Road</Specialty><SquareFeet>35000</SquareFeet><Brands>4+</Brands><Internet>DSL</Internet><NumberEmployees>32</NumberEmployees></StoreSurvey></td><td>65eb45f3-c60f-4bb6-85ce-b8482e68868b</td><td>2014-09-12</td></tr><tr><td>1370</td><td>Liquidation Sales</td><td>286</td><td><StoreSurvey xmlns=\"http://schemas.microsoft.com/sqlserver/2004/07/adventure-works/StoreSurvey\"><AnnualSales>1500000</AnnualSales><AnnualRevenue>150000</AnnualRevenue><BankName>Primary International</BankName><BusinessType>BS</BusinessType><YearOpened>1990</YearOpened><Specialty>Touring</Specialty><SquareFeet>37000</SquareFeet><Brands>4+</Brands><Internet>T1</Internet><NumberEmployees>31</NumberEmployees></StoreSurvey></td><td>0f23ce3a-c1d0-4c61-9d5f-a071dcbc9912</td><td>2014-09-12</td></tr><tr><td>1372</td><td>Friendly Bike Shop</td><td>275</td><td><StoreSurvey xmlns=\"http://schemas.microsoft.com/sqlserver/2004/07/adventure-works/StoreSurvey\"><AnnualSales>1500000</AnnualSales><AnnualRevenue>150000</AnnualRevenue><BankName>Guardian Bank</BankName><BusinessType>BS</BusinessType><YearOpened>1996</YearOpened><Specialty>Road</Specialty><SquareFeet>39000</SquareFeet><Brands>2</Brands><Internet>ISDN</Internet><NumberEmployees>30</NumberEmployees></StoreSurvey></td><td>8483baae-a01a-4497-bebf-1f193e1d5f34</td><td>2014-09-12</td></tr><tr><td>1374</td><td>Yellow Bicycle Company</td><td>277</td><td><StoreSurvey xmlns=\"http://schemas.microsoft.com/sqlserver/2004/07/adventure-works/StoreSurvey\"><AnnualSales>1000000</AnnualSales><AnnualRevenue>100000</AnnualRevenue><BankName>International Security</BankName><BusinessType>BS</BusinessType><YearOpened>2001</YearOpened><Specialty>Mountain</Specialty><SquareFeet>26000</SquareFeet><Brands>4+</Brands><Internet>T1</Internet><NumberEmployees>29</NumberEmployees></StoreSurvey></td><td>6ae7f252-55b7-4d73-91b1-4580678cba60</td><td>2014-09-12</td></tr><tr><td>1376</td><td>Sports Products Store</td><td>276</td><td><StoreSurvey xmlns=\"http://schemas.microsoft.com/sqlserver/2004/07/adventure-works/StoreSurvey\"><AnnualSales>1000000</AnnualSales><AnnualRevenue>100000</AnnualRevenue><BankName>Primary Bank &amp; Reserve</BankName><BusinessType>BS</BusinessType><YearOpened>1971</YearOpened><Specialty>Road</Specialty><SquareFeet>26000</SquareFeet><Brands>4+</Brands><Internet>DSL</Internet><NumberEmployees>28</NumberEmployees></StoreSurvey></td><td>dccccf66-c09a-45cd-8f03-e2fd39257c4f</td><td>2014-09-12</td></tr><tr><td>1378</td><td>Selected Distributors</td><td>279</td><td><StoreSurvey xmlns=\"http://schemas.microsoft.com/sqlserver/2004/07/adventure-works/StoreSurvey\"><AnnualSales>1000000</AnnualSales><AnnualRevenue>100000</AnnualRevenue><BankName>International Bank</BankName><BusinessType>BS</BusinessType><YearOpened>1998</YearOpened><Specialty>Mountain</Specialty><SquareFeet>27000</SquareFeet><Brands>3</Brands><Internet>DSL</Internet><NumberEmployees>27</NumberEmployees></StoreSurvey></td><td>c408e9d4-c9f0-422f-89a1-f5c77d5d9680</td><td>2014-09-12</td></tr><tr><td>1380</td><td>Impervious Paint Company</td><td>290</td><td><StoreSurvey xmlns=\"http://schemas.microsoft.com/sqlserver/2004/07/adventure-works/StoreSurvey\"><AnnualSales>800000</AnnualSales><AnnualRevenue>80000</AnnualRevenue><BankName>Primary Bank &amp; Reserve</BankName><BusinessType>BS</BusinessType><YearOpened>1972</YearOpened><Specialty>Mountain</Specialty><SquareFeet>18000</SquareFeet><Brands>3</Brands><Internet>ISDN</Internet><NumberEmployees>10</NumberEmployees></StoreSurvey></td><td>26b1e4dc-8fb0-495c-8188-0e06f117f2f9</td><td>2014-09-12</td></tr><tr><td>1382</td><td>Shipping Specialists</td><td>289</td><td><StoreSurvey xmlns=\"http://schemas.microsoft.com/sqlserver/2004/07/adventure-works/StoreSurvey\"><AnnualSales>800000</AnnualSales><AnnualRevenue>80000</AnnualRevenue><BankName>International Bank</BankName><BusinessType>BS</BusinessType><YearOpened>1978</YearOpened><Specialty>Road</Specialty><SquareFeet>20000</SquareFeet><Brands>2</Brands><Internet>DSL</Internet><NumberEmployees>13</NumberEmployees></StoreSurvey></td><td>14aa6ec7-1684-4a9d-bfb9-3405270bc52b</td><td>2014-09-12</td></tr><tr><td>1384</td><td>Finer Sporting Goods</td><td>290</td><td><StoreSurvey xmlns=\"http://schemas.microsoft.com/sqlserver/2004/07/adventure-works/StoreSurvey\"><AnnualSales>800000</AnnualSales><AnnualRevenue>80000</AnnualRevenue><BankName>United Security</BankName><BusinessType>BS</BusinessType><YearOpened>1984</YearOpened><Specialty>Touring</Specialty><SquareFeet>18000</SquareFeet><Brands>4+</Brands><Internet>T1</Internet><NumberEmployees>16</NumberEmployees></StoreSurvey></td><td>dc4c935b-4788-48de-8e2b-fe702b9b3940</td><td>2014-09-12</td></tr><tr><td>1386</td><td>Authentic Sales and Service</td><td>289</td><td><StoreSurvey xmlns=\"http://schemas.microsoft.com/sqlserver/2004/07/adventure-works/StoreSurvey\"><AnnualSales>800000</AnnualSales><AnnualRevenue>80000</AnnualRevenue><BankName>Reserve Security</BankName><BusinessType>BS</BusinessType><YearOpened>1990</YearOpened><Specialty>Mountain</Specialty><SquareFeet>20000</SquareFeet><Brands>AW</Brands><Internet>DSL</Internet><NumberEmployees>19</NumberEmployees></StoreSurvey></td><td>9cb195b3-45e3-455c-8e5e-8b621010bca8</td><td>2014-09-12</td></tr><tr><td>1388</td><td>Official Parts Shop</td><td>280</td><td><StoreSurvey xmlns=\"http://schemas.microsoft.com/sqlserver/2004/07/adventure-works/StoreSurvey\"><AnnualSales>1000000</AnnualSales><AnnualRevenue>100000</AnnualRevenue><BankName>Primary International</BankName><BusinessType>BS</BusinessType><YearOpened>1996</YearOpened><Specialty>Road</Specialty><SquareFeet>24000</SquareFeet><Brands>4+</Brands><Internet>T1</Internet><NumberEmployees>22</NumberEmployees></StoreSurvey></td><td>0676819d-a218-496d-a83b-4b750bee0d61</td><td>2014-09-12</td></tr><tr><td>1390</td><td>Contoso, Ltd.</td><td>277</td><td><StoreSurvey xmlns=\"http://schemas.microsoft.com/sqlserver/2004/07/adventure-works/StoreSurvey\"><AnnualSales>1000000</AnnualSales><AnnualRevenue>100000</AnnualRevenue><BankName>Guardian Bank</BankName><BusinessType>BS</BusinessType><YearOpened>2001</YearOpened><Specialty>Road</Specialty><SquareFeet>24000</SquareFeet><Brands>4+</Brands><Internet>T2</Internet><NumberEmployees>25</NumberEmployees></StoreSurvey></td><td>8874d7b8-9bfb-412a-b19c-3c566c15c03a</td><td>2014-09-12</td></tr><tr><td>1392</td><td>Discount Tours</td><td>281</td><td><StoreSurvey xmlns=\"http://schemas.microsoft.com/sqlserver/2004/07/adventure-works/StoreSurvey\"><AnnualSales>1000000</AnnualSales><AnnualRevenue>100000</AnnualRevenue><BankName>International Security</BankName><BusinessType>BS</BusinessType><YearOpened>1971</YearOpened><Specialty>Road</Specialty><SquareFeet>28000</SquareFeet><Brands>4+</Brands><Internet>DSL</Internet><NumberEmployees>28</NumberEmployees></StoreSurvey></td><td>d208f87f-7cff-40f7-b3a8-efbabbae289c</td><td>2014-09-12</td></tr><tr><td>1394</td><td>Tire Exchange</td><td>282</td><td><StoreSurvey xmlns=\"http://schemas.microsoft.com/sqlserver/2004/07/adventure-works/StoreSurvey\"><AnnualSales>1500000</AnnualSales><AnnualRevenue>150000</AnnualRevenue><BankName>Primary Bank &amp; Reserve</BankName><BusinessType>BS</BusinessType><YearOpened>1998</YearOpened><Specialty>Mountain</Specialty><SquareFeet>36000</SquareFeet><Brands>4+</Brands><Internet>T1</Internet><NumberEmployees>31</NumberEmployees></StoreSurvey></td><td>529d4609-7129-4c41-a88e-7bbe2f25b663</td><td>2014-09-12</td></tr><tr><td>1396</td><td>Racing Tours</td><td>290</td><td><StoreSurvey xmlns=\"http://schemas.microsoft.com/sqlserver/2004/07/adventure-works/StoreSurvey\"><AnnualSales>1500000</AnnualSales><AnnualRevenue>150000</AnnualRevenue><BankName>International Bank</BankName><BusinessType>BS</BusinessType><YearOpened>1983</YearOpened><Specialty>Mountain</Specialty><SquareFeet>36000</SquareFeet><Brands>3</Brands><Internet>T1</Internet><NumberEmployees>34</NumberEmployees></StoreSurvey></td><td>6b6d4a42-f6dc-4c37-8c31-0aea817b2167</td><td>2014-09-12</td></tr><tr><td>1398</td><td>Oils and Fluids Warehouse</td><td>289</td><td><StoreSurvey xmlns=\"http://schemas.microsoft.com/sqlserver/2004/07/adventure-works/StoreSurvey\"><AnnualSales>1500000</AnnualSales><AnnualRevenue>150000</AnnualRevenue><BankName>United Security</BankName><BusinessType>BS</BusinessType><YearOpened>1995</YearOpened><Specialty>Mountain</Specialty><SquareFeet>37000</SquareFeet><Brands>3</Brands><Internet>T1</Internet><NumberEmployees>37</NumberEmployees></StoreSurvey></td><td>ebfc3863-01f0-4614-8a38-25f35f6801e2</td><td>2014-09-12</td></tr><tr><td>1400</td><td>Finished Parts Shop</td><td>290</td><td><StoreSurvey xmlns=\"http://schemas.microsoft.com/sqlserver/2004/07/adventure-works/StoreSurvey\"><AnnualSales>1500000</AnnualSales><AnnualRevenue>150000</AnnualRevenue><BankName>Reserve Security</BankName><BusinessType>BS</BusinessType><YearOpened>1995</YearOpened><Specialty>Mountain</Specialty><SquareFeet>36000</SquareFeet><Brands>3</Brands><Internet>DSL</Internet><NumberEmployees>40</NumberEmployees></StoreSurvey></td><td>08aefe30-a612-49ad-8b00-f4f8304c17cb</td><td>2014-09-12</td></tr><tr><td>1402</td><td>Consumer Equipment</td><td>289</td><td><StoreSurvey xmlns=\"http://schemas.microsoft.com/sqlserver/2004/07/adventure-works/StoreSurvey\"><AnnualSales>1500000</AnnualSales><AnnualRevenue>150000</AnnualRevenue><BankName>Primary International</BankName><BusinessType>BS</BusinessType><YearOpened>1992</YearOpened><Specialty>Road</Specialty><SquareFeet>37000</SquareFeet><Brands>4+</Brands><Internet>T2</Internet><NumberEmployees>43</NumberEmployees></StoreSurvey></td><td>05721187-b066-4424-b9a3-e089f95f3fd4</td><td>2014-09-12</td></tr><tr><td>1404</td><td>Rally Master Company Inc</td><td>281</td><td><StoreSurvey xmlns=\"http://schemas.microsoft.com/sqlserver/2004/07/adventure-works/StoreSurvey\"><AnnualSales>3000000</AnnualSales><AnnualRevenue>300000</AnnualRevenue><BankName>International Security</BankName><BusinessType>OS</BusinessType><YearOpened>1992</YearOpened><Specialty>Touring</Specialty><SquareFeet>77000</SquareFeet><Brands>2</Brands><Internet>T2</Internet><NumberEmployees>97</NumberEmployees></StoreSurvey></td><td>7501acfe-c321-41d1-9966-7928ee700b8e</td><td>2014-09-12</td></tr><tr><td>1406</td><td>Professional Cyclists</td><td>282</td><td><StoreSurvey xmlns=\"http://schemas.microsoft.com/sqlserver/2004/07/adventure-works/StoreSurvey\"><AnnualSales>3000000</AnnualSales><AnnualRevenue>300000</AnnualRevenue><BankName>Primary Bank &amp; Reserve</BankName><BusinessType>OS</BusinessType><YearOpened>1998</YearOpened><Specialty>Road</Specialty><SquareFeet>77000</SquareFeet><Brands>3</Brands><Internet>T1</Internet><NumberEmployees>98</NumberEmployees></StoreSurvey></td><td>e0097dfc-ab99-445b-b0a1-f8f53bd19743</td><td>2014-09-12</td></tr><tr><td>1408</td><td>Sports Products Store</td><td>290</td><td><StoreSurvey xmlns=\"http://schemas.microsoft.com/sqlserver/2004/07/adventure-works/StoreSurvey\"><AnnualSales>3000000</AnnualSales><AnnualRevenue>300000</AnnualRevenue><BankName>International Bank</BankName><BusinessType>OS</BusinessType><YearOpened>1999</YearOpened><Specialty>Road</Specialty><SquareFeet>78000</SquareFeet><Brands>3</Brands><Internet>ISDN</Internet><NumberEmployees>99</NumberEmployees></StoreSurvey></td><td>f4988993-96c3-4cfb-9ef5-325adeff13d9</td><td>2014-09-12</td></tr><tr><td>1410</td><td>Exclusive Bicycle Mart</td><td>289</td><td><StoreSurvey xmlns=\"http://schemas.microsoft.com/sqlserver/2004/07/adventure-works/StoreSurvey\"><AnnualSales>3000000</AnnualSales><AnnualRevenue>300000</AnnualRevenue><BankName>United Security</BankName><BusinessType>OS</BusinessType><YearOpened>1999</YearOpened><Specialty>Road</Specialty><SquareFeet>77000</SquareFeet><Brands>4+</Brands><Internet>DSL</Internet><NumberEmployees>100</NumberEmployees></StoreSurvey></td><td>1638ea15-3bdc-4803-a8ee-4604446ab757</td><td>2014-09-12</td></tr><tr><td>1412</td><td>City Manufacturing</td><td>280</td><td><StoreSurvey xmlns=\"http://schemas.microsoft.com/sqlserver/2004/07/adventure-works/StoreSurvey\"><AnnualSales>3000000</AnnualSales><AnnualRevenue>300000</AnnualRevenue><BankName>Reserve Security</BankName><BusinessType>OS</BusinessType><YearOpened>1979</YearOpened><Specialty>Mountain</Specialty><SquareFeet>75000</SquareFeet><Brands>4+</Brands><Internet>DSL</Internet><NumberEmployees>66</NumberEmployees></StoreSurvey></td><td>c8a665ba-4ee0-4a76-a2fc-b78323823f46</td><td>2014-09-12</td></tr><tr><td>1414</td><td>Bike Dealers Association</td><td>281</td><td><StoreSurvey xmlns=\"http://schemas.microsoft.com/sqlserver/2004/07/adventure-works/StoreSurvey\"><AnnualSales>1500000</AnnualSales><AnnualRevenue>150000</AnnualRevenue><BankName>United Security</BankName><BusinessType>OS</BusinessType><YearOpened>1974</YearOpened><Specialty>Road</Specialty><SquareFeet>40000</SquareFeet><Brands>3</Brands><Internet>T1</Internet><NumberEmployees>40</NumberEmployees></StoreSurvey></td><td>b882005e-0489-4033-ad67-3e0cbf4ffa37</td><td>2014-09-12</td></tr><tr><td>1416</td><td>Pedal Systems Company</td><td>279</td><td><StoreSurvey xmlns=\"http://schemas.microsoft.com/sqlserver/2004/07/adventure-works/StoreSurvey\"><AnnualSales>1500000</AnnualSales><AnnualRevenue>150000</AnnualRevenue><BankName>Reserve Security</BankName><BusinessType>OS</BusinessType><YearOpened>1980</YearOpened><Specialty>Road</Specialty><SquareFeet>39000</SquareFeet><Brands>4+</Brands><Internet>T3</Internet><NumberEmployees>43</NumberEmployees></StoreSurvey></td><td>0d2bed8a-7bce-4f09-8da0-ac99a88b334f</td><td>2014-09-12</td></tr><tr><td>1418</td><td>Health Spa, Limited</td><td>282</td><td><StoreSurvey xmlns=\"http://schemas.microsoft.com/sqlserver/2004/07/adventure-works/StoreSurvey\"><AnnualSales>1500000</AnnualSales><AnnualRevenue>150000</AnnualRevenue><BankName>Primary International</BankName><BusinessType>OS</BusinessType><YearOpened>1986</YearOpened><Specialty>Road</Specialty><SquareFeet>40000</SquareFeet><Brands>4+</Brands><Internet>T1</Internet><NumberEmployees>46</NumberEmployees></StoreSurvey></td><td>2340bc61-c2f5-4f38-84a6-44b3e1b90d5e</td><td>2014-09-12</td></tr><tr><td>1420</td><td>Global Bike Retailers</td><td>288</td><td><StoreSurvey xmlns=\"http://schemas.microsoft.com/sqlserver/2004/07/adventure-works/StoreSurvey\"><AnnualSales>1500000</AnnualSales><AnnualRevenue>150000</AnnualRevenue><BankName>Guardian Bank</BankName><BusinessType>OS</BusinessType><YearOpened>1992</YearOpened><Specialty>Touring</Specialty><SquareFeet>40000</SquareFeet><Brands>4+</Brands><Internet>T1</Internet><NumberEmployees>49</NumberEmployees></StoreSurvey></td><td>72466590-e6b6-4aab-a1f2-0dcb18685a12</td><td>2014-09-12</td></tr><tr><td>1422</td><td>Fashionable Department Stores</td><td>275</td><td><StoreSurvey xmlns=\"http://schemas.microsoft.com/sqlserver/2004/07/adventure-works/StoreSurvey\"><AnnualSales>3000000</AnnualSales><AnnualRevenue>300000</AnnualRevenue><BankName>International Security</BankName><BusinessType>OS</BusinessType><YearOpened>1998</YearOpened><Specialty>Mountain</Specialty><SquareFeet>68000</SquareFeet><Brands>3</Brands><Internet>DSL</Internet><NumberEmployees>52</NumberEmployees></StoreSurvey></td><td>5221dd86-f37e-4f4a-8374-bbcae7e69f4f</td><td>2014-09-12</td></tr><tr><td>1424</td><td>Closeout Boutique</td><td>283</td><td><StoreSurvey xmlns=\"http://schemas.microsoft.com/sqlserver/2004/07/adventure-works/StoreSurvey\"><AnnualSales>3000000</AnnualSales><AnnualRevenue>300000</AnnualRevenue><BankName>Primary Bank &amp; Reserve</BankName><BusinessType>OS</BusinessType><YearOpened>1999</YearOpened><Specialty>Mountain</Specialty><SquareFeet>70000</SquareFeet><Brands>3</Brands><Internet>T1</Internet><NumberEmployees>55</NumberEmployees></StoreSurvey></td><td>7b25c4ec-0a30-416b-8353-99a4725cb62a</td><td>2014-09-12</td></tr><tr><td>1426</td><td>Bicycle Merchandise Warehouse</td><td>281</td><td><StoreSurvey xmlns=\"http://schemas.microsoft.com/sqlserver/2004/07/adventure-works/StoreSurvey\"><AnnualSales>3000000</AnnualSales><AnnualRevenue>300000</AnnualRevenue><BankName>International Bank</BankName><BusinessType>OS</BusinessType><YearOpened>1999</YearOpened><Specialty>Road</Specialty><SquareFeet>69000</SquareFeet><Brands>4+</Brands><Internet>T1</Internet><NumberEmployees>58</NumberEmployees></StoreSurvey></td><td>820b50fb-3a24-4cc5-a4dd-aae6ad57d919</td><td>2014-09-12</td></tr><tr><td>1428</td><td>Spoke Manufacturers</td><td>279</td><td><StoreSurvey xmlns=\"http://schemas.microsoft.com/sqlserver/2004/07/adventure-works/StoreSurvey\"><AnnualSales>3000000</AnnualSales><AnnualRevenue>300000</AnnualRevenue><BankName>United Security</BankName><BusinessType>OS</BusinessType><YearOpened>1979</YearOpened><Specialty>Road</Specialty><SquareFeet>74000</SquareFeet><Brands>4+</Brands><Internet>T1</Internet><NumberEmployees>61</NumberEmployees></StoreSurvey></td><td>d0e5ad57-6e5e-40c6-a834-d2906a365231</td><td>2014-09-12</td></tr><tr><td>1430</td><td>Leather Seat Factory</td><td>282</td><td><StoreSurvey xmlns=\"http://schemas.microsoft.com/sqlserver/2004/07/adventure-works/StoreSurvey\"><AnnualSales>3000000</AnnualSales><AnnualRevenue>300000</AnnualRevenue><BankName>Reserve Security</BankName><BusinessType>OS</BusinessType><YearOpened>1996</YearOpened><Specialty>Mountain</Specialty><SquareFeet>72000</SquareFeet><Brands>4+</Brands><Internet>ISDN</Internet><NumberEmployees>64</NumberEmployees></StoreSurvey></td><td>1fcc2c07-e555-42b9-a4b7-cff0b9dcf884</td><td>2014-09-12</td></tr><tr><td>1432</td><td>Good Bicycle Store</td><td>288</td><td><StoreSurvey xmlns=\"http://schemas.microsoft.com/sqlserver/2004/07/adventure-works/StoreSurvey\"><AnnualSales>3000000</AnnualSales><AnnualRevenue>300000</AnnualRevenue><BankName>Primary International</BankName><BusinessType>OS</BusinessType><YearOpened>1991</YearOpened><Specialty>Road</Specialty><SquareFeet>71000</SquareFeet><Brands>4+</Brands><Internet>ISDN</Internet><NumberEmployees>67</NumberEmployees></StoreSurvey></td><td>8625c3d9-e443-494e-ad75-523a30e2967b</td><td>2014-09-12</td></tr><tr><td>1434</td><td>Endurance Bikes</td><td>275</td><td><StoreSurvey xmlns=\"http://schemas.microsoft.com/sqlserver/2004/07/adventure-works/StoreSurvey\"><AnnualSales>3000000</AnnualSales><AnnualRevenue>300000</AnnualRevenue><BankName>Guardian Bank</BankName><BusinessType>OS</BusinessType><YearOpened>1993</YearOpened><Specialty>Road</Specialty><SquareFeet>75000</SquareFeet><Brands>3</Brands><Internet>DSL</Internet><NumberEmployees>70</NumberEmployees></StoreSurvey></td><td>d393f32e-8fe6-4ff2-865c-b4175331f985</td><td>2014-09-12</td></tr><tr><td>1436</td><td>Practical Bike Supply Company</td><td>277</td><td><StoreSurvey xmlns=\"http://schemas.microsoft.com/sqlserver/2004/07/adventure-works/StoreSurvey\"><AnnualSales>1000000</AnnualSales><AnnualRevenue>100000</AnnualRevenue><BankName>International Security</BankName><BusinessType>BS</BusinessType><YearOpened>2001</YearOpened><Specialty>Mountain</Specialty><SquareFeet>26000</SquareFeet><Brands>3</Brands><Internet>DSL</Internet><NumberEmployees>25</NumberEmployees></StoreSurvey></td><td>7d0add31-0074-42d0-b00a-ddb8d31bbbd2</td><td>2014-09-12</td></tr><tr><td>1438</td><td>Some Discount Store</td><td>280</td><td><StoreSurvey xmlns=\"http://schemas.microsoft.com/sqlserver/2004/07/adventure-works/StoreSurvey\"><AnnualSales>1000000</AnnualSales><AnnualRevenue>100000</AnnualRevenue><BankName>Guardian Bank</BankName><BusinessType>BS</BusinessType><YearOpened>1996</YearOpened><Specialty>Mountain</Specialty><SquareFeet>27000</SquareFeet><Brands>2</Brands><Internet>T1</Internet><NumberEmployees>22</NumberEmployees></StoreSurvey></td><td>b5ca298f-1ecc-4f42-a077-a32c5c9a30bb</td><td>2014-09-12</td></tr><tr><td>1440</td><td>Variety Cycling</td><td>289</td><td><StoreSurvey xmlns=\"http://schemas.microsoft.com/sqlserver/2004/07/adventure-works/StoreSurvey\"><AnnualSales>800000</AnnualSales><AnnualRevenue>80000</AnnualRevenue><BankName>Primary International</BankName><BusinessType>BS</BusinessType><YearOpened>1990</YearOpened><Specialty>Touring</Specialty><SquareFeet>21000</SquareFeet><Brands>AW</Brands><Internet>DSL</Internet><NumberEmployees>19</NumberEmployees></StoreSurvey></td><td>47d6b3c9-a6d6-405a-9cce-1f78cbafb1fd</td><td>2014-09-12</td></tr><tr><td>1442</td><td>Accessories Network</td><td>290</td><td><StoreSurvey xmlns=\"http://schemas.microsoft.com/sqlserver/2004/07/adventure-works/StoreSurvey\"><AnnualSales>800000</AnnualSales><AnnualRevenue>80000</AnnualRevenue><BankName>Reserve Security</BankName><BusinessType>BS</BusinessType><YearOpened>1984</YearOpened><Specialty>Touring</Specialty><SquareFeet>22000</SquareFeet><Brands>2</Brands><Internet>DSL</Internet><NumberEmployees>16</NumberEmployees></StoreSurvey></td><td>4ffffbb5-1337-4f14-ba3c-6bb27cd33e50</td><td>2014-09-12</td></tr><tr><td>1444</td><td>Remote Bicycle Specialists</td><td>282</td><td><StoreSurvey xmlns=\"http://schemas.microsoft.com/sqlserver/2004/07/adventure-works/StoreSurvey\"><AnnualSales>800000</AnnualSales><AnnualRevenue>80000</AnnualRevenue><BankName>United Security</BankName><BusinessType>BS</BusinessType><YearOpened>1978</YearOpened><Specialty>Road</Specialty><SquareFeet>19000</SquareFeet><Brands>3</Brands><Internet>DSL</Internet><NumberEmployees>13</NumberEmployees></StoreSurvey></td><td>2b37636b-b111-414f-ad38-25c3d407b501</td><td>2014-09-12</td></tr><tr><td>1446</td><td>Curbside Sporting Goods</td><td>281</td><td><StoreSurvey xmlns=\"http://schemas.microsoft.com/sqlserver/2004/07/adventure-works/StoreSurvey\"><AnnualSales>800000</AnnualSales><AnnualRevenue>80000</AnnualRevenue><BankName>International Bank</BankName><BusinessType>BS</BusinessType><YearOpened>1972</YearOpened><Specialty>Road</Specialty><SquareFeet>20000</SquareFeet><Brands>3</Brands><Internet>DSL</Internet><NumberEmployees>10</NumberEmployees></StoreSurvey></td><td>3ee65eec-4abf-48b2-82b6-5b368c1bb84e</td><td>2014-09-12</td></tr><tr><td>1448</td><td>Friendly Neighborhood Bikes</td><td>277</td><td><StoreSurvey xmlns=\"http://schemas.microsoft.com/sqlserver/2004/07/adventure-works/StoreSurvey\"><AnnualSales>1000000</AnnualSales><AnnualRevenue>100000</AnnualRevenue><BankName>United Security</BankName><BusinessType>BS</BusinessType><YearOpened>1998</YearOpened><Specialty>Mountain</Specialty><SquareFeet>28000</SquareFeet><Brands>4+</Brands><Internet>DSL</Internet><NumberEmployees>27</NumberEmployees></StoreSurvey></td><td>a9849c81-88bc-49a9-9584-78634aea3681</td><td>2014-09-12</td></tr><tr><td>1450</td><td>Guaranteed Sales and Service</td><td>275</td><td><StoreSurvey xmlns=\"http://schemas.microsoft.com/sqlserver/2004/07/adventure-works/StoreSurvey\"><AnnualSales>1000000</AnnualSales><AnnualRevenue>100000</AnnualRevenue><BankName>International Bank</BankName><BusinessType>BS</BusinessType><YearOpened>1971</YearOpened><Specialty>Road</Specialty><SquareFeet>28000</SquareFeet><Brands>4+</Brands><Internet>T1</Internet><NumberEmployees>28</NumberEmployees></StoreSurvey></td><td>e0e88a9e-eac4-4e30-8072-534c4c4ac250</td><td>2014-09-12</td></tr><tr><td>1452</td><td>Preferable Bikes</td><td>286</td><td><StoreSurvey xmlns=\"http://schemas.microsoft.com/sqlserver/2004/07/adventure-works/StoreSurvey\"><AnnualSales>1000000</AnnualSales><AnnualRevenue>100000</AnnualRevenue><BankName>Primary Bank &amp; Reserve</BankName><BusinessType>BS</BusinessType><YearOpened>2001</YearOpened><Specialty>Touring</Specialty><SquareFeet>24000</SquareFeet><Brands>4+</Brands><Internet>DSL</Internet><NumberEmployees>29</NumberEmployees></StoreSurvey></td><td>0ff9a129-cad9-4a94-9a92-a08461903579</td><td>2014-09-12</td></tr><tr><td>1454</td><td>Recommended Bicycles</td><td>278</td><td><StoreSurvey xmlns=\"http://schemas.microsoft.com/sqlserver/2004/07/adventure-works/StoreSurvey\"><AnnualSales>1500000</AnnualSales><AnnualRevenue>150000</AnnualRevenue><BankName>International Security</BankName><BusinessType>BS</BusinessType><YearOpened>1996</YearOpened><Specialty>Road</Specialty><SquareFeet>35000</SquareFeet><Brands>4+</Brands><Internet>DSL</Internet><NumberEmployees>30</NumberEmployees></StoreSurvey></td><td>f00bfda2-17eb-4b77-ba24-4443e1da8360</td><td>2014-09-12</td></tr><tr><td>1456</td><td>Sunny Place Bikes</td><td>279</td><td><StoreSurvey xmlns=\"http://schemas.microsoft.com/sqlserver/2004/07/adventure-works/StoreSurvey\"><AnnualSales>1500000</AnnualSales><AnnualRevenue>150000</AnnualRevenue><BankName>Guardian Bank</BankName><BusinessType>BS</BusinessType><YearOpened>1990</YearOpened><Specialty>Road</Specialty><SquareFeet>39000</SquareFeet><Brands>4+</Brands><Internet>DSL</Internet><NumberEmployees>31</NumberEmployees></StoreSurvey></td><td>b07b4a19-8960-4a16-914c-b516cb49cce0</td><td>2014-09-12</td></tr><tr><td>1458</td><td>Alpine Ski House</td><td>276</td><td><StoreSurvey xmlns=\"http://schemas.microsoft.com/sqlserver/2004/07/adventure-works/StoreSurvey\"><AnnualSales>1500000</AnnualSales><AnnualRevenue>150000</AnnualRevenue><BankName>Primary International</BankName><BusinessType>BS</BusinessType><YearOpened>1984</YearOpened><Specialty>Road</Specialty><SquareFeet>37000</SquareFeet><Brands>2</Brands><Internet>DSL</Internet><NumberEmployees>32</NumberEmployees></StoreSurvey></td><td>a05e0815-2d28-45e6-91e5-ff8053433ebf</td><td>2014-09-12</td></tr><tr><td>1460</td><td>Cycles and Scooters</td><td>279</td><td><StoreSurvey xmlns=\"http://schemas.microsoft.com/sqlserver/2004/07/adventure-works/StoreSurvey\"><AnnualSales>1500000</AnnualSales><AnnualRevenue>150000</AnnualRevenue><BankName>Reserve Security</BankName><BusinessType>BS</BusinessType><YearOpened>1978</YearOpened><Specialty>Road</Specialty><SquareFeet>35000</SquareFeet><Brands>4+</Brands><Internet>T1</Internet><NumberEmployees>33</NumberEmployees></StoreSurvey></td><td>30141da2-7560-44cb-97a9-02c8857c7079</td><td>2014-09-12</td></tr><tr><td>1462</td><td>Small Bike Accessories Shop</td><td>275</td><td><StoreSurvey xmlns=\"http://schemas.microsoft.com/sqlserver/2004/07/adventure-works/StoreSurvey\"><AnnualSales>1500000</AnnualSales><AnnualRevenue>150000</AnnualRevenue><BankName>United Security</BankName><BusinessType>BS</BusinessType><YearOpened>1972</YearOpened><Specialty>Touring</Specialty><SquareFeet>37000</SquareFeet><Brands>3</Brands><Internet>T2</Internet><NumberEmployees>34</NumberEmployees></StoreSurvey></td><td>0ab43663-3a2d-4234-b2ab-04b18376d857</td><td>2014-09-12</td></tr><tr><td>1464</td><td>List Price Catalog Company</td><td>286</td><td><StoreSurvey xmlns=\"http://schemas.microsoft.com/sqlserver/2004/07/adventure-works/StoreSurvey\"><AnnualSales>1500000</AnnualSales><AnnualRevenue>150000</AnnualRevenue><BankName>International Bank</BankName><BusinessType>BS</BusinessType><YearOpened>1988</YearOpened><Specialty>Touring</Specialty><SquareFeet>37000</SquareFeet><Brands>3</Brands><Internet>DSL</Internet><NumberEmployees>35</NumberEmployees></StoreSurvey></td><td>ba90930e-259d-4bfe-b558-de00867a4247</td><td>2014-09-12</td></tr><tr><td>1466</td><td>Seats and Saddles Company</td><td>278</td><td><StoreSurvey xmlns=\"http://schemas.microsoft.com/sqlserver/2004/07/adventure-works/StoreSurvey\"><AnnualSales>1500000</AnnualSales><AnnualRevenue>150000</AnnualRevenue><BankName>Primary Bank &amp; Reserve</BankName><BusinessType>BS</BusinessType><YearOpened>1976</YearOpened><Specialty>Mountain</Specialty><SquareFeet>38000</SquareFeet><Brands>4+</Brands><Internet>DSL</Internet><NumberEmployees>36</NumberEmployees></StoreSurvey></td><td>2316f0f6-acf4-4458-9538-74f842c88d11</td><td>2014-09-12</td></tr><tr><td>1468</td><td>Village Tours</td><td>279</td><td><StoreSurvey xmlns=\"http://schemas.microsoft.com/sqlserver/2004/07/adventure-works/StoreSurvey\"><AnnualSales>1500000</AnnualSales><AnnualRevenue>150000</AnnualRevenue><BankName>International Security</BankName><BusinessType>BS</BusinessType><YearOpened>1971</YearOpened><Specialty>Mountain</Specialty><SquareFeet>40000</SquareFeet><Brands>3</Brands><Internet>ISDN</Internet><NumberEmployees>37</NumberEmployees></StoreSurvey></td><td>96a94727-d9cc-4596-a196-f48d0932f5cc</td><td>2014-09-12</td></tr><tr><td>1470</td><td>All Cycle Shop</td><td>280</td><td><StoreSurvey xmlns=\"http://schemas.microsoft.com/sqlserver/2004/07/adventure-works/StoreSurvey\"><AnnualSales>1000000</AnnualSales><AnnualRevenue>100000</AnnualRevenue><BankName>Primary International</BankName><BusinessType>BS</BusinessType><YearOpened>1998</YearOpened><Specialty>Mountain</Specialty><SquareFeet>25000</SquareFeet><Brands>3</Brands><Internet>DSL</Internet><NumberEmployees>27</NumberEmployees></StoreSurvey></td><td>c5b62e91-9344-4622-b360-8a1c3101535c</td><td>2014-09-12</td></tr><tr><td>1472</td><td>Tachometers and Accessories</td><td>289</td><td><StoreSurvey xmlns=\"http://schemas.microsoft.com/sqlserver/2004/07/adventure-works/StoreSurvey\"><AnnualSales>1000000</AnnualSales><AnnualRevenue>100000</AnnualRevenue><BankName>Reserve Security</BankName><BusinessType>BS</BusinessType><YearOpened>1971</YearOpened><Specialty>Mountain</Specialty><SquareFeet>25000</SquareFeet><Brands>4+</Brands><Internet>DSL</Internet><NumberEmployees>28</NumberEmployees></StoreSurvey></td><td>9e86d886-ae40-492a-960c-376f1102aa68</td><td>2014-09-12</td></tr><tr><td>1474</td><td>Cycles Sales and Repair</td><td>290</td><td><StoreSurvey xmlns=\"http://schemas.microsoft.com/sqlserver/2004/07/adventure-works/StoreSurvey\"><AnnualSales>1000000</AnnualSales><AnnualRevenue>100000</AnnualRevenue><BankName>United Security</BankName><BusinessType>BS</BusinessType><YearOpened>2001</YearOpened><Specialty>Touring</Specialty><SquareFeet>26000</SquareFeet><Brands>3</Brands><Internet>T1</Internet><NumberEmployees>29</NumberEmployees></StoreSurvey></td><td>29d20006-51cb-491d-bba5-d126f15062af</td><td>2014-09-12</td></tr><tr><td>1476</td><td>Low Price Cycles</td><td>282</td><td><StoreSurvey xmlns=\"http://schemas.microsoft.com/sqlserver/2004/07/adventure-works/StoreSurvey\"><AnnualSales>1500000</AnnualSales><AnnualRevenue>150000</AnnualRevenue><BankName>International Bank</BankName><BusinessType>BS</BusinessType><YearOpened>1996</YearOpened><Specialty>Mountain</Specialty><SquareFeet>36000</SquareFeet><Brands>4+</Brands><Internet>DSL</Internet><NumberEmployees>30</NumberEmployees></StoreSurvey></td><td>47c198f4-09ed-4826-b43b-7cf4ac53d6bf</td><td>2014-09-12</td></tr><tr><td>1478</td><td>Metropolitan Manufacturing</td><td>281</td><td><StoreSurvey xmlns=\"http://schemas.microsoft.com/sqlserver/2004/07/adventure-works/StoreSurvey\"><AnnualSales>1500000</AnnualSales><AnnualRevenue>150000</AnnualRevenue><BankName>Primary Bank &amp; Reserve</BankName><BusinessType>BS</BusinessType><YearOpened>1990</YearOpened><Specialty>Road</Specialty><SquareFeet>39000</SquareFeet><Brands>4+</Brands><Internet>DSL</Internet><NumberEmployees>31</NumberEmployees></StoreSurvey></td><td>76c1b6ab-0697-4636-b65e-b4c66fd9af60</td><td>2014-09-12</td></tr><tr><td>1480</td><td>Orange Bicycle Company</td><td>277</td><td><StoreSurvey xmlns=\"http://schemas.microsoft.com/sqlserver/2004/07/adventure-works/StoreSurvey\"><AnnualSales>1500000</AnnualSales><AnnualRevenue>150000</AnnualRevenue><BankName>International Security</BankName><BusinessType>BS</BusinessType><YearOpened>1984</YearOpened><Specialty>Road</Specialty><SquareFeet>37000</SquareFeet><Brands>4+</Brands><Internet>T1</Internet><NumberEmployees>32</NumberEmployees></StoreSurvey></td><td>094a64bd-0f6e-4a78-977c-3ee38b1fa993</td><td>2014-09-12</td></tr><tr><td>1482</td><td>Riding Associates</td><td>280</td><td><StoreSurvey xmlns=\"http://schemas.microsoft.com/sqlserver/2004/07/adventure-works/StoreSurvey\"><AnnualSales>1500000</AnnualSales><AnnualRevenue>150000</AnnualRevenue><BankName>Guardian Bank</BankName><BusinessType>BS</BusinessType><YearOpened>1978</YearOpened><Specialty>Mountain</Specialty><SquareFeet>36000</SquareFeet><Brands>4+</Brands><Internet>DSL</Internet><NumberEmployees>33</NumberEmployees></StoreSurvey></td><td>5ccdbdc8-55f8-4b22-b24d-0f58db098e0b</td><td>2014-09-12</td></tr><tr><td>1484</td><td>Essential Bike Works</td><td>289</td><td><StoreSurvey xmlns=\"http://schemas.microsoft.com/sqlserver/2004/07/adventure-works/StoreSurvey\"><AnnualSales>1500000</AnnualSales><AnnualRevenue>150000</AnnualRevenue><BankName>Primary International</BankName><BusinessType>BS</BusinessType><YearOpened>1972</YearOpened><Specialty>Road</Specialty><SquareFeet>39000</SquareFeet><Brands>4+</Brands><Internet>DSL</Internet><NumberEmployees>34</NumberEmployees></StoreSurvey></td><td>18887cc9-a503-4f5c-b054-fb6ccdf9f56d</td><td>2014-09-12</td></tr><tr><td>1486</td><td>Rural Mountain Bike Mart</td><td>290</td><td><StoreSurvey xmlns=\"http://schemas.microsoft.com/sqlserver/2004/07/adventure-works/StoreSurvey\"><AnnualSales>1500000</AnnualSales><AnnualRevenue>150000</AnnualRevenue><BankName>Reserve Security</BankName><BusinessType>BS</BusinessType><YearOpened>1988</YearOpened><Specialty>Road</Specialty><SquareFeet>39000</SquareFeet><Brands>4+</Brands><Internet>T1</Internet><NumberEmployees>35</NumberEmployees></StoreSurvey></td><td>7df7c186-7e2a-4bce-9ea2-5d42abf2fb7b</td><td>2014-09-12</td></tr><tr><td>1488</td><td>City Cycling</td><td>282</td><td><StoreSurvey xmlns=\"http://schemas.microsoft.com/sqlserver/2004/07/adventure-works/StoreSurvey\"><AnnualSales>1500000</AnnualSales><AnnualRevenue>150000</AnnualRevenue><BankName>United Security</BankName><BusinessType>BS</BusinessType><YearOpened>1976</YearOpened><Specialty>Road</Specialty><SquareFeet>37000</SquareFeet><Brands>2</Brands><Internet>T1</Internet><NumberEmployees>36</NumberEmployees></StoreSurvey></td><td>7d7911cf-c5dc-4d89-a503-7377a84cb3d9</td><td>2014-09-12</td></tr><tr><td>1490</td><td>Engineered Bike Systems</td><td>281</td><td><StoreSurvey xmlns=\"http://schemas.microsoft.com/sqlserver/2004/07/adventure-works/StoreSurvey\"><AnnualSales>1500000</AnnualSales><AnnualRevenue>150000</AnnualRevenue><BankName>International Bank</BankName><BusinessType>BS</BusinessType><YearOpened>1971</YearOpened><Specialty>Touring</Specialty><SquareFeet>40000</SquareFeet><Brands>4+</Brands><Internet>T2</Internet><NumberEmployees>37</NumberEmployees></StoreSurvey></td><td>28a52834-6069-473e-b547-fc8b4b04c0c9</td><td>2014-09-12</td></tr><tr><td>1796</td><td>Professional Containers and Packaging Co.</td><td>281</td><td><StoreSurvey xmlns=\"http://schemas.microsoft.com/sqlserver/2004/07/adventure-works/StoreSurvey\"><AnnualSales>1500000</AnnualSales><AnnualRevenue>150000</AnnualRevenue><BankName>International Security</BankName><BusinessType>BS</BusinessType><YearOpened>1997</YearOpened><Specialty>Mountain</Specialty><SquareFeet>38000</SquareFeet><Brands>4+</Brands><Internet>DSL</Internet><NumberEmployees>46</NumberEmployees></StoreSurvey></td><td>57e8e5c9-7a01-485e-ae4b-48dcb41a0dc2</td><td>2014-09-12</td></tr><tr><td>1798</td><td>One Bike Company</td><td>282</td><td><StoreSurvey xmlns=\"http://schemas.microsoft.com/sqlserver/2004/07/adventure-works/StoreSurvey\"><AnnualSales>1500000</AnnualSales><AnnualRevenue>150000</AnnualRevenue><BankName>Primary Bank &amp; Reserve</BankName><BusinessType>BS</BusinessType><YearOpened>1989</YearOpened><Specialty>Mountain</Specialty><SquareFeet>41000</SquareFeet><Brands>3</Brands><Internet>DSL</Internet><NumberEmployees>49</NumberEmployees></StoreSurvey></td><td>4317b79b-6640-4ec3-8353-1370a12633a5</td><td>2014-09-12</td></tr><tr><td>1800</td><td>Hiatus Bike Tours</td><td>290</td><td><StoreSurvey xmlns=\"http://schemas.microsoft.com/sqlserver/2004/07/adventure-works/StoreSurvey\"><AnnualSales>1500000</AnnualSales><AnnualRevenue>150000</AnnualRevenue><BankName>International Bank</BankName><BusinessType>BS</BusinessType><YearOpened>1994</YearOpened><Specialty>Touring</Specialty><SquareFeet>40000</SquareFeet><Brands>2</Brands><Internet>T2</Internet><NumberEmployees>48</NumberEmployees></StoreSurvey></td><td>c838b0d9-14ea-4019-b010-5bbef2b43862</td><td>2014-09-12</td></tr><tr><td>1802</td><td>Cycling Goods</td><td>289</td><td><StoreSurvey xmlns=\"http://schemas.microsoft.com/sqlserver/2004/07/adventure-works/StoreSurvey\"><AnnualSales>1500000</AnnualSales><AnnualRevenue>150000</AnnualRevenue><BankName>United Security</BankName><BusinessType>BS</BusinessType><YearOpened>1986</YearOpened><Specialty>Road</Specialty><SquareFeet>37000</SquareFeet><Brands>4+</Brands><Internet>DSL</Internet><NumberEmployees>47</NumberEmployees></StoreSurvey></td><td>5aef8ade-bd2a-4012-9766-71b2147d5d35</td><td>2014-09-12</td></tr><tr><td>1804</td><td>Cycle Clearance</td><td>280</td><td><StoreSurvey xmlns=\"http://schemas.microsoft.com/sqlserver/2004/07/adventure-works/StoreSurvey\"><AnnualSales>1500000</AnnualSales><AnnualRevenue>150000</AnnualRevenue><BankName>Reserve Security</BankName><BusinessType>BS</BusinessType><YearOpened>1991</YearOpened><Specialty>Touring</Specialty><SquareFeet>40000</SquareFeet><Brands>2</Brands><Internet>T1</Internet><NumberEmployees>46</NumberEmployees></StoreSurvey></td><td>7f2c3ab3-97ca-46ba-820e-a03f59ec842d</td><td>2014-09-12</td></tr><tr><td>1806</td><td>Black Bicycle Company</td><td>277</td><td><StoreSurvey xmlns=\"http://schemas.microsoft.com/sqlserver/2004/07/adventure-works/StoreSurvey\"><AnnualSales>1500000</AnnualSales><AnnualRevenue>150000</AnnualRevenue><BankName>Primary International</BankName><BusinessType>BS</BusinessType><YearOpened>1983</YearOpened><Specialty>Mountain</Specialty><SquareFeet>40000</SquareFeet><Brands>4+</Brands><Internet>DSL</Internet><NumberEmployees>45</NumberEmployees></StoreSurvey></td><td>b67e6fd5-2918-4100-82a8-e004da0ddb35</td><td>2014-09-12</td></tr><tr><td>1808</td><td>Transport Bikes</td><td>281</td><td><StoreSurvey xmlns=\"http://schemas.microsoft.com/sqlserver/2004/07/adventure-works/StoreSurvey\"><AnnualSales>1500000</AnnualSales><AnnualRevenue>150000</AnnualRevenue><BankName>Guardian Bank</BankName><BusinessType>BS</BusinessType><YearOpened>1988</YearOpened><Specialty>Touring</Specialty><SquareFeet>41000</SquareFeet><Brands>3</Brands><Internet>ISDN</Internet><NumberEmployees>44</NumberEmployees></StoreSurvey></td><td>8317603a-1c85-40fd-a106-b5c591042ea3</td><td>2014-09-12</td></tr><tr><td>1810</td><td>Sellers of Cycles</td><td>280</td><td><StoreSurvey xmlns=\"http://schemas.microsoft.com/sqlserver/2004/07/adventure-works/StoreSurvey\"><AnnualSales>1500000</AnnualSales><AnnualRevenue>150000</AnnualRevenue><BankName>International Security</BankName><BusinessType>BS</BusinessType><YearOpened>1980</YearOpened><Specialty>Road</Specialty><SquareFeet>37000</SquareFeet><Brands>4+</Brands><Internet>DSL</Internet><NumberEmployees>43</NumberEmployees></StoreSurvey></td><td>3818af93-b4da-49ce-968e-672059b77bed</td><td>2014-09-12</td></tr><tr><td>1812</td><td>Maintenance and Repair for Bicycles</td><td>277</td><td><StoreSurvey xmlns=\"http://schemas.microsoft.com/sqlserver/2004/07/adventure-works/StoreSurvey\"><AnnualSales>1500000</AnnualSales><AnnualRevenue>150000</AnnualRevenue><BankName>Primary Bank &amp; Reserve</BankName><BusinessType>BS</BusinessType><YearOpened>1985</YearOpened><Specialty>Touring</Specialty><SquareFeet>41000</SquareFeet><Brands>4+</Brands><Internet>DSL</Internet><NumberEmployees>42</NumberEmployees></StoreSurvey></td><td>060163f2-6e85-4473-b0fc-c2ef091c057d</td><td>2014-09-12</td></tr><tr><td>1814</td><td>Fitness Department Stores</td><td>281</td><td><StoreSurvey xmlns=\"http://schemas.microsoft.com/sqlserver/2004/07/adventure-works/StoreSurvey\"><AnnualSales>1500000</AnnualSales><AnnualRevenue>150000</AnnualRevenue><BankName>International Bank</BankName><BusinessType>BS</BusinessType><YearOpened>1977</YearOpened><Specialty>Touring</Specialty><SquareFeet>37000</SquareFeet><Brands>3</Brands><Internet>T2</Internet><NumberEmployees>41</NumberEmployees></StoreSurvey></td><td>02f5437e-f74e-4f8b-92ee-f129c8ac0986</td><td>2014-09-12</td></tr><tr><td>1816</td><td>Famous Bike Shop</td><td>278</td><td><StoreSurvey xmlns=\"http://schemas.microsoft.com/sqlserver/2004/07/adventure-works/StoreSurvey\"><AnnualSales>1500000</AnnualSales><AnnualRevenue>150000</AnnualRevenue><BankName>United Security</BankName><BusinessType>BS</BusinessType><YearOpened>1982</YearOpened><Specialty>Mountain</Specialty><SquareFeet>37000</SquareFeet><Brands>4+</Brands><Internet>DSL</Internet><NumberEmployees>40</NumberEmployees></StoreSurvey></td><td>0e7982ee-ce33-404c-b7db-36f78da457eb</td><td>2014-09-12</td></tr><tr><td>1818</td><td>Eastward Bike Accessories</td><td>286</td><td><StoreSurvey xmlns=\"http://schemas.microsoft.com/sqlserver/2004/07/adventure-works/StoreSurvey\"><AnnualSales>1500000</AnnualSales><AnnualRevenue>150000</AnnualRevenue><BankName>Reserve Security</BankName><BusinessType>BS</BusinessType><YearOpened>1974</YearOpened><Specialty>Touring</Specialty><SquareFeet>39000</SquareFeet><Brands>3</Brands><Internet>DSL</Internet><NumberEmployees>39</NumberEmployees></StoreSurvey></td><td>11108d11-d7ab-49f8-824b-d4e5d4341570</td><td>2014-09-12</td></tr><tr><td>1820</td><td>Strong Metal Manufacturing</td><td>275</td><td><StoreSurvey xmlns=\"http://schemas.microsoft.com/sqlserver/2004/07/adventure-works/StoreSurvey\"><AnnualSales>1500000</AnnualSales><AnnualRevenue>150000</AnnualRevenue><BankName>Primary International</BankName><BusinessType>BS</BusinessType><YearOpened>1979</YearOpened><Specialty>Road</Specialty><SquareFeet>36000</SquareFeet><Brands>4+</Brands><Internet>DSL</Internet><NumberEmployees>38</NumberEmployees></StoreSurvey></td><td>f844dffd-c87f-4dd4-b82b-e27fd5b50372</td><td>2014-09-12</td></tr><tr><td>1822</td><td>Gift and Toy Store</td><td>277</td><td><StoreSurvey xmlns=\"http://schemas.microsoft.com/sqlserver/2004/07/adventure-works/StoreSurvey\"><AnnualSales>1500000</AnnualSales><AnnualRevenue>150000</AnnualRevenue><BankName>Guardian Bank</BankName><BusinessType>BS</BusinessType><YearOpened>1971</YearOpened><Specialty>Road</Specialty><SquareFeet>36000</SquareFeet><Brands>4+</Brands><Internet>DSL</Internet><NumberEmployees>37</NumberEmployees></StoreSurvey></td><td>0ab1bbf2-d910-4baf-b8e4-1977cc0fbcbb</td><td>2014-09-12</td></tr><tr><td>1824</td><td>Major Sporting Goods</td><td>276</td><td><StoreSurvey xmlns=\"http://schemas.microsoft.com/sqlserver/2004/07/adventure-works/StoreSurvey\"><AnnualSales>1500000</AnnualSales><AnnualRevenue>150000</AnnualRevenue><BankName>International Security</BankName><BusinessType>BS</BusinessType><YearOpened>1976</YearOpened><Specialty>Road</Specialty><SquareFeet>40000</SquareFeet><Brands>4+</Brands><Internet>DSL</Internet><NumberEmployees>36</NumberEmployees></StoreSurvey></td><td>9fc444e5-c1bc-42b2-8656-2e6c96f32920</td><td>2014-09-12</td></tr><tr><td>1826</td><td>Executive Discount Store</td><td>279</td><td><StoreSurvey xmlns=\"http://schemas.microsoft.com/sqlserver/2004/07/adventure-works/StoreSurvey\"><AnnualSales>1500000</AnnualSales><AnnualRevenue>150000</AnnualRevenue><BankName>Primary Bank &amp; Reserve</BankName><BusinessType>BS</BusinessType><YearOpened>1988</YearOpened><Specialty>Road</Specialty><SquareFeet>39000</SquareFeet><Brands>4+</Brands><Internet>T1</Internet><NumberEmployees>35</NumberEmployees></StoreSurvey></td><td>a2ab0a56-0e6f-4786-b122-3a2fb52ce2ef</td><td>2014-09-12</td></tr><tr><td>1828</td><td>Major Cycling</td><td>282</td><td><StoreSurvey xmlns=\"http://schemas.microsoft.com/sqlserver/2004/07/adventure-works/StoreSurvey\"><AnnualSales>3000000</AnnualSales><AnnualRevenue>300000</AnnualRevenue><BankName>International Security</BankName><BusinessType>OS</BusinessType><YearOpened>1995</YearOpened><Specialty>Road</Specialty><SquareFeet>77000</SquareFeet><Brands>2</Brands><Internet>T2</Internet><NumberEmployees>79</NumberEmployees></StoreSurvey></td><td>2f45bf63-26c3-43e5-adae-486a0fa6d41f</td><td>2014-09-12</td></tr><tr><td>1830</td><td>Getaway Inn</td><td>290</td><td><StoreSurvey xmlns=\"http://schemas.microsoft.com/sqlserver/2004/07/adventure-works/StoreSurvey\"><AnnualSales>3000000</AnnualSales><AnnualRevenue>300000</AnnualRevenue><BankName>Primary Bank &amp; Reserve</BankName><BusinessType>OS</BusinessType><YearOpened>1987</YearOpened><Specialty>Road</Specialty><SquareFeet>75000</SquareFeet><Brands>4+</Brands><Internet>T1</Internet><NumberEmployees>80</NumberEmployees></StoreSurvey></td><td>64f9ef4b-475a-4cfa-a816-e0e66856cc5f</td><td>2014-09-12</td></tr><tr><td>1832</td><td>Downhill Bicycle Specialists</td><td>289</td><td><StoreSurvey xmlns=\"http://schemas.microsoft.com/sqlserver/2004/07/adventure-works/StoreSurvey\"><AnnualSales>3000000</AnnualSales><AnnualRevenue>300000</AnnualRevenue><BankName>International Bank</BankName><BusinessType>OS</BusinessType><YearOpened>1992</YearOpened><Specialty>Mountain</Specialty><SquareFeet>77000</SquareFeet><Brands>2</Brands><Internet>DSL</Internet><NumberEmployees>81</NumberEmployees></StoreSurvey></td><td>161b1bb9-5afb-47b2-b1ad-45bf03ba6520</td><td>2014-09-12</td></tr><tr><td>1834</td><td>Bike Experts</td><td>280</td><td><StoreSurvey xmlns=\"http://schemas.microsoft.com/sqlserver/2004/07/adventure-works/StoreSurvey\"><AnnualSales>3000000</AnnualSales><AnnualRevenue>300000</AnnualRevenue><BankName>United Security</BankName><BusinessType>OS</BusinessType><YearOpened>1984</YearOpened><Specialty>Mountain</Specialty><SquareFeet>73000</SquareFeet><Brands>4+</Brands><Internet>DSL</Internet><NumberEmployees>82</NumberEmployees></StoreSurvey></td><td>639bbc3a-d30b-4456-a2fd-cb740884e939</td><td>2014-09-12</td></tr><tr><td>1836</td><td>Extraordinary Bike Works</td><td>277</td><td><StoreSurvey xmlns=\"http://schemas.microsoft.com/sqlserver/2004/07/adventure-works/StoreSurvey\"><AnnualSales>3000000</AnnualSales><AnnualRevenue>300000</AnnualRevenue><BankName>Reserve Security</BankName><BusinessType>OS</BusinessType><YearOpened>1989</YearOpened><Specialty>Mountain</Specialty><SquareFeet>75000</SquareFeet><Brands>2</Brands><Internet>T2</Internet><NumberEmployees>83</NumberEmployees></StoreSurvey></td><td>d8f8e7f3-9acf-4f4b-8327-293b7a7943b3</td><td>2014-09-12</td></tr><tr><td>1838</td><td>Valley Bicycle Distributors</td><td>281</td><td><StoreSurvey xmlns=\"http://schemas.microsoft.com/sqlserver/2004/07/adventure-works/StoreSurvey\"><AnnualSales>3000000</AnnualSales><AnnualRevenue>300000</AnnualRevenue><BankName>Primary International</BankName><BusinessType>OS</BusinessType><YearOpened>1981</YearOpened><Specialty>Road</Specialty><SquareFeet>76000</SquareFeet><Brands>4+</Brands><Internet>DSL</Internet><NumberEmployees>84</NumberEmployees></StoreSurvey></td><td>db88da40-586e-4429-af8d-2148a59b93a6</td><td>2014-09-12</td></tr><tr><td>1840</td><td>Top Sports Supply</td><td>282</td><td><StoreSurvey xmlns=\"http://schemas.microsoft.com/sqlserver/2004/07/adventure-works/StoreSurvey\"><AnnualSales>3000000</AnnualSales><AnnualRevenue>300000</AnnualRevenue><BankName>Guardian Bank</BankName><BusinessType>OS</BusinessType><YearOpened>1986</YearOpened><Specialty>Mountain</Specialty><SquareFeet>78000</SquareFeet><Brands>3</Brands><Internet>DSL</Internet><NumberEmployees>85</NumberEmployees></StoreSurvey></td><td>20d63e3e-5631-4118-9712-1171aa5a0357</td><td>2014-09-12</td></tr><tr><td>1842</td><td>Racing Sales and Service</td><td>290</td><td><StoreSurvey xmlns=\"http://schemas.microsoft.com/sqlserver/2004/07/adventure-works/StoreSurvey\"><AnnualSales>3000000</AnnualSales><AnnualRevenue>300000</AnnualRevenue><BankName>International Security</BankName><BusinessType>OS</BusinessType><YearOpened>1978</YearOpened><Specialty>Road</Specialty><SquareFeet>77000</SquareFeet><Brands>3</Brands><Internet>DSL</Internet><NumberEmployees>86</NumberEmployees></StoreSurvey></td><td>cdd163a9-dc42-44b4-ba95-b5de845813e4</td><td>2014-09-12</td></tr><tr><td>1844</td><td>Metropolitan Bicycle Supply</td><td>289</td><td><StoreSurvey xmlns=\"http://schemas.microsoft.com/sqlserver/2004/07/adventure-works/StoreSurvey\"><AnnualSales>3000000</AnnualSales><AnnualRevenue>300000</AnnualRevenue><BankName>Primary Bank &amp; Reserve</BankName><BusinessType>OS</BusinessType><YearOpened>1983</YearOpened><Specialty>Mountain</Specialty><SquareFeet>78000</SquareFeet><Brands>4+</Brands><Internet>DSL</Internet><NumberEmployees>87</NumberEmployees></StoreSurvey></td><td>bf60e1dd-fe8b-4d6f-bd43-dcec43504357</td><td>2014-09-12</td></tr><tr><td>1846</td><td>Honest Repair Service</td><td>280</td><td><StoreSurvey xmlns=\"http://schemas.microsoft.com/sqlserver/2004/07/adventure-works/StoreSurvey\"><AnnualSales>3000000</AnnualSales><AnnualRevenue>300000</AnnualRevenue><BankName>International Bank</BankName><BusinessType>OS</BusinessType><YearOpened>1975</YearOpened><Specialty>Touring</Specialty><SquareFeet>77000</SquareFeet><Brands>3</Brands><Internet>DSL</Internet><NumberEmployees>88</NumberEmployees></StoreSurvey></td><td>ea9914d7-5fc2-4f73-9483-95cbad7408a7</td><td>2014-09-12</td></tr><tr><td>1848</td><td>Designer Department Stores</td><td>277</td><td><StoreSurvey xmlns=\"http://schemas.microsoft.com/sqlserver/2004/07/adventure-works/StoreSurvey\"><AnnualSales>3000000</AnnualSales><AnnualRevenue>300000</AnnualRevenue><BankName>United Security</BankName><BusinessType>OS</BusinessType><YearOpened>1980</YearOpened><Specialty>Road</Specialty><SquareFeet>74000</SquareFeet><Brands>3</Brands><Internet>T2</Internet><NumberEmployees>89</NumberEmployees></StoreSurvey></td><td>8689142f-784a-4e36-acc4-87346be7da38</td><td>2014-09-12</td></tr><tr><td>1850</td><td>Wheel Gallery</td><td>281</td><td><StoreSurvey xmlns=\"http://schemas.microsoft.com/sqlserver/2004/07/adventure-works/StoreSurvey\"><AnnualSales>3000000</AnnualSales><AnnualRevenue>300000</AnnualRevenue><BankName>Reserve Security</BankName><BusinessType>OS</BusinessType><YearOpened>1972</YearOpened><Specialty>Road</Specialty><SquareFeet>79000</SquareFeet><Brands>2</Brands><Internet>DSL</Internet><NumberEmployees>90</NumberEmployees></StoreSurvey></td><td>7ef9c12f-21f8-46c6-b18d-e073e1a2a5f3</td><td>2014-09-12</td></tr><tr><td>1852</td><td>Top Bike Market</td><td>278</td><td><StoreSurvey xmlns=\"http://schemas.microsoft.com/sqlserver/2004/07/adventure-works/StoreSurvey\"><AnnualSales>3000000</AnnualSales><AnnualRevenue>300000</AnnualRevenue><BankName>International Bank</BankName><BusinessType>OS</BusinessType><YearOpened>1987</YearOpened><Specialty>Touring</Specialty><SquareFeet>75000</SquareFeet><Brands>3</Brands><Internet>T1</Internet><NumberEmployees>80</NumberEmployees></StoreSurvey></td><td>5555020a-f026-41f8-924f-4180974f39eb</td><td>2014-09-12</td></tr><tr><td>1854</td><td>Region Bike Company</td><td>286</td><td><StoreSurvey xmlns=\"http://schemas.microsoft.com/sqlserver/2004/07/adventure-works/StoreSurvey\"><AnnualSales>3000000</AnnualSales><AnnualRevenue>300000</AnnualRevenue><BankName>United Security</BankName><BusinessType>OS</BusinessType><YearOpened>1992</YearOpened><Specialty>Road</Specialty><SquareFeet>75000</SquareFeet><Brands>2</Brands><Internet>DSL</Internet><NumberEmployees>81</NumberEmployees></StoreSurvey></td><td>1d393e58-5467-4529-be25-52f1eb28ba12</td><td>2014-09-12</td></tr><tr><td>1856</td><td>Grown-up Bike Store</td><td>275</td><td><StoreSurvey xmlns=\"http://schemas.microsoft.com/sqlserver/2004/07/adventure-works/StoreSurvey\"><AnnualSales>3000000</AnnualSales><AnnualRevenue>300000</AnnualRevenue><BankName>Reserve Security</BankName><BusinessType>OS</BusinessType><YearOpened>1984</YearOpened><Specialty>Mountain</Specialty><SquareFeet>75000</SquareFeet><Brands>3</Brands><Internet>DSL</Internet><NumberEmployees>82</NumberEmployees></StoreSurvey></td><td>5ae09d08-49d1-46bf-9219-bf9874cb1992</td><td>2014-09-12</td></tr><tr><td>1858</td><td>Bicycle Lines Distributors</td><td>277</td><td><StoreSurvey xmlns=\"http://schemas.microsoft.com/sqlserver/2004/07/adventure-works/StoreSurvey\"><AnnualSales>3000000</AnnualSales><AnnualRevenue>300000</AnnualRevenue><BankName>Primary International</BankName><BusinessType>OS</BusinessType><YearOpened>1989</YearOpened><Specialty>Mountain</Specialty><SquareFeet>77000</SquareFeet><Brands>3</Brands><Internet>DSL</Internet><NumberEmployees>83</NumberEmployees></StoreSurvey></td><td>ede264f5-0931-4e4b-b447-5c0add3aba5d</td><td>2014-09-12</td></tr><tr><td>1860</td><td>Sparkling Paint and Finishes</td><td>276</td><td><StoreSurvey xmlns=\"http://schemas.microsoft.com/sqlserver/2004/07/adventure-works/StoreSurvey\"><AnnualSales>3000000</AnnualSales><AnnualRevenue>300000</AnnualRevenue><BankName>Guardian Bank</BankName><BusinessType>OS</BusinessType><YearOpened>1981</YearOpened><Specialty>Mountain</Specialty><SquareFeet>76000</SquareFeet><Brands>2</Brands><Internet>DSL</Internet><NumberEmployees>84</NumberEmployees></StoreSurvey></td><td>b84ba799-82a1-45ea-94fe-63bbe36f1d2d</td><td>2014-09-12</td></tr><tr><td>1862</td><td>Racing Association</td><td>279</td><td><StoreSurvey xmlns=\"http://schemas.microsoft.com/sqlserver/2004/07/adventure-works/StoreSurvey\"><AnnualSales>3000000</AnnualSales><AnnualRevenue>300000</AnnualRevenue><BankName>International Security</BankName><BusinessType>OS</BusinessType><YearOpened>1986</YearOpened><Specialty>Road</Specialty><SquareFeet>76000</SquareFeet><Brands>3</Brands><Internet>T1</Internet><NumberEmployees>85</NumberEmployees></StoreSurvey></td><td>f2b788db-35c9-4f0f-a282-4983bbcb8eac</td><td>2014-09-12</td></tr><tr><td>1864</td><td>Plastic Parts Company</td><td>278</td><td><StoreSurvey xmlns=\"http://schemas.microsoft.com/sqlserver/2004/07/adventure-works/StoreSurvey\"><AnnualSales>3000000</AnnualSales><AnnualRevenue>300000</AnnualRevenue><BankName>Primary Bank &amp; Reserve</BankName><BusinessType>OS</BusinessType><YearOpened>1978</YearOpened><Specialty>Mountain</Specialty><SquareFeet>76000</SquareFeet><Brands>4+</Brands><Internet>DSL</Internet><NumberEmployees>86</NumberEmployees></StoreSurvey></td><td>ce201239-6a87-4995-a399-2ee197df8d0f</td><td>2014-09-12</td></tr><tr><td>1866</td><td>Gears and Parts Company</td><td>286</td><td><StoreSurvey xmlns=\"http://schemas.microsoft.com/sqlserver/2004/07/adventure-works/StoreSurvey\"><AnnualSales>3000000</AnnualSales><AnnualRevenue>300000</AnnualRevenue><BankName>International Bank</BankName><BusinessType>OS</BusinessType><YearOpened>1983</YearOpened><Specialty>Touring</Specialty><SquareFeet>74000</SquareFeet><Brands>2</Brands><Internet>T1</Internet><NumberEmployees>87</NumberEmployees></StoreSurvey></td><td>8fc966e0-ad57-4b20-b4fd-f03da9bb9ccb</td><td>2014-09-12</td></tr><tr><td>1868</td><td>Executive Gift Store</td><td>275</td><td><StoreSurvey xmlns=\"http://schemas.microsoft.com/sqlserver/2004/07/adventure-works/StoreSurvey\"><AnnualSales>3000000</AnnualSales><AnnualRevenue>300000</AnnualRevenue><BankName>United Security</BankName><BusinessType>OS</BusinessType><YearOpened>1975</YearOpened><Specialty>Mountain</Specialty><SquareFeet>76000</SquareFeet><Brands>3</Brands><Internet>DSL</Internet><NumberEmployees>88</NumberEmployees></StoreSurvey></td><td>2387a2b5-33ea-4e68-8a92-11c251f92280</td><td>2014-09-12</td></tr><tr><td>1870</td><td>Big Cycle Mall</td><td>277</td><td><StoreSurvey xmlns=\"http://schemas.microsoft.com/sqlserver/2004/07/adventure-works/StoreSurvey\"><AnnualSales>3000000</AnnualSales><AnnualRevenue>300000</AnnualRevenue><BankName>Reserve Security</BankName><BusinessType>OS</BusinessType><YearOpened>1980</YearOpened><Specialty>Touring</Specialty><SquareFeet>77000</SquareFeet><Brands>4+</Brands><Internet>DSL</Internet><NumberEmployees>89</NumberEmployees></StoreSurvey></td><td>17fa0e6e-9ef9-4574-9338-d0610acfd99a</td><td>2014-09-12</td></tr><tr><td>1872</td><td>Budget Bike Company</td><td>279</td><td><StoreSurvey xmlns=\"http://schemas.microsoft.com/sqlserver/2004/07/adventure-works/StoreSurvey\"><AnnualSales>800000</AnnualSales><AnnualRevenue>80000</AnnualRevenue><BankName>International Bank</BankName><BusinessType>BM</BusinessType><YearOpened>1997</YearOpened><Specialty>Road</Specialty><SquareFeet>22000</SquareFeet><Brands>AW</Brands><Internet>ISDN</Internet><NumberEmployees>18</NumberEmployees></StoreSurvey></td><td>a954dc6d-de84-4eb7-b23b-120571fdfde8</td><td>2014-09-12</td></tr><tr><td>1874</td><td>Eighth Bike Store</td><td>281</td><td><StoreSurvey xmlns=\"http://schemas.microsoft.com/sqlserver/2004/07/adventure-works/StoreSurvey\"><AnnualSales>800000</AnnualSales><AnnualRevenue>80000</AnnualRevenue><BankName>Primary Bank &amp; Reserve</BankName><BusinessType>BM</BusinessType><YearOpened>1975</YearOpened><Specialty>Touring</Specialty><SquareFeet>21000</SquareFeet><Brands>3</Brands><Internet>T2</Internet><NumberEmployees>19</NumberEmployees></StoreSurvey></td><td>311afc6c-933d-41b8-83b8-51551f1d8ff0</td><td>2014-09-12</td></tr><tr><td>1876</td><td>Demand Distributors</td><td>283</td><td><StoreSurvey xmlns=\"http://schemas.microsoft.com/sqlserver/2004/07/adventure-works/StoreSurvey\"><AnnualSales>1000000</AnnualSales><AnnualRevenue>100000</AnnualRevenue><BankName>International Security</BankName><BusinessType>BM</BusinessType><YearOpened>2000</YearOpened><Specialty>Road</Specialty><SquareFeet>24000</SquareFeet><Brands>4+</Brands><Internet>T1</Internet><NumberEmployees>20</NumberEmployees></StoreSurvey></td><td>b34e161a-8ed8-4e28-a86c-200ce4704883</td><td>2014-09-12</td></tr><tr><td>1878</td><td>Immediate Repair Shop</td><td>275</td><td><StoreSurvey xmlns=\"http://schemas.microsoft.com/sqlserver/2004/07/adventure-works/StoreSurvey\"><AnnualSales>800000</AnnualSales><AnnualRevenue>80000</AnnualRevenue><BankName>Guardian Bank</BankName><BusinessType>BM</BusinessType><YearOpened>2000</YearOpened><Specialty>Mountain</Specialty><SquareFeet>22000</SquareFeet><Brands>4+</Brands><Internet>T2</Internet><NumberEmployees>17</NumberEmployees></StoreSurvey></td><td>0c2d39a6-b731-4d81-8253-85a0d25acd25</td><td>2014-09-12</td></tr><tr><td>1880</td><td>Off-Price Bike Center</td><td>288</td><td><StoreSurvey xmlns=\"http://schemas.microsoft.com/sqlserver/2004/07/adventure-works/StoreSurvey\"><AnnualSales>800000</AnnualSales><AnnualRevenue>80000</AnnualRevenue><BankName>Primary International</BankName><BusinessType>BM</BusinessType><YearOpened>1994</YearOpened><Specialty>Touring</Specialty><SquareFeet>22000</SquareFeet><Brands>4+</Brands><Internet>T1</Internet><NumberEmployees>14</NumberEmployees></StoreSurvey></td><td>0bd08a52-187e-42bb-8a1c-2ac8971bfa12</td><td>2014-09-12</td></tr><tr><td>1882</td><td>Red Bicycle Company</td><td>282</td><td><StoreSurvey xmlns=\"http://schemas.microsoft.com/sqlserver/2004/07/adventure-works/StoreSurvey\"><AnnualSales>800000</AnnualSales><AnnualRevenue>80000</AnnualRevenue><BankName>Reserve Security</BankName><BusinessType>BM</BusinessType><YearOpened>1988</YearOpened><Specialty>Mountain</Specialty><SquareFeet>18000</SquareFeet><Brands>3</Brands><Internet>DSL</Internet><NumberEmployees>11</NumberEmployees></StoreSurvey></td><td>b8e6ef57-7087-4b21-9636-0e657902714e</td><td>2014-09-12</td></tr><tr><td>1884</td><td>Retirement Activities Association</td><td>279</td><td><StoreSurvey xmlns=\"http://schemas.microsoft.com/sqlserver/2004/07/adventure-works/StoreSurvey\"><AnnualSales>300000</AnnualSales><AnnualRevenue>30000</AnnualRevenue><BankName>United Security</BankName><BusinessType>BM</BusinessType><YearOpened>1982</YearOpened><Specialty>Road</Specialty><SquareFeet>11000</SquareFeet><Brands>4+</Brands><Internet>T1</Internet><NumberEmployees>8</NumberEmployees></StoreSurvey></td><td>acdca9a3-f6f2-4e09-a9af-61f6b9834595</td><td>2014-09-12</td></tr><tr><td>1886</td><td>Trendy Department Stores</td><td>281</td><td><StoreSurvey xmlns=\"http://schemas.microsoft.com/sqlserver/2004/07/adventure-works/StoreSurvey\"><AnnualSales>300000</AnnualSales><AnnualRevenue>30000</AnnualRevenue><BankName>International Bank</BankName><BusinessType>BM</BusinessType><YearOpened>1976</YearOpened><Specialty>Touring</Specialty><SquareFeet>9000</SquareFeet><Brands>AW</Brands><Internet>DSL</Internet><NumberEmployees>5</NumberEmployees></StoreSurvey></td><td>5f8c35a3-92f4-4979-a838-5b93c221b9df</td><td>2014-09-12</td></tr><tr><td>1888</td><td>Vintage Sport Boutique</td><td>283</td><td><StoreSurvey xmlns=\"http://schemas.microsoft.com/sqlserver/2004/07/adventure-works/StoreSurvey\"><AnnualSales>300000</AnnualSales><AnnualRevenue>30000</AnnualRevenue><BankName>Primary Bank &amp; Reserve</BankName><BusinessType>BM</BusinessType><YearOpened>1970</YearOpened><Specialty>Touring</Specialty><SquareFeet>9000</SquareFeet><Brands>AW</Brands><Internet>DSL</Internet><NumberEmployees>2</NumberEmployees></StoreSurvey></td><td>6d6e4980-1732-4c6f-9045-31c3e1c75abb</td><td>2014-09-12</td></tr><tr><td>1890</td><td>Travel Sports</td><td>280</td><td><StoreSurvey xmlns=\"http://schemas.microsoft.com/sqlserver/2004/07/adventure-works/StoreSurvey\"><AnnualSales>800000</AnnualSales><AnnualRevenue>80000</AnnualRevenue><BankName>United Security</BankName><BusinessType>BM</BusinessType><YearOpened>1997</YearOpened><Specialty>Mountain</Specialty><SquareFeet>18000</SquareFeet><Brands>4+</Brands><Internet>DSL</Internet><NumberEmployees>17</NumberEmployees></StoreSurvey></td><td>5e8bf52b-d5c7-49ab-bc10-ddced8cf5dda</td><td>2014-09-12</td></tr><tr><td>1892</td><td>West Side Mart</td><td>289</td><td><StoreSurvey xmlns=\"http://schemas.microsoft.com/sqlserver/2004/07/adventure-works/StoreSurvey\"><AnnualSales>800000</AnnualSales><AnnualRevenue>80000</AnnualRevenue><BankName>International Bank</BankName><BusinessType>BM</BusinessType><YearOpened>1975</YearOpened><Specialty>Touring</Specialty><SquareFeet>19000</SquareFeet><Brands>3</Brands><Internet>DSL</Internet><NumberEmployees>18</NumberEmployees></StoreSurvey></td><td>ac3c4acf-213f-4bcd-9778-dca173060cc0</td><td>2014-09-12</td></tr><tr><td>1894</td><td>The Bike Outlet</td><td>290</td><td><StoreSurvey xmlns=\"http://schemas.microsoft.com/sqlserver/2004/07/adventure-works/StoreSurvey\"><AnnualSales>800000</AnnualSales><AnnualRevenue>80000</AnnualRevenue><BankName>Primary Bank &amp; Reserve</BankName><BusinessType>BM</BusinessType><YearOpened>2000</YearOpened><Specialty>Touring</Specialty><SquareFeet>21000</SquareFeet><Brands>2</Brands><Internet>T1</Internet><NumberEmployees>19</NumberEmployees></StoreSurvey></td><td>9a11a00b-06e6-4e9b-a7d7-69fd4045f80e</td><td>2014-09-12</td></tr><tr><td>1896</td><td>Tenth Bike Store</td><td>282</td><td><StoreSurvey xmlns=\"http://schemas.microsoft.com/sqlserver/2004/07/adventure-works/StoreSurvey\"><AnnualSales>800000</AnnualSales><AnnualRevenue>80000</AnnualRevenue><BankName>International Bank</BankName><BusinessType>BM</BusinessType><YearOpened>1994</YearOpened><Specialty>Road</Specialty><SquareFeet>23000</SquareFeet><Brands>4+</Brands><Internet>DSL</Internet><NumberEmployees>18</NumberEmployees></StoreSurvey></td><td>66b28442-b5d7-4332-9ef2-e89221fdbb9b</td><td>2014-09-12</td></tr><tr><td>1898</td><td>Valuable Bike Parts Company</td><td>279</td><td><StoreSurvey xmlns=\"http://schemas.microsoft.com/sqlserver/2004/07/adventure-works/StoreSurvey\"><AnnualSales>800000</AnnualSales><AnnualRevenue>80000</AnnualRevenue><BankName>Primary Bank &amp; Reserve</BankName><BusinessType>BM</BusinessType><YearOpened>1988</YearOpened><Specialty>Mountain</Specialty><SquareFeet>20000</SquareFeet><Brands>2</Brands><Internet>DSL</Internet><NumberEmployees>16</NumberEmployees></StoreSurvey></td><td>3e4f1b95-2189-4ee2-a882-749a904b1dfa</td><td>2014-09-12</td></tr><tr><td>1900</td><td>Fun Times Club</td><td>281</td><td><StoreSurvey xmlns=\"http://schemas.microsoft.com/sqlserver/2004/07/adventure-works/StoreSurvey\"><AnnualSales>800000</AnnualSales><AnnualRevenue>80000</AnnualRevenue><BankName>International Security</BankName><BusinessType>BM</BusinessType><YearOpened>1982</YearOpened><Specialty>Road</Specialty><SquareFeet>22000</SquareFeet><Brands>3</Brands><Internet>DSL</Internet><NumberEmployees>14</NumberEmployees></StoreSurvey></td><td>2ae16c95-ed93-45e7-a3ab-3d4c60dfb9a9</td><td>2014-09-12</td></tr><tr><td>1902</td><td>Chain and Chain Tool Distributions</td><td>279</td><td><StoreSurvey xmlns=\"http://schemas.microsoft.com/sqlserver/2004/07/adventure-works/StoreSurvey\"><AnnualSales>800000</AnnualSales><AnnualRevenue>80000</AnnualRevenue><BankName>Guardian Bank</BankName><BusinessType>BM</BusinessType><YearOpened>1976</YearOpened><Specialty>Road</Specialty><SquareFeet>20000</SquareFeet><Brands>3</Brands><Internet>DSL</Internet><NumberEmployees>12</NumberEmployees></StoreSurvey></td><td>4034b966-97e9-42f1-a475-406339846dc5</td><td>2014-09-12</td></tr><tr><td>1904</td><td>Mobile Outlet</td><td>275</td><td><StoreSurvey xmlns=\"http://schemas.microsoft.com/sqlserver/2004/07/adventure-works/StoreSurvey\"><AnnualSales>800000</AnnualSales><AnnualRevenue>80000</AnnualRevenue><BankName>Primary International</BankName><BusinessType>BM</BusinessType><YearOpened>1970</YearOpened><Specialty>Road</Specialty><SquareFeet>17000</SquareFeet><Brands>2</Brands><Internet>T1</Internet><NumberEmployees>10</NumberEmployees></StoreSurvey></td><td>9acf0c46-95c0-40d3-b39e-44c548a7a8ab</td><td>2014-09-12</td></tr><tr><td>1906</td><td>Regional Cycle Shop</td><td>288</td><td><StoreSurvey xmlns=\"http://schemas.microsoft.com/sqlserver/2004/07/adventure-works/StoreSurvey\"><AnnualSales>300000</AnnualSales><AnnualRevenue>30000</AnnualRevenue><BankName>Reserve Security</BankName><BusinessType>BM</BusinessType><YearOpened>1975</YearOpened><Specialty>Road</Specialty><SquareFeet>10000</SquareFeet><Brands>2</Brands><Internet>DSL</Internet><NumberEmployees>8</NumberEmployees></StoreSurvey></td><td>793a1b41-4b83-416b-853c-fb190b79728c</td><td>2014-09-12</td></tr><tr><td>1908</td><td>Rural Bicycle Supply</td><td>282</td><td><StoreSurvey xmlns=\"http://schemas.microsoft.com/sqlserver/2004/07/adventure-works/StoreSurvey\"><AnnualSales>300000</AnnualSales><AnnualRevenue>30000</AnnualRevenue><BankName>United Security</BankName><BusinessType>BM</BusinessType><YearOpened>1970</YearOpened><Specialty>Mountain</Specialty><SquareFeet>10000</SquareFeet><Brands>4+</Brands><Internet>DSL</Internet><NumberEmployees>6</NumberEmployees></StoreSurvey></td><td>0f7aa600-6050-49ba-819d-30a7d3ab4b5b</td><td>2014-09-12</td></tr><tr><td>1910</td><td>Wingtip Toys</td><td>283</td><td><StoreSurvey xmlns=\"http://schemas.microsoft.com/sqlserver/2004/07/adventure-works/StoreSurvey\"><AnnualSales>800000</AnnualSales><AnnualRevenue>80000</AnnualRevenue><BankName>International Bank</BankName><BusinessType>BM</BusinessType><YearOpened>1999</YearOpened><Specialty>Mountain</Specialty><SquareFeet>20000</SquareFeet><Brands>3</Brands><Internet>T1</Internet><NumberEmployees>15</NumberEmployees></StoreSurvey></td><td>23f57be6-5b8b-447b-ae0d-3a161c09a0ac</td><td>2014-09-12</td></tr><tr><td>1912</td><td>The Cycle Store</td><td>275</td><td><StoreSurvey xmlns=\"http://schemas.microsoft.com/sqlserver/2004/07/adventure-works/StoreSurvey\"><AnnualSales>800000</AnnualSales><AnnualRevenue>80000</AnnualRevenue><BankName>Primary Bank &amp; Reserve</BankName><BusinessType>BM</BusinessType><YearOpened>1994</YearOpened><Specialty>Mountain</Specialty><SquareFeet>22000</SquareFeet><Brands>3</Brands><Internet>T1</Internet><NumberEmployees>16</NumberEmployees></StoreSurvey></td><td>3fce0ef1-27ca-48ee-9339-3523648400d1</td><td>2014-09-12</td></tr><tr><td>1914</td><td>Educational Services</td><td>288</td><td><StoreSurvey xmlns=\"http://schemas.microsoft.com/sqlserver/2004/07/adventure-works/StoreSurvey\"><AnnualSales>800000</AnnualSales><AnnualRevenue>80000</AnnualRevenue><BankName>International Security</BankName><BusinessType>BM</BusinessType><YearOpened>1987</YearOpened><Specialty>Touring</Specialty><SquareFeet>19000</SquareFeet><Brands>2</Brands><Internet>DSL</Internet><NumberEmployees>17</NumberEmployees></StoreSurvey></td><td>74b0c415-ae1e-4fd1-985b-a62f7c378632</td><td>2014-09-12</td></tr><tr><td>1916</td><td>Active Life Toys</td><td>282</td><td><StoreSurvey xmlns=\"http://schemas.microsoft.com/sqlserver/2004/07/adventure-works/StoreSurvey\"><AnnualSales>800000</AnnualSales><AnnualRevenue>80000</AnnualRevenue><BankName>Guardian Bank</BankName><BusinessType>BM</BusinessType><YearOpened>1997</YearOpened><Specialty>Road</Specialty><SquareFeet>20000</SquareFeet><Brands>4+</Brands><Internet>T1</Internet><NumberEmployees>18</NumberEmployees></StoreSurvey></td><td>0893dd3b-bd98-4820-aae6-ed7f8562d210</td><td>2014-09-12</td></tr><tr><td>1918</td><td>Simple Bike Parts</td><td>279</td><td><StoreSurvey xmlns=\"http://schemas.microsoft.com/sqlserver/2004/07/adventure-works/StoreSurvey\"><AnnualSales>800000</AnnualSales><AnnualRevenue>80000</AnnualRevenue><BankName>Primary International</BankName><BusinessType>BM</BusinessType><YearOpened>1975</YearOpened><Specialty>Road</Specialty><SquareFeet>21000</SquareFeet><Brands>4+</Brands><Internet>DSL</Internet><NumberEmployees>19</NumberEmployees></StoreSurvey></td><td>608d52aa-1d0d-4d5d-a0a0-47f9977af2af</td><td>2014-09-12</td></tr><tr><td>1920</td><td>Timely Shipping Service</td><td>281</td><td><StoreSurvey xmlns=\"http://schemas.microsoft.com/sqlserver/2004/07/adventure-works/StoreSurvey\"><AnnualSales>1000000</AnnualSales><AnnualRevenue>100000</AnnualRevenue><BankName>Reserve Security</BankName><BusinessType>BM</BusinessType><YearOpened>2000</YearOpened><Specialty>Mountain</Specialty><SquareFeet>24000</SquareFeet><Brands>2</Brands><Internet>T1</Internet><NumberEmployees>20</NumberEmployees></StoreSurvey></td><td>5b92790f-aa8b-4f60-8dc8-bc45bf25e4a6</td><td>2014-09-12</td></tr><tr><td>1922</td><td>A Cycle Shop</td><td>283</td><td><StoreSurvey xmlns=\"http://schemas.microsoft.com/sqlserver/2004/07/adventure-works/StoreSurvey\"><AnnualSales>800000</AnnualSales><AnnualRevenue>80000</AnnualRevenue><BankName>United Security</BankName><BusinessType>BM</BusinessType><YearOpened>2000</YearOpened><Specialty>Touring</Specialty><SquareFeet>22000</SquareFeet><Brands>3</Brands><Internet>T2</Internet><NumberEmployees>17</NumberEmployees></StoreSurvey></td><td>d2a3db53-0901-4322-a7af-1cc77a7b1778</td><td>2014-09-12</td></tr><tr><td>1924</td><td>Bike Products and Accessories</td><td>275</td><td><StoreSurvey xmlns=\"http://schemas.microsoft.com/sqlserver/2004/07/adventure-works/StoreSurvey\"><AnnualSales>800000</AnnualSales><AnnualRevenue>80000</AnnualRevenue><BankName>International Bank</BankName><BusinessType>BM</BusinessType><YearOpened>1994</YearOpened><Specialty>Mountain</Specialty><SquareFeet>19000</SquareFeet><Brands>AW</Brands><Internet>T2</Internet><NumberEmployees>14</NumberEmployees></StoreSurvey></td><td>7fb517f3-ecee-4451-9563-c95665a0b777</td><td>2014-09-12</td></tr><tr><td>1926</td><td>Fitness Toys</td><td>288</td><td><StoreSurvey xmlns=\"http://schemas.microsoft.com/sqlserver/2004/07/adventure-works/StoreSurvey\"><AnnualSales>800000</AnnualSales><AnnualRevenue>80000</AnnualRevenue><BankName>Primary Bank &amp; Reserve</BankName><BusinessType>BM</BusinessType><YearOpened>1988</YearOpened><Specialty>Touring</Specialty><SquareFeet>21000</SquareFeet><Brands>2</Brands><Internet>T1</Internet><NumberEmployees>11</NumberEmployees></StoreSurvey></td><td>70cbfdc4-a8fe-4bdd-9571-8fc617bdfcb7</td><td>2014-09-12</td></tr><tr><td>1928</td><td>Quick Parts and Service</td><td>278</td><td><StoreSurvey xmlns=\"http://schemas.microsoft.com/sqlserver/2004/07/adventure-works/StoreSurvey\"><AnnualSales>300000</AnnualSales><AnnualRevenue>30000</AnnualRevenue><BankName>International Security</BankName><BusinessType>BM</BusinessType><YearOpened>1984</YearOpened><Specialty>Touring</Specialty><SquareFeet>7000</SquareFeet><Brands>4+</Brands><Internet>DSL</Internet><NumberEmployees>5</NumberEmployees></StoreSurvey></td><td>638dfc4e-0c69-4538-8da8-7e82b1b7a9ce</td><td>2014-09-12</td></tr><tr><td>1930</td><td>Reliable Brake Systems</td><td>279</td><td><StoreSurvey xmlns=\"http://schemas.microsoft.com/sqlserver/2004/07/adventure-works/StoreSurvey\"><AnnualSales>300000</AnnualSales><AnnualRevenue>30000</AnnualRevenue><BankName>Guardian Bank</BankName><BusinessType>BM</BusinessType><YearOpened>1979</YearOpened><Specialty>Mountain</Specialty><SquareFeet>7000</SquareFeet><Brands>3</Brands><Internet>DSL</Internet><NumberEmployees>6</NumberEmployees></StoreSurvey></td><td>e33ad5ac-f5ce-4070-bbf0-5f9d3d5dbefb</td><td>2014-09-12</td></tr><tr><td>1932</td><td>Thrifty Parts and Sales</td><td>276</td><td><StoreSurvey xmlns=\"http://schemas.microsoft.com/sqlserver/2004/07/adventure-works/StoreSurvey\"><AnnualSales>300000</AnnualSales><AnnualRevenue>30000</AnnualRevenue><BankName>Primary International</BankName><BusinessType>BM</BusinessType><YearOpened>1987</YearOpened><Specialty>Road</Specialty><SquareFeet>8000</SquareFeet><Brands>2</Brands><Internet>DSL</Internet><NumberEmployees>7</NumberEmployees></StoreSurvey></td><td>b8862d14-e834-48e6-b0a6-643eb0b7900b</td><td>2014-09-12</td></tr><tr><td>1934</td><td>A Typical Bike Shop</td><td>277</td><td><StoreSurvey xmlns=\"http://schemas.microsoft.com/sqlserver/2004/07/adventure-works/StoreSurvey\"><AnnualSales>300000</AnnualSales><AnnualRevenue>30000</AnnualRevenue><BankName>Reserve Security</BankName><BusinessType>BM</BusinessType><YearOpened>1982</YearOpened><Specialty>Road</Specialty><SquareFeet>8000</SquareFeet><Brands>AW</Brands><Internet>T1</Internet><NumberEmployees>8</NumberEmployees></StoreSurvey></td><td>68147f2d-51db-4ef8-8909-4d5951f18d0c</td><td>2014-09-12</td></tr><tr><td>1936</td><td>Active Transport Inc.</td><td>275</td><td><StoreSurvey xmlns=\"http://schemas.microsoft.com/sqlserver/2004/07/adventure-works/StoreSurvey\"><AnnualSales>300000</AnnualSales><AnnualRevenue>30000</AnnualRevenue><BankName>United Security</BankName><BusinessType>BM</BusinessType><YearOpened>1990</YearOpened><Specialty>Road</Specialty><SquareFeet>8000</SquareFeet><Brands>AW</Brands><Internet>T2</Internet><NumberEmployees>9</NumberEmployees></StoreSurvey></td><td>08ace001-1d14-4fc9-ae2d-bc20edb2f9dc</td><td>2014-09-12</td></tr><tr><td>1938</td><td>Cycle Parts and Accessories</td><td>286</td><td><StoreSurvey xmlns=\"http://schemas.microsoft.com/sqlserver/2004/07/adventure-works/StoreSurvey\"><AnnualSales>800000</AnnualSales><AnnualRevenue>80000</AnnualRevenue><BankName>International Bank</BankName><BusinessType>BM</BusinessType><YearOpened>1985</YearOpened><Specialty>Touring</Specialty><SquareFeet>20000</SquareFeet><Brands>3</Brands><Internet>T2</Internet><NumberEmployees>10</NumberEmployees></StoreSurvey></td><td>f2bbf7e1-a7eb-4966-bc17-64288e4568f6</td><td>2014-09-12</td></tr><tr><td>1940</td><td>Fasteners & Bolts Outlet</td><td>278</td><td><StoreSurvey xmlns=\"http://schemas.microsoft.com/sqlserver/2004/07/adventure-works/StoreSurvey\"><AnnualSales>800000</AnnualSales><AnnualRevenue>80000</AnnualRevenue><BankName>Primary Bank &amp; Reserve</BankName><BusinessType>BM</BusinessType><YearOpened>1993</YearOpened><Specialty>Touring</Specialty><SquareFeet>18000</SquareFeet><Brands>4+</Brands><Internet>DSL</Internet><NumberEmployees>11</NumberEmployees></StoreSurvey></td><td>42ebcb9e-a948-46ad-b1e9-1ce6b3586670</td><td>2014-09-12</td></tr><tr><td>1942</td><td>Functional Store North</td><td>279</td><td><StoreSurvey xmlns=\"http://schemas.microsoft.com/sqlserver/2004/07/adventure-works/StoreSurvey\"><AnnualSales>800000</AnnualSales><AnnualRevenue>80000</AnnualRevenue><BankName>International Security</BankName><BusinessType>BM</BusinessType><YearOpened>1988</YearOpened><Specialty>Mountain</Specialty><SquareFeet>19000</SquareFeet><Brands>3</Brands><Internet>DSL</Internet><NumberEmployees>12</NumberEmployees></StoreSurvey></td><td>33313e49-4158-4e04-acb3-9f6407b0eb02</td><td>2014-09-12</td></tr><tr><td>1944</td><td>Quantity Discounts</td><td>276</td><td><StoreSurvey xmlns=\"http://schemas.microsoft.com/sqlserver/2004/07/adventure-works/StoreSurvey\"><AnnualSales>800000</AnnualSales><AnnualRevenue>80000</AnnualRevenue><BankName>Guardian Bank</BankName><BusinessType>BM</BusinessType><YearOpened>1996</YearOpened><Specialty>Road</Specialty><SquareFeet>19000</SquareFeet><Brands>3</Brands><Internet>DSL</Internet><NumberEmployees>13</NumberEmployees></StoreSurvey></td><td>7c2547ec-e661-4c36-bb47-51f57ac3dbc4</td><td>2014-09-12</td></tr><tr><td>1946</td><td>Swift Cycles</td><td>277</td><td><StoreSurvey xmlns=\"http://schemas.microsoft.com/sqlserver/2004/07/adventure-works/StoreSurvey\"><AnnualSales>800000</AnnualSales><AnnualRevenue>80000</AnnualRevenue><BankName>Primary International</BankName><BusinessType>BM</BusinessType><YearOpened>1991</YearOpened><Specialty>Road</Specialty><SquareFeet>22000</SquareFeet><Brands>3</Brands><Internet>ISDN</Internet><NumberEmployees>14</NumberEmployees></StoreSurvey></td><td>c05a6203-36f7-4be4-92e6-e7cf57b838c3</td><td>2014-09-12</td></tr><tr><td>1948</td><td>Classic Cycle Store</td><td>275</td><td><StoreSurvey xmlns=\"http://schemas.microsoft.com/sqlserver/2004/07/adventure-works/StoreSurvey\"><AnnualSales>800000</AnnualSales><AnnualRevenue>80000</AnnualRevenue><BankName>Reserve Security</BankName><BusinessType>BM</BusinessType><YearOpened>1999</YearOpened><Specialty>Mountain</Specialty><SquareFeet>22000</SquareFeet><Brands>2</Brands><Internet>DSL</Internet><NumberEmployees>15</NumberEmployees></StoreSurvey></td><td>966674c7-2048-4d9e-8a92-138e9b09030d</td><td>2014-09-12</td></tr><tr><td>1950</td><td>Helpful Sales and Repair Service </td><td>286</td><td><StoreSurvey xmlns=\"http://schemas.microsoft.com/sqlserver/2004/07/adventure-works/StoreSurvey\"><AnnualSales>800000</AnnualSales><AnnualRevenue>80000</AnnualRevenue><BankName>United Security</BankName><BusinessType>BM</BusinessType><YearOpened>1994</YearOpened><Specialty>Touring</Specialty><SquareFeet>19000</SquareFeet><Brands>4+</Brands><Internet>DSL</Internet><NumberEmployees>16</NumberEmployees></StoreSurvey></td><td>5b578c14-dcd2-4fa6-a64d-4f87f843722c</td><td>2014-09-12</td></tr><tr><td>1952</td><td>Large Bike Shop</td><td>278</td><td><StoreSurvey xmlns=\"http://schemas.microsoft.com/sqlserver/2004/07/adventure-works/StoreSurvey\"><AnnualSales>800000</AnnualSales><AnnualRevenue>80000</AnnualRevenue><BankName>International Bank</BankName><BusinessType>BM</BusinessType><YearOpened>1987</YearOpened><Specialty>Mountain</Specialty><SquareFeet>19000</SquareFeet><Brands>4+</Brands><Internet>T1</Internet><NumberEmployees>17</NumberEmployees></StoreSurvey></td><td>8b1e2f28-a97f-4b3e-9130-ac855b3f8a42</td><td>2014-09-12</td></tr><tr><td>1954</td><td>Recreation Supplies</td><td>279</td><td><StoreSurvey xmlns=\"http://schemas.microsoft.com/sqlserver/2004/07/adventure-works/StoreSurvey\"><AnnualSales>800000</AnnualSales><AnnualRevenue>80000</AnnualRevenue><BankName>Primary Bank &amp; Reserve</BankName><BusinessType>BM</BusinessType><YearOpened>1997</YearOpened><Specialty>Mountain</Specialty><SquareFeet>22000</SquareFeet><Brands>3</Brands><Internet>DSL</Internet><NumberEmployees>18</NumberEmployees></StoreSurvey></td><td>00e69db8-5933-4f61-a963-7808c4baf0c5</td><td>2014-09-12</td></tr><tr><td>1956</td><td>Wire Baskets and Parts</td><td>276</td><td><StoreSurvey xmlns=\"http://schemas.microsoft.com/sqlserver/2004/07/adventure-works/StoreSurvey\"><AnnualSales>800000</AnnualSales><AnnualRevenue>80000</AnnualRevenue><BankName>International Security</BankName><BusinessType>BM</BusinessType><YearOpened>1975</YearOpened><Specialty>Road</Specialty><SquareFeet>19000</SquareFeet><Brands>4+</Brands><Internet>DSL</Internet><NumberEmployees>19</NumberEmployees></StoreSurvey></td><td>d8dca6ad-2529-469d-bb71-314f7a177e65</td><td>2014-09-12</td></tr><tr><td>1958</td><td>Ultimate Bicycle Company</td><td>290</td><td><StoreSurvey xmlns=\"http://schemas.microsoft.com/sqlserver/2004/07/adventure-works/StoreSurvey\"><AnnualSales>3000000</AnnualSales><AnnualRevenue>300000</AnnualRevenue><BankName>International Security</BankName><BusinessType>OS</BusinessType><YearOpened>1974</YearOpened><Specialty>Mountain</Specialty><SquareFeet>78000</SquareFeet><Brands>2</Brands><Internet>T1</Internet><NumberEmployees>94</NumberEmployees></StoreSurvey></td><td>304c84b4-89a5-4b0f-8bbd-461e8c70c13c</td><td>2014-09-12</td></tr><tr><td>1960</td><td>Sports Store</td><td>289</td><td><StoreSurvey xmlns=\"http://schemas.microsoft.com/sqlserver/2004/07/adventure-works/StoreSurvey\"><AnnualSales>3000000</AnnualSales><AnnualRevenue>300000</AnnualRevenue><BankName>Primary Bank &amp; Reserve</BankName><BusinessType>OS</BusinessType><YearOpened>1980</YearOpened><Specialty>Mountain</Specialty><SquareFeet>76000</SquareFeet><Brands>3</Brands><Internet>DSL</Internet><NumberEmployees>95</NumberEmployees></StoreSurvey></td><td>ff449303-a956-4800-ad4c-a7892235679c</td><td>2014-09-12</td></tr><tr><td>1962</td><td>Metropolitan Equipment</td><td>290</td><td><StoreSurvey xmlns=\"http://schemas.microsoft.com/sqlserver/2004/07/adventure-works/StoreSurvey\"><AnnualSales>3000000</AnnualSales><AnnualRevenue>300000</AnnualRevenue><BankName>International Bank</BankName><BusinessType>OS</BusinessType><YearOpened>1986</YearOpened><Specialty>Road</Specialty><SquareFeet>78000</SquareFeet><Brands>2</Brands><Internet>DSL</Internet><NumberEmployees>96</NumberEmployees></StoreSurvey></td><td>32618f97-57c6-454a-a594-172076b0f52c</td><td>2014-09-12</td></tr><tr><td>1964</td><td>Extended Tours</td><td>289</td><td><StoreSurvey xmlns=\"http://schemas.microsoft.com/sqlserver/2004/07/adventure-works/StoreSurvey\"><AnnualSales>3000000</AnnualSales><AnnualRevenue>300000</AnnualRevenue><BankName>United Security</BankName><BusinessType>OS</BusinessType><YearOpened>1992</YearOpened><Specialty>Road</Specialty><SquareFeet>78000</SquareFeet><Brands>4+</Brands><Internet>T1</Internet><NumberEmployees>97</NumberEmployees></StoreSurvey></td><td>993c0120-5e56-4ab8-9e1b-bf71be3b7faa</td><td>2014-09-12</td></tr><tr><td>1966</td><td>Convenient Sales and Service</td><td>280</td><td><StoreSurvey xmlns=\"http://schemas.microsoft.com/sqlserver/2004/07/adventure-works/StoreSurvey\"><AnnualSales>3000000</AnnualSales><AnnualRevenue>300000</AnnualRevenue><BankName>Reserve Security</BankName><BusinessType>OS</BusinessType><YearOpened>1998</YearOpened><Specialty>Road</Specialty><SquareFeet>77000</SquareFeet><Brands>4+</Brands><Internet>T1</Internet><NumberEmployees>98</NumberEmployees></StoreSurvey></td><td>4a396e48-e3ff-4115-a0c6-51847e75adcf</td><td>2014-09-12</td></tr><tr><td>1968</td><td>Solid Bike Parts</td><td>277</td><td><StoreSurvey xmlns=\"http://schemas.microsoft.com/sqlserver/2004/07/adventure-works/StoreSurvey\"><AnnualSales>3000000</AnnualSales><AnnualRevenue>300000</AnnualRevenue><BankName>Primary International</BankName><BusinessType>OS</BusinessType><YearOpened>1999</YearOpened><Specialty>Road</Specialty><SquareFeet>77000</SquareFeet><Brands>4+</Brands><Internet>DSL</Internet><NumberEmployees>99</NumberEmployees></StoreSurvey></td><td>5e7cb5e1-6651-49e6-a5cf-edf584f7ec92</td><td>2014-09-12</td></tr><tr><td>1970</td><td>Permanent Finish Products</td><td>281</td><td><StoreSurvey xmlns=\"http://schemas.microsoft.com/sqlserver/2004/07/adventure-works/StoreSurvey\"><AnnualSales>3000000</AnnualSales><AnnualRevenue>300000</AnnualRevenue><BankName>Guardian Bank</BankName><BusinessType>OS</BusinessType><YearOpened>1999</YearOpened><Specialty>Mountain</Specialty><SquareFeet>79000</SquareFeet><Brands>4+</Brands><Internet>DSL</Internet><NumberEmployees>100</NumberEmployees></StoreSurvey></td><td>7c270785-2478-4e43-9681-ec76000f4881</td><td>2014-09-12</td></tr><tr><td>1972</td><td>Mercantile Outlet</td><td>282</td><td><StoreSurvey xmlns=\"http://schemas.microsoft.com/sqlserver/2004/07/adventure-works/StoreSurvey\"><AnnualSales>3000000</AnnualSales><AnnualRevenue>300000</AnnualRevenue><BankName>International Security</BankName><BusinessType>OS</BusinessType><YearOpened>1979</YearOpened><Specialty>Mountain</Specialty><SquareFeet>71000</SquareFeet><Brands>4+</Brands><Internet>T1</Internet><NumberEmployees>66</NumberEmployees></StoreSurvey></td><td>27758a68-359b-4ea6-8689-5cb8b4a5f489</td><td>2014-09-12</td></tr><tr><td>1974</td><td>Links Works</td><td>288</td><td><StoreSurvey xmlns=\"http://schemas.microsoft.com/sqlserver/2004/07/adventure-works/StoreSurvey\"><AnnualSales>1500000</AnnualSales><AnnualRevenue>150000</AnnualRevenue><BankName>Guardian Bank</BankName><BusinessType>OS</BusinessType><YearOpened>1974</YearOpened><Specialty>Mountain</Specialty><SquareFeet>39000</SquareFeet><Brands>2</Brands><Internet>DSL</Internet><NumberEmployees>40</NumberEmployees></StoreSurvey></td><td>6870f695-e4e4-453f-8ecc-0c1cb1c09a14</td><td>2014-09-12</td></tr><tr><td>1976</td><td>Exhilarating Cycles</td><td>275</td><td><StoreSurvey xmlns=\"http://schemas.microsoft.com/sqlserver/2004/07/adventure-works/StoreSurvey\"><AnnualSales>1500000</AnnualSales><AnnualRevenue>150000</AnnualRevenue><BankName>International Security</BankName><BusinessType>OS</BusinessType><YearOpened>1980</YearOpened><Specialty>Road</Specialty><SquareFeet>40000</SquareFeet><Brands>3</Brands><Internet>T2</Internet><NumberEmployees>43</NumberEmployees></StoreSurvey></td><td>38f8bb38-28b7-42ef-a1ef-c66d247ecb59</td><td>2014-09-12</td></tr><tr><td>1978</td><td>Exercise Center</td><td>281</td><td><StoreSurvey xmlns=\"http://schemas.microsoft.com/sqlserver/2004/07/adventure-works/StoreSurvey\"><AnnualSales>800000</AnnualSales><AnnualRevenue>80000</AnnualRevenue><BankName>Guardian Bank</BankName><BusinessType>BM</BusinessType><YearOpened>1975</YearOpened><Specialty>Mountain</Specialty><SquareFeet>23000</SquareFeet><Brands>2</Brands><Internet>T1</Internet><NumberEmployees>19</NumberEmployees></StoreSurvey></td><td>7f509b53-0c05-4d57-9596-6701191190da</td><td>2014-09-12</td></tr><tr><td>1980</td><td>Great Bicycle Supply</td><td>277</td><td><StoreSurvey xmlns=\"http://schemas.microsoft.com/sqlserver/2004/07/adventure-works/StoreSurvey\"><AnnualSales>1000000</AnnualSales><AnnualRevenue>100000</AnnualRevenue><BankName>Primary International</BankName><BusinessType>BM</BusinessType><YearOpened>2000</YearOpened><Specialty>Mountain</Specialty><SquareFeet>27000</SquareFeet><Brands>4+</Brands><Internet>T1</Internet><NumberEmployees>20</NumberEmployees></StoreSurvey></td><td>dca3fda7-7276-45cf-a3ff-74eae11f6798</td><td>2014-09-12</td></tr><tr><td>1982</td><td>Mail-Order Outlet</td><td>280</td><td><StoreSurvey xmlns=\"http://schemas.microsoft.com/sqlserver/2004/07/adventure-works/StoreSurvey\"><AnnualSales>800000</AnnualSales><AnnualRevenue>80000</AnnualRevenue><BankName>Reserve Security</BankName><BusinessType>BM</BusinessType><YearOpened>2000</YearOpened><Specialty>Road</Specialty><SquareFeet>18000</SquareFeet><Brands>4+</Brands><Internet>T1</Internet><NumberEmployees>17</NumberEmployees></StoreSurvey></td><td>a6644d71-94f1-4964-b258-9be80889f5df</td><td>2014-09-12</td></tr><tr><td>1984</td><td>Nearby Cycle Shop</td><td>289</td><td><StoreSurvey xmlns=\"http://schemas.microsoft.com/sqlserver/2004/07/adventure-works/StoreSurvey\"><AnnualSales>800000</AnnualSales><AnnualRevenue>80000</AnnualRevenue><BankName>United Security</BankName><BusinessType>BM</BusinessType><YearOpened>1994</YearOpened><Specialty>Mountain</Specialty><SquareFeet>20000</SquareFeet><Brands>2</Brands><Internet>T1</Internet><NumberEmployees>14</NumberEmployees></StoreSurvey></td><td>a0670332-e61e-4ad6-8233-76a3dbbd514a</td><td>2014-09-12</td></tr><tr><td>1986</td><td>Recreation Toy Store</td><td>290</td><td><StoreSurvey xmlns=\"http://schemas.microsoft.com/sqlserver/2004/07/adventure-works/StoreSurvey\"><AnnualSales>800000</AnnualSales><AnnualRevenue>80000</AnnualRevenue><BankName>International Bank</BankName><BusinessType>BM</BusinessType><YearOpened>1988</YearOpened><Specialty>Mountain</Specialty><SquareFeet>17000</SquareFeet><Brands>3</Brands><Internet>T1</Internet><NumberEmployees>11</NumberEmployees></StoreSurvey></td><td>77a34c42-6d04-406a-8dec-7928a48520ee</td><td>2014-09-12</td></tr><tr><td>1988</td><td>Retreat Inn</td><td>282</td><td><StoreSurvey xmlns=\"http://schemas.microsoft.com/sqlserver/2004/07/adventure-works/StoreSurvey\"><AnnualSales>300000</AnnualSales><AnnualRevenue>30000</AnnualRevenue><BankName>Primary Bank &amp; Reserve</BankName><BusinessType>BM</BusinessType><YearOpened>1982</YearOpened><Specialty>Road</Specialty><SquareFeet>7000</SquareFeet><Brands>4+</Brands><Internet>T2</Internet><NumberEmployees>8</NumberEmployees></StoreSurvey></td><td>ea21ec81-1bfa-4a07-9b4d-73d9852afcbf</td><td>2014-09-12</td></tr><tr><td>1990</td><td>Technical Parts Manufacturing</td><td>281</td><td><StoreSurvey xmlns=\"http://schemas.microsoft.com/sqlserver/2004/07/adventure-works/StoreSurvey\"><AnnualSales>300000</AnnualSales><AnnualRevenue>30000</AnnualRevenue><BankName>International Security</BankName><BusinessType>BM</BusinessType><YearOpened>1976</YearOpened><Specialty>Touring</Specialty><SquareFeet>7000</SquareFeet><Brands>4+</Brands><Internet>T1</Internet><NumberEmployees>5</NumberEmployees></StoreSurvey></td><td>c8e3c4ed-8f58-4db2-b600-e0cd11d9cfad</td><td>2014-09-12</td></tr><tr><td>1992</td><td>Totes & Baskets Company</td><td>277</td><td><StoreSurvey xmlns=\"http://schemas.microsoft.com/sqlserver/2004/07/adventure-works/StoreSurvey\"><AnnualSales>300000</AnnualSales><AnnualRevenue>30000</AnnualRevenue><BankName>Guardian Bank</BankName><BusinessType>BM</BusinessType><YearOpened>1970</YearOpened><Specialty>Road</Specialty><SquareFeet>6000</SquareFeet><Brands>4+</Brands><Internet>DSL</Internet><NumberEmployees>2</NumberEmployees></StoreSurvey></td><td>ce860b58-643c-4567-bfd8-06e97969cc67</td><td>2014-09-12</td></tr><tr><td>1994</td><td>World of Bikes</td><td>277</td><td><StoreSurvey xmlns=\"http://schemas.microsoft.com/sqlserver/2004/07/adventure-works/StoreSurvey\"><AnnualSales>800000</AnnualSales><AnnualRevenue>80000</AnnualRevenue><BankName>Primary Bank &amp; Reserve</BankName><BusinessType>BM</BusinessType><YearOpened>1997</YearOpened><Specialty>Mountain</Specialty><SquareFeet>19000</SquareFeet><Brands>4+</Brands><Internet>T1</Internet><NumberEmployees>17</NumberEmployees></StoreSurvey></td><td>0c10f2b6-a13a-440c-9c25-5b28d482872a</td><td>2014-09-12</td></tr><tr><td>2051</td><td>A Bicycle Association</td><td>275</td><td><StoreSurvey xmlns=\"http://schemas.microsoft.com/sqlserver/2004/07/adventure-works/StoreSurvey\"><AnnualSales>800000</AnnualSales><AnnualRevenue>80000</AnnualRevenue><BankName>International Security</BankName><BusinessType>BM</BusinessType><YearOpened>1975</YearOpened><Specialty>Touring</Specialty><SquareFeet>19000</SquareFeet><Brands>2</Brands><Internet>T1</Internet><NumberEmployees>18</NumberEmployees></StoreSurvey></td><td>82237172-d3fe-4a95-82ef-636f655240ad</td><td>2014-09-12</td></tr></tbody></table></div>"
      ]
     },
     "metadata": {
      "application/vnd.databricks.v1+output": {
       "addedWidgets": {},
       "aggData": [],
       "aggError": "",
       "aggOverflow": false,
       "aggSchema": [],
       "aggSeriesLimitReached": false,
       "aggType": "",
       "arguments": {},
       "columnCustomDisplayInfos": {},
       "data": [
        [
         292,
         "Next-Door Bike Store",
         279,
         "<StoreSurvey xmlns=\"http://schemas.microsoft.com/sqlserver/2004/07/adventure-works/StoreSurvey\"><AnnualSales>800000</AnnualSales><AnnualRevenue>80000</AnnualRevenue><BankName>United Security</BankName><BusinessType>BM</BusinessType><YearOpened>1996</YearOpened><Specialty>Mountain</Specialty><SquareFeet>21000</SquareFeet><Brands>2</Brands><Internet>ISDN</Internet><NumberEmployees>13</NumberEmployees></StoreSurvey>",
         "a22517e3-848d-4ebe-b9d9-7437f3432304",
         "2014-09-12"
        ],
        [
         294,
         "Professional Sales and Service",
         276,
         "<StoreSurvey xmlns=\"http://schemas.microsoft.com/sqlserver/2004/07/adventure-works/StoreSurvey\"><AnnualSales>800000</AnnualSales><AnnualRevenue>80000</AnnualRevenue><BankName>International Bank</BankName><BusinessType>BM</BusinessType><YearOpened>1991</YearOpened><Specialty>Touring</Specialty><SquareFeet>18000</SquareFeet><Brands>4+</Brands><Internet>T1</Internet><NumberEmployees>14</NumberEmployees></StoreSurvey>",
         "b50ca50b-c601-4a13-b07e-2c63862d71b4",
         "2014-09-12"
        ],
        [
         296,
         "Riders Company",
         277,
         "<StoreSurvey xmlns=\"http://schemas.microsoft.com/sqlserver/2004/07/adventure-works/StoreSurvey\"><AnnualSales>800000</AnnualSales><AnnualRevenue>80000</AnnualRevenue><BankName>Primary Bank &amp; Reserve</BankName><BusinessType>BM</BusinessType><YearOpened>1999</YearOpened><Specialty>Road</Specialty><SquareFeet>21000</SquareFeet><Brands>2</Brands><Internet>DSL</Internet><NumberEmployees>15</NumberEmployees></StoreSurvey>",
         "337c3688-1339-4e1a-a08a-b54b23566e49",
         "2014-09-12"
        ],
        [
         298,
         "The Bike Mechanics",
         275,
         "<StoreSurvey xmlns=\"http://schemas.microsoft.com/sqlserver/2004/07/adventure-works/StoreSurvey\"><AnnualSales>800000</AnnualSales><AnnualRevenue>80000</AnnualRevenue><BankName>International Security</BankName><BusinessType>BM</BusinessType><YearOpened>1994</YearOpened><Specialty>Mountain</Specialty><SquareFeet>18000</SquareFeet><Brands>2</Brands><Internet>DSL</Internet><NumberEmployees>16</NumberEmployees></StoreSurvey>",
         "7894f278-f0c8-4d16-bd75-213fdbf13023",
         "2014-09-12"
        ],
        [
         300,
         "Nationwide Supply",
         286,
         "<StoreSurvey xmlns=\"http://schemas.microsoft.com/sqlserver/2004/07/adventure-works/StoreSurvey\"><AnnualSales>800000</AnnualSales><AnnualRevenue>80000</AnnualRevenue><BankName>Guardian Bank</BankName><BusinessType>BM</BusinessType><YearOpened>1987</YearOpened><Specialty>Touring</Specialty><SquareFeet>21000</SquareFeet><Brands>4+</Brands><Internet>DSL</Internet><NumberEmployees>17</NumberEmployees></StoreSurvey>",
         "c3fc9705-a8c4-4f3a-9550-eb2fa4b7b64d",
         "2014-09-12"
        ],
        [
         302,
         "Area Bike Accessories",
         281,
         "<StoreSurvey xmlns=\"http://schemas.microsoft.com/sqlserver/2004/07/adventure-works/StoreSurvey\"><AnnualSales>300000</AnnualSales><AnnualRevenue>30000</AnnualRevenue><BankName>International Bank</BankName><BusinessType>BM</BusinessType><YearOpened>1982</YearOpened><Specialty>Road</Specialty><SquareFeet>9000</SquareFeet><Brands>AW</Brands><Internet>T2</Internet><NumberEmployees>8</NumberEmployees></StoreSurvey>",
         "368be6dd-30e5-49bb-9a86-71fd49c58f4e",
         "2014-09-12"
        ],
        [
         304,
         "Bicycle Accessories and Kits",
         283,
         "<StoreSurvey xmlns=\"http://schemas.microsoft.com/sqlserver/2004/07/adventure-works/StoreSurvey\"><AnnualSales>300000</AnnualSales><AnnualRevenue>30000</AnnualRevenue><BankName>Primary Bank &amp; Reserve</BankName><BusinessType>BM</BusinessType><YearOpened>1990</YearOpened><Specialty>Mountain</Specialty><SquareFeet>7000</SquareFeet><Brands>AW</Brands><Internet>T1</Internet><NumberEmployees>9</NumberEmployees></StoreSurvey>",
         "35f40636-5105-49d5-869e-27e231189150",
         "2014-09-12"
        ],
        [
         306,
         "Clamps & Brackets Co.",
         275,
         "<StoreSurvey xmlns=\"http://schemas.microsoft.com/sqlserver/2004/07/adventure-works/StoreSurvey\"><AnnualSales>800000</AnnualSales><AnnualRevenue>80000</AnnualRevenue><BankName>International Security</BankName><BusinessType>BM</BusinessType><YearOpened>1985</YearOpened><Specialty>Mountain</Specialty><SquareFeet>17000</SquareFeet><Brands>4+</Brands><Internet>DSL</Internet><NumberEmployees>10</NumberEmployees></StoreSurvey>",
         "64d06bfc-d060-405c-8c60-c067fe7c67df",
         "2014-09-12"
        ],
        [
         308,
         "Valley Bicycle Specialists",
         277,
         "<StoreSurvey xmlns=\"http://schemas.microsoft.com/sqlserver/2004/07/adventure-works/StoreSurvey\"><AnnualSales>3000000</AnnualSales><AnnualRevenue>300000</AnnualRevenue><BankName>Primary Bank &amp; Reserve</BankName><BusinessType>OS</BusinessType><YearOpened>1979</YearOpened><Specialty>Mountain</Specialty><SquareFeet>72000</SquareFeet><Brands>4+</Brands><Internet>DSL</Internet><NumberEmployees>66</NumberEmployees></StoreSurvey>",
         "59386b0c-652e-4668-b44b-4e1711793330",
         "2014-09-12"
        ],
        [
         310,
         "New Bikes Company",
         279,
         "<StoreSurvey xmlns=\"http://schemas.microsoft.com/sqlserver/2004/07/adventure-works/StoreSurvey\"><AnnualSales>1500000</AnnualSales><AnnualRevenue>150000</AnnualRevenue><BankName>International Security</BankName><BusinessType>OS</BusinessType><YearOpened>1974</YearOpened><Specialty>Road</Specialty><SquareFeet>39000</SquareFeet><Brands>4+</Brands><Internet>T1</Internet><NumberEmployees>40</NumberEmployees></StoreSurvey>",
         "47e4b6bd-5cd1-45a3-a231-79d930381c56",
         "2014-09-12"
        ],
        [
         312,
         "Vinyl and Plastic Goods Corporation",
         282,
         "<StoreSurvey xmlns=\"http://schemas.microsoft.com/sqlserver/2004/07/adventure-works/StoreSurvey\"><AnnualSales>1500000</AnnualSales><AnnualRevenue>150000</AnnualRevenue><BankName>Primary Bank &amp; Reserve</BankName><BusinessType>OS</BusinessType><YearOpened>1980</YearOpened><Specialty>Mountain</Specialty><SquareFeet>41000</SquareFeet><Brands>4+</Brands><Internet>DSL</Internet><NumberEmployees>43</NumberEmployees></StoreSurvey>",
         "dc610525-e373-49b1-b786-ea040ec25c06",
         "2014-09-12"
        ],
        [
         314,
         "Top of the Line Bikes",
         288,
         "<StoreSurvey xmlns=\"http://schemas.microsoft.com/sqlserver/2004/07/adventure-works/StoreSurvey\"><AnnualSales>1500000</AnnualSales><AnnualRevenue>150000</AnnualRevenue><BankName>International Bank</BankName><BusinessType>OS</BusinessType><YearOpened>1986</YearOpened><Specialty>Touring</Specialty><SquareFeet>40000</SquareFeet><Brands>4+</Brands><Internet>DSL</Internet><NumberEmployees>46</NumberEmployees></StoreSurvey>",
         "e290e93f-a980-4ba3-86c3-9858f15c8a6d",
         "2014-09-12"
        ],
        [
         316,
         "Fun Toys and Bikes",
         281,
         "<StoreSurvey xmlns=\"http://schemas.microsoft.com/sqlserver/2004/07/adventure-works/StoreSurvey\"><AnnualSales>300000</AnnualSales><AnnualRevenue>30000</AnnualRevenue><BankName>Primary Bank &amp; Reserve</BankName><BusinessType>BM</BusinessType><YearOpened>1973</YearOpened><Specialty>Touring</Specialty><SquareFeet>6000</SquareFeet><Brands>2</Brands><Internet>DSL</Internet><NumberEmployees>2</NumberEmployees></StoreSurvey>",
         "6cdcf941-4192-49c7-994a-5adba534e095",
         "2014-09-12"
        ],
        [
         318,
         "Great Bikes ",
         283,
         "<StoreSurvey xmlns=\"http://schemas.microsoft.com/sqlserver/2004/07/adventure-works/StoreSurvey\"><AnnualSales>300000</AnnualSales><AnnualRevenue>30000</AnnualRevenue><BankName>International Security</BankName><BusinessType>BM</BusinessType><YearOpened>1981</YearOpened><Specialty>Mountain</Specialty><SquareFeet>10000</SquareFeet><Brands>4+</Brands><Internet>T3</Internet><NumberEmployees>3</NumberEmployees></StoreSurvey>",
         "956fbc35-5e0d-4175-8045-e0be380ba340",
         "2014-09-12"
        ],
        [
         320,
         "Metropolitan Sales and Rental",
         275,
         "<StoreSurvey xmlns=\"http://schemas.microsoft.com/sqlserver/2004/07/adventure-works/StoreSurvey\"><AnnualSales>300000</AnnualSales><AnnualRevenue>30000</AnnualRevenue><BankName>Guardian Bank</BankName><BusinessType>BM</BusinessType><YearOpened>1976</YearOpened><Specialty>Road</Specialty><SquareFeet>6000</SquareFeet><Brands>AW</Brands><Internet>T1</Internet><NumberEmployees>4</NumberEmployees></StoreSurvey>",
         "0cb4fef2-5047-40f7-8848-b59f7a3f3eec",
         "2014-09-12"
        ],
        [
         322,
         "Irregulars Outlet",
         288,
         "<StoreSurvey xmlns=\"http://schemas.microsoft.com/sqlserver/2004/07/adventure-works/StoreSurvey\"><AnnualSales>300000</AnnualSales><AnnualRevenue>30000</AnnualRevenue><BankName>Primary International</BankName><BusinessType>BM</BusinessType><YearOpened>1984</YearOpened><Specialty>Mountain</Specialty><SquareFeet>7000</SquareFeet><Brands>AW</Brands><Internet>DSL</Internet><NumberEmployees>5</NumberEmployees></StoreSurvey>",
         "cde66279-83d8-4340-a83c-e86e15514ac4",
         "2014-09-12"
        ],
        [
         324,
         "Valley Toy Store",
         282,
         "<StoreSurvey xmlns=\"http://schemas.microsoft.com/sqlserver/2004/07/adventure-works/StoreSurvey\"><AnnualSales>300000</AnnualSales><AnnualRevenue>30000</AnnualRevenue><BankName>Reserve Security</BankName><BusinessType>BM</BusinessType><YearOpened>1979</YearOpened><Specialty>Mountain</Specialty><SquareFeet>9000</SquareFeet><Brands>2</Brands><Internet>T1</Internet><NumberEmployees>6</NumberEmployees></StoreSurvey>",
         "6a1bea56-dcb7-45cf-8c92-3705e12eb2aa",
         "2014-09-12"
        ],
        [
         326,
         "Worthwhile Activity Store",
         279,
         "<StoreSurvey xmlns=\"http://schemas.microsoft.com/sqlserver/2004/07/adventure-works/StoreSurvey\"><AnnualSales>300000</AnnualSales><AnnualRevenue>30000</AnnualRevenue><BankName>United Security</BankName><BusinessType>BM</BusinessType><YearOpened>1987</YearOpened><Specialty>Mountain</Specialty><SquareFeet>8000</SquareFeet><Brands>2</Brands><Internet>DSL</Internet><NumberEmployees>7</NumberEmployees></StoreSurvey>",
         "bad63717-99bd-4581-8160-0f1723be42cb",
         "2014-09-12"
        ],
        [
         328,
         "Purchase Mart",
         275,
         "<StoreSurvey xmlns=\"http://schemas.microsoft.com/sqlserver/2004/07/adventure-works/StoreSurvey\"><AnnualSales>1500000</AnnualSales><AnnualRevenue>150000</AnnualRevenue><BankName>United Security</BankName><BusinessType>OS</BusinessType><YearOpened>1992</YearOpened><Specialty>Touring</Specialty><SquareFeet>38000</SquareFeet><Brands>3</Brands><Internet>ISDN</Internet><NumberEmployees>49</NumberEmployees></StoreSurvey>",
         "a3140349-57a3-46aa-bf32-d7f4753a06d6",
         "2014-09-12"
        ],
        [
         330,
         "Major Sport Suppliers",
         283,
         "<StoreSurvey xmlns=\"http://schemas.microsoft.com/sqlserver/2004/07/adventure-works/StoreSurvey\"><AnnualSales>3000000</AnnualSales><AnnualRevenue>300000</AnnualRevenue><BankName>Reserve Security</BankName><BusinessType>OS</BusinessType><YearOpened>1998</YearOpened><Specialty>Mountain</Specialty><SquareFeet>68000</SquareFeet><Brands>3</Brands><Internet>DSL</Internet><NumberEmployees>52</NumberEmployees></StoreSurvey>",
         "3b5f8572-43b0-42f5-86ff-e379d0769f28",
         "2014-09-12"
        ],
        [
         332,
         "Family's Favorite Bike Shop",
         278,
         "<StoreSurvey xmlns=\"http://schemas.microsoft.com/sqlserver/2004/07/adventure-works/StoreSurvey\"><AnnualSales>800000</AnnualSales><AnnualRevenue>80000</AnnualRevenue><BankName>Primary International</BankName><BusinessType>BM</BusinessType><YearOpened>1997</YearOpened><Specialty>Mountain</Specialty><SquareFeet>21000</SquareFeet><Brands>3</Brands><Internet>ISDN</Internet><NumberEmployees>18</NumberEmployees></StoreSurvey>",
         "712df7b6-a6e4-4059-a1b8-6d39a80ab712",
         "2014-09-12"
        ],
        [
         334,
         "Global Plaza",
         279,
         "<StoreSurvey xmlns=\"http://schemas.microsoft.com/sqlserver/2004/07/adventure-works/StoreSurvey\"><AnnualSales>800000</AnnualSales><AnnualRevenue>80000</AnnualRevenue><BankName>Reserve Security</BankName><BusinessType>BM</BusinessType><YearOpened>1975</YearOpened><Specialty>Mountain</Specialty><SquareFeet>19000</SquareFeet><Brands>3</Brands><Internet>DSL</Internet><NumberEmployees>19</NumberEmployees></StoreSurvey>",
         "9a1e91d8-509b-4d96-bd77-7427c7f0c47b",
         "2014-09-12"
        ],
        [
         336,
         "Imported and Domestic Cycles",
         276,
         "<StoreSurvey xmlns=\"http://schemas.microsoft.com/sqlserver/2004/07/adventure-works/StoreSurvey\"><AnnualSales>1000000</AnnualSales><AnnualRevenue>100000</AnnualRevenue><BankName>United Security</BankName><BusinessType>BM</BusinessType><YearOpened>2000</YearOpened><Specialty>Road</Specialty><SquareFeet>24000</SquareFeet><Brands>2</Brands><Internet>T1</Internet><NumberEmployees>20</NumberEmployees></StoreSurvey>",
         "25c229c0-4e7a-42d2-acb1-a2118361b2f1",
         "2014-09-12"
        ],
        [
         338,
         "Systematic Sales",
         281,
         "<StoreSurvey xmlns=\"http://schemas.microsoft.com/sqlserver/2004/07/adventure-works/StoreSurvey\"><AnnualSales>3000000</AnnualSales><AnnualRevenue>300000</AnnualRevenue><BankName>Primary International</BankName><BusinessType>OS</BusinessType><YearOpened>1999</YearOpened><Specialty>Touring</Specialty><SquareFeet>73000</SquareFeet><Brands>4+</Brands><Internet>DSL</Internet><NumberEmployees>55</NumberEmployees></StoreSurvey>",
         "df9126a5-9c95-44a2-a31f-f759ea33eea7",
         "2014-09-12"
        ],
        [
         340,
         "eCommerce Bikes",
         279,
         "<StoreSurvey xmlns=\"http://schemas.microsoft.com/sqlserver/2004/07/adventure-works/StoreSurvey\"><AnnualSales>3000000</AnnualSales><AnnualRevenue>300000</AnnualRevenue><BankName>Guardian Bank</BankName><BusinessType>OS</BusinessType><YearOpened>1999</YearOpened><Specialty>Mountain</Specialty><SquareFeet>69000</SquareFeet><Brands>2</Brands><Internet>DSL</Internet><NumberEmployees>58</NumberEmployees></StoreSurvey>",
         "1ec47823-4b39-4609-aaec-6ee68cc74f81",
         "2014-09-12"
        ],
        [
         342,
         "Mountain Toy Store",
         277,
         "<StoreSurvey xmlns=\"http://schemas.microsoft.com/sqlserver/2004/07/adventure-works/StoreSurvey\"><AnnualSales>800000</AnnualSales><AnnualRevenue>80000</AnnualRevenue><BankName>International Bank</BankName><BusinessType>BM</BusinessType><YearOpened>2000</YearOpened><Specialty>Road</Specialty><SquareFeet>18000</SquareFeet><Brands>4+</Brands><Internet>DSL</Internet><NumberEmployees>17</NumberEmployees></StoreSurvey>",
         "52efc841-97c5-4ac1-b707-fa3717b0bc48",
         "2014-09-12"
        ],
        [
         344,
         "Retail Sales and Service",
         275,
         "<StoreSurvey xmlns=\"http://schemas.microsoft.com/sqlserver/2004/07/adventure-works/StoreSurvey\"><AnnualSales>800000</AnnualSales><AnnualRevenue>80000</AnnualRevenue><BankName>Primary Bank &amp; Reserve</BankName><BusinessType>BM</BusinessType><YearOpened>1994</YearOpened><Specialty>Road</Specialty><SquareFeet>18000</SquareFeet><Brands>2</Brands><Internet>DSL</Internet><NumberEmployees>14</NumberEmployees></StoreSurvey>",
         "38f9be1b-9137-4e4e-985d-06f6c5e02330",
         "2014-09-12"
        ],
        [
         346,
         "Designated Distributors",
         282,
         "<StoreSurvey xmlns=\"http://schemas.microsoft.com/sqlserver/2004/07/adventure-works/StoreSurvey\"><AnnualSales>3000000</AnnualSales><AnnualRevenue>300000</AnnualRevenue><BankName>International Security</BankName><BusinessType>OS</BusinessType><YearOpened>1979</YearOpened><Specialty>Road</Specialty><SquareFeet>72000</SquareFeet><Brands>4+</Brands><Internet>T2</Internet><NumberEmployees>61</NumberEmployees></StoreSurvey>",
         "5dc17a1c-f618-4b6e-bea2-bff96ca6ba8b",
         "2014-09-12"
        ],
        [
         348,
         "Bold Bike Accessories",
         276,
         "<StoreSurvey xmlns=\"http://schemas.microsoft.com/sqlserver/2004/07/adventure-works/StoreSurvey\"><AnnualSales>3000000</AnnualSales><AnnualRevenue>300000</AnnualRevenue><BankName>Primary Bank &amp; Reserve</BankName><BusinessType>OS</BusinessType><YearOpened>1999</YearOpened><Specialty>Mountain</Specialty><SquareFeet>72000</SquareFeet><Brands>4+</Brands><Internet>DSL</Internet><NumberEmployees>58</NumberEmployees></StoreSurvey>",
         "ac7a83f1-196b-4bbf-a6e0-3165d4c84454",
         "2014-09-12"
        ],
        [
         350,
         "Twin Cycles",
         286,
         "<StoreSurvey xmlns=\"http://schemas.microsoft.com/sqlserver/2004/07/adventure-works/StoreSurvey\"><AnnualSales>800000</AnnualSales><AnnualRevenue>80000</AnnualRevenue><BankName>International Security</BankName><BusinessType>BM</BusinessType><YearOpened>1988</YearOpened><Specialty>Touring</Specialty><SquareFeet>21000</SquareFeet><Brands>AW</Brands><Internet>T1</Internet><NumberEmployees>11</NumberEmployees></StoreSurvey>",
         "4e917578-1942-4bab-8e63-932052fdacec",
         "2014-09-12"
        ],
        [
         352,
         "Tiny Bike Boutique",
         279,
         "<StoreSurvey xmlns=\"http://schemas.microsoft.com/sqlserver/2004/07/adventure-works/StoreSurvey\"><AnnualSales>300000</AnnualSales><AnnualRevenue>30000</AnnualRevenue><BankName>International Bank</BankName><BusinessType>BM</BusinessType><YearOpened>1978</YearOpened><Specialty>Road</Specialty><SquareFeet>6000</SquareFeet><Brands>4+</Brands><Internet>DSL</Internet><NumberEmployees>4</NumberEmployees></StoreSurvey>",
         "1d65dd5a-a7c8-4ac1-a2b6-76ad4a5946bd",
         "2014-09-12"
        ],
        [
         354,
         "Acclaimed Bicycle Company",
         279,
         "<StoreSurvey xmlns=\"http://schemas.microsoft.com/sqlserver/2004/07/adventure-works/StoreSurvey\"><AnnualSales>3000000</AnnualSales><AnnualRevenue>300000</AnnualRevenue><BankName>International Bank</BankName><BusinessType>OS</BusinessType><YearOpened>1979</YearOpened><Specialty>Touring</Specialty><SquareFeet>73000</SquareFeet><Brands>3</Brands><Internet>DSL</Internet><NumberEmployees>61</NumberEmployees></StoreSurvey>",
         "e71ac59c-b228-49f2-acc2-077aa5dfc9db",
         "2014-09-12"
        ],
        [
         356,
         "Serious Cycles",
         278,
         "<StoreSurvey xmlns=\"http://schemas.microsoft.com/sqlserver/2004/07/adventure-works/StoreSurvey\"><AnnualSales>3000000</AnnualSales><AnnualRevenue>300000</AnnualRevenue><BankName>United Security</BankName><BusinessType>OS</BusinessType><YearOpened>1996</YearOpened><Specialty>Mountain</Specialty><SquareFeet>71000</SquareFeet><Brands>4+</Brands><Internet>ISDN</Internet><NumberEmployees>64</NumberEmployees></StoreSurvey>",
         "8036d3b1-1c8d-43bf-b913-d17ee0d755af",
         "2014-09-12"
        ],
        [
         358,
         "Quality Bike Sales",
         286,
         "<StoreSurvey xmlns=\"http://schemas.microsoft.com/sqlserver/2004/07/adventure-works/StoreSurvey\"><AnnualSales>3000000</AnnualSales><AnnualRevenue>300000</AnnualRevenue><BankName>Reserve Security</BankName><BusinessType>OS</BusinessType><YearOpened>1991</YearOpened><Specialty>Touring</Specialty><SquareFeet>74000</SquareFeet><Brands>3</Brands><Internet>DSL</Internet><NumberEmployees>67</NumberEmployees></StoreSurvey>",
         "55ec3545-a751-4a37-944e-b5df36219e11",
         "2014-09-12"
        ],
        [
         360,
         "Novelty Bikes",
         275,
         "<StoreSurvey xmlns=\"http://schemas.microsoft.com/sqlserver/2004/07/adventure-works/StoreSurvey\"><AnnualSales>3000000</AnnualSales><AnnualRevenue>300000</AnnualRevenue><BankName>Primary International</BankName><BusinessType>OS</BusinessType><YearOpened>1993</YearOpened><Specialty>Touring</Specialty><SquareFeet>74000</SquareFeet><Brands>4+</Brands><Internet>ISDN</Internet><NumberEmployees>70</NumberEmployees></StoreSurvey>",
         "cd239474-966c-4474-97a9-25d52289ed52",
         "2014-09-12"
        ],
        [
         362,
         "Distinctive Cycles Sales & Service",
         279,
         "<StoreSurvey xmlns=\"http://schemas.microsoft.com/sqlserver/2004/07/adventure-works/StoreSurvey\"><AnnualSales>3000000</AnnualSales><AnnualRevenue>300000</AnnualRevenue><BankName>Primary Bank &amp; Reserve</BankName><BusinessType>OS</BusinessType><YearOpened>1995</YearOpened><Specialty>Mountain</Specialty><SquareFeet>75000</SquareFeet><Brands>3</Brands><Internet>DSL</Internet><NumberEmployees>79</NumberEmployees></StoreSurvey>",
         "7e5da4c4-23b4-4bd2-8037-b2be46e41c83",
         "2014-09-12"
        ],
        [
         364,
         "Leading Bike Distributors",
         279,
         "<StoreSurvey xmlns=\"http://schemas.microsoft.com/sqlserver/2004/07/adventure-works/StoreSurvey\"><AnnualSales>800000</AnnualSales><AnnualRevenue>80000</AnnualRevenue><BankName>Reserve Security</BankName><BusinessType>BS</BusinessType><YearOpened>1978</YearOpened><Specialty>Road</Specialty><SquareFeet>18000</SquareFeet><Brands>3</Brands><Internet>T1</Internet><NumberEmployees>13</NumberEmployees></StoreSurvey>",
         "0c0b95fd-1934-4dd9-bc1c-8c1e2bf07ebc",
         "2014-09-12"
        ],
        [
         366,
         "Activity Center",
         279,
         "<StoreSurvey xmlns=\"http://schemas.microsoft.com/sqlserver/2004/07/adventure-works/StoreSurvey\"><AnnualSales>1500000</AnnualSales><AnnualRevenue>150000</AnnualRevenue><BankName>Primary Bank &amp; Reserve</BankName><BusinessType>BS</BusinessType><YearOpened>1971</YearOpened><Specialty>Road</Specialty><SquareFeet>37000</SquareFeet><Brands>3</Brands><Internet>DSL</Internet><NumberEmployees>37</NumberEmployees></StoreSurvey>",
         "f579e604-b602-4d67-ab88-130df07753f0",
         "2014-09-12"
        ],
        [
         368,
         "Brightwork Company",
         281,
         "<StoreSurvey xmlns=\"http://schemas.microsoft.com/sqlserver/2004/07/adventure-works/StoreSurvey\"><AnnualSales>1500000</AnnualSales><AnnualRevenue>150000</AnnualRevenue><BankName>International Security</BankName><BusinessType>BS</BusinessType><YearOpened>1979</YearOpened><Specialty>Mountain</Specialty><SquareFeet>36000</SquareFeet><Brands>4+</Brands><Internet>ISDN</Internet><NumberEmployees>38</NumberEmployees></StoreSurvey>",
         "6f4273ae-583c-4219-9e0b-2f3cd44a4000",
         "2014-09-12"
        ],
        [
         370,
         "Resale Services",
         276,
         "<StoreSurvey xmlns=\"http://schemas.microsoft.com/sqlserver/2004/07/adventure-works/StoreSurvey\"><AnnualSales>800000</AnnualSales><AnnualRevenue>80000</AnnualRevenue><BankName>United Security</BankName><BusinessType>BM</BusinessType><YearOpened>1988</YearOpened><Specialty>Mountain</Specialty><SquareFeet>21000</SquareFeet><Brands>2</Brands><Internet>DSL</Internet><NumberEmployees>16</NumberEmployees></StoreSurvey>",
         "7c7076c8-2ab9-4810-bbca-b126fc811e32",
         "2014-09-12"
        ],
        [
         372,
         "The Gear Store",
         277,
         "<StoreSurvey xmlns=\"http://schemas.microsoft.com/sqlserver/2004/07/adventure-works/StoreSurvey\"><AnnualSales>800000</AnnualSales><AnnualRevenue>80000</AnnualRevenue><BankName>International Bank</BankName><BusinessType>BM</BusinessType><YearOpened>1982</YearOpened><Specialty>Mountain</Specialty><SquareFeet>21000</SquareFeet><Brands>2</Brands><Internet>DSL</Internet><NumberEmployees>14</NumberEmployees></StoreSurvey>",
         "03e77d8a-62b6-41ee-b081-7ec3e60c9a3e",
         "2014-09-12"
        ],
        [
         374,
         "Immense Manufacturing Company",
         277,
         "<StoreSurvey xmlns=\"http://schemas.microsoft.com/sqlserver/2004/07/adventure-works/StoreSurvey\"><AnnualSales>3000000</AnnualSales><AnnualRevenue>300000</AnnualRevenue><BankName>Guardian Bank</BankName><BusinessType>OS</BusinessType><YearOpened>1998</YearOpened><Specialty>Touring</Specialty><SquareFeet>76000</SquareFeet><Brands>4+</Brands><Internet>DSL</Internet><NumberEmployees>73</NumberEmployees></StoreSurvey>",
         "f948f121-09c9-46d4-a783-63ead859a044",
         "2014-09-12"
        ],
        [
         376,
         "Extended Bike Sales",
         276,
         "<StoreSurvey xmlns=\"http://schemas.microsoft.com/sqlserver/2004/07/adventure-works/StoreSurvey\"><AnnualSales>3000000</AnnualSales><AnnualRevenue>300000</AnnualRevenue><BankName>International Security</BankName><BusinessType>OS</BusinessType><YearOpened>1990</YearOpened><Specialty>Mountain</Specialty><SquareFeet>73000</SquareFeet><Brands>4+</Brands><Internet>DSL</Internet><NumberEmployees>76</NumberEmployees></StoreSurvey>",
         "9e550241-b6cb-4e95-96a2-f3bef46016df",
         "2014-09-12"
        ],
        [
         378,
         "Pedaling Components",
         288,
         "<StoreSurvey xmlns=\"http://schemas.microsoft.com/sqlserver/2004/07/adventure-works/StoreSurvey\"><AnnualSales>1500000</AnnualSales><AnnualRevenue>150000</AnnualRevenue><BankName>United Security</BankName><BusinessType>BS</BusinessType><YearOpened>1988</YearOpened><Specialty>Touring</Specialty><SquareFeet>36000</SquareFeet><Brands>4+</Brands><Internet>DSL</Internet><NumberEmployees>35</NumberEmployees></StoreSurvey>",
         "24dd7af1-d347-44cb-96fa-14b9ce5c83a8",
         "2014-09-12"
        ],
        [
         380,
         "Workout Emporium",
         282,
         "<StoreSurvey xmlns=\"http://schemas.microsoft.com/sqlserver/2004/07/adventure-works/StoreSurvey\"><AnnualSales>1500000</AnnualSales><AnnualRevenue>150000</AnnualRevenue><BankName>International Bank</BankName><BusinessType>BS</BusinessType><YearOpened>1976</YearOpened><Specialty>Touring</Specialty><SquareFeet>39000</SquareFeet><Brands>4+</Brands><Internet>T1</Internet><NumberEmployees>36</NumberEmployees></StoreSurvey>",
         "649db09e-3aa4-4275-880c-7853b3395e51",
         "2014-09-12"
        ],
        [
         382,
         "Work and Play Association",
         275,
         "<StoreSurvey xmlns=\"http://schemas.microsoft.com/sqlserver/2004/07/adventure-works/StoreSurvey\"><AnnualSales>800000</AnnualSales><AnnualRevenue>80000</AnnualRevenue><BankName>Primary Bank &amp; Reserve</BankName><BusinessType>BM</BusinessType><YearOpened>1976</YearOpened><Specialty>Road</Specialty><SquareFeet>22000</SquareFeet><Brands>4+</Brands><Internet>DSL</Internet><NumberEmployees>12</NumberEmployees></StoreSurvey>",
         "e5353da7-cb02-4c26-acd3-1c42050d4bb9",
         "2014-09-12"
        ],
        [
         384,
         "Seaside Bike Works",
         286,
         "<StoreSurvey xmlns=\"http://schemas.microsoft.com/sqlserver/2004/07/adventure-works/StoreSurvey\"><AnnualSales>800000</AnnualSales><AnnualRevenue>80000</AnnualRevenue><BankName>International Security</BankName><BusinessType>BM</BusinessType><YearOpened>1970</YearOpened><Specialty>Touring</Specialty><SquareFeet>19000</SquareFeet><Brands>3</Brands><Internet>T1</Internet><NumberEmployees>10</NumberEmployees></StoreSurvey>",
         "4c85c347-c9c0-4e6d-b290-19970f0adea0",
         "2014-09-12"
        ],
        [
         386,
         "Nice Bikes",
         278,
         "<StoreSurvey xmlns=\"http://schemas.microsoft.com/sqlserver/2004/07/adventure-works/StoreSurvey\"><AnnualSales>300000</AnnualSales><AnnualRevenue>30000</AnnualRevenue><BankName>Guardian Bank</BankName><BusinessType>BM</BusinessType><YearOpened>1975</YearOpened><Specialty>Road</Specialty><SquareFeet>9000</SquareFeet><Brands>4+</Brands><Internet>DSL</Internet><NumberEmployees>8</NumberEmployees></StoreSurvey>",
         "9fa1609c-9a36-4282-bc80-a562332def1b",
         "2014-09-12"
        ],
        [
         388,
         "Remarkable Bike Store",
         276,
         "<StoreSurvey xmlns=\"http://schemas.microsoft.com/sqlserver/2004/07/adventure-works/StoreSurvey\"><AnnualSales>800000</AnnualSales><AnnualRevenue>80000</AnnualRevenue><BankName>United Security</BankName><BusinessType>BS</BusinessType><YearOpened>1972</YearOpened><Specialty>Road</Specialty><SquareFeet>17000</SquareFeet><Brands>3</Brands><Internet>T2</Internet><NumberEmployees>10</NumberEmployees></StoreSurvey>",
         "f2dcd314-506d-47f1-8cd0-6017c40c96ab",
         "2014-09-12"
        ],
        [
         390,
         "Road-Way Mart",
         283,
         "<StoreSurvey xmlns=\"http://schemas.microsoft.com/sqlserver/2004/07/adventure-works/StoreSurvey\"><AnnualSales>1000000</AnnualSales><AnnualRevenue>100000</AnnualRevenue><BankName>Reserve Security</BankName><BusinessType>BS</BusinessType><YearOpened>1998</YearOpened><Specialty>Mountain</Specialty><SquareFeet>26000</SquareFeet><Brands>3</Brands><Internet>DSL</Internet><NumberEmployees>27</NumberEmployees></StoreSurvey>",
         "b0a08902-2c39-4a50-86e5-86e98c7b2597",
         "2014-09-12"
        ],
        [
         392,
         "Small Cycle Store",
         275,
         "<StoreSurvey xmlns=\"http://schemas.microsoft.com/sqlserver/2004/07/adventure-works/StoreSurvey\"><AnnualSales>1000000</AnnualSales><AnnualRevenue>100000</AnnualRevenue><BankName>United Security</BankName><BusinessType>BS</BusinessType><YearOpened>1971</YearOpened><Specialty>Road</Specialty><SquareFeet>25000</SquareFeet><Brands>3</Brands><Internet>T1</Internet><NumberEmployees>28</NumberEmployees></StoreSurvey>",
         "c1cdcf27-3fa6-4bf9-a5ca-baeefc8fb8e0",
         "2014-09-12"
        ],
        [
         394,
         "Blue-Ribbon Bike Company",
         279,
         "<StoreSurvey xmlns=\"http://schemas.microsoft.com/sqlserver/2004/07/adventure-works/StoreSurvey\"><AnnualSales>300000</AnnualSales><AnnualRevenue>30000</AnnualRevenue><BankName>Primary International</BankName><BusinessType>BM</BusinessType><YearOpened>1970</YearOpened><Specialty>Touring</Specialty><SquareFeet>9000</SquareFeet><Brands>AW</Brands><Internet>T1</Internet><NumberEmployees>6</NumberEmployees></StoreSurvey>",
         "096b2c5d-14e5-4bda-94e1-3e5c01d906c4",
         "2014-09-12"
        ],
        [
         396,
         "Flawless Bike Shop",
         276,
         "<StoreSurvey xmlns=\"http://schemas.microsoft.com/sqlserver/2004/07/adventure-works/StoreSurvey\"><AnnualSales>300000</AnnualSales><AnnualRevenue>30000</AnnualRevenue><BankName>Reserve Security</BankName><BusinessType>BM</BusinessType><YearOpened>1978</YearOpened><Specialty>Road</Specialty><SquareFeet>10000</SquareFeet><Brands>3</Brands><Internet>T2</Internet><NumberEmployees>4</NumberEmployees></StoreSurvey>",
         "71aea07e-95c4-4c44-a919-01b5008639d3",
         "2014-09-12"
        ],
        [
         398,
         "Grand Bicycle Stores",
         277,
         "<StoreSurvey xmlns=\"http://schemas.microsoft.com/sqlserver/2004/07/adventure-works/StoreSurvey\"><AnnualSales>300000</AnnualSales><AnnualRevenue>30000</AnnualRevenue><BankName>United Security</BankName><BusinessType>BM</BusinessType><YearOpened>1973</YearOpened><Specialty>Mountain</Specialty><SquareFeet>10000</SquareFeet><Brands>AW</Brands><Internet>ISDN</Internet><NumberEmployees>2</NumberEmployees></StoreSurvey>",
         "6def5808-13ca-4784-9f4e-1a1ffb1905d9",
         "2014-09-12"
        ],
        [
         400,
         "Exertion Activities Club",
         281,
         "<StoreSurvey xmlns=\"http://schemas.microsoft.com/sqlserver/2004/07/adventure-works/StoreSurvey\"><AnnualSales>1500000</AnnualSales><AnnualRevenue>150000</AnnualRevenue><BankName>Guardian Bank</BankName><BusinessType>BS</BusinessType><YearOpened>1984</YearOpened><Specialty>Touring</Specialty><SquareFeet>38000</SquareFeet><Brands>4+</Brands><Internet>T1</Internet><NumberEmployees>32</NumberEmployees></StoreSurvey>",
         "ac060b37-154b-4f3f-a06e-918b7ea75bb1",
         "2014-09-12"
        ],
        [
         402,
         "Impromptu Trips",
         283,
         "<StoreSurvey xmlns=\"http://schemas.microsoft.com/sqlserver/2004/07/adventure-works/StoreSurvey\"><AnnualSales>1500000</AnnualSales><AnnualRevenue>150000</AnnualRevenue><BankName>Primary International</BankName><BusinessType>BS</BusinessType><YearOpened>1978</YearOpened><Specialty>Mountain</Specialty><SquareFeet>37000</SquareFeet><Brands>4+</Brands><Internet>ISDN</Internet><NumberEmployees>33</NumberEmployees></StoreSurvey>",
         "16255726-8647-401a-9de9-ab524a839804",
         "2014-09-12"
        ],
        [
         404,
         "Margie's Travel",
         275,
         "<StoreSurvey xmlns=\"http://schemas.microsoft.com/sqlserver/2004/07/adventure-works/StoreSurvey\"><AnnualSales>1500000</AnnualSales><AnnualRevenue>150000</AnnualRevenue><BankName>Reserve Security</BankName><BusinessType>BS</BusinessType><YearOpened>1972</YearOpened><Specialty>Mountain</Specialty><SquareFeet>35000</SquareFeet><Brands>2</Brands><Internet>T1</Internet><NumberEmployees>34</NumberEmployees></StoreSurvey>",
         "9d71ff30-1bc5-4f0b-bd7b-3618b58634e9",
         "2014-09-12"
        ],
        [
         406,
         "Kickstand Sellers",
         275,
         "<StoreSurvey xmlns=\"http://schemas.microsoft.com/sqlserver/2004/07/adventure-works/StoreSurvey\"><AnnualSales>300000</AnnualSales><AnnualRevenue>30000</AnnualRevenue><BankName>International Bank</BankName><BusinessType>BM</BusinessType><YearOpened>1981</YearOpened><Specialty>Mountain</Specialty><SquareFeet>8000</SquareFeet><Brands>4+</Brands><Internet>T1</Internet><NumberEmployees>3</NumberEmployees></StoreSurvey>",
         "f6f76f14-09d5-4b11-bad6-e3bff76ac761",
         "2014-09-12"
        ],
        [
         408,
         "Nearest Bike Store",
         286,
         "<StoreSurvey xmlns=\"http://schemas.microsoft.com/sqlserver/2004/07/adventure-works/StoreSurvey\"><AnnualSales>300000</AnnualSales><AnnualRevenue>30000</AnnualRevenue><BankName>Primary Bank &amp; Reserve</BankName><BusinessType>BM</BusinessType><YearOpened>1976</YearOpened><Specialty>Touring</Specialty><SquareFeet>8000</SquareFeet><Brands>4+</Brands><Internet>T1</Internet><NumberEmployees>4</NumberEmployees></StoreSurvey>",
         "aac48ead-3e12-4431-89c4-964406a7a94d",
         "2014-09-12"
        ],
        [
         410,
         "Fast Bike Works",
         286,
         "<StoreSurvey xmlns=\"http://schemas.microsoft.com/sqlserver/2004/07/adventure-works/StoreSurvey\"><AnnualSales>1000000</AnnualSales><AnnualRevenue>100000</AnnualRevenue><BankName>Primary International</BankName><BusinessType>BS</BusinessType><YearOpened>1971</YearOpened><Specialty>Touring</Specialty><SquareFeet>25000</SquareFeet><Brands>4+</Brands><Internet>DSL</Internet><NumberEmployees>28</NumberEmployees></StoreSurvey>",
         "d09c875e-114a-4d24-a68b-aed21ee23494",
         "2014-09-12"
        ],
        [
         412,
         "Gasless Cycle Shop",
         278,
         "<StoreSurvey xmlns=\"http://schemas.microsoft.com/sqlserver/2004/07/adventure-works/StoreSurvey\"><AnnualSales>1000000</AnnualSales><AnnualRevenue>100000</AnnualRevenue><BankName>Reserve Security</BankName><BusinessType>BS</BusinessType><YearOpened>2001</YearOpened><Specialty>Road</Specialty><SquareFeet>24000</SquareFeet><Brands>3</Brands><Internet>DSL</Internet><NumberEmployees>29</NumberEmployees></StoreSurvey>",
         "824b931b-5f27-407c-81ad-00ff7bc886f1",
         "2014-09-12"
        ],
        [
         414,
         "Lubricant and Grease Suppliers",
         279,
         "<StoreSurvey xmlns=\"http://schemas.microsoft.com/sqlserver/2004/07/adventure-works/StoreSurvey\"><AnnualSales>1500000</AnnualSales><AnnualRevenue>150000</AnnualRevenue><BankName>United Security</BankName><BusinessType>BS</BusinessType><YearOpened>1996</YearOpened><Specialty>Mountain</Specialty><SquareFeet>37000</SquareFeet><Brands>4+</Brands><Internet>DSL</Internet><NumberEmployees>30</NumberEmployees></StoreSurvey>",
         "4047a571-c602-4433-956c-c6af7366bf22",
         "2014-09-12"
        ],
        [
         416,
         "Teen Discount Store",
         288,
         "<StoreSurvey xmlns=\"http://schemas.microsoft.com/sqlserver/2004/07/adventure-works/StoreSurvey\"><AnnualSales>800000</AnnualSales><AnnualRevenue>80000</AnnualRevenue><BankName>Reserve Security</BankName><BusinessType>BM</BusinessType><YearOpened>1994</YearOpened><Specialty>Mountain</Specialty><SquareFeet>18000</SquareFeet><Brands>3</Brands><Internet>DSL</Internet><NumberEmployees>16</NumberEmployees></StoreSurvey>",
         "a22c02a3-37c8-402a-932f-bc8dd75bea87",
         "2014-09-12"
        ],
        [
         418,
         "Transportation Options",
         282,
         "<StoreSurvey xmlns=\"http://schemas.microsoft.com/sqlserver/2004/07/adventure-works/StoreSurvey\"><AnnualSales>800000</AnnualSales><AnnualRevenue>80000</AnnualRevenue><BankName>United Security</BankName><BusinessType>BM</BusinessType><YearOpened>1987</YearOpened><Specialty>Mountain</Specialty><SquareFeet>20000</SquareFeet><Brands>3</Brands><Internet>DSL</Internet><NumberEmployees>17</NumberEmployees></StoreSurvey>",
         "7cbea615-beca-44c6-8c74-cb1541faefa6",
         "2014-09-12"
        ],
        [
         420,
         "Capital Riding Supplies",
         288,
         "<StoreSurvey xmlns=\"http://schemas.microsoft.com/sqlserver/2004/07/adventure-works/StoreSurvey\"><AnnualSales>1500000</AnnualSales><AnnualRevenue>150000</AnnualRevenue><BankName>Primary Bank &amp; Reserve</BankName><BusinessType>OS</BusinessType><YearOpened>1986</YearOpened><Specialty>Mountain</Specialty><SquareFeet>39000</SquareFeet><Brands>2</Brands><Internet>DSL</Internet><NumberEmployees>46</NumberEmployees></StoreSurvey>",
         "7ea9a2a5-753c-4df2-93f6-ab81f5a4c135",
         "2014-09-12"
        ],
        [
         422,
         "Bike Boutique",
         275,
         "<StoreSurvey xmlns=\"http://schemas.microsoft.com/sqlserver/2004/07/adventure-works/StoreSurvey\"><AnnualSales>1500000</AnnualSales><AnnualRevenue>150000</AnnualRevenue><BankName>International Bank</BankName><BusinessType>OS</BusinessType><YearOpened>1992</YearOpened><Specialty>Road</Specialty><SquareFeet>41000</SquareFeet><Brands>4+</Brands><Internet>ISDN</Internet><NumberEmployees>49</NumberEmployees></StoreSurvey>",
         "81eda8db-5162-424f-ba36-6cb6770cd064",
         "2014-09-12"
        ],
        [
         424,
         "Bikes Anyone?",
         275,
         "<StoreSurvey xmlns=\"http://schemas.microsoft.com/sqlserver/2004/07/adventure-works/StoreSurvey\"><AnnualSales>1000000</AnnualSales><AnnualRevenue>100000</AnnualRevenue><BankName>International Security</BankName><BusinessType>BS</BusinessType><YearOpened>1996</YearOpened><Specialty>Touring</Specialty><SquareFeet>27000</SquareFeet><Brands>3</Brands><Internet>DSL</Internet><NumberEmployees>22</NumberEmployees></StoreSurvey>",
         "6368f18b-afcf-4008-9611-99458c02c985",
         "2014-09-12"
        ],
        [
         426,
         "Cross-town Parts Shop",
         286,
         "<StoreSurvey xmlns=\"http://schemas.microsoft.com/sqlserver/2004/07/adventure-works/StoreSurvey\"><AnnualSales>800000</AnnualSales><AnnualRevenue>80000</AnnualRevenue><BankName>Guardian Bank</BankName><BusinessType>BS</BusinessType><YearOpened>1990</YearOpened><Specialty>Road</Specialty><SquareFeet>23000</SquareFeet><Brands>2</Brands><Internet>T1</Internet><NumberEmployees>19</NumberEmployees></StoreSurvey>",
         "dfed9777-d43c-497d-86d4-14407e43c535",
         "2014-09-12"
        ],
        [
         428,
         "Finer Cycle Shop",
         278,
         "<StoreSurvey xmlns=\"http://schemas.microsoft.com/sqlserver/2004/07/adventure-works/StoreSurvey\"><AnnualSales>800000</AnnualSales><AnnualRevenue>80000</AnnualRevenue><BankName>Primary International</BankName><BusinessType>BS</BusinessType><YearOpened>1984</YearOpened><Specialty>Mountain</Specialty><SquareFeet>20000</SquareFeet><Brands>4+</Brands><Internet>ISDN</Internet><NumberEmployees>16</NumberEmployees></StoreSurvey>",
         "52b4d514-b45e-4bf6-821b-f972b738d732",
         "2014-09-12"
        ],
        [
         430,
         "Center Cycle Shop",
         280,
         "<StoreSurvey xmlns=\"http://schemas.microsoft.com/sqlserver/2004/07/adventure-works/StoreSurvey\"><AnnualSales>1000000</AnnualSales><AnnualRevenue>100000</AnnualRevenue><BankName>Primary Bank &amp; Reserve</BankName><BusinessType>BM</BusinessType><YearOpened>2000</YearOpened><Specialty>Road</Specialty><SquareFeet>25000</SquareFeet><Brands>4+</Brands><Internet>T1</Internet><NumberEmployees>20</NumberEmployees></StoreSurvey>",
         "8e153f0c-275c-42ca-98df-adefb90ab587",
         "2014-09-12"
        ],
        [
         432,
         "Bulk Discount Store",
         289,
         "<StoreSurvey xmlns=\"http://schemas.microsoft.com/sqlserver/2004/07/adventure-works/StoreSurvey\"><AnnualSales>800000</AnnualSales><AnnualRevenue>80000</AnnualRevenue><BankName>International Security</BankName><BusinessType>BM</BusinessType><YearOpened>2000</YearOpened><Specialty>Road</Specialty><SquareFeet>21000</SquareFeet><Brands>3</Brands><Internet>DSL</Internet><NumberEmployees>17</NumberEmployees></StoreSurvey>",
         "e26b0754-871a-49ad-a21b-5e58d7e804ed",
         "2014-09-12"
        ],
        [
         434,
         "Country Parts Shop",
         290,
         "<StoreSurvey xmlns=\"http://schemas.microsoft.com/sqlserver/2004/07/adventure-works/StoreSurvey\"><AnnualSales>800000</AnnualSales><AnnualRevenue>80000</AnnualRevenue><BankName>Guardian Bank</BankName><BusinessType>BM</BusinessType><YearOpened>1994</YearOpened><Specialty>Road</Specialty><SquareFeet>21000</SquareFeet><Brands>4+</Brands><Internet>DSL</Internet><NumberEmployees>14</NumberEmployees></StoreSurvey>",
         "9b88e8ed-c244-484d-8c4f-89f59570ebea",
         "2014-09-12"
        ],
        [
         436,
         "Second Bike Shop",
         286,
         "<StoreSurvey xmlns=\"http://schemas.microsoft.com/sqlserver/2004/07/adventure-works/StoreSurvey\"><AnnualSales>800000</AnnualSales><AnnualRevenue>80000</AnnualRevenue><BankName>Guardian Bank</BankName><BusinessType>BM</BusinessType><YearOpened>2000</YearOpened><Specialty>Road</Specialty><SquareFeet>21000</SquareFeet><Brands>4+</Brands><Internet>T1</Internet><NumberEmployees>19</NumberEmployees></StoreSurvey>",
         "20838797-ec33-4328-bdc0-99190729be4a",
         "2014-09-12"
        ],
        [
         438,
         "First-Rate Outlet",
         278,
         "<StoreSurvey xmlns=\"http://schemas.microsoft.com/sqlserver/2004/07/adventure-works/StoreSurvey\"><AnnualSales>1000000</AnnualSales><AnnualRevenue>100000</AnnualRevenue><BankName>Primary International</BankName><BusinessType>BM</BusinessType><YearOpened>2000</YearOpened><Specialty>Road</Specialty><SquareFeet>26000</SquareFeet><Brands>3</Brands><Internet>T1</Internet><NumberEmployees>20</NumberEmployees></StoreSurvey>",
         "7642e78c-f447-4f9d-b8cb-e6bb467db663",
         "2014-09-12"
        ],
        [
         440,
         "Juvenile Sports Equipment",
         279,
         "<StoreSurvey xmlns=\"http://schemas.microsoft.com/sqlserver/2004/07/adventure-works/StoreSurvey\"><AnnualSales>800000</AnnualSales><AnnualRevenue>80000</AnnualRevenue><BankName>Reserve Security</BankName><BusinessType>BM</BusinessType><YearOpened>1994</YearOpened><Specialty>Mountain</Specialty><SquareFeet>20000</SquareFeet><Brands>2</Brands><Internet>DSL</Internet><NumberEmployees>18</NumberEmployees></StoreSurvey>",
         "74b38bf4-113c-42ec-8e72-7e4b35e5bc55",
         "2014-09-12"
        ],
        [
         442,
         "Another Bicycle Company",
         283,
         "<StoreSurvey xmlns=\"http://schemas.microsoft.com/sqlserver/2004/07/adventure-works/StoreSurvey\"><AnnualSales>300000</AnnualSales><AnnualRevenue>30000</AnnualRevenue><BankName>Reserve Security</BankName><BusinessType>BM</BusinessType><YearOpened>1973</YearOpened><Specialty>Touring</Specialty><SquareFeet>6000</SquareFeet><Brands>AW</Brands><Internet>DSL</Internet><NumberEmployees>2</NumberEmployees></StoreSurvey>",
         "4280c0d5-6765-4add-a679-f341d27c0ecf",
         "2014-09-12"
        ],
        [
         444,
         "Fourth Bike Store",
         275,
         "<StoreSurvey xmlns=\"http://schemas.microsoft.com/sqlserver/2004/07/adventure-works/StoreSurvey\"><AnnualSales>300000</AnnualSales><AnnualRevenue>30000</AnnualRevenue><BankName>United Security</BankName><BusinessType>BM</BusinessType><YearOpened>1981</YearOpened><Specialty>Touring</Specialty><SquareFeet>9000</SquareFeet><Brands>AW</Brands><Internet>T1</Internet><NumberEmployees>3</NumberEmployees></StoreSurvey>",
         "e8623c2d-ccbf-497a-8147-6574abe11b19",
         "2014-09-12"
        ],
        [
         446,
         "Rodeway Bike Store",
         288,
         "<StoreSurvey xmlns=\"http://schemas.microsoft.com/sqlserver/2004/07/adventure-works/StoreSurvey\"><AnnualSales>300000</AnnualSales><AnnualRevenue>30000</AnnualRevenue><BankName>International Bank</BankName><BusinessType>BM</BusinessType><YearOpened>1976</YearOpened><Specialty>Mountain</Specialty><SquareFeet>7000</SquareFeet><Brands>4+</Brands><Internet>DSL</Internet><NumberEmployees>4</NumberEmployees></StoreSurvey>",
         "4f971590-8c1f-4b22-808e-5917b6fab7ec",
         "2014-09-12"
        ],
        [
         448,
         "Traction Tire Company",
         276,
         "<StoreSurvey xmlns=\"http://schemas.microsoft.com/sqlserver/2004/07/adventure-works/StoreSurvey\"><AnnualSales>1500000</AnnualSales><AnnualRevenue>150000</AnnualRevenue><BankName>International Bank</BankName><BusinessType>BS</BusinessType><YearOpened>1990</YearOpened><Specialty>Mountain</Specialty><SquareFeet>39000</SquareFeet><Brands>2</Brands><Internet>DSL</Internet><NumberEmployees>31</NumberEmployees></StoreSurvey>",
         "6324fad5-6bc4-4715-85bc-a86c49e527f8",
         "2014-09-12"
        ],
        [
         450,
         "Unsurpassed Bikes",
         277,
         "<StoreSurvey xmlns=\"http://schemas.microsoft.com/sqlserver/2004/07/adventure-works/StoreSurvey\"><AnnualSales>1500000</AnnualSales><AnnualRevenue>150000</AnnualRevenue><BankName>Primary Bank &amp; Reserve</BankName><BusinessType>BS</BusinessType><YearOpened>1984</YearOpened><Specialty>Touring</Specialty><SquareFeet>39000</SquareFeet><Brands>3</Brands><Internet>DSL</Internet><NumberEmployees>32</NumberEmployees></StoreSurvey>",
         "9bc34c8e-3856-4197-8013-f5e6c7aedb48",
         "2014-09-12"
        ],
        [
         452,
         "Field Trip Inc",
         275,
         "<StoreSurvey xmlns=\"http://schemas.microsoft.com/sqlserver/2004/07/adventure-works/StoreSurvey\"><AnnualSales>1500000</AnnualSales><AnnualRevenue>150000</AnnualRevenue><BankName>International Security</BankName><BusinessType>BS</BusinessType><YearOpened>1978</YearOpened><Specialty>Road</Specialty><SquareFeet>35000</SquareFeet><Brands>4+</Brands><Internet>DSL</Internet><NumberEmployees>33</NumberEmployees></StoreSurvey>",
         "5276b793-128a-49f0-b822-d338c6b92fdc",
         "2014-09-12"
        ],
        [
         454,
         "Tire Company",
         275,
         "<StoreSurvey xmlns=\"http://schemas.microsoft.com/sqlserver/2004/07/adventure-works/StoreSurvey\"><AnnualSales>1500000</AnnualSales><AnnualRevenue>150000</AnnualRevenue><BankName>International Bank</BankName><BusinessType>BS</BusinessType><YearOpened>1983</YearOpened><Specialty>Road</Specialty><SquareFeet>37000</SquareFeet><Brands>2</Brands><Internet>DSL</Internet><NumberEmployees>45</NumberEmployees></StoreSurvey>",
         "f875272b-6629-4832-9e45-f3e8e6dd8963",
         "2014-09-12"
        ],
        [
         456,
         "Uncompromising Quality Co",
         286,
         "<StoreSurvey xmlns=\"http://schemas.microsoft.com/sqlserver/2004/07/adventure-works/StoreSurvey\"><AnnualSales>1500000</AnnualSales><AnnualRevenue>150000</AnnualRevenue><BankName>Primary Bank &amp; Reserve</BankName><BusinessType>BS</BusinessType><YearOpened>1991</YearOpened><Specialty>Touring</Specialty><SquareFeet>39000</SquareFeet><Brands>4+</Brands><Internet>DSL</Internet><NumberEmployees>46</NumberEmployees></StoreSurvey>",
         "058f1615-0267-4b7c-8e53-96101059cade",
         "2014-09-12"
        ],
        [
         458,
         "Metallic Paint and Overcoat Co",
         281,
         "<StoreSurvey xmlns=\"http://schemas.microsoft.com/sqlserver/2004/07/adventure-works/StoreSurvey\"><AnnualSales>1000000</AnnualSales><AnnualRevenue>100000</AnnualRevenue><BankName>Primary Bank &amp; Reserve</BankName><BusinessType>BS</BusinessType><YearOpened>1971</YearOpened><Specialty>Road</Specialty><SquareFeet>26000</SquareFeet><Brands>3</Brands><Internet>DSL</Internet><NumberEmployees>28</NumberEmployees></StoreSurvey>",
         "e06866f7-c659-4952-a1ec-d2b42f80613a",
         "2014-09-12"
        ],
        [
         460,
         "Pro Sporting Goods",
         276,
         "<StoreSurvey xmlns=\"http://schemas.microsoft.com/sqlserver/2004/07/adventure-works/StoreSurvey\"><AnnualSales>3000000</AnnualSales><AnnualRevenue>300000</AnnualRevenue><BankName>Primary International</BankName><BusinessType>OS</BusinessType><YearOpened>1972</YearOpened><Specialty>Mountain</Specialty><SquareFeet>79000</SquareFeet><Brands>4+</Brands><Internet>DSL</Internet><NumberEmployees>90</NumberEmployees></StoreSurvey>",
         "5a1ee7a6-2fd6-45c8-9b0d-41991049cdea",
         "2014-09-12"
        ],
        [
         462,
         "Sporting Goods and Bicycle Shop",
         279,
         "<StoreSurvey xmlns=\"http://schemas.microsoft.com/sqlserver/2004/07/adventure-works/StoreSurvey\"><AnnualSales>3000000</AnnualSales><AnnualRevenue>300000</AnnualRevenue><BankName>Guardian Bank</BankName><BusinessType>OS</BusinessType><YearOpened>1977</YearOpened><Specialty>Road</Specialty><SquareFeet>78000</SquareFeet><Brands>3</Brands><Internet>DSL</Internet><NumberEmployees>91</NumberEmployees></StoreSurvey>",
         "93d4a3a7-d111-4113-859e-5b253dd9d943",
         "2014-09-12"
        ],
        [
         464,
         "Odometers and Accessories Company",
         278,
         "<StoreSurvey xmlns=\"http://schemas.microsoft.com/sqlserver/2004/07/adventure-works/StoreSurvey\"><AnnualSales>3000000</AnnualSales><AnnualRevenue>300000</AnnualRevenue><BankName>International Security</BankName><BusinessType>OS</BusinessType><YearOpened>1987</YearOpened><Specialty>Touring</Specialty><SquareFeet>76000</SquareFeet><Brands>4+</Brands><Internet>DSL</Internet><NumberEmployees>92</NumberEmployees></StoreSurvey>",
         "47e77224-11e5-4ab9-bc23-cd122f9c281d",
         "2014-09-12"
        ],
        [
         466,
         "Scratch-Resistant Finishes Company",
         282,
         "<StoreSurvey xmlns=\"http://schemas.microsoft.com/sqlserver/2004/07/adventure-works/StoreSurvey\"><AnnualSales>800000</AnnualSales><AnnualRevenue>80000</AnnualRevenue><BankName>Guardian Bank</BankName><BusinessType>BS</BusinessType><YearOpened>1984</YearOpened><Specialty>Mountain</Specialty><SquareFeet>21000</SquareFeet><Brands>4+</Brands><Internet>DSL</Internet><NumberEmployees>16</NumberEmployees></StoreSurvey>",
         "5f85023b-d708-4d44-b1a2-927a21c4cbbb",
         "2014-09-12"
        ],
        [
         468,
         "Topnotch Bikes",
         279,
         "<StoreSurvey xmlns=\"http://schemas.microsoft.com/sqlserver/2004/07/adventure-works/StoreSurvey\"><AnnualSales>800000</AnnualSales><AnnualRevenue>80000</AnnualRevenue><BankName>Primary International</BankName><BusinessType>BS</BusinessType><YearOpened>1978</YearOpened><Specialty>Mountain</Specialty><SquareFeet>22000</SquareFeet><Brands>2</Brands><Internet>T3</Internet><NumberEmployees>13</NumberEmployees></StoreSurvey>",
         "69a76a96-12fc-4b67-9655-c578e6b02933",
         "2014-09-12"
        ],
        [
         470,
         "Unicycles, Bicycles, and Tricycles",
         281,
         "<StoreSurvey xmlns=\"http://schemas.microsoft.com/sqlserver/2004/07/adventure-works/StoreSurvey\"><AnnualSales>800000</AnnualSales><AnnualRevenue>80000</AnnualRevenue><BankName>Reserve Security</BankName><BusinessType>BS</BusinessType><YearOpened>1972</YearOpened><Specialty>Touring</Specialty><SquareFeet>17000</SquareFeet><Brands>4+</Brands><Internet>T1</Internet><NumberEmployees>10</NumberEmployees></StoreSurvey>",
         "58f17106-c637-44ce-b352-164e1ad7c41d",
         "2014-09-12"
        ],
        [
         472,
         "Safe Cycles Shop",
         283,
         "<StoreSurvey xmlns=\"http://schemas.microsoft.com/sqlserver/2004/07/adventure-works/StoreSurvey\"><AnnualSales>3000000</AnnualSales><AnnualRevenue>300000</AnnualRevenue><BankName>International Security</BankName><BusinessType>OS</BusinessType><YearOpened>1998</YearOpened><Specialty>Mountain</Specialty><SquareFeet>72000</SquareFeet><Brands>4+</Brands><Internet>DSL</Internet><NumberEmployees>73</NumberEmployees></StoreSurvey>",
         "828d8f6d-95c6-4fdc-9888-45672fec0e11",
         "2014-09-12"
        ],
        [
         474,
         "Number 1 Supply",
         281,
         "<StoreSurvey xmlns=\"http://schemas.microsoft.com/sqlserver/2004/07/adventure-works/StoreSurvey\"><AnnualSales>3000000</AnnualSales><AnnualRevenue>300000</AnnualRevenue><BankName>Primary Bank &amp; Reserve</BankName><BusinessType>OS</BusinessType><YearOpened>1990</YearOpened><Specialty>Road</Specialty><SquareFeet>75000</SquareFeet><Brands>4+</Brands><Internet>ISDN</Internet><NumberEmployees>76</NumberEmployees></StoreSurvey>",
         "a4d7720a-57dd-4084-bfc6-b49cd3367ffe",
         "2014-09-12"
        ],
        [
         476,
         "Industrial Supplies",
         279,
         "<StoreSurvey xmlns=\"http://schemas.microsoft.com/sqlserver/2004/07/adventure-works/StoreSurvey\"><AnnualSales>3000000</AnnualSales><AnnualRevenue>300000</AnnualRevenue><BankName>International Bank</BankName><BusinessType>OS</BusinessType><YearOpened>1995</YearOpened><Specialty>Touring</Specialty><SquareFeet>73000</SquareFeet><Brands>3</Brands><Internet>DSL</Internet><NumberEmployees>79</NumberEmployees></StoreSurvey>",
         "706a4161-4e67-41e1-a31b-2be9fbf864f3",
         "2014-09-12"
        ],
        [
         478,
         "Golf and Cycle Store",
         281,
         "<StoreSurvey xmlns=\"http://schemas.microsoft.com/sqlserver/2004/07/adventure-works/StoreSurvey\"><AnnualSales>3000000</AnnualSales><AnnualRevenue>300000</AnnualRevenue><BankName>Guardian Bank</BankName><BusinessType>OS</BusinessType><YearOpened>1978</YearOpened><Specialty>Mountain</Specialty><SquareFeet>75000</SquareFeet><Brands>2</Brands><Internet>DSL</Internet><NumberEmployees>86</NumberEmployees></StoreSurvey>",
         "68c1f86e-f581-4aea-afa4-b0c03eaf1f13",
         "2014-09-12"
        ],
        [
         480,
         "Front Runner Bikes",
         279,
         "<StoreSurvey xmlns=\"http://schemas.microsoft.com/sqlserver/2004/07/adventure-works/StoreSurvey\"><AnnualSales>3000000</AnnualSales><AnnualRevenue>300000</AnnualRevenue><BankName>International Security</BankName><BusinessType>OS</BusinessType><YearOpened>1983</YearOpened><Specialty>Touring</Specialty><SquareFeet>77000</SquareFeet><Brands>4+</Brands><Internet>DSL</Internet><NumberEmployees>87</NumberEmployees></StoreSurvey>",
         "0e549387-9dc1-4f37-89af-34faaeb7cfaf",
         "2014-09-12"
        ],
        [
         482,
         "Favorite Toy Distributor",
         290,
         "<StoreSurvey xmlns=\"http://schemas.microsoft.com/sqlserver/2004/07/adventure-works/StoreSurvey\"><AnnualSales>3000000</AnnualSales><AnnualRevenue>300000</AnnualRevenue><BankName>Primary Bank &amp; Reserve</BankName><BusinessType>OS</BusinessType><YearOpened>1975</YearOpened><Specialty>Touring</Specialty><SquareFeet>77000</SquareFeet><Brands>4+</Brands><Internet>DSL</Internet><NumberEmployees>88</NumberEmployees></StoreSurvey>",
         "d4352e50-aa19-434c-a515-694e42b3c4bf",
         "2014-09-12"
        ],
        [
         484,
         "World Bike Discount Store",
         276,
         "<StoreSurvey xmlns=\"http://schemas.microsoft.com/sqlserver/2004/07/adventure-works/StoreSurvey\"><AnnualSales>1500000</AnnualSales><AnnualRevenue>150000</AnnualRevenue><BankName>Guardian Bank</BankName><BusinessType>BS</BusinessType><YearOpened>1979</YearOpened><Specialty>Road</Specialty><SquareFeet>39000</SquareFeet><Brands>4+</Brands><Internet>DSL</Internet><NumberEmployees>38</NumberEmployees></StoreSurvey>",
         "e73e6b44-3824-4c98-a7b1-796f1f1e0de8",
         "2014-09-12"
        ],
        [
         486,
         "Global Sporting Goods",
         277,
         "<StoreSurvey xmlns=\"http://schemas.microsoft.com/sqlserver/2004/07/adventure-works/StoreSurvey\"><AnnualSales>1500000</AnnualSales><AnnualRevenue>150000</AnnualRevenue><BankName>Primary International</BankName><BusinessType>BS</BusinessType><YearOpened>1974</YearOpened><Specialty>Road</Specialty><SquareFeet>36000</SquareFeet><Brands>3</Brands><Internet>DSL</Internet><NumberEmployees>39</NumberEmployees></StoreSurvey>",
         "df54deb4-58d4-4d01-9288-3f4a14f346b5",
         "2014-09-12"
        ],
        [
         488,
         "Historic Bicycle Sales",
         275,
         "<StoreSurvey xmlns=\"http://schemas.microsoft.com/sqlserver/2004/07/adventure-works/StoreSurvey\"><AnnualSales>1500000</AnnualSales><AnnualRevenue>150000</AnnualRevenue><BankName>Reserve Security</BankName><BusinessType>BS</BusinessType><YearOpened>1982</YearOpened><Specialty>Mountain</Specialty><SquareFeet>38000</SquareFeet><Brands>2</Brands><Internet>T1</Internet><NumberEmployees>40</NumberEmployees></StoreSurvey>",
         "ef4de775-b406-45c4-a6dd-9b0b4815fdbf",
         "2014-09-12"
        ],
        [
         490,
         "Commuter Bicycle Store",
         282,
         "<StoreSurvey xmlns=\"http://schemas.microsoft.com/sqlserver/2004/07/adventure-works/StoreSurvey\"><AnnualSales>800000</AnnualSales><AnnualRevenue>80000</AnnualRevenue><BankName>Reserve Security</BankName><BusinessType>BM</BusinessType><YearOpened>1987</YearOpened><Specialty>Touring</Specialty><SquareFeet>22000</SquareFeet><Brands>4+</Brands><Internet>T1</Internet><NumberEmployees>17</NumberEmployees></StoreSurvey>",
         "326d145a-2c37-4f02-aa83-350132148316",
         "2014-09-12"
        ],
        [
         492,
         "Coalition Bike Company",
         281,
         "<StoreSurvey xmlns=\"http://schemas.microsoft.com/sqlserver/2004/07/adventure-works/StoreSurvey\"><AnnualSales>800000</AnnualSales><AnnualRevenue>80000</AnnualRevenue><BankName>United Security</BankName><BusinessType>BM</BusinessType><YearOpened>1997</YearOpened><Specialty>Mountain</Specialty><SquareFeet>23000</SquareFeet><Brands>2</Brands><Internet>DSL</Internet><NumberEmployees>18</NumberEmployees></StoreSurvey>",
         "137fea4b-320d-4676-a548-8efcf1f6b36b",
         "2014-09-12"
        ],
        [
         494,
         "Travel Systems",
         277,
         "<StoreSurvey xmlns=\"http://schemas.microsoft.com/sqlserver/2004/07/adventure-works/StoreSurvey\"><AnnualSales>800000</AnnualSales><AnnualRevenue>80000</AnnualRevenue><BankName>International Bank</BankName><BusinessType>BM</BusinessType><YearOpened>1975</YearOpened><Specialty>Road</Specialty><SquareFeet>21000</SquareFeet><Brands>4+</Brands><Internet>T2</Internet><NumberEmployees>19</NumberEmployees></StoreSurvey>",
         "18203555-d7ae-4da4-a9fc-316d73435120",
         "2014-09-12"
        ],
        [
         496,
         "Grease and Oil Products Company",
         277,
         "<StoreSurvey xmlns=\"http://schemas.microsoft.com/sqlserver/2004/07/adventure-works/StoreSurvey\"><AnnualSales>1500000</AnnualSales><AnnualRevenue>150000</AnnualRevenue><BankName>Primary Bank &amp; Reserve</BankName><BusinessType>BS</BusinessType><YearOpened>1979</YearOpened><Specialty>Road</Specialty><SquareFeet>36000</SquareFeet><Brands>4+</Brands><Internet>T2</Internet><NumberEmployees>38</NumberEmployees></StoreSurvey>",
         "458ad954-8f14-43b4-be03-b994cac60358",
         "2014-09-12"
        ],
        [
         498,
         "Moderately-Priced Bikes Store",
         280,
         "<StoreSurvey xmlns=\"http://schemas.microsoft.com/sqlserver/2004/07/adventure-works/StoreSurvey\"><AnnualSales>1500000</AnnualSales><AnnualRevenue>150000</AnnualRevenue><BankName>International Security</BankName><BusinessType>BS</BusinessType><YearOpened>1974</YearOpened><Specialty>Mountain</Specialty><SquareFeet>39000</SquareFeet><Brands>2</Brands><Internet>DSL</Internet><NumberEmployees>39</NumberEmployees></StoreSurvey>",
         "05fd9119-a72e-4042-b2ce-cb512247db27",
         "2014-09-12"
        ],
        [
         500,
         "Toy Manufacturing Inc",
         278,
         "<StoreSurvey xmlns=\"http://schemas.microsoft.com/sqlserver/2004/07/adventure-works/StoreSurvey\"><AnnualSales>1500000</AnnualSales><AnnualRevenue>150000</AnnualRevenue><BankName>Guardian Bank</BankName><BusinessType>BS</BusinessType><YearOpened>1977</YearOpened><Specialty>Road</Specialty><SquareFeet>40000</SquareFeet><Brands>4+</Brands><Internet>DSL</Internet><NumberEmployees>41</NumberEmployees></StoreSurvey>",
         "4984efd9-0788-450a-a4ac-019899744287",
         "2014-09-12"
        ],
        [
         502,
         "Eighty Toy Stores",
         279,
         "<StoreSurvey xmlns=\"http://schemas.microsoft.com/sqlserver/2004/07/adventure-works/StoreSurvey\"><AnnualSales>1500000</AnnualSales><AnnualRevenue>150000</AnnualRevenue><BankName>Primary International</BankName><BusinessType>BS</BusinessType><YearOpened>1985</YearOpened><Specialty>Road</Specialty><SquareFeet>37000</SquareFeet><Brands>4+</Brands><Internet>T1</Internet><NumberEmployees>42</NumberEmployees></StoreSurvey>",
         "9664e5a8-7584-410b-b610-ad49368d670e",
         "2014-09-12"
        ],
        [
         504,
         "Economy Bikes Company",
         276,
         "<StoreSurvey xmlns=\"http://schemas.microsoft.com/sqlserver/2004/07/adventure-works/StoreSurvey\"><AnnualSales>1500000</AnnualSales><AnnualRevenue>150000</AnnualRevenue><BankName>Reserve Security</BankName><BusinessType>BS</BusinessType><YearOpened>1980</YearOpened><Specialty>Mountain</Specialty><SquareFeet>41000</SquareFeet><Brands>4+</Brands><Internet>DSL</Internet><NumberEmployees>43</NumberEmployees></StoreSurvey>",
         "ab32ce06-f2af-4b8a-889a-cfc4db6b150a",
         "2014-09-12"
        ],
        [
         506,
         "Third Bike Store",
         277,
         "<StoreSurvey xmlns=\"http://schemas.microsoft.com/sqlserver/2004/07/adventure-works/StoreSurvey\"><AnnualSales>1500000</AnnualSales><AnnualRevenue>150000</AnnualRevenue><BankName>United Security</BankName><BusinessType>BS</BusinessType><YearOpened>1988</YearOpened><Specialty>Road</Specialty><SquareFeet>37000</SquareFeet><Brands>4+</Brands><Internet>T1</Internet><NumberEmployees>44</NumberEmployees></StoreSurvey>",
         "a7048720-5bdd-4df4-8685-d14d868ae297",
         "2014-09-12"
        ],
        [
         508,
         "Atypical Bike Company",
         290,
         "<StoreSurvey xmlns=\"http://schemas.microsoft.com/sqlserver/2004/07/adventure-works/StoreSurvey\"><AnnualSales>1000000</AnnualSales><AnnualRevenue>100000</AnnualRevenue><BankName>Reserve Security</BankName><BusinessType>BM</BusinessType><YearOpened>2000</YearOpened><Specialty>Road</Specialty><SquareFeet>25000</SquareFeet><Brands>3</Brands><Internet>DSL</Internet><NumberEmployees>20</NumberEmployees></StoreSurvey>",
         "fc920a3a-8bae-403d-99ce-542bf8923fbd",
         "2014-09-12"
        ],
        [
         510,
         "Bikes for Two",
         282,
         "<StoreSurvey xmlns=\"http://schemas.microsoft.com/sqlserver/2004/07/adventure-works/StoreSurvey\"><AnnualSales>800000</AnnualSales><AnnualRevenue>80000</AnnualRevenue><BankName>United Security</BankName><BusinessType>BM</BusinessType><YearOpened>1994</YearOpened><Specialty>Mountain</Specialty><SquareFeet>22000</SquareFeet><Brands>3</Brands><Internet>T1</Internet><NumberEmployees>18</NumberEmployees></StoreSurvey>",
         "da5280d3-2e15-4359-a493-c036c0a84ec4",
         "2014-09-12"
        ],
        [
         512,
         "Metal Processing Company",
         278,
         "<StoreSurvey xmlns=\"http://schemas.microsoft.com/sqlserver/2004/07/adventure-works/StoreSurvey\"><AnnualSales>1500000</AnnualSales><AnnualRevenue>150000</AnnualRevenue><BankName>International Security</BankName><BusinessType>BS</BusinessType><YearOpened>1986</YearOpened><Specialty>Road</Specialty><SquareFeet>39000</SquareFeet><Brands>4+</Brands><Internet>DSL</Internet><NumberEmployees>47</NumberEmployees></StoreSurvey>",
         "e71200e7-e3b5-4a40-bad9-88364de28030",
         "2014-09-12"
        ],
        [
         514,
         "Widget Bicycle Specialists",
         279,
         "<StoreSurvey xmlns=\"http://schemas.microsoft.com/sqlserver/2004/07/adventure-works/StoreSurvey\"><AnnualSales>1500000</AnnualSales><AnnualRevenue>150000</AnnualRevenue><BankName>Guardian Bank</BankName><BusinessType>BS</BusinessType><YearOpened>1994</YearOpened><Specialty>Road</Specialty><SquareFeet>38000</SquareFeet><Brands>3</Brands><Internet>DSL</Internet><NumberEmployees>48</NumberEmployees></StoreSurvey>",
         "5a49a2fe-09cc-46a7-95f5-e81f346477bb",
         "2014-09-12"
        ],
        [
         516,
         "Initial Bike Company",
         281,
         "<StoreSurvey xmlns=\"http://schemas.microsoft.com/sqlserver/2004/07/adventure-works/StoreSurvey\"><AnnualSales>800000</AnnualSales><AnnualRevenue>80000</AnnualRevenue><BankName>International Security</BankName><BusinessType>BM</BusinessType><YearOpened>1996</YearOpened><Specialty>Mountain</Specialty><SquareFeet>19000</SquareFeet><Brands>4+</Brands><Internet>DSL</Internet><NumberEmployees>13</NumberEmployees></StoreSurvey>",
         "0adcf413-2501-4dcb-bb86-01ce9f6d92be",
         "2014-09-12"
        ],
        [
         518,
         "Latest Sports Equipment",
         283,
         "<StoreSurvey xmlns=\"http://schemas.microsoft.com/sqlserver/2004/07/adventure-works/StoreSurvey\"><AnnualSales>800000</AnnualSales><AnnualRevenue>80000</AnnualRevenue><BankName>Guardian Bank</BankName><BusinessType>BM</BusinessType><YearOpened>1991</YearOpened><Specialty>Mountain</Specialty><SquareFeet>18000</SquareFeet><Brands>4+</Brands><Internet>T1</Internet><NumberEmployees>14</NumberEmployees></StoreSurvey>",
         "afc82a28-1a27-4899-a413-1b4d32a2df11",
         "2014-09-12"
        ],
        [
         520,
         "Modern Bike Store",
         275,
         "<StoreSurvey xmlns=\"http://schemas.microsoft.com/sqlserver/2004/07/adventure-works/StoreSurvey\"><AnnualSales>800000</AnnualSales><AnnualRevenue>80000</AnnualRevenue><BankName>Primary International</BankName><BusinessType>BM</BusinessType><YearOpened>1999</YearOpened><Specialty>Road</Specialty><SquareFeet>21000</SquareFeet><Brands>4+</Brands><Internet>T1</Internet><NumberEmployees>15</NumberEmployees></StoreSurvey>",
         "a7008459-efe5-459d-95d9-80f5e5b44132",
         "2014-09-12"
        ],
        [
         522,
         "Raw Materials Inc",
         280,
         "<StoreSurvey xmlns=\"http://schemas.microsoft.com/sqlserver/2004/07/adventure-works/StoreSurvey\"><AnnualSales>3000000</AnnualSales><AnnualRevenue>300000</AnnualRevenue><BankName>Primary Bank &amp; Reserve</BankName><BusinessType>OS</BusinessType><YearOpened>1998</YearOpened><Specialty>Mountain</Specialty><SquareFeet>74000</SquareFeet><Brands>4+</Brands><Internet>ISDN</Internet><NumberEmployees>73</NumberEmployees></StoreSurvey>",
         "4575f698-2fa1-409c-866f-0d688251499a",
         "2014-09-12"
        ],
        [
         524,
         "Lots of Bikes Storehouse",
         277,
         "<StoreSurvey xmlns=\"http://schemas.microsoft.com/sqlserver/2004/07/adventure-works/StoreSurvey\"><AnnualSales>3000000</AnnualSales><AnnualRevenue>300000</AnnualRevenue><BankName>International Bank</BankName><BusinessType>OS</BusinessType><YearOpened>1990</YearOpened><Specialty>Mountain</Specialty><SquareFeet>73000</SquareFeet><Brands>2</Brands><Internet>T1</Internet><NumberEmployees>76</NumberEmployees></StoreSurvey>",
         "91d541e3-6bc1-4921-bc6a-2c13eb3f7c02",
         "2014-09-12"
        ],
        [
         526,
         "Futuristic Bikes",
         281,
         "<StoreSurvey xmlns=\"http://schemas.microsoft.com/sqlserver/2004/07/adventure-works/StoreSurvey\"><AnnualSales>3000000</AnnualSales><AnnualRevenue>300000</AnnualRevenue><BankName>United Security</BankName><BusinessType>OS</BusinessType><YearOpened>1995</YearOpened><Specialty>Mountain</Specialty><SquareFeet>77000</SquareFeet><Brands>2</Brands><Internet>DSL</Internet><NumberEmployees>79</NumberEmployees></StoreSurvey>",
         "41dfd0ba-e78e-4456-95ef-3595d32d7ca1",
         "2014-09-12"
        ],
        [
         528,
         "Parcel Express Delivery Service",
         283,
         "<StoreSurvey xmlns=\"http://schemas.microsoft.com/sqlserver/2004/07/adventure-works/StoreSurvey\"><AnnualSales>1500000</AnnualSales><AnnualRevenue>150000</AnnualRevenue><BankName>United Security</BankName><BusinessType>BS</BusinessType><YearOpened>1979</YearOpened><Specialty>Road</Specialty><SquareFeet>36000</SquareFeet><Brands>4+</Brands><Internet>DSL</Internet><NumberEmployees>38</NumberEmployees></StoreSurvey>",
         "a4daaaf3-0d24-491d-bd6f-3d0413a38f2d",
         "2014-09-12"
        ],
        [
         530,
         "Outdoor Distributors",
         275,
         "<StoreSurvey xmlns=\"http://schemas.microsoft.com/sqlserver/2004/07/adventure-works/StoreSurvey\"><AnnualSales>1500000</AnnualSales><AnnualRevenue>150000</AnnualRevenue><BankName>International Bank</BankName><BusinessType>BS</BusinessType><YearOpened>1974</YearOpened><Specialty>Mountain</Specialty><SquareFeet>36000</SquareFeet><Brands>3</Brands><Internet>DSL</Internet><NumberEmployees>39</NumberEmployees></StoreSurvey>",
         "b7004ace-63fa-4cab-8057-8456750c2dc0",
         "2014-09-12"
        ],
        [
         532,
         "North Bike Company",
         288,
         "<StoreSurvey xmlns=\"http://schemas.microsoft.com/sqlserver/2004/07/adventure-works/StoreSurvey\"><AnnualSales>1500000</AnnualSales><AnnualRevenue>150000</AnnualRevenue><BankName>Primary Bank &amp; Reserve</BankName><BusinessType>BS</BusinessType><YearOpened>1982</YearOpened><Specialty>Road</Specialty><SquareFeet>37000</SquareFeet><Brands>4+</Brands><Internet>T1</Internet><NumberEmployees>40</NumberEmployees></StoreSurvey>",
         "dca8e739-f0fe-490f-990b-2b116d82c77d",
         "2014-09-12"
        ],
        [
         534,
         "Prosperous Tours",
         289,
         "<StoreSurvey xmlns=\"http://schemas.microsoft.com/sqlserver/2004/07/adventure-works/StoreSurvey\"><AnnualSales>3000000</AnnualSales><AnnualRevenue>300000</AnnualRevenue><BankName>Guardian Bank</BankName><BusinessType>OS</BusinessType><YearOpened>1999</YearOpened><Specialty>Road</Specialty><SquareFeet>79000</SquareFeet><Brands>4+</Brands><Internet>T1</Internet><NumberEmployees>99</NumberEmployees></StoreSurvey>",
         "a0ee7b0a-7741-4f37-bdec-8d2206467fce",
         "2014-09-12"
        ],
        [
         536,
         "Nonskid Tire Company",
         280,
         "<StoreSurvey xmlns=\"http://schemas.microsoft.com/sqlserver/2004/07/adventure-works/StoreSurvey\"><AnnualSales>3000000</AnnualSales><AnnualRevenue>300000</AnnualRevenue><BankName>International Security</BankName><BusinessType>OS</BusinessType><YearOpened>1999</YearOpened><Specialty>Mountain</Specialty><SquareFeet>80000</SquareFeet><Brands>3</Brands><Internet>T2</Internet><NumberEmployees>100</NumberEmployees></StoreSurvey>",
         "0e90c627-a250-4dba-b891-b259dbe2ca6b",
         "2014-09-12"
        ],
        [
         538,
         "Amalgamated Parts Shop",
         288,
         "<StoreSurvey xmlns=\"http://schemas.microsoft.com/sqlserver/2004/07/adventure-works/StoreSurvey\"><AnnualSales>3000000</AnnualSales><AnnualRevenue>300000</AnnualRevenue><BankName>Primary Bank &amp; Reserve</BankName><BusinessType>OS</BusinessType><YearOpened>1999</YearOpened><Specialty>Touring</Specialty><SquareFeet>77000</SquareFeet><Brands>4+</Brands><Internet>T3</Internet><NumberEmployees>99</NumberEmployees></StoreSurvey>",
         "0ce11724-2b7f-4490-94a4-7175f97d6d7f",
         "2014-09-12"
        ],
        [
         540,
         "Metro Bike Works",
         275,
         "<StoreSurvey xmlns=\"http://schemas.microsoft.com/sqlserver/2004/07/adventure-works/StoreSurvey\"><AnnualSales>3000000</AnnualSales><AnnualRevenue>300000</AnnualRevenue><BankName>International Bank</BankName><BusinessType>OS</BusinessType><YearOpened>1999</YearOpened><Specialty>Mountain</Specialty><SquareFeet>77000</SquareFeet><Brands>4+</Brands><Internet>DSL</Internet><NumberEmployees>100</NumberEmployees></StoreSurvey>",
         "b555436d-e4be-4352-8144-5064a4d62964",
         "2014-09-12"
        ],
        [
         542,
         "Best o' Bikes",
         277,
         "<StoreSurvey xmlns=\"http://schemas.microsoft.com/sqlserver/2004/07/adventure-works/StoreSurvey\"><AnnualSales>800000</AnnualSales><AnnualRevenue>80000</AnnualRevenue><BankName>Primary International</BankName><BusinessType>BS</BusinessType><YearOpened>1972</YearOpened><Specialty>Touring</Specialty><SquareFeet>19000</SquareFeet><Brands>3</Brands><Internet>DSL</Internet><NumberEmployees>10</NumberEmployees></StoreSurvey>",
         "73dcb69b-0b2e-492a-a8ed-852969c26787",
         "2014-09-12"
        ],
        [
         544,
         "Painters Bicycle Specialists",
         275,
         "<StoreSurvey xmlns=\"http://schemas.microsoft.com/sqlserver/2004/07/adventure-works/StoreSurvey\"><AnnualSales>1000000</AnnualSales><AnnualRevenue>100000</AnnualRevenue><BankName>Guardian Bank</BankName><BusinessType>BS</BusinessType><YearOpened>1998</YearOpened><Specialty>Road</Specialty><SquareFeet>24000</SquareFeet><Brands>3</Brands><Internet>DSL</Internet><NumberEmployees>27</NumberEmployees></StoreSurvey>",
         "88edc59c-1196-425a-8e7e-2286bf95a214",
         "2014-09-12"
        ],
        [
         546,
         "Client Discount Store",
         277,
         "<StoreSurvey xmlns=\"http://schemas.microsoft.com/sqlserver/2004/07/adventure-works/StoreSurvey\"><AnnualSales>1000000</AnnualSales><AnnualRevenue>100000</AnnualRevenue><BankName>Guardian Bank</BankName><BusinessType>BM</BusinessType><YearOpened>2000</YearOpened><Specialty>Mountain</Specialty><SquareFeet>24000</SquareFeet><Brands>2</Brands><Internet>DSL</Internet><NumberEmployees>20</NumberEmployees></StoreSurvey>",
         "c7615b39-9562-48dd-a81b-107914a3dd1f",
         "2014-09-12"
        ],
        [
         548,
         "Eastside Sporting Goods",
         275,
         "<StoreSurvey xmlns=\"http://schemas.microsoft.com/sqlserver/2004/07/adventure-works/StoreSurvey\"><AnnualSales>800000</AnnualSales><AnnualRevenue>80000</AnnualRevenue><BankName>Primary International</BankName><BusinessType>BM</BusinessType><YearOpened>2000</YearOpened><Specialty>Road</Specialty><SquareFeet>19000</SquareFeet><Brands>AW</Brands><Internet>T1</Internet><NumberEmployees>17</NumberEmployees></StoreSurvey>",
         "03189c8f-84cc-4207-92d4-4da26efdbb17",
         "2014-09-12"
        ],
        [
         550,
         "Helmets and Cycles",
         286,
         "<StoreSurvey xmlns=\"http://schemas.microsoft.com/sqlserver/2004/07/adventure-works/StoreSurvey\"><AnnualSales>800000</AnnualSales><AnnualRevenue>80000</AnnualRevenue><BankName>Reserve Security</BankName><BusinessType>BM</BusinessType><YearOpened>1994</YearOpened><Specialty>Touring</Specialty><SquareFeet>21000</SquareFeet><Brands>4+</Brands><Internet>ISDN</Internet><NumberEmployees>14</NumberEmployees></StoreSurvey>",
         "0ea0a15a-a2cd-4f25-a833-b31cae39e783",
         "2014-09-12"
        ],
        [
         552,
         "Requisite Part Supply",
         282,
         "<StoreSurvey xmlns=\"http://schemas.microsoft.com/sqlserver/2004/07/adventure-works/StoreSurvey\"><AnnualSales>1500000</AnnualSales><AnnualRevenue>150000</AnnualRevenue><BankName>Guardian Bank</BankName><BusinessType>BS</BusinessType><YearOpened>1988</YearOpened><Specialty>Road</Specialty><SquareFeet>39000</SquareFeet><Brands>3</Brands><Internet>DSL</Internet><NumberEmployees>35</NumberEmployees></StoreSurvey>",
         "10e20a63-73cf-4a80-a678-3d829c108d43",
         "2014-09-12"
        ],
        [
         554,
         "Racks and Security Systems",
         279,
         "<StoreSurvey xmlns=\"http://schemas.microsoft.com/sqlserver/2004/07/adventure-works/StoreSurvey\"><AnnualSales>1500000</AnnualSales><AnnualRevenue>150000</AnnualRevenue><BankName>Primary International</BankName><BusinessType>BS</BusinessType><YearOpened>1976</YearOpened><Specialty>Touring</Specialty><SquareFeet>39000</SquareFeet><Brands>3</Brands><Internet>DSL</Internet><NumberEmployees>36</NumberEmployees></StoreSurvey>",
         "4a3c505a-c5ae-4061-b376-67415efcecbb",
         "2014-09-12"
        ],
        [
         556,
         "Mechanical Products Ltd.",
         281,
         "<StoreSurvey xmlns=\"http://schemas.microsoft.com/sqlserver/2004/07/adventure-works/StoreSurvey\"><AnnualSales>1500000</AnnualSales><AnnualRevenue>150000</AnnualRevenue><BankName>Reserve Security</BankName><BusinessType>BS</BusinessType><YearOpened>1971</YearOpened><Specialty>Road</Specialty><SquareFeet>38000</SquareFeet><Brands>4+</Brands><Internet>DSL</Internet><NumberEmployees>37</NumberEmployees></StoreSurvey>",
         "caad1f0f-e7d6-47e6-a124-788b1a9426f7",
         "2014-09-12"
        ],
        [
         558,
         "Commendable Bikes",
         283,
         "<StoreSurvey xmlns=\"http://schemas.microsoft.com/sqlserver/2004/07/adventure-works/StoreSurvey\"><AnnualSales>1500000</AnnualSales><AnnualRevenue>150000</AnnualRevenue><BankName>Guardian Bank</BankName><BusinessType>BS</BusinessType><YearOpened>1974</YearOpened><Specialty>Road</Specialty><SquareFeet>37000</SquareFeet><Brands>4+</Brands><Internet>DSL</Internet><NumberEmployees>39</NumberEmployees></StoreSurvey>",
         "eb847e4a-b183-4385-8de1-57c39d4d3304",
         "2014-09-12"
        ],
        [
         560,
         "Online Bike Sellers",
         275,
         "<StoreSurvey xmlns=\"http://schemas.microsoft.com/sqlserver/2004/07/adventure-works/StoreSurvey\"><AnnualSales>1500000</AnnualSales><AnnualRevenue>150000</AnnualRevenue><BankName>Primary International</BankName><BusinessType>BS</BusinessType><YearOpened>1982</YearOpened><Specialty>Mountain</Specialty><SquareFeet>39000</SquareFeet><Brands>2</Brands><Internet>DSL</Internet><NumberEmployees>40</NumberEmployees></StoreSurvey>",
         "35ebf652-e9fc-490c-902d-304e4d112ed9",
         "2014-09-12"
        ],
        [
         562,
         "Custom Accessories Company",
         278,
         "<StoreSurvey xmlns=\"http://schemas.microsoft.com/sqlserver/2004/07/adventure-works/StoreSurvey\"><AnnualSales>3000000</AnnualSales><AnnualRevenue>300000</AnnualRevenue><BankName>Guardian Bank</BankName><BusinessType>OS</BusinessType><YearOpened>1998</YearOpened><Specialty>Road</Specialty><SquareFeet>79000</SquareFeet><Brands>4+</Brands><Internet>DSL</Internet><NumberEmployees>98</NumberEmployees></StoreSurvey>",
         "77bbddb3-3fc7-4be6-9f90-18083f0ddaf8",
         "2014-09-12"
        ],
        [
         564,
         "Unusual Bicycle Company",
         286,
         "<StoreSurvey xmlns=\"http://schemas.microsoft.com/sqlserver/2004/07/adventure-works/StoreSurvey\"><AnnualSales>3000000</AnnualSales><AnnualRevenue>300000</AnnualRevenue><BankName>International Security</BankName><BusinessType>OS</BusinessType><YearOpened>1999</YearOpened><Specialty>Touring</Specialty><SquareFeet>78000</SquareFeet><Brands>4+</Brands><Internet>DSL</Internet><NumberEmployees>99</NumberEmployees></StoreSurvey>",
         "c7b796a1-f605-4236-b784-1d1a2c3f2b7e",
         "2014-09-12"
        ],
        [
         566,
         "Courteous Bicycle Specialists",
         282,
         "<StoreSurvey xmlns=\"http://schemas.microsoft.com/sqlserver/2004/07/adventure-works/StoreSurvey\"><AnnualSales>300000</AnnualSales><AnnualRevenue>30000</AnnualRevenue><BankName>International Security</BankName><BusinessType>BM</BusinessType><YearOpened>1982</YearOpened><Specialty>Touring</Specialty><SquareFeet>10000</SquareFeet><Brands>2</Brands><Internet>DSL</Internet><NumberEmployees>8</NumberEmployees></StoreSurvey>",
         "62032f02-08f9-4766-8fc2-9ead345aeec6",
         "2014-09-12"
        ],
        [
         568,
         "Hobby Store",
         279,
         "<StoreSurvey xmlns=\"http://schemas.microsoft.com/sqlserver/2004/07/adventure-works/StoreSurvey\"><AnnualSales>300000</AnnualSales><AnnualRevenue>30000</AnnualRevenue><BankName>Guardian Bank</BankName><BusinessType>BM</BusinessType><YearOpened>1976</YearOpened><Specialty>Mountain</Specialty><SquareFeet>6000</SquareFeet><Brands>2</Brands><Internet>DSL</Internet><NumberEmployees>5</NumberEmployees></StoreSurvey>",
         "4d72976f-7a2f-499d-84ba-ea5fd79d0d14",
         "2014-09-12"
        ],
        [
         570,
         "Professional Cycle Store",
         281,
         "<StoreSurvey xmlns=\"http://schemas.microsoft.com/sqlserver/2004/07/adventure-works/StoreSurvey\"><AnnualSales>300000</AnnualSales><AnnualRevenue>30000</AnnualRevenue><BankName>Primary International</BankName><BusinessType>BM</BusinessType><YearOpened>1970</YearOpened><Specialty>Mountain</Specialty><SquareFeet>10000</SquareFeet><Brands>2</Brands><Internet>T1</Internet><NumberEmployees>2</NumberEmployees></StoreSurvey>",
         "8c1f3e35-1a21-4ff8-8256-7433c6591d10",
         "2014-09-12"
        ],
        [
         572,
         "Bike Universe",
         281,
         "<StoreSurvey xmlns=\"http://schemas.microsoft.com/sqlserver/2004/07/adventure-works/StoreSurvey\"><AnnualSales>1000000</AnnualSales><AnnualRevenue>100000</AnnualRevenue><BankName>United Security</BankName><BusinessType>BS</BusinessType><YearOpened>1971</YearOpened><Specialty>Mountain</Specialty><SquareFeet>28000</SquareFeet><Brands>4+</Brands><Internet>T2</Internet><NumberEmployees>28</NumberEmployees></StoreSurvey>",
         "5414845a-db08-45c9-8160-1762390db768",
         "2014-09-12"
        ],
        [
         574,
         "Fifth Bike Store",
         283,
         "<StoreSurvey xmlns=\"http://schemas.microsoft.com/sqlserver/2004/07/adventure-works/StoreSurvey\"><AnnualSales>1000000</AnnualSales><AnnualRevenue>100000</AnnualRevenue><BankName>International Bank</BankName><BusinessType>BS</BusinessType><YearOpened>2001</YearOpened><Specialty>Road</Specialty><SquareFeet>26000</SquareFeet><Brands>4+</Brands><Internet>DSL</Internet><NumberEmployees>25</NumberEmployees></StoreSurvey>",
         "8db66e19-fc69-45b1-888b-63d253ed6a8f",
         "2014-09-12"
        ],
        [
         576,
         "Independent Outlet",
         275,
         "<StoreSurvey xmlns=\"http://schemas.microsoft.com/sqlserver/2004/07/adventure-works/StoreSurvey\"><AnnualSales>1000000</AnnualSales><AnnualRevenue>100000</AnnualRevenue><BankName>Primary Bank &amp; Reserve</BankName><BusinessType>BS</BusinessType><YearOpened>1996</YearOpened><Specialty>Road</Specialty><SquareFeet>25000</SquareFeet><Brands>3</Brands><Internet>DSL</Internet><NumberEmployees>22</NumberEmployees></StoreSurvey>",
         "d888b41f-0f06-4e08-b871-b4fd6f9e22cf",
         "2014-09-12"
        ],
        [
         578,
         "Rambling Tours",
         288,
         "<StoreSurvey xmlns=\"http://schemas.microsoft.com/sqlserver/2004/07/adventure-works/StoreSurvey\"><AnnualSales>800000</AnnualSales><AnnualRevenue>80000</AnnualRevenue><BankName>International Security</BankName><BusinessType>BS</BusinessType><YearOpened>1990</YearOpened><Specialty>Touring</Specialty><SquareFeet>19000</SquareFeet><Brands>3</Brands><Internet>T3</Internet><NumberEmployees>19</NumberEmployees></StoreSurvey>",
         "59763192-45a0-42f9-a4f2-8ecf595db261",
         "2014-09-12"
        ],
        [
         580,
         "Farthest Bike Store",
         282,
         "<StoreSurvey xmlns=\"http://schemas.microsoft.com/sqlserver/2004/07/adventure-works/StoreSurvey\"><AnnualSales>3000000</AnnualSales><AnnualRevenue>300000</AnnualRevenue><BankName>United Security</BankName><BusinessType>OS</BusinessType><YearOpened>1987</YearOpened><Specialty>Touring</Specialty><SquareFeet>74000</SquareFeet><Brands>4+</Brands><Internet>DSL</Internet><NumberEmployees>80</NumberEmployees></StoreSurvey>",
         "0e3f4f5a-5dee-4b0a-a5a5-c524f74156ea",
         "2014-09-12"
        ],
        [
         582,
         "Excellent Bikes",
         288,
         "<StoreSurvey xmlns=\"http://schemas.microsoft.com/sqlserver/2004/07/adventure-works/StoreSurvey\"><AnnualSales>3000000</AnnualSales><AnnualRevenue>300000</AnnualRevenue><BankName>Reserve Security</BankName><BusinessType>OS</BusinessType><YearOpened>1992</YearOpened><Specialty>Touring</Specialty><SquareFeet>75000</SquareFeet><Brands>2</Brands><Internet>DSL</Internet><NumberEmployees>81</NumberEmployees></StoreSurvey>",
         "cbc9be9e-5422-411c-b3ef-a301be4ae107",
         "2014-09-12"
        ],
        [
         584,
         "Curbside Universe",
         275,
         "<StoreSurvey xmlns=\"http://schemas.microsoft.com/sqlserver/2004/07/adventure-works/StoreSurvey\"><AnnualSales>3000000</AnnualSales><AnnualRevenue>300000</AnnualRevenue><BankName>Primary International</BankName><BusinessType>OS</BusinessType><YearOpened>1984</YearOpened><Specialty>Road</Specialty><SquareFeet>73000</SquareFeet><Brands>4+</Brands><Internet>DSL</Internet><NumberEmployees>82</NumberEmployees></StoreSurvey>",
         "3c49dde5-c64c-4456-8b4a-aa9e1ecc9c2f",
         "2014-09-12"
        ],
        [
         586,
         "Alternative Vehicles",
         280,
         "<StoreSurvey xmlns=\"http://schemas.microsoft.com/sqlserver/2004/07/adventure-works/StoreSurvey\"><AnnualSales>1500000</AnnualSales><AnnualRevenue>150000</AnnualRevenue><BankName>Primary Bank &amp; Reserve</BankName><BusinessType>BS</BusinessType><YearOpened>1983</YearOpened><Specialty>Road</Specialty><SquareFeet>41000</SquareFeet><Brands>4+</Brands><Internet>T1</Internet><NumberEmployees>45</NumberEmployees></StoreSurvey>",
         "a8c079a5-40cb-4707-b88d-25b0ffa42664",
         "2014-09-12"
        ],
        [
         588,
         "Channel Outlet",
         289,
         "<StoreSurvey xmlns=\"http://schemas.microsoft.com/sqlserver/2004/07/adventure-works/StoreSurvey\"><AnnualSales>1500000</AnnualSales><AnnualRevenue>150000</AnnualRevenue><BankName>International Security</BankName><BusinessType>BS</BusinessType><YearOpened>1991</YearOpened><Specialty>Touring</Specialty><SquareFeet>40000</SquareFeet><Brands>4+</Brands><Internet>DSL</Internet><NumberEmployees>46</NumberEmployees></StoreSurvey>",
         "70703845-fb8a-40a5-974f-d54b46943647",
         "2014-09-12"
        ],
        [
         590,
         "Full Sports Supply",
         290,
         "<StoreSurvey xmlns=\"http://schemas.microsoft.com/sqlserver/2004/07/adventure-works/StoreSurvey\"><AnnualSales>1500000</AnnualSales><AnnualRevenue>150000</AnnualRevenue><BankName>Guardian Bank</BankName><BusinessType>BS</BusinessType><YearOpened>1986</YearOpened><Specialty>Mountain</Specialty><SquareFeet>38000</SquareFeet><Brands>4+</Brands><Internet>DSL</Internet><NumberEmployees>47</NumberEmployees></StoreSurvey>",
         "8cff03dd-d8ec-4595-92c2-91b5e97957a3",
         "2014-09-12"
        ],
        [
         592,
         "Retail Mall",
         282,
         "<StoreSurvey xmlns=\"http://schemas.microsoft.com/sqlserver/2004/07/adventure-works/StoreSurvey\"><AnnualSales>3000000</AnnualSales><AnnualRevenue>300000</AnnualRevenue><BankName>Primary International</BankName><BusinessType>OS</BusinessType><YearOpened>1977</YearOpened><Specialty>Road</Specialty><SquareFeet>79000</SquareFeet><Brands>4+</Brands><Internet>ISDN</Internet><NumberEmployees>91</NumberEmployees></StoreSurvey>",
         "7da72678-7f78-49f9-981d-29f073c024ce",
         "2014-09-12"
        ],
        [
         594,
         "Racing Store",
         290,
         "<StoreSurvey xmlns=\"http://schemas.microsoft.com/sqlserver/2004/07/adventure-works/StoreSurvey\"><AnnualSales>3000000</AnnualSales><AnnualRevenue>300000</AnnualRevenue><BankName>Guardian Bank</BankName><BusinessType>OS</BusinessType><YearOpened>1987</YearOpened><Specialty>Road</Specialty><SquareFeet>78000</SquareFeet><Brands>4+</Brands><Internet>DSL</Internet><NumberEmployees>92</NumberEmployees></StoreSurvey>",
         "87eacf60-34f0-444a-8291-db255fe388d2",
         "2014-09-12"
        ],
        [
         596,
         "Metro Metals Co.",
         289,
         "<StoreSurvey xmlns=\"http://schemas.microsoft.com/sqlserver/2004/07/adventure-works/StoreSurvey\"><AnnualSales>3000000</AnnualSales><AnnualRevenue>300000</AnnualRevenue><BankName>International Security</BankName><BusinessType>OS</BusinessType><YearOpened>1974</YearOpened><Specialty>Touring</Specialty><SquareFeet>77000</SquareFeet><Brands>4+</Brands><Internet>DSL</Internet><NumberEmployees>93</NumberEmployees></StoreSurvey>",
         "fa71e13b-b051-4f12-a280-f69ecd6af1db",
         "2014-09-12"
        ],
        [
         598,
         "Sheet Metal Manufacturing",
         277,
         "<StoreSurvey xmlns=\"http://schemas.microsoft.com/sqlserver/2004/07/adventure-works/StoreSurvey\"><AnnualSales>800000</AnnualSales><AnnualRevenue>80000</AnnualRevenue><BankName>International Security</BankName><BusinessType>BM</BusinessType><YearOpened>1997</YearOpened><Specialty>Road</Specialty><SquareFeet>19000</SquareFeet><Brands>3</Brands><Internet>T1</Internet><NumberEmployees>17</NumberEmployees></StoreSurvey>",
         "a909c7ed-04a5-4138-ab83-c9e739aa28ae",
         "2014-09-12"
        ],
        [
         600,
         "Thorough Parts and Repair Services",
         280,
         "<StoreSurvey xmlns=\"http://schemas.microsoft.com/sqlserver/2004/07/adventure-works/StoreSurvey\"><AnnualSales>800000</AnnualSales><AnnualRevenue>80000</AnnualRevenue><BankName>Guardian Bank</BankName><BusinessType>BM</BusinessType><YearOpened>1975</YearOpened><Specialty>Road</Specialty><SquareFeet>22000</SquareFeet><Brands>2</Brands><Internet>T1</Internet><NumberEmployees>18</NumberEmployees></StoreSurvey>",
         "6a32068c-6a79-43cf-a443-57841ed98990",
         "2014-09-12"
        ],
        [
         602,
         "Uttermost Bike Shop",
         289,
         "<StoreSurvey xmlns=\"http://schemas.microsoft.com/sqlserver/2004/07/adventure-works/StoreSurvey\"><AnnualSales>800000</AnnualSales><AnnualRevenue>80000</AnnualRevenue><BankName>Primary International</BankName><BusinessType>BM</BusinessType><YearOpened>2000</YearOpened><Specialty>Road</Specialty><SquareFeet>20000</SquareFeet><Brands>4+</Brands><Internet>DSL</Internet><NumberEmployees>19</NumberEmployees></StoreSurvey>",
         "24f1c5f8-093a-426c-87ce-8fa9af9fac33",
         "2014-09-12"
        ],
        [
         604,
         "Mechanical Sports Center",
         275,
         "<StoreSurvey xmlns=\"http://schemas.microsoft.com/sqlserver/2004/07/adventure-works/StoreSurvey\"><AnnualSales>1500000</AnnualSales><AnnualRevenue>150000</AnnualRevenue><BankName>International Security</BankName><BusinessType>BS</BusinessType><YearOpened>1995</YearOpened><Specialty>Road</Specialty><SquareFeet>40000</SquareFeet><Brands>3</Brands><Internet>DSL</Internet><NumberEmployees>40</NumberEmployees></StoreSurvey>",
         "739999fe-97eb-4f89-ba26-a34771d9af65",
         "2014-09-12"
        ],
        [
         606,
         "Speedometer Sales",
         288,
         "<StoreSurvey xmlns=\"http://schemas.microsoft.com/sqlserver/2004/07/adventure-works/StoreSurvey\"><AnnualSales>1500000</AnnualSales><AnnualRevenue>150000</AnnualRevenue><BankName>Guardian Bank</BankName><BusinessType>BS</BusinessType><YearOpened>1995</YearOpened><Specialty>Road</Specialty><SquareFeet>39000</SquareFeet><Brands>3</Brands><Internet>DSL</Internet><NumberEmployees>37</NumberEmployees></StoreSurvey>",
         "56c01043-10b4-487e-8d55-48c1268bce1d",
         "2014-09-12"
        ],
        [
         608,
         "Two-Wheeled Transit Company",
         282,
         "<StoreSurvey xmlns=\"http://schemas.microsoft.com/sqlserver/2004/07/adventure-works/StoreSurvey\"><AnnualSales>1500000</AnnualSales><AnnualRevenue>150000</AnnualRevenue><BankName>Primary International</BankName><BusinessType>BS</BusinessType><YearOpened>1983</YearOpened><Specialty>Mountain</Specialty><SquareFeet>38000</SquareFeet><Brands>4+</Brands><Internet>DSL</Internet><NumberEmployees>34</NumberEmployees></StoreSurvey>",
         "d03c1cea-5d48-4dd1-98d6-87d06c1f33a1",
         "2014-09-12"
        ],
        [
         610,
         "Mountain Emporium",
         279,
         "<StoreSurvey xmlns=\"http://schemas.microsoft.com/sqlserver/2004/07/adventure-works/StoreSurvey\"><AnnualSales>1500000</AnnualSales><AnnualRevenue>150000</AnnualRevenue><BankName>Reserve Security</BankName><BusinessType>BS</BusinessType><YearOpened>1998</YearOpened><Specialty>Mountain</Specialty><SquareFeet>37000</SquareFeet><Brands>4+</Brands><Internet>T1</Internet><NumberEmployees>31</NumberEmployees></StoreSurvey>",
         "3b74778c-9e53-47d0-83ef-6438b9b77427",
         "2014-09-12"
        ],
        [
         612,
         "Metro Cycle Shop",
         283,
         "<StoreSurvey xmlns=\"http://schemas.microsoft.com/sqlserver/2004/07/adventure-works/StoreSurvey\"><AnnualSales>3000000</AnnualSales><AnnualRevenue>300000</AnnualRevenue><BankName>Guardian Bank</BankName><BusinessType>OS</BusinessType><YearOpened>1989</YearOpened><Specialty>Mountain</Specialty><SquareFeet>74000</SquareFeet><Brands>3</Brands><Internet>T1</Internet><NumberEmployees>83</NumberEmployees></StoreSurvey>",
         "43be0e08-95b3-4cfe-b5fe-7c9a7270ffba",
         "2014-09-12"
        ],
        [
         614,
         "Outdoor Sporting Goods",
         281,
         "<StoreSurvey xmlns=\"http://schemas.microsoft.com/sqlserver/2004/07/adventure-works/StoreSurvey\"><AnnualSales>3000000</AnnualSales><AnnualRevenue>300000</AnnualRevenue><BankName>International Security</BankName><BusinessType>OS</BusinessType><YearOpened>1981</YearOpened><Specialty>Touring</Specialty><SquareFeet>74000</SquareFeet><Brands>3</Brands><Internet>ISDN</Internet><NumberEmployees>84</NumberEmployees></StoreSurvey>",
         "689b5679-a37f-40c9-9f90-e4ce21785e20",
         "2014-09-12"
        ],
        [
         616,
         "Tread Industries",
         279,
         "<StoreSurvey xmlns=\"http://schemas.microsoft.com/sqlserver/2004/07/adventure-works/StoreSurvey\"><AnnualSales>3000000</AnnualSales><AnnualRevenue>300000</AnnualRevenue><BankName>Primary Bank &amp; Reserve</BankName><BusinessType>OS</BusinessType><YearOpened>1986</YearOpened><Specialty>Mountain</Specialty><SquareFeet>77000</SquareFeet><Brands>4+</Brands><Internet>T1</Internet><NumberEmployees>85</NumberEmployees></StoreSurvey>",
         "3e476935-5369-472e-9a52-b58a8b985c34",
         "2014-09-12"
        ],
        [
         618,
         "Petroleum Products Distributors",
         282,
         "<StoreSurvey xmlns=\"http://schemas.microsoft.com/sqlserver/2004/07/adventure-works/StoreSurvey\"><AnnualSales>3000000</AnnualSales><AnnualRevenue>300000</AnnualRevenue><BankName>International Bank</BankName><BusinessType>OS</BusinessType><YearOpened>1978</YearOpened><Specialty>Touring</Specialty><SquareFeet>78000</SquareFeet><Brands>4+</Brands><Internet>DSL</Internet><NumberEmployees>86</NumberEmployees></StoreSurvey>",
         "7d0c6ba8-2a0a-4663-b359-6b9606f5d652",
         "2014-09-12"
        ],
        [
         620,
         "Tandem Bicycle Store",
         279,
         "<StoreSurvey xmlns=\"http://schemas.microsoft.com/sqlserver/2004/07/adventure-works/StoreSurvey\"><AnnualSales>1500000</AnnualSales><AnnualRevenue>150000</AnnualRevenue><BankName>International Security</BankName><BusinessType>OS</BusinessType><YearOpened>1986</YearOpened><Specialty>Mountain</Specialty><SquareFeet>37000</SquareFeet><Brands>4+</Brands><Internet>DSL</Internet><NumberEmployees>46</NumberEmployees></StoreSurvey>",
         "b6437d59-886a-4aa2-8463-62bbfb9e0c65",
         "2014-09-12"
        ],
        [
         622,
         "Bikes and Motorbikes",
         278,
         "<StoreSurvey xmlns=\"http://schemas.microsoft.com/sqlserver/2004/07/adventure-works/StoreSurvey\"><AnnualSales>1500000</AnnualSales><AnnualRevenue>150000</AnnualRevenue><BankName>Primary Bank &amp; Reserve</BankName><BusinessType>OS</BusinessType><YearOpened>1992</YearOpened><Specialty>Road</Specialty><SquareFeet>40000</SquareFeet><Brands>2</Brands><Internet>DSL</Internet><NumberEmployees>49</NumberEmployees></StoreSurvey>",
         "bafcdf3f-29c8-43aa-8cf0-72943126c76c",
         "2014-09-12"
        ],
        [
         624,
         "Budget Toy Store",
         286,
         "<StoreSurvey xmlns=\"http://schemas.microsoft.com/sqlserver/2004/07/adventure-works/StoreSurvey\"><AnnualSales>3000000</AnnualSales><AnnualRevenue>300000</AnnualRevenue><BankName>International Bank</BankName><BusinessType>OS</BusinessType><YearOpened>1998</YearOpened><Specialty>Mountain</Specialty><SquareFeet>71000</SquareFeet><Brands>4+</Brands><Internet>DSL</Internet><NumberEmployees>52</NumberEmployees></StoreSurvey>",
         "96e67a92-f1fc-4de6-9e7e-8745feb429bd",
         "2014-09-12"
        ],
        [
         626,
         "Camping and Sports Store",
         282,
         "<StoreSurvey xmlns=\"http://schemas.microsoft.com/sqlserver/2004/07/adventure-works/StoreSurvey\"><AnnualSales>3000000</AnnualSales><AnnualRevenue>300000</AnnualRevenue><BankName>Reserve Security</BankName><BusinessType>OS</BusinessType><YearOpened>1987</YearOpened><Specialty>Touring</Specialty><SquareFeet>77000</SquareFeet><Brands>4+</Brands><Internet>DSL</Internet><NumberEmployees>80</NumberEmployees></StoreSurvey>",
         "50d6f597-0639-458f-8a28-7bf45551e116",
         "2014-09-12"
        ],
        [
         628,
         "Ace Bicycle Supply",
         290,
         "<StoreSurvey xmlns=\"http://schemas.microsoft.com/sqlserver/2004/07/adventure-works/StoreSurvey\"><AnnualSales>3000000</AnnualSales><AnnualRevenue>300000</AnnualRevenue><BankName>Primary International</BankName><BusinessType>OS</BusinessType><YearOpened>1992</YearOpened><Specialty>Mountain</Specialty><SquareFeet>73000</SquareFeet><Brands>3</Brands><Internet>T1</Internet><NumberEmployees>81</NumberEmployees></StoreSurvey>",
         "25f54cc0-9d2a-4c75-a92d-c92290ea49c7",
         "2014-09-12"
        ],
        [
         630,
         "Rural Department Store",
         281,
         "<StoreSurvey xmlns=\"http://schemas.microsoft.com/sqlserver/2004/07/adventure-works/StoreSurvey\"><AnnualSales>1500000</AnnualSales><AnnualRevenue>150000</AnnualRevenue><BankName>United Security</BankName><BusinessType>BS</BusinessType><YearOpened>1990</YearOpened><Specialty>Touring</Specialty><SquareFeet>35000</SquareFeet><Brands>3</Brands><Internet>T1</Internet><NumberEmployees>31</NumberEmployees></StoreSurvey>",
         "004ea91c-fcd4-4973-87ef-9059c6e20bb5",
         "2014-09-12"
        ],
        [
         632,
         "Sports Commodities",
         283,
         "<StoreSurvey xmlns=\"http://schemas.microsoft.com/sqlserver/2004/07/adventure-works/StoreSurvey\"><AnnualSales>1500000</AnnualSales><AnnualRevenue>150000</AnnualRevenue><BankName>International Bank</BankName><BusinessType>BS</BusinessType><YearOpened>1984</YearOpened><Specialty>Mountain</Specialty><SquareFeet>37000</SquareFeet><Brands>2</Brands><Internet>T1</Internet><NumberEmployees>32</NumberEmployees></StoreSurvey>",
         "43106fac-7b87-4da1-9df8-cb286247f070",
         "2014-09-12"
        ],
        [
         634,
         "Riverside Company",
         275,
         "<StoreSurvey xmlns=\"http://schemas.microsoft.com/sqlserver/2004/07/adventure-works/StoreSurvey\"><AnnualSales>1500000</AnnualSales><AnnualRevenue>150000</AnnualRevenue><BankName>Primary Bank &amp; Reserve</BankName><BusinessType>BS</BusinessType><YearOpened>1978</YearOpened><Specialty>Road</Specialty><SquareFeet>38000</SquareFeet><Brands>4+</Brands><Internet>DSL</Internet><NumberEmployees>33</NumberEmployees></StoreSurvey>",
         "c4db8c32-4f6d-426b-a9ac-e1221fbded9f",
         "2014-09-12"
        ],
        [
         636,
         "Bicycle Exporters",
         288,
         "<StoreSurvey xmlns=\"http://schemas.microsoft.com/sqlserver/2004/07/adventure-works/StoreSurvey\"><AnnualSales>1500000</AnnualSales><AnnualRevenue>150000</AnnualRevenue><BankName>International Security</BankName><BusinessType>BS</BusinessType><YearOpened>1972</YearOpened><Specialty>Touring</Specialty><SquareFeet>39000</SquareFeet><Brands>2</Brands><Internet>T2</Internet><NumberEmployees>34</NumberEmployees></StoreSurvey>",
         "a6898ae5-ffa3-4b47-a0f7-f8bf151b72aa",
         "2014-09-12"
        ],
        [
         638,
         "Responsible Bike Dealers",
         277,
         "<StoreSurvey xmlns=\"http://schemas.microsoft.com/sqlserver/2004/07/adventure-works/StoreSurvey\"><AnnualSales>1500000</AnnualSales><AnnualRevenue>150000</AnnualRevenue><BankName>International Security</BankName><BusinessType>BS</BusinessType><YearOpened>1989</YearOpened><Specialty>Mountain</Specialty><SquareFeet>40000</SquareFeet><Brands>2</Brands><Internet>T1</Internet><NumberEmployees>49</NumberEmployees></StoreSurvey>",
         "fe70ecfc-edbb-41ed-910d-8dd39c87e25d",
         "2014-09-12"
        ],
        [
         640,
         "Western Bike Supplies",
         281,
         "<StoreSurvey xmlns=\"http://schemas.microsoft.com/sqlserver/2004/07/adventure-works/StoreSurvey\"><AnnualSales>1500000</AnnualSales><AnnualRevenue>150000</AnnualRevenue><BankName>Primary Bank &amp; Reserve</BankName><BusinessType>BS</BusinessType><YearOpened>1994</YearOpened><Specialty>Road</Specialty><SquareFeet>38000</SquareFeet><Brands>3</Brands><Internet>T1</Internet><NumberEmployees>48</NumberEmployees></StoreSurvey>",
         "4b1e8035-515e-4be1-84d9-a81ce67ee44f",
         "2014-09-12"
        ],
        [
         642,
         "Advanced Bike Components",
         277,
         "<StoreSurvey xmlns=\"http://schemas.microsoft.com/sqlserver/2004/07/adventure-works/StoreSurvey\"><AnnualSales>1500000</AnnualSales><AnnualRevenue>150000</AnnualRevenue><BankName>Primary International</BankName><BusinessType>OS</BusinessType><YearOpened>1974</YearOpened><Specialty>Road</Specialty><SquareFeet>38000</SquareFeet><Brands>3</Brands><Internet>DSL</Internet><NumberEmployees>40</NumberEmployees></StoreSurvey>",
         "42bdf4b8-bff2-4a04-b0d3-ebb5896025ce",
         "2014-09-12"
        ],
        [
         644,
         "Aerobic Exercise Company",
         276,
         "<StoreSurvey xmlns=\"http://schemas.microsoft.com/sqlserver/2004/07/adventure-works/StoreSurvey\"><AnnualSales>1500000</AnnualSales><AnnualRevenue>150000</AnnualRevenue><BankName>Guardian Bank</BankName><BusinessType>OS</BusinessType><YearOpened>1980</YearOpened><Specialty>Road</Specialty><SquareFeet>40000</SquareFeet><Brands>3</Brands><Internet>DSL</Internet><NumberEmployees>43</NumberEmployees></StoreSurvey>",
         "690b6d1f-f71e-4bb8-b87d-baeb505135ef",
         "2014-09-12"
        ],
        [
         646,
         "Rural Sporting Goods",
         288,
         "<StoreSurvey xmlns=\"http://schemas.microsoft.com/sqlserver/2004/07/adventure-works/StoreSurvey\"><AnnualSales>800000</AnnualSales><AnnualRevenue>80000</AnnualRevenue><BankName>United Security</BankName><BusinessType>BM</BusinessType><YearOpened>1985</YearOpened><Specialty>Road</Specialty><SquareFeet>20000</SquareFeet><Brands>4+</Brands><Internet>T2</Internet><NumberEmployees>10</NumberEmployees></StoreSurvey>",
         "adb430fb-d23b-4a4c-9146-65193a80b9e0",
         "2014-09-12"
        ],
        [
         648,
         "Corner Bicycle Supply",
         282,
         "<StoreSurvey xmlns=\"http://schemas.microsoft.com/sqlserver/2004/07/adventure-works/StoreSurvey\"><AnnualSales>800000</AnnualSales><AnnualRevenue>80000</AnnualRevenue><BankName>International Bank</BankName><BusinessType>BM</BusinessType><YearOpened>1993</YearOpened><Specialty>Road</Specialty><SquareFeet>17000</SquareFeet><Brands>4+</Brands><Internet>DSL</Internet><NumberEmployees>11</NumberEmployees></StoreSurvey>",
         "d899d5f5-48e6-4d2f-a13b-dbe0a43f251d",
         "2014-09-12"
        ],
        [
         650,
         "Distance Bikes",
         279,
         "<StoreSurvey xmlns=\"http://schemas.microsoft.com/sqlserver/2004/07/adventure-works/StoreSurvey\"><AnnualSales>800000</AnnualSales><AnnualRevenue>80000</AnnualRevenue><BankName>Primary Bank &amp; Reserve</BankName><BusinessType>BM</BusinessType><YearOpened>1988</YearOpened><Specialty>Road</Specialty><SquareFeet>20000</SquareFeet><Brands>2</Brands><Internet>DSL</Internet><NumberEmployees>12</NumberEmployees></StoreSurvey>",
         "7a341a16-8c5b-4a18-84ab-9ef05241d721",
         "2014-09-12"
        ],
        [
         652,
         "Westside Plaza",
         281,
         "<StoreSurvey xmlns=\"http://schemas.microsoft.com/sqlserver/2004/07/adventure-works/StoreSurvey\"><AnnualSales>3000000</AnnualSales><AnnualRevenue>300000</AnnualRevenue><BankName>United Security</BankName><BusinessType>OS</BusinessType><YearOpened>1989</YearOpened><Specialty>Touring</Specialty><SquareFeet>74000</SquareFeet><Brands>3</Brands><Internet>DSL</Internet><NumberEmployees>83</NumberEmployees></StoreSurvey>",
         "06abc249-ec49-45d1-b84e-98352ce995d7",
         "2014-09-12"
        ],
        [
         654,
         "Ultimate Bike Shop",
         279,
         "<StoreSurvey xmlns=\"http://schemas.microsoft.com/sqlserver/2004/07/adventure-works/StoreSurvey\"><AnnualSales>3000000</AnnualSales><AnnualRevenue>300000</AnnualRevenue><BankName>Reserve Security</BankName><BusinessType>OS</BusinessType><YearOpened>1981</YearOpened><Specialty>Mountain</Specialty><SquareFeet>78000</SquareFeet><Brands>4+</Brands><Internet>DSL</Internet><NumberEmployees>84</NumberEmployees></StoreSurvey>",
         "d23b2b5f-d58a-4ade-a204-0082f50e32ba",
         "2014-09-12"
        ],
        [
         656,
         "Outstanding Cycles",
         283,
         "<StoreSurvey xmlns=\"http://schemas.microsoft.com/sqlserver/2004/07/adventure-works/StoreSurvey\"><AnnualSales>3000000</AnnualSales><AnnualRevenue>300000</AnnualRevenue><BankName>Primary International</BankName><BusinessType>OS</BusinessType><YearOpened>1986</YearOpened><Specialty>Touring</Specialty><SquareFeet>78000</SquareFeet><Brands>4+</Brands><Internet>ISDN</Internet><NumberEmployees>85</NumberEmployees></StoreSurvey>",
         "039e021a-8084-4bf1-9e4f-51583ca75867",
         "2014-09-12"
        ],
        [
         658,
         "Vigorous Sports Store",
         289,
         "<StoreSurvey xmlns=\"http://schemas.microsoft.com/sqlserver/2004/07/adventure-works/StoreSurvey\"><AnnualSales>3000000</AnnualSales><AnnualRevenue>300000</AnnualRevenue><BankName>Guardian Bank</BankName><BusinessType>OS</BusinessType><YearOpened>1984</YearOpened><Specialty>Road</Specialty><SquareFeet>73000</SquareFeet><Brands>4+</Brands><Internet>DSL</Internet><NumberEmployees>82</NumberEmployees></StoreSurvey>",
         "3fe5afd2-fe6a-4b66-8ba9-e7cc25e0e9c4",
         "2014-09-12"
        ],
        [
         660,
         "Sports Merchandise",
         280,
         "<StoreSurvey xmlns=\"http://schemas.microsoft.com/sqlserver/2004/07/adventure-works/StoreSurvey\"><AnnualSales>3000000</AnnualSales><AnnualRevenue>300000</AnnualRevenue><BankName>International Security</BankName><BusinessType>OS</BusinessType><YearOpened>1989</YearOpened><Specialty>Touring</Specialty><SquareFeet>73000</SquareFeet><Brands>4+</Brands><Internet>DSL</Internet><NumberEmployees>83</NumberEmployees></StoreSurvey>",
         "3e12da24-cd4e-4552-aa4f-dc45bc432972",
         "2014-09-12"
        ],
        [
         662,
         "Fitness Toy Store",
         277,
         "<StoreSurvey xmlns=\"http://schemas.microsoft.com/sqlserver/2004/07/adventure-works/StoreSurvey\"><AnnualSales>3000000</AnnualSales><AnnualRevenue>300000</AnnualRevenue><BankName>Primary Bank &amp; Reserve</BankName><BusinessType>OS</BusinessType><YearOpened>1981</YearOpened><Specialty>Road</Specialty><SquareFeet>75000</SquareFeet><Brands>3</Brands><Internet>DSL</Internet><NumberEmployees>84</NumberEmployees></StoreSurvey>",
         "fa2486e8-99b6-4832-9edf-1f86f1399cfc",
         "2014-09-12"
        ],
        [
         664,
         "Casual Bicycle Store",
         275,
         "<StoreSurvey xmlns=\"http://schemas.microsoft.com/sqlserver/2004/07/adventure-works/StoreSurvey\"><AnnualSales>800000</AnnualSales><AnnualRevenue>80000</AnnualRevenue><BankName>Guardian Bank</BankName><BusinessType>BM</BusinessType><YearOpened>1985</YearOpened><Specialty>Mountain</Specialty><SquareFeet>18000</SquareFeet><Brands>2</Brands><Internet>T3</Internet><NumberEmployees>10</NumberEmployees></StoreSurvey>",
         "ef495883-01e1-46a0-aca4-f41dd60bcfc1",
         "2014-09-12"
        ],
        [
         666,
         "Fitness Discount Store",
         286,
         "<StoreSurvey xmlns=\"http://schemas.microsoft.com/sqlserver/2004/07/adventure-works/StoreSurvey\"><AnnualSales>800000</AnnualSales><AnnualRevenue>80000</AnnualRevenue><BankName>Primary International</BankName><BusinessType>BM</BusinessType><YearOpened>1993</YearOpened><Specialty>Touring</Specialty><SquareFeet>19000</SquareFeet><Brands>AW</Brands><Internet>DSL</Internet><NumberEmployees>11</NumberEmployees></StoreSurvey>",
         "9ab6652a-8949-4ff5-aa99-2e7252bfd359",
         "2014-09-12"
        ],
        [
         668,
         "General Cycle Storehouse",
         278,
         "<StoreSurvey xmlns=\"http://schemas.microsoft.com/sqlserver/2004/07/adventure-works/StoreSurvey\"><AnnualSales>800000</AnnualSales><AnnualRevenue>80000</AnnualRevenue><BankName>Reserve Security</BankName><BusinessType>BM</BusinessType><YearOpened>1988</YearOpened><Specialty>Mountain</Specialty><SquareFeet>20000</SquareFeet><Brands>4+</Brands><Internet>DSL</Internet><NumberEmployees>12</NumberEmployees></StoreSurvey>",
         "90cc4967-1a64-4f9c-b282-7917af63d9ad",
         "2014-09-12"
        ],
        [
         670,
         "Fitness Cycling",
         281,
         "<StoreSurvey xmlns=\"http://schemas.microsoft.com/sqlserver/2004/07/adventure-works/StoreSurvey\"><AnnualSales>800000</AnnualSales><AnnualRevenue>80000</AnnualRevenue><BankName>International Bank</BankName><BusinessType>BM</BusinessType><YearOpened>1988</YearOpened><Specialty>Mountain</Specialty><SquareFeet>18000</SquareFeet><Brands>2</Brands><Internet>DSL</Internet><NumberEmployees>16</NumberEmployees></StoreSurvey>",
         "6f3ac326-f2fe-4bff-bf5a-ab67ad72a076",
         "2014-09-12"
        ],
        [
         672,
         "Good Bike Shop",
         277,
         "<StoreSurvey xmlns=\"http://schemas.microsoft.com/sqlserver/2004/07/adventure-works/StoreSurvey\"><AnnualSales>800000</AnnualSales><AnnualRevenue>80000</AnnualRevenue><BankName>Primary Bank &amp; Reserve</BankName><BusinessType>BM</BusinessType><YearOpened>1982</YearOpened><Specialty>Road</Specialty><SquareFeet>19000</SquareFeet><Brands>4+</Brands><Internet>DSL</Internet><NumberEmployees>14</NumberEmployees></StoreSurvey>",
         "d39bc672-bb52-4eb7-939f-b3986ec7a5ca",
         "2014-09-12"
        ],
        [
         674,
         "Imaginary Toys",
         280,
         "<StoreSurvey xmlns=\"http://schemas.microsoft.com/sqlserver/2004/07/adventure-works/StoreSurvey\"><AnnualSales>800000</AnnualSales><AnnualRevenue>80000</AnnualRevenue><BankName>International Security</BankName><BusinessType>BM</BusinessType><YearOpened>1976</YearOpened><Specialty>Touring</Specialty><SquareFeet>20000</SquareFeet><Brands>4+</Brands><Internet>DSL</Internet><NumberEmployees>12</NumberEmployees></StoreSurvey>",
         "4c6992a0-dc3e-4a96-9bbb-9239135c29df",
         "2014-09-12"
        ],
        [
         676,
         "Inexpensive Parts Shop",
         286,
         "<StoreSurvey xmlns=\"http://schemas.microsoft.com/sqlserver/2004/07/adventure-works/StoreSurvey\"><AnnualSales>1500000</AnnualSales><AnnualRevenue>150000</AnnualRevenue><BankName>Guardian Bank</BankName><BusinessType>BS</BusinessType><YearOpened>1972</YearOpened><Specialty>Mountain</Specialty><SquareFeet>35000</SquareFeet><Brands>4+</Brands><Internet>T1</Internet><NumberEmployees>34</NumberEmployees></StoreSurvey>",
         "7d6588fc-efb7-4851-a9ce-f4c71e494709",
         "2014-09-12"
        ],
        [
         678,
         "Nuts and Bolts Mfg.",
         278,
         "<StoreSurvey xmlns=\"http://schemas.microsoft.com/sqlserver/2004/07/adventure-works/StoreSurvey\"><AnnualSales>1500000</AnnualSales><AnnualRevenue>150000</AnnualRevenue><BankName>Primary International</BankName><BusinessType>BS</BusinessType><YearOpened>1988</YearOpened><Specialty>Mountain</Specialty><SquareFeet>37000</SquareFeet><Brands>4+</Brands><Internet>DSL</Internet><NumberEmployees>35</NumberEmployees></StoreSurvey>",
         "f5b50576-9c84-4125-af94-ebcc49d8be9e",
         "2014-09-12"
        ],
        [
         680,
         "Principal Bicycle Supply",
         279,
         "<StoreSurvey xmlns=\"http://schemas.microsoft.com/sqlserver/2004/07/adventure-works/StoreSurvey\"><AnnualSales>1500000</AnnualSales><AnnualRevenue>150000</AnnualRevenue><BankName>Reserve Security</BankName><BusinessType>BS</BusinessType><YearOpened>1976</YearOpened><Specialty>Road</Specialty><SquareFeet>39000</SquareFeet><Brands>4+</Brands><Internet>DSL</Internet><NumberEmployees>36</NumberEmployees></StoreSurvey>",
         "b0bdbe3b-f9f2-4bdd-a74b-9423eca7a815",
         "2014-09-12"
        ],
        [
         682,
         "Thrilling Bike Tours",
         276,
         "<StoreSurvey xmlns=\"http://schemas.microsoft.com/sqlserver/2004/07/adventure-works/StoreSurvey\"><AnnualSales>1500000</AnnualSales><AnnualRevenue>150000</AnnualRevenue><BankName>United Security</BankName><BusinessType>BS</BusinessType><YearOpened>1971</YearOpened><Specialty>Touring</Specialty><SquareFeet>37000</SquareFeet><Brands>4+</Brands><Internet>ISDN</Internet><NumberEmployees>37</NumberEmployees></StoreSurvey>",
         "b501d2ca-b083-47ec-a2a0-4341da752f4b",
         "2014-09-12"
        ],
        [
         684,
         "This Area Sporting Goods",
         277,
         "<StoreSurvey xmlns=\"http://schemas.microsoft.com/sqlserver/2004/07/adventure-works/StoreSurvey\"><AnnualSales>1500000</AnnualSales><AnnualRevenue>150000</AnnualRevenue><BankName>International Bank</BankName><BusinessType>BS</BusinessType><YearOpened>1979</YearOpened><Specialty>Mountain</Specialty><SquareFeet>39000</SquareFeet><Brands>2</Brands><Internet>DSL</Internet><NumberEmployees>38</NumberEmployees></StoreSurvey>",
         "fb6331ea-0148-418a-884a-84d1da20ac3c",
         "2014-09-12"
        ],
        [
         686,
         "Full-Service Bike Store",
         275,
         "<StoreSurvey xmlns=\"http://schemas.microsoft.com/sqlserver/2004/07/adventure-works/StoreSurvey\"><AnnualSales>1500000</AnnualSales><AnnualRevenue>150000</AnnualRevenue><BankName>Primary Bank &amp; Reserve</BankName><BusinessType>BS</BusinessType><YearOpened>1974</YearOpened><Specialty>Mountain</Specialty><SquareFeet>38000</SquareFeet><Brands>3</Brands><Internet>DSL</Internet><NumberEmployees>39</NumberEmployees></StoreSurvey>",
         "a167f30e-c0f1-49c3-96ce-4e8a2ca3c65c",
         "2014-09-12"
        ],
        [
         688,
         "Plastic Products Manufacturers",
         286,
         "<StoreSurvey xmlns=\"http://schemas.microsoft.com/sqlserver/2004/07/adventure-works/StoreSurvey\"><AnnualSales>1500000</AnnualSales><AnnualRevenue>150000</AnnualRevenue><BankName>International Security</BankName><BusinessType>BS</BusinessType><YearOpened>1982</YearOpened><Specialty>Touring</Specialty><SquareFeet>37000</SquareFeet><Brands>3</Brands><Internet>DSL</Internet><NumberEmployees>40</NumberEmployees></StoreSurvey>",
         "035fc393-8bf1-4522-9dd7-f7cf3140740a",
         "2014-09-12"
        ],
        [
         690,
         "Kids and Adults Cycle Shop",
         286,
         "<StoreSurvey xmlns=\"http://schemas.microsoft.com/sqlserver/2004/07/adventure-works/StoreSurvey\"><AnnualSales>3000000</AnnualSales><AnnualRevenue>300000</AnnualRevenue><BankName>Primary Bank &amp; Reserve</BankName><BusinessType>OS</BusinessType><YearOpened>1974</YearOpened><Specialty>Mountain</Specialty><SquareFeet>75000</SquareFeet><Brands>2</Brands><Internet>T1</Internet><NumberEmployees>93</NumberEmployees></StoreSurvey>",
         "7f00ee1c-91f3-46dc-8384-cb0317463e70",
         "2014-09-12"
        ],
        [
         692,
         "Grand Discount Store",
         275,
         "<StoreSurvey xmlns=\"http://schemas.microsoft.com/sqlserver/2004/07/adventure-works/StoreSurvey\"><AnnualSales>3000000</AnnualSales><AnnualRevenue>300000</AnnualRevenue><BankName>International Bank</BankName><BusinessType>OS</BusinessType><YearOpened>1974</YearOpened><Specialty>Mountain</Specialty><SquareFeet>75000</SquareFeet><Brands>4+</Brands><Internet>DSL</Internet><NumberEmployees>94</NumberEmployees></StoreSurvey>",
         "20148536-7bf7-4a99-a184-2bdf1eb5eb40",
         "2014-09-12"
        ],
        [
         694,
         "Genuine Bike Shop",
         277,
         "<StoreSurvey xmlns=\"http://schemas.microsoft.com/sqlserver/2004/07/adventure-works/StoreSurvey\"><AnnualSales>3000000</AnnualSales><AnnualRevenue>300000</AnnualRevenue><BankName>United Security</BankName><BusinessType>OS</BusinessType><YearOpened>1980</YearOpened><Specialty>Road</Specialty><SquareFeet>76000</SquareFeet><Brands>4+</Brands><Internet>DSL</Internet><NumberEmployees>95</NumberEmployees></StoreSurvey>",
         "ef74488b-1b77-4148-93ef-a4bc4638c921",
         "2014-09-12"
        ],
        [
         696,
         "Extreme Riding Supplies",
         276,
         "<StoreSurvey xmlns=\"http://schemas.microsoft.com/sqlserver/2004/07/adventure-works/StoreSurvey\"><AnnualSales>3000000</AnnualSales><AnnualRevenue>300000</AnnualRevenue><BankName>Reserve Security</BankName><BusinessType>OS</BusinessType><YearOpened>1986</YearOpened><Specialty>Touring</Specialty><SquareFeet>79000</SquareFeet><Brands>3</Brands><Internet>T1</Internet><NumberEmployees>96</NumberEmployees></StoreSurvey>",
         "0c1ad971-9999-441a-9bf8-8d95c44489d2",
         "2014-09-12"
        ],
        [
         698,
         "Bike Rims Company",
         279,
         "<StoreSurvey xmlns=\"http://schemas.microsoft.com/sqlserver/2004/07/adventure-works/StoreSurvey\"><AnnualSales>3000000</AnnualSales><AnnualRevenue>300000</AnnualRevenue><BankName>Primary International</BankName><BusinessType>OS</BusinessType><YearOpened>1992</YearOpened><Specialty>Road</Specialty><SquareFeet>80000</SquareFeet><Brands>4+</Brands><Internet>T2</Internet><NumberEmployees>97</NumberEmployees></StoreSurvey>",
         "d664a5cb-eb27-422e-8c7e-c81814508c73",
         "2014-09-12"
        ],
        [
         700,
         "Fleet Bikes",
         276,
         "<StoreSurvey xmlns=\"http://schemas.microsoft.com/sqlserver/2004/07/adventure-works/StoreSurvey\"><AnnualSales>1500000</AnnualSales><AnnualRevenue>150000</AnnualRevenue><BankName>Primary International</BankName><BusinessType>BS</BusinessType><YearOpened>1989</YearOpened><Specialty>Mountain</Specialty><SquareFeet>40000</SquareFeet><Brands>3</Brands><Internet>DSL</Internet><NumberEmployees>49</NumberEmployees></StoreSurvey>",
         "cec2cc52-9fad-4328-a288-c01649dfe106",
         "2014-09-12"
        ],
        [
         702,
         "Local Hardware Factory",
         277,
         "<StoreSurvey xmlns=\"http://schemas.microsoft.com/sqlserver/2004/07/adventure-works/StoreSurvey\"><AnnualSales>1500000</AnnualSales><AnnualRevenue>150000</AnnualRevenue><BankName>Reserve Security</BankName><BusinessType>BS</BusinessType><YearOpened>1997</YearOpened><Specialty>Road</Specialty><SquareFeet>41000</SquareFeet><Brands>3</Brands><Internet>DSL</Internet><NumberEmployees>46</NumberEmployees></StoreSurvey>",
         "16c76410-67e9-4082-bff4-172f287c1f7c",
         "2014-09-12"
        ],
        [
         704,
         "Only Bikes and Accessories",
         275,
         "<StoreSurvey xmlns=\"http://schemas.microsoft.com/sqlserver/2004/07/adventure-works/StoreSurvey\"><AnnualSales>1500000</AnnualSales><AnnualRevenue>150000</AnnualRevenue><BankName>United Security</BankName><BusinessType>BS</BusinessType><YearOpened>1992</YearOpened><Specialty>Mountain</Specialty><SquareFeet>40000</SquareFeet><Brands>4+</Brands><Internet>T1</Internet><NumberEmployees>43</NumberEmployees></StoreSurvey>",
         "af3b1a6a-e60b-4e74-96ea-e55c89f0adf6",
         "2014-09-12"
        ],
        [
         706,
         "Rental Gallery",
         286,
         "<StoreSurvey xmlns=\"http://schemas.microsoft.com/sqlserver/2004/07/adventure-works/StoreSurvey\"><AnnualSales>1500000</AnnualSales><AnnualRevenue>150000</AnnualRevenue><BankName>International Bank</BankName><BusinessType>BS</BusinessType><YearOpened>1995</YearOpened><Specialty>Mountain</Specialty><SquareFeet>37000</SquareFeet><Brands>4+</Brands><Internet>T2</Internet><NumberEmployees>40</NumberEmployees></StoreSurvey>",
         "71322a9a-9feb-4c12-947a-e3aeffbfa3e2",
         "2014-09-12"
        ],
        [
         708,
         "South Bike Company",
         278,
         "<StoreSurvey xmlns=\"http://schemas.microsoft.com/sqlserver/2004/07/adventure-works/StoreSurvey\"><AnnualSales>1500000</AnnualSales><AnnualRevenue>150000</AnnualRevenue><BankName>Primary Bank &amp; Reserve</BankName><BusinessType>BS</BusinessType><YearOpened>1995</YearOpened><Specialty>Touring</Specialty><SquareFeet>40000</SquareFeet><Brands>4+</Brands><Internet>DSL</Internet><NumberEmployees>37</NumberEmployees></StoreSurvey>",
         "c3346ce3-ca88-4e5b-8a41-05e76abf4fcf",
         "2014-09-12"
        ],
        [
         710,
         "Wonderful Bikes Inc.",
         279,
         "<StoreSurvey xmlns=\"http://schemas.microsoft.com/sqlserver/2004/07/adventure-works/StoreSurvey\"><AnnualSales>1500000</AnnualSales><AnnualRevenue>150000</AnnualRevenue><BankName>International Security</BankName><BusinessType>BS</BusinessType><YearOpened>1983</YearOpened><Specialty>Road</Specialty><SquareFeet>37000</SquareFeet><Brands>3</Brands><Internet>T1</Internet><NumberEmployees>34</NumberEmployees></StoreSurvey>",
         "0948efce-69ef-4866-b25e-19ac06159158",
         "2014-09-12"
        ],
        [
         712,
         "Another Sporting Goods Company",
         276,
         "<StoreSurvey xmlns=\"http://schemas.microsoft.com/sqlserver/2004/07/adventure-works/StoreSurvey\"><AnnualSales>1500000</AnnualSales><AnnualRevenue>150000</AnnualRevenue><BankName>Guardian Bank</BankName><BusinessType>BS</BusinessType><YearOpened>1998</YearOpened><Specialty>Road</Specialty><SquareFeet>37000</SquareFeet><Brands>4+</Brands><Internet>T1</Internet><NumberEmployees>31</NumberEmployees></StoreSurvey>",
         "0945ecb3-8c14-4b65-90b9-9db474085ce8",
         "2014-09-12"
        ],
        [
         714,
         "Discount Bicycle Specialists",
         277,
         "<StoreSurvey xmlns=\"http://schemas.microsoft.com/sqlserver/2004/07/adventure-works/StoreSurvey\"><AnnualSales>1000000</AnnualSales><AnnualRevenue>100000</AnnualRevenue><BankName>Primary International</BankName><BusinessType>BS</BusinessType><YearOpened>1971</YearOpened><Specialty>Road</Specialty><SquareFeet>28000</SquareFeet><Brands>4+</Brands><Internet>DSL</Internet><NumberEmployees>28</NumberEmployees></StoreSurvey>",
         "4833dbbd-77dd-4855-882d-b5bb392f8d83",
         "2014-09-12"
        ],
        [
         716,
         "Famous Bike Sales and Service",
         275,
         "<StoreSurvey xmlns=\"http://schemas.microsoft.com/sqlserver/2004/07/adventure-works/StoreSurvey\"><AnnualSales>1000000</AnnualSales><AnnualRevenue>100000</AnnualRevenue><BankName>Reserve Security</BankName><BusinessType>BS</BusinessType><YearOpened>2001</YearOpened><Specialty>Road</Specialty><SquareFeet>26000</SquareFeet><Brands>4+</Brands><Internet>DSL</Internet><NumberEmployees>25</NumberEmployees></StoreSurvey>",
         "dcb36c79-b15c-4a9e-a169-1490449ea59f",
         "2014-09-12"
        ],
        [
         718,
         "First Supplies",
         286,
         "<StoreSurvey xmlns=\"http://schemas.microsoft.com/sqlserver/2004/07/adventure-works/StoreSurvey\"><AnnualSales>1000000</AnnualSales><AnnualRevenue>100000</AnnualRevenue><BankName>United Security</BankName><BusinessType>BS</BusinessType><YearOpened>1996</YearOpened><Specialty>Touring</Specialty><SquareFeet>26000</SquareFeet><Brands>4+</Brands><Internet>T1</Internet><NumberEmployees>22</NumberEmployees></StoreSurvey>",
         "1b118fae-776a-4756-92b0-a7937f0edbae",
         "2014-09-12"
        ],
        [
         720,
         "Machines & Cycles Store",
         278,
         "<StoreSurvey xmlns=\"http://schemas.microsoft.com/sqlserver/2004/07/adventure-works/StoreSurvey\"><AnnualSales>800000</AnnualSales><AnnualRevenue>80000</AnnualRevenue><BankName>International Bank</BankName><BusinessType>BS</BusinessType><YearOpened>1990</YearOpened><Specialty>Touring</Specialty><SquareFeet>22000</SquareFeet><Brands>2</Brands><Internet>T2</Internet><NumberEmployees>19</NumberEmployees></StoreSurvey>",
         "c5f81c18-5674-480b-8b7d-bc1608e21e8e",
         "2014-09-12"
        ],
        [
         722,
         "Pedals Warehouse",
         279,
         "<StoreSurvey xmlns=\"http://schemas.microsoft.com/sqlserver/2004/07/adventure-works/StoreSurvey\"><AnnualSales>800000</AnnualSales><AnnualRevenue>80000</AnnualRevenue><BankName>Primary Bank &amp; Reserve</BankName><BusinessType>BS</BusinessType><YearOpened>1984</YearOpened><Specialty>Road</Specialty><SquareFeet>20000</SquareFeet><Brands>2</Brands><Internet>T1</Internet><NumberEmployees>16</NumberEmployees></StoreSurvey>",
         "d2dc2451-e8f2-449b-b94c-f6729dcf110c",
         "2014-09-12"
        ],
        [
         724,
         "Two Wheels Cycle Store",
         276,
         "<StoreSurvey xmlns=\"http://schemas.microsoft.com/sqlserver/2004/07/adventure-works/StoreSurvey\"><AnnualSales>800000</AnnualSales><AnnualRevenue>80000</AnnualRevenue><BankName>International Security</BankName><BusinessType>BS</BusinessType><YearOpened>1978</YearOpened><Specialty>Road</Specialty><SquareFeet>22000</SquareFeet><Brands>2</Brands><Internet>T1</Internet><NumberEmployees>13</NumberEmployees></StoreSurvey>",
         "a04e78ff-c151-4a8f-921c-1043c85bd74c",
         "2014-09-12"
        ],
        [
         726,
         "Westside Cycle Store",
         277,
         "<StoreSurvey xmlns=\"http://schemas.microsoft.com/sqlserver/2004/07/adventure-works/StoreSurvey\"><AnnualSales>800000</AnnualSales><AnnualRevenue>80000</AnnualRevenue><BankName>Guardian Bank</BankName><BusinessType>BS</BusinessType><YearOpened>1972</YearOpened><Specialty>Road</Specialty><SquareFeet>20000</SquareFeet><Brands>4+</Brands><Internet>T1</Internet><NumberEmployees>10</NumberEmployees></StoreSurvey>",
         "147f9060-dd41-4810-ab5b-2439c7816feb",
         "2014-09-12"
        ],
        [
         728,
         "Wholesale Bikes",
         275,
         "<StoreSurvey xmlns=\"http://schemas.microsoft.com/sqlserver/2004/07/adventure-works/StoreSurvey\"><AnnualSales>1000000</AnnualSales><AnnualRevenue>100000</AnnualRevenue><BankName>International Security</BankName><BusinessType>BS</BusinessType><YearOpened>1998</YearOpened><Specialty>Road</Specialty><SquareFeet>27000</SquareFeet><Brands>3</Brands><Internet>DSL</Internet><NumberEmployees>27</NumberEmployees></StoreSurvey>",
         "57f096c7-5bc4-4f8c-9171-9e03246d5439",
         "2014-09-12"
        ],
        [
         730,
         "Very Best Sports Supply",
         288,
         "<StoreSurvey xmlns=\"http://schemas.microsoft.com/sqlserver/2004/07/adventure-works/StoreSurvey\"><AnnualSales>1000000</AnnualSales><AnnualRevenue>100000</AnnualRevenue><BankName>Guardian Bank</BankName><BusinessType>BS</BusinessType><YearOpened>1971</YearOpened><Specialty>Road</Specialty><SquareFeet>28000</SquareFeet><Brands>4+</Brands><Internet>DSL</Internet><NumberEmployees>28</NumberEmployees></StoreSurvey>",
         "5a0f3b85-4258-4219-b825-31195034c5c3",
         "2014-09-12"
        ],
        [
         732,
         "Urban Sports Emporium",
         282,
         "<StoreSurvey xmlns=\"http://schemas.microsoft.com/sqlserver/2004/07/adventure-works/StoreSurvey\"><AnnualSales>1000000</AnnualSales><AnnualRevenue>100000</AnnualRevenue><BankName>Primary International</BankName><BusinessType>BS</BusinessType><YearOpened>2001</YearOpened><Specialty>Road</Specialty><SquareFeet>24000</SquareFeet><Brands>4+</Brands><Internet>DSL</Internet><NumberEmployees>29</NumberEmployees></StoreSurvey>",
         "ac4ca540-5260-4333-818b-434f3ff000c5",
         "2014-09-12"
        ],
        [
         734,
         "Superlative Bikes",
         279,
         "<StoreSurvey xmlns=\"http://schemas.microsoft.com/sqlserver/2004/07/adventure-works/StoreSurvey\"><AnnualSales>1500000</AnnualSales><AnnualRevenue>150000</AnnualRevenue><BankName>Reserve Security</BankName><BusinessType>BS</BusinessType><YearOpened>1996</YearOpened><Specialty>Mountain</Specialty><SquareFeet>36000</SquareFeet><Brands>4+</Brands><Internet>T1</Internet><NumberEmployees>30</NumberEmployees></StoreSurvey>",
         "e2efc4e8-5b3f-47e2-b0a6-be0701b34a05",
         "2014-09-12"
        ],
        [
         736,
         "Primary Cycle Shop",
         288,
         "<StoreSurvey xmlns=\"http://schemas.microsoft.com/sqlserver/2004/07/adventure-works/StoreSurvey\"><AnnualSales>1500000</AnnualSales><AnnualRevenue>150000</AnnualRevenue><BankName>Reserve Security</BankName><BusinessType>BS</BusinessType><YearOpened>1977</YearOpened><Specialty>Road</Specialty><SquareFeet>37000</SquareFeet><Brands>4+</Brands><Internet>DSL</Internet><NumberEmployees>41</NumberEmployees></StoreSurvey>",
         "219adf36-cf78-4841-b348-26c2adfb518e",
         "2014-09-12"
        ],
        [
         738,
         "Sixth Bike Store",
         282,
         "<StoreSurvey xmlns=\"http://schemas.microsoft.com/sqlserver/2004/07/adventure-works/StoreSurvey\"><AnnualSales>1500000</AnnualSales><AnnualRevenue>150000</AnnualRevenue><BankName>United Security</BankName><BusinessType>BS</BusinessType><YearOpened>1985</YearOpened><Specialty>Mountain</Specialty><SquareFeet>37000</SquareFeet><Brands>2</Brands><Internet>T1</Internet><NumberEmployees>42</NumberEmployees></StoreSurvey>",
         "587834de-cb5c-4c9f-870b-befe343b681b",
         "2014-09-12"
        ],
        [
         740,
         "Touring Services",
         279,
         "<StoreSurvey xmlns=\"http://schemas.microsoft.com/sqlserver/2004/07/adventure-works/StoreSurvey\"><AnnualSales>1500000</AnnualSales><AnnualRevenue>150000</AnnualRevenue><BankName>International Bank</BankName><BusinessType>BS</BusinessType><YearOpened>1980</YearOpened><Specialty>Road</Specialty><SquareFeet>38000</SquareFeet><Brands>4+</Brands><Internet>DSL</Internet><NumberEmployees>43</NumberEmployees></StoreSurvey>",
         "1baa7f8a-c00a-441e-8d40-e06a4aec1c43",
         "2014-09-12"
        ],
        [
         742,
         "Vehicle Shop",
         281,
         "<StoreSurvey xmlns=\"http://schemas.microsoft.com/sqlserver/2004/07/adventure-works/StoreSurvey\"><AnnualSales>1500000</AnnualSales><AnnualRevenue>150000</AnnualRevenue><BankName>Primary Bank &amp; Reserve</BankName><BusinessType>BS</BusinessType><YearOpened>1988</YearOpened><Specialty>Road</Specialty><SquareFeet>38000</SquareFeet><Brands>2</Brands><Internet>DSL</Internet><NumberEmployees>44</NumberEmployees></StoreSurvey>",
         "08cbc4a5-2bd2-46d5-b0e8-327387559092",
         "2014-09-12"
        ],
        [
         744,
         "First Department Stores",
         283,
         "<StoreSurvey xmlns=\"http://schemas.microsoft.com/sqlserver/2004/07/adventure-works/StoreSurvey\"><AnnualSales>1500000</AnnualSales><AnnualRevenue>150000</AnnualRevenue><BankName>International Security</BankName><BusinessType>BS</BusinessType><YearOpened>1983</YearOpened><Specialty>Mountain</Specialty><SquareFeet>38000</SquareFeet><Brands>3</Brands><Internet>DSL</Internet><NumberEmployees>45</NumberEmployees></StoreSurvey>",
         "443e7b85-6e6e-440e-97c8-10075b6fbe4a",
         "2014-09-12"
        ],
        [
         746,
         "Grand Sport Boutique",
         275,
         "<StoreSurvey xmlns=\"http://schemas.microsoft.com/sqlserver/2004/07/adventure-works/StoreSurvey\"><AnnualSales>1500000</AnnualSales><AnnualRevenue>150000</AnnualRevenue><BankName>Guardian Bank</BankName><BusinessType>BS</BusinessType><YearOpened>1991</YearOpened><Specialty>Road</Specialty><SquareFeet>39000</SquareFeet><Brands>4+</Brands><Internet>T1</Internet><NumberEmployees>46</NumberEmployees></StoreSurvey>",
         "96ba60f5-324c-467e-bf10-6259107dbd81",
         "2014-09-12"
        ],
        [
         748,
         "Major Equipment Co",
         288,
         "<StoreSurvey xmlns=\"http://schemas.microsoft.com/sqlserver/2004/07/adventure-works/StoreSurvey\"><AnnualSales>1500000</AnnualSales><AnnualRevenue>150000</AnnualRevenue><BankName>Primary International</BankName><BusinessType>BS</BusinessType><YearOpened>1986</YearOpened><Specialty>Touring</Specialty><SquareFeet>37000</SquareFeet><Brands>2</Brands><Internet>DSL</Internet><NumberEmployees>47</NumberEmployees></StoreSurvey>",
         "7f68af6f-23e9-456a-8ea9-69d130fa09fd",
         "2014-09-12"
        ],
        [
         750,
         "Custom Sales and Service",
         282,
         "<StoreSurvey xmlns=\"http://schemas.microsoft.com/sqlserver/2004/07/adventure-works/StoreSurvey\"><AnnualSales>1500000</AnnualSales><AnnualRevenue>150000</AnnualRevenue><BankName>Reserve Security</BankName><BusinessType>BS</BusinessType><YearOpened>1994</YearOpened><Specialty>Road</Specialty><SquareFeet>39000</SquareFeet><Brands>4+</Brands><Internet>DSL</Internet><NumberEmployees>48</NumberEmployees></StoreSurvey>",
         "f6618771-ca58-4681-9f85-9e91d7beac23",
         "2014-09-12"
        ],
        [
         752,
         "Elemental Sporting Goods",
         279,
         "<StoreSurvey xmlns=\"http://schemas.microsoft.com/sqlserver/2004/07/adventure-works/StoreSurvey\"><AnnualSales>1500000</AnnualSales><AnnualRevenue>150000</AnnualRevenue><BankName>United Security</BankName><BusinessType>BS</BusinessType><YearOpened>1989</YearOpened><Specialty>Mountain</Specialty><SquareFeet>41000</SquareFeet><Brands>4+</Brands><Internet>T1</Internet><NumberEmployees>49</NumberEmployees></StoreSurvey>",
         "52581c1d-2510-48ae-9e09-5db1f7c96950",
         "2014-09-12"
        ],
        [
         754,
         "Distinctive Store",
         281,
         "<StoreSurvey xmlns=\"http://schemas.microsoft.com/sqlserver/2004/07/adventure-works/StoreSurvey\"><AnnualSales>1500000</AnnualSales><AnnualRevenue>150000</AnnualRevenue><BankName>International Bank</BankName><BusinessType>BS</BusinessType><YearOpened>1997</YearOpened><Specialty>Road</Specialty><SquareFeet>37000</SquareFeet><Brands>4+</Brands><Internet>T1</Internet><NumberEmployees>46</NumberEmployees></StoreSurvey>",
         "019e92aa-628c-4914-acbc-d540e595e887",
         "2014-09-12"
        ],
        [
         756,
         "Grand Cycle Store",
         283,
         "<StoreSurvey xmlns=\"http://schemas.microsoft.com/sqlserver/2004/07/adventure-works/StoreSurvey\"><AnnualSales>1500000</AnnualSales><AnnualRevenue>150000</AnnualRevenue><BankName>Primary Bank &amp; Reserve</BankName><BusinessType>BS</BusinessType><YearOpened>1992</YearOpened><Specialty>Road</Specialty><SquareFeet>41000</SquareFeet><Brands>2</Brands><Internet>DSL</Internet><NumberEmployees>43</NumberEmployees></StoreSurvey>",
         "1f40d1de-0b48-436c-bf9e-ad6f31629ff3",
         "2014-09-12"
        ],
        [
         758,
         "Nearby Bike Mall",
         288,
         "<StoreSurvey xmlns=\"http://schemas.microsoft.com/sqlserver/2004/07/adventure-works/StoreSurvey\"><AnnualSales>3000000</AnnualSales><AnnualRevenue>300000</AnnualRevenue><BankName>United Security</BankName><BusinessType>OS</BusinessType><YearOpened>1983</YearOpened><Specialty>Road</Specialty><SquareFeet>74000</SquareFeet><Brands>2</Brands><Internet>DSL</Internet><NumberEmployees>87</NumberEmployees></StoreSurvey>",
         "d2df815b-b890-4a47-a396-d8ff91914356",
         "2014-09-12"
        ],
        [
         760,
         "Handy Bike Services",
         275,
         "<StoreSurvey xmlns=\"http://schemas.microsoft.com/sqlserver/2004/07/adventure-works/StoreSurvey\"><AnnualSales>3000000</AnnualSales><AnnualRevenue>300000</AnnualRevenue><BankName>Reserve Security</BankName><BusinessType>OS</BusinessType><YearOpened>1975</YearOpened><Specialty>Mountain</Specialty><SquareFeet>76000</SquareFeet><Brands>4+</Brands><Internet>T1</Internet><NumberEmployees>88</NumberEmployees></StoreSurvey>",
         "f4ae5e4f-8702-419b-9e8e-f82489669453",
         "2014-09-12"
        ],
        [
         762,
         "Friendly Bike Shop",
         283,
         "<StoreSurvey xmlns=\"http://schemas.microsoft.com/sqlserver/2004/07/adventure-works/StoreSurvey\"><AnnualSales>3000000</AnnualSales><AnnualRevenue>300000</AnnualRevenue><BankName>Primary International</BankName><BusinessType>OS</BusinessType><YearOpened>1980</YearOpened><Specialty>Road</Specialty><SquareFeet>75000</SquareFeet><Brands>2</Brands><Internet>DSL</Internet><NumberEmployees>89</NumberEmployees></StoreSurvey>",
         "ccba980d-ae01-49ac-aa30-8224225d900f",
         "2014-09-12"
        ],
        [
         764,
         "Fashionable Bikes and Accessories",
         281,
         "<StoreSurvey xmlns=\"http://schemas.microsoft.com/sqlserver/2004/07/adventure-works/StoreSurvey\"><AnnualSales>3000000</AnnualSales><AnnualRevenue>300000</AnnualRevenue><BankName>Guardian Bank</BankName><BusinessType>OS</BusinessType><YearOpened>1972</YearOpened><Specialty>Mountain</Specialty><SquareFeet>76000</SquareFeet><Brands>3</Brands><Internet>T1</Internet><NumberEmployees>90</NumberEmployees></StoreSurvey>",
         "63427938-8dbb-470b-85d2-1b5cb62f9ed7",
         "2014-09-12"
        ],
        [
         766,
         "Extreme Toy Store",
         279,
         "<StoreSurvey xmlns=\"http://schemas.microsoft.com/sqlserver/2004/07/adventure-works/StoreSurvey\"><AnnualSales>3000000</AnnualSales><AnnualRevenue>300000</AnnualRevenue><BankName>International Security</BankName><BusinessType>OS</BusinessType><YearOpened>1977</YearOpened><Specialty>Mountain</Specialty><SquareFeet>75000</SquareFeet><Brands>2</Brands><Internet>DSL</Internet><NumberEmployees>91</NumberEmployees></StoreSurvey>",
         "dbe4a587-bd26-485b-94c3-b04e944627c9",
         "2014-09-12"
        ],
        [
         768,
         "Citywide Service and Repair",
         282,
         "<StoreSurvey xmlns=\"http://schemas.microsoft.com/sqlserver/2004/07/adventure-works/StoreSurvey\"><AnnualSales>3000000</AnnualSales><AnnualRevenue>300000</AnnualRevenue><BankName>Primary Bank &amp; Reserve</BankName><BusinessType>OS</BusinessType><YearOpened>1987</YearOpened><Specialty>Road</Specialty><SquareFeet>79000</SquareFeet><Brands>3</Brands><Internet>DSL</Internet><NumberEmployees>92</NumberEmployees></StoreSurvey>",
         "10069045-fe16-4eef-bdf8-2aa907c8924d",
         "2014-09-12"
        ],
        [
         770,
         "Best Cycle Store",
         288,
         "<StoreSurvey xmlns=\"http://schemas.microsoft.com/sqlserver/2004/07/adventure-works/StoreSurvey\"><AnnualSales>3000000</AnnualSales><AnnualRevenue>300000</AnnualRevenue><BankName>International Bank</BankName><BusinessType>OS</BusinessType><YearOpened>1974</YearOpened><Specialty>Touring</Specialty><SquareFeet>78000</SquareFeet><Brands>4+</Brands><Internet>T1</Internet><NumberEmployees>93</NumberEmployees></StoreSurvey>",
         "6a2daf2a-19a5-42c5-8dc4-2038561c5ae3",
         "2014-09-12"
        ],
        [
         772,
         "Professional Sporting Goods",
         275,
         "<StoreSurvey xmlns=\"http://schemas.microsoft.com/sqlserver/2004/07/adventure-works/StoreSurvey\"><AnnualSales>3000000</AnnualSales><AnnualRevenue>300000</AnnualRevenue><BankName>United Security</BankName><BusinessType>OS</BusinessType><YearOpened>1974</YearOpened><Specialty>Touring</Specialty><SquareFeet>78000</SquareFeet><Brands>2</Brands><Internet>DSL</Internet><NumberEmployees>94</NumberEmployees></StoreSurvey>",
         "e0453aaa-7d26-4f08-b5ab-4dc265330cf2",
         "2014-09-12"
        ],
        [
         774,
         "Rugged Bikes",
         283,
         "<StoreSurvey xmlns=\"http://schemas.microsoft.com/sqlserver/2004/07/adventure-works/StoreSurvey\"><AnnualSales>3000000</AnnualSales><AnnualRevenue>300000</AnnualRevenue><BankName>Reserve Security</BankName><BusinessType>OS</BusinessType><YearOpened>1980</YearOpened><Specialty>Touring</Specialty><SquareFeet>77000</SquareFeet><Brands>2</Brands><Internet>DSL</Internet><NumberEmployees>95</NumberEmployees></StoreSurvey>",
         "623db28f-60da-49d6-b72d-1680aa5e6351",
         "2014-09-12"
        ],
        [
         776,
         "Principal Bike Company",
         281,
         "<StoreSurvey xmlns=\"http://schemas.microsoft.com/sqlserver/2004/07/adventure-works/StoreSurvey\"><AnnualSales>3000000</AnnualSales><AnnualRevenue>300000</AnnualRevenue><BankName>Primary International</BankName><BusinessType>OS</BusinessType><YearOpened>1986</YearOpened><Specialty>Road</Specialty><SquareFeet>79000</SquareFeet><Brands>3</Brands><Internet>DSL</Internet><NumberEmployees>96</NumberEmployees></StoreSurvey>",
         "9bbe2c3d-be66-474e-bc4e-0ea19bf08dd5",
         "2014-09-12"
        ],
        [
         778,
         "One-Piece Handle Bars",
         279,
         "<StoreSurvey xmlns=\"http://schemas.microsoft.com/sqlserver/2004/07/adventure-works/StoreSurvey\"><AnnualSales>3000000</AnnualSales><AnnualRevenue>300000</AnnualRevenue><BankName>Guardian Bank</BankName><BusinessType>OS</BusinessType><YearOpened>1992</YearOpened><Specialty>Mountain</Specialty><SquareFeet>80000</SquareFeet><Brands>3</Brands><Internet>T1</Internet><NumberEmployees>97</NumberEmployees></StoreSurvey>",
         "3159c810-9549-497f-8e2e-7e7dc7158751",
         "2014-09-12"
        ],
        [
         780,
         "Finer Riding Supplies",
         282,
         "<StoreSurvey xmlns=\"http://schemas.microsoft.com/sqlserver/2004/07/adventure-works/StoreSurvey\"><AnnualSales>3000000</AnnualSales><AnnualRevenue>300000</AnnualRevenue><BankName>International Security</BankName><BusinessType>OS</BusinessType><YearOpened>1998</YearOpened><Specialty>Road</Specialty><SquareFeet>78000</SquareFeet><Brands>4+</Brands><Internet>DSL</Internet><NumberEmployees>98</NumberEmployees></StoreSurvey>",
         "943a2705-ce9c-47d6-8708-407bd239ed49",
         "2014-09-12"
        ],
        [
         782,
         "Neighborhood Store",
         278,
         "<StoreSurvey xmlns=\"http://schemas.microsoft.com/sqlserver/2004/07/adventure-works/StoreSurvey\"><AnnualSales>3000000</AnnualSales><AnnualRevenue>300000</AnnualRevenue><BankName>Primary International</BankName><BusinessType>OS</BusinessType><YearOpened>1983</YearOpened><Specialty>Road</Specialty><SquareFeet>77000</SquareFeet><Brands>2</Brands><Internet>DSL</Internet><NumberEmployees>87</NumberEmployees></StoreSurvey>",
         "97a18a38-227d-4886-b711-7967af5ebb8e",
         "2014-09-12"
        ],
        [
         784,
         "Online Bike Catalog",
         286,
         "<StoreSurvey xmlns=\"http://schemas.microsoft.com/sqlserver/2004/07/adventure-works/StoreSurvey\"><AnnualSales>3000000</AnnualSales><AnnualRevenue>300000</AnnualRevenue><BankName>Guardian Bank</BankName><BusinessType>OS</BusinessType><YearOpened>1975</YearOpened><Specialty>Touring</Specialty><SquareFeet>74000</SquareFeet><Brands>3</Brands><Internet>T2</Internet><NumberEmployees>88</NumberEmployees></StoreSurvey>",
         "df376bcf-680e-4b1e-aa70-23db54c6d129",
         "2014-09-12"
        ],
        [
         786,
         "Outdoor Equipment Store",
         275,
         "<StoreSurvey xmlns=\"http://schemas.microsoft.com/sqlserver/2004/07/adventure-works/StoreSurvey\"><AnnualSales>3000000</AnnualSales><AnnualRevenue>300000</AnnualRevenue><BankName>International Security</BankName><BusinessType>OS</BusinessType><YearOpened>1980</YearOpened><Specialty>Road</Specialty><SquareFeet>76000</SquareFeet><Brands>4+</Brands><Internet>T2</Internet><NumberEmployees>89</NumberEmployees></StoreSurvey>",
         "4dcdf6f3-84a2-4407-973a-14ae73eb4e7f",
         "2014-09-12"
        ],
        [
         788,
         "Paint Supply",
         277,
         "<StoreSurvey xmlns=\"http://schemas.microsoft.com/sqlserver/2004/07/adventure-works/StoreSurvey\"><AnnualSales>3000000</AnnualSales><AnnualRevenue>300000</AnnualRevenue><BankName>Primary Bank &amp; Reserve</BankName><BusinessType>OS</BusinessType><YearOpened>1972</YearOpened><Specialty>Mountain</Specialty><SquareFeet>78000</SquareFeet><Brands>4+</Brands><Internet>T1</Internet><NumberEmployees>90</NumberEmployees></StoreSurvey>",
         "1229501b-b60c-41a9-97e6-8b1d13c568de",
         "2014-09-12"
        ],
        [
         790,
         "Preferred Bikes",
         276,
         "<StoreSurvey xmlns=\"http://schemas.microsoft.com/sqlserver/2004/07/adventure-works/StoreSurvey\"><AnnualSales>3000000</AnnualSales><AnnualRevenue>300000</AnnualRevenue><BankName>International Bank</BankName><BusinessType>OS</BusinessType><YearOpened>1977</YearOpened><Specialty>Road</Specialty><SquareFeet>77000</SquareFeet><Brands>4+</Brands><Internet>ISDN</Internet><NumberEmployees>91</NumberEmployees></StoreSurvey>",
         "6ab9d50f-4181-4704-9b51-e558b491d82b",
         "2014-09-12"
        ],
        [
         792,
         "Rally Day Mall",
         279,
         "<StoreSurvey xmlns=\"http://schemas.microsoft.com/sqlserver/2004/07/adventure-works/StoreSurvey\"><AnnualSales>3000000</AnnualSales><AnnualRevenue>300000</AnnualRevenue><BankName>United Security</BankName><BusinessType>OS</BusinessType><YearOpened>1987</YearOpened><Specialty>Road</Specialty><SquareFeet>75000</SquareFeet><Brands>3</Brands><Internet>DSL</Internet><NumberEmployees>92</NumberEmployees></StoreSurvey>",
         "1d7c7ae9-7df4-4b89-9a80-b224a2dd6b41",
         "2014-09-12"
        ],
        [
         794,
         "Rewarding Activities Company",
         278,
         "<StoreSurvey xmlns=\"http://schemas.microsoft.com/sqlserver/2004/07/adventure-works/StoreSurvey\"><AnnualSales>3000000</AnnualSales><AnnualRevenue>300000</AnnualRevenue><BankName>Reserve Security</BankName><BusinessType>OS</BusinessType><YearOpened>1974</YearOpened><Specialty>Road</Specialty><SquareFeet>76000</SquareFeet><Brands>4+</Brands><Internet>T1</Internet><NumberEmployees>93</NumberEmployees></StoreSurvey>",
         "b6d5b9ba-7304-4e4d-a78c-8fb8a66fbf4b",
         "2014-09-12"
        ],
        [
         796,
         "Rich Department Store",
         286,
         "<StoreSurvey xmlns=\"http://schemas.microsoft.com/sqlserver/2004/07/adventure-works/StoreSurvey\"><AnnualSales>3000000</AnnualSales><AnnualRevenue>300000</AnnualRevenue><BankName>Primary International</BankName><BusinessType>OS</BusinessType><YearOpened>1974</YearOpened><Specialty>Touring</Specialty><SquareFeet>76000</SquareFeet><Brands>2</Brands><Internet>DSL</Internet><NumberEmployees>94</NumberEmployees></StoreSurvey>",
         "b227ca7d-70a5-48a6-b099-e71b35d543da",
         "2014-09-12"
        ],
        [
         798,
         "Sales and Supply Company",
         275,
         "<StoreSurvey xmlns=\"http://schemas.microsoft.com/sqlserver/2004/07/adventure-works/StoreSurvey\"><AnnualSales>3000000</AnnualSales><AnnualRevenue>300000</AnnualRevenue><BankName>Guardian Bank</BankName><BusinessType>OS</BusinessType><YearOpened>1980</YearOpened><Specialty>Road</Specialty><SquareFeet>75000</SquareFeet><Brands>2</Brands><Internet>T2</Internet><NumberEmployees>95</NumberEmployees></StoreSurvey>",
         "40ef14b1-9714-4765-9284-951d01a65eb2",
         "2014-09-12"
        ],
        [
         800,
         "Stationary Bikes and Stands",
         277,
         "<StoreSurvey xmlns=\"http://schemas.microsoft.com/sqlserver/2004/07/adventure-works/StoreSurvey\"><AnnualSales>3000000</AnnualSales><AnnualRevenue>300000</AnnualRevenue><BankName>International Security</BankName><BusinessType>OS</BusinessType><YearOpened>1986</YearOpened><Specialty>Road</Specialty><SquareFeet>76000</SquareFeet><Brands>4+</Brands><Internet>DSL</Internet><NumberEmployees>96</NumberEmployees></StoreSurvey>",
         "b2fedf01-27f1-4978-ac3d-0cf105185a33",
         "2014-09-12"
        ],
        [
         802,
         "Successful Sales Company",
         280,
         "<StoreSurvey xmlns=\"http://schemas.microsoft.com/sqlserver/2004/07/adventure-works/StoreSurvey\"><AnnualSales>1500000</AnnualSales><AnnualRevenue>150000</AnnualRevenue><BankName>Guardian Bank</BankName><BusinessType>BS</BusinessType><YearOpened>1997</YearOpened><Specialty>Road</Specialty><SquareFeet>38000</SquareFeet><Brands>3</Brands><Internet>T1</Internet><NumberEmployees>46</NumberEmployees></StoreSurvey>",
         "a3d9586d-2eec-4e39-b311-2880fcdeb536",
         "2014-09-12"
        ],
        [
         804,
         "Downtown Hotel",
         281,
         "<StoreSurvey xmlns=\"http://schemas.microsoft.com/sqlserver/2004/07/adventure-works/StoreSurvey\"><AnnualSales>3000000</AnnualSales><AnnualRevenue>300000</AnnualRevenue><BankName>International Bank</BankName><BusinessType>OS</BusinessType><YearOpened>1986</YearOpened><Specialty>Mountain</Specialty><SquareFeet>74000</SquareFeet><Brands>4+</Brands><Internet>DSL</Internet><NumberEmployees>85</NumberEmployees></StoreSurvey>",
         "19c5ccaf-6fde-4f34-b10c-2155533c51f6",
         "2014-09-12"
        ],
        [
         806,
         "Certified Sports Supply",
         282,
         "<StoreSurvey xmlns=\"http://schemas.microsoft.com/sqlserver/2004/07/adventure-works/StoreSurvey\"><AnnualSales>3000000</AnnualSales><AnnualRevenue>300000</AnnualRevenue><BankName>United Security</BankName><BusinessType>OS</BusinessType><YearOpened>1978</YearOpened><Specialty>Mountain</Specialty><SquareFeet>78000</SquareFeet><Brands>4+</Brands><Internet>DSL</Internet><NumberEmployees>86</NumberEmployees></StoreSurvey>",
         "0f2c5152-8b95-41f8-b0a0-f6af76da98cb",
         "2014-09-12"
        ],
        [
         808,
         "Registered Cycle Store",
         290,
         "<StoreSurvey xmlns=\"http://schemas.microsoft.com/sqlserver/2004/07/adventure-works/StoreSurvey\"><AnnualSales>3000000</AnnualSales><AnnualRevenue>300000</AnnualRevenue><BankName>Reserve Security</BankName><BusinessType>OS</BusinessType><YearOpened>1983</YearOpened><Specialty>Mountain</Specialty><SquareFeet>77000</SquareFeet><Brands>3</Brands><Internet>T1</Internet><NumberEmployees>87</NumberEmployees></StoreSurvey>",
         "dea4bef9-a886-41e7-be61-8d2618260863",
         "2014-09-12"
        ],
        [
         810,
         "Rampart Amusement Company",
         289,
         "<StoreSurvey xmlns=\"http://schemas.microsoft.com/sqlserver/2004/07/adventure-works/StoreSurvey\"><AnnualSales>3000000</AnnualSales><AnnualRevenue>300000</AnnualRevenue><BankName>Primary International</BankName><BusinessType>OS</BusinessType><YearOpened>1975</YearOpened><Specialty>Touring</Specialty><SquareFeet>75000</SquareFeet><Brands>3</Brands><Internet>ISDN</Internet><NumberEmployees>88</NumberEmployees></StoreSurvey>",
         "4d64a5ff-671a-4c93-a494-9fb5dc7c76b4",
         "2014-09-12"
        ],
        [
         812,
         "Sundry Sporting Goods",
         282,
         "<StoreSurvey xmlns=\"http://schemas.microsoft.com/sqlserver/2004/07/adventure-works/StoreSurvey\"><AnnualSales>300000</AnnualSales><AnnualRevenue>30000</AnnualRevenue><BankName>Primary Bank &amp; Reserve</BankName><BusinessType>BM</BusinessType><YearOpened>1984</YearOpened><Specialty>Road</Specialty><SquareFeet>7000</SquareFeet><Brands>4+</Brands><Internet>T2</Internet><NumberEmployees>5</NumberEmployees></StoreSurvey>",
         "89523b8a-763b-41da-bf56-9ed59c0a1cbb",
         "2014-09-12"
        ],
        [
         814,
         "Excellent Riding Supplies",
         279,
         "<StoreSurvey xmlns=\"http://schemas.microsoft.com/sqlserver/2004/07/adventure-works/StoreSurvey\"><AnnualSales>300000</AnnualSales><AnnualRevenue>30000</AnnualRevenue><BankName>International Security</BankName><BusinessType>BM</BusinessType><YearOpened>1979</YearOpened><Specialty>Road</Specialty><SquareFeet>9000</SquareFeet><Brands>3</Brands><Internet>ISDN</Internet><NumberEmployees>6</NumberEmployees></StoreSurvey>",
         "c0d3f06b-dac6-42b6-b3a2-9f69ef2e27e7",
         "2014-09-12"
        ],
        [
         816,
         "Farthermost Bike Shop",
         281,
         "<StoreSurvey xmlns=\"http://schemas.microsoft.com/sqlserver/2004/07/adventure-works/StoreSurvey\"><AnnualSales>300000</AnnualSales><AnnualRevenue>30000</AnnualRevenue><BankName>Guardian Bank</BankName><BusinessType>BM</BusinessType><YearOpened>1987</YearOpened><Specialty>Road</Specialty><SquareFeet>8000</SquareFeet><Brands>3</Brands><Internet>T1</Internet><NumberEmployees>7</NumberEmployees></StoreSurvey>",
         "91a84292-1e38-4ded-91ee-9bfaa1dd3dea",
         "2014-09-12"
        ],
        [
         818,
         "Suburban Cycle Shop",
         283,
         "<StoreSurvey xmlns=\"http://schemas.microsoft.com/sqlserver/2004/07/adventure-works/StoreSurvey\"><AnnualSales>300000</AnnualSales><AnnualRevenue>30000</AnnualRevenue><BankName>Primary International</BankName><BusinessType>BM</BusinessType><YearOpened>1982</YearOpened><Specialty>Mountain</Specialty><SquareFeet>10000</SquareFeet><Brands>3</Brands><Internet>DSL</Internet><NumberEmployees>8</NumberEmployees></StoreSurvey>",
         "b3504bb0-308c-4d26-8e0a-ece43fe55a20",
         "2014-09-12"
        ],
        [
         820,
         "Weekend Tours",
         275,
         "<StoreSurvey xmlns=\"http://schemas.microsoft.com/sqlserver/2004/07/adventure-works/StoreSurvey\"><AnnualSales>300000</AnnualSales><AnnualRevenue>30000</AnnualRevenue><BankName>Reserve Security</BankName><BusinessType>BM</BusinessType><YearOpened>1990</YearOpened><Specialty>Road</Specialty><SquareFeet>9000</SquareFeet><Brands>AW</Brands><Internet>DSL</Internet><NumberEmployees>9</NumberEmployees></StoreSurvey>",
         "4cfe3bd5-98f1-4e4a-90df-9decf1ce042b",
         "2014-09-12"
        ],
        [
         822,
         "Racing Bike Outlet",
         283,
         "<StoreSurvey xmlns=\"http://schemas.microsoft.com/sqlserver/2004/07/adventure-works/StoreSurvey\"><AnnualSales>3000000</AnnualSales><AnnualRevenue>300000</AnnualRevenue><BankName>United Security</BankName><BusinessType>OS</BusinessType><YearOpened>1998</YearOpened><Specialty>Road</Specialty><SquareFeet>72000</SquareFeet><Brands>2</Brands><Internet>DSL</Internet><NumberEmployees>52</NumberEmployees></StoreSurvey>",
         "bf71f3bc-449f-418b-a0b3-c9f070365cf3",
         "2014-09-12"
        ],
        [
         824,
         "Utilitarian Sporting Goods",
         281,
         "<StoreSurvey xmlns=\"http://schemas.microsoft.com/sqlserver/2004/07/adventure-works/StoreSurvey\"><AnnualSales>3000000</AnnualSales><AnnualRevenue>300000</AnnualRevenue><BankName>Reserve Security</BankName><BusinessType>OS</BusinessType><YearOpened>1999</YearOpened><Specialty>Touring</Specialty><SquareFeet>72000</SquareFeet><Brands>3</Brands><Internet>DSL</Internet><NumberEmployees>55</NumberEmployees></StoreSurvey>",
         "9f37eb77-80e4-4ffc-a5dc-3b1808d9af72",
         "2014-09-12"
        ],
        [
         826,
         "Bike Goods ",
         279,
         "<StoreSurvey xmlns=\"http://schemas.microsoft.com/sqlserver/2004/07/adventure-works/StoreSurvey\"><AnnualSales>3000000</AnnualSales><AnnualRevenue>300000</AnnualRevenue><BankName>Primary International</BankName><BusinessType>OS</BusinessType><YearOpened>1999</YearOpened><Specialty>Road</Specialty><SquareFeet>73000</SquareFeet><Brands>4+</Brands><Internet>T2</Internet><NumberEmployees>58</NumberEmployees></StoreSurvey>",
         "db843b5d-df3d-44ba-b4ef-81dcae29cb93",
         "2014-09-12"
        ],
        [
         828,
         "Vigorous Exercise Company",
         282,
         "<StoreSurvey xmlns=\"http://schemas.microsoft.com/sqlserver/2004/07/adventure-works/StoreSurvey\"><AnnualSales>3000000</AnnualSales><AnnualRevenue>300000</AnnualRevenue><BankName>Guardian Bank</BankName><BusinessType>OS</BusinessType><YearOpened>1979</YearOpened><Specialty>Mountain</Specialty><SquareFeet>72000</SquareFeet><Brands>2</Brands><Internet>T1</Internet><NumberEmployees>61</NumberEmployees></StoreSurvey>",
         "9a4119a4-e158-4754-93a3-bab22274440f",
         "2014-09-12"
        ],
        [
         830,
         "Showcase for Cycles",
         288,
         "<StoreSurvey xmlns=\"http://schemas.microsoft.com/sqlserver/2004/07/adventure-works/StoreSurvey\"><AnnualSales>3000000</AnnualSales><AnnualRevenue>300000</AnnualRevenue><BankName>International Security</BankName><BusinessType>OS</BusinessType><YearOpened>1996</YearOpened><Specialty>Road</Specialty><SquareFeet>71000</SquareFeet><Brands>2</Brands><Internet>T1</Internet><NumberEmployees>64</NumberEmployees></StoreSurvey>",
         "04dcaa69-ad7b-43c7-b149-e6fe2604d27e",
         "2014-09-12"
        ],
        [
         832,
         "Lease-a-Bike Shop",
         275,
         "<StoreSurvey xmlns=\"http://schemas.microsoft.com/sqlserver/2004/07/adventure-works/StoreSurvey\"><AnnualSales>3000000</AnnualSales><AnnualRevenue>300000</AnnualRevenue><BankName>Primary Bank &amp; Reserve</BankName><BusinessType>OS</BusinessType><YearOpened>1991</YearOpened><Specialty>Road</Specialty><SquareFeet>71000</SquareFeet><Brands>3</Brands><Internet>ISDN</Internet><NumberEmployees>67</NumberEmployees></StoreSurvey>",
         "58c02eac-d3fd-4a79-b077-20c999b88a54",
         "2014-09-12"
        ],
        [
         834,
         "Functional Store South",
         288,
         "<StoreSurvey xmlns=\"http://schemas.microsoft.com/sqlserver/2004/07/adventure-works/StoreSurvey\"><AnnualSales>3000000</AnnualSales><AnnualRevenue>300000</AnnualRevenue><BankName>International Bank</BankName><BusinessType>OS</BusinessType><YearOpened>1993</YearOpened><Specialty>Mountain</Specialty><SquareFeet>71000</SquareFeet><Brands>2</Brands><Internet>DSL</Internet><NumberEmployees>70</NumberEmployees></StoreSurvey>",
         "0d5c741d-a691-4732-93a3-d34ed0ed3716",
         "2014-09-12"
        ],
        [
         836,
         "Active Cycling",
         275,
         "<StoreSurvey xmlns=\"http://schemas.microsoft.com/sqlserver/2004/07/adventure-works/StoreSurvey\"><AnnualSales>3000000</AnnualSales><AnnualRevenue>300000</AnnualRevenue><BankName>United Security</BankName><BusinessType>OS</BusinessType><YearOpened>1998</YearOpened><Specialty>Road</Specialty><SquareFeet>73000</SquareFeet><Brands>4+</Brands><Internet>DSL</Internet><NumberEmployees>73</NumberEmployees></StoreSurvey>",
         "1e3dff09-7e5c-49bd-b8b1-d0a2e1523bf6",
         "2014-09-12"
        ],
        [
         838,
         "Stock Parts and Supplies",
         283,
         "<StoreSurvey xmlns=\"http://schemas.microsoft.com/sqlserver/2004/07/adventure-works/StoreSurvey\"><AnnualSales>3000000</AnnualSales><AnnualRevenue>300000</AnnualRevenue><BankName>Reserve Security</BankName><BusinessType>OS</BusinessType><YearOpened>1990</YearOpened><Specialty>Touring</Specialty><SquareFeet>76000</SquareFeet><Brands>2</Brands><Internet>DSL</Internet><NumberEmployees>76</NumberEmployees></StoreSurvey>",
         "ed67b7ec-a2a1-4f0b-9959-1bcd1c7e8b36",
         "2014-09-12"
        ],
        [
         840,
         "Roadway Supplies",
         281,
         "<StoreSurvey xmlns=\"http://schemas.microsoft.com/sqlserver/2004/07/adventure-works/StoreSurvey\"><AnnualSales>3000000</AnnualSales><AnnualRevenue>300000</AnnualRevenue><BankName>Primary International</BankName><BusinessType>OS</BusinessType><YearOpened>1995</YearOpened><Specialty>Road</Specialty><SquareFeet>73000</SquareFeet><Brands>4+</Brands><Internet>DSL</Internet><NumberEmployees>79</NumberEmployees></StoreSurvey>",
         "dd1ceef8-3e77-4d8e-b420-48acba0a9651",
         "2014-09-12"
        ],
        [
         842,
         "Sensational Discount Store",
         279,
         "<StoreSurvey xmlns=\"http://schemas.microsoft.com/sqlserver/2004/07/adventure-works/StoreSurvey\"><AnnualSales>3000000</AnnualSales><AnnualRevenue>300000</AnnualRevenue><BankName>Guardian Bank</BankName><BusinessType>OS</BusinessType><YearOpened>1987</YearOpened><Specialty>Road</Specialty><SquareFeet>73000</SquareFeet><Brands>2</Brands><Internet>T1</Internet><NumberEmployees>80</NumberEmployees></StoreSurvey>",
         "56795063-f8c7-4550-8a37-357d91cb7c96",
         "2014-09-12"
        ],
        [
         844,
         "Future Bikes",
         282,
         "<StoreSurvey xmlns=\"http://schemas.microsoft.com/sqlserver/2004/07/adventure-works/StoreSurvey\"><AnnualSales>3000000</AnnualSales><AnnualRevenue>300000</AnnualRevenue><BankName>Guardian Bank</BankName><BusinessType>OS</BusinessType><YearOpened>1992</YearOpened><Specialty>Road</Specialty><SquareFeet>74000</SquareFeet><Brands>3</Brands><Internet>DSL</Internet><NumberEmployees>81</NumberEmployees></StoreSurvey>",
         "95a0e002-f4f0-4b42-ab6f-860c02405a6d",
         "2014-09-12"
        ],
        [
         846,
         "Super Sports Store",
         275,
         "<StoreSurvey xmlns=\"http://schemas.microsoft.com/sqlserver/2004/07/adventure-works/StoreSurvey\"><AnnualSales>3000000</AnnualSales><AnnualRevenue>300000</AnnualRevenue><BankName>Primary Bank &amp; Reserve</BankName><BusinessType>OS</BusinessType><YearOpened>1999</YearOpened><Specialty>Road</Specialty><SquareFeet>78000</SquareFeet><Brands>2</Brands><Internet>DSL</Internet><NumberEmployees>100</NumberEmployees></StoreSurvey>",
         "a7b14c08-db02-4182-abbd-25daa3dba7f2",
         "2014-09-12"
        ],
        [
         848,
         "Satin Finish Company",
         277,
         "<StoreSurvey xmlns=\"http://schemas.microsoft.com/sqlserver/2004/07/adventure-works/StoreSurvey\"><AnnualSales>3000000</AnnualSales><AnnualRevenue>300000</AnnualRevenue><BankName>International Bank</BankName><BusinessType>OS</BusinessType><YearOpened>1979</YearOpened><Specialty>Mountain</Specialty><SquareFeet>74000</SquareFeet><Brands>2</Brands><Internet>T1</Internet><NumberEmployees>66</NumberEmployees></StoreSurvey>",
         "24803781-0abd-47f6-a88c-c5fae0eaa3f7",
         "2014-09-12"
        ],
        [
         850,
         "Regional Manufacturing",
         281,
         "<StoreSurvey xmlns=\"http://schemas.microsoft.com/sqlserver/2004/07/adventure-works/StoreSurvey\"><AnnualSales>1500000</AnnualSales><AnnualRevenue>150000</AnnualRevenue><BankName>Primary Bank &amp; Reserve</BankName><BusinessType>OS</BusinessType><YearOpened>1974</YearOpened><Specialty>Mountain</Specialty><SquareFeet>38000</SquareFeet><Brands>4+</Brands><Internet>DSL</Internet><NumberEmployees>40</NumberEmployees></StoreSurvey>",
         "164611b2-0b8a-4bcb-92ba-a7224089c518",
         "2014-09-12"
        ],
        [
         852,
         "Original Bicycle Supply Company",
         282,
         "<StoreSurvey xmlns=\"http://schemas.microsoft.com/sqlserver/2004/07/adventure-works/StoreSurvey\"><AnnualSales>1500000</AnnualSales><AnnualRevenue>150000</AnnualRevenue><BankName>International Bank</BankName><BusinessType>OS</BusinessType><YearOpened>1980</YearOpened><Specialty>Mountain</Specialty><SquareFeet>38000</SquareFeet><Brands>4+</Brands><Internet>T1</Internet><NumberEmployees>43</NumberEmployees></StoreSurvey>",
         "093a9472-b613-4214-9c41-4d707cfc38c0",
         "2014-09-12"
        ],
        [
         854,
         "First Center",
         290,
         "<StoreSurvey xmlns=\"http://schemas.microsoft.com/sqlserver/2004/07/adventure-works/StoreSurvey\"><AnnualSales>1500000</AnnualSales><AnnualRevenue>150000</AnnualRevenue><BankName>United Security</BankName><BusinessType>OS</BusinessType><YearOpened>1986</YearOpened><Specialty>Mountain</Specialty><SquareFeet>39000</SquareFeet><Brands>2</Brands><Internet>T2</Internet><NumberEmployees>46</NumberEmployees></StoreSurvey>",
         "2a96f5ea-199d-4b7b-b491-af05fa0edd2e",
         "2014-09-12"
        ],
        [
         856,
         "Action Bicycle Specialists",
         289,
         "<StoreSurvey xmlns=\"http://schemas.microsoft.com/sqlserver/2004/07/adventure-works/StoreSurvey\"><AnnualSales>1500000</AnnualSales><AnnualRevenue>150000</AnnualRevenue><BankName>Reserve Security</BankName><BusinessType>OS</BusinessType><YearOpened>1992</YearOpened><Specialty>Touring</Specialty><SquareFeet>40000</SquareFeet><Brands>2</Brands><Internet>DSL</Internet><NumberEmployees>49</NumberEmployees></StoreSurvey>",
         "1d624dc8-9ebe-4acb-81c8-90f0b474b64f",
         "2014-09-12"
        ],
        [
         858,
         "Roadway Bike Emporium",
         280,
         "<StoreSurvey xmlns=\"http://schemas.microsoft.com/sqlserver/2004/07/adventure-works/StoreSurvey\"><AnnualSales>3000000</AnnualSales><AnnualRevenue>300000</AnnualRevenue><BankName>Primary International</BankName><BusinessType>OS</BusinessType><YearOpened>1998</YearOpened><Specialty>Touring</Specialty><SquareFeet>68000</SquareFeet><Brands>3</Brands><Internet>T1</Internet><NumberEmployees>52</NumberEmployees></StoreSurvey>",
         "10f49b6a-8815-4b0c-aa31-f22972741d88",
         "2014-09-12"
        ],
        [
         860,
         "Sleek Bikes ",
         277,
         "<StoreSurvey xmlns=\"http://schemas.microsoft.com/sqlserver/2004/07/adventure-works/StoreSurvey\"><AnnualSales>3000000</AnnualSales><AnnualRevenue>300000</AnnualRevenue><BankName>Guardian Bank</BankName><BusinessType>OS</BusinessType><YearOpened>1999</YearOpened><Specialty>Touring</Specialty><SquareFeet>70000</SquareFeet><Brands>3</Brands><Internet>DSL</Internet><NumberEmployees>55</NumberEmployees></StoreSurvey>",
         "50684a79-632b-4a17-98f1-b09997e57ec2",
         "2014-09-12"
        ],
        [
         862,
         "Retail Sporting Equipment",
         281,
         "<StoreSurvey xmlns=\"http://schemas.microsoft.com/sqlserver/2004/07/adventure-works/StoreSurvey\"><AnnualSales>3000000</AnnualSales><AnnualRevenue>300000</AnnualRevenue><BankName>International Security</BankName><BusinessType>OS</BusinessType><YearOpened>1999</YearOpened><Specialty>Mountain</Specialty><SquareFeet>72000</SquareFeet><Brands>4+</Brands><Internet>T1</Internet><NumberEmployees>58</NumberEmployees></StoreSurvey>",
         "7c69a372-2100-4d34-9c59-9645af5465f0",
         "2014-09-12"
        ],
        [
         864,
         "Price-Cutter Discount Bikes",
         282,
         "<StoreSurvey xmlns=\"http://schemas.microsoft.com/sqlserver/2004/07/adventure-works/StoreSurvey\"><AnnualSales>3000000</AnnualSales><AnnualRevenue>300000</AnnualRevenue><BankName>Primary Bank &amp; Reserve</BankName><BusinessType>OS</BusinessType><YearOpened>1979</YearOpened><Specialty>Road</Specialty><SquareFeet>70000</SquareFeet><Brands>4+</Brands><Internet>DSL</Internet><NumberEmployees>61</NumberEmployees></StoreSurvey>",
         "5ef7f44b-42fc-4b7d-a1d3-fdf2f906aac1",
         "2014-09-12"
        ],
        [
         866,
         "Brand New Bikes",
         290,
         "<StoreSurvey xmlns=\"http://schemas.microsoft.com/sqlserver/2004/07/adventure-works/StoreSurvey\"><AnnualSales>3000000</AnnualSales><AnnualRevenue>300000</AnnualRevenue><BankName>International Bank</BankName><BusinessType>OS</BusinessType><YearOpened>1996</YearOpened><Specialty>Road</Specialty><SquareFeet>73000</SquareFeet><Brands>4+</Brands><Internet>ISDN</Internet><NumberEmployees>64</NumberEmployees></StoreSurvey>",
         "43a5e3fd-0886-44e3-9640-772616d463b7",
         "2014-09-12"
        ],
        [
         868,
         "Central Bicycle Specialists",
         289,
         "<StoreSurvey xmlns=\"http://schemas.microsoft.com/sqlserver/2004/07/adventure-works/StoreSurvey\"><AnnualSales>3000000</AnnualSales><AnnualRevenue>300000</AnnualRevenue><BankName>United Security</BankName><BusinessType>OS</BusinessType><YearOpened>1991</YearOpened><Specialty>Touring</Specialty><SquareFeet>71000</SquareFeet><Brands>2</Brands><Internet>DSL</Internet><NumberEmployees>67</NumberEmployees></StoreSurvey>",
         "c87accfe-02f1-4ecb-8759-d418e0df29ea",
         "2014-09-12"
        ],
        [
         870,
         "Vast Bike Sales and Rental",
         280,
         "<StoreSurvey xmlns=\"http://schemas.microsoft.com/sqlserver/2004/07/adventure-works/StoreSurvey\"><AnnualSales>3000000</AnnualSales><AnnualRevenue>300000</AnnualRevenue><BankName>Reserve Security</BankName><BusinessType>OS</BusinessType><YearOpened>1993</YearOpened><Specialty>Mountain</Specialty><SquareFeet>73000</SquareFeet><Brands>4+</Brands><Internet>ISDN</Internet><NumberEmployees>70</NumberEmployees></StoreSurvey>",
         "c8c03798-fee6-49e1-a112-4f128f7f45b7",
         "2014-09-12"
        ],
        [
         872,
         "Summer Sports Place",
         277,
         "<StoreSurvey xmlns=\"http://schemas.microsoft.com/sqlserver/2004/07/adventure-works/StoreSurvey\"><AnnualSales>3000000</AnnualSales><AnnualRevenue>300000</AnnualRevenue><BankName>Primary International</BankName><BusinessType>OS</BusinessType><YearOpened>1998</YearOpened><Specialty>Mountain</Specialty><SquareFeet>73000</SquareFeet><Brands>3</Brands><Internet>T2</Internet><NumberEmployees>73</NumberEmployees></StoreSurvey>",
         "4ff928f2-d314-455b-b00d-de870e399850",
         "2014-09-12"
        ],
        [
         874,
         "Real Sporting Goods",
         281,
         "<StoreSurvey xmlns=\"http://schemas.microsoft.com/sqlserver/2004/07/adventure-works/StoreSurvey\"><AnnualSales>3000000</AnnualSales><AnnualRevenue>300000</AnnualRevenue><BankName>Guardian Bank</BankName><BusinessType>OS</BusinessType><YearOpened>1990</YearOpened><Specialty>Mountain</Specialty><SquareFeet>72000</SquareFeet><Brands>3</Brands><Internet>DSL</Internet><NumberEmployees>76</NumberEmployees></StoreSurvey>",
         "6cba3bfd-af5c-4eac-9f80-7b57dfe9fe5a",
         "2014-09-12"
        ],
        [
         876,
         "Versatile Sporting Goods Company",
         288,
         "<StoreSurvey xmlns=\"http://schemas.microsoft.com/sqlserver/2004/07/adventure-works/StoreSurvey\"><AnnualSales>3000000</AnnualSales><AnnualRevenue>300000</AnnualRevenue><BankName>Primary Bank &amp; Reserve</BankName><BusinessType>OS</BusinessType><YearOpened>1996</YearOpened><Specialty>Road</Specialty><SquareFeet>74000</SquareFeet><Brands>2</Brands><Internet>DSL</Internet><NumberEmployees>64</NumberEmployees></StoreSurvey>",
         "d41ba195-3da6-42fb-8522-44a96dacb956",
         "2014-09-12"
        ],
        [
         878,
         "Bicycle Outfitters",
         275,
         "<StoreSurvey xmlns=\"http://schemas.microsoft.com/sqlserver/2004/07/adventure-works/StoreSurvey\"><AnnualSales>3000000</AnnualSales><AnnualRevenue>300000</AnnualRevenue><BankName>International Bank</BankName><BusinessType>OS</BusinessType><YearOpened>1991</YearOpened><Specialty>Road</Specialty><SquareFeet>72000</SquareFeet><Brands>3</Brands><Internet>DSL</Internet><NumberEmployees>67</NumberEmployees></StoreSurvey>",
         "efdf9b24-7a68-42eb-949b-9aa87c7af9d9",
         "2014-09-12"
        ],
        [
         880,
         "The Bike Shop",
         283,
         "<StoreSurvey xmlns=\"http://schemas.microsoft.com/sqlserver/2004/07/adventure-works/StoreSurvey\"><AnnualSales>3000000</AnnualSales><AnnualRevenue>300000</AnnualRevenue><BankName>United Security</BankName><BusinessType>OS</BusinessType><YearOpened>1993</YearOpened><Specialty>Mountain</Specialty><SquareFeet>73000</SquareFeet><Brands>3</Brands><Internet>T1</Internet><NumberEmployees>70</NumberEmployees></StoreSurvey>",
         "ea9810db-8f73-44e8-b65a-d148f62bf63a",
         "2014-09-12"
        ],
        [
         882,
         "Safe Toys",
         281,
         "<StoreSurvey xmlns=\"http://schemas.microsoft.com/sqlserver/2004/07/adventure-works/StoreSurvey\"><AnnualSales>3000000</AnnualSales><AnnualRevenue>300000</AnnualRevenue><BankName>Reserve Security</BankName><BusinessType>OS</BusinessType><YearOpened>1998</YearOpened><Specialty>Mountain</Specialty><SquareFeet>74000</SquareFeet><Brands>2</Brands><Internet>T1</Internet><NumberEmployees>73</NumberEmployees></StoreSurvey>",
         "3b49ba13-2f39-4481-8153-ad709211834e",
         "2014-09-12"
        ],
        [
         884,
         "Qualified Sales and Repair Services",
         279,
         "<StoreSurvey xmlns=\"http://schemas.microsoft.com/sqlserver/2004/07/adventure-works/StoreSurvey\"><AnnualSales>3000000</AnnualSales><AnnualRevenue>300000</AnnualRevenue><BankName>Primary International</BankName><BusinessType>OS</BusinessType><YearOpened>1990</YearOpened><Specialty>Road</Specialty><SquareFeet>75000</SquareFeet><Brands>4+</Brands><Internet>DSL</Internet><NumberEmployees>76</NumberEmployees></StoreSurvey>",
         "08a0eb56-a881-488f-a408-237a07ee87ad",
         "2014-09-12"
        ],
        [
         886,
         "Our Sporting Goods Store",
         282,
         "<StoreSurvey xmlns=\"http://schemas.microsoft.com/sqlserver/2004/07/adventure-works/StoreSurvey\"><AnnualSales>3000000</AnnualSales><AnnualRevenue>300000</AnnualRevenue><BankName>Guardian Bank</BankName><BusinessType>OS</BusinessType><YearOpened>1995</YearOpened><Specialty>Road</Specialty><SquareFeet>76000</SquareFeet><Brands>4+</Brands><Internet>DSL</Internet><NumberEmployees>79</NumberEmployees></StoreSurvey>",
         "ae7b0459-93b0-401b-8128-6c0b3ee154fc",
         "2014-09-12"
        ],
        [
         888,
         "Lustrous Paints and Components",
         288,
         "<StoreSurvey xmlns=\"http://schemas.microsoft.com/sqlserver/2004/07/adventure-works/StoreSurvey\"><AnnualSales>3000000</AnnualSales><AnnualRevenue>300000</AnnualRevenue><BankName>International Security</BankName><BusinessType>OS</BusinessType><YearOpened>1987</YearOpened><Specialty>Road</Specialty><SquareFeet>77000</SquareFeet><Brands>4+</Brands><Internet>T1</Internet><NumberEmployees>80</NumberEmployees></StoreSurvey>",
         "2e909f37-9d27-4090-b40f-148b648b0abf",
         "2014-09-12"
        ],
        [
         890,
         "Expert Sports Store",
         275,
         "<StoreSurvey xmlns=\"http://schemas.microsoft.com/sqlserver/2004/07/adventure-works/StoreSurvey\"><AnnualSales>3000000</AnnualSales><AnnualRevenue>300000</AnnualRevenue><BankName>Primary Bank &amp; Reserve</BankName><BusinessType>OS</BusinessType><YearOpened>1992</YearOpened><Specialty>Mountain</Specialty><SquareFeet>77000</SquareFeet><Brands>3</Brands><Internet>T1</Internet><NumberEmployees>81</NumberEmployees></StoreSurvey>",
         "6f2a7d51-bff7-4d84-8066-642554a19d3a",
         "2014-09-12"
        ],
        [
         892,
         "Coho Sports",
         283,
         "<StoreSurvey xmlns=\"http://schemas.microsoft.com/sqlserver/2004/07/adventure-works/StoreSurvey\"><AnnualSales>3000000</AnnualSales><AnnualRevenue>300000</AnnualRevenue><BankName>International Bank</BankName><BusinessType>OS</BusinessType><YearOpened>1984</YearOpened><Specialty>Mountain</Specialty><SquareFeet>75000</SquareFeet><Brands>3</Brands><Internet>T2</Internet><NumberEmployees>82</NumberEmployees></StoreSurvey>",
         "1ddbbf6f-bc85-45df-8798-acb47864bc13",
         "2014-09-12"
        ],
        [
         894,
         "Jumbo Bikes",
         286,
         "<StoreSurvey xmlns=\"http://schemas.microsoft.com/sqlserver/2004/07/adventure-works/StoreSurvey\"><AnnualSales>1500000</AnnualSales><AnnualRevenue>150000</AnnualRevenue><BankName>United Security</BankName><BusinessType>BS</BusinessType><YearOpened>1977</YearOpened><Specialty>Touring</Specialty><SquareFeet>39000</SquareFeet><Brands>2</Brands><Internet>DSL</Internet><NumberEmployees>41</NumberEmployees></StoreSurvey>",
         "63b27f51-853d-44c5-87a7-1f798d0712c4",
         "2014-09-12"
        ],
        [
         896,
         "Quick Delivery Service",
         278,
         "<StoreSurvey xmlns=\"http://schemas.microsoft.com/sqlserver/2004/07/adventure-works/StoreSurvey\"><AnnualSales>1500000</AnnualSales><AnnualRevenue>150000</AnnualRevenue><BankName>International Bank</BankName><BusinessType>BS</BusinessType><YearOpened>1985</YearOpened><Specialty>Mountain</Specialty><SquareFeet>37000</SquareFeet><Brands>4+</Brands><Internet>T3</Internet><NumberEmployees>42</NumberEmployees></StoreSurvey>",
         "5f287eda-9256-45d0-8c10-e8e73bf0af34",
         "2014-09-12"
        ],
        [
         898,
         "Tough and Reliable Parts",
         279,
         "<StoreSurvey xmlns=\"http://schemas.microsoft.com/sqlserver/2004/07/adventure-works/StoreSurvey\"><AnnualSales>1500000</AnnualSales><AnnualRevenue>150000</AnnualRevenue><BankName>Primary Bank &amp; Reserve</BankName><BusinessType>BS</BusinessType><YearOpened>1980</YearOpened><Specialty>Road</Specialty><SquareFeet>40000</SquareFeet><Brands>3</Brands><Internet>DSL</Internet><NumberEmployees>43</NumberEmployees></StoreSurvey>",
         "5d8fdd67-754e-4233-a726-7c2273e72d9d",
         "2014-09-12"
        ],
        [
         900,
         "Basic Sports Equipment",
         276,
         "<StoreSurvey xmlns=\"http://schemas.microsoft.com/sqlserver/2004/07/adventure-works/StoreSurvey\"><AnnualSales>1500000</AnnualSales><AnnualRevenue>150000</AnnualRevenue><BankName>International Security</BankName><BusinessType>BS</BusinessType><YearOpened>1988</YearOpened><Specialty>Mountain</Specialty><SquareFeet>38000</SquareFeet><Brands>3</Brands><Internet>DSL</Internet><NumberEmployees>44</NumberEmployees></StoreSurvey>",
         "f848fdfb-b867-4628-b5d9-1df6137103e1",
         "2014-09-12"
        ],
        [
         902,
         "Cash & Carry Bikes",
         277,
         "<StoreSurvey xmlns=\"http://schemas.microsoft.com/sqlserver/2004/07/adventure-works/StoreSurvey\"><AnnualSales>1500000</AnnualSales><AnnualRevenue>150000</AnnualRevenue><BankName>Guardian Bank</BankName><BusinessType>BS</BusinessType><YearOpened>1983</YearOpened><Specialty>Mountain</Specialty><SquareFeet>39000</SquareFeet><Brands>2</Brands><Internet>DSL</Internet><NumberEmployees>45</NumberEmployees></StoreSurvey>",
         "2c9c648c-3dc1-47df-937d-ee53001ffc34",
         "2014-09-12"
        ],
        [
         904,
         "Convenient Bike Shop",
         275,
         "<StoreSurvey xmlns=\"http://schemas.microsoft.com/sqlserver/2004/07/adventure-works/StoreSurvey\"><AnnualSales>1500000</AnnualSales><AnnualRevenue>150000</AnnualRevenue><BankName>Primary International</BankName><BusinessType>BS</BusinessType><YearOpened>1991</YearOpened><Specialty>Road</Specialty><SquareFeet>38000</SquareFeet><Brands>3</Brands><Internet>T2</Internet><NumberEmployees>46</NumberEmployees></StoreSurvey>",
         "060b2e02-67a3-493e-ac3a-c2a7851498fd",
         "2014-09-12"
        ],
        [
         906,
         "Fitness Bike Accessories",
         286,
         "<StoreSurvey xmlns=\"http://schemas.microsoft.com/sqlserver/2004/07/adventure-works/StoreSurvey\"><AnnualSales>1500000</AnnualSales><AnnualRevenue>150000</AnnualRevenue><BankName>Reserve Security</BankName><BusinessType>BS</BusinessType><YearOpened>1986</YearOpened><Specialty>Touring</Specialty><SquareFeet>39000</SquareFeet><Brands>3</Brands><Internet>T1</Internet><NumberEmployees>47</NumberEmployees></StoreSurvey>",
         "132ef67c-f056-4245-8617-03da1b1da9b4",
         "2014-09-12"
        ],
        [
         908,
         "General Bike Corporation",
         278,
         "<StoreSurvey xmlns=\"http://schemas.microsoft.com/sqlserver/2004/07/adventure-works/StoreSurvey\"><AnnualSales>1500000</AnnualSales><AnnualRevenue>150000</AnnualRevenue><BankName>United Security</BankName><BusinessType>BS</BusinessType><YearOpened>1994</YearOpened><Specialty>Road</Specialty><SquareFeet>38000</SquareFeet><Brands>4+</Brands><Internet>DSL</Internet><NumberEmployees>48</NumberEmployees></StoreSurvey>",
         "990c7fdd-84f7-4910-b140-7befc410dff2",
         "2014-09-12"
        ],
        [
         910,
         "Quitting Business Distributors",
         279,
         "<StoreSurvey xmlns=\"http://schemas.microsoft.com/sqlserver/2004/07/adventure-works/StoreSurvey\"><AnnualSales>1500000</AnnualSales><AnnualRevenue>150000</AnnualRevenue><BankName>International Bank</BankName><BusinessType>BS</BusinessType><YearOpened>1989</YearOpened><Specialty>Touring</Specialty><SquareFeet>40000</SquareFeet><Brands>2</Brands><Internet>ISDN</Internet><NumberEmployees>49</NumberEmployees></StoreSurvey>",
         "f09339a6-110a-421e-9c64-06bc99a96fe9",
         "2014-09-12"
        ],
        [
         912,
         "Retail Cycle Shop",
         276,
         "<StoreSurvey xmlns=\"http://schemas.microsoft.com/sqlserver/2004/07/adventure-works/StoreSurvey\"><AnnualSales>1500000</AnnualSales><AnnualRevenue>150000</AnnualRevenue><BankName>Primary Bank &amp; Reserve</BankName><BusinessType>BS</BusinessType><YearOpened>1997</YearOpened><Specialty>Mountain</Specialty><SquareFeet>38000</SquareFeet><Brands>3</Brands><Internet>T1</Internet><NumberEmployees>46</NumberEmployees></StoreSurvey>",
         "7e6cdd50-3ae0-442b-93ff-92e0d7561391",
         "2014-09-12"
        ],
        [
         914,
         "Social Activities Club",
         277,
         "<StoreSurvey xmlns=\"http://schemas.microsoft.com/sqlserver/2004/07/adventure-works/StoreSurvey\"><AnnualSales>1500000</AnnualSales><AnnualRevenue>150000</AnnualRevenue><BankName>International Security</BankName><BusinessType>BS</BusinessType><YearOpened>1992</YearOpened><Specialty>Road</Specialty><SquareFeet>39000</SquareFeet><Brands>4+</Brands><Internet>T2</Internet><NumberEmployees>43</NumberEmployees></StoreSurvey>",
         "46fab6e6-5fb5-4131-b7cd-1da4d7ffd16f",
         "2014-09-12"
        ],
        [
         916,
         "Blue Bicycle Company",
         275,
         "<StoreSurvey xmlns=\"http://schemas.microsoft.com/sqlserver/2004/07/adventure-works/StoreSurvey\"><AnnualSales>1500000</AnnualSales><AnnualRevenue>150000</AnnualRevenue><BankName>Guardian Bank</BankName><BusinessType>BS</BusinessType><YearOpened>1995</YearOpened><Specialty>Road</Specialty><SquareFeet>36000</SquareFeet><Brands>4+</Brands><Internet>DSL</Internet><NumberEmployees>40</NumberEmployees></StoreSurvey>",
         "edd3982f-5df1-4e35-8deb-cf85796257e4",
         "2014-09-12"
        ],
        [
         918,
         "Expert Cycle Store",
         286,
         "<StoreSurvey xmlns=\"http://schemas.microsoft.com/sqlserver/2004/07/adventure-works/StoreSurvey\"><AnnualSales>1500000</AnnualSales><AnnualRevenue>150000</AnnualRevenue><BankName>Primary International</BankName><BusinessType>BS</BusinessType><YearOpened>1995</YearOpened><Specialty>Touring</Specialty><SquareFeet>38000</SquareFeet><Brands>4+</Brands><Internet>DSL</Internet><NumberEmployees>37</NumberEmployees></StoreSurvey>",
         "111a9af9-d7d1-4685-a091-d815dfabb800",
         "2014-09-12"
        ],
        [
         920,
         "General Riding Supplies",
         278,
         "<StoreSurvey xmlns=\"http://schemas.microsoft.com/sqlserver/2004/07/adventure-works/StoreSurvey\"><AnnualSales>1500000</AnnualSales><AnnualRevenue>150000</AnnualRevenue><BankName>Reserve Security</BankName><BusinessType>BS</BusinessType><YearOpened>1983</YearOpened><Specialty>Mountain</Specialty><SquareFeet>36000</SquareFeet><Brands>3</Brands><Internet>DSL</Internet><NumberEmployees>34</NumberEmployees></StoreSurvey>",
         "b2340407-6a5b-4eca-891a-b59dbeec8049",
         "2014-09-12"
        ],
        [
         922,
         "Parts Shop",
         279,
         "<StoreSurvey xmlns=\"http://schemas.microsoft.com/sqlserver/2004/07/adventure-works/StoreSurvey\"><AnnualSales>1500000</AnnualSales><AnnualRevenue>150000</AnnualRevenue><BankName>United Security</BankName><BusinessType>BS</BusinessType><YearOpened>1998</YearOpened><Specialty>Road</Specialty><SquareFeet>38000</SquareFeet><Brands>3</Brands><Internet>T3</Internet><NumberEmployees>31</NumberEmployees></StoreSurvey>",
         "42964898-0530-4811-9e7b-4da71ac9e21a",
         "2014-09-12"
        ],
        [
         924,
         "Riding Excursions",
         276,
         "<StoreSurvey xmlns=\"http://schemas.microsoft.com/sqlserver/2004/07/adventure-works/StoreSurvey\"><AnnualSales>1000000</AnnualSales><AnnualRevenue>100000</AnnualRevenue><BankName>International Bank</BankName><BusinessType>BS</BusinessType><YearOpened>1971</YearOpened><Specialty>Road</Specialty><SquareFeet>27000</SquareFeet><Brands>4+</Brands><Internet>T1</Internet><NumberEmployees>28</NumberEmployees></StoreSurvey>",
         "642126c4-b893-460a-b8fd-0a041447ecc4",
         "2014-09-12"
        ],
        [
         926,
         "Unique Bikes",
         277,
         "<StoreSurvey xmlns=\"http://schemas.microsoft.com/sqlserver/2004/07/adventure-works/StoreSurvey\"><AnnualSales>1000000</AnnualSales><AnnualRevenue>100000</AnnualRevenue><BankName>Primary Bank &amp; Reserve</BankName><BusinessType>BS</BusinessType><YearOpened>2001</YearOpened><Specialty>Mountain</Specialty><SquareFeet>27000</SquareFeet><Brands>3</Brands><Internet>DSL</Internet><NumberEmployees>25</NumberEmployees></StoreSurvey>",
         "424b0c7d-36b5-4d83-8b83-d346726bc960",
         "2014-09-12"
        ],
        [
         928,
         "Rural Cycle Emporium",
         282,
         "<StoreSurvey xmlns=\"http://schemas.microsoft.com/sqlserver/2004/07/adventure-works/StoreSurvey\"><AnnualSales>800000</AnnualSales><AnnualRevenue>80000</AnnualRevenue><BankName>Primary International</BankName><BusinessType>BM</BusinessType><YearOpened>1988</YearOpened><Specialty>Mountain</Specialty><SquareFeet>21000</SquareFeet><Brands>4+</Brands><Internet>DSL</Internet><NumberEmployees>11</NumberEmployees></StoreSurvey>",
         "59deae0a-7b98-4b25-9431-1be36365167f",
         "2014-09-12"
        ],
        [
         930,
         "Associated Bikes",
         281,
         "<StoreSurvey xmlns=\"http://schemas.microsoft.com/sqlserver/2004/07/adventure-works/StoreSurvey\"><AnnualSales>300000</AnnualSales><AnnualRevenue>30000</AnnualRevenue><BankName>Reserve Security</BankName><BusinessType>BM</BusinessType><YearOpened>1982</YearOpened><Specialty>Mountain</Specialty><SquareFeet>7000</SquareFeet><Brands>3</Brands><Internet>DSL</Internet><NumberEmployees>8</NumberEmployees></StoreSurvey>",
         "22e7c8dd-5feb-4b87-abf2-d87bc0aa4695",
         "2014-09-12"
        ],
        [
         932,
         "Modular Cycle Systems",
         277,
         "<StoreSurvey xmlns=\"http://schemas.microsoft.com/sqlserver/2004/07/adventure-works/StoreSurvey\"><AnnualSales>300000</AnnualSales><AnnualRevenue>30000</AnnualRevenue><BankName>United Security</BankName><BusinessType>BM</BusinessType><YearOpened>1976</YearOpened><Specialty>Road</Specialty><SquareFeet>6000</SquareFeet><Brands>2</Brands><Internet>DSL</Internet><NumberEmployees>5</NumberEmployees></StoreSurvey>",
         "a232dae8-2411-4fdc-bbb2-6eb5f547986b",
         "2014-09-12"
        ],
        [
         934,
         "A Bike Store",
         280,
         "<StoreSurvey xmlns=\"http://schemas.microsoft.com/sqlserver/2004/07/adventure-works/StoreSurvey\"><AnnualSales>300000</AnnualSales><AnnualRevenue>30000</AnnualRevenue><BankName>International Bank</BankName><BusinessType>BM</BusinessType><YearOpened>1970</YearOpened><Specialty>Road</Specialty><SquareFeet>7000</SquareFeet><Brands>AW</Brands><Internet>T1</Internet><NumberEmployees>2</NumberEmployees></StoreSurvey>",
         "80b15702-df20-4df9-876c-2cf1c3978d39",
         "2014-09-12"
        ],
        [
         936,
         "Journey Sporting Goods",
         277,
         "<StoreSurvey xmlns=\"http://schemas.microsoft.com/sqlserver/2004/07/adventure-works/StoreSurvey\"><AnnualSales>800000</AnnualSales><AnnualRevenue>80000</AnnualRevenue><BankName>Primary Bank &amp; Reserve</BankName><BusinessType>BM</BusinessType><YearOpened>1996</YearOpened><Specialty>Mountain</Specialty><SquareFeet>21000</SquareFeet><Brands>3</Brands><Internet>DSL</Internet><NumberEmployees>13</NumberEmployees></StoreSurvey>",
         "f2ac714e-6e3e-4d55-ac9d-ea0ffa700bbb",
         "2014-09-12"
        ],
        [
         938,
         "Two Bike Shops",
         280,
         "<StoreSurvey xmlns=\"http://schemas.microsoft.com/sqlserver/2004/07/adventure-works/StoreSurvey\"><AnnualSales>800000</AnnualSales><AnnualRevenue>80000</AnnualRevenue><BankName>International Security</BankName><BusinessType>BM</BusinessType><YearOpened>1991</YearOpened><Specialty>Road</Specialty><SquareFeet>20000</SquareFeet><Brands>3</Brands><Internet>T1</Internet><NumberEmployees>14</NumberEmployees></StoreSurvey>",
         "3f8d0676-b72e-4bfc-b90e-ceade5b51cde",
         "2014-09-12"
        ],
        [
         940,
         "Cycles Wholesaler & Mfg.",
         289,
         "<StoreSurvey xmlns=\"http://schemas.microsoft.com/sqlserver/2004/07/adventure-works/StoreSurvey\"><AnnualSales>800000</AnnualSales><AnnualRevenue>80000</AnnualRevenue><BankName>Guardian Bank</BankName><BusinessType>BM</BusinessType><YearOpened>1999</YearOpened><Specialty>Touring</Specialty><SquareFeet>21000</SquareFeet><Brands>4+</Brands><Internet>T2</Internet><NumberEmployees>15</NumberEmployees></StoreSurvey>",
         "b634ae55-e758-4184-bd40-6f0eec1ee566",
         "2014-09-12"
        ],
        [
         942,
         "Wheels Inc.",
         290,
         "<StoreSurvey xmlns=\"http://schemas.microsoft.com/sqlserver/2004/07/adventure-works/StoreSurvey\"><AnnualSales>800000</AnnualSales><AnnualRevenue>80000</AnnualRevenue><BankName>Primary International</BankName><BusinessType>BM</BusinessType><YearOpened>1994</YearOpened><Specialty>Road</Specialty><SquareFeet>19000</SquareFeet><Brands>4+</Brands><Internet>T1</Internet><NumberEmployees>16</NumberEmployees></StoreSurvey>",
         "7d98c7c7-c155-482e-a2b2-918964a02a05",
         "2014-09-12"
        ],
        [
         944,
         "Number One Bike Co.",
         289,
         "<StoreSurvey xmlns=\"http://schemas.microsoft.com/sqlserver/2004/07/adventure-works/StoreSurvey\"><AnnualSales>1500000</AnnualSales><AnnualRevenue>150000</AnnualRevenue><BankName>Guardian Bank</BankName><BusinessType>BS</BusinessType><YearOpened>1982</YearOpened><Specialty>Road</Specialty><SquareFeet>40000</SquareFeet><Brands>4+</Brands><Internet>T1</Internet><NumberEmployees>40</NumberEmployees></StoreSurvey>",
         "6f9f5165-4e33-484e-8062-da66d67674b2",
         "2014-09-12"
        ],
        [
         946,
         "Racing Supply Distributors",
         290,
         "<StoreSurvey xmlns=\"http://schemas.microsoft.com/sqlserver/2004/07/adventure-works/StoreSurvey\"><AnnualSales>1500000</AnnualSales><AnnualRevenue>150000</AnnualRevenue><BankName>Primary International</BankName><BusinessType>BS</BusinessType><YearOpened>1977</YearOpened><Specialty>Touring</Specialty><SquareFeet>38000</SquareFeet><Brands>3</Brands><Internet>DSL</Internet><NumberEmployees>41</NumberEmployees></StoreSurvey>",
         "1bcad975-f366-4870-9f27-67f8e0443bfc",
         "2014-09-12"
        ],
        [
         948,
         "Standard Bikes",
         282,
         "<StoreSurvey xmlns=\"http://schemas.microsoft.com/sqlserver/2004/07/adventure-works/StoreSurvey\"><AnnualSales>1500000</AnnualSales><AnnualRevenue>150000</AnnualRevenue><BankName>Reserve Security</BankName><BusinessType>BS</BusinessType><YearOpened>1985</YearOpened><Specialty>Mountain</Specialty><SquareFeet>38000</SquareFeet><Brands>4+</Brands><Internet>DSL</Internet><NumberEmployees>42</NumberEmployees></StoreSurvey>",
         "5652e775-8192-4ed3-9da0-979a1fcb2071",
         "2014-09-12"
        ],
        [
         950,
         "The Bicycle Accessories Company",
         281,
         "<StoreSurvey xmlns=\"http://schemas.microsoft.com/sqlserver/2004/07/adventure-works/StoreSurvey\"><AnnualSales>1500000</AnnualSales><AnnualRevenue>150000</AnnualRevenue><BankName>United Security</BankName><BusinessType>BS</BusinessType><YearOpened>1980</YearOpened><Specialty>Road</Specialty><SquareFeet>37000</SquareFeet><Brands>4+</Brands><Internet>T1</Internet><NumberEmployees>43</NumberEmployees></StoreSurvey>",
         "a91f242f-e7ae-4b00-abc6-037b9e740d9d",
         "2014-09-12"
        ],
        [
         952,
         "Active Systems",
         277,
         "<StoreSurvey xmlns=\"http://schemas.microsoft.com/sqlserver/2004/07/adventure-works/StoreSurvey\"><AnnualSales>1500000</AnnualSales><AnnualRevenue>150000</AnnualRevenue><BankName>International Bank</BankName><BusinessType>BS</BusinessType><YearOpened>1988</YearOpened><Specialty>Road</Specialty><SquareFeet>39000</SquareFeet><Brands>4+</Brands><Internet>T1</Internet><NumberEmployees>44</NumberEmployees></StoreSurvey>",
         "dc414650-f329-4888-a3ea-ad5f4bb3c082",
         "2014-09-12"
        ],
        [
         954,
         "Futuristic Sport Distributors",
         281,
         "<StoreSurvey xmlns=\"http://schemas.microsoft.com/sqlserver/2004/07/adventure-works/StoreSurvey\"><AnnualSales>3000000</AnnualSales><AnnualRevenue>300000</AnnualRevenue><BankName>Primary Bank &amp; Reserve</BankName><BusinessType>OS</BusinessType><YearOpened>1974</YearOpened><Specialty>Road</Specialty><SquareFeet>78000</SquareFeet><Brands>3</Brands><Internet>DSL</Internet><NumberEmployees>94</NumberEmployees></StoreSurvey>",
         "6da7b1d1-17b5-4382-a9d4-fbe204b9c8df",
         "2014-09-12"
        ],
        [
         956,
         "Finer Sales and Service",
         282,
         "<StoreSurvey xmlns=\"http://schemas.microsoft.com/sqlserver/2004/07/adventure-works/StoreSurvey\"><AnnualSales>3000000</AnnualSales><AnnualRevenue>300000</AnnualRevenue><BankName>International Bank</BankName><BusinessType>OS</BusinessType><YearOpened>1980</YearOpened><Specialty>Road</Specialty><SquareFeet>77000</SquareFeet><Brands>4+</Brands><Internet>T2</Internet><NumberEmployees>95</NumberEmployees></StoreSurvey>",
         "00a7e190-d705-4791-aab5-ad218497dd06",
         "2014-09-12"
        ],
        [
         958,
         "Big-Time Bike Store",
         281,
         "<StoreSurvey xmlns=\"http://schemas.microsoft.com/sqlserver/2004/07/adventure-works/StoreSurvey\"><AnnualSales>3000000</AnnualSales><AnnualRevenue>300000</AnnualRevenue><BankName>United Security</BankName><BusinessType>OS</BusinessType><YearOpened>1986</YearOpened><Specialty>Road</Specialty><SquareFeet>80000</SquareFeet><Brands>4+</Brands><Internet>DSL</Internet><NumberEmployees>96</NumberEmployees></StoreSurvey>",
         "059b53a3-3394-433b-b916-97265d5a95c5",
         "2014-09-12"
        ],
        [
         960,
         "The Showroom",
         282,
         "<StoreSurvey xmlns=\"http://schemas.microsoft.com/sqlserver/2004/07/adventure-works/StoreSurvey\"><AnnualSales>3000000</AnnualSales><AnnualRevenue>300000</AnnualRevenue><BankName>Reserve Security</BankName><BusinessType>OS</BusinessType><YearOpened>1992</YearOpened><Specialty>Road</Specialty><SquareFeet>79000</SquareFeet><Brands>4+</Brands><Internet>DSL</Internet><NumberEmployees>97</NumberEmployees></StoreSurvey>",
         "af96a1ef-f280-411e-be2f-063a000dc162",
         "2014-09-12"
        ],
        [
         962,
         "Spa and Exercise Outfitters",
         290,
         "<StoreSurvey xmlns=\"http://schemas.microsoft.com/sqlserver/2004/07/adventure-works/StoreSurvey\"><AnnualSales>3000000</AnnualSales><AnnualRevenue>300000</AnnualRevenue><BankName>Primary International</BankName><BusinessType>OS</BusinessType><YearOpened>1998</YearOpened><Specialty>Mountain</Specialty><SquareFeet>79000</SquareFeet><Brands>4+</Brands><Internet>T1</Internet><NumberEmployees>98</NumberEmployees></StoreSurvey>",
         "6fe30abe-390e-41bb-a85f-82279aa39245",
         "2014-09-12"
        ],
        [
         964,
         "Year-Round Sports",
         283,
         "<StoreSurvey xmlns=\"http://schemas.microsoft.com/sqlserver/2004/07/adventure-works/StoreSurvey\"><AnnualSales>3000000</AnnualSales><AnnualRevenue>300000</AnnualRevenue><BankName>United Security</BankName><BusinessType>OS</BusinessType><YearOpened>1979</YearOpened><Specialty>Mountain</Specialty><SquareFeet>75000</SquareFeet><Brands>4+</Brands><Internet>DSL</Internet><NumberEmployees>66</NumberEmployees></StoreSurvey>",
         "fae5ed78-bcfc-44fb-9d14-1207978fd56d",
         "2014-09-12"
        ],
        [
         966,
         "The New Bike Store",
         276,
         "<StoreSurvey xmlns=\"http://schemas.microsoft.com/sqlserver/2004/07/adventure-works/StoreSurvey\"><AnnualSales>1500000</AnnualSales><AnnualRevenue>150000</AnnualRevenue><BankName>International Bank</BankName><BusinessType>OS</BusinessType><YearOpened>1974</YearOpened><Specialty>Road</Specialty><SquareFeet>37000</SquareFeet><Brands>4+</Brands><Internet>DSL</Internet><NumberEmployees>40</NumberEmployees></StoreSurvey>",
         "6e52ef1b-0c2a-447d-b182-eff74a256e57",
         "2014-09-12"
        ],
        [
         968,
         "Resident Cycle Shop",
         279,
         "<StoreSurvey xmlns=\"http://schemas.microsoft.com/sqlserver/2004/07/adventure-works/StoreSurvey\"><AnnualSales>1500000</AnnualSales><AnnualRevenue>150000</AnnualRevenue><BankName>United Security</BankName><BusinessType>OS</BusinessType><YearOpened>1980</YearOpened><Specialty>Mountain</Specialty><SquareFeet>38000</SquareFeet><Brands>4+</Brands><Internet>DSL</Internet><NumberEmployees>43</NumberEmployees></StoreSurvey>",
         "3d1fabe2-11ee-46eb-a6d2-0dfa11ef96ca",
         "2014-09-12"
        ],
        [
         970,
         "Primary Bike Distributors",
         278,
         "<StoreSurvey xmlns=\"http://schemas.microsoft.com/sqlserver/2004/07/adventure-works/StoreSurvey\"><AnnualSales>1500000</AnnualSales><AnnualRevenue>150000</AnnualRevenue><BankName>Reserve Security</BankName><BusinessType>OS</BusinessType><YearOpened>1986</YearOpened><Specialty>Road</Specialty><SquareFeet>39000</SquareFeet><Brands>4+</Brands><Internet>T1</Internet><NumberEmployees>46</NumberEmployees></StoreSurvey>",
         "1b520861-7d47-4bb2-96ee-4acd2b54ed5e",
         "2014-09-12"
        ],
        [
         972,
         "Major Bicycle Store",
         286,
         "<StoreSurvey xmlns=\"http://schemas.microsoft.com/sqlserver/2004/07/adventure-works/StoreSurvey\"><AnnualSales>1500000</AnnualSales><AnnualRevenue>150000</AnnualRevenue><BankName>Primary International</BankName><BusinessType>OS</BusinessType><YearOpened>1992</YearOpened><Specialty>Touring</Specialty><SquareFeet>41000</SquareFeet><Brands>4+</Brands><Internet>T1</Internet><NumberEmployees>49</NumberEmployees></StoreSurvey>",
         "1589e17f-1b07-411a-8938-6bcec7d3140f",
         "2014-09-12"
        ],
        [
         974,
         "Leather and Vinyl Manufacturing",
         275,
         "<StoreSurvey xmlns=\"http://schemas.microsoft.com/sqlserver/2004/07/adventure-works/StoreSurvey\"><AnnualSales>3000000</AnnualSales><AnnualRevenue>300000</AnnualRevenue><BankName>Guardian Bank</BankName><BusinessType>OS</BusinessType><YearOpened>1998</YearOpened><Specialty>Road</Specialty><SquareFeet>68000</SquareFeet><Brands>2</Brands><Internet>DSL</Internet><NumberEmployees>52</NumberEmployees></StoreSurvey>",
         "5eff72c4-6ea5-4cdc-8d14-017265283388",
         "2014-09-12"
        ],
        [
         976,
         "Genial Bike Associates",
         277,
         "<StoreSurvey xmlns=\"http://schemas.microsoft.com/sqlserver/2004/07/adventure-works/StoreSurvey\"><AnnualSales>3000000</AnnualSales><AnnualRevenue>300000</AnnualRevenue><BankName>International Security</BankName><BusinessType>OS</BusinessType><YearOpened>1999</YearOpened><Specialty>Mountain</Specialty><SquareFeet>70000</SquareFeet><Brands>4+</Brands><Internet>T1</Internet><NumberEmployees>55</NumberEmployees></StoreSurvey>",
         "8bc88e7c-8f45-4b76-83cf-2b3b4748de76",
         "2014-09-12"
        ],
        [
         978,
         "Commercial Sporting Goods",
         281,
         "<StoreSurvey xmlns=\"http://schemas.microsoft.com/sqlserver/2004/07/adventure-works/StoreSurvey\"><AnnualSales>3000000</AnnualSales><AnnualRevenue>300000</AnnualRevenue><BankName>Reserve Security</BankName><BusinessType>OS</BusinessType><YearOpened>1979</YearOpened><Specialty>Mountain</Specialty><SquareFeet>74000</SquareFeet><Brands>3</Brands><Internet>DSL</Internet><NumberEmployees>61</NumberEmployees></StoreSurvey>",
         "835873e3-6c31-4f68-bde5-c9db54ada0f6",
         "2014-09-12"
        ],
        [
         980,
         "Wholesale Parts",
         282,
         "<StoreSurvey xmlns=\"http://schemas.microsoft.com/sqlserver/2004/07/adventure-works/StoreSurvey\"><AnnualSales>3000000</AnnualSales><AnnualRevenue>300000</AnnualRevenue><BankName>Primary International</BankName><BusinessType>OS</BusinessType><YearOpened>1996</YearOpened><Specialty>Road</Specialty><SquareFeet>70000</SquareFeet><Brands>4+</Brands><Internet>DSL</Internet><NumberEmployees>64</NumberEmployees></StoreSurvey>",
         "d32d0b60-2a92-4f48-8b49-817466bd7dbd",
         "2014-09-12"
        ],
        [
         982,
         "Steel Inc.",
         290,
         "<StoreSurvey xmlns=\"http://schemas.microsoft.com/sqlserver/2004/07/adventure-works/StoreSurvey\"><AnnualSales>3000000</AnnualSales><AnnualRevenue>300000</AnnualRevenue><BankName>Guardian Bank</BankName><BusinessType>OS</BusinessType><YearOpened>1991</YearOpened><Specialty>Road</Specialty><SquareFeet>74000</SquareFeet><Brands>4+</Brands><Internet>T1</Internet><NumberEmployees>67</NumberEmployees></StoreSurvey>",
         "5f9911f5-04fb-4288-801b-4af1e9ef19b0",
         "2014-09-12"
        ],
        [
         984,
         "Riding Cycles",
         289,
         "<StoreSurvey xmlns=\"http://schemas.microsoft.com/sqlserver/2004/07/adventure-works/StoreSurvey\"><AnnualSales>3000000</AnnualSales><AnnualRevenue>300000</AnnualRevenue><BankName>International Security</BankName><BusinessType>OS</BusinessType><YearOpened>1993</YearOpened><Specialty>Road</Specialty><SquareFeet>74000</SquareFeet><Brands>3</Brands><Internet>ISDN</Internet><NumberEmployees>70</NumberEmployees></StoreSurvey>",
         "a631b7d3-4ada-4d5c-a985-6dff7a8066be",
         "2014-09-12"
        ],
        [
         986,
         "Metro Manufacturing",
         282,
         "<StoreSurvey xmlns=\"http://schemas.microsoft.com/sqlserver/2004/07/adventure-works/StoreSurvey\"><AnnualSales>1500000</AnnualSales><AnnualRevenue>150000</AnnualRevenue><BankName>International Security</BankName><BusinessType>BS</BusinessType><YearOpened>1977</YearOpened><Specialty>Mountain</Specialty><SquareFeet>36000</SquareFeet><Brands>4+</Brands><Internet>DSL</Internet><NumberEmployees>41</NumberEmployees></StoreSurvey>",
         "682059c4-de55-43f6-8754-1a232df99fa4",
         "2014-09-12"
        ],
        [
         988,
         "Manufacturers Inc",
         279,
         "<StoreSurvey xmlns=\"http://schemas.microsoft.com/sqlserver/2004/07/adventure-works/StoreSurvey\"><AnnualSales>1500000</AnnualSales><AnnualRevenue>150000</AnnualRevenue><BankName>Guardian Bank</BankName><BusinessType>BS</BusinessType><YearOpened>1985</YearOpened><Specialty>Road</Specialty><SquareFeet>39000</SquareFeet><Brands>3</Brands><Internet>DSL</Internet><NumberEmployees>42</NumberEmployees></StoreSurvey>",
         "349c5e18-0492-4ff2-b3b6-ce2c5277d948",
         "2014-09-12"
        ],
        [
         990,
         "Locks Company",
         281,
         "<StoreSurvey xmlns=\"http://schemas.microsoft.com/sqlserver/2004/07/adventure-works/StoreSurvey\"><AnnualSales>1500000</AnnualSales><AnnualRevenue>150000</AnnualRevenue><BankName>Primary International</BankName><BusinessType>BS</BusinessType><YearOpened>1980</YearOpened><Specialty>Touring</Specialty><SquareFeet>40000</SquareFeet><Brands>4+</Brands><Internet>DSL</Internet><NumberEmployees>43</NumberEmployees></StoreSurvey>",
         "167623c3-b88e-4aee-a7d2-fe88d197e6cc",
         "2014-09-12"
        ],
        [
         992,
         "Latest Accessories Sales",
         283,
         "<StoreSurvey xmlns=\"http://schemas.microsoft.com/sqlserver/2004/07/adventure-works/StoreSurvey\"><AnnualSales>1500000</AnnualSales><AnnualRevenue>150000</AnnualRevenue><BankName>Reserve Security</BankName><BusinessType>BS</BusinessType><YearOpened>1988</YearOpened><Specialty>Road</Specialty><SquareFeet>38000</SquareFeet><Brands>4+</Brands><Internet>T1</Internet><NumberEmployees>44</NumberEmployees></StoreSurvey>",
         "d9bf3762-b599-4d99-b065-6944631feba3",
         "2014-09-12"
        ],
        [
         994,
         "Incomparable Bicycle Store",
         275,
         "<StoreSurvey xmlns=\"http://schemas.microsoft.com/sqlserver/2004/07/adventure-works/StoreSurvey\"><AnnualSales>1500000</AnnualSales><AnnualRevenue>150000</AnnualRevenue><BankName>United Security</BankName><BusinessType>BS</BusinessType><YearOpened>1983</YearOpened><Specialty>Touring</Specialty><SquareFeet>41000</SquareFeet><Brands>2</Brands><Internet>DSL</Internet><NumberEmployees>45</NumberEmployees></StoreSurvey>",
         "3385d478-6dc8-4126-b198-868a7ec06851",
         "2014-09-12"
        ],
        [
         996,
         "Hometown Riding Supplies",
         288,
         "<StoreSurvey xmlns=\"http://schemas.microsoft.com/sqlserver/2004/07/adventure-works/StoreSurvey\"><AnnualSales>1500000</AnnualSales><AnnualRevenue>150000</AnnualRevenue><BankName>International Bank</BankName><BusinessType>BS</BusinessType><YearOpened>1991</YearOpened><Specialty>Mountain</Specialty><SquareFeet>38000</SquareFeet><Brands>4+</Brands><Internet>T1</Internet><NumberEmployees>46</NumberEmployees></StoreSurvey>",
         "bba21530-ca9c-498e-bda9-f5b62f8c8525",
         "2014-09-12"
        ],
        [
         998,
         "Greater Bike Store",
         282,
         "<StoreSurvey xmlns=\"http://schemas.microsoft.com/sqlserver/2004/07/adventure-works/StoreSurvey\"><AnnualSales>1500000</AnnualSales><AnnualRevenue>150000</AnnualRevenue><BankName>Primary Bank &amp; Reserve</BankName><BusinessType>BS</BusinessType><YearOpened>1986</YearOpened><Specialty>Mountain</Specialty><SquareFeet>39000</SquareFeet><Brands>3</Brands><Internet>ISDN</Internet><NumberEmployees>47</NumberEmployees></StoreSurvey>",
         "aae55b33-b3db-4f4f-8647-1fa93573a847",
         "2014-09-12"
        ],
        [
         1000,
         "Games and Sport Supply Company",
         279,
         "<StoreSurvey xmlns=\"http://schemas.microsoft.com/sqlserver/2004/07/adventure-works/StoreSurvey\"><AnnualSales>1500000</AnnualSales><AnnualRevenue>150000</AnnualRevenue><BankName>International Security</BankName><BusinessType>BS</BusinessType><YearOpened>1994</YearOpened><Specialty>Touring</Specialty><SquareFeet>42000</SquareFeet><Brands>4+</Brands><Internet>DSL</Internet><NumberEmployees>48</NumberEmployees></StoreSurvey>",
         "15a3600a-31ae-4603-ae82-2199ceead5eb",
         "2014-09-12"
        ],
        [
         1002,
         "Distant Inn",
         281,
         "<StoreSurvey xmlns=\"http://schemas.microsoft.com/sqlserver/2004/07/adventure-works/StoreSurvey\"><AnnualSales>1500000</AnnualSales><AnnualRevenue>150000</AnnualRevenue><BankName>Guardian Bank</BankName><BusinessType>BS</BusinessType><YearOpened>1989</YearOpened><Specialty>Road</Specialty><SquareFeet>38000</SquareFeet><Brands>4+</Brands><Internet>DSL</Internet><NumberEmployees>49</NumberEmployees></StoreSurvey>",
         "4f48780d-71df-4523-9b4e-1c234ea699df",
         "2014-09-12"
        ],
        [
         1004,
         "Finer Mart",
         283,
         "<StoreSurvey xmlns=\"http://schemas.microsoft.com/sqlserver/2004/07/adventure-works/StoreSurvey\"><AnnualSales>1500000</AnnualSales><AnnualRevenue>150000</AnnualRevenue><BankName>Primary International</BankName><BusinessType>BS</BusinessType><YearOpened>1997</YearOpened><Specialty>Touring</Specialty><SquareFeet>38000</SquareFeet><Brands>3</Brands><Internet>DSL</Internet><NumberEmployees>46</NumberEmployees></StoreSurvey>",
         "9de8d05e-04b5-4be1-ac7e-8ac22ec04329",
         "2014-09-12"
        ],
        [
         1006,
         "Economic Parts Supply",
         275,
         "<StoreSurvey xmlns=\"http://schemas.microsoft.com/sqlserver/2004/07/adventure-works/StoreSurvey\"><AnnualSales>1500000</AnnualSales><AnnualRevenue>150000</AnnualRevenue><BankName>Reserve Security</BankName><BusinessType>BS</BusinessType><YearOpened>1992</YearOpened><Specialty>Road</Specialty><SquareFeet>40000</SquareFeet><Brands>4+</Brands><Internet>T1</Internet><NumberEmployees>43</NumberEmployees></StoreSurvey>",
         "66bc65df-a24e-4b78-ab1d-f680c4a75451",
         "2014-09-12"
        ],
        [
         1008,
         "Precision Gears Inc.",
         288,
         "<StoreSurvey xmlns=\"http://schemas.microsoft.com/sqlserver/2004/07/adventure-works/StoreSurvey\"><AnnualSales>1500000</AnnualSales><AnnualRevenue>150000</AnnualRevenue><BankName>United Security</BankName><BusinessType>BS</BusinessType><YearOpened>1995</YearOpened><Specialty>Road</Specialty><SquareFeet>38000</SquareFeet><Brands>3</Brands><Internet>DSL</Internet><NumberEmployees>40</NumberEmployees></StoreSurvey>",
         "fb89ac44-0cf5-45d1-928e-1beeece05abf",
         "2014-09-12"
        ],
        [
         1010,
         "Cross-Country Riding Supplies",
         282,
         "<StoreSurvey xmlns=\"http://schemas.microsoft.com/sqlserver/2004/07/adventure-works/StoreSurvey\"><AnnualSales>1500000</AnnualSales><AnnualRevenue>150000</AnnualRevenue><BankName>International Bank</BankName><BusinessType>BS</BusinessType><YearOpened>1995</YearOpened><Specialty>Mountain</Specialty><SquareFeet>36000</SquareFeet><Brands>3</Brands><Internet>T2</Internet><NumberEmployees>37</NumberEmployees></StoreSurvey>",
         "55b8ce76-1c6a-4181-83cf-786c60cee77f",
         "2014-09-12"
        ],
        [
         1012,
         "Stylish Department Stores",
         279,
         "<StoreSurvey xmlns=\"http://schemas.microsoft.com/sqlserver/2004/07/adventure-works/StoreSurvey\"><AnnualSales>1500000</AnnualSales><AnnualRevenue>150000</AnnualRevenue><BankName>Primary Bank &amp; Reserve</BankName><BusinessType>BS</BusinessType><YearOpened>1983</YearOpened><Specialty>Road</Specialty><SquareFeet>39000</SquareFeet><Brands>3</Brands><Internet>T1</Internet><NumberEmployees>34</NumberEmployees></StoreSurvey>",
         "062a2eb8-9b1d-4fdf-a627-3e45f76d2096",
         "2014-09-12"
        ],
        [
         1014,
         "Bike World",
         281,
         "<StoreSurvey xmlns=\"http://schemas.microsoft.com/sqlserver/2004/07/adventure-works/StoreSurvey\"><AnnualSales>1500000</AnnualSales><AnnualRevenue>150000</AnnualRevenue><BankName>International Security</BankName><BusinessType>BS</BusinessType><YearOpened>1998</YearOpened><Specialty>Mountain</Specialty><SquareFeet>35000</SquareFeet><Brands>4+</Brands><Internet>T1</Internet><NumberEmployees>31</NumberEmployees></StoreSurvey>",
         "17906b3f-7ea8-4b87-a60e-278df291a580",
         "2014-09-12"
        ],
        [
         1016,
         "Central Discount Store",
         283,
         "<StoreSurvey xmlns=\"http://schemas.microsoft.com/sqlserver/2004/07/adventure-works/StoreSurvey\"><AnnualSales>1000000</AnnualSales><AnnualRevenue>100000</AnnualRevenue><BankName>Guardian Bank</BankName><BusinessType>BS</BusinessType><YearOpened>1971</YearOpened><Specialty>Mountain</Specialty><SquareFeet>25000</SquareFeet><Brands>4+</Brands><Internet>T1</Internet><NumberEmployees>28</NumberEmployees></StoreSurvey>",
         "58bf407a-5f67-4228-b4eb-b11c91c1c003",
         "2014-09-12"
        ],
        [
         1018,
         "Trusted Catalog Store",
         275,
         "<StoreSurvey xmlns=\"http://schemas.microsoft.com/sqlserver/2004/07/adventure-works/StoreSurvey\"><AnnualSales>1000000</AnnualSales><AnnualRevenue>100000</AnnualRevenue><BankName>Primary International</BankName><BusinessType>BS</BusinessType><YearOpened>2001</YearOpened><Specialty>Mountain</Specialty><SquareFeet>25000</SquareFeet><Brands>4+</Brands><Internet>T1</Internet><NumberEmployees>25</NumberEmployees></StoreSurvey>",
         "3c3d1d16-defe-412f-b4bf-0935e366dff2",
         "2014-09-12"
        ],
        [
         1020,
         "Bicycle Warehouse Inc.",
         288,
         "<StoreSurvey xmlns=\"http://schemas.microsoft.com/sqlserver/2004/07/adventure-works/StoreSurvey\"><AnnualSales>1000000</AnnualSales><AnnualRevenue>100000</AnnualRevenue><BankName>Reserve Security</BankName><BusinessType>BS</BusinessType><YearOpened>1996</YearOpened><Specialty>Mountain</Specialty><SquareFeet>26000</SquareFeet><Brands>4+</Brands><Internet>ISDN</Internet><NumberEmployees>22</NumberEmployees></StoreSurvey>",
         "adb7b98c-4e19-415d-aeca-d579b328e760",
         "2014-09-12"
        ],
        [
         1022,
         "Sharp Bikes",
         282,
         "<StoreSurvey xmlns=\"http://schemas.microsoft.com/sqlserver/2004/07/adventure-works/StoreSurvey\"><AnnualSales>800000</AnnualSales><AnnualRevenue>80000</AnnualRevenue><BankName>United Security</BankName><BusinessType>BS</BusinessType><YearOpened>1990</YearOpened><Specialty>Mountain</Specialty><SquareFeet>19000</SquareFeet><Brands>AW</Brands><Internet>DSL</Internet><NumberEmployees>19</NumberEmployees></StoreSurvey>",
         "1f1ebdc9-2874-4a7e-be41-1127cbec7870",
         "2014-09-12"
        ],
        [
         1024,
         "Exemplary Cycles",
         279,
         "<StoreSurvey xmlns=\"http://schemas.microsoft.com/sqlserver/2004/07/adventure-works/StoreSurvey\"><AnnualSales>800000</AnnualSales><AnnualRevenue>80000</AnnualRevenue><BankName>International Bank</BankName><BusinessType>BS</BusinessType><YearOpened>1984</YearOpened><Specialty>Touring</Specialty><SquareFeet>20000</SquareFeet><Brands>AW</Brands><Internet>ISDN</Internet><NumberEmployees>16</NumberEmployees></StoreSurvey>",
         "ab2ab66c-9002-4a91-96c9-2e9cb0881e96",
         "2014-09-12"
        ],
        [
         1026,
         "Metropolitan Sports Supply",
         281,
         "<StoreSurvey xmlns=\"http://schemas.microsoft.com/sqlserver/2004/07/adventure-works/StoreSurvey\"><AnnualSales>800000</AnnualSales><AnnualRevenue>80000</AnnualRevenue><BankName>Primary Bank &amp; Reserve</BankName><BusinessType>BS</BusinessType><YearOpened>1978</YearOpened><Specialty>Road</Specialty><SquareFeet>21000</SquareFeet><Brands>4+</Brands><Internet>T2</Internet><NumberEmployees>13</NumberEmployees></StoreSurvey>",
         "058dea7c-58fd-42e5-a199-b19c669e985c",
         "2014-09-12"
        ],
        [
         1028,
         "Progressive Sports",
         283,
         "<StoreSurvey xmlns=\"http://schemas.microsoft.com/sqlserver/2004/07/adventure-works/StoreSurvey\"><AnnualSales>800000</AnnualSales><AnnualRevenue>80000</AnnualRevenue><BankName>International Security</BankName><BusinessType>BS</BusinessType><YearOpened>1972</YearOpened><Specialty>Mountain</Specialty><SquareFeet>18000</SquareFeet><Brands>3</Brands><Internet>T1</Internet><NumberEmployees>10</NumberEmployees></StoreSurvey>",
         "e88b2a4c-72d3-4818-9f94-c59633d66ce8",
         "2014-09-12"
        ],
        [
         1030,
         "Underglaze and Finish Company",
         279,
         "<StoreSurvey xmlns=\"http://schemas.microsoft.com/sqlserver/2004/07/adventure-works/StoreSurvey\"><AnnualSales>800000</AnnualSales><AnnualRevenue>80000</AnnualRevenue><BankName>Reserve Security</BankName><BusinessType>BM</BusinessType><YearOpened>1993</YearOpened><Specialty>Road</Specialty><SquareFeet>18000</SquareFeet><Brands>AW</Brands><Internet>T1</Internet><NumberEmployees>11</NumberEmployees></StoreSurvey>",
         "4008c49c-584e-432f-82e9-f224ab5772f1",
         "2014-09-12"
        ],
        [
         1032,
         "Brakes and Gears",
         276,
         "<StoreSurvey xmlns=\"http://schemas.microsoft.com/sqlserver/2004/07/adventure-works/StoreSurvey\"><AnnualSales>800000</AnnualSales><AnnualRevenue>80000</AnnualRevenue><BankName>United Security</BankName><BusinessType>BM</BusinessType><YearOpened>1988</YearOpened><Specialty>Mountain</Specialty><SquareFeet>18000</SquareFeet><Brands>AW</Brands><Internet>DSL</Internet><NumberEmployees>12</NumberEmployees></StoreSurvey>",
         "5e3fd434-3d79-4ecd-ab34-af321ee2cfe7",
         "2014-09-12"
        ],
        [
         1034,
         "The Accessories Store",
         277,
         "<StoreSurvey xmlns=\"http://schemas.microsoft.com/sqlserver/2004/07/adventure-works/StoreSurvey\"><AnnualSales>800000</AnnualSales><AnnualRevenue>80000</AnnualRevenue><BankName>International Bank</BankName><BusinessType>BM</BusinessType><YearOpened>1996</YearOpened><Specialty>Road</Specialty><SquareFeet>18000</SquareFeet><Brands>2</Brands><Internet>DSL</Internet><NumberEmployees>13</NumberEmployees></StoreSurvey>",
         "69deb656-1602-4d6e-ae60-d50a8b3afffd",
         "2014-09-12"
        ],
        [
         1036,
         "Mountain Bike Store",
         275,
         "<StoreSurvey xmlns=\"http://schemas.microsoft.com/sqlserver/2004/07/adventure-works/StoreSurvey\"><AnnualSales>800000</AnnualSales><AnnualRevenue>80000</AnnualRevenue><BankName>Primary Bank &amp; Reserve</BankName><BusinessType>BM</BusinessType><YearOpened>1991</YearOpened><Specialty>Touring</Specialty><SquareFeet>22000</SquareFeet><Brands>4+</Brands><Internet>DSL</Internet><NumberEmployees>14</NumberEmployees></StoreSurvey>",
         "65b0d467-0550-4230-9eff-d931a786f5c2",
         "2014-09-12"
        ],
        [
         1038,
         "Bike Part Wholesalers",
         286,
         "<StoreSurvey xmlns=\"http://schemas.microsoft.com/sqlserver/2004/07/adventure-works/StoreSurvey\"><AnnualSales>800000</AnnualSales><AnnualRevenue>80000</AnnualRevenue><BankName>International Security</BankName><BusinessType>BM</BusinessType><YearOpened>1999</YearOpened><Specialty>Touring</Specialty><SquareFeet>21000</SquareFeet><Brands>3</Brands><Internet>T2</Internet><NumberEmployees>15</NumberEmployees></StoreSurvey>",
         "2d5ce5ad-8cfd-41ee-87de-767e09312450",
         "2014-09-12"
        ],
        [
         1040,
         "Family Cycle Store",
         278,
         "<StoreSurvey xmlns=\"http://schemas.microsoft.com/sqlserver/2004/07/adventure-works/StoreSurvey\"><AnnualSales>800000</AnnualSales><AnnualRevenue>80000</AnnualRevenue><BankName>Guardian Bank</BankName><BusinessType>BM</BusinessType><YearOpened>1994</YearOpened><Specialty>Mountain</Specialty><SquareFeet>18000</SquareFeet><Brands>4+</Brands><Internet>DSL</Internet><NumberEmployees>16</NumberEmployees></StoreSurvey>",
         "75a4c312-100c-4f7e-ae2e-cc57ea12f51d",
         "2014-09-12"
        ],
        [
         1042,
         "Popular Bike Lines",
         286,
         "<StoreSurvey xmlns=\"http://schemas.microsoft.com/sqlserver/2004/07/adventure-works/StoreSurvey\"><AnnualSales>800000</AnnualSales><AnnualRevenue>80000</AnnualRevenue><BankName>Primary International</BankName><BusinessType>BM</BusinessType><YearOpened>1987</YearOpened><Specialty>Touring</Specialty><SquareFeet>20000</SquareFeet><Brands>4+</Brands><Internet>T1</Internet><NumberEmployees>17</NumberEmployees></StoreSurvey>",
         "ed883c76-170d-4fb9-a277-295d39d3eaf9",
         "2014-09-12"
        ],
        [
         1044,
         "Superb Sales and Repair",
         278,
         "<StoreSurvey xmlns=\"http://schemas.microsoft.com/sqlserver/2004/07/adventure-works/StoreSurvey\"><AnnualSales>800000</AnnualSales><AnnualRevenue>80000</AnnualRevenue><BankName>Reserve Security</BankName><BusinessType>BM</BusinessType><YearOpened>1997</YearOpened><Specialty>Road</Specialty><SquareFeet>19000</SquareFeet><Brands>3</Brands><Internet>DSL</Internet><NumberEmployees>18</NumberEmployees></StoreSurvey>",
         "82aaf249-d8a7-427c-91e3-c7d2688a9d57",
         "2014-09-12"
        ],
        [
         1046,
         "Better Bike Shop",
         279,
         "<StoreSurvey xmlns=\"http://schemas.microsoft.com/sqlserver/2004/07/adventure-works/StoreSurvey\"><AnnualSales>800000</AnnualSales><AnnualRevenue>80000</AnnualRevenue><BankName>United Security</BankName><BusinessType>BM</BusinessType><YearOpened>1975</YearOpened><Specialty>Mountain</Specialty><SquareFeet>19000</SquareFeet><Brands>4+</Brands><Internet>DSL</Internet><NumberEmployees>19</NumberEmployees></StoreSurvey>",
         "c5516152-8d15-438f-87f3-e29517e462d9",
         "2014-09-12"
        ],
        [
         1048,
         "Countryside Company",
         276,
         "<StoreSurvey xmlns=\"http://schemas.microsoft.com/sqlserver/2004/07/adventure-works/StoreSurvey\"><AnnualSales>1000000</AnnualSales><AnnualRevenue>100000</AnnualRevenue><BankName>International Bank</BankName><BusinessType>BM</BusinessType><YearOpened>2000</YearOpened><Specialty>Mountain</Specialty><SquareFeet>26000</SquareFeet><Brands>2</Brands><Internet>ISDN</Internet><NumberEmployees>20</NumberEmployees></StoreSurvey>",
         "a7c471a1-1176-4335-bc85-7e89523939dd",
         "2014-09-12"
        ],
        [
         1050,
         "First Bike Store",
         277,
         "<StoreSurvey xmlns=\"http://schemas.microsoft.com/sqlserver/2004/07/adventure-works/StoreSurvey\"><AnnualSales>800000</AnnualSales><AnnualRevenue>80000</AnnualRevenue><BankName>Primary Bank &amp; Reserve</BankName><BusinessType>BM</BusinessType><YearOpened>2000</YearOpened><Specialty>Road</Specialty><SquareFeet>21000</SquareFeet><Brands>3</Brands><Internet>DSL</Internet><NumberEmployees>17</NumberEmployees></StoreSurvey>",
         "8967ec04-4782-47a0-bc0c-5fdece06b1b5",
         "2014-09-12"
        ],
        [
         1052,
         "Traditional Department Stores",
         275,
         "<StoreSurvey xmlns=\"http://schemas.microsoft.com/sqlserver/2004/07/adventure-works/StoreSurvey\"><AnnualSales>800000</AnnualSales><AnnualRevenue>80000</AnnualRevenue><BankName>International Security</BankName><BusinessType>BM</BusinessType><YearOpened>1994</YearOpened><Specialty>Mountain</Specialty><SquareFeet>18000</SquareFeet><Brands>2</Brands><Internet>T1</Internet><NumberEmployees>14</NumberEmployees></StoreSurvey>",
         "177c4cfc-f9df-44b9-b78c-dd01fadb28d8",
         "2014-09-12"
        ],
        [
         1054,
         "Eastside Cycle Shop",
         286,
         "<StoreSurvey xmlns=\"http://schemas.microsoft.com/sqlserver/2004/07/adventure-works/StoreSurvey\"><AnnualSales>800000</AnnualSales><AnnualRevenue>80000</AnnualRevenue><BankName>Guardian Bank</BankName><BusinessType>BM</BusinessType><YearOpened>1988</YearOpened><Specialty>Touring</Specialty><SquareFeet>21000</SquareFeet><Brands>2</Brands><Internet>T1</Internet><NumberEmployees>11</NumberEmployees></StoreSurvey>",
         "fe68dff4-1d4e-429e-b384-9c1db41a605e",
         "2014-09-12"
        ],
        [
         1056,
         "General Department Stores",
         278,
         "<StoreSurvey xmlns=\"http://schemas.microsoft.com/sqlserver/2004/07/adventure-works/StoreSurvey\"><AnnualSales>300000</AnnualSales><AnnualRevenue>30000</AnnualRevenue><BankName>Primary International</BankName><BusinessType>BM</BusinessType><YearOpened>1982</YearOpened><Specialty>Mountain</Specialty><SquareFeet>11000</SquareFeet><Brands>3</Brands><Internet>DSL</Internet><NumberEmployees>8</NumberEmployees></StoreSurvey>",
         "1c035fdb-8781-4e4c-9c4e-9cb3ae7b45a9",
         "2014-09-12"
        ],
        [
         1058,
         "Mass Market Bikes",
         286,
         "<StoreSurvey xmlns=\"http://schemas.microsoft.com/sqlserver/2004/07/adventure-works/StoreSurvey\"><AnnualSales>300000</AnnualSales><AnnualRevenue>30000</AnnualRevenue><BankName>Reserve Security</BankName><BusinessType>BM</BusinessType><YearOpened>1976</YearOpened><Specialty>Touring</Specialty><SquareFeet>7000</SquareFeet><Brands>AW</Brands><Internet>DSL</Internet><NumberEmployees>5</NumberEmployees></StoreSurvey>",
         "19e26b49-51b1-4094-ac2f-b325616f2e02",
         "2014-09-12"
        ],
        [
         1060,
         "Operational Manufacturing",
         278,
         "<StoreSurvey xmlns=\"http://schemas.microsoft.com/sqlserver/2004/07/adventure-works/StoreSurvey\"><AnnualSales>300000</AnnualSales><AnnualRevenue>30000</AnnualRevenue><BankName>United Security</BankName><BusinessType>BM</BusinessType><YearOpened>1970</YearOpened><Specialty>Mountain</Specialty><SquareFeet>8000</SquareFeet><Brands>3</Brands><Internet>DSL</Internet><NumberEmployees>2</NumberEmployees></StoreSurvey>",
         "43fce0d5-7a1b-4316-8c1c-58b9acc57fa2",
         "2014-09-12"
        ],
        [
         1062,
         "Online Bike Warehouse",
         282,
         "<StoreSurvey xmlns=\"http://schemas.microsoft.com/sqlserver/2004/07/adventure-works/StoreSurvey\"><AnnualSales>800000</AnnualSales><AnnualRevenue>80000</AnnualRevenue><BankName>Primary International</BankName><BusinessType>BM</BusinessType><YearOpened>1997</YearOpened><Specialty>Road</Specialty><SquareFeet>21000</SquareFeet><Brands>4+</Brands><Internet>ISDN</Internet><NumberEmployees>17</NumberEmployees></StoreSurvey>",
         "4322afff-bfb8-430f-894a-c94b2d2d73fe",
         "2014-09-12"
        ],
        [
         1064,
         "Retread Tire Company",
         279,
         "<StoreSurvey xmlns=\"http://schemas.microsoft.com/sqlserver/2004/07/adventure-works/StoreSurvey\"><AnnualSales>800000</AnnualSales><AnnualRevenue>80000</AnnualRevenue><BankName>Reserve Security</BankName><BusinessType>BM</BusinessType><YearOpened>1975</YearOpened><Specialty>Road</Specialty><SquareFeet>20000</SquareFeet><Brands>2</Brands><Internet>T1</Internet><NumberEmployees>18</NumberEmployees></StoreSurvey>",
         "a6aebd0a-7c1f-4792-bc55-d001fe04b4e1",
         "2014-09-12"
        ],
        [
         1066,
         "Small Bike Shop",
         281,
         "<StoreSurvey xmlns=\"http://schemas.microsoft.com/sqlserver/2004/07/adventure-works/StoreSurvey\"><AnnualSales>800000</AnnualSales><AnnualRevenue>80000</AnnualRevenue><BankName>United Security</BankName><BusinessType>BM</BusinessType><YearOpened>2000</YearOpened><Specialty>Mountain</Specialty><SquareFeet>23000</SquareFeet><Brands>4+</Brands><Internet>T1</Internet><NumberEmployees>19</NumberEmployees></StoreSurvey>",
         "1b5c94c6-7689-4487-9929-ad16b7e19f75",
         "2014-09-12"
        ],
        [
         1068,
         "Superior Hardware Distributors",
         283,
         "<StoreSurvey xmlns=\"http://schemas.microsoft.com/sqlserver/2004/07/adventure-works/StoreSurvey\"><AnnualSales>1000000</AnnualSales><AnnualRevenue>100000</AnnualRevenue><BankName>International Bank</BankName><BusinessType>BM</BusinessType><YearOpened>2000</YearOpened><Specialty>Mountain</Specialty><SquareFeet>25000</SquareFeet><Brands>2</Brands><Internet>T1</Internet><NumberEmployees>20</NumberEmployees></StoreSurvey>",
         "c8c746de-fc58-4c58-abc1-31e1375be48d",
         "2014-09-12"
        ],
        [
         1070,
         "Fitness Sport Boutique",
         275,
         "<StoreSurvey xmlns=\"http://schemas.microsoft.com/sqlserver/2004/07/adventure-works/StoreSurvey\"><AnnualSales>800000</AnnualSales><AnnualRevenue>80000</AnnualRevenue><BankName>Primary Bank &amp; Reserve</BankName><BusinessType>BM</BusinessType><YearOpened>1994</YearOpened><Specialty>Mountain</Specialty><SquareFeet>23000</SquareFeet><Brands>2</Brands><Internet>DSL</Internet><NumberEmployees>18</NumberEmployees></StoreSurvey>",
         "954f80aa-5bd2-41a1-ab34-bb402aac37d9",
         "2014-09-12"
        ],
        [
         1072,
         "Producer Goods Clearinghouse",
         288,
         "<StoreSurvey xmlns=\"http://schemas.microsoft.com/sqlserver/2004/07/adventure-works/StoreSurvey\"><AnnualSales>800000</AnnualSales><AnnualRevenue>80000</AnnualRevenue><BankName>International Security</BankName><BusinessType>BM</BusinessType><YearOpened>1988</YearOpened><Specialty>Road</Specialty><SquareFeet>22000</SquareFeet><Brands>4+</Brands><Internet>T1</Internet><NumberEmployees>16</NumberEmployees></StoreSurvey>",
         "9567e707-7fb8-40b2-a57a-332c6b2e8b1e",
         "2014-09-12"
        ],
        [
         1074,
         "Recreation Systems",
         275,
         "<StoreSurvey xmlns=\"http://schemas.microsoft.com/sqlserver/2004/07/adventure-works/StoreSurvey\"><AnnualSales>800000</AnnualSales><AnnualRevenue>80000</AnnualRevenue><BankName>Guardian Bank</BankName><BusinessType>BM</BusinessType><YearOpened>1982</YearOpened><Specialty>Road</Specialty><SquareFeet>20000</SquareFeet><Brands>4+</Brands><Internet>DSL</Internet><NumberEmployees>14</NumberEmployees></StoreSurvey>",
         "cbd5d92a-3cff-40b0-9214-b0d337be2a75",
         "2014-09-12"
        ],
        [
         1076,
         "Rustic Bike Store",
         288,
         "<StoreSurvey xmlns=\"http://schemas.microsoft.com/sqlserver/2004/07/adventure-works/StoreSurvey\"><AnnualSales>800000</AnnualSales><AnnualRevenue>80000</AnnualRevenue><BankName>Primary International</BankName><BusinessType>BM</BusinessType><YearOpened>1976</YearOpened><Specialty>Touring</Specialty><SquareFeet>19000</SquareFeet><Brands>4+</Brands><Internet>DSL</Internet><NumberEmployees>12</NumberEmployees></StoreSurvey>",
         "04ae6eb5-bea3-419f-96d6-71e6551d1993",
         "2014-09-12"
        ],
        [
         1078,
         "Eastside Parts Shop",
         282,
         "<StoreSurvey xmlns=\"http://schemas.microsoft.com/sqlserver/2004/07/adventure-works/StoreSurvey\"><AnnualSales>800000</AnnualSales><AnnualRevenue>80000</AnnualRevenue><BankName>Reserve Security</BankName><BusinessType>BM</BusinessType><YearOpened>1970</YearOpened><Specialty>Touring</Specialty><SquareFeet>17000</SquareFeet><Brands>AW</Brands><Internet>DSL</Internet><NumberEmployees>10</NumberEmployees></StoreSurvey>",
         "3298c70d-bc74-430a-9549-d292191c3f16",
         "2014-09-12"
        ],
        [
         1080,
         "Exchange Parts Inc.",
         279,
         "<StoreSurvey xmlns=\"http://schemas.microsoft.com/sqlserver/2004/07/adventure-works/StoreSurvey\"><AnnualSales>300000</AnnualSales><AnnualRevenue>30000</AnnualRevenue><BankName>United Security</BankName><BusinessType>BM</BusinessType><YearOpened>1975</YearOpened><Specialty>Touring</Specialty><SquareFeet>9000</SquareFeet><Brands>4+</Brands><Internet>T2</Internet><NumberEmployees>8</NumberEmployees></StoreSurvey>",
         "0d350025-a81c-4aec-a713-e536e2f66ac8",
         "2014-09-12"
        ],
        [
         1082,
         "First Cycle Store",
         281,
         "<StoreSurvey xmlns=\"http://schemas.microsoft.com/sqlserver/2004/07/adventure-works/StoreSurvey\"><AnnualSales>300000</AnnualSales><AnnualRevenue>30000</AnnualRevenue><BankName>International Bank</BankName><BusinessType>BM</BusinessType><YearOpened>1970</YearOpened><Specialty>Road</Specialty><SquareFeet>9000</SquareFeet><Brands>AW</Brands><Internet>T2</Internet><NumberEmployees>6</NumberEmployees></StoreSurvey>",
         "4c5f9b1e-83e9-4067-a5f0-2888bdb08d29",
         "2014-09-12"
        ],
        [
         1084,
         "Running and Cycling Gear",
         283,
         "<StoreSurvey xmlns=\"http://schemas.microsoft.com/sqlserver/2004/07/adventure-works/StoreSurvey\"><AnnualSales>300000</AnnualSales><AnnualRevenue>30000</AnnualRevenue><BankName>Primary Bank &amp; Reserve</BankName><BusinessType>BM</BusinessType><YearOpened>1978</YearOpened><Specialty>Touring</Specialty><SquareFeet>7000</SquareFeet><Brands>3</Brands><Internet>T2</Internet><NumberEmployees>4</NumberEmployees></StoreSurvey>",
         "40de80d3-d91f-43a0-b962-a2bd4fb0c795",
         "2014-09-12"
        ],
        [
         1086,
         "Seventh Bike Store",
         275,
         "<StoreSurvey xmlns=\"http://schemas.microsoft.com/sqlserver/2004/07/adventure-works/StoreSurvey\"><AnnualSales>300000</AnnualSales><AnnualRevenue>30000</AnnualRevenue><BankName>International Security</BankName><BusinessType>BM</BusinessType><YearOpened>1973</YearOpened><Specialty>Road</Specialty><SquareFeet>10000</SquareFeet><Brands>AW</Brands><Internet>DSL</Internet><NumberEmployees>2</NumberEmployees></StoreSurvey>",
         "89522a3f-a2dd-4eae-9666-542b61e42324",
         "2014-09-12"
        ],
        [
         1088,
         "Fast Services",
         288,
         "<StoreSurvey xmlns=\"http://schemas.microsoft.com/sqlserver/2004/07/adventure-works/StoreSurvey\"><AnnualSales>300000</AnnualSales><AnnualRevenue>30000</AnnualRevenue><BankName>Guardian Bank</BankName><BusinessType>BM</BusinessType><YearOpened>1981</YearOpened><Specialty>Road</Specialty><SquareFeet>9000</SquareFeet><Brands>3</Brands><Internet>DSL</Internet><NumberEmployees>3</NumberEmployees></StoreSurvey>",
         "cd687ad1-a0a3-4ccf-96b3-649b975417b0",
         "2014-09-12"
        ],
        [
         1090,
         "General Associates",
         279,
         "<StoreSurvey xmlns=\"http://schemas.microsoft.com/sqlserver/2004/07/adventure-works/StoreSurvey\"><AnnualSales>300000</AnnualSales><AnnualRevenue>30000</AnnualRevenue><BankName>Primary International</BankName><BusinessType>BM</BusinessType><YearOpened>1976</YearOpened><Specialty>Road</Specialty><SquareFeet>9000</SquareFeet><Brands>2</Brands><Internet>T1</Internet><NumberEmployees>4</NumberEmployees></StoreSurvey>",
         "97137436-9322-45a0-9eba-19b7f5c4fe6c",
         "2014-09-12"
        ],
        [
         1092,
         "Good Toys",
         276,
         "<StoreSurvey xmlns=\"http://schemas.microsoft.com/sqlserver/2004/07/adventure-works/StoreSurvey\"><AnnualSales>300000</AnnualSales><AnnualRevenue>30000</AnnualRevenue><BankName>Reserve Security</BankName><BusinessType>BM</BusinessType><YearOpened>1984</YearOpened><Specialty>Road</Specialty><SquareFeet>9000</SquareFeet><Brands>3</Brands><Internet>T1</Internet><NumberEmployees>5</NumberEmployees></StoreSurvey>",
         "045e0eb6-756c-48fe-b923-18e892dd964a",
         "2014-09-12"
        ],
        [
         1094,
         "Little Bicycle Supply Shop",
         277,
         "<StoreSurvey xmlns=\"http://schemas.microsoft.com/sqlserver/2004/07/adventure-works/StoreSurvey\"><AnnualSales>300000</AnnualSales><AnnualRevenue>30000</AnnualRevenue><BankName>United Security</BankName><BusinessType>BM</BusinessType><YearOpened>1979</YearOpened><Specialty>Road</Specialty><SquareFeet>11000</SquareFeet><Brands>4+</Brands><Internet>DSL</Internet><NumberEmployees>6</NumberEmployees></StoreSurvey>",
         "35c9af15-98e7-4ccb-9edc-ef873ba38dc6",
         "2014-09-12"
        ],
        [
         1096,
         "Retail Toy Store",
         279,
         "<StoreSurvey xmlns=\"http://schemas.microsoft.com/sqlserver/2004/07/adventure-works/StoreSurvey\"><AnnualSales>300000</AnnualSales><AnnualRevenue>30000</AnnualRevenue><BankName>International Bank</BankName><BusinessType>BM</BusinessType><YearOpened>1987</YearOpened><Specialty>Road</Specialty><SquareFeet>8000</SquareFeet><Brands>4+</Brands><Internet>T1</Internet><NumberEmployees>7</NumberEmployees></StoreSurvey>",
         "01351a38-0674-4191-918d-3c10b5932e8a",
         "2014-09-12"
        ],
        [
         1098,
         "Strenuous Exercise Shop",
         276,
         "<StoreSurvey xmlns=\"http://schemas.microsoft.com/sqlserver/2004/07/adventure-works/StoreSurvey\"><AnnualSales>300000</AnnualSales><AnnualRevenue>30000</AnnualRevenue><BankName>Primary Bank &amp; Reserve</BankName><BusinessType>BM</BusinessType><YearOpened>1982</YearOpened><Specialty>Mountain</Specialty><SquareFeet>7000</SquareFeet><Brands>4+</Brands><Internet>T2</Internet><NumberEmployees>8</NumberEmployees></StoreSurvey>",
         "1489097d-7481-405d-bc93-4274cb5e6a82",
         "2014-09-12"
        ],
        [
         1100,
         "All Seasons Sports Supply",
         277,
         "<StoreSurvey xmlns=\"http://schemas.microsoft.com/sqlserver/2004/07/adventure-works/StoreSurvey\"><AnnualSales>300000</AnnualSales><AnnualRevenue>30000</AnnualRevenue><BankName>International Security</BankName><BusinessType>BM</BusinessType><YearOpened>1990</YearOpened><Specialty>Touring</Specialty><SquareFeet>10000</SquareFeet><Brands>AW</Brands><Internet>DSL</Internet><NumberEmployees>9</NumberEmployees></StoreSurvey>",
         "1ce3c3b7-c33d-4196-95db-4e8fcfda715f",
         "2014-09-12"
        ],
        [
         1102,
         "Leisure Clearing House",
         289,
         "<StoreSurvey xmlns=\"http://schemas.microsoft.com/sqlserver/2004/07/adventure-works/StoreSurvey\"><AnnualSales>800000</AnnualSales><AnnualRevenue>80000</AnnualRevenue><BankName>Guardian Bank</BankName><BusinessType>BM</BusinessType><YearOpened>1970</YearOpened><Specialty>Road</Specialty><SquareFeet>20000</SquareFeet><Brands>2</Brands><Internet>DSL</Internet><NumberEmployees>10</NumberEmployees></StoreSurvey>",
         "ced2ba1e-25a2-43b2-8bbb-c5cc4fb0b9fd",
         "2014-09-12"
        ],
        [
         1104,
         "Outdoor Toy Store",
         290,
         "<StoreSurvey xmlns=\"http://schemas.microsoft.com/sqlserver/2004/07/adventure-works/StoreSurvey\"><AnnualSales>300000</AnnualSales><AnnualRevenue>30000</AnnualRevenue><BankName>Primary International</BankName><BusinessType>BM</BusinessType><YearOpened>1975</YearOpened><Specialty>Mountain</Specialty><SquareFeet>8000</SquareFeet><Brands>3</Brands><Internet>ISDN</Internet><NumberEmployees>8</NumberEmployees></StoreSurvey>",
         "5ed195d0-4019-4b98-a276-cea761d6e933",
         "2014-09-12"
        ],
        [
         1106,
         "The Commissary",
         282,
         "<StoreSurvey xmlns=\"http://schemas.microsoft.com/sqlserver/2004/07/adventure-works/StoreSurvey\"><AnnualSales>300000</AnnualSales><AnnualRevenue>30000</AnnualRevenue><BankName>Reserve Security</BankName><BusinessType>BM</BusinessType><YearOpened>1970</YearOpened><Specialty>Road</Specialty><SquareFeet>9000</SquareFeet><Brands>3</Brands><Internet>DSL</Internet><NumberEmployees>6</NumberEmployees></StoreSurvey>",
         "85ba2ebe-8759-453c-9f7d-8f0b955577be",
         "2014-09-12"
        ],
        [
         1108,
         "Affordable Sports Equipment",
         281,
         "<StoreSurvey xmlns=\"http://schemas.microsoft.com/sqlserver/2004/07/adventure-works/StoreSurvey\"><AnnualSales>300000</AnnualSales><AnnualRevenue>30000</AnnualRevenue><BankName>United Security</BankName><BusinessType>BM</BusinessType><YearOpened>1978</YearOpened><Specialty>Road</Specialty><SquareFeet>8000</SquareFeet><Brands>AW</Brands><Internet>DSL</Internet><NumberEmployees>4</NumberEmployees></StoreSurvey>",
         "09b525a2-191f-4431-b202-835c65ac0ea7",
         "2014-09-12"
        ],
        [
         1110,
         "Local Sales and Rental",
         277,
         "<StoreSurvey xmlns=\"http://schemas.microsoft.com/sqlserver/2004/07/adventure-works/StoreSurvey\"><AnnualSales>300000</AnnualSales><AnnualRevenue>30000</AnnualRevenue><BankName>International Bank</BankName><BusinessType>BM</BusinessType><YearOpened>1973</YearOpened><Specialty>Touring</Specialty><SquareFeet>10000</SquareFeet><Brands>2</Brands><Internet>DSL</Internet><NumberEmployees>2</NumberEmployees></StoreSurvey>",
         "07833647-ba03-4d2a-ae63-92fd82fc6526",
         "2014-09-12"
        ],
        [
         1112,
         "Economy Center",
         282,
         "<StoreSurvey xmlns=\"http://schemas.microsoft.com/sqlserver/2004/07/adventure-works/StoreSurvey\"><AnnualSales>1500000</AnnualSales><AnnualRevenue>150000</AnnualRevenue><BankName>International Bank</BankName><BusinessType>BS</BusinessType><YearOpened>1998</YearOpened><Specialty>Mountain</Specialty><SquareFeet>35000</SquareFeet><Brands>4+</Brands><Internet>T2</Internet><NumberEmployees>31</NumberEmployees></StoreSurvey>",
         "def1343e-ca6a-4577-ace2-3f644e2881ba",
         "2014-09-12"
        ],
        [
         1114,
         "Community Department Stores",
         290,
         "<StoreSurvey xmlns=\"http://schemas.microsoft.com/sqlserver/2004/07/adventure-works/StoreSurvey\"><AnnualSales>1500000</AnnualSales><AnnualRevenue>150000</AnnualRevenue><BankName>United Security</BankName><BusinessType>BS</BusinessType><YearOpened>1983</YearOpened><Specialty>Mountain</Specialty><SquareFeet>36000</SquareFeet><Brands>3</Brands><Internet>T2</Internet><NumberEmployees>34</NumberEmployees></StoreSurvey>",
         "c242eab7-79f4-4e3c-a7db-48ef7f66753e",
         "2014-09-12"
        ],
        [
         1116,
         "Area Sheet Metal Supply",
         289,
         "<StoreSurvey xmlns=\"http://schemas.microsoft.com/sqlserver/2004/07/adventure-works/StoreSurvey\"><AnnualSales>1500000</AnnualSales><AnnualRevenue>150000</AnnualRevenue><BankName>Reserve Security</BankName><BusinessType>BS</BusinessType><YearOpened>1995</YearOpened><Specialty>Road</Specialty><SquareFeet>36000</SquareFeet><Brands>4+</Brands><Internet>T2</Internet><NumberEmployees>37</NumberEmployees></StoreSurvey>",
         "0feca845-86db-4048-911a-1c97ee5e3e2a",
         "2014-09-12"
        ],
        [
         1118,
         "Synthetic Materials Manufacturing",
         280,
         "<StoreSurvey xmlns=\"http://schemas.microsoft.com/sqlserver/2004/07/adventure-works/StoreSurvey\"><AnnualSales>1500000</AnnualSales><AnnualRevenue>150000</AnnualRevenue><BankName>Primary International</BankName><BusinessType>BS</BusinessType><YearOpened>1995</YearOpened><Specialty>Road</Specialty><SquareFeet>39000</SquareFeet><Brands>2</Brands><Internet>DSL</Internet><NumberEmployees>40</NumberEmployees></StoreSurvey>",
         "634a228b-5268-4789-a687-182151058d39",
         "2014-09-12"
        ],
        [
         1120,
         "Rural Sales and Service",
         277,
         "<StoreSurvey xmlns=\"http://schemas.microsoft.com/sqlserver/2004/07/adventure-works/StoreSurvey\"><AnnualSales>1500000</AnnualSales><AnnualRevenue>150000</AnnualRevenue><BankName>Guardian Bank</BankName><BusinessType>BS</BusinessType><YearOpened>1992</YearOpened><Specialty>Road</Specialty><SquareFeet>37000</SquareFeet><Brands>3</Brands><Internet>DSL</Internet><NumberEmployees>43</NumberEmployees></StoreSurvey>",
         "3874be34-898f-424c-babb-e6929d6db0f8",
         "2014-09-12"
        ],
        [
         1122,
         "Tubeless Tire Company",
         289,
         "<StoreSurvey xmlns=\"http://schemas.microsoft.com/sqlserver/2004/07/adventure-works/StoreSurvey\"><AnnualSales>3000000</AnnualSales><AnnualRevenue>300000</AnnualRevenue><BankName>International Bank</BankName><BusinessType>OS</BusinessType><YearOpened>1980</YearOpened><Specialty>Touring</Specialty><SquareFeet>75000</SquareFeet><Brands>4+</Brands><Internet>DSL</Internet><NumberEmployees>89</NumberEmployees></StoreSurvey>",
         "c4183bac-64c2-49cf-a308-fda09f500eef",
         "2014-09-12"
        ],
        [
         1124,
         "Tires and Tubes",
         280,
         "<StoreSurvey xmlns=\"http://schemas.microsoft.com/sqlserver/2004/07/adventure-works/StoreSurvey\"><AnnualSales>3000000</AnnualSales><AnnualRevenue>300000</AnnualRevenue><BankName>United Security</BankName><BusinessType>OS</BusinessType><YearOpened>1972</YearOpened><Specialty>Mountain</Specialty><SquareFeet>79000</SquareFeet><Brands>4+</Brands><Internet>T2</Internet><NumberEmployees>90</NumberEmployees></StoreSurvey>",
         "88ceecee-7ad3-42e7-9f75-0f5a397083ae",
         "2014-09-12"
        ],
        [
         1126,
         "Hardware Components",
         277,
         "<StoreSurvey xmlns=\"http://schemas.microsoft.com/sqlserver/2004/07/adventure-works/StoreSurvey\"><AnnualSales>3000000</AnnualSales><AnnualRevenue>300000</AnnualRevenue><BankName>Reserve Security</BankName><BusinessType>OS</BusinessType><YearOpened>1977</YearOpened><Specialty>Mountain</Specialty><SquareFeet>75000</SquareFeet><Brands>2</Brands><Internet>T1</Internet><NumberEmployees>91</NumberEmployees></StoreSurvey>",
         "f1587a33-543d-4cba-950b-e97e0bfe90df",
         "2014-09-12"
        ],
        [
         1128,
         "Retail Sporting Goods",
         281,
         "<StoreSurvey xmlns=\"http://schemas.microsoft.com/sqlserver/2004/07/adventure-works/StoreSurvey\"><AnnualSales>3000000</AnnualSales><AnnualRevenue>300000</AnnualRevenue><BankName>Primary International</BankName><BusinessType>OS</BusinessType><YearOpened>1987</YearOpened><Specialty>Road</Specialty><SquareFeet>78000</SquareFeet><Brands>4+</Brands><Internet>DSL</Internet><NumberEmployees>92</NumberEmployees></StoreSurvey>",
         "09a0d120-26d6-45ff-87a7-d5d5cf9a0b71",
         "2014-09-12"
        ],
        [
         1130,
         "Efficient Cycling",
         282,
         "<StoreSurvey xmlns=\"http://schemas.microsoft.com/sqlserver/2004/07/adventure-works/StoreSurvey\"><AnnualSales>3000000</AnnualSales><AnnualRevenue>300000</AnnualRevenue><BankName>Guardian Bank</BankName><BusinessType>OS</BusinessType><YearOpened>1974</YearOpened><Specialty>Touring</Specialty><SquareFeet>77000</SquareFeet><Brands>3</Brands><Internet>DSL</Internet><NumberEmployees>93</NumberEmployees></StoreSurvey>",
         "de0aa7ae-3063-40f5-b0c1-9112b1707a99",
         "2014-09-12"
        ],
        [
         1132,
         "General Industries",
         282,
         "<StoreSurvey xmlns=\"http://schemas.microsoft.com/sqlserver/2004/07/adventure-works/StoreSurvey\"><AnnualSales>1500000</AnnualSales><AnnualRevenue>150000</AnnualRevenue><BankName>Primary International</BankName><BusinessType>BS</BusinessType><YearOpened>1994</YearOpened><Specialty>Road</Specialty><SquareFeet>42000</SquareFeet><Brands>4+</Brands><Internet>T1</Internet><NumberEmployees>48</NumberEmployees></StoreSurvey>",
         "b51ee310-8aad-4df2-a5cb-5c452b68bbfe",
         "2014-09-12"
        ],
        [
         1134,
         "Highway Bike Shop",
         281,
         "<StoreSurvey xmlns=\"http://schemas.microsoft.com/sqlserver/2004/07/adventure-works/StoreSurvey\"><AnnualSales>1500000</AnnualSales><AnnualRevenue>150000</AnnualRevenue><BankName>Reserve Security</BankName><BusinessType>BS</BusinessType><YearOpened>1989</YearOpened><Specialty>Road</Specialty><SquareFeet>40000</SquareFeet><Brands>2</Brands><Internet>DSL</Internet><NumberEmployees>49</NumberEmployees></StoreSurvey>",
         "c4e0ba14-3a94-4de8-bfa6-cc77754ebee3",
         "2014-09-12"
        ],
        [
         1136,
         "Rental Bikes",
         277,
         "<StoreSurvey xmlns=\"http://schemas.microsoft.com/sqlserver/2004/07/adventure-works/StoreSurvey\"><AnnualSales>1500000</AnnualSales><AnnualRevenue>150000</AnnualRevenue><BankName>United Security</BankName><BusinessType>BS</BusinessType><YearOpened>1997</YearOpened><Specialty>Road</Specialty><SquareFeet>40000</SquareFeet><Brands>4+</Brands><Internet>T1</Internet><NumberEmployees>46</NumberEmployees></StoreSurvey>",
         "995a09e7-7e7f-4b24-b493-fb70d5b83828",
         "2014-09-12"
        ],
        [
         1138,
         "Roving Sports",
         280,
         "<StoreSurvey xmlns=\"http://schemas.microsoft.com/sqlserver/2004/07/adventure-works/StoreSurvey\"><AnnualSales>1500000</AnnualSales><AnnualRevenue>150000</AnnualRevenue><BankName>International Bank</BankName><BusinessType>BS</BusinessType><YearOpened>1992</YearOpened><Specialty>Road</Specialty><SquareFeet>41000</SquareFeet><Brands>3</Brands><Internet>ISDN</Internet><NumberEmployees>43</NumberEmployees></StoreSurvey>",
         "0e845a5c-66b0-4979-b65c-5887a58614a6",
         "2014-09-12"
        ],
        [
         1140,
         "Express Bike Services",
         289,
         "<StoreSurvey xmlns=\"http://schemas.microsoft.com/sqlserver/2004/07/adventure-works/StoreSurvey\"><AnnualSales>1500000</AnnualSales><AnnualRevenue>150000</AnnualRevenue><BankName>Primary Bank &amp; Reserve</BankName><BusinessType>BS</BusinessType><YearOpened>1995</YearOpened><Specialty>Mountain</Specialty><SquareFeet>38000</SquareFeet><Brands>4+</Brands><Internet>DSL</Internet><NumberEmployees>40</NumberEmployees></StoreSurvey>",
         "eb0f662c-8d87-454e-abad-0cbbb847c171",
         "2014-09-12"
        ],
        [
         1142,
         "Major Amusement Company",
         290,
         "<StoreSurvey xmlns=\"http://schemas.microsoft.com/sqlserver/2004/07/adventure-works/StoreSurvey\"><AnnualSales>1500000</AnnualSales><AnnualRevenue>150000</AnnualRevenue><BankName>International Security</BankName><BusinessType>BS</BusinessType><YearOpened>1995</YearOpened><Specialty>Mountain</Specialty><SquareFeet>36000</SquareFeet><Brands>4+</Brands><Internet>DSL</Internet><NumberEmployees>37</NumberEmployees></StoreSurvey>",
         "a37f70d2-4aa8-4c29-a3f4-00d238dd9628",
         "2014-09-12"
        ],
        [
         1144,
         "Retail Discount Store",
         282,
         "<StoreSurvey xmlns=\"http://schemas.microsoft.com/sqlserver/2004/07/adventure-works/StoreSurvey\"><AnnualSales>1500000</AnnualSales><AnnualRevenue>150000</AnnualRevenue><BankName>Guardian Bank</BankName><BusinessType>BS</BusinessType><YearOpened>1983</YearOpened><Specialty>Road</Specialty><SquareFeet>37000</SquareFeet><Brands>3</Brands><Internet>T1</Internet><NumberEmployees>34</NumberEmployees></StoreSurvey>",
         "841949ed-fe89-4fc6-9e24-605adf88b9cd",
         "2014-09-12"
        ],
        [
         1146,
         "Vale Riding Supplies",
         281,
         "<StoreSurvey xmlns=\"http://schemas.microsoft.com/sqlserver/2004/07/adventure-works/StoreSurvey\"><AnnualSales>1500000</AnnualSales><AnnualRevenue>150000</AnnualRevenue><BankName>Primary International</BankName><BusinessType>BS</BusinessType><YearOpened>1998</YearOpened><Specialty>Touring</Specialty><SquareFeet>37000</SquareFeet><Brands>4+</Brands><Internet>T2</Internet><NumberEmployees>31</NumberEmployees></StoreSurvey>",
         "8b93dba7-7742-42ab-81c1-91ffc3b713cb",
         "2014-09-12"
        ],
        [
         1148,
         "A Great Bicycle Company",
         277,
         "<StoreSurvey xmlns=\"http://schemas.microsoft.com/sqlserver/2004/07/adventure-works/StoreSurvey\"><AnnualSales>1000000</AnnualSales><AnnualRevenue>100000</AnnualRevenue><BankName>Reserve Security</BankName><BusinessType>BS</BusinessType><YearOpened>1971</YearOpened><Specialty>Road</Specialty><SquareFeet>28000</SquareFeet><Brands>3</Brands><Internet>T2</Internet><NumberEmployees>28</NumberEmployees></StoreSurvey>",
         "68fc27ad-2ed1-4f61-a068-0aa3debd9931",
         "2014-09-12"
        ],
        [
         1150,
         "Certified Bicycle Supply",
         280,
         "<StoreSurvey xmlns=\"http://schemas.microsoft.com/sqlserver/2004/07/adventure-works/StoreSurvey\"><AnnualSales>1000000</AnnualSales><AnnualRevenue>100000</AnnualRevenue><BankName>United Security</BankName><BusinessType>BS</BusinessType><YearOpened>2001</YearOpened><Specialty>Road</Specialty><SquareFeet>24000</SquareFeet><Brands>2</Brands><Internet>ISDN</Internet><NumberEmployees>25</NumberEmployees></StoreSurvey>",
         "2656a532-5879-4092-91eb-e7a2d2cd2ee6",
         "2014-09-12"
        ],
        [
         1152,
         "Exceptional Cycle Services",
         289,
         "<StoreSurvey xmlns=\"http://schemas.microsoft.com/sqlserver/2004/07/adventure-works/StoreSurvey\"><AnnualSales>1000000</AnnualSales><AnnualRevenue>100000</AnnualRevenue><BankName>International Bank</BankName><BusinessType>BS</BusinessType><YearOpened>1996</YearOpened><Specialty>Touring</Specialty><SquareFeet>27000</SquareFeet><Brands>4+</Brands><Internet>DSL</Internet><NumberEmployees>22</NumberEmployees></StoreSurvey>",
         "4ccc7825-4c14-4649-b91f-8b5656c708f0",
         "2014-09-12"
        ],
        [
         1154,
         "Instant Cycle Store",
         290,
         "<StoreSurvey xmlns=\"http://schemas.microsoft.com/sqlserver/2004/07/adventure-works/StoreSurvey\"><AnnualSales>800000</AnnualSales><AnnualRevenue>80000</AnnualRevenue><BankName>Primary Bank &amp; Reserve</BankName><BusinessType>BS</BusinessType><YearOpened>1990</YearOpened><Specialty>Road</Specialty><SquareFeet>23000</SquareFeet><Brands>4+</Brands><Internet>T1</Internet><NumberEmployees>19</NumberEmployees></StoreSurvey>",
         "b54785a0-100d-4912-86e8-847f736a6ba5",
         "2014-09-12"
        ],
        [
         1156,
         "Leisure Activities",
         282,
         "<StoreSurvey xmlns=\"http://schemas.microsoft.com/sqlserver/2004/07/adventure-works/StoreSurvey\"><AnnualSales>800000</AnnualSales><AnnualRevenue>80000</AnnualRevenue><BankName>International Security</BankName><BusinessType>BS</BusinessType><YearOpened>1984</YearOpened><Specialty>Mountain</Specialty><SquareFeet>22000</SquareFeet><Brands>4+</Brands><Internet>DSL</Internet><NumberEmployees>16</NumberEmployees></StoreSurvey>",
         "5500dc18-da7b-4107-a9c0-0dd8cc47faad",
         "2014-09-12"
        ],
        [
         1158,
         "Paints and Solvents Company",
         281,
         "<StoreSurvey xmlns=\"http://schemas.microsoft.com/sqlserver/2004/07/adventure-works/StoreSurvey\"><AnnualSales>800000</AnnualSales><AnnualRevenue>80000</AnnualRevenue><BankName>Guardian Bank</BankName><BusinessType>BS</BusinessType><YearOpened>1978</YearOpened><Specialty>Touring</Specialty><SquareFeet>18000</SquareFeet><Brands>3</Brands><Internet>T1</Internet><NumberEmployees>13</NumberEmployees></StoreSurvey>",
         "ad164fae-f4f6-4c0f-852e-889ee6280b41",
         "2014-09-12"
        ],
        [
         1160,
         "West Wind Distributors",
         288,
         "<StoreSurvey xmlns=\"http://schemas.microsoft.com/sqlserver/2004/07/adventure-works/StoreSurvey\"><AnnualSales>1000000</AnnualSales><AnnualRevenue>100000</AnnualRevenue><BankName>International Bank</BankName><BusinessType>BS</BusinessType><YearOpened>2001</YearOpened><Specialty>Touring</Specialty><SquareFeet>27000</SquareFeet><Brands>3</Brands><Internet>T1</Internet><NumberEmployees>29</NumberEmployees></StoreSurvey>",
         "4fe6e559-7339-4043-92d9-635f2f3c00b0",
         "2014-09-12"
        ],
        [
         1162,
         "Bikes for Kids and Adults",
         282,
         "<StoreSurvey xmlns=\"http://schemas.microsoft.com/sqlserver/2004/07/adventure-works/StoreSurvey\"><AnnualSales>1500000</AnnualSales><AnnualRevenue>150000</AnnualRevenue><BankName>Primary Bank &amp; Reserve</BankName><BusinessType>BS</BusinessType><YearOpened>1996</YearOpened><Specialty>Mountain</Specialty><SquareFeet>36000</SquareFeet><Brands>4+</Brands><Internet>DSL</Internet><NumberEmployees>30</NumberEmployees></StoreSurvey>",
         "dc41a5cf-fe94-47a2-8402-c3072a55f1e8",
         "2014-09-12"
        ],
        [
         1164,
         "Consolidated Sales",
         279,
         "<StoreSurvey xmlns=\"http://schemas.microsoft.com/sqlserver/2004/07/adventure-works/StoreSurvey\"><AnnualSales>1500000</AnnualSales><AnnualRevenue>150000</AnnualRevenue><BankName>International Security</BankName><BusinessType>BS</BusinessType><YearOpened>1990</YearOpened><Specialty>Mountain</Specialty><SquareFeet>38000</SquareFeet><Brands>3</Brands><Internet>DSL</Internet><NumberEmployees>31</NumberEmployees></StoreSurvey>",
         "740d720c-e93a-47bd-922b-b6db87ba5452",
         "2014-09-12"
        ],
        [
         1166,
         "Home Town Bike Store",
         278,
         "<StoreSurvey xmlns=\"http://schemas.microsoft.com/sqlserver/2004/07/adventure-works/StoreSurvey\"><AnnualSales>800000</AnnualSales><AnnualRevenue>80000</AnnualRevenue><BankName>United Security</BankName><BusinessType>BM</BusinessType><YearOpened>1988</YearOpened><Specialty>Touring</Specialty><SquareFeet>20000</SquareFeet><Brands>3</Brands><Internet>T2</Internet><NumberEmployees>11</NumberEmployees></StoreSurvey>",
         "af4ac9e0-fabe-4624-89ff-ea136723359a",
         "2014-09-12"
        ],
        [
         1168,
         "Optimal Bikes",
         279,
         "<StoreSurvey xmlns=\"http://schemas.microsoft.com/sqlserver/2004/07/adventure-works/StoreSurvey\"><AnnualSales>300000</AnnualSales><AnnualRevenue>30000</AnnualRevenue><BankName>International Bank</BankName><BusinessType>BM</BusinessType><YearOpened>1982</YearOpened><Specialty>Road</Specialty><SquareFeet>10000</SquareFeet><Brands>2</Brands><Internet>T1</Internet><NumberEmployees>8</NumberEmployees></StoreSurvey>",
         "ee22cf36-5dc3-483e-885a-37ed28508a30",
         "2014-09-12"
        ],
        [
         1170,
         "Sample Bike Store",
         276,
         "<StoreSurvey xmlns=\"http://schemas.microsoft.com/sqlserver/2004/07/adventure-works/StoreSurvey\"><AnnualSales>300000</AnnualSales><AnnualRevenue>30000</AnnualRevenue><BankName>Primary Bank &amp; Reserve</BankName><BusinessType>BM</BusinessType><YearOpened>1976</YearOpened><Specialty>Road</Specialty><SquareFeet>7000</SquareFeet><Brands>AW</Brands><Internet>DSL</Internet><NumberEmployees>5</NumberEmployees></StoreSurvey>",
         "b39bf496-3dd4-47af-9f26-5a7b44349127",
         "2014-09-12"
        ],
        [
         1172,
         "Extras Sporting Goods",
         277,
         "<StoreSurvey xmlns=\"http://schemas.microsoft.com/sqlserver/2004/07/adventure-works/StoreSurvey\"><AnnualSales>300000</AnnualSales><AnnualRevenue>30000</AnnualRevenue><BankName>International Security</BankName><BusinessType>BM</BusinessType><YearOpened>1970</YearOpened><Specialty>Road</Specialty><SquareFeet>7000</SquareFeet><Brands>3</Brands><Internet>DSL</Internet><NumberEmployees>2</NumberEmployees></StoreSurvey>",
         "08c40323-b1c0-41de-978e-497b84513b5a",
         "2014-09-12"
        ],
        [
         1174,
         "Sure & Reliable Sporting Goods",
         283,
         "<StoreSurvey xmlns=\"http://schemas.microsoft.com/sqlserver/2004/07/adventure-works/StoreSurvey\"><AnnualSales>800000</AnnualSales><AnnualRevenue>80000</AnnualRevenue><BankName>International Bank</BankName><BusinessType>BM</BusinessType><YearOpened>1997</YearOpened><Specialty>Road</Specialty><SquareFeet>22000</SquareFeet><Brands>4+</Brands><Internet>DSL</Internet><NumberEmployees>17</NumberEmployees></StoreSurvey>",
         "8a8e549d-0ba5-43d0-adf8-60f9b5fdec9d",
         "2014-09-12"
        ],
        [
         1176,
         "Eleventh Bike Store",
         275,
         "<StoreSurvey xmlns=\"http://schemas.microsoft.com/sqlserver/2004/07/adventure-works/StoreSurvey\"><AnnualSales>800000</AnnualSales><AnnualRevenue>80000</AnnualRevenue><BankName>Primary Bank &amp; Reserve</BankName><BusinessType>BM</BusinessType><YearOpened>1975</YearOpened><Specialty>Road</Specialty><SquareFeet>22000</SquareFeet><Brands>4+</Brands><Internet>DSL</Internet><NumberEmployees>18</NumberEmployees></StoreSurvey>",
         "63164f1d-d845-487d-aecb-74e67a036563",
         "2014-09-12"
        ],
        [
         1178,
         "Enterprise Center",
         288,
         "<StoreSurvey xmlns=\"http://schemas.microsoft.com/sqlserver/2004/07/adventure-works/StoreSurvey\"><AnnualSales>800000</AnnualSales><AnnualRevenue>80000</AnnualRevenue><BankName>International Security</BankName><BusinessType>BM</BusinessType><YearOpened>2000</YearOpened><Specialty>Touring</Specialty><SquareFeet>23000</SquareFeet><Brands>4+</Brands><Internet>T1</Internet><NumberEmployees>19</NumberEmployees></StoreSurvey>",
         "23df9965-0d48-4935-8af6-a3f21d37edfa",
         "2014-09-12"
        ],
        [
         1180,
         "Purple Bicycle Company",
         282,
         "<StoreSurvey xmlns=\"http://schemas.microsoft.com/sqlserver/2004/07/adventure-works/StoreSurvey\"><AnnualSales>1000000</AnnualSales><AnnualRevenue>100000</AnnualRevenue><BankName>Guardian Bank</BankName><BusinessType>BM</BusinessType><YearOpened>2000</YearOpened><Specialty>Road</Specialty><SquareFeet>27000</SquareFeet><Brands>2</Brands><Internet>DSL</Internet><NumberEmployees>20</NumberEmployees></StoreSurvey>",
         "0d9b5235-d3c0-4bf0-a319-f122c2cc1a36",
         "2014-09-12"
        ],
        [
         1182,
         "New and Used Bicycles",
         279,
         "<StoreSurvey xmlns=\"http://schemas.microsoft.com/sqlserver/2004/07/adventure-works/StoreSurvey\"><AnnualSales>800000</AnnualSales><AnnualRevenue>80000</AnnualRevenue><BankName>Primary International</BankName><BusinessType>BM</BusinessType><YearOpened>1994</YearOpened><Specialty>Road</Specialty><SquareFeet>20000</SquareFeet><Brands>AW</Brands><Internet>DSL</Internet><NumberEmployees>18</NumberEmployees></StoreSurvey>",
         "271474f4-52f9-4c6d-ad70-5a894111e739",
         "2014-09-12"
        ],
        [
         1184,
         "Separate Parts Corporation",
         281,
         "<StoreSurvey xmlns=\"http://schemas.microsoft.com/sqlserver/2004/07/adventure-works/StoreSurvey\"><AnnualSales>800000</AnnualSales><AnnualRevenue>80000</AnnualRevenue><BankName>Reserve Security</BankName><BusinessType>BM</BusinessType><YearOpened>1988</YearOpened><Specialty>Road</Specialty><SquareFeet>21000</SquareFeet><Brands>3</Brands><Internet>DSL</Internet><NumberEmployees>16</NumberEmployees></StoreSurvey>",
         "4cf82063-b7cb-4772-9f0c-d3acb230f459",
         "2014-09-12"
        ],
        [
         1186,
         "Basic Bike Company",
         283,
         "<StoreSurvey xmlns=\"http://schemas.microsoft.com/sqlserver/2004/07/adventure-works/StoreSurvey\"><AnnualSales>800000</AnnualSales><AnnualRevenue>80000</AnnualRevenue><BankName>United Security</BankName><BusinessType>BM</BusinessType><YearOpened>1982</YearOpened><Specialty>Road</Specialty><SquareFeet>20000</SquareFeet><Brands>2</Brands><Internet>DSL</Internet><NumberEmployees>14</NumberEmployees></StoreSurvey>",
         "f2c84903-19ed-4549-8b4e-9604c558eab6",
         "2014-09-12"
        ],
        [
         1188,
         "Fabrikam Inc., West",
         275,
         "<StoreSurvey xmlns=\"http://schemas.microsoft.com/sqlserver/2004/07/adventure-works/StoreSurvey\"><AnnualSales>800000</AnnualSales><AnnualRevenue>80000</AnnualRevenue><BankName>International Bank</BankName><BusinessType>BM</BusinessType><YearOpened>1976</YearOpened><Specialty>Mountain</Specialty><SquareFeet>18000</SquareFeet><Brands>4+</Brands><Internet>DSL</Internet><NumberEmployees>12</NumberEmployees></StoreSurvey>",
         "9da146b6-2e9b-4039-83e1-427879f8471e",
         "2014-09-12"
        ],
        [
         1190,
         "Mechanical Brake Manufacturers",
         288,
         "<StoreSurvey xmlns=\"http://schemas.microsoft.com/sqlserver/2004/07/adventure-works/StoreSurvey\"><AnnualSales>800000</AnnualSales><AnnualRevenue>80000</AnnualRevenue><BankName>Primary Bank &amp; Reserve</BankName><BusinessType>BM</BusinessType><YearOpened>1970</YearOpened><Specialty>Touring</Specialty><SquareFeet>21000</SquareFeet><Brands>3</Brands><Internet>T1</Internet><NumberEmployees>10</NumberEmployees></StoreSurvey>",
         "0e715ab8-2eb4-41e4-8b9d-63523c2e4b2d",
         "2014-09-12"
        ],
        [
         1192,
         "Non-Slip Pedal Company",
         282,
         "<StoreSurvey xmlns=\"http://schemas.microsoft.com/sqlserver/2004/07/adventure-works/StoreSurvey\"><AnnualSales>300000</AnnualSales><AnnualRevenue>30000</AnnualRevenue><BankName>International Security</BankName><BusinessType>BM</BusinessType><YearOpened>1975</YearOpened><Specialty>Road</Specialty><SquareFeet>11000</SquareFeet><Brands>AW</Brands><Internet>DSL</Internet><NumberEmployees>8</NumberEmployees></StoreSurvey>",
         "c374851d-b5f0-46c6-bf7b-e3ead1124bd5",
         "2014-09-12"
        ],
        [
         1194,
         "Variety Bike Outlet",
         279,
         "<StoreSurvey xmlns=\"http://schemas.microsoft.com/sqlserver/2004/07/adventure-works/StoreSurvey\"><AnnualSales>300000</AnnualSales><AnnualRevenue>30000</AnnualRevenue><BankName>Guardian Bank</BankName><BusinessType>BM</BusinessType><YearOpened>1970</YearOpened><Specialty>Mountain</Specialty><SquareFeet>9000</SquareFeet><Brands>AW</Brands><Internet>DSL</Internet><NumberEmployees>6</NumberEmployees></StoreSurvey>",
         "2211f0a3-5a94-486c-ac43-8b2a76f40db5",
         "2014-09-12"
        ],
        [
         1196,
         "Weekend Bike Tours",
         281,
         "<StoreSurvey xmlns=\"http://schemas.microsoft.com/sqlserver/2004/07/adventure-works/StoreSurvey\"><AnnualSales>300000</AnnualSales><AnnualRevenue>30000</AnnualRevenue><BankName>Primary International</BankName><BusinessType>BM</BusinessType><YearOpened>1978</YearOpened><Specialty>Road</Specialty><SquareFeet>7000</SquareFeet><Brands>AW</Brands><Internet>DSL</Internet><NumberEmployees>4</NumberEmployees></StoreSurvey>",
         "6252826a-91a5-41e4-9348-ff0afc2b669e",
         "2014-09-12"
        ],
        [
         1198,
         "Fabrikam Inc., East",
         288,
         "<StoreSurvey xmlns=\"http://schemas.microsoft.com/sqlserver/2004/07/adventure-works/StoreSurvey\"><AnnualSales>800000</AnnualSales><AnnualRevenue>80000</AnnualRevenue><BankName>Guardian Bank</BankName><BusinessType>BM</BusinessType><YearOpened>1993</YearOpened><Specialty>Road</Specialty><SquareFeet>20000</SquareFeet><Brands>AW</Brands><Internet>DSL</Internet><NumberEmployees>11</NumberEmployees></StoreSurvey>",
         "43d11293-c15a-4e15-acae-7a1eeab66096",
         "2014-09-12"
        ],
        [
         1200,
         "General Supplies",
         282,
         "<StoreSurvey xmlns=\"http://schemas.microsoft.com/sqlserver/2004/07/adventure-works/StoreSurvey\"><AnnualSales>800000</AnnualSales><AnnualRevenue>80000</AnnualRevenue><BankName>Primary International</BankName><BusinessType>BM</BusinessType><YearOpened>1988</YearOpened><Specialty>Road</Specialty><SquareFeet>21000</SquareFeet><Brands>3</Brands><Internet>T2</Internet><NumberEmployees>12</NumberEmployees></StoreSurvey>",
         "2e8cc24d-2556-40b0-98c5-91cce9d75e1e",
         "2014-09-12"
        ],
        [
         1202,
         "Noiseless Gear Company",
         279,
         "<StoreSurvey xmlns=\"http://schemas.microsoft.com/sqlserver/2004/07/adventure-works/StoreSurvey\"><AnnualSales>800000</AnnualSales><AnnualRevenue>80000</AnnualRevenue><BankName>Reserve Security</BankName><BusinessType>BM</BusinessType><YearOpened>1996</YearOpened><Specialty>Mountain</Specialty><SquareFeet>20000</SquareFeet><Brands>4+</Brands><Internet>DSL</Internet><NumberEmployees>13</NumberEmployees></StoreSurvey>",
         "6036acc8-a7e3-4d9f-8383-31d759b8d4bc",
         "2014-09-12"
        ],
        [
         1204,
         "Racing Toys",
         281,
         "<StoreSurvey xmlns=\"http://schemas.microsoft.com/sqlserver/2004/07/adventure-works/StoreSurvey\"><AnnualSales>800000</AnnualSales><AnnualRevenue>80000</AnnualRevenue><BankName>United Security</BankName><BusinessType>BM</BusinessType><YearOpened>1991</YearOpened><Specialty>Road</Specialty><SquareFeet>18000</SquareFeet><Brands>2</Brands><Internet>DSL</Internet><NumberEmployees>14</NumberEmployees></StoreSurvey>",
         "243a84e3-1c70-4a25-a8dd-bb6c0b0c8072",
         "2014-09-12"
        ],
        [
         1206,
         "Capable Sales and Service",
         280,
         "<StoreSurvey xmlns=\"http://schemas.microsoft.com/sqlserver/2004/07/adventure-works/StoreSurvey\"><AnnualSales>300000</AnnualSales><AnnualRevenue>30000</AnnualRevenue><BankName>Primary Bank &amp; Reserve</BankName><BusinessType>BM</BusinessType><YearOpened>1981</YearOpened><Specialty>Mountain</Specialty><SquareFeet>10000</SquareFeet><Brands>4+</Brands><Internet>DSL</Internet><NumberEmployees>3</NumberEmployees></StoreSurvey>",
         "88d825c6-a877-46cb-b874-3f933ded0920",
         "2014-09-12"
        ],
        [
         1208,
         "Little Sports Center",
         289,
         "<StoreSurvey xmlns=\"http://schemas.microsoft.com/sqlserver/2004/07/adventure-works/StoreSurvey\"><AnnualSales>300000</AnnualSales><AnnualRevenue>30000</AnnualRevenue><BankName>International Security</BankName><BusinessType>BM</BusinessType><YearOpened>1976</YearOpened><Specialty>Touring</Specialty><SquareFeet>10000</SquareFeet><Brands>4+</Brands><Internet>DSL</Internet><NumberEmployees>4</NumberEmployees></StoreSurvey>",
         "de9e508e-4e51-4a6f-8c53-20be18c1dea1",
         "2014-09-12"
        ],
        [
         1210,
         "Pretty Bikes and Toys",
         290,
         "<StoreSurvey xmlns=\"http://schemas.microsoft.com/sqlserver/2004/07/adventure-works/StoreSurvey\"><AnnualSales>300000</AnnualSales><AnnualRevenue>30000</AnnualRevenue><BankName>Guardian Bank</BankName><BusinessType>BM</BusinessType><YearOpened>1984</YearOpened><Specialty>Road</Specialty><SquareFeet>6000</SquareFeet><Brands>3</Brands><Internet>T2</Internet><NumberEmployees>5</NumberEmployees></StoreSurvey>",
         "f0e72f25-41ef-4c1d-ad51-5af894f852b0",
         "2014-09-12"
        ],
        [
         1212,
         "Road Way Sales and Rental",
         282,
         "<StoreSurvey xmlns=\"http://schemas.microsoft.com/sqlserver/2004/07/adventure-works/StoreSurvey\"><AnnualSales>300000</AnnualSales><AnnualRevenue>30000</AnnualRevenue><BankName>Primary International</BankName><BusinessType>BM</BusinessType><YearOpened>1979</YearOpened><Specialty>Mountain</Specialty><SquareFeet>10000</SquareFeet><Brands>3</Brands><Internet>T1</Internet><NumberEmployees>6</NumberEmployees></StoreSurvey>",
         "89ad5863-0a77-448a-b52f-11dc514ce6f1",
         "2014-09-12"
        ],
        [
         1214,
         "Sturdy Toys",
         281,
         "<StoreSurvey xmlns=\"http://schemas.microsoft.com/sqlserver/2004/07/adventure-works/StoreSurvey\"><AnnualSales>300000</AnnualSales><AnnualRevenue>30000</AnnualRevenue><BankName>Reserve Security</BankName><BusinessType>BM</BusinessType><YearOpened>1987</YearOpened><Specialty>Mountain</Specialty><SquareFeet>9000</SquareFeet><Brands>2</Brands><Internet>DSL</Internet><NumberEmployees>7</NumberEmployees></StoreSurvey>",
         "54897e0c-a386-46e8-8065-a9cc052075bd",
         "2014-09-12"
        ],
        [
         1216,
         "Beneficial Exercises and Activities",
         277,
         "<StoreSurvey xmlns=\"http://schemas.microsoft.com/sqlserver/2004/07/adventure-works/StoreSurvey\"><AnnualSales>300000</AnnualSales><AnnualRevenue>30000</AnnualRevenue><BankName>United Security</BankName><BusinessType>BM</BusinessType><YearOpened>1982</YearOpened><Specialty>Road</Specialty><SquareFeet>9000</SquareFeet><Brands>2</Brands><Internet>T1</Internet><NumberEmployees>8</NumberEmployees></StoreSurvey>",
         "8c9fef87-a44e-4ee0-9051-39b7bdc8d552",
         "2014-09-12"
        ],
        [
         1218,
         "Fad Outlet",
         280,
         "<StoreSurvey xmlns=\"http://schemas.microsoft.com/sqlserver/2004/07/adventure-works/StoreSurvey\"><AnnualSales>300000</AnnualSales><AnnualRevenue>30000</AnnualRevenue><BankName>International Bank</BankName><BusinessType>BM</BusinessType><YearOpened>1990</YearOpened><Specialty>Road</Specialty><SquareFeet>8000</SquareFeet><Brands>AW</Brands><Internet>DSL</Internet><NumberEmployees>9</NumberEmployees></StoreSurvey>",
         "fcafe412-052f-4f3e-b8a5-28f71c755019",
         "2014-09-12"
        ],
        [
         1220,
         "Commerce Bicycle Specialists",
         289,
         "<StoreSurvey xmlns=\"http://schemas.microsoft.com/sqlserver/2004/07/adventure-works/StoreSurvey\"><AnnualSales>800000</AnnualSales><AnnualRevenue>80000</AnnualRevenue><BankName>Primary Bank &amp; Reserve</BankName><BusinessType>BM</BusinessType><YearOpened>1985</YearOpened><Specialty>Mountain</Specialty><SquareFeet>19000</SquareFeet><Brands>4+</Brands><Internet>ISDN</Internet><NumberEmployees>10</NumberEmployees></StoreSurvey>",
         "a9d77ea7-baec-46f1-b2dc-5a7ebfad788b",
         "2014-09-12"
        ],
        [
         1222,
         "Township Inn",
         290,
         "<StoreSurvey xmlns=\"http://schemas.microsoft.com/sqlserver/2004/07/adventure-works/StoreSurvey\"><AnnualSales>800000</AnnualSales><AnnualRevenue>80000</AnnualRevenue><BankName>International Security</BankName><BusinessType>BM</BusinessType><YearOpened>1993</YearOpened><Specialty>Road</Specialty><SquareFeet>18000</SquareFeet><Brands>4+</Brands><Internet>ISDN</Internet><NumberEmployees>11</NumberEmployees></StoreSurvey>",
         "01cd6b0b-1c26-4490-bc7b-fa20c8adab95",
         "2014-09-12"
        ],
        [
         1224,
         "Acceptable Sales & Service",
         282,
         "<StoreSurvey xmlns=\"http://schemas.microsoft.com/sqlserver/2004/07/adventure-works/StoreSurvey\"><AnnualSales>800000</AnnualSales><AnnualRevenue>80000</AnnualRevenue><BankName>Guardian Bank</BankName><BusinessType>BM</BusinessType><YearOpened>1988</YearOpened><Specialty>Road</Specialty><SquareFeet>21000</SquareFeet><Brands>AW</Brands><Internet>DSL</Internet><NumberEmployees>12</NumberEmployees></StoreSurvey>",
         "1b4d0a1b-5b60-46af-97b3-03cb5449dc87",
         "2014-09-12"
        ],
        [
         1226,
         "Brown Bicycle Company",
         281,
         "<StoreSurvey xmlns=\"http://schemas.microsoft.com/sqlserver/2004/07/adventure-works/StoreSurvey\"><AnnualSales>800000</AnnualSales><AnnualRevenue>80000</AnnualRevenue><BankName>Primary International</BankName><BusinessType>BM</BusinessType><YearOpened>1996</YearOpened><Specialty>Road</Specialty><SquareFeet>19000</SquareFeet><Brands>2</Brands><Internet>DSL</Internet><NumberEmployees>13</NumberEmployees></StoreSurvey>",
         "a61b8d5f-ddda-4cde-9607-a6d4d446a5f3",
         "2014-09-12"
        ],
        [
         1228,
         "District Mall",
         277,
         "<StoreSurvey xmlns=\"http://schemas.microsoft.com/sqlserver/2004/07/adventure-works/StoreSurvey\"><AnnualSales>800000</AnnualSales><AnnualRevenue>80000</AnnualRevenue><BankName>Reserve Security</BankName><BusinessType>BM</BusinessType><YearOpened>1991</YearOpened><Specialty>Road</Specialty><SquareFeet>19000</SquareFeet><Brands>4+</Brands><Internet>T1</Internet><NumberEmployees>14</NumberEmployees></StoreSurvey>",
         "2a26b47b-13a6-474e-83f9-a1022d05fce3",
         "2014-09-12"
        ],
        [
         1230,
         "Fitness Supplies",
         280,
         "<StoreSurvey xmlns=\"http://schemas.microsoft.com/sqlserver/2004/07/adventure-works/StoreSurvey\"><AnnualSales>800000</AnnualSales><AnnualRevenue>80000</AnnualRevenue><BankName>United Security</BankName><BusinessType>BM</BusinessType><YearOpened>1999</YearOpened><Specialty>Touring</Specialty><SquareFeet>19000</SquareFeet><Brands>4+</Brands><Internet>T2</Internet><NumberEmployees>15</NumberEmployees></StoreSurvey>",
         "fc972e23-ab3e-48b2-8270-6defb1b8a796",
         "2014-09-12"
        ],
        [
         1232,
         "Mail Market",
         289,
         "<StoreSurvey xmlns=\"http://schemas.microsoft.com/sqlserver/2004/07/adventure-works/StoreSurvey\"><AnnualSales>800000</AnnualSales><AnnualRevenue>80000</AnnualRevenue><BankName>International Bank</BankName><BusinessType>BM</BusinessType><YearOpened>1994</YearOpened><Specialty>Touring</Specialty><SquareFeet>19000</SquareFeet><Brands>AW</Brands><Internet>DSL</Internet><NumberEmployees>16</NumberEmployees></StoreSurvey>",
         "b60f9c7d-9e7f-41b0-9589-235dde103ae0",
         "2014-09-12"
        ],
        [
         1234,
         "Spare Parts Co.",
         290,
         "<StoreSurvey xmlns=\"http://schemas.microsoft.com/sqlserver/2004/07/adventure-works/StoreSurvey\"><AnnualSales>800000</AnnualSales><AnnualRevenue>80000</AnnualRevenue><BankName>Primary Bank &amp; Reserve</BankName><BusinessType>BM</BusinessType><YearOpened>1987</YearOpened><Specialty>Mountain</Specialty><SquareFeet>19000</SquareFeet><Brands>4+</Brands><Internet>DSL</Internet><NumberEmployees>17</NumberEmployees></StoreSurvey>",
         "33679919-5665-4ce3-924f-b0df10ee7eb5",
         "2014-09-12"
        ],
        [
         1236,
         "Twelfth Bike Store",
         282,
         "<StoreSurvey xmlns=\"http://schemas.microsoft.com/sqlserver/2004/07/adventure-works/StoreSurvey\"><AnnualSales>800000</AnnualSales><AnnualRevenue>80000</AnnualRevenue><BankName>International Security</BankName><BusinessType>BM</BusinessType><YearOpened>1997</YearOpened><Specialty>Mountain</Specialty><SquareFeet>21000</SquareFeet><Brands>4+</Brands><Internet>T1</Internet><NumberEmployees>18</NumberEmployees></StoreSurvey>",
         "7e41175a-1bbd-4b0e-b2ba-f66c90efa540",
         "2014-09-12"
        ],
        [
         1238,
         "Consolidated Messenger",
         278,
         "<StoreSurvey xmlns=\"http://schemas.microsoft.com/sqlserver/2004/07/adventure-works/StoreSurvey\"><AnnualSales>300000</AnnualSales><AnnualRevenue>30000</AnnualRevenue><BankName>Guardian Bank</BankName><BusinessType>BM</BusinessType><YearOpened>1982</YearOpened><Specialty>Road</Specialty><SquareFeet>7000</SquareFeet><Brands>3</Brands><Internet>DSL</Internet><NumberEmployees>8</NumberEmployees></StoreSurvey>",
         "78b4a61e-0999-49b7-a104-9e2faaa8b92f",
         "2014-09-12"
        ],
        [
         1240,
         "Daring Rides",
         279,
         "<StoreSurvey xmlns=\"http://schemas.microsoft.com/sqlserver/2004/07/adventure-works/StoreSurvey\"><AnnualSales>300000</AnnualSales><AnnualRevenue>30000</AnnualRevenue><BankName>Primary International</BankName><BusinessType>BM</BusinessType><YearOpened>1976</YearOpened><Specialty>Road</Specialty><SquareFeet>10000</SquareFeet><Brands>4+</Brands><Internet>T2</Internet><NumberEmployees>5</NumberEmployees></StoreSurvey>",
         "544095f1-f43c-44d5-b3e2-ecb0a5ecacd4",
         "2014-09-12"
        ],
        [
         1242,
         "Field Trip Store",
         276,
         "<StoreSurvey xmlns=\"http://schemas.microsoft.com/sqlserver/2004/07/adventure-works/StoreSurvey\"><AnnualSales>300000</AnnualSales><AnnualRevenue>30000</AnnualRevenue><BankName>Reserve Security</BankName><BusinessType>BM</BusinessType><YearOpened>1970</YearOpened><Specialty>Mountain</Specialty><SquareFeet>8000</SquareFeet><Brands>3</Brands><Internet>T2</Internet><NumberEmployees>2</NumberEmployees></StoreSurvey>",
         "4dd9789c-dd7c-4c82-9bee-356e105fe143",
         "2014-09-12"
        ],
        [
         1244,
         "Finish and Sealant Products",
         281,
         "<StoreSurvey xmlns=\"http://schemas.microsoft.com/sqlserver/2004/07/adventure-works/StoreSurvey\"><AnnualSales>800000</AnnualSales><AnnualRevenue>80000</AnnualRevenue><BankName>Guardian Bank</BankName><BusinessType>BM</BusinessType><YearOpened>1997</YearOpened><Specialty>Road</Specialty><SquareFeet>22000</SquareFeet><Brands>AW</Brands><Internet>DSL</Internet><NumberEmployees>17</NumberEmployees></StoreSurvey>",
         "e6398b3c-082f-4ca0-9dc8-2aec08797505",
         "2014-09-12"
        ],
        [
         1246,
         "Finer Parts Shop",
         283,
         "<StoreSurvey xmlns=\"http://schemas.microsoft.com/sqlserver/2004/07/adventure-works/StoreSurvey\"><AnnualSales>800000</AnnualSales><AnnualRevenue>80000</AnnualRevenue><BankName>Primary International</BankName><BusinessType>BM</BusinessType><YearOpened>1975</YearOpened><Specialty>Mountain</Specialty><SquareFeet>19000</SquareFeet><Brands>2</Brands><Internet>DSL</Internet><NumberEmployees>18</NumberEmployees></StoreSurvey>",
         "57d0e838-dc59-449e-98a4-b86c6b507dbf",
         "2014-09-12"
        ],
        [
         1248,
         "Glossy Bikes",
         275,
         "<StoreSurvey xmlns=\"http://schemas.microsoft.com/sqlserver/2004/07/adventure-works/StoreSurvey\"><AnnualSales>800000</AnnualSales><AnnualRevenue>80000</AnnualRevenue><BankName>Reserve Security</BankName><BusinessType>BM</BusinessType><YearOpened>2000</YearOpened><Specialty>Touring</Specialty><SquareFeet>22000</SquareFeet><Brands>2</Brands><Internet>DSL</Internet><NumberEmployees>19</NumberEmployees></StoreSurvey>",
         "9a4b9ccb-bb2f-4fad-88de-2e62d19f20c8",
         "2014-09-12"
        ],
        [
         1250,
         "Next Door Cycles",
         288,
         "<StoreSurvey xmlns=\"http://schemas.microsoft.com/sqlserver/2004/07/adventure-works/StoreSurvey\"><AnnualSales>1000000</AnnualSales><AnnualRevenue>100000</AnnualRevenue><BankName>United Security</BankName><BusinessType>BM</BusinessType><YearOpened>2000</YearOpened><Specialty>Touring</Specialty><SquareFeet>27000</SquareFeet><Brands>3</Brands><Internet>T2</Internet><NumberEmployees>20</NumberEmployees></StoreSurvey>",
         "b83544ef-3eac-4e68-b36d-12ab33dcd6b3",
         "2014-09-12"
        ],
        [
         1252,
         "Up-To-Date Sports",
         282,
         "<StoreSurvey xmlns=\"http://schemas.microsoft.com/sqlserver/2004/07/adventure-works/StoreSurvey\"><AnnualSales>1000000</AnnualSales><AnnualRevenue>100000</AnnualRevenue><BankName>International Security</BankName><BusinessType>BM</BusinessType><YearOpened>2000</YearOpened><Specialty>Mountain</Specialty><SquareFeet>26000</SquareFeet><Brands>4+</Brands><Internet>DSL</Internet><NumberEmployees>20</NumberEmployees></StoreSurvey>",
         "dd55a844-7fb1-4dff-a273-843e4a5753e0",
         "2014-09-12"
        ],
        [
         1254,
         "Mountain Bike Center",
         281,
         "<StoreSurvey xmlns=\"http://schemas.microsoft.com/sqlserver/2004/07/adventure-works/StoreSurvey\"><AnnualSales>800000</AnnualSales><AnnualRevenue>80000</AnnualRevenue><BankName>Guardian Bank</BankName><BusinessType>BM</BusinessType><YearOpened>1994</YearOpened><Specialty>Road</Specialty><SquareFeet>20000</SquareFeet><Brands>4+</Brands><Internet>DSL</Internet><NumberEmployees>18</NumberEmployees></StoreSurvey>",
         "d937b41e-b8e0-4c46-91ae-352e6b37c1fc",
         "2014-09-12"
        ],
        [
         1256,
         "Specialty Sports Store",
         277,
         "<StoreSurvey xmlns=\"http://schemas.microsoft.com/sqlserver/2004/07/adventure-works/StoreSurvey\"><AnnualSales>800000</AnnualSales><AnnualRevenue>80000</AnnualRevenue><BankName>Primary International</BankName><BusinessType>BM</BusinessType><YearOpened>1988</YearOpened><Specialty>Mountain</Specialty><SquareFeet>20000</SquareFeet><Brands>AW</Brands><Internet>T2</Internet><NumberEmployees>16</NumberEmployees></StoreSurvey>",
         "5b3d4ad5-0f11-4f5e-9ed4-4f0aa9472762",
         "2014-09-12"
        ],
        [
         1258,
         "Scooters and Bikes Store",
         280,
         "<StoreSurvey xmlns=\"http://schemas.microsoft.com/sqlserver/2004/07/adventure-works/StoreSurvey\"><AnnualSales>800000</AnnualSales><AnnualRevenue>80000</AnnualRevenue><BankName>Reserve Security</BankName><BusinessType>BM</BusinessType><YearOpened>1982</YearOpened><Specialty>Road</Specialty><SquareFeet>21000</SquareFeet><Brands>2</Brands><Internet>DSL</Internet><NumberEmployees>14</NumberEmployees></StoreSurvey>",
         "9240a9e4-b7f9-40f2-9d2a-c01f78c45c3d",
         "2014-09-12"
        ],
        [
         1260,
         "Closest Bicycle Store",
         289,
         "<StoreSurvey xmlns=\"http://schemas.microsoft.com/sqlserver/2004/07/adventure-works/StoreSurvey\"><AnnualSales>800000</AnnualSales><AnnualRevenue>80000</AnnualRevenue><BankName>United Security</BankName><BusinessType>BM</BusinessType><YearOpened>1976</YearOpened><Specialty>Mountain</Specialty><SquareFeet>22000</SquareFeet><Brands>3</Brands><Internet>T1</Internet><NumberEmployees>12</NumberEmployees></StoreSurvey>",
         "67dad033-715a-4a60-abcb-ee68e898dd6a",
         "2014-09-12"
        ],
        [
         1262,
         "Roadway Bicycle Supply",
         290,
         "<StoreSurvey xmlns=\"http://schemas.microsoft.com/sqlserver/2004/07/adventure-works/StoreSurvey\"><AnnualSales>800000</AnnualSales><AnnualRevenue>80000</AnnualRevenue><BankName>International Bank</BankName><BusinessType>BM</BusinessType><YearOpened>1970</YearOpened><Specialty>Touring</Specialty><SquareFeet>19000</SquareFeet><Brands>4+</Brands><Internet>DSL</Internet><NumberEmployees>10</NumberEmployees></StoreSurvey>",
         "17fe3739-c3ab-4d95-ac2b-a55ff2ce3afe",
         "2014-09-12"
        ],
        [
         1264,
         "Refined Department Stores",
         282,
         "<StoreSurvey xmlns=\"http://schemas.microsoft.com/sqlserver/2004/07/adventure-works/StoreSurvey\"><AnnualSales>300000</AnnualSales><AnnualRevenue>30000</AnnualRevenue><BankName>Primary Bank &amp; Reserve</BankName><BusinessType>BM</BusinessType><YearOpened>1975</YearOpened><Specialty>Road</Specialty><SquareFeet>7000</SquareFeet><Brands>3</Brands><Internet>T2</Internet><NumberEmployees>8</NumberEmployees></StoreSurvey>",
         "4ec6c861-04e8-479e-ba0d-17217795631d",
         "2014-09-12"
        ],
        [
         1266,
         "Reasonable Bicycle Sales",
         281,
         "<StoreSurvey xmlns=\"http://schemas.microsoft.com/sqlserver/2004/07/adventure-works/StoreSurvey\"><AnnualSales>300000</AnnualSales><AnnualRevenue>30000</AnnualRevenue><BankName>International Security</BankName><BusinessType>BM</BusinessType><YearOpened>1970</YearOpened><Specialty>Road</Specialty><SquareFeet>10000</SquareFeet><Brands>3</Brands><Internet>DSL</Internet><NumberEmployees>6</NumberEmployees></StoreSurvey>",
         "baa74406-e6a4-430d-8d72-3bce10d8c088",
         "2014-09-12"
        ],
        [
         1268,
         "Out-of-the-Way Hotels",
         277,
         "<StoreSurvey xmlns=\"http://schemas.microsoft.com/sqlserver/2004/07/adventure-works/StoreSurvey\"><AnnualSales>300000</AnnualSales><AnnualRevenue>30000</AnnualRevenue><BankName>Guardian Bank</BankName><BusinessType>BM</BusinessType><YearOpened>1978</YearOpened><Specialty>Mountain</Specialty><SquareFeet>8000</SquareFeet><Brands>3</Brands><Internet>DSL</Internet><NumberEmployees>4</NumberEmployees></StoreSurvey>",
         "4229e3be-ee6a-4692-9147-ac75a788f770",
         "2014-09-12"
        ],
        [
         1270,
         "Outdoor Sports Supply",
         280,
         "<StoreSurvey xmlns=\"http://schemas.microsoft.com/sqlserver/2004/07/adventure-works/StoreSurvey\"><AnnualSales>300000</AnnualSales><AnnualRevenue>30000</AnnualRevenue><BankName>Primary International</BankName><BusinessType>BM</BusinessType><YearOpened>1973</YearOpened><Specialty>Mountain</Specialty><SquareFeet>9000</SquareFeet><Brands>AW</Brands><Internet>DSL</Internet><NumberEmployees>2</NumberEmployees></StoreSurvey>",
         "1a149464-a393-435e-ae32-6049a6ac1275",
         "2014-09-12"
        ],
        [
         1272,
         "Outdoor Aerobic Systems Company",
         289,
         "<StoreSurvey xmlns=\"http://schemas.microsoft.com/sqlserver/2004/07/adventure-works/StoreSurvey\"><AnnualSales>300000</AnnualSales><AnnualRevenue>30000</AnnualRevenue><BankName>Reserve Security</BankName><BusinessType>BM</BusinessType><YearOpened>1981</YearOpened><Specialty>Road</Specialty><SquareFeet>8000</SquareFeet><Brands>AW</Brands><Internet>DSL</Internet><NumberEmployees>3</NumberEmployees></StoreSurvey>",
         "2c9d7f50-6431-4361-9843-0cf1601b23b9",
         "2014-09-12"
        ],
        [
         1274,
         "Self-Contained Cycle Parts Company",
         290,
         "<StoreSurvey xmlns=\"http://schemas.microsoft.com/sqlserver/2004/07/adventure-works/StoreSurvey\"><AnnualSales>300000</AnnualSales><AnnualRevenue>30000</AnnualRevenue><BankName>United Security</BankName><BusinessType>BM</BusinessType><YearOpened>1976</YearOpened><Specialty>Road</Specialty><SquareFeet>7000</SquareFeet><Brands>3</Brands><Internet>DSL</Internet><NumberEmployees>4</NumberEmployees></StoreSurvey>",
         "8e256f9e-fecd-4695-96f0-ea82e830a79f",
         "2014-09-12"
        ],
        [
         1276,
         "Metal Clearing House",
         282,
         "<StoreSurvey xmlns=\"http://schemas.microsoft.com/sqlserver/2004/07/adventure-works/StoreSurvey\"><AnnualSales>300000</AnnualSales><AnnualRevenue>30000</AnnualRevenue><BankName>International Bank</BankName><BusinessType>BM</BusinessType><YearOpened>1984</YearOpened><Specialty>Touring</Specialty><SquareFeet>9000</SquareFeet><Brands>3</Brands><Internet>T2</Internet><NumberEmployees>5</NumberEmployees></StoreSurvey>",
         "ca15bc7f-6499-41bc-9737-f8b289004af6",
         "2014-09-12"
        ],
        [
         1278,
         "Many Bikes Store",
         281,
         "<StoreSurvey xmlns=\"http://schemas.microsoft.com/sqlserver/2004/07/adventure-works/StoreSurvey\"><AnnualSales>300000</AnnualSales><AnnualRevenue>30000</AnnualRevenue><BankName>Primary Bank &amp; Reserve</BankName><BusinessType>BM</BusinessType><YearOpened>1979</YearOpened><Specialty>Mountain</Specialty><SquareFeet>10000</SquareFeet><Brands>3</Brands><Internet>DSL</Internet><NumberEmployees>6</NumberEmployees></StoreSurvey>",
         "c9a6c2a1-c616-455d-b37b-1fc154f568c8",
         "2014-09-12"
        ],
        [
         1280,
         "Largest Bike Store",
         277,
         "<StoreSurvey xmlns=\"http://schemas.microsoft.com/sqlserver/2004/07/adventure-works/StoreSurvey\"><AnnualSales>300000</AnnualSales><AnnualRevenue>30000</AnnualRevenue><BankName>International Security</BankName><BusinessType>BM</BusinessType><YearOpened>1987</YearOpened><Specialty>Road</Specialty><SquareFeet>7000</SquareFeet><Brands>AW</Brands><Internet>T1</Internet><NumberEmployees>7</NumberEmployees></StoreSurvey>",
         "12c44c5f-e2a2-4497-8e32-d2fea261c96b",
         "2014-09-12"
        ],
        [
         1282,
         "Kickstands and Accessories Company",
         280,
         "<StoreSurvey xmlns=\"http://schemas.microsoft.com/sqlserver/2004/07/adventure-works/StoreSurvey\"><AnnualSales>300000</AnnualSales><AnnualRevenue>30000</AnnualRevenue><BankName>Guardian Bank</BankName><BusinessType>BM</BusinessType><YearOpened>1982</YearOpened><Specialty>Touring</Specialty><SquareFeet>10000</SquareFeet><Brands>2</Brands><Internet>T1</Internet><NumberEmployees>8</NumberEmployees></StoreSurvey>",
         "15cf6264-3356-4e35-ba49-de49ce8156db",
         "2014-09-12"
        ],
        [
         1284,
         "Instruments and Parts Company",
         289,
         "<StoreSurvey xmlns=\"http://schemas.microsoft.com/sqlserver/2004/07/adventure-works/StoreSurvey\"><AnnualSales>300000</AnnualSales><AnnualRevenue>30000</AnnualRevenue><BankName>Primary International</BankName><BusinessType>BM</BusinessType><YearOpened>1990</YearOpened><Specialty>Touring</Specialty><SquareFeet>8000</SquareFeet><Brands>3</Brands><Internet>T1</Internet><NumberEmployees>9</NumberEmployees></StoreSurvey>",
         "3f04b809-5be1-4449-9e42-585eef390c2d",
         "2014-09-12"
        ],
        [
         1286,
         "Neighborhood Bicycle Storehouse",
         290,
         "<StoreSurvey xmlns=\"http://schemas.microsoft.com/sqlserver/2004/07/adventure-works/StoreSurvey\"><AnnualSales>800000</AnnualSales><AnnualRevenue>80000</AnnualRevenue><BankName>Reserve Security</BankName><BusinessType>BM</BusinessType><YearOpened>1985</YearOpened><Specialty>Touring</Specialty><SquareFeet>17000</SquareFeet><Brands>3</Brands><Internet>T1</Internet><NumberEmployees>10</NumberEmployees></StoreSurvey>",
         "f4468b06-bc53-4c4d-9524-20ad28f1626e",
         "2014-09-12"
        ],
        [
         1288,
         "Gear-Shift Bikes Limited",
         282,
         "<StoreSurvey xmlns=\"http://schemas.microsoft.com/sqlserver/2004/07/adventure-works/StoreSurvey\"><AnnualSales>800000</AnnualSales><AnnualRevenue>80000</AnnualRevenue><BankName>United Security</BankName><BusinessType>BM</BusinessType><YearOpened>1993</YearOpened><Specialty>Road</Specialty><SquareFeet>21000</SquareFeet><Brands>AW</Brands><Internet>T1</Internet><NumberEmployees>11</NumberEmployees></StoreSurvey>",
         "29188bcd-ed2a-4518-9a83-d36e20043fe7",
         "2014-09-12"
        ],
        [
         1290,
         "Frugal Bike Shop",
         281,
         "<StoreSurvey xmlns=\"http://schemas.microsoft.com/sqlserver/2004/07/adventure-works/StoreSurvey\"><AnnualSales>800000</AnnualSales><AnnualRevenue>80000</AnnualRevenue><BankName>International Bank</BankName><BusinessType>BM</BusinessType><YearOpened>1988</YearOpened><Specialty>Mountain</Specialty><SquareFeet>21000</SquareFeet><Brands>2</Brands><Internet>T1</Internet><NumberEmployees>12</NumberEmployees></StoreSurvey>",
         "c479a10e-fb4d-4c85-b2a3-d12db41d2423",
         "2014-09-12"
        ],
        [
         1292,
         "Family Entertainment Center",
         280,
         "<StoreSurvey xmlns=\"http://schemas.microsoft.com/sqlserver/2004/07/adventure-works/StoreSurvey\"><AnnualSales>3000000</AnnualSales><AnnualRevenue>300000</AnnualRevenue><BankName>Guardian Bank</BankName><BusinessType>OS</BusinessType><YearOpened>1980</YearOpened><Specialty>Touring</Specialty><SquareFeet>75000</SquareFeet><Brands>4+</Brands><Internet>DSL</Internet><NumberEmployees>89</NumberEmployees></StoreSurvey>",
         "785c93ca-4ad3-4427-a790-8437cbb3a3ee",
         "2014-09-12"
        ],
        [
         1294,
         "Go-cart and Bike Specialists",
         277,
         "<StoreSurvey xmlns=\"http://schemas.microsoft.com/sqlserver/2004/07/adventure-works/StoreSurvey\"><AnnualSales>3000000</AnnualSales><AnnualRevenue>300000</AnnualRevenue><BankName>International Security</BankName><BusinessType>OS</BusinessType><YearOpened>1972</YearOpened><Specialty>Mountain</Specialty><SquareFeet>78000</SquareFeet><Brands>4+</Brands><Internet>DSL</Internet><NumberEmployees>90</NumberEmployees></StoreSurvey>",
         "d8a88a07-ac1c-4b24-9a78-75bb4ff04852",
         "2014-09-12"
        ],
        [
         1296,
         "Trailblazing Sports",
         281,
         "<StoreSurvey xmlns=\"http://schemas.microsoft.com/sqlserver/2004/07/adventure-works/StoreSurvey\"><AnnualSales>3000000</AnnualSales><AnnualRevenue>300000</AnnualRevenue><BankName>Primary Bank &amp; Reserve</BankName><BusinessType>OS</BusinessType><YearOpened>1977</YearOpened><Specialty>Mountain</Specialty><SquareFeet>78000</SquareFeet><Brands>3</Brands><Internet>T1</Internet><NumberEmployees>91</NumberEmployees></StoreSurvey>",
         "276c70d2-c4d6-458e-9a49-0036b93bb544",
         "2014-09-12"
        ],
        [
         1298,
         "Racing Partners",
         282,
         "<StoreSurvey xmlns=\"http://schemas.microsoft.com/sqlserver/2004/07/adventure-works/StoreSurvey\"><AnnualSales>3000000</AnnualSales><AnnualRevenue>300000</AnnualRevenue><BankName>International Bank</BankName><BusinessType>OS</BusinessType><YearOpened>1987</YearOpened><Specialty>Mountain</Specialty><SquareFeet>79000</SquareFeet><Brands>4+</Brands><Internet>DSL</Internet><NumberEmployees>92</NumberEmployees></StoreSurvey>",
         "e18d136c-7303-49ed-a534-e54680cace07",
         "2014-09-12"
        ],
        [
         1300,
         "Perfect Toys",
         290,
         "<StoreSurvey xmlns=\"http://schemas.microsoft.com/sqlserver/2004/07/adventure-works/StoreSurvey\"><AnnualSales>3000000</AnnualSales><AnnualRevenue>300000</AnnualRevenue><BankName>United Security</BankName><BusinessType>OS</BusinessType><YearOpened>1974</YearOpened><Specialty>Touring</Specialty><SquareFeet>76000</SquareFeet><Brands>2</Brands><Internet>ISDN</Internet><NumberEmployees>93</NumberEmployees></StoreSurvey>",
         "06e14015-df3d-4a8d-9998-d6c752f05a02",
         "2014-09-12"
        ],
        [
         1302,
         "Exhibition Showroom",
         289,
         "<StoreSurvey xmlns=\"http://schemas.microsoft.com/sqlserver/2004/07/adventure-works/StoreSurvey\"><AnnualSales>3000000</AnnualSales><AnnualRevenue>300000</AnnualRevenue><BankName>Reserve Security</BankName><BusinessType>OS</BusinessType><YearOpened>1974</YearOpened><Specialty>Mountain</Specialty><SquareFeet>77000</SquareFeet><Brands>2</Brands><Internet>DSL</Internet><NumberEmployees>94</NumberEmployees></StoreSurvey>",
         "a7788438-9873-4c7b-98e9-f8bbb6c8490e",
         "2014-09-12"
        ],
        [
         1304,
         "Authorized Bike Sales and Rental",
         280,
         "<StoreSurvey xmlns=\"http://schemas.microsoft.com/sqlserver/2004/07/adventure-works/StoreSurvey\"><AnnualSales>3000000</AnnualSales><AnnualRevenue>300000</AnnualRevenue><BankName>Primary International</BankName><BusinessType>OS</BusinessType><YearOpened>1980</YearOpened><Specialty>Touring</Specialty><SquareFeet>75000</SquareFeet><Brands>3</Brands><Internet>T1</Internet><NumberEmployees>95</NumberEmployees></StoreSurvey>",
         "d1966056-3822-4f4d-a687-14eba601642c",
         "2014-09-12"
        ],
        [
         1306,
         "Two-Seater Bikes",
         277,
         "<StoreSurvey xmlns=\"http://schemas.microsoft.com/sqlserver/2004/07/adventure-works/StoreSurvey\"><AnnualSales>3000000</AnnualSales><AnnualRevenue>300000</AnnualRevenue><BankName>Guardian Bank</BankName><BusinessType>OS</BusinessType><YearOpened>1986</YearOpened><Specialty>Touring</Specialty><SquareFeet>80000</SquareFeet><Brands>2</Brands><Internet>T1</Internet><NumberEmployees>96</NumberEmployees></StoreSurvey>",
         "2d7135a8-73a7-4efe-8b67-87fd720c4b86",
         "2014-09-12"
        ],
        [
         1308,
         "More Bikes!",
         276,
         "<StoreSurvey xmlns=\"http://schemas.microsoft.com/sqlserver/2004/07/adventure-works/StoreSurvey\"><AnnualSales>3000000</AnnualSales><AnnualRevenue>300000</AnnualRevenue><BankName>Primary Bank &amp; Reserve</BankName><BusinessType>OS</BusinessType><YearOpened>1992</YearOpened><Specialty>Road</Specialty><SquareFeet>79000</SquareFeet><Brands>3</Brands><Internet>T2</Internet><NumberEmployees>97</NumberEmployees></StoreSurvey>",
         "f27b7f9d-045a-49b7-88d6-b11a2beda905",
         "2014-09-12"
        ],
        [
         1310,
         "Unified Sports Company",
         279,
         "<StoreSurvey xmlns=\"http://schemas.microsoft.com/sqlserver/2004/07/adventure-works/StoreSurvey\"><AnnualSales>3000000</AnnualSales><AnnualRevenue>300000</AnnualRevenue><BankName>International Bank</BankName><BusinessType>OS</BusinessType><YearOpened>1998</YearOpened><Specialty>Mountain</Specialty><SquareFeet>80000</SquareFeet><Brands>4+</Brands><Internet>ISDN</Internet><NumberEmployees>98</NumberEmployees></StoreSurvey>",
         "5ce11163-c07a-4383-88ad-e0ef5bc0f040",
         "2014-09-12"
        ],
        [
         1312,
         "National Manufacturing",
         278,
         "<StoreSurvey xmlns=\"http://schemas.microsoft.com/sqlserver/2004/07/adventure-works/StoreSurvey\"><AnnualSales>3000000</AnnualSales><AnnualRevenue>300000</AnnualRevenue><BankName>United Security</BankName><BusinessType>OS</BusinessType><YearOpened>1999</YearOpened><Specialty>Road</Specialty><SquareFeet>80000</SquareFeet><Brands>3</Brands><Internet>DSL</Internet><NumberEmployees>99</NumberEmployees></StoreSurvey>",
         "bbbe2820-9426-4cb9-a4ca-76fe78175e99",
         "2014-09-12"
        ],
        [
         1314,
         "Volume Bike Sellers",
         286,
         "<StoreSurvey xmlns=\"http://schemas.microsoft.com/sqlserver/2004/07/adventure-works/StoreSurvey\"><AnnualSales>3000000</AnnualSales><AnnualRevenue>300000</AnnualRevenue><BankName>Reserve Security</BankName><BusinessType>OS</BusinessType><YearOpened>1999</YearOpened><Specialty>Mountain</Specialty><SquareFeet>78000</SquareFeet><Brands>4+</Brands><Internet>DSL</Internet><NumberEmployees>100</NumberEmployees></StoreSurvey>",
         "e7efaebc-d62c-4744-9613-57f093f71db6",
         "2014-09-12"
        ],
        [
         1316,
         "Wheelsets Storehouse",
         275,
         "<StoreSurvey xmlns=\"http://schemas.microsoft.com/sqlserver/2004/07/adventure-works/StoreSurvey\"><AnnualSales>3000000</AnnualSales><AnnualRevenue>300000</AnnualRevenue><BankName>Primary International</BankName><BusinessType>OS</BusinessType><YearOpened>1979</YearOpened><Specialty>Road</Specialty><SquareFeet>73000</SquareFeet><Brands>2</Brands><Internet>T1</Internet><NumberEmployees>66</NumberEmployees></StoreSurvey>",
         "286465b6-93ec-4ee3-b33a-b5ba2c77bde1",
         "2014-09-12"
        ],
        [
         1318,
         "Town Industries",
         277,
         "<StoreSurvey xmlns=\"http://schemas.microsoft.com/sqlserver/2004/07/adventure-works/StoreSurvey\"><AnnualSales>1500000</AnnualSales><AnnualRevenue>150000</AnnualRevenue><BankName>Reserve Security</BankName><BusinessType>OS</BusinessType><YearOpened>1974</YearOpened><Specialty>Touring</Specialty><SquareFeet>38000</SquareFeet><Brands>2</Brands><Internet>DSL</Internet><NumberEmployees>40</NumberEmployees></StoreSurvey>",
         "5642c175-e11f-490a-9590-8d5211692d60",
         "2014-09-12"
        ],
        [
         1320,
         "Security Racks and Locks Wholesalers",
         281,
         "<StoreSurvey xmlns=\"http://schemas.microsoft.com/sqlserver/2004/07/adventure-works/StoreSurvey\"><AnnualSales>1500000</AnnualSales><AnnualRevenue>150000</AnnualRevenue><BankName>Primary International</BankName><BusinessType>OS</BusinessType><YearOpened>1980</YearOpened><Specialty>Mountain</Specialty><SquareFeet>41000</SquareFeet><Brands>4+</Brands><Internet>DSL</Internet><NumberEmployees>43</NumberEmployees></StoreSurvey>",
         "69a30a7b-7b6a-43e1-a2f2-438909377803",
         "2014-09-12"
        ],
        [
         1322,
         "Rapid Bikes",
         282,
         "<StoreSurvey xmlns=\"http://schemas.microsoft.com/sqlserver/2004/07/adventure-works/StoreSurvey\"><AnnualSales>1500000</AnnualSales><AnnualRevenue>150000</AnnualRevenue><BankName>Guardian Bank</BankName><BusinessType>OS</BusinessType><YearOpened>1986</YearOpened><Specialty>Mountain</Specialty><SquareFeet>40000</SquareFeet><Brands>2</Brands><Internet>T2</Internet><NumberEmployees>46</NumberEmployees></StoreSurvey>",
         "476cdcad-c2c1-4036-b4d0-1469a7b29749",
         "2014-09-12"
        ],
        [
         1324,
         "Metro Sports Equipment",
         290,
         "<StoreSurvey xmlns=\"http://schemas.microsoft.com/sqlserver/2004/07/adventure-works/StoreSurvey\"><AnnualSales>1500000</AnnualSales><AnnualRevenue>150000</AnnualRevenue><BankName>International Security</BankName><BusinessType>OS</BusinessType><YearOpened>1992</YearOpened><Specialty>Mountain</Specialty><SquareFeet>41000</SquareFeet><Brands>4+</Brands><Internet>T1</Internet><NumberEmployees>49</NumberEmployees></StoreSurvey>",
         "e522c053-ff26-41cf-8c15-d36b57eb863d",
         "2014-09-12"
        ],
        [
         1326,
         "Nearby Sporting Goods",
         289,
         "<StoreSurvey xmlns=\"http://schemas.microsoft.com/sqlserver/2004/07/adventure-works/StoreSurvey\"><AnnualSales>3000000</AnnualSales><AnnualRevenue>300000</AnnualRevenue><BankName>Primary Bank &amp; Reserve</BankName><BusinessType>OS</BusinessType><YearOpened>1998</YearOpened><Specialty>Road</Specialty><SquareFeet>71000</SquareFeet><Brands>4+</Brands><Internet>DSL</Internet><NumberEmployees>52</NumberEmployees></StoreSurvey>",
         "5b2933ee-ec29-4e35-9b6a-bef23a42d046",
         "2014-09-12"
        ],
        [
         1328,
         "Front Sporting Goods",
         280,
         "<StoreSurvey xmlns=\"http://schemas.microsoft.com/sqlserver/2004/07/adventure-works/StoreSurvey\"><AnnualSales>3000000</AnnualSales><AnnualRevenue>300000</AnnualRevenue><BankName>International Bank</BankName><BusinessType>OS</BusinessType><YearOpened>1999</YearOpened><Specialty>Mountain</Specialty><SquareFeet>70000</SquareFeet><Brands>2</Brands><Internet>DSL</Internet><NumberEmployees>55</NumberEmployees></StoreSurvey>",
         "5aed8117-0923-489c-864b-db7a601daf33",
         "2014-09-12"
        ],
        [
         1330,
         "Elite Bikes",
         277,
         "<StoreSurvey xmlns=\"http://schemas.microsoft.com/sqlserver/2004/07/adventure-works/StoreSurvey\"><AnnualSales>3000000</AnnualSales><AnnualRevenue>300000</AnnualRevenue><BankName>United Security</BankName><BusinessType>OS</BusinessType><YearOpened>1999</YearOpened><Specialty>Road</Specialty><SquareFeet>69000</SquareFeet><Brands>2</Brands><Internet>DSL</Internet><NumberEmployees>58</NumberEmployees></StoreSurvey>",
         "4d2585ec-171b-4aae-a54b-09dedd3a5583",
         "2014-09-12"
        ],
        [
         1332,
         "Catalog Store",
         275,
         "<StoreSurvey xmlns=\"http://schemas.microsoft.com/sqlserver/2004/07/adventure-works/StoreSurvey\"><AnnualSales>3000000</AnnualSales><AnnualRevenue>300000</AnnualRevenue><BankName>United Security</BankName><BusinessType>OS</BusinessType><YearOpened>1999</YearOpened><Specialty>Mountain</Specialty><SquareFeet>69000</SquareFeet><Brands>3</Brands><Internet>ISDN</Internet><NumberEmployees>55</NumberEmployees></StoreSurvey>",
         "7ebd2cb1-52cf-4658-ba05-41435ee1f2ba",
         "2014-09-12"
        ],
        [
         1334,
         "Chic Department Stores",
         277,
         "<StoreSurvey xmlns=\"http://schemas.microsoft.com/sqlserver/2004/07/adventure-works/StoreSurvey\"><AnnualSales>3000000</AnnualSales><AnnualRevenue>300000</AnnualRevenue><BankName>Reserve Security</BankName><BusinessType>OS</BusinessType><YearOpened>1999</YearOpened><Specialty>Mountain</Specialty><SquareFeet>71000</SquareFeet><Brands>4+</Brands><Internet>T1</Internet><NumberEmployees>58</NumberEmployees></StoreSurvey>",
         "519d6c36-96bc-409d-a2bc-81f75b79e504",
         "2014-09-12"
        ],
        [
         1336,
         "Eastside Department Store",
         276,
         "<StoreSurvey xmlns=\"http://schemas.microsoft.com/sqlserver/2004/07/adventure-works/StoreSurvey\"><AnnualSales>3000000</AnnualSales><AnnualRevenue>300000</AnnualRevenue><BankName>Primary International</BankName><BusinessType>OS</BusinessType><YearOpened>1979</YearOpened><Specialty>Road</Specialty><SquareFeet>70000</SquareFeet><Brands>3</Brands><Internet>DSL</Internet><NumberEmployees>61</NumberEmployees></StoreSurvey>",
         "6a400bd8-88a6-46e3-ae7a-c146ffcdc7fc",
         "2014-09-12"
        ],
        [
         1338,
         "Sports Sales and Rental",
         279,
         "<StoreSurvey xmlns=\"http://schemas.microsoft.com/sqlserver/2004/07/adventure-works/StoreSurvey\"><AnnualSales>3000000</AnnualSales><AnnualRevenue>300000</AnnualRevenue><BankName>Guardian Bank</BankName><BusinessType>OS</BusinessType><YearOpened>1996</YearOpened><Specialty>Mountain</Specialty><SquareFeet>72000</SquareFeet><Brands>4+</Brands><Internet>T2</Internet><NumberEmployees>64</NumberEmployees></StoreSurvey>",
         "8718b588-0073-4706-824c-0bae6ac48a41",
         "2014-09-12"
        ],
        [
         1340,
         "Cycle Merchants",
         278,
         "<StoreSurvey xmlns=\"http://schemas.microsoft.com/sqlserver/2004/07/adventure-works/StoreSurvey\"><AnnualSales>3000000</AnnualSales><AnnualRevenue>300000</AnnualRevenue><BankName>International Security</BankName><BusinessType>OS</BusinessType><YearOpened>1991</YearOpened><Specialty>Road</Specialty><SquareFeet>75000</SquareFeet><Brands>3</Brands><Internet>DSL</Internet><NumberEmployees>67</NumberEmployees></StoreSurvey>",
         "43121a65-0aa0-4cc7-b2c2-068777556d79",
         "2014-09-12"
        ],
        [
         1342,
         "Global Sports Outlet",
         286,
         "<StoreSurvey xmlns=\"http://schemas.microsoft.com/sqlserver/2004/07/adventure-works/StoreSurvey\"><AnnualSales>3000000</AnnualSales><AnnualRevenue>300000</AnnualRevenue><BankName>Primary Bank &amp; Reserve</BankName><BusinessType>OS</BusinessType><YearOpened>1993</YearOpened><Specialty>Mountain</Specialty><SquareFeet>75000</SquareFeet><Brands>4+</Brands><Internet>DSL</Internet><NumberEmployees>70</NumberEmployees></StoreSurvey>",
         "c20c86a2-5d1a-4a9d-99da-d989bcd0f2fd",
         "2014-09-12"
        ],
        [
         1344,
         "Exotic Bikes",
         275,
         "<StoreSurvey xmlns=\"http://schemas.microsoft.com/sqlserver/2004/07/adventure-works/StoreSurvey\"><AnnualSales>3000000</AnnualSales><AnnualRevenue>300000</AnnualRevenue><BankName>International Bank</BankName><BusinessType>OS</BusinessType><YearOpened>1998</YearOpened><Specialty>Road</Specialty><SquareFeet>75000</SquareFeet><Brands>4+</Brands><Internet>ISDN</Internet><NumberEmployees>73</NumberEmployees></StoreSurvey>",
         "4f33eed4-011c-4916-8eb3-52b9032eab97",
         "2014-09-12"
        ],
        [
         1346,
         "Fitness Hotel",
         277,
         "<StoreSurvey xmlns=\"http://schemas.microsoft.com/sqlserver/2004/07/adventure-works/StoreSurvey\"><AnnualSales>3000000</AnnualSales><AnnualRevenue>300000</AnnualRevenue><BankName>United Security</BankName><BusinessType>OS</BusinessType><YearOpened>1990</YearOpened><Specialty>Road</Specialty><SquareFeet>75000</SquareFeet><Brands>2</Brands><Internet>T1</Internet><NumberEmployees>76</NumberEmployees></StoreSurvey>",
         "5b9242cc-550d-4105-9baa-886f20dd34f9",
         "2014-09-12"
        ],
        [
         1348,
         "Healthy Activity Store",
         276,
         "<StoreSurvey xmlns=\"http://schemas.microsoft.com/sqlserver/2004/07/adventure-works/StoreSurvey\"><AnnualSales>3000000</AnnualSales><AnnualRevenue>300000</AnnualRevenue><BankName>Reserve Security</BankName><BusinessType>OS</BusinessType><YearOpened>1995</YearOpened><Specialty>Mountain</Specialty><SquareFeet>74000</SquareFeet><Brands>4+</Brands><Internet>ISDN</Internet><NumberEmployees>79</NumberEmployees></StoreSurvey>",
         "5988540b-f987-421f-a342-4eb1b809afa1",
         "2014-09-12"
        ],
        [
         1350,
         "Every Bike Shop",
         279,
         "<StoreSurvey xmlns=\"http://schemas.microsoft.com/sqlserver/2004/07/adventure-works/StoreSurvey\"><AnnualSales>3000000</AnnualSales><AnnualRevenue>300000</AnnualRevenue><BankName>Primary International</BankName><BusinessType>OS</BusinessType><YearOpened>1987</YearOpened><Specialty>Road</Specialty><SquareFeet>76000</SquareFeet><Brands>2</Brands><Internet>T1</Internet><NumberEmployees>80</NumberEmployees></StoreSurvey>",
         "1e7c9c84-dab9-4164-8154-4f7b8893a542",
         "2014-09-12"
        ],
        [
         1352,
         "Grand Industries",
         278,
         "<StoreSurvey xmlns=\"http://schemas.microsoft.com/sqlserver/2004/07/adventure-works/StoreSurvey\"><AnnualSales>3000000</AnnualSales><AnnualRevenue>300000</AnnualRevenue><BankName>Guardian Bank</BankName><BusinessType>OS</BusinessType><YearOpened>1992</YearOpened><Specialty>Touring</Specialty><SquareFeet>77000</SquareFeet><Brands>2</Brands><Internet>T1</Internet><NumberEmployees>81</NumberEmployees></StoreSurvey>",
         "72cfcc42-64dc-4283-98c7-a64a2d112451",
         "2014-09-12"
        ],
        [
         1354,
         "Ideal Components",
         286,
         "<StoreSurvey xmlns=\"http://schemas.microsoft.com/sqlserver/2004/07/adventure-works/StoreSurvey\"><AnnualSales>3000000</AnnualSales><AnnualRevenue>300000</AnnualRevenue><BankName>International Security</BankName><BusinessType>OS</BusinessType><YearOpened>1984</YearOpened><Specialty>Touring</Specialty><SquareFeet>76000</SquareFeet><Brands>3</Brands><Internet>DSL</Internet><NumberEmployees>82</NumberEmployees></StoreSurvey>",
         "254d461c-3410-4a91-b496-f4b43c1f406e",
         "2014-09-12"
        ],
        [
         1356,
         "Larger Cycle Shop",
         275,
         "<StoreSurvey xmlns=\"http://schemas.microsoft.com/sqlserver/2004/07/adventure-works/StoreSurvey\"><AnnualSales>3000000</AnnualSales><AnnualRevenue>300000</AnnualRevenue><BankName>Primary Bank &amp; Reserve</BankName><BusinessType>OS</BusinessType><YearOpened>1989</YearOpened><Specialty>Road</Specialty><SquareFeet>77000</SquareFeet><Brands>4+</Brands><Internet>T1</Internet><NumberEmployees>83</NumberEmployees></StoreSurvey>",
         "ac717a14-7677-402e-8b8a-3b9e17ca3664",
         "2014-09-12"
        ],
        [
         1358,
         "Leading Sales & Repair",
         277,
         "<StoreSurvey xmlns=\"http://schemas.microsoft.com/sqlserver/2004/07/adventure-works/StoreSurvey\"><AnnualSales>3000000</AnnualSales><AnnualRevenue>300000</AnnualRevenue><BankName>International Bank</BankName><BusinessType>OS</BusinessType><YearOpened>1981</YearOpened><Specialty>Road</Specialty><SquareFeet>75000</SquareFeet><Brands>4+</Brands><Internet>T1</Internet><NumberEmployees>84</NumberEmployees></StoreSurvey>",
         "2a953c4e-a056-456a-86fc-21e0dcd7e432",
         "2014-09-12"
        ],
        [
         1360,
         "Main Bicycle Services",
         276,
         "<StoreSurvey xmlns=\"http://schemas.microsoft.com/sqlserver/2004/07/adventure-works/StoreSurvey\"><AnnualSales>3000000</AnnualSales><AnnualRevenue>300000</AnnualRevenue><BankName>United Security</BankName><BusinessType>OS</BusinessType><YearOpened>1986</YearOpened><Specialty>Road</Specialty><SquareFeet>75000</SquareFeet><Brands>3</Brands><Internet>T2</Internet><NumberEmployees>85</NumberEmployees></StoreSurvey>",
         "4ebcd19d-6dab-4f99-83c0-c439a13969d3",
         "2014-09-12"
        ],
        [
         1362,
         "Metro Bike Mart",
         279,
         "<StoreSurvey xmlns=\"http://schemas.microsoft.com/sqlserver/2004/07/adventure-works/StoreSurvey\"><AnnualSales>3000000</AnnualSales><AnnualRevenue>300000</AnnualRevenue><BankName>Reserve Security</BankName><BusinessType>OS</BusinessType><YearOpened>1978</YearOpened><Specialty>Mountain</Specialty><SquareFeet>76000</SquareFeet><Brands>3</Brands><Internet>DSL</Internet><NumberEmployees>86</NumberEmployees></StoreSurvey>",
         "662ce427-c733-44b5-a35c-891589d210b8",
         "2014-09-12"
        ],
        [
         1364,
         "Tandem Sales and Service",
         278,
         "<StoreSurvey xmlns=\"http://schemas.microsoft.com/sqlserver/2004/07/adventure-works/StoreSurvey\"><AnnualSales>1500000</AnnualSales><AnnualRevenue>150000</AnnualRevenue><BankName>International Bank</BankName><BusinessType>BS</BusinessType><YearOpened>1972</YearOpened><Specialty>Road</Specialty><SquareFeet>38000</SquareFeet><Brands>4+</Brands><Internet>DSL</Internet><NumberEmployees>34</NumberEmployees></StoreSurvey>",
         "4372d419-1d5a-4a3d-8803-cb94a930e5d9",
         "2014-09-12"
        ],
        [
         1366,
         "Sensible Sports",
         286,
         "<StoreSurvey xmlns=\"http://schemas.microsoft.com/sqlserver/2004/07/adventure-works/StoreSurvey\"><AnnualSales>1500000</AnnualSales><AnnualRevenue>150000</AnnualRevenue><BankName>United Security</BankName><BusinessType>BS</BusinessType><YearOpened>1978</YearOpened><Specialty>Touring</Specialty><SquareFeet>37000</SquareFeet><Brands>2</Brands><Internet>DSL</Internet><NumberEmployees>33</NumberEmployees></StoreSurvey>",
         "c32f634b-50be-48bb-a1e4-f39800b04407",
         "2014-09-12"
        ],
        [
         1368,
         "Reliable Retail Center",
         278,
         "<StoreSurvey xmlns=\"http://schemas.microsoft.com/sqlserver/2004/07/adventure-works/StoreSurvey\"><AnnualSales>1500000</AnnualSales><AnnualRevenue>150000</AnnualRevenue><BankName>Reserve Security</BankName><BusinessType>BS</BusinessType><YearOpened>1984</YearOpened><Specialty>Road</Specialty><SquareFeet>35000</SquareFeet><Brands>4+</Brands><Internet>DSL</Internet><NumberEmployees>32</NumberEmployees></StoreSurvey>",
         "65eb45f3-c60f-4bb6-85ce-b8482e68868b",
         "2014-09-12"
        ],
        [
         1370,
         "Liquidation Sales",
         286,
         "<StoreSurvey xmlns=\"http://schemas.microsoft.com/sqlserver/2004/07/adventure-works/StoreSurvey\"><AnnualSales>1500000</AnnualSales><AnnualRevenue>150000</AnnualRevenue><BankName>Primary International</BankName><BusinessType>BS</BusinessType><YearOpened>1990</YearOpened><Specialty>Touring</Specialty><SquareFeet>37000</SquareFeet><Brands>4+</Brands><Internet>T1</Internet><NumberEmployees>31</NumberEmployees></StoreSurvey>",
         "0f23ce3a-c1d0-4c61-9d5f-a071dcbc9912",
         "2014-09-12"
        ],
        [
         1372,
         "Friendly Bike Shop",
         275,
         "<StoreSurvey xmlns=\"http://schemas.microsoft.com/sqlserver/2004/07/adventure-works/StoreSurvey\"><AnnualSales>1500000</AnnualSales><AnnualRevenue>150000</AnnualRevenue><BankName>Guardian Bank</BankName><BusinessType>BS</BusinessType><YearOpened>1996</YearOpened><Specialty>Road</Specialty><SquareFeet>39000</SquareFeet><Brands>2</Brands><Internet>ISDN</Internet><NumberEmployees>30</NumberEmployees></StoreSurvey>",
         "8483baae-a01a-4497-bebf-1f193e1d5f34",
         "2014-09-12"
        ],
        [
         1374,
         "Yellow Bicycle Company",
         277,
         "<StoreSurvey xmlns=\"http://schemas.microsoft.com/sqlserver/2004/07/adventure-works/StoreSurvey\"><AnnualSales>1000000</AnnualSales><AnnualRevenue>100000</AnnualRevenue><BankName>International Security</BankName><BusinessType>BS</BusinessType><YearOpened>2001</YearOpened><Specialty>Mountain</Specialty><SquareFeet>26000</SquareFeet><Brands>4+</Brands><Internet>T1</Internet><NumberEmployees>29</NumberEmployees></StoreSurvey>",
         "6ae7f252-55b7-4d73-91b1-4580678cba60",
         "2014-09-12"
        ],
        [
         1376,
         "Sports Products Store",
         276,
         "<StoreSurvey xmlns=\"http://schemas.microsoft.com/sqlserver/2004/07/adventure-works/StoreSurvey\"><AnnualSales>1000000</AnnualSales><AnnualRevenue>100000</AnnualRevenue><BankName>Primary Bank &amp; Reserve</BankName><BusinessType>BS</BusinessType><YearOpened>1971</YearOpened><Specialty>Road</Specialty><SquareFeet>26000</SquareFeet><Brands>4+</Brands><Internet>DSL</Internet><NumberEmployees>28</NumberEmployees></StoreSurvey>",
         "dccccf66-c09a-45cd-8f03-e2fd39257c4f",
         "2014-09-12"
        ],
        [
         1378,
         "Selected Distributors",
         279,
         "<StoreSurvey xmlns=\"http://schemas.microsoft.com/sqlserver/2004/07/adventure-works/StoreSurvey\"><AnnualSales>1000000</AnnualSales><AnnualRevenue>100000</AnnualRevenue><BankName>International Bank</BankName><BusinessType>BS</BusinessType><YearOpened>1998</YearOpened><Specialty>Mountain</Specialty><SquareFeet>27000</SquareFeet><Brands>3</Brands><Internet>DSL</Internet><NumberEmployees>27</NumberEmployees></StoreSurvey>",
         "c408e9d4-c9f0-422f-89a1-f5c77d5d9680",
         "2014-09-12"
        ],
        [
         1380,
         "Impervious Paint Company",
         290,
         "<StoreSurvey xmlns=\"http://schemas.microsoft.com/sqlserver/2004/07/adventure-works/StoreSurvey\"><AnnualSales>800000</AnnualSales><AnnualRevenue>80000</AnnualRevenue><BankName>Primary Bank &amp; Reserve</BankName><BusinessType>BS</BusinessType><YearOpened>1972</YearOpened><Specialty>Mountain</Specialty><SquareFeet>18000</SquareFeet><Brands>3</Brands><Internet>ISDN</Internet><NumberEmployees>10</NumberEmployees></StoreSurvey>",
         "26b1e4dc-8fb0-495c-8188-0e06f117f2f9",
         "2014-09-12"
        ],
        [
         1382,
         "Shipping Specialists",
         289,
         "<StoreSurvey xmlns=\"http://schemas.microsoft.com/sqlserver/2004/07/adventure-works/StoreSurvey\"><AnnualSales>800000</AnnualSales><AnnualRevenue>80000</AnnualRevenue><BankName>International Bank</BankName><BusinessType>BS</BusinessType><YearOpened>1978</YearOpened><Specialty>Road</Specialty><SquareFeet>20000</SquareFeet><Brands>2</Brands><Internet>DSL</Internet><NumberEmployees>13</NumberEmployees></StoreSurvey>",
         "14aa6ec7-1684-4a9d-bfb9-3405270bc52b",
         "2014-09-12"
        ],
        [
         1384,
         "Finer Sporting Goods",
         290,
         "<StoreSurvey xmlns=\"http://schemas.microsoft.com/sqlserver/2004/07/adventure-works/StoreSurvey\"><AnnualSales>800000</AnnualSales><AnnualRevenue>80000</AnnualRevenue><BankName>United Security</BankName><BusinessType>BS</BusinessType><YearOpened>1984</YearOpened><Specialty>Touring</Specialty><SquareFeet>18000</SquareFeet><Brands>4+</Brands><Internet>T1</Internet><NumberEmployees>16</NumberEmployees></StoreSurvey>",
         "dc4c935b-4788-48de-8e2b-fe702b9b3940",
         "2014-09-12"
        ],
        [
         1386,
         "Authentic Sales and Service",
         289,
         "<StoreSurvey xmlns=\"http://schemas.microsoft.com/sqlserver/2004/07/adventure-works/StoreSurvey\"><AnnualSales>800000</AnnualSales><AnnualRevenue>80000</AnnualRevenue><BankName>Reserve Security</BankName><BusinessType>BS</BusinessType><YearOpened>1990</YearOpened><Specialty>Mountain</Specialty><SquareFeet>20000</SquareFeet><Brands>AW</Brands><Internet>DSL</Internet><NumberEmployees>19</NumberEmployees></StoreSurvey>",
         "9cb195b3-45e3-455c-8e5e-8b621010bca8",
         "2014-09-12"
        ],
        [
         1388,
         "Official Parts Shop",
         280,
         "<StoreSurvey xmlns=\"http://schemas.microsoft.com/sqlserver/2004/07/adventure-works/StoreSurvey\"><AnnualSales>1000000</AnnualSales><AnnualRevenue>100000</AnnualRevenue><BankName>Primary International</BankName><BusinessType>BS</BusinessType><YearOpened>1996</YearOpened><Specialty>Road</Specialty><SquareFeet>24000</SquareFeet><Brands>4+</Brands><Internet>T1</Internet><NumberEmployees>22</NumberEmployees></StoreSurvey>",
         "0676819d-a218-496d-a83b-4b750bee0d61",
         "2014-09-12"
        ],
        [
         1390,
         "Contoso, Ltd.",
         277,
         "<StoreSurvey xmlns=\"http://schemas.microsoft.com/sqlserver/2004/07/adventure-works/StoreSurvey\"><AnnualSales>1000000</AnnualSales><AnnualRevenue>100000</AnnualRevenue><BankName>Guardian Bank</BankName><BusinessType>BS</BusinessType><YearOpened>2001</YearOpened><Specialty>Road</Specialty><SquareFeet>24000</SquareFeet><Brands>4+</Brands><Internet>T2</Internet><NumberEmployees>25</NumberEmployees></StoreSurvey>",
         "8874d7b8-9bfb-412a-b19c-3c566c15c03a",
         "2014-09-12"
        ],
        [
         1392,
         "Discount Tours",
         281,
         "<StoreSurvey xmlns=\"http://schemas.microsoft.com/sqlserver/2004/07/adventure-works/StoreSurvey\"><AnnualSales>1000000</AnnualSales><AnnualRevenue>100000</AnnualRevenue><BankName>International Security</BankName><BusinessType>BS</BusinessType><YearOpened>1971</YearOpened><Specialty>Road</Specialty><SquareFeet>28000</SquareFeet><Brands>4+</Brands><Internet>DSL</Internet><NumberEmployees>28</NumberEmployees></StoreSurvey>",
         "d208f87f-7cff-40f7-b3a8-efbabbae289c",
         "2014-09-12"
        ],
        [
         1394,
         "Tire Exchange",
         282,
         "<StoreSurvey xmlns=\"http://schemas.microsoft.com/sqlserver/2004/07/adventure-works/StoreSurvey\"><AnnualSales>1500000</AnnualSales><AnnualRevenue>150000</AnnualRevenue><BankName>Primary Bank &amp; Reserve</BankName><BusinessType>BS</BusinessType><YearOpened>1998</YearOpened><Specialty>Mountain</Specialty><SquareFeet>36000</SquareFeet><Brands>4+</Brands><Internet>T1</Internet><NumberEmployees>31</NumberEmployees></StoreSurvey>",
         "529d4609-7129-4c41-a88e-7bbe2f25b663",
         "2014-09-12"
        ],
        [
         1396,
         "Racing Tours",
         290,
         "<StoreSurvey xmlns=\"http://schemas.microsoft.com/sqlserver/2004/07/adventure-works/StoreSurvey\"><AnnualSales>1500000</AnnualSales><AnnualRevenue>150000</AnnualRevenue><BankName>International Bank</BankName><BusinessType>BS</BusinessType><YearOpened>1983</YearOpened><Specialty>Mountain</Specialty><SquareFeet>36000</SquareFeet><Brands>3</Brands><Internet>T1</Internet><NumberEmployees>34</NumberEmployees></StoreSurvey>",
         "6b6d4a42-f6dc-4c37-8c31-0aea817b2167",
         "2014-09-12"
        ],
        [
         1398,
         "Oils and Fluids Warehouse",
         289,
         "<StoreSurvey xmlns=\"http://schemas.microsoft.com/sqlserver/2004/07/adventure-works/StoreSurvey\"><AnnualSales>1500000</AnnualSales><AnnualRevenue>150000</AnnualRevenue><BankName>United Security</BankName><BusinessType>BS</BusinessType><YearOpened>1995</YearOpened><Specialty>Mountain</Specialty><SquareFeet>37000</SquareFeet><Brands>3</Brands><Internet>T1</Internet><NumberEmployees>37</NumberEmployees></StoreSurvey>",
         "ebfc3863-01f0-4614-8a38-25f35f6801e2",
         "2014-09-12"
        ],
        [
         1400,
         "Finished Parts Shop",
         290,
         "<StoreSurvey xmlns=\"http://schemas.microsoft.com/sqlserver/2004/07/adventure-works/StoreSurvey\"><AnnualSales>1500000</AnnualSales><AnnualRevenue>150000</AnnualRevenue><BankName>Reserve Security</BankName><BusinessType>BS</BusinessType><YearOpened>1995</YearOpened><Specialty>Mountain</Specialty><SquareFeet>36000</SquareFeet><Brands>3</Brands><Internet>DSL</Internet><NumberEmployees>40</NumberEmployees></StoreSurvey>",
         "08aefe30-a612-49ad-8b00-f4f8304c17cb",
         "2014-09-12"
        ],
        [
         1402,
         "Consumer Equipment",
         289,
         "<StoreSurvey xmlns=\"http://schemas.microsoft.com/sqlserver/2004/07/adventure-works/StoreSurvey\"><AnnualSales>1500000</AnnualSales><AnnualRevenue>150000</AnnualRevenue><BankName>Primary International</BankName><BusinessType>BS</BusinessType><YearOpened>1992</YearOpened><Specialty>Road</Specialty><SquareFeet>37000</SquareFeet><Brands>4+</Brands><Internet>T2</Internet><NumberEmployees>43</NumberEmployees></StoreSurvey>",
         "05721187-b066-4424-b9a3-e089f95f3fd4",
         "2014-09-12"
        ],
        [
         1404,
         "Rally Master Company Inc",
         281,
         "<StoreSurvey xmlns=\"http://schemas.microsoft.com/sqlserver/2004/07/adventure-works/StoreSurvey\"><AnnualSales>3000000</AnnualSales><AnnualRevenue>300000</AnnualRevenue><BankName>International Security</BankName><BusinessType>OS</BusinessType><YearOpened>1992</YearOpened><Specialty>Touring</Specialty><SquareFeet>77000</SquareFeet><Brands>2</Brands><Internet>T2</Internet><NumberEmployees>97</NumberEmployees></StoreSurvey>",
         "7501acfe-c321-41d1-9966-7928ee700b8e",
         "2014-09-12"
        ],
        [
         1406,
         "Professional Cyclists",
         282,
         "<StoreSurvey xmlns=\"http://schemas.microsoft.com/sqlserver/2004/07/adventure-works/StoreSurvey\"><AnnualSales>3000000</AnnualSales><AnnualRevenue>300000</AnnualRevenue><BankName>Primary Bank &amp; Reserve</BankName><BusinessType>OS</BusinessType><YearOpened>1998</YearOpened><Specialty>Road</Specialty><SquareFeet>77000</SquareFeet><Brands>3</Brands><Internet>T1</Internet><NumberEmployees>98</NumberEmployees></StoreSurvey>",
         "e0097dfc-ab99-445b-b0a1-f8f53bd19743",
         "2014-09-12"
        ],
        [
         1408,
         "Sports Products Store",
         290,
         "<StoreSurvey xmlns=\"http://schemas.microsoft.com/sqlserver/2004/07/adventure-works/StoreSurvey\"><AnnualSales>3000000</AnnualSales><AnnualRevenue>300000</AnnualRevenue><BankName>International Bank</BankName><BusinessType>OS</BusinessType><YearOpened>1999</YearOpened><Specialty>Road</Specialty><SquareFeet>78000</SquareFeet><Brands>3</Brands><Internet>ISDN</Internet><NumberEmployees>99</NumberEmployees></StoreSurvey>",
         "f4988993-96c3-4cfb-9ef5-325adeff13d9",
         "2014-09-12"
        ],
        [
         1410,
         "Exclusive Bicycle Mart",
         289,
         "<StoreSurvey xmlns=\"http://schemas.microsoft.com/sqlserver/2004/07/adventure-works/StoreSurvey\"><AnnualSales>3000000</AnnualSales><AnnualRevenue>300000</AnnualRevenue><BankName>United Security</BankName><BusinessType>OS</BusinessType><YearOpened>1999</YearOpened><Specialty>Road</Specialty><SquareFeet>77000</SquareFeet><Brands>4+</Brands><Internet>DSL</Internet><NumberEmployees>100</NumberEmployees></StoreSurvey>",
         "1638ea15-3bdc-4803-a8ee-4604446ab757",
         "2014-09-12"
        ],
        [
         1412,
         "City Manufacturing",
         280,
         "<StoreSurvey xmlns=\"http://schemas.microsoft.com/sqlserver/2004/07/adventure-works/StoreSurvey\"><AnnualSales>3000000</AnnualSales><AnnualRevenue>300000</AnnualRevenue><BankName>Reserve Security</BankName><BusinessType>OS</BusinessType><YearOpened>1979</YearOpened><Specialty>Mountain</Specialty><SquareFeet>75000</SquareFeet><Brands>4+</Brands><Internet>DSL</Internet><NumberEmployees>66</NumberEmployees></StoreSurvey>",
         "c8a665ba-4ee0-4a76-a2fc-b78323823f46",
         "2014-09-12"
        ],
        [
         1414,
         "Bike Dealers Association",
         281,
         "<StoreSurvey xmlns=\"http://schemas.microsoft.com/sqlserver/2004/07/adventure-works/StoreSurvey\"><AnnualSales>1500000</AnnualSales><AnnualRevenue>150000</AnnualRevenue><BankName>United Security</BankName><BusinessType>OS</BusinessType><YearOpened>1974</YearOpened><Specialty>Road</Specialty><SquareFeet>40000</SquareFeet><Brands>3</Brands><Internet>T1</Internet><NumberEmployees>40</NumberEmployees></StoreSurvey>",
         "b882005e-0489-4033-ad67-3e0cbf4ffa37",
         "2014-09-12"
        ],
        [
         1416,
         "Pedal Systems Company",
         279,
         "<StoreSurvey xmlns=\"http://schemas.microsoft.com/sqlserver/2004/07/adventure-works/StoreSurvey\"><AnnualSales>1500000</AnnualSales><AnnualRevenue>150000</AnnualRevenue><BankName>Reserve Security</BankName><BusinessType>OS</BusinessType><YearOpened>1980</YearOpened><Specialty>Road</Specialty><SquareFeet>39000</SquareFeet><Brands>4+</Brands><Internet>T3</Internet><NumberEmployees>43</NumberEmployees></StoreSurvey>",
         "0d2bed8a-7bce-4f09-8da0-ac99a88b334f",
         "2014-09-12"
        ],
        [
         1418,
         "Health Spa, Limited",
         282,
         "<StoreSurvey xmlns=\"http://schemas.microsoft.com/sqlserver/2004/07/adventure-works/StoreSurvey\"><AnnualSales>1500000</AnnualSales><AnnualRevenue>150000</AnnualRevenue><BankName>Primary International</BankName><BusinessType>OS</BusinessType><YearOpened>1986</YearOpened><Specialty>Road</Specialty><SquareFeet>40000</SquareFeet><Brands>4+</Brands><Internet>T1</Internet><NumberEmployees>46</NumberEmployees></StoreSurvey>",
         "2340bc61-c2f5-4f38-84a6-44b3e1b90d5e",
         "2014-09-12"
        ],
        [
         1420,
         "Global Bike Retailers",
         288,
         "<StoreSurvey xmlns=\"http://schemas.microsoft.com/sqlserver/2004/07/adventure-works/StoreSurvey\"><AnnualSales>1500000</AnnualSales><AnnualRevenue>150000</AnnualRevenue><BankName>Guardian Bank</BankName><BusinessType>OS</BusinessType><YearOpened>1992</YearOpened><Specialty>Touring</Specialty><SquareFeet>40000</SquareFeet><Brands>4+</Brands><Internet>T1</Internet><NumberEmployees>49</NumberEmployees></StoreSurvey>",
         "72466590-e6b6-4aab-a1f2-0dcb18685a12",
         "2014-09-12"
        ],
        [
         1422,
         "Fashionable Department Stores",
         275,
         "<StoreSurvey xmlns=\"http://schemas.microsoft.com/sqlserver/2004/07/adventure-works/StoreSurvey\"><AnnualSales>3000000</AnnualSales><AnnualRevenue>300000</AnnualRevenue><BankName>International Security</BankName><BusinessType>OS</BusinessType><YearOpened>1998</YearOpened><Specialty>Mountain</Specialty><SquareFeet>68000</SquareFeet><Brands>3</Brands><Internet>DSL</Internet><NumberEmployees>52</NumberEmployees></StoreSurvey>",
         "5221dd86-f37e-4f4a-8374-bbcae7e69f4f",
         "2014-09-12"
        ],
        [
         1424,
         "Closeout Boutique",
         283,
         "<StoreSurvey xmlns=\"http://schemas.microsoft.com/sqlserver/2004/07/adventure-works/StoreSurvey\"><AnnualSales>3000000</AnnualSales><AnnualRevenue>300000</AnnualRevenue><BankName>Primary Bank &amp; Reserve</BankName><BusinessType>OS</BusinessType><YearOpened>1999</YearOpened><Specialty>Mountain</Specialty><SquareFeet>70000</SquareFeet><Brands>3</Brands><Internet>T1</Internet><NumberEmployees>55</NumberEmployees></StoreSurvey>",
         "7b25c4ec-0a30-416b-8353-99a4725cb62a",
         "2014-09-12"
        ],
        [
         1426,
         "Bicycle Merchandise Warehouse",
         281,
         "<StoreSurvey xmlns=\"http://schemas.microsoft.com/sqlserver/2004/07/adventure-works/StoreSurvey\"><AnnualSales>3000000</AnnualSales><AnnualRevenue>300000</AnnualRevenue><BankName>International Bank</BankName><BusinessType>OS</BusinessType><YearOpened>1999</YearOpened><Specialty>Road</Specialty><SquareFeet>69000</SquareFeet><Brands>4+</Brands><Internet>T1</Internet><NumberEmployees>58</NumberEmployees></StoreSurvey>",
         "820b50fb-3a24-4cc5-a4dd-aae6ad57d919",
         "2014-09-12"
        ],
        [
         1428,
         "Spoke Manufacturers",
         279,
         "<StoreSurvey xmlns=\"http://schemas.microsoft.com/sqlserver/2004/07/adventure-works/StoreSurvey\"><AnnualSales>3000000</AnnualSales><AnnualRevenue>300000</AnnualRevenue><BankName>United Security</BankName><BusinessType>OS</BusinessType><YearOpened>1979</YearOpened><Specialty>Road</Specialty><SquareFeet>74000</SquareFeet><Brands>4+</Brands><Internet>T1</Internet><NumberEmployees>61</NumberEmployees></StoreSurvey>",
         "d0e5ad57-6e5e-40c6-a834-d2906a365231",
         "2014-09-12"
        ],
        [
         1430,
         "Leather Seat Factory",
         282,
         "<StoreSurvey xmlns=\"http://schemas.microsoft.com/sqlserver/2004/07/adventure-works/StoreSurvey\"><AnnualSales>3000000</AnnualSales><AnnualRevenue>300000</AnnualRevenue><BankName>Reserve Security</BankName><BusinessType>OS</BusinessType><YearOpened>1996</YearOpened><Specialty>Mountain</Specialty><SquareFeet>72000</SquareFeet><Brands>4+</Brands><Internet>ISDN</Internet><NumberEmployees>64</NumberEmployees></StoreSurvey>",
         "1fcc2c07-e555-42b9-a4b7-cff0b9dcf884",
         "2014-09-12"
        ],
        [
         1432,
         "Good Bicycle Store",
         288,
         "<StoreSurvey xmlns=\"http://schemas.microsoft.com/sqlserver/2004/07/adventure-works/StoreSurvey\"><AnnualSales>3000000</AnnualSales><AnnualRevenue>300000</AnnualRevenue><BankName>Primary International</BankName><BusinessType>OS</BusinessType><YearOpened>1991</YearOpened><Specialty>Road</Specialty><SquareFeet>71000</SquareFeet><Brands>4+</Brands><Internet>ISDN</Internet><NumberEmployees>67</NumberEmployees></StoreSurvey>",
         "8625c3d9-e443-494e-ad75-523a30e2967b",
         "2014-09-12"
        ],
        [
         1434,
         "Endurance Bikes",
         275,
         "<StoreSurvey xmlns=\"http://schemas.microsoft.com/sqlserver/2004/07/adventure-works/StoreSurvey\"><AnnualSales>3000000</AnnualSales><AnnualRevenue>300000</AnnualRevenue><BankName>Guardian Bank</BankName><BusinessType>OS</BusinessType><YearOpened>1993</YearOpened><Specialty>Road</Specialty><SquareFeet>75000</SquareFeet><Brands>3</Brands><Internet>DSL</Internet><NumberEmployees>70</NumberEmployees></StoreSurvey>",
         "d393f32e-8fe6-4ff2-865c-b4175331f985",
         "2014-09-12"
        ],
        [
         1436,
         "Practical Bike Supply Company",
         277,
         "<StoreSurvey xmlns=\"http://schemas.microsoft.com/sqlserver/2004/07/adventure-works/StoreSurvey\"><AnnualSales>1000000</AnnualSales><AnnualRevenue>100000</AnnualRevenue><BankName>International Security</BankName><BusinessType>BS</BusinessType><YearOpened>2001</YearOpened><Specialty>Mountain</Specialty><SquareFeet>26000</SquareFeet><Brands>3</Brands><Internet>DSL</Internet><NumberEmployees>25</NumberEmployees></StoreSurvey>",
         "7d0add31-0074-42d0-b00a-ddb8d31bbbd2",
         "2014-09-12"
        ],
        [
         1438,
         "Some Discount Store",
         280,
         "<StoreSurvey xmlns=\"http://schemas.microsoft.com/sqlserver/2004/07/adventure-works/StoreSurvey\"><AnnualSales>1000000</AnnualSales><AnnualRevenue>100000</AnnualRevenue><BankName>Guardian Bank</BankName><BusinessType>BS</BusinessType><YearOpened>1996</YearOpened><Specialty>Mountain</Specialty><SquareFeet>27000</SquareFeet><Brands>2</Brands><Internet>T1</Internet><NumberEmployees>22</NumberEmployees></StoreSurvey>",
         "b5ca298f-1ecc-4f42-a077-a32c5c9a30bb",
         "2014-09-12"
        ],
        [
         1440,
         "Variety Cycling",
         289,
         "<StoreSurvey xmlns=\"http://schemas.microsoft.com/sqlserver/2004/07/adventure-works/StoreSurvey\"><AnnualSales>800000</AnnualSales><AnnualRevenue>80000</AnnualRevenue><BankName>Primary International</BankName><BusinessType>BS</BusinessType><YearOpened>1990</YearOpened><Specialty>Touring</Specialty><SquareFeet>21000</SquareFeet><Brands>AW</Brands><Internet>DSL</Internet><NumberEmployees>19</NumberEmployees></StoreSurvey>",
         "47d6b3c9-a6d6-405a-9cce-1f78cbafb1fd",
         "2014-09-12"
        ],
        [
         1442,
         "Accessories Network",
         290,
         "<StoreSurvey xmlns=\"http://schemas.microsoft.com/sqlserver/2004/07/adventure-works/StoreSurvey\"><AnnualSales>800000</AnnualSales><AnnualRevenue>80000</AnnualRevenue><BankName>Reserve Security</BankName><BusinessType>BS</BusinessType><YearOpened>1984</YearOpened><Specialty>Touring</Specialty><SquareFeet>22000</SquareFeet><Brands>2</Brands><Internet>DSL</Internet><NumberEmployees>16</NumberEmployees></StoreSurvey>",
         "4ffffbb5-1337-4f14-ba3c-6bb27cd33e50",
         "2014-09-12"
        ],
        [
         1444,
         "Remote Bicycle Specialists",
         282,
         "<StoreSurvey xmlns=\"http://schemas.microsoft.com/sqlserver/2004/07/adventure-works/StoreSurvey\"><AnnualSales>800000</AnnualSales><AnnualRevenue>80000</AnnualRevenue><BankName>United Security</BankName><BusinessType>BS</BusinessType><YearOpened>1978</YearOpened><Specialty>Road</Specialty><SquareFeet>19000</SquareFeet><Brands>3</Brands><Internet>DSL</Internet><NumberEmployees>13</NumberEmployees></StoreSurvey>",
         "2b37636b-b111-414f-ad38-25c3d407b501",
         "2014-09-12"
        ],
        [
         1446,
         "Curbside Sporting Goods",
         281,
         "<StoreSurvey xmlns=\"http://schemas.microsoft.com/sqlserver/2004/07/adventure-works/StoreSurvey\"><AnnualSales>800000</AnnualSales><AnnualRevenue>80000</AnnualRevenue><BankName>International Bank</BankName><BusinessType>BS</BusinessType><YearOpened>1972</YearOpened><Specialty>Road</Specialty><SquareFeet>20000</SquareFeet><Brands>3</Brands><Internet>DSL</Internet><NumberEmployees>10</NumberEmployees></StoreSurvey>",
         "3ee65eec-4abf-48b2-82b6-5b368c1bb84e",
         "2014-09-12"
        ],
        [
         1448,
         "Friendly Neighborhood Bikes",
         277,
         "<StoreSurvey xmlns=\"http://schemas.microsoft.com/sqlserver/2004/07/adventure-works/StoreSurvey\"><AnnualSales>1000000</AnnualSales><AnnualRevenue>100000</AnnualRevenue><BankName>United Security</BankName><BusinessType>BS</BusinessType><YearOpened>1998</YearOpened><Specialty>Mountain</Specialty><SquareFeet>28000</SquareFeet><Brands>4+</Brands><Internet>DSL</Internet><NumberEmployees>27</NumberEmployees></StoreSurvey>",
         "a9849c81-88bc-49a9-9584-78634aea3681",
         "2014-09-12"
        ],
        [
         1450,
         "Guaranteed Sales and Service",
         275,
         "<StoreSurvey xmlns=\"http://schemas.microsoft.com/sqlserver/2004/07/adventure-works/StoreSurvey\"><AnnualSales>1000000</AnnualSales><AnnualRevenue>100000</AnnualRevenue><BankName>International Bank</BankName><BusinessType>BS</BusinessType><YearOpened>1971</YearOpened><Specialty>Road</Specialty><SquareFeet>28000</SquareFeet><Brands>4+</Brands><Internet>T1</Internet><NumberEmployees>28</NumberEmployees></StoreSurvey>",
         "e0e88a9e-eac4-4e30-8072-534c4c4ac250",
         "2014-09-12"
        ],
        [
         1452,
         "Preferable Bikes",
         286,
         "<StoreSurvey xmlns=\"http://schemas.microsoft.com/sqlserver/2004/07/adventure-works/StoreSurvey\"><AnnualSales>1000000</AnnualSales><AnnualRevenue>100000</AnnualRevenue><BankName>Primary Bank &amp; Reserve</BankName><BusinessType>BS</BusinessType><YearOpened>2001</YearOpened><Specialty>Touring</Specialty><SquareFeet>24000</SquareFeet><Brands>4+</Brands><Internet>DSL</Internet><NumberEmployees>29</NumberEmployees></StoreSurvey>",
         "0ff9a129-cad9-4a94-9a92-a08461903579",
         "2014-09-12"
        ],
        [
         1454,
         "Recommended Bicycles",
         278,
         "<StoreSurvey xmlns=\"http://schemas.microsoft.com/sqlserver/2004/07/adventure-works/StoreSurvey\"><AnnualSales>1500000</AnnualSales><AnnualRevenue>150000</AnnualRevenue><BankName>International Security</BankName><BusinessType>BS</BusinessType><YearOpened>1996</YearOpened><Specialty>Road</Specialty><SquareFeet>35000</SquareFeet><Brands>4+</Brands><Internet>DSL</Internet><NumberEmployees>30</NumberEmployees></StoreSurvey>",
         "f00bfda2-17eb-4b77-ba24-4443e1da8360",
         "2014-09-12"
        ],
        [
         1456,
         "Sunny Place Bikes",
         279,
         "<StoreSurvey xmlns=\"http://schemas.microsoft.com/sqlserver/2004/07/adventure-works/StoreSurvey\"><AnnualSales>1500000</AnnualSales><AnnualRevenue>150000</AnnualRevenue><BankName>Guardian Bank</BankName><BusinessType>BS</BusinessType><YearOpened>1990</YearOpened><Specialty>Road</Specialty><SquareFeet>39000</SquareFeet><Brands>4+</Brands><Internet>DSL</Internet><NumberEmployees>31</NumberEmployees></StoreSurvey>",
         "b07b4a19-8960-4a16-914c-b516cb49cce0",
         "2014-09-12"
        ],
        [
         1458,
         "Alpine Ski House",
         276,
         "<StoreSurvey xmlns=\"http://schemas.microsoft.com/sqlserver/2004/07/adventure-works/StoreSurvey\"><AnnualSales>1500000</AnnualSales><AnnualRevenue>150000</AnnualRevenue><BankName>Primary International</BankName><BusinessType>BS</BusinessType><YearOpened>1984</YearOpened><Specialty>Road</Specialty><SquareFeet>37000</SquareFeet><Brands>2</Brands><Internet>DSL</Internet><NumberEmployees>32</NumberEmployees></StoreSurvey>",
         "a05e0815-2d28-45e6-91e5-ff8053433ebf",
         "2014-09-12"
        ],
        [
         1460,
         "Cycles and Scooters",
         279,
         "<StoreSurvey xmlns=\"http://schemas.microsoft.com/sqlserver/2004/07/adventure-works/StoreSurvey\"><AnnualSales>1500000</AnnualSales><AnnualRevenue>150000</AnnualRevenue><BankName>Reserve Security</BankName><BusinessType>BS</BusinessType><YearOpened>1978</YearOpened><Specialty>Road</Specialty><SquareFeet>35000</SquareFeet><Brands>4+</Brands><Internet>T1</Internet><NumberEmployees>33</NumberEmployees></StoreSurvey>",
         "30141da2-7560-44cb-97a9-02c8857c7079",
         "2014-09-12"
        ],
        [
         1462,
         "Small Bike Accessories Shop",
         275,
         "<StoreSurvey xmlns=\"http://schemas.microsoft.com/sqlserver/2004/07/adventure-works/StoreSurvey\"><AnnualSales>1500000</AnnualSales><AnnualRevenue>150000</AnnualRevenue><BankName>United Security</BankName><BusinessType>BS</BusinessType><YearOpened>1972</YearOpened><Specialty>Touring</Specialty><SquareFeet>37000</SquareFeet><Brands>3</Brands><Internet>T2</Internet><NumberEmployees>34</NumberEmployees></StoreSurvey>",
         "0ab43663-3a2d-4234-b2ab-04b18376d857",
         "2014-09-12"
        ],
        [
         1464,
         "List Price Catalog Company",
         286,
         "<StoreSurvey xmlns=\"http://schemas.microsoft.com/sqlserver/2004/07/adventure-works/StoreSurvey\"><AnnualSales>1500000</AnnualSales><AnnualRevenue>150000</AnnualRevenue><BankName>International Bank</BankName><BusinessType>BS</BusinessType><YearOpened>1988</YearOpened><Specialty>Touring</Specialty><SquareFeet>37000</SquareFeet><Brands>3</Brands><Internet>DSL</Internet><NumberEmployees>35</NumberEmployees></StoreSurvey>",
         "ba90930e-259d-4bfe-b558-de00867a4247",
         "2014-09-12"
        ],
        [
         1466,
         "Seats and Saddles Company",
         278,
         "<StoreSurvey xmlns=\"http://schemas.microsoft.com/sqlserver/2004/07/adventure-works/StoreSurvey\"><AnnualSales>1500000</AnnualSales><AnnualRevenue>150000</AnnualRevenue><BankName>Primary Bank &amp; Reserve</BankName><BusinessType>BS</BusinessType><YearOpened>1976</YearOpened><Specialty>Mountain</Specialty><SquareFeet>38000</SquareFeet><Brands>4+</Brands><Internet>DSL</Internet><NumberEmployees>36</NumberEmployees></StoreSurvey>",
         "2316f0f6-acf4-4458-9538-74f842c88d11",
         "2014-09-12"
        ],
        [
         1468,
         "Village Tours",
         279,
         "<StoreSurvey xmlns=\"http://schemas.microsoft.com/sqlserver/2004/07/adventure-works/StoreSurvey\"><AnnualSales>1500000</AnnualSales><AnnualRevenue>150000</AnnualRevenue><BankName>International Security</BankName><BusinessType>BS</BusinessType><YearOpened>1971</YearOpened><Specialty>Mountain</Specialty><SquareFeet>40000</SquareFeet><Brands>3</Brands><Internet>ISDN</Internet><NumberEmployees>37</NumberEmployees></StoreSurvey>",
         "96a94727-d9cc-4596-a196-f48d0932f5cc",
         "2014-09-12"
        ],
        [
         1470,
         "All Cycle Shop",
         280,
         "<StoreSurvey xmlns=\"http://schemas.microsoft.com/sqlserver/2004/07/adventure-works/StoreSurvey\"><AnnualSales>1000000</AnnualSales><AnnualRevenue>100000</AnnualRevenue><BankName>Primary International</BankName><BusinessType>BS</BusinessType><YearOpened>1998</YearOpened><Specialty>Mountain</Specialty><SquareFeet>25000</SquareFeet><Brands>3</Brands><Internet>DSL</Internet><NumberEmployees>27</NumberEmployees></StoreSurvey>",
         "c5b62e91-9344-4622-b360-8a1c3101535c",
         "2014-09-12"
        ],
        [
         1472,
         "Tachometers and Accessories",
         289,
         "<StoreSurvey xmlns=\"http://schemas.microsoft.com/sqlserver/2004/07/adventure-works/StoreSurvey\"><AnnualSales>1000000</AnnualSales><AnnualRevenue>100000</AnnualRevenue><BankName>Reserve Security</BankName><BusinessType>BS</BusinessType><YearOpened>1971</YearOpened><Specialty>Mountain</Specialty><SquareFeet>25000</SquareFeet><Brands>4+</Brands><Internet>DSL</Internet><NumberEmployees>28</NumberEmployees></StoreSurvey>",
         "9e86d886-ae40-492a-960c-376f1102aa68",
         "2014-09-12"
        ],
        [
         1474,
         "Cycles Sales and Repair",
         290,
         "<StoreSurvey xmlns=\"http://schemas.microsoft.com/sqlserver/2004/07/adventure-works/StoreSurvey\"><AnnualSales>1000000</AnnualSales><AnnualRevenue>100000</AnnualRevenue><BankName>United Security</BankName><BusinessType>BS</BusinessType><YearOpened>2001</YearOpened><Specialty>Touring</Specialty><SquareFeet>26000</SquareFeet><Brands>3</Brands><Internet>T1</Internet><NumberEmployees>29</NumberEmployees></StoreSurvey>",
         "29d20006-51cb-491d-bba5-d126f15062af",
         "2014-09-12"
        ],
        [
         1476,
         "Low Price Cycles",
         282,
         "<StoreSurvey xmlns=\"http://schemas.microsoft.com/sqlserver/2004/07/adventure-works/StoreSurvey\"><AnnualSales>1500000</AnnualSales><AnnualRevenue>150000</AnnualRevenue><BankName>International Bank</BankName><BusinessType>BS</BusinessType><YearOpened>1996</YearOpened><Specialty>Mountain</Specialty><SquareFeet>36000</SquareFeet><Brands>4+</Brands><Internet>DSL</Internet><NumberEmployees>30</NumberEmployees></StoreSurvey>",
         "47c198f4-09ed-4826-b43b-7cf4ac53d6bf",
         "2014-09-12"
        ],
        [
         1478,
         "Metropolitan Manufacturing",
         281,
         "<StoreSurvey xmlns=\"http://schemas.microsoft.com/sqlserver/2004/07/adventure-works/StoreSurvey\"><AnnualSales>1500000</AnnualSales><AnnualRevenue>150000</AnnualRevenue><BankName>Primary Bank &amp; Reserve</BankName><BusinessType>BS</BusinessType><YearOpened>1990</YearOpened><Specialty>Road</Specialty><SquareFeet>39000</SquareFeet><Brands>4+</Brands><Internet>DSL</Internet><NumberEmployees>31</NumberEmployees></StoreSurvey>",
         "76c1b6ab-0697-4636-b65e-b4c66fd9af60",
         "2014-09-12"
        ],
        [
         1480,
         "Orange Bicycle Company",
         277,
         "<StoreSurvey xmlns=\"http://schemas.microsoft.com/sqlserver/2004/07/adventure-works/StoreSurvey\"><AnnualSales>1500000</AnnualSales><AnnualRevenue>150000</AnnualRevenue><BankName>International Security</BankName><BusinessType>BS</BusinessType><YearOpened>1984</YearOpened><Specialty>Road</Specialty><SquareFeet>37000</SquareFeet><Brands>4+</Brands><Internet>T1</Internet><NumberEmployees>32</NumberEmployees></StoreSurvey>",
         "094a64bd-0f6e-4a78-977c-3ee38b1fa993",
         "2014-09-12"
        ],
        [
         1482,
         "Riding Associates",
         280,
         "<StoreSurvey xmlns=\"http://schemas.microsoft.com/sqlserver/2004/07/adventure-works/StoreSurvey\"><AnnualSales>1500000</AnnualSales><AnnualRevenue>150000</AnnualRevenue><BankName>Guardian Bank</BankName><BusinessType>BS</BusinessType><YearOpened>1978</YearOpened><Specialty>Mountain</Specialty><SquareFeet>36000</SquareFeet><Brands>4+</Brands><Internet>DSL</Internet><NumberEmployees>33</NumberEmployees></StoreSurvey>",
         "5ccdbdc8-55f8-4b22-b24d-0f58db098e0b",
         "2014-09-12"
        ],
        [
         1484,
         "Essential Bike Works",
         289,
         "<StoreSurvey xmlns=\"http://schemas.microsoft.com/sqlserver/2004/07/adventure-works/StoreSurvey\"><AnnualSales>1500000</AnnualSales><AnnualRevenue>150000</AnnualRevenue><BankName>Primary International</BankName><BusinessType>BS</BusinessType><YearOpened>1972</YearOpened><Specialty>Road</Specialty><SquareFeet>39000</SquareFeet><Brands>4+</Brands><Internet>DSL</Internet><NumberEmployees>34</NumberEmployees></StoreSurvey>",
         "18887cc9-a503-4f5c-b054-fb6ccdf9f56d",
         "2014-09-12"
        ],
        [
         1486,
         "Rural Mountain Bike Mart",
         290,
         "<StoreSurvey xmlns=\"http://schemas.microsoft.com/sqlserver/2004/07/adventure-works/StoreSurvey\"><AnnualSales>1500000</AnnualSales><AnnualRevenue>150000</AnnualRevenue><BankName>Reserve Security</BankName><BusinessType>BS</BusinessType><YearOpened>1988</YearOpened><Specialty>Road</Specialty><SquareFeet>39000</SquareFeet><Brands>4+</Brands><Internet>T1</Internet><NumberEmployees>35</NumberEmployees></StoreSurvey>",
         "7df7c186-7e2a-4bce-9ea2-5d42abf2fb7b",
         "2014-09-12"
        ],
        [
         1488,
         "City Cycling",
         282,
         "<StoreSurvey xmlns=\"http://schemas.microsoft.com/sqlserver/2004/07/adventure-works/StoreSurvey\"><AnnualSales>1500000</AnnualSales><AnnualRevenue>150000</AnnualRevenue><BankName>United Security</BankName><BusinessType>BS</BusinessType><YearOpened>1976</YearOpened><Specialty>Road</Specialty><SquareFeet>37000</SquareFeet><Brands>2</Brands><Internet>T1</Internet><NumberEmployees>36</NumberEmployees></StoreSurvey>",
         "7d7911cf-c5dc-4d89-a503-7377a84cb3d9",
         "2014-09-12"
        ],
        [
         1490,
         "Engineered Bike Systems",
         281,
         "<StoreSurvey xmlns=\"http://schemas.microsoft.com/sqlserver/2004/07/adventure-works/StoreSurvey\"><AnnualSales>1500000</AnnualSales><AnnualRevenue>150000</AnnualRevenue><BankName>International Bank</BankName><BusinessType>BS</BusinessType><YearOpened>1971</YearOpened><Specialty>Touring</Specialty><SquareFeet>40000</SquareFeet><Brands>4+</Brands><Internet>T2</Internet><NumberEmployees>37</NumberEmployees></StoreSurvey>",
         "28a52834-6069-473e-b547-fc8b4b04c0c9",
         "2014-09-12"
        ],
        [
         1796,
         "Professional Containers and Packaging Co.",
         281,
         "<StoreSurvey xmlns=\"http://schemas.microsoft.com/sqlserver/2004/07/adventure-works/StoreSurvey\"><AnnualSales>1500000</AnnualSales><AnnualRevenue>150000</AnnualRevenue><BankName>International Security</BankName><BusinessType>BS</BusinessType><YearOpened>1997</YearOpened><Specialty>Mountain</Specialty><SquareFeet>38000</SquareFeet><Brands>4+</Brands><Internet>DSL</Internet><NumberEmployees>46</NumberEmployees></StoreSurvey>",
         "57e8e5c9-7a01-485e-ae4b-48dcb41a0dc2",
         "2014-09-12"
        ],
        [
         1798,
         "One Bike Company",
         282,
         "<StoreSurvey xmlns=\"http://schemas.microsoft.com/sqlserver/2004/07/adventure-works/StoreSurvey\"><AnnualSales>1500000</AnnualSales><AnnualRevenue>150000</AnnualRevenue><BankName>Primary Bank &amp; Reserve</BankName><BusinessType>BS</BusinessType><YearOpened>1989</YearOpened><Specialty>Mountain</Specialty><SquareFeet>41000</SquareFeet><Brands>3</Brands><Internet>DSL</Internet><NumberEmployees>49</NumberEmployees></StoreSurvey>",
         "4317b79b-6640-4ec3-8353-1370a12633a5",
         "2014-09-12"
        ],
        [
         1800,
         "Hiatus Bike Tours",
         290,
         "<StoreSurvey xmlns=\"http://schemas.microsoft.com/sqlserver/2004/07/adventure-works/StoreSurvey\"><AnnualSales>1500000</AnnualSales><AnnualRevenue>150000</AnnualRevenue><BankName>International Bank</BankName><BusinessType>BS</BusinessType><YearOpened>1994</YearOpened><Specialty>Touring</Specialty><SquareFeet>40000</SquareFeet><Brands>2</Brands><Internet>T2</Internet><NumberEmployees>48</NumberEmployees></StoreSurvey>",
         "c838b0d9-14ea-4019-b010-5bbef2b43862",
         "2014-09-12"
        ],
        [
         1802,
         "Cycling Goods",
         289,
         "<StoreSurvey xmlns=\"http://schemas.microsoft.com/sqlserver/2004/07/adventure-works/StoreSurvey\"><AnnualSales>1500000</AnnualSales><AnnualRevenue>150000</AnnualRevenue><BankName>United Security</BankName><BusinessType>BS</BusinessType><YearOpened>1986</YearOpened><Specialty>Road</Specialty><SquareFeet>37000</SquareFeet><Brands>4+</Brands><Internet>DSL</Internet><NumberEmployees>47</NumberEmployees></StoreSurvey>",
         "5aef8ade-bd2a-4012-9766-71b2147d5d35",
         "2014-09-12"
        ],
        [
         1804,
         "Cycle Clearance",
         280,
         "<StoreSurvey xmlns=\"http://schemas.microsoft.com/sqlserver/2004/07/adventure-works/StoreSurvey\"><AnnualSales>1500000</AnnualSales><AnnualRevenue>150000</AnnualRevenue><BankName>Reserve Security</BankName><BusinessType>BS</BusinessType><YearOpened>1991</YearOpened><Specialty>Touring</Specialty><SquareFeet>40000</SquareFeet><Brands>2</Brands><Internet>T1</Internet><NumberEmployees>46</NumberEmployees></StoreSurvey>",
         "7f2c3ab3-97ca-46ba-820e-a03f59ec842d",
         "2014-09-12"
        ],
        [
         1806,
         "Black Bicycle Company",
         277,
         "<StoreSurvey xmlns=\"http://schemas.microsoft.com/sqlserver/2004/07/adventure-works/StoreSurvey\"><AnnualSales>1500000</AnnualSales><AnnualRevenue>150000</AnnualRevenue><BankName>Primary International</BankName><BusinessType>BS</BusinessType><YearOpened>1983</YearOpened><Specialty>Mountain</Specialty><SquareFeet>40000</SquareFeet><Brands>4+</Brands><Internet>DSL</Internet><NumberEmployees>45</NumberEmployees></StoreSurvey>",
         "b67e6fd5-2918-4100-82a8-e004da0ddb35",
         "2014-09-12"
        ],
        [
         1808,
         "Transport Bikes",
         281,
         "<StoreSurvey xmlns=\"http://schemas.microsoft.com/sqlserver/2004/07/adventure-works/StoreSurvey\"><AnnualSales>1500000</AnnualSales><AnnualRevenue>150000</AnnualRevenue><BankName>Guardian Bank</BankName><BusinessType>BS</BusinessType><YearOpened>1988</YearOpened><Specialty>Touring</Specialty><SquareFeet>41000</SquareFeet><Brands>3</Brands><Internet>ISDN</Internet><NumberEmployees>44</NumberEmployees></StoreSurvey>",
         "8317603a-1c85-40fd-a106-b5c591042ea3",
         "2014-09-12"
        ],
        [
         1810,
         "Sellers of Cycles",
         280,
         "<StoreSurvey xmlns=\"http://schemas.microsoft.com/sqlserver/2004/07/adventure-works/StoreSurvey\"><AnnualSales>1500000</AnnualSales><AnnualRevenue>150000</AnnualRevenue><BankName>International Security</BankName><BusinessType>BS</BusinessType><YearOpened>1980</YearOpened><Specialty>Road</Specialty><SquareFeet>37000</SquareFeet><Brands>4+</Brands><Internet>DSL</Internet><NumberEmployees>43</NumberEmployees></StoreSurvey>",
         "3818af93-b4da-49ce-968e-672059b77bed",
         "2014-09-12"
        ],
        [
         1812,
         "Maintenance and Repair for Bicycles",
         277,
         "<StoreSurvey xmlns=\"http://schemas.microsoft.com/sqlserver/2004/07/adventure-works/StoreSurvey\"><AnnualSales>1500000</AnnualSales><AnnualRevenue>150000</AnnualRevenue><BankName>Primary Bank &amp; Reserve</BankName><BusinessType>BS</BusinessType><YearOpened>1985</YearOpened><Specialty>Touring</Specialty><SquareFeet>41000</SquareFeet><Brands>4+</Brands><Internet>DSL</Internet><NumberEmployees>42</NumberEmployees></StoreSurvey>",
         "060163f2-6e85-4473-b0fc-c2ef091c057d",
         "2014-09-12"
        ],
        [
         1814,
         "Fitness Department Stores",
         281,
         "<StoreSurvey xmlns=\"http://schemas.microsoft.com/sqlserver/2004/07/adventure-works/StoreSurvey\"><AnnualSales>1500000</AnnualSales><AnnualRevenue>150000</AnnualRevenue><BankName>International Bank</BankName><BusinessType>BS</BusinessType><YearOpened>1977</YearOpened><Specialty>Touring</Specialty><SquareFeet>37000</SquareFeet><Brands>3</Brands><Internet>T2</Internet><NumberEmployees>41</NumberEmployees></StoreSurvey>",
         "02f5437e-f74e-4f8b-92ee-f129c8ac0986",
         "2014-09-12"
        ],
        [
         1816,
         "Famous Bike Shop",
         278,
         "<StoreSurvey xmlns=\"http://schemas.microsoft.com/sqlserver/2004/07/adventure-works/StoreSurvey\"><AnnualSales>1500000</AnnualSales><AnnualRevenue>150000</AnnualRevenue><BankName>United Security</BankName><BusinessType>BS</BusinessType><YearOpened>1982</YearOpened><Specialty>Mountain</Specialty><SquareFeet>37000</SquareFeet><Brands>4+</Brands><Internet>DSL</Internet><NumberEmployees>40</NumberEmployees></StoreSurvey>",
         "0e7982ee-ce33-404c-b7db-36f78da457eb",
         "2014-09-12"
        ],
        [
         1818,
         "Eastward Bike Accessories",
         286,
         "<StoreSurvey xmlns=\"http://schemas.microsoft.com/sqlserver/2004/07/adventure-works/StoreSurvey\"><AnnualSales>1500000</AnnualSales><AnnualRevenue>150000</AnnualRevenue><BankName>Reserve Security</BankName><BusinessType>BS</BusinessType><YearOpened>1974</YearOpened><Specialty>Touring</Specialty><SquareFeet>39000</SquareFeet><Brands>3</Brands><Internet>DSL</Internet><NumberEmployees>39</NumberEmployees></StoreSurvey>",
         "11108d11-d7ab-49f8-824b-d4e5d4341570",
         "2014-09-12"
        ],
        [
         1820,
         "Strong Metal Manufacturing",
         275,
         "<StoreSurvey xmlns=\"http://schemas.microsoft.com/sqlserver/2004/07/adventure-works/StoreSurvey\"><AnnualSales>1500000</AnnualSales><AnnualRevenue>150000</AnnualRevenue><BankName>Primary International</BankName><BusinessType>BS</BusinessType><YearOpened>1979</YearOpened><Specialty>Road</Specialty><SquareFeet>36000</SquareFeet><Brands>4+</Brands><Internet>DSL</Internet><NumberEmployees>38</NumberEmployees></StoreSurvey>",
         "f844dffd-c87f-4dd4-b82b-e27fd5b50372",
         "2014-09-12"
        ],
        [
         1822,
         "Gift and Toy Store",
         277,
         "<StoreSurvey xmlns=\"http://schemas.microsoft.com/sqlserver/2004/07/adventure-works/StoreSurvey\"><AnnualSales>1500000</AnnualSales><AnnualRevenue>150000</AnnualRevenue><BankName>Guardian Bank</BankName><BusinessType>BS</BusinessType><YearOpened>1971</YearOpened><Specialty>Road</Specialty><SquareFeet>36000</SquareFeet><Brands>4+</Brands><Internet>DSL</Internet><NumberEmployees>37</NumberEmployees></StoreSurvey>",
         "0ab1bbf2-d910-4baf-b8e4-1977cc0fbcbb",
         "2014-09-12"
        ],
        [
         1824,
         "Major Sporting Goods",
         276,
         "<StoreSurvey xmlns=\"http://schemas.microsoft.com/sqlserver/2004/07/adventure-works/StoreSurvey\"><AnnualSales>1500000</AnnualSales><AnnualRevenue>150000</AnnualRevenue><BankName>International Security</BankName><BusinessType>BS</BusinessType><YearOpened>1976</YearOpened><Specialty>Road</Specialty><SquareFeet>40000</SquareFeet><Brands>4+</Brands><Internet>DSL</Internet><NumberEmployees>36</NumberEmployees></StoreSurvey>",
         "9fc444e5-c1bc-42b2-8656-2e6c96f32920",
         "2014-09-12"
        ],
        [
         1826,
         "Executive Discount Store",
         279,
         "<StoreSurvey xmlns=\"http://schemas.microsoft.com/sqlserver/2004/07/adventure-works/StoreSurvey\"><AnnualSales>1500000</AnnualSales><AnnualRevenue>150000</AnnualRevenue><BankName>Primary Bank &amp; Reserve</BankName><BusinessType>BS</BusinessType><YearOpened>1988</YearOpened><Specialty>Road</Specialty><SquareFeet>39000</SquareFeet><Brands>4+</Brands><Internet>T1</Internet><NumberEmployees>35</NumberEmployees></StoreSurvey>",
         "a2ab0a56-0e6f-4786-b122-3a2fb52ce2ef",
         "2014-09-12"
        ],
        [
         1828,
         "Major Cycling",
         282,
         "<StoreSurvey xmlns=\"http://schemas.microsoft.com/sqlserver/2004/07/adventure-works/StoreSurvey\"><AnnualSales>3000000</AnnualSales><AnnualRevenue>300000</AnnualRevenue><BankName>International Security</BankName><BusinessType>OS</BusinessType><YearOpened>1995</YearOpened><Specialty>Road</Specialty><SquareFeet>77000</SquareFeet><Brands>2</Brands><Internet>T2</Internet><NumberEmployees>79</NumberEmployees></StoreSurvey>",
         "2f45bf63-26c3-43e5-adae-486a0fa6d41f",
         "2014-09-12"
        ],
        [
         1830,
         "Getaway Inn",
         290,
         "<StoreSurvey xmlns=\"http://schemas.microsoft.com/sqlserver/2004/07/adventure-works/StoreSurvey\"><AnnualSales>3000000</AnnualSales><AnnualRevenue>300000</AnnualRevenue><BankName>Primary Bank &amp; Reserve</BankName><BusinessType>OS</BusinessType><YearOpened>1987</YearOpened><Specialty>Road</Specialty><SquareFeet>75000</SquareFeet><Brands>4+</Brands><Internet>T1</Internet><NumberEmployees>80</NumberEmployees></StoreSurvey>",
         "64f9ef4b-475a-4cfa-a816-e0e66856cc5f",
         "2014-09-12"
        ],
        [
         1832,
         "Downhill Bicycle Specialists",
         289,
         "<StoreSurvey xmlns=\"http://schemas.microsoft.com/sqlserver/2004/07/adventure-works/StoreSurvey\"><AnnualSales>3000000</AnnualSales><AnnualRevenue>300000</AnnualRevenue><BankName>International Bank</BankName><BusinessType>OS</BusinessType><YearOpened>1992</YearOpened><Specialty>Mountain</Specialty><SquareFeet>77000</SquareFeet><Brands>2</Brands><Internet>DSL</Internet><NumberEmployees>81</NumberEmployees></StoreSurvey>",
         "161b1bb9-5afb-47b2-b1ad-45bf03ba6520",
         "2014-09-12"
        ],
        [
         1834,
         "Bike Experts",
         280,
         "<StoreSurvey xmlns=\"http://schemas.microsoft.com/sqlserver/2004/07/adventure-works/StoreSurvey\"><AnnualSales>3000000</AnnualSales><AnnualRevenue>300000</AnnualRevenue><BankName>United Security</BankName><BusinessType>OS</BusinessType><YearOpened>1984</YearOpened><Specialty>Mountain</Specialty><SquareFeet>73000</SquareFeet><Brands>4+</Brands><Internet>DSL</Internet><NumberEmployees>82</NumberEmployees></StoreSurvey>",
         "639bbc3a-d30b-4456-a2fd-cb740884e939",
         "2014-09-12"
        ],
        [
         1836,
         "Extraordinary Bike Works",
         277,
         "<StoreSurvey xmlns=\"http://schemas.microsoft.com/sqlserver/2004/07/adventure-works/StoreSurvey\"><AnnualSales>3000000</AnnualSales><AnnualRevenue>300000</AnnualRevenue><BankName>Reserve Security</BankName><BusinessType>OS</BusinessType><YearOpened>1989</YearOpened><Specialty>Mountain</Specialty><SquareFeet>75000</SquareFeet><Brands>2</Brands><Internet>T2</Internet><NumberEmployees>83</NumberEmployees></StoreSurvey>",
         "d8f8e7f3-9acf-4f4b-8327-293b7a7943b3",
         "2014-09-12"
        ],
        [
         1838,
         "Valley Bicycle Distributors",
         281,
         "<StoreSurvey xmlns=\"http://schemas.microsoft.com/sqlserver/2004/07/adventure-works/StoreSurvey\"><AnnualSales>3000000</AnnualSales><AnnualRevenue>300000</AnnualRevenue><BankName>Primary International</BankName><BusinessType>OS</BusinessType><YearOpened>1981</YearOpened><Specialty>Road</Specialty><SquareFeet>76000</SquareFeet><Brands>4+</Brands><Internet>DSL</Internet><NumberEmployees>84</NumberEmployees></StoreSurvey>",
         "db88da40-586e-4429-af8d-2148a59b93a6",
         "2014-09-12"
        ],
        [
         1840,
         "Top Sports Supply",
         282,
         "<StoreSurvey xmlns=\"http://schemas.microsoft.com/sqlserver/2004/07/adventure-works/StoreSurvey\"><AnnualSales>3000000</AnnualSales><AnnualRevenue>300000</AnnualRevenue><BankName>Guardian Bank</BankName><BusinessType>OS</BusinessType><YearOpened>1986</YearOpened><Specialty>Mountain</Specialty><SquareFeet>78000</SquareFeet><Brands>3</Brands><Internet>DSL</Internet><NumberEmployees>85</NumberEmployees></StoreSurvey>",
         "20d63e3e-5631-4118-9712-1171aa5a0357",
         "2014-09-12"
        ],
        [
         1842,
         "Racing Sales and Service",
         290,
         "<StoreSurvey xmlns=\"http://schemas.microsoft.com/sqlserver/2004/07/adventure-works/StoreSurvey\"><AnnualSales>3000000</AnnualSales><AnnualRevenue>300000</AnnualRevenue><BankName>International Security</BankName><BusinessType>OS</BusinessType><YearOpened>1978</YearOpened><Specialty>Road</Specialty><SquareFeet>77000</SquareFeet><Brands>3</Brands><Internet>DSL</Internet><NumberEmployees>86</NumberEmployees></StoreSurvey>",
         "cdd163a9-dc42-44b4-ba95-b5de845813e4",
         "2014-09-12"
        ],
        [
         1844,
         "Metropolitan Bicycle Supply",
         289,
         "<StoreSurvey xmlns=\"http://schemas.microsoft.com/sqlserver/2004/07/adventure-works/StoreSurvey\"><AnnualSales>3000000</AnnualSales><AnnualRevenue>300000</AnnualRevenue><BankName>Primary Bank &amp; Reserve</BankName><BusinessType>OS</BusinessType><YearOpened>1983</YearOpened><Specialty>Mountain</Specialty><SquareFeet>78000</SquareFeet><Brands>4+</Brands><Internet>DSL</Internet><NumberEmployees>87</NumberEmployees></StoreSurvey>",
         "bf60e1dd-fe8b-4d6f-bd43-dcec43504357",
         "2014-09-12"
        ],
        [
         1846,
         "Honest Repair Service",
         280,
         "<StoreSurvey xmlns=\"http://schemas.microsoft.com/sqlserver/2004/07/adventure-works/StoreSurvey\"><AnnualSales>3000000</AnnualSales><AnnualRevenue>300000</AnnualRevenue><BankName>International Bank</BankName><BusinessType>OS</BusinessType><YearOpened>1975</YearOpened><Specialty>Touring</Specialty><SquareFeet>77000</SquareFeet><Brands>3</Brands><Internet>DSL</Internet><NumberEmployees>88</NumberEmployees></StoreSurvey>",
         "ea9914d7-5fc2-4f73-9483-95cbad7408a7",
         "2014-09-12"
        ],
        [
         1848,
         "Designer Department Stores",
         277,
         "<StoreSurvey xmlns=\"http://schemas.microsoft.com/sqlserver/2004/07/adventure-works/StoreSurvey\"><AnnualSales>3000000</AnnualSales><AnnualRevenue>300000</AnnualRevenue><BankName>United Security</BankName><BusinessType>OS</BusinessType><YearOpened>1980</YearOpened><Specialty>Road</Specialty><SquareFeet>74000</SquareFeet><Brands>3</Brands><Internet>T2</Internet><NumberEmployees>89</NumberEmployees></StoreSurvey>",
         "8689142f-784a-4e36-acc4-87346be7da38",
         "2014-09-12"
        ],
        [
         1850,
         "Wheel Gallery",
         281,
         "<StoreSurvey xmlns=\"http://schemas.microsoft.com/sqlserver/2004/07/adventure-works/StoreSurvey\"><AnnualSales>3000000</AnnualSales><AnnualRevenue>300000</AnnualRevenue><BankName>Reserve Security</BankName><BusinessType>OS</BusinessType><YearOpened>1972</YearOpened><Specialty>Road</Specialty><SquareFeet>79000</SquareFeet><Brands>2</Brands><Internet>DSL</Internet><NumberEmployees>90</NumberEmployees></StoreSurvey>",
         "7ef9c12f-21f8-46c6-b18d-e073e1a2a5f3",
         "2014-09-12"
        ],
        [
         1852,
         "Top Bike Market",
         278,
         "<StoreSurvey xmlns=\"http://schemas.microsoft.com/sqlserver/2004/07/adventure-works/StoreSurvey\"><AnnualSales>3000000</AnnualSales><AnnualRevenue>300000</AnnualRevenue><BankName>International Bank</BankName><BusinessType>OS</BusinessType><YearOpened>1987</YearOpened><Specialty>Touring</Specialty><SquareFeet>75000</SquareFeet><Brands>3</Brands><Internet>T1</Internet><NumberEmployees>80</NumberEmployees></StoreSurvey>",
         "5555020a-f026-41f8-924f-4180974f39eb",
         "2014-09-12"
        ],
        [
         1854,
         "Region Bike Company",
         286,
         "<StoreSurvey xmlns=\"http://schemas.microsoft.com/sqlserver/2004/07/adventure-works/StoreSurvey\"><AnnualSales>3000000</AnnualSales><AnnualRevenue>300000</AnnualRevenue><BankName>United Security</BankName><BusinessType>OS</BusinessType><YearOpened>1992</YearOpened><Specialty>Road</Specialty><SquareFeet>75000</SquareFeet><Brands>2</Brands><Internet>DSL</Internet><NumberEmployees>81</NumberEmployees></StoreSurvey>",
         "1d393e58-5467-4529-be25-52f1eb28ba12",
         "2014-09-12"
        ],
        [
         1856,
         "Grown-up Bike Store",
         275,
         "<StoreSurvey xmlns=\"http://schemas.microsoft.com/sqlserver/2004/07/adventure-works/StoreSurvey\"><AnnualSales>3000000</AnnualSales><AnnualRevenue>300000</AnnualRevenue><BankName>Reserve Security</BankName><BusinessType>OS</BusinessType><YearOpened>1984</YearOpened><Specialty>Mountain</Specialty><SquareFeet>75000</SquareFeet><Brands>3</Brands><Internet>DSL</Internet><NumberEmployees>82</NumberEmployees></StoreSurvey>",
         "5ae09d08-49d1-46bf-9219-bf9874cb1992",
         "2014-09-12"
        ],
        [
         1858,
         "Bicycle Lines Distributors",
         277,
         "<StoreSurvey xmlns=\"http://schemas.microsoft.com/sqlserver/2004/07/adventure-works/StoreSurvey\"><AnnualSales>3000000</AnnualSales><AnnualRevenue>300000</AnnualRevenue><BankName>Primary International</BankName><BusinessType>OS</BusinessType><YearOpened>1989</YearOpened><Specialty>Mountain</Specialty><SquareFeet>77000</SquareFeet><Brands>3</Brands><Internet>DSL</Internet><NumberEmployees>83</NumberEmployees></StoreSurvey>",
         "ede264f5-0931-4e4b-b447-5c0add3aba5d",
         "2014-09-12"
        ],
        [
         1860,
         "Sparkling Paint and Finishes",
         276,
         "<StoreSurvey xmlns=\"http://schemas.microsoft.com/sqlserver/2004/07/adventure-works/StoreSurvey\"><AnnualSales>3000000</AnnualSales><AnnualRevenue>300000</AnnualRevenue><BankName>Guardian Bank</BankName><BusinessType>OS</BusinessType><YearOpened>1981</YearOpened><Specialty>Mountain</Specialty><SquareFeet>76000</SquareFeet><Brands>2</Brands><Internet>DSL</Internet><NumberEmployees>84</NumberEmployees></StoreSurvey>",
         "b84ba799-82a1-45ea-94fe-63bbe36f1d2d",
         "2014-09-12"
        ],
        [
         1862,
         "Racing Association",
         279,
         "<StoreSurvey xmlns=\"http://schemas.microsoft.com/sqlserver/2004/07/adventure-works/StoreSurvey\"><AnnualSales>3000000</AnnualSales><AnnualRevenue>300000</AnnualRevenue><BankName>International Security</BankName><BusinessType>OS</BusinessType><YearOpened>1986</YearOpened><Specialty>Road</Specialty><SquareFeet>76000</SquareFeet><Brands>3</Brands><Internet>T1</Internet><NumberEmployees>85</NumberEmployees></StoreSurvey>",
         "f2b788db-35c9-4f0f-a282-4983bbcb8eac",
         "2014-09-12"
        ],
        [
         1864,
         "Plastic Parts Company",
         278,
         "<StoreSurvey xmlns=\"http://schemas.microsoft.com/sqlserver/2004/07/adventure-works/StoreSurvey\"><AnnualSales>3000000</AnnualSales><AnnualRevenue>300000</AnnualRevenue><BankName>Primary Bank &amp; Reserve</BankName><BusinessType>OS</BusinessType><YearOpened>1978</YearOpened><Specialty>Mountain</Specialty><SquareFeet>76000</SquareFeet><Brands>4+</Brands><Internet>DSL</Internet><NumberEmployees>86</NumberEmployees></StoreSurvey>",
         "ce201239-6a87-4995-a399-2ee197df8d0f",
         "2014-09-12"
        ],
        [
         1866,
         "Gears and Parts Company",
         286,
         "<StoreSurvey xmlns=\"http://schemas.microsoft.com/sqlserver/2004/07/adventure-works/StoreSurvey\"><AnnualSales>3000000</AnnualSales><AnnualRevenue>300000</AnnualRevenue><BankName>International Bank</BankName><BusinessType>OS</BusinessType><YearOpened>1983</YearOpened><Specialty>Touring</Specialty><SquareFeet>74000</SquareFeet><Brands>2</Brands><Internet>T1</Internet><NumberEmployees>87</NumberEmployees></StoreSurvey>",
         "8fc966e0-ad57-4b20-b4fd-f03da9bb9ccb",
         "2014-09-12"
        ],
        [
         1868,
         "Executive Gift Store",
         275,
         "<StoreSurvey xmlns=\"http://schemas.microsoft.com/sqlserver/2004/07/adventure-works/StoreSurvey\"><AnnualSales>3000000</AnnualSales><AnnualRevenue>300000</AnnualRevenue><BankName>United Security</BankName><BusinessType>OS</BusinessType><YearOpened>1975</YearOpened><Specialty>Mountain</Specialty><SquareFeet>76000</SquareFeet><Brands>3</Brands><Internet>DSL</Internet><NumberEmployees>88</NumberEmployees></StoreSurvey>",
         "2387a2b5-33ea-4e68-8a92-11c251f92280",
         "2014-09-12"
        ],
        [
         1870,
         "Big Cycle Mall",
         277,
         "<StoreSurvey xmlns=\"http://schemas.microsoft.com/sqlserver/2004/07/adventure-works/StoreSurvey\"><AnnualSales>3000000</AnnualSales><AnnualRevenue>300000</AnnualRevenue><BankName>Reserve Security</BankName><BusinessType>OS</BusinessType><YearOpened>1980</YearOpened><Specialty>Touring</Specialty><SquareFeet>77000</SquareFeet><Brands>4+</Brands><Internet>DSL</Internet><NumberEmployees>89</NumberEmployees></StoreSurvey>",
         "17fa0e6e-9ef9-4574-9338-d0610acfd99a",
         "2014-09-12"
        ],
        [
         1872,
         "Budget Bike Company",
         279,
         "<StoreSurvey xmlns=\"http://schemas.microsoft.com/sqlserver/2004/07/adventure-works/StoreSurvey\"><AnnualSales>800000</AnnualSales><AnnualRevenue>80000</AnnualRevenue><BankName>International Bank</BankName><BusinessType>BM</BusinessType><YearOpened>1997</YearOpened><Specialty>Road</Specialty><SquareFeet>22000</SquareFeet><Brands>AW</Brands><Internet>ISDN</Internet><NumberEmployees>18</NumberEmployees></StoreSurvey>",
         "a954dc6d-de84-4eb7-b23b-120571fdfde8",
         "2014-09-12"
        ],
        [
         1874,
         "Eighth Bike Store",
         281,
         "<StoreSurvey xmlns=\"http://schemas.microsoft.com/sqlserver/2004/07/adventure-works/StoreSurvey\"><AnnualSales>800000</AnnualSales><AnnualRevenue>80000</AnnualRevenue><BankName>Primary Bank &amp; Reserve</BankName><BusinessType>BM</BusinessType><YearOpened>1975</YearOpened><Specialty>Touring</Specialty><SquareFeet>21000</SquareFeet><Brands>3</Brands><Internet>T2</Internet><NumberEmployees>19</NumberEmployees></StoreSurvey>",
         "311afc6c-933d-41b8-83b8-51551f1d8ff0",
         "2014-09-12"
        ],
        [
         1876,
         "Demand Distributors",
         283,
         "<StoreSurvey xmlns=\"http://schemas.microsoft.com/sqlserver/2004/07/adventure-works/StoreSurvey\"><AnnualSales>1000000</AnnualSales><AnnualRevenue>100000</AnnualRevenue><BankName>International Security</BankName><BusinessType>BM</BusinessType><YearOpened>2000</YearOpened><Specialty>Road</Specialty><SquareFeet>24000</SquareFeet><Brands>4+</Brands><Internet>T1</Internet><NumberEmployees>20</NumberEmployees></StoreSurvey>",
         "b34e161a-8ed8-4e28-a86c-200ce4704883",
         "2014-09-12"
        ],
        [
         1878,
         "Immediate Repair Shop",
         275,
         "<StoreSurvey xmlns=\"http://schemas.microsoft.com/sqlserver/2004/07/adventure-works/StoreSurvey\"><AnnualSales>800000</AnnualSales><AnnualRevenue>80000</AnnualRevenue><BankName>Guardian Bank</BankName><BusinessType>BM</BusinessType><YearOpened>2000</YearOpened><Specialty>Mountain</Specialty><SquareFeet>22000</SquareFeet><Brands>4+</Brands><Internet>T2</Internet><NumberEmployees>17</NumberEmployees></StoreSurvey>",
         "0c2d39a6-b731-4d81-8253-85a0d25acd25",
         "2014-09-12"
        ],
        [
         1880,
         "Off-Price Bike Center",
         288,
         "<StoreSurvey xmlns=\"http://schemas.microsoft.com/sqlserver/2004/07/adventure-works/StoreSurvey\"><AnnualSales>800000</AnnualSales><AnnualRevenue>80000</AnnualRevenue><BankName>Primary International</BankName><BusinessType>BM</BusinessType><YearOpened>1994</YearOpened><Specialty>Touring</Specialty><SquareFeet>22000</SquareFeet><Brands>4+</Brands><Internet>T1</Internet><NumberEmployees>14</NumberEmployees></StoreSurvey>",
         "0bd08a52-187e-42bb-8a1c-2ac8971bfa12",
         "2014-09-12"
        ],
        [
         1882,
         "Red Bicycle Company",
         282,
         "<StoreSurvey xmlns=\"http://schemas.microsoft.com/sqlserver/2004/07/adventure-works/StoreSurvey\"><AnnualSales>800000</AnnualSales><AnnualRevenue>80000</AnnualRevenue><BankName>Reserve Security</BankName><BusinessType>BM</BusinessType><YearOpened>1988</YearOpened><Specialty>Mountain</Specialty><SquareFeet>18000</SquareFeet><Brands>3</Brands><Internet>DSL</Internet><NumberEmployees>11</NumberEmployees></StoreSurvey>",
         "b8e6ef57-7087-4b21-9636-0e657902714e",
         "2014-09-12"
        ],
        [
         1884,
         "Retirement Activities Association",
         279,
         "<StoreSurvey xmlns=\"http://schemas.microsoft.com/sqlserver/2004/07/adventure-works/StoreSurvey\"><AnnualSales>300000</AnnualSales><AnnualRevenue>30000</AnnualRevenue><BankName>United Security</BankName><BusinessType>BM</BusinessType><YearOpened>1982</YearOpened><Specialty>Road</Specialty><SquareFeet>11000</SquareFeet><Brands>4+</Brands><Internet>T1</Internet><NumberEmployees>8</NumberEmployees></StoreSurvey>",
         "acdca9a3-f6f2-4e09-a9af-61f6b9834595",
         "2014-09-12"
        ],
        [
         1886,
         "Trendy Department Stores",
         281,
         "<StoreSurvey xmlns=\"http://schemas.microsoft.com/sqlserver/2004/07/adventure-works/StoreSurvey\"><AnnualSales>300000</AnnualSales><AnnualRevenue>30000</AnnualRevenue><BankName>International Bank</BankName><BusinessType>BM</BusinessType><YearOpened>1976</YearOpened><Specialty>Touring</Specialty><SquareFeet>9000</SquareFeet><Brands>AW</Brands><Internet>DSL</Internet><NumberEmployees>5</NumberEmployees></StoreSurvey>",
         "5f8c35a3-92f4-4979-a838-5b93c221b9df",
         "2014-09-12"
        ],
        [
         1888,
         "Vintage Sport Boutique",
         283,
         "<StoreSurvey xmlns=\"http://schemas.microsoft.com/sqlserver/2004/07/adventure-works/StoreSurvey\"><AnnualSales>300000</AnnualSales><AnnualRevenue>30000</AnnualRevenue><BankName>Primary Bank &amp; Reserve</BankName><BusinessType>BM</BusinessType><YearOpened>1970</YearOpened><Specialty>Touring</Specialty><SquareFeet>9000</SquareFeet><Brands>AW</Brands><Internet>DSL</Internet><NumberEmployees>2</NumberEmployees></StoreSurvey>",
         "6d6e4980-1732-4c6f-9045-31c3e1c75abb",
         "2014-09-12"
        ],
        [
         1890,
         "Travel Sports",
         280,
         "<StoreSurvey xmlns=\"http://schemas.microsoft.com/sqlserver/2004/07/adventure-works/StoreSurvey\"><AnnualSales>800000</AnnualSales><AnnualRevenue>80000</AnnualRevenue><BankName>United Security</BankName><BusinessType>BM</BusinessType><YearOpened>1997</YearOpened><Specialty>Mountain</Specialty><SquareFeet>18000</SquareFeet><Brands>4+</Brands><Internet>DSL</Internet><NumberEmployees>17</NumberEmployees></StoreSurvey>",
         "5e8bf52b-d5c7-49ab-bc10-ddced8cf5dda",
         "2014-09-12"
        ],
        [
         1892,
         "West Side Mart",
         289,
         "<StoreSurvey xmlns=\"http://schemas.microsoft.com/sqlserver/2004/07/adventure-works/StoreSurvey\"><AnnualSales>800000</AnnualSales><AnnualRevenue>80000</AnnualRevenue><BankName>International Bank</BankName><BusinessType>BM</BusinessType><YearOpened>1975</YearOpened><Specialty>Touring</Specialty><SquareFeet>19000</SquareFeet><Brands>3</Brands><Internet>DSL</Internet><NumberEmployees>18</NumberEmployees></StoreSurvey>",
         "ac3c4acf-213f-4bcd-9778-dca173060cc0",
         "2014-09-12"
        ],
        [
         1894,
         "The Bike Outlet",
         290,
         "<StoreSurvey xmlns=\"http://schemas.microsoft.com/sqlserver/2004/07/adventure-works/StoreSurvey\"><AnnualSales>800000</AnnualSales><AnnualRevenue>80000</AnnualRevenue><BankName>Primary Bank &amp; Reserve</BankName><BusinessType>BM</BusinessType><YearOpened>2000</YearOpened><Specialty>Touring</Specialty><SquareFeet>21000</SquareFeet><Brands>2</Brands><Internet>T1</Internet><NumberEmployees>19</NumberEmployees></StoreSurvey>",
         "9a11a00b-06e6-4e9b-a7d7-69fd4045f80e",
         "2014-09-12"
        ],
        [
         1896,
         "Tenth Bike Store",
         282,
         "<StoreSurvey xmlns=\"http://schemas.microsoft.com/sqlserver/2004/07/adventure-works/StoreSurvey\"><AnnualSales>800000</AnnualSales><AnnualRevenue>80000</AnnualRevenue><BankName>International Bank</BankName><BusinessType>BM</BusinessType><YearOpened>1994</YearOpened><Specialty>Road</Specialty><SquareFeet>23000</SquareFeet><Brands>4+</Brands><Internet>DSL</Internet><NumberEmployees>18</NumberEmployees></StoreSurvey>",
         "66b28442-b5d7-4332-9ef2-e89221fdbb9b",
         "2014-09-12"
        ],
        [
         1898,
         "Valuable Bike Parts Company",
         279,
         "<StoreSurvey xmlns=\"http://schemas.microsoft.com/sqlserver/2004/07/adventure-works/StoreSurvey\"><AnnualSales>800000</AnnualSales><AnnualRevenue>80000</AnnualRevenue><BankName>Primary Bank &amp; Reserve</BankName><BusinessType>BM</BusinessType><YearOpened>1988</YearOpened><Specialty>Mountain</Specialty><SquareFeet>20000</SquareFeet><Brands>2</Brands><Internet>DSL</Internet><NumberEmployees>16</NumberEmployees></StoreSurvey>",
         "3e4f1b95-2189-4ee2-a882-749a904b1dfa",
         "2014-09-12"
        ],
        [
         1900,
         "Fun Times Club",
         281,
         "<StoreSurvey xmlns=\"http://schemas.microsoft.com/sqlserver/2004/07/adventure-works/StoreSurvey\"><AnnualSales>800000</AnnualSales><AnnualRevenue>80000</AnnualRevenue><BankName>International Security</BankName><BusinessType>BM</BusinessType><YearOpened>1982</YearOpened><Specialty>Road</Specialty><SquareFeet>22000</SquareFeet><Brands>3</Brands><Internet>DSL</Internet><NumberEmployees>14</NumberEmployees></StoreSurvey>",
         "2ae16c95-ed93-45e7-a3ab-3d4c60dfb9a9",
         "2014-09-12"
        ],
        [
         1902,
         "Chain and Chain Tool Distributions",
         279,
         "<StoreSurvey xmlns=\"http://schemas.microsoft.com/sqlserver/2004/07/adventure-works/StoreSurvey\"><AnnualSales>800000</AnnualSales><AnnualRevenue>80000</AnnualRevenue><BankName>Guardian Bank</BankName><BusinessType>BM</BusinessType><YearOpened>1976</YearOpened><Specialty>Road</Specialty><SquareFeet>20000</SquareFeet><Brands>3</Brands><Internet>DSL</Internet><NumberEmployees>12</NumberEmployees></StoreSurvey>",
         "4034b966-97e9-42f1-a475-406339846dc5",
         "2014-09-12"
        ],
        [
         1904,
         "Mobile Outlet",
         275,
         "<StoreSurvey xmlns=\"http://schemas.microsoft.com/sqlserver/2004/07/adventure-works/StoreSurvey\"><AnnualSales>800000</AnnualSales><AnnualRevenue>80000</AnnualRevenue><BankName>Primary International</BankName><BusinessType>BM</BusinessType><YearOpened>1970</YearOpened><Specialty>Road</Specialty><SquareFeet>17000</SquareFeet><Brands>2</Brands><Internet>T1</Internet><NumberEmployees>10</NumberEmployees></StoreSurvey>",
         "9acf0c46-95c0-40d3-b39e-44c548a7a8ab",
         "2014-09-12"
        ],
        [
         1906,
         "Regional Cycle Shop",
         288,
         "<StoreSurvey xmlns=\"http://schemas.microsoft.com/sqlserver/2004/07/adventure-works/StoreSurvey\"><AnnualSales>300000</AnnualSales><AnnualRevenue>30000</AnnualRevenue><BankName>Reserve Security</BankName><BusinessType>BM</BusinessType><YearOpened>1975</YearOpened><Specialty>Road</Specialty><SquareFeet>10000</SquareFeet><Brands>2</Brands><Internet>DSL</Internet><NumberEmployees>8</NumberEmployees></StoreSurvey>",
         "793a1b41-4b83-416b-853c-fb190b79728c",
         "2014-09-12"
        ],
        [
         1908,
         "Rural Bicycle Supply",
         282,
         "<StoreSurvey xmlns=\"http://schemas.microsoft.com/sqlserver/2004/07/adventure-works/StoreSurvey\"><AnnualSales>300000</AnnualSales><AnnualRevenue>30000</AnnualRevenue><BankName>United Security</BankName><BusinessType>BM</BusinessType><YearOpened>1970</YearOpened><Specialty>Mountain</Specialty><SquareFeet>10000</SquareFeet><Brands>4+</Brands><Internet>DSL</Internet><NumberEmployees>6</NumberEmployees></StoreSurvey>",
         "0f7aa600-6050-49ba-819d-30a7d3ab4b5b",
         "2014-09-12"
        ],
        [
         1910,
         "Wingtip Toys",
         283,
         "<StoreSurvey xmlns=\"http://schemas.microsoft.com/sqlserver/2004/07/adventure-works/StoreSurvey\"><AnnualSales>800000</AnnualSales><AnnualRevenue>80000</AnnualRevenue><BankName>International Bank</BankName><BusinessType>BM</BusinessType><YearOpened>1999</YearOpened><Specialty>Mountain</Specialty><SquareFeet>20000</SquareFeet><Brands>3</Brands><Internet>T1</Internet><NumberEmployees>15</NumberEmployees></StoreSurvey>",
         "23f57be6-5b8b-447b-ae0d-3a161c09a0ac",
         "2014-09-12"
        ],
        [
         1912,
         "The Cycle Store",
         275,
         "<StoreSurvey xmlns=\"http://schemas.microsoft.com/sqlserver/2004/07/adventure-works/StoreSurvey\"><AnnualSales>800000</AnnualSales><AnnualRevenue>80000</AnnualRevenue><BankName>Primary Bank &amp; Reserve</BankName><BusinessType>BM</BusinessType><YearOpened>1994</YearOpened><Specialty>Mountain</Specialty><SquareFeet>22000</SquareFeet><Brands>3</Brands><Internet>T1</Internet><NumberEmployees>16</NumberEmployees></StoreSurvey>",
         "3fce0ef1-27ca-48ee-9339-3523648400d1",
         "2014-09-12"
        ],
        [
         1914,
         "Educational Services",
         288,
         "<StoreSurvey xmlns=\"http://schemas.microsoft.com/sqlserver/2004/07/adventure-works/StoreSurvey\"><AnnualSales>800000</AnnualSales><AnnualRevenue>80000</AnnualRevenue><BankName>International Security</BankName><BusinessType>BM</BusinessType><YearOpened>1987</YearOpened><Specialty>Touring</Specialty><SquareFeet>19000</SquareFeet><Brands>2</Brands><Internet>DSL</Internet><NumberEmployees>17</NumberEmployees></StoreSurvey>",
         "74b0c415-ae1e-4fd1-985b-a62f7c378632",
         "2014-09-12"
        ],
        [
         1916,
         "Active Life Toys",
         282,
         "<StoreSurvey xmlns=\"http://schemas.microsoft.com/sqlserver/2004/07/adventure-works/StoreSurvey\"><AnnualSales>800000</AnnualSales><AnnualRevenue>80000</AnnualRevenue><BankName>Guardian Bank</BankName><BusinessType>BM</BusinessType><YearOpened>1997</YearOpened><Specialty>Road</Specialty><SquareFeet>20000</SquareFeet><Brands>4+</Brands><Internet>T1</Internet><NumberEmployees>18</NumberEmployees></StoreSurvey>",
         "0893dd3b-bd98-4820-aae6-ed7f8562d210",
         "2014-09-12"
        ],
        [
         1918,
         "Simple Bike Parts",
         279,
         "<StoreSurvey xmlns=\"http://schemas.microsoft.com/sqlserver/2004/07/adventure-works/StoreSurvey\"><AnnualSales>800000</AnnualSales><AnnualRevenue>80000</AnnualRevenue><BankName>Primary International</BankName><BusinessType>BM</BusinessType><YearOpened>1975</YearOpened><Specialty>Road</Specialty><SquareFeet>21000</SquareFeet><Brands>4+</Brands><Internet>DSL</Internet><NumberEmployees>19</NumberEmployees></StoreSurvey>",
         "608d52aa-1d0d-4d5d-a0a0-47f9977af2af",
         "2014-09-12"
        ],
        [
         1920,
         "Timely Shipping Service",
         281,
         "<StoreSurvey xmlns=\"http://schemas.microsoft.com/sqlserver/2004/07/adventure-works/StoreSurvey\"><AnnualSales>1000000</AnnualSales><AnnualRevenue>100000</AnnualRevenue><BankName>Reserve Security</BankName><BusinessType>BM</BusinessType><YearOpened>2000</YearOpened><Specialty>Mountain</Specialty><SquareFeet>24000</SquareFeet><Brands>2</Brands><Internet>T1</Internet><NumberEmployees>20</NumberEmployees></StoreSurvey>",
         "5b92790f-aa8b-4f60-8dc8-bc45bf25e4a6",
         "2014-09-12"
        ],
        [
         1922,
         "A Cycle Shop",
         283,
         "<StoreSurvey xmlns=\"http://schemas.microsoft.com/sqlserver/2004/07/adventure-works/StoreSurvey\"><AnnualSales>800000</AnnualSales><AnnualRevenue>80000</AnnualRevenue><BankName>United Security</BankName><BusinessType>BM</BusinessType><YearOpened>2000</YearOpened><Specialty>Touring</Specialty><SquareFeet>22000</SquareFeet><Brands>3</Brands><Internet>T2</Internet><NumberEmployees>17</NumberEmployees></StoreSurvey>",
         "d2a3db53-0901-4322-a7af-1cc77a7b1778",
         "2014-09-12"
        ],
        [
         1924,
         "Bike Products and Accessories",
         275,
         "<StoreSurvey xmlns=\"http://schemas.microsoft.com/sqlserver/2004/07/adventure-works/StoreSurvey\"><AnnualSales>800000</AnnualSales><AnnualRevenue>80000</AnnualRevenue><BankName>International Bank</BankName><BusinessType>BM</BusinessType><YearOpened>1994</YearOpened><Specialty>Mountain</Specialty><SquareFeet>19000</SquareFeet><Brands>AW</Brands><Internet>T2</Internet><NumberEmployees>14</NumberEmployees></StoreSurvey>",
         "7fb517f3-ecee-4451-9563-c95665a0b777",
         "2014-09-12"
        ],
        [
         1926,
         "Fitness Toys",
         288,
         "<StoreSurvey xmlns=\"http://schemas.microsoft.com/sqlserver/2004/07/adventure-works/StoreSurvey\"><AnnualSales>800000</AnnualSales><AnnualRevenue>80000</AnnualRevenue><BankName>Primary Bank &amp; Reserve</BankName><BusinessType>BM</BusinessType><YearOpened>1988</YearOpened><Specialty>Touring</Specialty><SquareFeet>21000</SquareFeet><Brands>2</Brands><Internet>T1</Internet><NumberEmployees>11</NumberEmployees></StoreSurvey>",
         "70cbfdc4-a8fe-4bdd-9571-8fc617bdfcb7",
         "2014-09-12"
        ],
        [
         1928,
         "Quick Parts and Service",
         278,
         "<StoreSurvey xmlns=\"http://schemas.microsoft.com/sqlserver/2004/07/adventure-works/StoreSurvey\"><AnnualSales>300000</AnnualSales><AnnualRevenue>30000</AnnualRevenue><BankName>International Security</BankName><BusinessType>BM</BusinessType><YearOpened>1984</YearOpened><Specialty>Touring</Specialty><SquareFeet>7000</SquareFeet><Brands>4+</Brands><Internet>DSL</Internet><NumberEmployees>5</NumberEmployees></StoreSurvey>",
         "638dfc4e-0c69-4538-8da8-7e82b1b7a9ce",
         "2014-09-12"
        ],
        [
         1930,
         "Reliable Brake Systems",
         279,
         "<StoreSurvey xmlns=\"http://schemas.microsoft.com/sqlserver/2004/07/adventure-works/StoreSurvey\"><AnnualSales>300000</AnnualSales><AnnualRevenue>30000</AnnualRevenue><BankName>Guardian Bank</BankName><BusinessType>BM</BusinessType><YearOpened>1979</YearOpened><Specialty>Mountain</Specialty><SquareFeet>7000</SquareFeet><Brands>3</Brands><Internet>DSL</Internet><NumberEmployees>6</NumberEmployees></StoreSurvey>",
         "e33ad5ac-f5ce-4070-bbf0-5f9d3d5dbefb",
         "2014-09-12"
        ],
        [
         1932,
         "Thrifty Parts and Sales",
         276,
         "<StoreSurvey xmlns=\"http://schemas.microsoft.com/sqlserver/2004/07/adventure-works/StoreSurvey\"><AnnualSales>300000</AnnualSales><AnnualRevenue>30000</AnnualRevenue><BankName>Primary International</BankName><BusinessType>BM</BusinessType><YearOpened>1987</YearOpened><Specialty>Road</Specialty><SquareFeet>8000</SquareFeet><Brands>2</Brands><Internet>DSL</Internet><NumberEmployees>7</NumberEmployees></StoreSurvey>",
         "b8862d14-e834-48e6-b0a6-643eb0b7900b",
         "2014-09-12"
        ],
        [
         1934,
         "A Typical Bike Shop",
         277,
         "<StoreSurvey xmlns=\"http://schemas.microsoft.com/sqlserver/2004/07/adventure-works/StoreSurvey\"><AnnualSales>300000</AnnualSales><AnnualRevenue>30000</AnnualRevenue><BankName>Reserve Security</BankName><BusinessType>BM</BusinessType><YearOpened>1982</YearOpened><Specialty>Road</Specialty><SquareFeet>8000</SquareFeet><Brands>AW</Brands><Internet>T1</Internet><NumberEmployees>8</NumberEmployees></StoreSurvey>",
         "68147f2d-51db-4ef8-8909-4d5951f18d0c",
         "2014-09-12"
        ],
        [
         1936,
         "Active Transport Inc.",
         275,
         "<StoreSurvey xmlns=\"http://schemas.microsoft.com/sqlserver/2004/07/adventure-works/StoreSurvey\"><AnnualSales>300000</AnnualSales><AnnualRevenue>30000</AnnualRevenue><BankName>United Security</BankName><BusinessType>BM</BusinessType><YearOpened>1990</YearOpened><Specialty>Road</Specialty><SquareFeet>8000</SquareFeet><Brands>AW</Brands><Internet>T2</Internet><NumberEmployees>9</NumberEmployees></StoreSurvey>",
         "08ace001-1d14-4fc9-ae2d-bc20edb2f9dc",
         "2014-09-12"
        ],
        [
         1938,
         "Cycle Parts and Accessories",
         286,
         "<StoreSurvey xmlns=\"http://schemas.microsoft.com/sqlserver/2004/07/adventure-works/StoreSurvey\"><AnnualSales>800000</AnnualSales><AnnualRevenue>80000</AnnualRevenue><BankName>International Bank</BankName><BusinessType>BM</BusinessType><YearOpened>1985</YearOpened><Specialty>Touring</Specialty><SquareFeet>20000</SquareFeet><Brands>3</Brands><Internet>T2</Internet><NumberEmployees>10</NumberEmployees></StoreSurvey>",
         "f2bbf7e1-a7eb-4966-bc17-64288e4568f6",
         "2014-09-12"
        ],
        [
         1940,
         "Fasteners & Bolts Outlet",
         278,
         "<StoreSurvey xmlns=\"http://schemas.microsoft.com/sqlserver/2004/07/adventure-works/StoreSurvey\"><AnnualSales>800000</AnnualSales><AnnualRevenue>80000</AnnualRevenue><BankName>Primary Bank &amp; Reserve</BankName><BusinessType>BM</BusinessType><YearOpened>1993</YearOpened><Specialty>Touring</Specialty><SquareFeet>18000</SquareFeet><Brands>4+</Brands><Internet>DSL</Internet><NumberEmployees>11</NumberEmployees></StoreSurvey>",
         "42ebcb9e-a948-46ad-b1e9-1ce6b3586670",
         "2014-09-12"
        ],
        [
         1942,
         "Functional Store North",
         279,
         "<StoreSurvey xmlns=\"http://schemas.microsoft.com/sqlserver/2004/07/adventure-works/StoreSurvey\"><AnnualSales>800000</AnnualSales><AnnualRevenue>80000</AnnualRevenue><BankName>International Security</BankName><BusinessType>BM</BusinessType><YearOpened>1988</YearOpened><Specialty>Mountain</Specialty><SquareFeet>19000</SquareFeet><Brands>3</Brands><Internet>DSL</Internet><NumberEmployees>12</NumberEmployees></StoreSurvey>",
         "33313e49-4158-4e04-acb3-9f6407b0eb02",
         "2014-09-12"
        ],
        [
         1944,
         "Quantity Discounts",
         276,
         "<StoreSurvey xmlns=\"http://schemas.microsoft.com/sqlserver/2004/07/adventure-works/StoreSurvey\"><AnnualSales>800000</AnnualSales><AnnualRevenue>80000</AnnualRevenue><BankName>Guardian Bank</BankName><BusinessType>BM</BusinessType><YearOpened>1996</YearOpened><Specialty>Road</Specialty><SquareFeet>19000</SquareFeet><Brands>3</Brands><Internet>DSL</Internet><NumberEmployees>13</NumberEmployees></StoreSurvey>",
         "7c2547ec-e661-4c36-bb47-51f57ac3dbc4",
         "2014-09-12"
        ],
        [
         1946,
         "Swift Cycles",
         277,
         "<StoreSurvey xmlns=\"http://schemas.microsoft.com/sqlserver/2004/07/adventure-works/StoreSurvey\"><AnnualSales>800000</AnnualSales><AnnualRevenue>80000</AnnualRevenue><BankName>Primary International</BankName><BusinessType>BM</BusinessType><YearOpened>1991</YearOpened><Specialty>Road</Specialty><SquareFeet>22000</SquareFeet><Brands>3</Brands><Internet>ISDN</Internet><NumberEmployees>14</NumberEmployees></StoreSurvey>",
         "c05a6203-36f7-4be4-92e6-e7cf57b838c3",
         "2014-09-12"
        ],
        [
         1948,
         "Classic Cycle Store",
         275,
         "<StoreSurvey xmlns=\"http://schemas.microsoft.com/sqlserver/2004/07/adventure-works/StoreSurvey\"><AnnualSales>800000</AnnualSales><AnnualRevenue>80000</AnnualRevenue><BankName>Reserve Security</BankName><BusinessType>BM</BusinessType><YearOpened>1999</YearOpened><Specialty>Mountain</Specialty><SquareFeet>22000</SquareFeet><Brands>2</Brands><Internet>DSL</Internet><NumberEmployees>15</NumberEmployees></StoreSurvey>",
         "966674c7-2048-4d9e-8a92-138e9b09030d",
         "2014-09-12"
        ],
        [
         1950,
         "Helpful Sales and Repair Service ",
         286,
         "<StoreSurvey xmlns=\"http://schemas.microsoft.com/sqlserver/2004/07/adventure-works/StoreSurvey\"><AnnualSales>800000</AnnualSales><AnnualRevenue>80000</AnnualRevenue><BankName>United Security</BankName><BusinessType>BM</BusinessType><YearOpened>1994</YearOpened><Specialty>Touring</Specialty><SquareFeet>19000</SquareFeet><Brands>4+</Brands><Internet>DSL</Internet><NumberEmployees>16</NumberEmployees></StoreSurvey>",
         "5b578c14-dcd2-4fa6-a64d-4f87f843722c",
         "2014-09-12"
        ],
        [
         1952,
         "Large Bike Shop",
         278,
         "<StoreSurvey xmlns=\"http://schemas.microsoft.com/sqlserver/2004/07/adventure-works/StoreSurvey\"><AnnualSales>800000</AnnualSales><AnnualRevenue>80000</AnnualRevenue><BankName>International Bank</BankName><BusinessType>BM</BusinessType><YearOpened>1987</YearOpened><Specialty>Mountain</Specialty><SquareFeet>19000</SquareFeet><Brands>4+</Brands><Internet>T1</Internet><NumberEmployees>17</NumberEmployees></StoreSurvey>",
         "8b1e2f28-a97f-4b3e-9130-ac855b3f8a42",
         "2014-09-12"
        ],
        [
         1954,
         "Recreation Supplies",
         279,
         "<StoreSurvey xmlns=\"http://schemas.microsoft.com/sqlserver/2004/07/adventure-works/StoreSurvey\"><AnnualSales>800000</AnnualSales><AnnualRevenue>80000</AnnualRevenue><BankName>Primary Bank &amp; Reserve</BankName><BusinessType>BM</BusinessType><YearOpened>1997</YearOpened><Specialty>Mountain</Specialty><SquareFeet>22000</SquareFeet><Brands>3</Brands><Internet>DSL</Internet><NumberEmployees>18</NumberEmployees></StoreSurvey>",
         "00e69db8-5933-4f61-a963-7808c4baf0c5",
         "2014-09-12"
        ],
        [
         1956,
         "Wire Baskets and Parts",
         276,
         "<StoreSurvey xmlns=\"http://schemas.microsoft.com/sqlserver/2004/07/adventure-works/StoreSurvey\"><AnnualSales>800000</AnnualSales><AnnualRevenue>80000</AnnualRevenue><BankName>International Security</BankName><BusinessType>BM</BusinessType><YearOpened>1975</YearOpened><Specialty>Road</Specialty><SquareFeet>19000</SquareFeet><Brands>4+</Brands><Internet>DSL</Internet><NumberEmployees>19</NumberEmployees></StoreSurvey>",
         "d8dca6ad-2529-469d-bb71-314f7a177e65",
         "2014-09-12"
        ],
        [
         1958,
         "Ultimate Bicycle Company",
         290,
         "<StoreSurvey xmlns=\"http://schemas.microsoft.com/sqlserver/2004/07/adventure-works/StoreSurvey\"><AnnualSales>3000000</AnnualSales><AnnualRevenue>300000</AnnualRevenue><BankName>International Security</BankName><BusinessType>OS</BusinessType><YearOpened>1974</YearOpened><Specialty>Mountain</Specialty><SquareFeet>78000</SquareFeet><Brands>2</Brands><Internet>T1</Internet><NumberEmployees>94</NumberEmployees></StoreSurvey>",
         "304c84b4-89a5-4b0f-8bbd-461e8c70c13c",
         "2014-09-12"
        ],
        [
         1960,
         "Sports Store",
         289,
         "<StoreSurvey xmlns=\"http://schemas.microsoft.com/sqlserver/2004/07/adventure-works/StoreSurvey\"><AnnualSales>3000000</AnnualSales><AnnualRevenue>300000</AnnualRevenue><BankName>Primary Bank &amp; Reserve</BankName><BusinessType>OS</BusinessType><YearOpened>1980</YearOpened><Specialty>Mountain</Specialty><SquareFeet>76000</SquareFeet><Brands>3</Brands><Internet>DSL</Internet><NumberEmployees>95</NumberEmployees></StoreSurvey>",
         "ff449303-a956-4800-ad4c-a7892235679c",
         "2014-09-12"
        ],
        [
         1962,
         "Metropolitan Equipment",
         290,
         "<StoreSurvey xmlns=\"http://schemas.microsoft.com/sqlserver/2004/07/adventure-works/StoreSurvey\"><AnnualSales>3000000</AnnualSales><AnnualRevenue>300000</AnnualRevenue><BankName>International Bank</BankName><BusinessType>OS</BusinessType><YearOpened>1986</YearOpened><Specialty>Road</Specialty><SquareFeet>78000</SquareFeet><Brands>2</Brands><Internet>DSL</Internet><NumberEmployees>96</NumberEmployees></StoreSurvey>",
         "32618f97-57c6-454a-a594-172076b0f52c",
         "2014-09-12"
        ],
        [
         1964,
         "Extended Tours",
         289,
         "<StoreSurvey xmlns=\"http://schemas.microsoft.com/sqlserver/2004/07/adventure-works/StoreSurvey\"><AnnualSales>3000000</AnnualSales><AnnualRevenue>300000</AnnualRevenue><BankName>United Security</BankName><BusinessType>OS</BusinessType><YearOpened>1992</YearOpened><Specialty>Road</Specialty><SquareFeet>78000</SquareFeet><Brands>4+</Brands><Internet>T1</Internet><NumberEmployees>97</NumberEmployees></StoreSurvey>",
         "993c0120-5e56-4ab8-9e1b-bf71be3b7faa",
         "2014-09-12"
        ],
        [
         1966,
         "Convenient Sales and Service",
         280,
         "<StoreSurvey xmlns=\"http://schemas.microsoft.com/sqlserver/2004/07/adventure-works/StoreSurvey\"><AnnualSales>3000000</AnnualSales><AnnualRevenue>300000</AnnualRevenue><BankName>Reserve Security</BankName><BusinessType>OS</BusinessType><YearOpened>1998</YearOpened><Specialty>Road</Specialty><SquareFeet>77000</SquareFeet><Brands>4+</Brands><Internet>T1</Internet><NumberEmployees>98</NumberEmployees></StoreSurvey>",
         "4a396e48-e3ff-4115-a0c6-51847e75adcf",
         "2014-09-12"
        ],
        [
         1968,
         "Solid Bike Parts",
         277,
         "<StoreSurvey xmlns=\"http://schemas.microsoft.com/sqlserver/2004/07/adventure-works/StoreSurvey\"><AnnualSales>3000000</AnnualSales><AnnualRevenue>300000</AnnualRevenue><BankName>Primary International</BankName><BusinessType>OS</BusinessType><YearOpened>1999</YearOpened><Specialty>Road</Specialty><SquareFeet>77000</SquareFeet><Brands>4+</Brands><Internet>DSL</Internet><NumberEmployees>99</NumberEmployees></StoreSurvey>",
         "5e7cb5e1-6651-49e6-a5cf-edf584f7ec92",
         "2014-09-12"
        ],
        [
         1970,
         "Permanent Finish Products",
         281,
         "<StoreSurvey xmlns=\"http://schemas.microsoft.com/sqlserver/2004/07/adventure-works/StoreSurvey\"><AnnualSales>3000000</AnnualSales><AnnualRevenue>300000</AnnualRevenue><BankName>Guardian Bank</BankName><BusinessType>OS</BusinessType><YearOpened>1999</YearOpened><Specialty>Mountain</Specialty><SquareFeet>79000</SquareFeet><Brands>4+</Brands><Internet>DSL</Internet><NumberEmployees>100</NumberEmployees></StoreSurvey>",
         "7c270785-2478-4e43-9681-ec76000f4881",
         "2014-09-12"
        ],
        [
         1972,
         "Mercantile Outlet",
         282,
         "<StoreSurvey xmlns=\"http://schemas.microsoft.com/sqlserver/2004/07/adventure-works/StoreSurvey\"><AnnualSales>3000000</AnnualSales><AnnualRevenue>300000</AnnualRevenue><BankName>International Security</BankName><BusinessType>OS</BusinessType><YearOpened>1979</YearOpened><Specialty>Mountain</Specialty><SquareFeet>71000</SquareFeet><Brands>4+</Brands><Internet>T1</Internet><NumberEmployees>66</NumberEmployees></StoreSurvey>",
         "27758a68-359b-4ea6-8689-5cb8b4a5f489",
         "2014-09-12"
        ],
        [
         1974,
         "Links Works",
         288,
         "<StoreSurvey xmlns=\"http://schemas.microsoft.com/sqlserver/2004/07/adventure-works/StoreSurvey\"><AnnualSales>1500000</AnnualSales><AnnualRevenue>150000</AnnualRevenue><BankName>Guardian Bank</BankName><BusinessType>OS</BusinessType><YearOpened>1974</YearOpened><Specialty>Mountain</Specialty><SquareFeet>39000</SquareFeet><Brands>2</Brands><Internet>DSL</Internet><NumberEmployees>40</NumberEmployees></StoreSurvey>",
         "6870f695-e4e4-453f-8ecc-0c1cb1c09a14",
         "2014-09-12"
        ],
        [
         1976,
         "Exhilarating Cycles",
         275,
         "<StoreSurvey xmlns=\"http://schemas.microsoft.com/sqlserver/2004/07/adventure-works/StoreSurvey\"><AnnualSales>1500000</AnnualSales><AnnualRevenue>150000</AnnualRevenue><BankName>International Security</BankName><BusinessType>OS</BusinessType><YearOpened>1980</YearOpened><Specialty>Road</Specialty><SquareFeet>40000</SquareFeet><Brands>3</Brands><Internet>T2</Internet><NumberEmployees>43</NumberEmployees></StoreSurvey>",
         "38f8bb38-28b7-42ef-a1ef-c66d247ecb59",
         "2014-09-12"
        ],
        [
         1978,
         "Exercise Center",
         281,
         "<StoreSurvey xmlns=\"http://schemas.microsoft.com/sqlserver/2004/07/adventure-works/StoreSurvey\"><AnnualSales>800000</AnnualSales><AnnualRevenue>80000</AnnualRevenue><BankName>Guardian Bank</BankName><BusinessType>BM</BusinessType><YearOpened>1975</YearOpened><Specialty>Mountain</Specialty><SquareFeet>23000</SquareFeet><Brands>2</Brands><Internet>T1</Internet><NumberEmployees>19</NumberEmployees></StoreSurvey>",
         "7f509b53-0c05-4d57-9596-6701191190da",
         "2014-09-12"
        ],
        [
         1980,
         "Great Bicycle Supply",
         277,
         "<StoreSurvey xmlns=\"http://schemas.microsoft.com/sqlserver/2004/07/adventure-works/StoreSurvey\"><AnnualSales>1000000</AnnualSales><AnnualRevenue>100000</AnnualRevenue><BankName>Primary International</BankName><BusinessType>BM</BusinessType><YearOpened>2000</YearOpened><Specialty>Mountain</Specialty><SquareFeet>27000</SquareFeet><Brands>4+</Brands><Internet>T1</Internet><NumberEmployees>20</NumberEmployees></StoreSurvey>",
         "dca3fda7-7276-45cf-a3ff-74eae11f6798",
         "2014-09-12"
        ],
        [
         1982,
         "Mail-Order Outlet",
         280,
         "<StoreSurvey xmlns=\"http://schemas.microsoft.com/sqlserver/2004/07/adventure-works/StoreSurvey\"><AnnualSales>800000</AnnualSales><AnnualRevenue>80000</AnnualRevenue><BankName>Reserve Security</BankName><BusinessType>BM</BusinessType><YearOpened>2000</YearOpened><Specialty>Road</Specialty><SquareFeet>18000</SquareFeet><Brands>4+</Brands><Internet>T1</Internet><NumberEmployees>17</NumberEmployees></StoreSurvey>",
         "a6644d71-94f1-4964-b258-9be80889f5df",
         "2014-09-12"
        ],
        [
         1984,
         "Nearby Cycle Shop",
         289,
         "<StoreSurvey xmlns=\"http://schemas.microsoft.com/sqlserver/2004/07/adventure-works/StoreSurvey\"><AnnualSales>800000</AnnualSales><AnnualRevenue>80000</AnnualRevenue><BankName>United Security</BankName><BusinessType>BM</BusinessType><YearOpened>1994</YearOpened><Specialty>Mountain</Specialty><SquareFeet>20000</SquareFeet><Brands>2</Brands><Internet>T1</Internet><NumberEmployees>14</NumberEmployees></StoreSurvey>",
         "a0670332-e61e-4ad6-8233-76a3dbbd514a",
         "2014-09-12"
        ],
        [
         1986,
         "Recreation Toy Store",
         290,
         "<StoreSurvey xmlns=\"http://schemas.microsoft.com/sqlserver/2004/07/adventure-works/StoreSurvey\"><AnnualSales>800000</AnnualSales><AnnualRevenue>80000</AnnualRevenue><BankName>International Bank</BankName><BusinessType>BM</BusinessType><YearOpened>1988</YearOpened><Specialty>Mountain</Specialty><SquareFeet>17000</SquareFeet><Brands>3</Brands><Internet>T1</Internet><NumberEmployees>11</NumberEmployees></StoreSurvey>",
         "77a34c42-6d04-406a-8dec-7928a48520ee",
         "2014-09-12"
        ],
        [
         1988,
         "Retreat Inn",
         282,
         "<StoreSurvey xmlns=\"http://schemas.microsoft.com/sqlserver/2004/07/adventure-works/StoreSurvey\"><AnnualSales>300000</AnnualSales><AnnualRevenue>30000</AnnualRevenue><BankName>Primary Bank &amp; Reserve</BankName><BusinessType>BM</BusinessType><YearOpened>1982</YearOpened><Specialty>Road</Specialty><SquareFeet>7000</SquareFeet><Brands>4+</Brands><Internet>T2</Internet><NumberEmployees>8</NumberEmployees></StoreSurvey>",
         "ea21ec81-1bfa-4a07-9b4d-73d9852afcbf",
         "2014-09-12"
        ],
        [
         1990,
         "Technical Parts Manufacturing",
         281,
         "<StoreSurvey xmlns=\"http://schemas.microsoft.com/sqlserver/2004/07/adventure-works/StoreSurvey\"><AnnualSales>300000</AnnualSales><AnnualRevenue>30000</AnnualRevenue><BankName>International Security</BankName><BusinessType>BM</BusinessType><YearOpened>1976</YearOpened><Specialty>Touring</Specialty><SquareFeet>7000</SquareFeet><Brands>4+</Brands><Internet>T1</Internet><NumberEmployees>5</NumberEmployees></StoreSurvey>",
         "c8e3c4ed-8f58-4db2-b600-e0cd11d9cfad",
         "2014-09-12"
        ],
        [
         1992,
         "Totes & Baskets Company",
         277,
         "<StoreSurvey xmlns=\"http://schemas.microsoft.com/sqlserver/2004/07/adventure-works/StoreSurvey\"><AnnualSales>300000</AnnualSales><AnnualRevenue>30000</AnnualRevenue><BankName>Guardian Bank</BankName><BusinessType>BM</BusinessType><YearOpened>1970</YearOpened><Specialty>Road</Specialty><SquareFeet>6000</SquareFeet><Brands>4+</Brands><Internet>DSL</Internet><NumberEmployees>2</NumberEmployees></StoreSurvey>",
         "ce860b58-643c-4567-bfd8-06e97969cc67",
         "2014-09-12"
        ],
        [
         1994,
         "World of Bikes",
         277,
         "<StoreSurvey xmlns=\"http://schemas.microsoft.com/sqlserver/2004/07/adventure-works/StoreSurvey\"><AnnualSales>800000</AnnualSales><AnnualRevenue>80000</AnnualRevenue><BankName>Primary Bank &amp; Reserve</BankName><BusinessType>BM</BusinessType><YearOpened>1997</YearOpened><Specialty>Mountain</Specialty><SquareFeet>19000</SquareFeet><Brands>4+</Brands><Internet>T1</Internet><NumberEmployees>17</NumberEmployees></StoreSurvey>",
         "0c10f2b6-a13a-440c-9c25-5b28d482872a",
         "2014-09-12"
        ],
        [
         2051,
         "A Bicycle Association",
         275,
         "<StoreSurvey xmlns=\"http://schemas.microsoft.com/sqlserver/2004/07/adventure-works/StoreSurvey\"><AnnualSales>800000</AnnualSales><AnnualRevenue>80000</AnnualRevenue><BankName>International Security</BankName><BusinessType>BM</BusinessType><YearOpened>1975</YearOpened><Specialty>Touring</Specialty><SquareFeet>19000</SquareFeet><Brands>2</Brands><Internet>T1</Internet><NumberEmployees>18</NumberEmployees></StoreSurvey>",
         "82237172-d3fe-4a95-82ef-636f655240ad",
         "2014-09-12"
        ]
       ],
       "datasetInfos": [],
       "dbfsResultPath": null,
       "isJsonSchema": true,
       "metadata": {},
       "overflow": false,
       "plotOptions": {
        "customPlotOptions": {},
        "displayType": "table",
        "pivotAggregation": null,
        "pivotColumns": null,
        "xColumns": null,
        "yColumns": null
       },
       "removedWidgets": [],
       "schema": [
        {
         "metadata": "{}",
         "name": "BusinessEntityID",
         "type": "\"integer\""
        },
        {
         "metadata": "{}",
         "name": "Name",
         "type": "\"string\""
        },
        {
         "metadata": "{}",
         "name": "SalesPersonID",
         "type": "\"integer\""
        },
        {
         "metadata": "{}",
         "name": "Demographics",
         "type": "\"string\""
        },
        {
         "metadata": "{}",
         "name": "rowguid",
         "type": "\"string\""
        },
        {
         "metadata": "{}",
         "name": "ModifiedDate",
         "type": "\"string\""
        }
       ],
       "type": "table"
      }
     },
     "output_type": "display_data"
    }
   ],
   "source": [
    "display(df)"
   ]
  },
  {
   "cell_type": "code",
   "execution_count": 0,
   "metadata": {
    "application/vnd.databricks.v1+cell": {
     "cellMetadata": {
      "byteLimit": 2048000,
      "rowLimit": 10000
     },
     "inputWidgets": {},
     "nuid": "3f55160f-c7fe-45aa-8b4b-e84a8b35a883",
     "showTitle": false,
     "title": ""
    }
   },
   "outputs": [
    {
     "output_type": "stream",
     "name": "stdout",
     "output_type": "stream",
     "text": [
      "Out[58]: <bound method DataFrame.printSchema of DataFrame[SalesTaxRateID: int, StateProvinceID: int, TaxType: int, TaxRate: decimal(10,4), Name: string, rowguid: string, ModifiedDate: timestamp]>"
     ]
    }
   ],
   "source": [
    "df_1.printSchema"
   ]
  },
  {
   "cell_type": "code",
   "execution_count": 0,
   "metadata": {
    "application/vnd.databricks.v1+cell": {
     "cellMetadata": {},
     "inputWidgets": {},
     "nuid": "aff348c7-fe9a-41fe-a046-ab505522e598",
     "showTitle": false,
     "title": ""
    }
   },
   "outputs": [],
   "source": [
    "for i in table_names:\n",
    "    path='/mnt/bronze/Sales/'+i+'/'+i+'.parquet'\n",
    "    df=spark.read.format('parquet').load(path)\n",
    "    df.na.drop()\n",
    "    "
   ]
  },
  {
   "cell_type": "code",
   "execution_count": 0,
   "metadata": {
    "application/vnd.databricks.v1+cell": {
     "cellMetadata": {},
     "inputWidgets": {},
     "nuid": "0824cdc8-7a03-46a5-a466-70b41c731d51",
     "showTitle": false,
     "title": ""
    }
   },
   "outputs": [],
   "source": []
  },
  {
   "cell_type": "code",
   "execution_count": 0,
   "metadata": {
    "application/vnd.databricks.v1+cell": {
     "cellMetadata": {},
     "inputWidgets": {},
     "nuid": "3d1b8d21-4e84-4ce6-828c-3ab78dc36d94",
     "showTitle": false,
     "title": ""
    }
   },
   "outputs": [],
   "source": []
  },
  {
   "cell_type": "code",
   "execution_count": 0,
   "metadata": {
    "application/vnd.databricks.v1+cell": {
     "cellMetadata": {},
     "inputWidgets": {},
     "nuid": "acb75b3a-dc99-4942-b27d-141aa0d86132",
     "showTitle": false,
     "title": ""
    }
   },
   "outputs": [],
   "source": []
  },
  {
   "cell_type": "code",
   "execution_count": 0,
   "metadata": {
    "application/vnd.databricks.v1+cell": {
     "cellMetadata": {},
     "inputWidgets": {},
     "nuid": "28c19497-ebc7-42ad-9945-29df68cd6480",
     "showTitle": false,
     "title": ""
    }
   },
   "outputs": [],
   "source": []
  },
  {
   "cell_type": "code",
   "execution_count": 0,
   "metadata": {
    "application/vnd.databricks.v1+cell": {
     "cellMetadata": {},
     "inputWidgets": {},
     "nuid": "f8b2eb44-445c-44fe-bd4e-71a5794b0250",
     "showTitle": false,
     "title": ""
    }
   },
   "outputs": [],
   "source": []
  },
  {
   "cell_type": "code",
   "execution_count": 0,
   "metadata": {
    "application/vnd.databricks.v1+cell": {
     "cellMetadata": {},
     "inputWidgets": {},
     "nuid": "a5e61a2a-b0d0-4fa6-afb5-9b9bc4819f3c",
     "showTitle": false,
     "title": ""
    }
   },
   "outputs": [],
   "source": []
  },
  {
   "cell_type": "code",
   "execution_count": 0,
   "metadata": {
    "application/vnd.databricks.v1+cell": {
     "cellMetadata": {},
     "inputWidgets": {},
     "nuid": "3692c32d-d03d-436d-8a6c-86bfd43a79ac",
     "showTitle": false,
     "title": ""
    }
   },
   "outputs": [],
   "source": []
  }
 ],
 "metadata": {
  "application/vnd.databricks.v1+notebook": {
   "dashboards": [],
   "language": "python",
   "notebookMetadata": {
    "mostRecentlyExecutedCommandWithImplicitDF": {
     "commandId": 1588408467061901,
     "dataframes": [
      "_sqldf"
     ]
    },
    "pythonIndentUnit": 4
   },
   "notebookName": "Azure DE Bronze to Silver",
   "widgets": {}
  }
 },
 "nbformat": 4,
 "nbformat_minor": 0
}
